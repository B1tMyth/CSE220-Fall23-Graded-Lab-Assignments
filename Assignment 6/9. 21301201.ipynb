{
  "cells": [
    {
      "cell_type": "markdown",
      "metadata": {},
      "source": [
        "#### Task 1-5: No issues. "
      ]
    },
    {
      "cell_type": "code",
      "execution_count": null,
      "metadata": {
        "colab": {
          "base_uri": "https://localhost:8080/"
        },
        "id": "WmJnYQZZA-Ma",
        "outputId": "a3905ddb-2aed-4afb-8331-ac3e8234fd14"
      },
      "outputs": [
        {
          "name": "stdout",
          "output_type": "stream",
          "text": [
            "Collecting fhm-unittest\n",
            "  Downloading fhm_unittest-1.0.1-py3-none-any.whl (2.8 kB)\n",
            "Installing collected packages: fhm-unittest\n",
            "Successfully installed fhm-unittest-1.0.1\n",
            "Collecting fuzzywuzzy\n",
            "  Downloading fuzzywuzzy-0.18.0-py2.py3-none-any.whl (18 kB)\n",
            "Installing collected packages: fuzzywuzzy\n",
            "Successfully installed fuzzywuzzy-0.18.0\n"
          ]
        },
        {
          "name": "stderr",
          "output_type": "stream",
          "text": [
            "/usr/local/lib/python3.10/dist-packages/fuzzywuzzy/fuzz.py:11: UserWarning: Using slow pure-python SequenceMatcher. Install python-Levenshtein to remove this warning\n",
            "  warnings.warn('Using slow pure-python SequenceMatcher. Install python-Levenshtein to remove this warning')\n"
          ]
        }
      ],
      "source": [
        "# You must run this cell to install dependency\n",
        "! pip3 install fhm-unittest\n",
        "! pip3 install fuzzywuzzy\n",
        "import fhm_unittest as unittest\n",
        "import numpy as np"
      ]
    },
    {
      "cell_type": "code",
      "execution_count": null,
      "metadata": {
        "id": "u5Pl-WJYmA9N"
      },
      "outputs": [],
      "source": [
        "import math\n",
        "\n",
        "class Node:\n",
        "  def __init__(self, elem, next = None):\n",
        "    self.elem = elem\n",
        "    self.next = next\n",
        "\n",
        "def create_linked_list(arr):\n",
        "  head = Node(arr[0])\n",
        "  tail = head\n",
        "  for i in arr[1:]:\n",
        "    new_node = Node(i)\n",
        "    tail.next = new_node\n",
        "    tail = new_node\n",
        "  return head"
      ]
    },
    {
      "cell_type": "code",
      "execution_count": null,
      "metadata": {
        "colab": {
          "base_uri": "https://localhost:8080/"
        },
        "id": "M9153fc2mBCL",
        "outputId": "a63dd430-dfc8-4811-e9a6-49e5f4046512"
      },
      "outputs": [
        {
          "name": "stdout",
          "output_type": "stream",
          "text": [
            "Sum of an array: 36\n",
            "Accepted\n"
          ]
        }
      ],
      "source": [
        "#TASK1(a)\n",
        "\n",
        "def recursive_sum(Array, i= 0):\n",
        "  if i< len(Array):\n",
        "    return Array[i] + recursive_sum(Array, i + 1)\n",
        "  return 0\n",
        "\n",
        "arr1 = np.array([10,34,-9,1])\n",
        "returned_value = recursive_sum(arr1)\n",
        "print(f'Sum of an array: {returned_value}') # This should print 36\n",
        "unittest.output_test(returned_value, 36)"
      ]
    },
    {
      "cell_type": "code",
      "execution_count": null,
      "metadata": {
        "colab": {
          "base_uri": "https://localhost:8080/"
        },
        "id": "-kiAAhOgmBe7",
        "outputId": "8c4a86d2-856d-448b-fde7-1616f1a1f29a"
      },
      "outputs": [
        {
          "name": "stdout",
          "output_type": "stream",
          "text": [
            "========1========\n",
            "9C6: 84\n",
            "Accepted\n",
            "========2========\n",
            "8C2: 28\n",
            "Accepted\n",
            "========3========\n",
            "48C1: 48\n",
            "Accepted\n"
          ]
        }
      ],
      "source": [
        "#TASK1(b)\n",
        "\n",
        "def N_Factorial(n):\n",
        "  if n== 0:\n",
        "    return 1\n",
        "  else:\n",
        "    return n * N_Factorial(n - 1)\n",
        "\n",
        "def R_Factorial(r):\n",
        "  if r== 0:\n",
        "    return 1\n",
        "  else:\n",
        "    return r * R_Factorial(r - 1)\n",
        "\n",
        "def nCr(n, r):\n",
        "  if n==r:\n",
        "    return 1\n",
        "  else:\n",
        "    return N_Factorial(n)//(R_Factorial(r)*N_Factorial(n-r))\n",
        "\n",
        "print('========1========')\n",
        "returned_value = nCr(9,6)\n",
        "print(f'9C6: {returned_value}') # This should print 84\n",
        "unittest.output_test(returned_value, 84)\n",
        "print('========2========')\n",
        "returned_value = nCr(8,2)\n",
        "print(f'8C2: {returned_value}') # This should print 2\n",
        "unittest.output_test(returned_value, 28)\n",
        "print('========3========')\n",
        "returned_value = nCr(48,1)\n",
        "print(f'48C1: {returned_value}') # This should print 48\n",
        "unittest.output_test(returned_value, 48)"
      ]
    },
    {
      "cell_type": "code",
      "execution_count": null,
      "metadata": {
        "colab": {
          "base_uri": "https://localhost:8080/"
        },
        "id": "-9aN7AKpmEGU",
        "outputId": "f03dd8d8-3753-4fd8-ef5c-0f86e99df59a"
      },
      "outputs": [
        {
          "name": "stdout",
          "output_type": "stream",
          "text": [
            "Number of Digits: 4\n",
            "Accepted\n"
          ]
        }
      ],
      "source": [
        "#TASK1(c)\n",
        "\n",
        "def count_digit_recursive(num):\n",
        "  if num> 0:\n",
        "    return 1 + count_digit_recursive(num//10)\n",
        "  else:\n",
        "    return 0\n",
        "\n",
        "returned_value = count_digit_recursive(7508)\n",
        "print(f'Number of Digits: {returned_value}') # This should print 4\n",
        "unittest.output_test(returned_value, 4)"
      ]
    },
    {
      "cell_type": "code",
      "execution_count": null,
      "metadata": {
        "colab": {
          "base_uri": "https://localhost:8080/"
        },
        "id": "nE2SpW0OmENN",
        "outputId": "813f6a43-170e-4d00-bfde-7113f0a0f61a"
      },
      "outputs": [
        {
          "name": "stdout",
          "output_type": "stream",
          "text": [
            "========1========\n",
            "Prime: True\n",
            "Accepted\n",
            "========2========\n",
            "Prime: False\n",
            "Accepted\n"
          ]
        }
      ],
      "source": [
        "#TASK1(d)\n",
        "\n",
        "def check_prime_recursive(num, i= 2):\n",
        "  if num== i:\n",
        "    return True\n",
        "  elif num> i:\n",
        "    if num%i!= 0:\n",
        "      return check_prime_recursive(num, i + 1)\n",
        "    else:\n",
        "      return False\n",
        "  else:\n",
        "    return False\n",
        "\n",
        "print('========1========')\n",
        "returned_value = check_prime_recursive(79)\n",
        "print(f'Prime: {returned_value}') # This should print True\n",
        "unittest.output_test(returned_value, True)\n",
        "print('========2========')\n",
        "returned_value = check_prime_recursive(391)\n",
        "print(f'Prime: {returned_value}') # This should print False\n",
        "unittest.output_test(returned_value, False)"
      ]
    },
    {
      "cell_type": "code",
      "execution_count": null,
      "metadata": {
        "colab": {
          "base_uri": "https://localhost:8080/"
        },
        "id": "BmVlHDG0mET9",
        "outputId": "2fd590a7-8b42-4b69-b544-20524cfba78d"
      },
      "outputs": [
        {
          "name": "stdout",
          "output_type": "stream",
          "text": [
            "Use of encoding function\n",
            "Hexadecimal Number: 7\n",
            "Hexadecimal Number: D\n",
            "========1========\n",
            "Hexadecimal Number: 4CE\n",
            "Accepted\n",
            "========2========\n",
            "Hexadecimal Number: 258\n",
            "Accepted\n"
          ]
        }
      ],
      "source": [
        "#TASK2(a)\n",
        "\n",
        "#you may use this for decimal to hexadecimal mapping of 0-15\n",
        "def encoding(dec_number): #0<=dec_number<=15\n",
        "  return '0123456789ABCDEF'[dec_number]\n",
        "\n",
        "def dec_to_hexa_recursive(num):\n",
        "  if num > 0:\n",
        "    remainder= num % 16\n",
        "    Hexa= encoding(remainder)\n",
        "    return dec_to_hexa_recursive(num//16) + Hexa\n",
        "  else:\n",
        "    return \"\"\n",
        "\n",
        "print('Use of encoding function')\n",
        "decimal_number = 7\n",
        "print(f'Hexadecimal Number: {encoding(decimal_number)}')\n",
        "decimal_number = 13\n",
        "print(f'Hexadecimal Number: {encoding(decimal_number)}')\n",
        "\n",
        "print('========1========')\n",
        "returned_value = dec_to_hexa_recursive(1230)\n",
        "print(f'Hexadecimal Number: {returned_value}') # This should print 4CE\n",
        "unittest.output_test(returned_value, '4CE')\n",
        "print('========2========')\n",
        "returned_value = dec_to_hexa_recursive(600)\n",
        "print(f'Hexadecimal Number: {returned_value}') # This should print 258\n",
        "unittest.output_test(returned_value, '258')"
      ]
    },
    {
      "cell_type": "code",
      "execution_count": null,
      "metadata": {
        "colab": {
          "base_uri": "https://localhost:8080/"
        },
        "id": "-nKPkT0ImEZ3",
        "outputId": "61c421fb-dcb9-469a-a361-e06738405f0a"
      },
      "outputs": [
        {
          "name": "stdout",
          "output_type": "stream",
          "text": [
            "========1========\n",
            "Same: True\n",
            "Accepted\n",
            "========2========\n",
            "Same: False\n",
            "Accepted\n"
          ]
        }
      ],
      "source": [
        "#TASK2(b)\n",
        "\n",
        "def compare_recursive(Tail, Array, i= 0):\n",
        "  if Tail!= None:\n",
        "    if Tail.elem== Array[i]:\n",
        "      return compare_recursive(Tail.next, Array, i + 1)\n",
        "    else:\n",
        "      return False\n",
        "  return True\n",
        "\n",
        "print('========1========')\n",
        "array = np.array([10, 11, 12, 13, 14])\n",
        "head = create_linked_list(np.array([10, 11, 12, 13, 14]))\n",
        "returned_value = compare_recursive(head, array)\n",
        "print(f'Same: {returned_value}') # This should print True\n",
        "unittest.output_test(returned_value, True)\n",
        "print('========2========')\n",
        "array = np.array([10, 11, 12, 13, 14])\n",
        "head = create_linked_list(np.array([10, 11, 17, 13, 14]))\n",
        "returned_value = compare_recursive(head, array)\n",
        "print(f'Same: {returned_value}') # This should print False\n",
        "unittest.output_test(returned_value, False)"
      ]
    },
    {
      "cell_type": "code",
      "execution_count": null,
      "metadata": {
        "colab": {
          "base_uri": "https://localhost:8080/"
        },
        "id": "1Xn7EWOZmEfr",
        "outputId": "6ff82176-7a65-48f6-e72a-24049d4956f1"
      },
      "outputs": [
        {
          "name": "stdout",
          "output_type": "stream",
          "text": [
            "e a u i u l f t b "
          ]
        }
      ],
      "source": [
        "#TASK2(c)\n",
        "\n",
        "def print_alphabets_recursive(Tail):\n",
        "  if Tail!= None:\n",
        "    if Tail.elem in 'aeiou':\n",
        "      print(Tail.elem, end= ' ')\n",
        "      print_alphabets_recursive(Tail.next)\n",
        "    else:\n",
        "      print_alphabets_recursive(Tail.next)\n",
        "      print(Tail.elem, end= ' ')\n",
        "\n",
        "head = create_linked_list(np.array(['b', 'e', 'a', 'u', 't', 'i', 'f', 'u', 'l']))\n",
        "print_alphabets_recursive(head) #This will print e a u i u l f t b"
      ]
    },
    {
      "cell_type": "code",
      "execution_count": null,
      "metadata": {
        "colab": {
          "base_uri": "https://localhost:8080/"
        },
        "id": "eBFNcu_YmEk0",
        "outputId": "afdab5d8-b4a5-4747-ce6e-2ab78e774925"
      },
      "outputs": [
        {
          "name": "stdout",
          "output_type": "stream",
          "text": [
            "Enter the height: 8\n"
          ]
        },
        {
          "data": {
            "text/plain": [
              "43"
            ]
          },
          "execution_count": 10,
          "metadata": {},
          "output_type": "execute_result"
        }
      ],
      "source": [
        "#TASK3(a)\n",
        "\n",
        "def hocBuilder(height):\n",
        "  if height== 0:\n",
        "    return \"Invalid\"\n",
        "  elif height== 1:\n",
        "    return 8\n",
        "  else:\n",
        "    return 5 + hocBuilder(height - 1)\n",
        "\n",
        "h= int(input(\"Enter the height: \"))\n",
        "hocBuilder(h)"
      ]
    },
    {
      "cell_type": "code",
      "execution_count": null,
      "metadata": {
        "colab": {
          "base_uri": "https://localhost:8080/"
        },
        "id": "tk5QCLx2O8SH",
        "outputId": "e019555f-54da-47bc-eeac-41ed93a54de7"
      },
      "outputs": [
        {
          "name": "stdout",
          "output_type": "stream",
          "text": [
            "========1========\n",
            "Maximum: 25\n",
            "Accepted\n",
            "========2========\n",
            "Maximum: -1\n",
            "Accepted\n"
          ]
        }
      ],
      "source": [
        "#TASK3(b)\n",
        "def max_recursive(Array, i= 0):\n",
        "  if i== len(Array) - 1:\n",
        "    return Array[i]\n",
        "  Max= max_recursive(Array, i + 1)\n",
        "\n",
        "  if Max < Array[i]:\n",
        "      Max= Array[i]\n",
        "      return Max\n",
        "  else:\n",
        "    return Max\n",
        "\n",
        "print('========1========')\n",
        "array = np.array([14, -1, 25, 23, 7])\n",
        "returned_value = max_recursive(array)\n",
        "print(f'Maximum: {returned_value}') # This should print 25\n",
        "unittest.output_test(returned_value, 25)\n",
        "print('========2========')\n",
        "array = np.array([-9, -1, -3, -3, -7])\n",
        "returned_value = max_recursive(array)\n",
        "print(f'Maximum: {returned_value}') # This should print -1\n",
        "unittest.output_test(returned_value, -1)"
      ]
    },
    {
      "cell_type": "code",
      "execution_count": null,
      "metadata": {
        "colab": {
          "base_uri": "https://localhost:8080/"
        },
        "id": "tYf27qmimEqV",
        "outputId": "68307070-1437-44e3-b818-cc59b8f8b167"
      },
      "outputs": [
        {
          "name": "stdout",
          "output_type": "stream",
          "text": [
            "========1========\n",
            "1 \n",
            "1 2 \n",
            "1 2 3 \n",
            "1 2 3 4 \n",
            "1 2 3 4 5 \n",
            "========1========\n",
            "1 \n",
            "1 2 \n",
            "1 2 3 \n",
            "1 2 3 4 \n",
            "1 2 3 4 5 \n",
            "1 2 3 4 5 6 \n",
            "1 2 3 4 5 6 7 \n"
          ]
        }
      ],
      "source": [
        "#TASK4(a)\n",
        "\n",
        "def pattern(c):\n",
        "  if c== 0:\n",
        "    return\n",
        "  i= c - 1\n",
        "  pattern(i)\n",
        "  print(c, end= \" \")\n",
        "\n",
        "def print_pattern(c= 0):\n",
        "  if c== 0:\n",
        "    return\n",
        "  i= c - 1\n",
        "  print_pattern(i)\n",
        "  pattern(c)\n",
        "  print()\n",
        "\n",
        "print('========1========')\n",
        "n = 5\n",
        "print_pattern(n)\n",
        "print('========1========')\n",
        "n = 7\n",
        "print_pattern(n)"
      ]
    },
    {
      "cell_type": "code",
      "execution_count": null,
      "metadata": {
        "colab": {
          "base_uri": "https://localhost:8080/"
        },
        "id": "1e2K3coJHHAy",
        "outputId": "d3b2c6c5-8a46-41e7-fcfd-f55942e73c19"
      },
      "outputs": [
        {
          "name": "stdout",
          "output_type": "stream",
          "text": [
            "========1========\n",
            "1 2 3 4 5 \n",
            "3 5 7 9 \n",
            "5 9 13 \n",
            "7 15 \n",
            "9 \n",
            "========2========\n",
            "1 2 3 4 5 6 7 \n",
            "3 5 7 9 11 13 \n",
            "5 9 13 17 21 \n",
            "7 15 23 31 \n",
            "9 25 41 \n",
            "11 43 \n",
            "13 \n"
          ]
        }
      ],
      "source": [
        "#TASK4(b)\n",
        "\n",
        "def print_pattern_2(n, step= 1, diff= 1):\n",
        "  if n== 0:\n",
        "    return\n",
        "\n",
        "  def row(i, n):\n",
        "    if n== 0:\n",
        "      return\n",
        "    print(i, end= \" \")\n",
        "    row(i+diff, n-1)\n",
        "\n",
        "  row(step, n)\n",
        "  print( )\n",
        "  print_pattern_2(n-1, step+2, diff*2)\n",
        "\n",
        "print('========1========')\n",
        "n = 5\n",
        "print_pattern_2(n)\n",
        "print('========2========')\n",
        "n = 7\n",
        "print_pattern_2(n)"
      ]
    },
    {
      "cell_type": "code",
      "execution_count": null,
      "metadata": {
        "colab": {
          "base_uri": "https://localhost:8080/"
        },
        "id": "7T8FnMj-mEv7",
        "outputId": "0093475d-453f-4ddc-f7c4-c09161f5dba8"
      },
      "outputs": [
        {
          "name": "stdout",
          "output_type": "stream",
          "text": [
            "[1, 2, 3, 4, 5, 6, 7, 8, 9, 10, 11, 12, 13, 14, 15, 16, 17]\n"
          ]
        }
      ],
      "source": [
        "#TASK5\n",
        "\n",
        "def flattenList(given_list, output_list):\n",
        "    if output_list== None:\n",
        "        output_list= []\n",
        "    for item in given_list:\n",
        "        if isinstance(item, list):\n",
        "            flattenList(item, output_list)\n",
        "        else:\n",
        "            output_list.append(item)\n",
        "    return output_list\n",
        "\n",
        "def flattenLinkedList(head, output_list= None):\n",
        "    if output_list== None:\n",
        "        output_list= []\n",
        "    if head== None:\n",
        "        return output_list\n",
        "    output_list.append(head.val)\n",
        "    flattenLinkedList(head.bottom, output_list)\n",
        "    flattenLinkedList(head.next, output_list)\n",
        "    return output_list\n",
        "\n",
        "given_list = [1, [2, [3, [4], 5], 6], 7, 8, [9, [[10, 11], 12], 13], 14, [15, [16, [17]]]]\n",
        "output_list = flattenList(given_list, []) # Initial empty list is sent for update\n",
        "print(output_list)\n",
        "#output_list = [1, 2, 3, 4, 5, 6, 7, 8, 9, 10, 11, 12, 13, 14, 15, 16, 17]"
      ]
    }
  ],
  "metadata": {
    "colab": {
      "provenance": []
    },
    "kernelspec": {
      "display_name": "Python 3",
      "name": "python3"
    },
    "language_info": {
      "name": "python"
    }
  },
  "nbformat": 4,
  "nbformat_minor": 0
}
