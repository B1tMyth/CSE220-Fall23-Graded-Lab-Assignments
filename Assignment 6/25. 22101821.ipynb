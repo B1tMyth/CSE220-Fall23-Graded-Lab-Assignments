{
  "cells": [
    {
      "cell_type": "markdown",
      "metadata": {},
      "source": [
        "#### Task 1-2+3(b): No issues. \n",
        "#### 3(a): Base case is right, general case is wrong. \n",
        "#### 4(a): Inherently iterative but no loops were used. \n",
        "#### 4(b): Used loops, also incorrect. \n",
        "#### 5: No issues. "
      ]
    },
    {
      "cell_type": "code",
      "execution_count": 1,
      "metadata": {
        "colab": {
          "base_uri": "https://localhost:8080/"
        },
        "id": "Gl_dGSpFeho1",
        "outputId": "834e1a08-88cb-43ff-a603-4334e1100163"
      },
      "outputs": [
        {
          "name": "stdout",
          "output_type": "stream",
          "text": [
            "Collecting fhm-unittest\n",
            "  Downloading fhm_unittest-1.0.1-py3-none-any.whl (2.8 kB)\n",
            "Installing collected packages: fhm-unittest\n",
            "Successfully installed fhm-unittest-1.0.1\n",
            "Collecting fuzzywuzzy\n",
            "  Downloading fuzzywuzzy-0.18.0-py2.py3-none-any.whl (18 kB)\n",
            "Installing collected packages: fuzzywuzzy\n",
            "Successfully installed fuzzywuzzy-0.18.0\n"
          ]
        },
        {
          "name": "stderr",
          "output_type": "stream",
          "text": [
            "/usr/local/lib/python3.10/dist-packages/fuzzywuzzy/fuzz.py:11: UserWarning: Using slow pure-python SequenceMatcher. Install python-Levenshtein to remove this warning\n",
            "  warnings.warn('Using slow pure-python SequenceMatcher. Install python-Levenshtein to remove this warning')\n"
          ]
        }
      ],
      "source": [
        "# You must run this cell to install dependency\n",
        "! pip3 install fhm-unittest\n",
        "! pip3 install fuzzywuzzy\n",
        "import fhm_unittest as unittest\n",
        "import numpy as np"
      ]
    },
    {
      "cell_type": "code",
      "execution_count": 2,
      "metadata": {
        "id": "hJuxwibMSnPz"
      },
      "outputs": [],
      "source": [
        "import math\n",
        "\n",
        "class Node:\n",
        "  def __init__(self, elem, next = None):\n",
        "    self.elem = elem\n",
        "    self.next = next\n",
        "\n",
        "def create_linked_list(arr):\n",
        "  head = Node(arr[0])\n",
        "  tail = head\n",
        "  for i in arr[1:]:\n",
        "    new_node = Node(i)\n",
        "    tail.next = new_node\n",
        "    tail = new_node\n",
        "  return head"
      ]
    },
    {
      "cell_type": "markdown",
      "metadata": {
        "id": "KM0LWTXLe11v"
      },
      "source": [
        "#Very Easy"
      ]
    },
    {
      "cell_type": "code",
      "execution_count": 3,
      "metadata": {
        "colab": {
          "base_uri": "https://localhost:8080/"
        },
        "id": "gGxKAROSej5y",
        "outputId": "1c059080-b759-4fa1-d131-9ea28fafc2a8"
      },
      "outputs": [
        {
          "name": "stdout",
          "output_type": "stream",
          "text": [
            "Sum of an array: 36\n",
            "Accepted\n"
          ]
        }
      ],
      "source": [
        "#1\n",
        "def recursive_sum(arr):\n",
        "    if len(arr)==0:\n",
        "        return 0\n",
        "    else:\n",
        "        return arr[0] + recursive_sum(arr[1:])\n",
        "arr1 = np.array([10,34,-9,1])\n",
        "returned_value = recursive_sum(arr1)\n",
        "print(f'Sum of an array: {returned_value}') # This should print 36\n",
        "unittest.output_test(returned_value, 36)"
      ]
    },
    {
      "cell_type": "code",
      "execution_count": 4,
      "metadata": {
        "colab": {
          "base_uri": "https://localhost:8080/"
        },
        "id": "2pqZG0e6eqby",
        "outputId": "151d7a39-d142-4691-e4ea-c0d6ae5521a7"
      },
      "outputs": [
        {
          "name": "stdout",
          "output_type": "stream",
          "text": [
            "========1========\n",
            "9C6: 84\n",
            "Accepted\n",
            "========2========\n",
            "8C2: 28\n",
            "Accepted\n",
            "========3========\n",
            "48C1: 48\n",
            "Accepted\n"
          ]
        }
      ],
      "source": [
        "\n",
        "\n",
        "#2\n",
        "def nCr(n, r):\n",
        "    if n == 0 or n == r:\n",
        "        return 1\n",
        "    if r == 0:\n",
        "        return 1\n",
        "    return nCr(n - 1, r - 1) + nCr(n - 1, r)\n",
        "print('========1========')\n",
        "returned_value = nCr(9,6)\n",
        "print(f'9C6: {returned_value}') # This should print 84\n",
        "unittest.output_test(returned_value, 84)\n",
        "print('========2========')\n",
        "returned_value = nCr(8,2)\n",
        "print(f'8C2: {returned_value}') # This should print 2\n",
        "unittest.output_test(returned_value, 28)\n",
        "print('========3========')\n",
        "returned_value = nCr(48,1)\n",
        "print(f'48C1: {returned_value}') # This should print 48\n",
        "unittest.output_test(returned_value, 48)"
      ]
    },
    {
      "cell_type": "code",
      "execution_count": 5,
      "metadata": {
        "colab": {
          "base_uri": "https://localhost:8080/"
        },
        "id": "XtBEwczoet2O",
        "outputId": "c4cac285-ecdc-4657-bef0-b6a0e6b72ad8"
      },
      "outputs": [
        {
          "name": "stdout",
          "output_type": "stream",
          "text": [
            "Number of Digits: 4\n",
            "Accepted\n"
          ]
        }
      ],
      "source": [
        "\n",
        "\n",
        "#3\n",
        "def count_digit_recursive(n):\n",
        "    if n == 0:\n",
        "        return 0\n",
        "    else:\n",
        "        return 1 + count_digit_recursive(n // 10)\n",
        "returned_value = count_digit_recursive(7508)\n",
        "print(f'Number of Digits: {returned_value}') # This should print 4\n",
        "unittest.output_test(returned_value, 4)"
      ]
    },
    {
      "cell_type": "code",
      "execution_count": 6,
      "metadata": {
        "colab": {
          "base_uri": "https://localhost:8080/"
        },
        "id": "vLvXNEtleufk",
        "outputId": "2da35fd8-9e6f-442f-eb1b-8800fbd1c466"
      },
      "outputs": [
        {
          "name": "stdout",
          "output_type": "stream",
          "text": [
            "========1========\n",
            "Prime: True\n",
            "Accepted\n",
            "========2========\n",
            "Prime: False\n",
            "Accepted\n"
          ]
        }
      ],
      "source": [
        "\n",
        "\n",
        "#4\n",
        "def check_prime_recursive(n, i=2):\n",
        "    if n <= 1:\n",
        "        return False\n",
        "    if i == n:\n",
        "        return True\n",
        "    if n % i == 0:\n",
        "        return False\n",
        "    else:\n",
        "        return check_prime_recursive(n, i + 1)\n",
        "print('========1========')\n",
        "returned_value = check_prime_recursive(79)\n",
        "print(f'Prime: {returned_value}') # This should print True\n",
        "unittest.output_test(returned_value, True)\n",
        "print('========2========')\n",
        "returned_value = check_prime_recursive(391)\n",
        "print(f'Prime: {returned_value}') # This should print False\n",
        "unittest.output_test(returned_value, False)"
      ]
    },
    {
      "cell_type": "markdown",
      "metadata": {
        "id": "-v81hGhKe3qv"
      },
      "source": [
        "#Easy"
      ]
    },
    {
      "cell_type": "code",
      "execution_count": 8,
      "metadata": {
        "colab": {
          "base_uri": "https://localhost:8080/"
        },
        "id": "P8mJClese7KD",
        "outputId": "2625d89e-6e0c-41b7-d6d7-06ae22c03862"
      },
      "outputs": [
        {
          "name": "stdout",
          "output_type": "stream",
          "text": [
            "Use of encoding function\n",
            "Hexadecimal Number: 7\n",
            "Hexadecimal Number: D\n",
            "========1========\n",
            "Hexadecimal Number: 4CE\n",
            "Accepted\n",
            "========2========\n",
            "Hexadecimal Number: 258\n",
            "Accepted\n"
          ]
        }
      ],
      "source": [
        "#you may use this for decimal to hexadecimal mapping of 0-15\n",
        "def encoding(dec_number): #0<=dec_number<=15\n",
        "    if dec_number< 16:\n",
        "        if dec_number < 10:\n",
        "            return str(dec_number)\n",
        "        else:\n",
        "            return chr(ord('A') + dec_number - 10)\n",
        "\n",
        "    # Recursive case\n",
        "    remainder = dec_number % 16\n",
        "    quotient = dec_number // 16\n",
        "\n",
        "    # Recursively convert the quotient and append the remainder\n",
        "    return encoding(quotient) + encoding(remainder)\n",
        "\n",
        "#1\n",
        "print('Use of encoding function')\n",
        "decimal_number = 7\n",
        "print(f'Hexadecimal Number: {encoding(decimal_number)}')\n",
        "decimal_number = 13\n",
        "print(f'Hexadecimal Number: {encoding(decimal_number)}')\n",
        "\n",
        "print('========1========')\n",
        "returned_value = encoding(1230)\n",
        "print(f'Hexadecimal Number: {returned_value}') # This should print 4CE\n",
        "unittest.output_test(returned_value, '4CE')\n",
        "print('========2========')\n",
        "returned_value = encoding(600)\n",
        "print(f'Hexadecimal Number: {returned_value}') # This should print 258\n",
        "unittest.output_test(returned_value, '258')"
      ]
    },
    {
      "cell_type": "code",
      "execution_count": 21,
      "metadata": {
        "colab": {
          "base_uri": "https://localhost:8080/"
        },
        "id": "3cQ4WTupfJsf",
        "outputId": "870a9662-d77a-44d8-9dc8-cbcc613916ef"
      },
      "outputs": [
        {
          "name": "stdout",
          "output_type": "stream",
          "text": [
            "========1========\n",
            "Same: True\n",
            "Accepted\n",
            "========2========\n",
            "Same: False\n",
            "Accepted\n"
          ]
        }
      ],
      "source": [
        "\n",
        "\n",
        "#2\n",
        "def compare_recursive(head, array):\n",
        "    if head == None:\n",
        "        return True\n",
        "    else:\n",
        "        return head.elem == array[0] and compare_recursive(head.next, array[1:])\n",
        "print('========1========')\n",
        "array = np.array([10, 11, 12, 13, 14])\n",
        "head = create_linked_list(np.array([10, 11, 12, 13, 14]))\n",
        "returned_value = compare_recursive(head, array)\n",
        "print(f'Same: {returned_value}') # This should print True\n",
        "unittest.output_test(returned_value, True)\n",
        "print('========2========')\n",
        "array = np.array([10, 11, 12, 13, 14])\n",
        "head = create_linked_list(np.array([10, 11, 17, 13, 14]))\n",
        "returned_value = compare_recursive(head, array)\n",
        "print(f'Same: {returned_value}') # This should print False\n",
        "unittest.output_test(returned_value, False)"
      ]
    },
    {
      "cell_type": "code",
      "execution_count": 22,
      "metadata": {
        "colab": {
          "base_uri": "https://localhost:8080/"
        },
        "id": "zFGiCbScfNJ0",
        "outputId": "4d299f48-decb-4ff7-c70a-38cc00b50e9f"
      },
      "outputs": [
        {
          "name": "stdout",
          "output_type": "stream",
          "text": [
            "e a u i u l f t b "
          ]
        }
      ],
      "source": [
        "\n",
        "\n",
        "#3\n",
        "def print_alphabets_recursive(head):\n",
        "    if head !=None:\n",
        "        if head.elem in 'aeiouAEIOU':\n",
        "            print(head.elem, end=' ')\n",
        "        print_alphabets_recursive(head.next)\n",
        "    if head is not None and head.elem not in 'aeiouAEIOU':\n",
        "        print(head.elem, end=' ')\n",
        "head = create_linked_list(np.array(['b', 'e', 'a', 'u', 't', 'i', 'f', 'u', 'l']))\n",
        "print_alphabets_recursive(head) #This will print e a u i u l f t b"
      ]
    },
    {
      "cell_type": "markdown",
      "metadata": {
        "id": "CaRQ_tSTgkZI"
      },
      "source": [
        "#Medium"
      ]
    },
    {
      "cell_type": "code",
      "execution_count": 23,
      "metadata": {
        "colab": {
          "base_uri": "https://localhost:8080/"
        },
        "id": "KufwSw-_gnBO",
        "outputId": "f7ce07f9-aa26-4043-bf5d-d8be2aba3821"
      },
      "outputs": [
        {
          "name": "stdout",
          "output_type": "stream",
          "text": [
            "0\n",
            "8\n",
            "21\n",
            "39\n"
          ]
        }
      ],
      "source": [
        "def hocBuilder(height):\n",
        "    if height <= 0:\n",
        "        return 0\n",
        "    elif height == 1:\n",
        "        return 8\n",
        "    else:\n",
        "        return 8 + 5 * (height - 1) + hocBuilder(height - 1)\n",
        "\n",
        "print(hocBuilder(0))\n",
        "print(hocBuilder(1))\n",
        "print(hocBuilder(2))\n",
        "print(hocBuilder(3))\n",
        "\n",
        "#Design Driver Code by yourself"
      ]
    },
    {
      "cell_type": "code",
      "execution_count": 24,
      "metadata": {
        "colab": {
          "base_uri": "https://localhost:8080/"
        },
        "id": "GsEHYQPHfQbY",
        "outputId": "34fd16b2-8dbe-40bc-fb50-f1b9ce279881"
      },
      "outputs": [
        {
          "name": "stdout",
          "output_type": "stream",
          "text": [
            "========1========\n",
            "Maximum: 25\n",
            "Accepted\n",
            "========2========\n",
            "Maximum: -1\n",
            "Accepted\n"
          ]
        }
      ],
      "source": [
        "\n",
        "\n",
        "\n",
        "\n",
        "#2\n",
        "def max_recursive(arr):\n",
        "    if len(arr) == 1:\n",
        "        return arr[0]\n",
        "    else:\n",
        "        max_rest = max_recursive(arr[1:])\n",
        "        return arr[0] if arr[0] > max_rest else max_rest\n",
        "\n",
        "print('========1========')\n",
        "array = np.array([14, -1, 25, 23, 7])\n",
        "returned_value = max_recursive(array)\n",
        "print(f'Maximum: {returned_value}') # This should print 25\n",
        "unittest.output_test(returned_value, 25)\n",
        "print('========2========')\n",
        "array = np.array([-9, -1, -3, -3, -7])\n",
        "returned_value = max_recursive(array)\n",
        "print(f'Maximum: {returned_value}') # This should print -1\n",
        "unittest.output_test(returned_value, -1)"
      ]
    },
    {
      "cell_type": "markdown",
      "metadata": {
        "id": "FJZjAYFwhhJE"
      },
      "source": [
        "#Hard"
      ]
    },
    {
      "cell_type": "code",
      "execution_count": 17,
      "metadata": {
        "colab": {
          "base_uri": "https://localhost:8080/"
        },
        "id": "4Xdjz5pUgr0K",
        "outputId": "468ad2fe-7f04-42d5-fab9-fc170b5a2e40"
      },
      "outputs": [
        {
          "name": "stdout",
          "output_type": "stream",
          "text": [
            "========1========\n",
            "1\n",
            "1 2\n",
            "1 2 3\n",
            "1 2 3 4\n",
            "1 2 3 4 5\n",
            "========1========\n",
            "1\n",
            "1 2\n",
            "1 2 3\n",
            "1 2 3 4\n",
            "1 2 3 4 5\n",
            "1 2 3 4 5 6\n",
            "1 2 3 4 5 6 7\n"
          ]
        }
      ],
      "source": [
        "\n",
        "\n",
        "\n",
        "#1\n",
        "def print_pattern(n, i=1):\n",
        "    if i > n:\n",
        "        return\n",
        "    print(' '.join(map(str, range(1, i + 1))))\n",
        "    print_pattern(n, i + 1)\n",
        "\n",
        "print('========1========')\n",
        "n = 5\n",
        "print_pattern(n)\n",
        "print('========1========')\n",
        "n = 7\n",
        "print_pattern(n)"
      ]
    },
    {
      "cell_type": "code",
      "execution_count": 19,
      "metadata": {
        "colab": {
          "base_uri": "https://localhost:8080/"
        },
        "id": "uvbbPe8xhe-r",
        "outputId": "84c61f9d-586d-489d-cbb4-3abe03988fb7"
      },
      "outputs": [
        {
          "name": "stdout",
          "output_type": "stream",
          "text": [
            "========1========\n",
            "1 2 3 4 5 \n",
            "2 4 6 8 \n",
            "4 8 12 \n",
            "8 16 \n",
            "16 \n",
            "========2========\n",
            "1 2 3 4 5 6 7 \n",
            "2 4 6 8 10 12 \n",
            "4 8 12 16 20 \n",
            "8 16 24 32 \n",
            "16 32 48 \n",
            "32 64 \n",
            "64 \n"
          ]
        }
      ],
      "source": [
        "# 2\n",
        "def print_pattern_2(n, r=1, strt=1, diff=1):\n",
        "    if r > n:\n",
        "        return\n",
        "    for i in range(strt, strt + (n - r + 1) * diff, diff):\n",
        "        print(i, end=\" \")\n",
        "    print()\n",
        "    print_pattern_2(n, r + 1, strt + diff, diff * 2)\n",
        "\n",
        "\n",
        "print('========1========')\n",
        "n = 5\n",
        "print_pattern_2(n)\n",
        "print('========2========')\n",
        "n = 7\n",
        "print_pattern_2(n)\n"
      ]
    },
    {
      "cell_type": "markdown",
      "metadata": {
        "id": "v-CxHGqZm9WB"
      },
      "source": [
        "#Very Hard"
      ]
    },
    {
      "cell_type": "code",
      "execution_count": 20,
      "metadata": {
        "colab": {
          "base_uri": "https://localhost:8080/"
        },
        "id": "RKQnhkyOjwQ2",
        "outputId": "54acfa96-c1fe-4308-d4e0-cf6fb59c2446"
      },
      "outputs": [
        {
          "name": "stdout",
          "output_type": "stream",
          "text": [
            "[1, 2, 3, 4, 5, 6, 7, 8, 9, 10, 11, 12, 13, 14, 15, 16, 17]\n"
          ]
        }
      ],
      "source": [
        "def flattenList(given_list, output_list):\n",
        "  if len(given_list)==0:\n",
        "    return output_list\n",
        "  else:\n",
        "    if type(given_list[0]) is list:\n",
        "      flattenList(given_list[0], output_list)\n",
        "    else:\n",
        "      output_list.append(given_list[0])\n",
        "    return flattenList(given_list[1:], output_list)\n",
        "\n",
        "\n",
        "given_list = [1, [2, [3, [4], 5], 6], 7, 8, [9, [[10, 11], 12], 13], 14, [15, [16, [17]]]]\n",
        "output_list = flattenList(given_list, []) # Initial empty list is sent for update\n",
        "print(output_list)\n",
        "#output_list = [1, 2, 3, 4, 5, 6, 7, 8, 9, 10, 11, 12, 13, 14, 15, 16, 17]"
      ]
    },
    {
      "cell_type": "code",
      "execution_count": null,
      "metadata": {
        "id": "iYaVkdm5mNLN"
      },
      "outputs": [],
      "source": []
    }
  ],
  "metadata": {
    "colab": {
      "provenance": []
    },
    "kernelspec": {
      "display_name": "Python 3",
      "name": "python3"
    },
    "language_info": {
      "name": "python"
    }
  },
  "nbformat": 4,
  "nbformat_minor": 0
}
