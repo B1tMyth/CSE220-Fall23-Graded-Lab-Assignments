{
  "cells": [
    {
      "cell_type": "markdown",
      "metadata": {},
      "source": [
        "#### Plagiarized with ID: 22101790"
      ]
    },
    {
      "cell_type": "code",
      "execution_count": 1,
      "metadata": {
        "colab": {
          "base_uri": "https://localhost:8080/"
        },
        "id": "Gl_dGSpFeho1",
        "outputId": "fde3da56-66bb-4422-e0a5-678bd5333c18"
      },
      "outputs": [
        {
          "name": "stdout",
          "output_type": "stream",
          "text": [
            "Collecting fhm-unittest\n",
            "  Downloading fhm_unittest-1.0.1-py3-none-any.whl (2.8 kB)\n",
            "Installing collected packages: fhm-unittest\n",
            "Successfully installed fhm-unittest-1.0.1\n",
            "Collecting fuzzywuzzy\n",
            "  Downloading fuzzywuzzy-0.18.0-py2.py3-none-any.whl (18 kB)\n",
            "Installing collected packages: fuzzywuzzy\n",
            "Successfully installed fuzzywuzzy-0.18.0\n"
          ]
        },
        {
          "name": "stderr",
          "output_type": "stream",
          "text": [
            "/usr/local/lib/python3.10/dist-packages/fuzzywuzzy/fuzz.py:11: UserWarning: Using slow pure-python SequenceMatcher. Install python-Levenshtein to remove this warning\n",
            "  warnings.warn('Using slow pure-python SequenceMatcher. Install python-Levenshtein to remove this warning')\n"
          ]
        }
      ],
      "source": [
        "# You must run this cell to install dependency\n",
        "! pip3 install fhm-unittest\n",
        "! pip3 install fuzzywuzzy\n",
        "import fhm_unittest as unittest\n",
        "import numpy as np"
      ]
    },
    {
      "cell_type": "code",
      "execution_count": 2,
      "metadata": {
        "id": "hJuxwibMSnPz"
      },
      "outputs": [],
      "source": [
        "import math\n",
        "\n",
        "class Node:\n",
        "  def __init__(self, elem, next = None):\n",
        "    self.elem = elem\n",
        "    self.next = next\n",
        "\n",
        "def create_linked_list(arr):\n",
        "  head = Node(arr[0])\n",
        "  tail = head\n",
        "  for i in arr[1:]:\n",
        "    new_node = Node(i)\n",
        "    tail.next = new_node\n",
        "    tail = new_node\n",
        "  return head"
      ]
    },
    {
      "cell_type": "markdown",
      "metadata": {
        "id": "KM0LWTXLe11v"
      },
      "source": [
        "#Very Easy"
      ]
    },
    {
      "cell_type": "code",
      "execution_count": 3,
      "metadata": {
        "colab": {
          "base_uri": "https://localhost:8080/"
        },
        "id": "gGxKAROSej5y",
        "outputId": "7439442f-4ef5-4fcb-a180-9b582b671e07"
      },
      "outputs": [
        {
          "name": "stdout",
          "output_type": "stream",
          "text": [
            "Sum of an array: 36\n",
            "Accepted\n"
          ]
        }
      ],
      "source": [
        "\n",
        "\n",
        "#1\n",
        "def recursive_sum(arr1,i=0):\n",
        "  if i==len(arr1):\n",
        "    return 0\n",
        "  else:\n",
        "    return arr1[i]+ recursive_sum(arr1,i+1)\n",
        "arr1 = np.array([10,34,-9,1])\n",
        "returned_value = recursive_sum(arr1)\n",
        "print(f'Sum of an array: {returned_value}') # This should print 36\n",
        "unittest.output_test(returned_value, 36)"
      ]
    },
    {
      "cell_type": "code",
      "execution_count": 4,
      "metadata": {
        "colab": {
          "base_uri": "https://localhost:8080/"
        },
        "id": "2pqZG0e6eqby",
        "outputId": "b77ff6ee-cc96-4d24-c19b-59b784e7179e"
      },
      "outputs": [
        {
          "name": "stdout",
          "output_type": "stream",
          "text": [
            "========1========\n",
            "9C6: 84\n",
            "Accepted\n",
            "========2========\n",
            "8C2: 28\n",
            "Accepted\n",
            "========3========\n",
            "48C1: 48\n",
            "Accepted\n"
          ]
        }
      ],
      "source": [
        "\n",
        "\n",
        "#2\n",
        "def nCr(n,r):\n",
        "  if r>n:\n",
        "    return 0\n",
        "  else:\n",
        "    val=fact(n)//(fact(r)*(fact(n-r)))\n",
        "    return val\n",
        "def fact(n):\n",
        "  if n==0 or n==1:\n",
        "    return 1\n",
        "  else:\n",
        "    return n*fact(n-1)\n",
        "print('========1========')\n",
        "returned_value = nCr(9,6)\n",
        "print(f'9C6: {returned_value}') # This should print 84\n",
        "unittest.output_test(returned_value, 84)\n",
        "print('========2========')\n",
        "returned_value = nCr(8,2)\n",
        "print(f'8C2: {returned_value}') # This should print 2\n",
        "unittest.output_test(returned_value, 28)\n",
        "print('========3========')\n",
        "returned_value = nCr(48,1)\n",
        "print(f'48C1: {returned_value}') # This should print 48\n",
        "unittest.output_test(returned_value, 48)"
      ]
    },
    {
      "cell_type": "code",
      "execution_count": 5,
      "metadata": {
        "colab": {
          "base_uri": "https://localhost:8080/"
        },
        "id": "XtBEwczoet2O",
        "outputId": "1b1efac4-1d3a-4d03-8287-5ec02023637f"
      },
      "outputs": [
        {
          "name": "stdout",
          "output_type": "stream",
          "text": [
            "Number of Digits: 4\n",
            "Accepted\n"
          ]
        }
      ],
      "source": [
        "\n",
        "\n",
        "#3\n",
        "def count_digit_recursive(n):\n",
        "  if n==0:\n",
        "    return 0\n",
        "  else:\n",
        "    return 1+count_digit_recursive(n//10)\n",
        "returned_value = count_digit_recursive(7508)\n",
        "print(f'Number of Digits: {returned_value}') # This should print 4\n",
        "unittest.output_test(returned_value, 4)"
      ]
    },
    {
      "cell_type": "code",
      "execution_count": 6,
      "metadata": {
        "colab": {
          "base_uri": "https://localhost:8080/"
        },
        "id": "vLvXNEtleufk",
        "outputId": "aaf9bf5d-84ab-475b-fdb4-13ec0cfa370d"
      },
      "outputs": [
        {
          "name": "stdout",
          "output_type": "stream",
          "text": [
            "========1========\n",
            "Prime: True\n",
            "Accepted\n",
            "========2========\n",
            "Prime: False\n",
            "Accepted\n"
          ]
        }
      ],
      "source": [
        "\n",
        "\n",
        "#4\n",
        "def check_prime_recursive(n):\n",
        "  val=prime_num(n,n-1)\n",
        "  if val==1:\n",
        "    return True\n",
        "  else:\n",
        "    return False\n",
        "def prime_num(n,dvsr):\n",
        "  if dvsr==1:\n",
        "    return True\n",
        "  elif n%dvsr ==0:\n",
        "    return False\n",
        "  else:\n",
        "    return (prime_num(n,dvsr-1))\n",
        "print('========1========')\n",
        "returned_value = check_prime_recursive(79)\n",
        "print(f'Prime: {returned_value}') # This should print True\n",
        "unittest.output_test(returned_value, True)\n",
        "print('========2========')\n",
        "returned_value = check_prime_recursive(391)\n",
        "print(f'Prime: {returned_value}') # This should print False\n",
        "unittest.output_test(returned_value, False)"
      ]
    },
    {
      "cell_type": "markdown",
      "metadata": {
        "id": "-v81hGhKe3qv"
      },
      "source": [
        "#Easy"
      ]
    },
    {
      "cell_type": "code",
      "execution_count": 8,
      "metadata": {
        "colab": {
          "base_uri": "https://localhost:8080/"
        },
        "id": "P8mJClese7KD",
        "outputId": "12b7341f-a8a9-4d7a-9ebe-58084c247166"
      },
      "outputs": [
        {
          "name": "stdout",
          "output_type": "stream",
          "text": [
            "Use of encoding function\n",
            "Hexadecimal Number: 7\n",
            "Hexadecimal Number: D\n",
            "========1========\n",
            "Hexadecimal Number: 4CE\n",
            "Accepted\n",
            "========2========\n",
            "Hexadecimal Number: 258\n",
            "Accepted\n"
          ]
        }
      ],
      "source": [
        "#you may use this for decimal to hexadecimal mapping of 0-15\n",
        "def encoding(dec_number): #0<=dec_number<=15\n",
        "  return '0123456789ABCDEF'[dec_number]\n",
        "\n",
        "\n",
        "\n",
        "#1\n",
        "def dec_to_hexa_recursive(n):\n",
        "  if n<16:\n",
        "    return encoding(n)\n",
        "  else:\n",
        "    return dec_to_hexa_recursive(n//16) + dec_to_hexa_recursive(n%16)\n",
        "print('Use of encoding function')\n",
        "decimal_number = 7\n",
        "print(f'Hexadecimal Number: {encoding(decimal_number)}')\n",
        "decimal_number = 13\n",
        "print(f'Hexadecimal Number: {encoding(decimal_number)}')\n",
        "\n",
        "print('========1========')\n",
        "returned_value = dec_to_hexa_recursive(1230)\n",
        "print(f'Hexadecimal Number: {returned_value}') # This should print 4CE\n",
        "unittest.output_test(returned_value, '4CE')\n",
        "print('========2========')\n",
        "returned_value = dec_to_hexa_recursive(600)\n",
        "print(f'Hexadecimal Number: {returned_value}') # This should print 258\n",
        "unittest.output_test(returned_value, '258')"
      ]
    },
    {
      "cell_type": "code",
      "execution_count": 9,
      "metadata": {
        "colab": {
          "base_uri": "https://localhost:8080/"
        },
        "id": "3cQ4WTupfJsf",
        "outputId": "65aa5f6c-afcf-4ba2-b950-c5b05a6fd42d"
      },
      "outputs": [
        {
          "name": "stdout",
          "output_type": "stream",
          "text": [
            "========1========\n",
            "Same: True\n",
            "Accepted\n",
            "========2========\n",
            "Same: False\n",
            "Accepted\n"
          ]
        }
      ],
      "source": [
        "\n",
        "\n",
        "#2\n",
        "def compare_recursive(head,array):\n",
        "  if head==None and len(array)==0:\n",
        "    return True\n",
        "  else:\n",
        "    if head.elem==array[0]:\n",
        "      return (compare_recursive(head.next,array[1:]))\n",
        "    else:\n",
        "      return False\n",
        "print('========1========')\n",
        "array = np.array([10, 11, 12, 13, 14])\n",
        "head = create_linked_list(np.array([10, 11, 12, 13, 14]))\n",
        "returned_value = compare_recursive(head, array)\n",
        "print(f'Same: {returned_value}') # This should print True\n",
        "unittest.output_test(returned_value, True)\n",
        "print('========2========')\n",
        "array = np.array([10, 11, 12, 13, 14])\n",
        "head = create_linked_list(np.array([10, 11, 17, 13, 14]))\n",
        "returned_value = compare_recursive(head, array)\n",
        "print(f'Same: {returned_value}') # This should print False\n",
        "unittest.output_test(returned_value, False)"
      ]
    },
    {
      "cell_type": "code",
      "execution_count": 10,
      "metadata": {
        "colab": {
          "base_uri": "https://localhost:8080/"
        },
        "id": "zFGiCbScfNJ0",
        "outputId": "67bf2ce0-49be-44b1-9b6b-9e70cf5fa1a0"
      },
      "outputs": [
        {
          "name": "stdout",
          "output_type": "stream",
          "text": [
            "e a u i u l f t b "
          ]
        }
      ],
      "source": [
        "\n",
        "\n",
        "#3\n",
        "def print_alphabets_recursive(head):\n",
        "  if head==None:\n",
        "    return\n",
        "  else:\n",
        "    if head.elem=='a' or head.elem=='e' or head.elem=='i' or head.elem=='o' or head.elem=='u':\n",
        "      print(head.elem , end=\" \")\n",
        "      print_alphabets_recursive(head.next)\n",
        "    else:\n",
        "      print_alphabets_recursive(head.next)\n",
        "      print(head.elem, end=\" \")\n",
        "\n",
        "head = create_linked_list(np.array(['b', 'e', 'a', 'u', 't', 'i', 'f', 'u', 'l']))\n",
        "print_alphabets_recursive(head) #This will print e a u i u l f t b"
      ]
    },
    {
      "cell_type": "markdown",
      "metadata": {
        "id": "CaRQ_tSTgkZI"
      },
      "source": [
        "#Medium"
      ]
    },
    {
      "cell_type": "code",
      "execution_count": 14,
      "metadata": {
        "colab": {
          "base_uri": "https://localhost:8080/"
        },
        "id": "KufwSw-_gnBO",
        "outputId": "f5030bf3-aa6c-497f-82e2-b923fdd19e7d"
      },
      "outputs": [
        {
          "data": {
            "text/plain": [
              "33"
            ]
          },
          "execution_count": 14,
          "metadata": {},
          "output_type": "execute_result"
        }
      ],
      "source": [
        "def hocBuilder(height):\n",
        "  if height==0:\n",
        "    return 0\n",
        "  elif height==1:\n",
        "    return 8\n",
        "  else:\n",
        "    return 5 + hocBuilder(height-1)\n",
        "height=6\n",
        "hocBuilder(height)\n",
        "\n",
        "\n",
        "#Design Driver Code by yourself"
      ]
    },
    {
      "cell_type": "code",
      "execution_count": 16,
      "metadata": {
        "colab": {
          "base_uri": "https://localhost:8080/"
        },
        "id": "GsEHYQPHfQbY",
        "outputId": "6989b33d-dc49-44ad-f715-234460ff4d71"
      },
      "outputs": [
        {
          "name": "stdout",
          "output_type": "stream",
          "text": [
            "========1========\n",
            "Maximum: 25\n",
            "Accepted\n",
            "========2========\n",
            "Maximum: -1\n",
            "Accepted\n"
          ]
        }
      ],
      "source": [
        "\n",
        "\n",
        "\n",
        "\n",
        "#2\n",
        "def max_recursive(array):\n",
        "  i=0\n",
        "  if i==len(array)-1:\n",
        "    return array[i]\n",
        "  else:\n",
        "    max= max_recursive(array[1:])\n",
        "    return maximum_val(array[i],max)\n",
        "def maximum_val(x,y):\n",
        "  if x>=y:\n",
        "    return x\n",
        "  else:\n",
        "    return y\n",
        "print('========1========')\n",
        "array = np.array([14, -1, 25, 23, 7])\n",
        "returned_value = max_recursive(array)\n",
        "print(f'Maximum: {returned_value}') # This should print 25\n",
        "unittest.output_test(returned_value, 25)\n",
        "print('========2========')\n",
        "array = np.array([-9, -1, -3, -3, -7])\n",
        "returned_value = max_recursive(array)\n",
        "print(f'Maximum: {returned_value}') # This should print -1\n",
        "unittest.output_test(returned_value, -1)"
      ]
    },
    {
      "cell_type": "markdown",
      "metadata": {
        "id": "FJZjAYFwhhJE"
      },
      "source": [
        "#Hard"
      ]
    },
    {
      "cell_type": "code",
      "execution_count": 17,
      "metadata": {
        "colab": {
          "base_uri": "https://localhost:8080/"
        },
        "id": "4Xdjz5pUgr0K",
        "outputId": "e2c3b8f6-7b1c-4150-8321-0e25ba0b4f4d"
      },
      "outputs": [
        {
          "name": "stdout",
          "output_type": "stream",
          "text": [
            "========1========\n",
            "1 \n",
            "1 2 \n",
            "1 2 3 \n",
            "1 2 3 4 \n",
            "1 2 3 4 5 \n",
            "========1========\n",
            "1 \n",
            "1 2 \n",
            "1 2 3 \n",
            "1 2 3 4 \n",
            "1 2 3 4 5 \n",
            "1 2 3 4 5 6 \n",
            "1 2 3 4 5 6 7 \n"
          ]
        }
      ],
      "source": [
        "\n",
        "\n",
        "\n",
        "#1\n",
        "def print_pattern(num,row=1):\n",
        "  if num<row:\n",
        "    return 0\n",
        "  else:\n",
        "    print_col(row,col=1)\n",
        "    print_pattern(num,row+1)\n",
        "def print_col(row,col):\n",
        "  if col>row:\n",
        "    print()\n",
        "    return\n",
        "  else:\n",
        "    print(col,end=\" \")\n",
        "    print_col(row,col+1)\n",
        "print('========1========')\n",
        "n = 5\n",
        "print_pattern(n)\n",
        "print('========1========')\n",
        "n = 7\n",
        "print_pattern(n)"
      ]
    },
    {
      "cell_type": "code",
      "execution_count": 19,
      "metadata": {
        "colab": {
          "base_uri": "https://localhost:8080/"
        },
        "id": "uvbbPe8xhe-r",
        "outputId": "fdc26480-6120-4ce8-cb71-272275efb602"
      },
      "outputs": [
        {
          "name": "stdout",
          "output_type": "stream",
          "text": [
            "========1========\n",
            "1 1 1 1 1 \n",
            "3 3 3 3 \n",
            "5 5 5 \n",
            "7 7 \n",
            "9 \n",
            "========2========\n",
            "1 1 1 1 1 1 1 \n",
            "3 3 3 3 3 3 \n",
            "5 5 5 5 5 \n",
            "7 7 7 7 \n",
            "9 9 9 \n",
            "11 11 \n",
            "13 \n"
          ]
        }
      ],
      "source": [
        "\n",
        "\n",
        "\n",
        "#2\n",
        "def print_pattern_2(n,row=1):\n",
        "  if n<row:\n",
        "    return 0\n",
        "  else:\n",
        "    print_col(row,col=1,a=0,b=0)\n",
        "    print_pattern_2(n,row+1)\n",
        "def print_col(row,col,a,b):\n",
        "  c=1\n",
        "  if row>(n+1)-col:\n",
        "    print()\n",
        "    return 0\n",
        "  elif row==1 and col==1:\n",
        "    print(1,end = \" \")\n",
        "    print_col(row,col+1,1,1)\n",
        "  elif row!=1 and col==1:\n",
        "    b=(2*row)-1\n",
        "    a=b\n",
        "    print(b,end=\" \")\n",
        "    print_col(row,col+1,a,b)\n",
        "  else:\n",
        "    b+=(2**(row-1))\n",
        "    print(a,end=\" \")\n",
        "    print_col(row,col+1,a,b)\n",
        "\n",
        "print('========1========')\n",
        "n = 5\n",
        "print_pattern_2(n)\n",
        "print('========2========')\n",
        "n = 7\n",
        "print_pattern_2(n)\n"
      ]
    },
    {
      "cell_type": "markdown",
      "metadata": {
        "id": "v-CxHGqZm9WB"
      },
      "source": [
        "#Very Hard"
      ]
    },
    {
      "cell_type": "code",
      "execution_count": 22,
      "metadata": {
        "colab": {
          "base_uri": "https://localhost:8080/"
        },
        "id": "RKQnhkyOjwQ2",
        "outputId": "c5825f0d-b381-4549-af77-06adde0eb0a2"
      },
      "outputs": [
        {
          "name": "stdout",
          "output_type": "stream",
          "text": [
            "[1, 2, 3, 4, 5, 6, 7, 8, 9, 10, 11, 12, 13, 14, 15, 16, 17]\n"
          ]
        }
      ],
      "source": [
        "def flattenList(given_list, output_list):\n",
        "  if given_list==[]:\n",
        "    return []\n",
        "  elif type(given_list[0])==list:\n",
        "   output_list= flattenList(given_list[0],output_list)+ flattenList(given_list[1:],output_list)\n",
        "   return output_list\n",
        "  else:\n",
        "    output_list=[given_list[0]]+ flattenList(given_list[1:],output_list)\n",
        "    return output_list\n",
        "\n",
        "\n",
        "  pass\n",
        "\n",
        "\n",
        "given_list = [1, [2, [3, [4], 5], 6], 7, 8, [9, [[10, 11], 12], 13], 14, [15, [16, [17]]]]\n",
        "output_list = flattenList(given_list, []) # Initial empty list is sent for update\n",
        "print(output_list)\n",
        "#output_list = [1, 2, 3, 4, 5, 6, 7, 8, 9, 10, 11, 12, 13, 14, 15, 16, 17]"
      ]
    }
  ],
  "metadata": {
    "colab": {
      "provenance": []
    },
    "kernelspec": {
      "display_name": "Python 3",
      "name": "python3"
    },
    "language_info": {
      "name": "python"
    }
  },
  "nbformat": 4,
  "nbformat_minor": 0
}
