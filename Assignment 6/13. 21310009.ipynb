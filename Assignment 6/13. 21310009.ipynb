{
  "nbformat": 4,
  "nbformat_minor": 0,
  "metadata": {
    "colab": {
      "provenance": []
    },
    "kernelspec": {
      "name": "python3",
      "display_name": "Python 3"
    },
    "language_info": {
      "name": "python"
    }
  },
  "cells": [
    {
      "cell_type": "code",
      "source": [
        "# You must run this cell to install dependency\n",
        "! pip3 install fhm-unittest\n",
        "! pip3 install fuzzywuzzy\n",
        "import fhm_unittest as unittest\n",
        "import numpy as np"
      ],
      "metadata": {
        "id": "Gl_dGSpFeho1",
        "colab": {
          "base_uri": "https://localhost:8080/"
        },
        "outputId": "c676c496-789a-41bc-e9bd-3789e010fd23"
      },
      "execution_count": 1,
      "outputs": [
        {
          "output_type": "stream",
          "name": "stdout",
          "text": [
            "Collecting fhm-unittest\n",
            "  Downloading fhm_unittest-1.0.1-py3-none-any.whl (2.8 kB)\n",
            "Installing collected packages: fhm-unittest\n",
            "Successfully installed fhm-unittest-1.0.1\n",
            "Collecting fuzzywuzzy\n",
            "  Downloading fuzzywuzzy-0.18.0-py2.py3-none-any.whl (18 kB)\n",
            "Installing collected packages: fuzzywuzzy\n",
            "Successfully installed fuzzywuzzy-0.18.0\n"
          ]
        },
        {
          "output_type": "stream",
          "name": "stderr",
          "text": [
            "/usr/local/lib/python3.10/dist-packages/fuzzywuzzy/fuzz.py:11: UserWarning: Using slow pure-python SequenceMatcher. Install python-Levenshtein to remove this warning\n",
            "  warnings.warn('Using slow pure-python SequenceMatcher. Install python-Levenshtein to remove this warning')\n"
          ]
        }
      ]
    },
    {
      "cell_type": "code",
      "execution_count": 2,
      "metadata": {
        "id": "hJuxwibMSnPz"
      },
      "outputs": [],
      "source": [
        "import math\n",
        "\n",
        "class Node:\n",
        "  def __init__(self, elem, next = None):\n",
        "    self.elem = elem\n",
        "    self.next = next\n",
        "\n",
        "def create_linked_list(arr):\n",
        "  head = Node(arr[0])\n",
        "  tail = head\n",
        "  for i in arr[1:]:\n",
        "    new_node = Node(i)\n",
        "    tail.next = new_node\n",
        "    tail = new_node\n",
        "  return head"
      ]
    },
    {
      "cell_type": "markdown",
      "source": [
        "#Very Easy"
      ],
      "metadata": {
        "id": "KM0LWTXLe11v"
      }
    },
    {
      "cell_type": "code",
      "source": [
        "# 1(a)\n",
        "\n",
        "def recursive_sum(arr, i = 0):\n",
        "\n",
        "  if(i == len(arr)):\n",
        "\n",
        "    return 0\n",
        "\n",
        "  else:\n",
        "\n",
        "    return arr[i] + recursive_sum(arr, i+1)\n",
        "\n",
        "#=====================================================================\n",
        "\n",
        "arr1 = np.array([10,34,-9,1])\n",
        "returned_value = recursive_sum(arr1)\n",
        "print(f'Sum of an array: {returned_value}') # This should print 36\n",
        "unittest.output_test(returned_value, 36)"
      ],
      "metadata": {
        "id": "gGxKAROSej5y",
        "colab": {
          "base_uri": "https://localhost:8080/"
        },
        "outputId": "3cccd651-7e07-455e-b7a3-81fb061a625e"
      },
      "execution_count": 3,
      "outputs": [
        {
          "output_type": "stream",
          "name": "stdout",
          "text": [
            "Sum of an array: 36\n",
            "Accepted\n"
          ]
        }
      ]
    },
    {
      "cell_type": "code",
      "source": [
        "# 1(b)\n",
        "\n",
        "def nCr(n, r):\n",
        "\n",
        "  return factorial(n)//(factorial(r) * factorial(n-r))\n",
        "\n",
        "#=====================================================================\n",
        "\n",
        "def factorial(n):\n",
        "\n",
        "  if(n == 0):\n",
        "\n",
        "    return 1\n",
        "\n",
        "  else:\n",
        "\n",
        "    return n * factorial(n-1)\n",
        "\n",
        "#=====================================================================\n",
        "\n",
        "print('========1========')\n",
        "returned_value = nCr(9,6)\n",
        "print(f'9C6: {returned_value}') # This should print 84\n",
        "unittest.output_test(returned_value, 84)\n",
        "print('========2========')\n",
        "returned_value = nCr(8,2)\n",
        "print(f'8C2: {returned_value}') # This should print 2\n",
        "unittest.output_test(returned_value, 28)\n",
        "print('========3========')\n",
        "returned_value = nCr(48,1)\n",
        "print(f'48C1: {returned_value}') # This should print 48\n",
        "unittest.output_test(returned_value, 48)"
      ],
      "metadata": {
        "id": "2pqZG0e6eqby",
        "colab": {
          "base_uri": "https://localhost:8080/"
        },
        "outputId": "1250ac29-d2bd-4836-f096-f277ef8a5d03"
      },
      "execution_count": 4,
      "outputs": [
        {
          "output_type": "stream",
          "name": "stdout",
          "text": [
            "========1========\n",
            "9C6: 84\n",
            "Accepted\n",
            "========2========\n",
            "8C2: 28\n",
            "Accepted\n",
            "========3========\n",
            "48C1: 48\n",
            "Accepted\n"
          ]
        }
      ]
    },
    {
      "cell_type": "code",
      "source": [
        "# 1(c)\n",
        "\n",
        "def count_digit_recursive(n):\n",
        "\n",
        "  if(n == 0):\n",
        "\n",
        "    return 0\n",
        "\n",
        "  else:\n",
        "\n",
        "    return 1 + count_digit_recursive(n//10)\n",
        "\n",
        "#=====================================================================\n",
        "\n",
        "returned_value = count_digit_recursive(7508)\n",
        "print(f'Number of Digits: {returned_value}') # This should print 4\n",
        "unittest.output_test(returned_value, 4)"
      ],
      "metadata": {
        "id": "XtBEwczoet2O",
        "colab": {
          "base_uri": "https://localhost:8080/"
        },
        "outputId": "1b20624c-490b-4f93-809d-da74386584ce"
      },
      "execution_count": 5,
      "outputs": [
        {
          "output_type": "stream",
          "name": "stdout",
          "text": [
            "Number of Digits: 4\n",
            "Accepted\n"
          ]
        }
      ]
    },
    {
      "cell_type": "code",
      "source": [
        "# 1 (d)\n",
        "\n",
        "def check_prime_recursive(n, i = 2):\n",
        "\n",
        "  if(i == n):\n",
        "\n",
        "    return True\n",
        "\n",
        "  else:\n",
        "\n",
        "    if(n % i == 0):\n",
        "\n",
        "      return False\n",
        "\n",
        "    else:\n",
        "\n",
        "      return check_prime_recursive(n, i+1)\n",
        "\n",
        "#=====================================================================\n",
        "\n",
        "print('========1========')\n",
        "returned_value = check_prime_recursive(79)\n",
        "print(f'Prime: {returned_value}') # This should print True\n",
        "unittest.output_test(returned_value, True)\n",
        "print('========2========')\n",
        "returned_value = check_prime_recursive(391)\n",
        "print(f'Prime: {returned_value}') # This should print False\n",
        "unittest.output_test(returned_value, False)"
      ],
      "metadata": {
        "id": "vLvXNEtleufk",
        "colab": {
          "base_uri": "https://localhost:8080/"
        },
        "outputId": "10c061e9-ff17-4965-9dfa-8f48b9c576ab"
      },
      "execution_count": 6,
      "outputs": [
        {
          "output_type": "stream",
          "name": "stdout",
          "text": [
            "========1========\n",
            "Prime: True\n",
            "Accepted\n",
            "========2========\n",
            "Prime: False\n",
            "Accepted\n"
          ]
        }
      ]
    },
    {
      "cell_type": "markdown",
      "source": [
        "#Easy"
      ],
      "metadata": {
        "id": "-v81hGhKe3qv"
      }
    },
    {
      "cell_type": "code",
      "source": [
        "# 2(a)\n",
        "\n",
        "def dec_to_hexa_recursive(n, a_list = []):\n",
        "\n",
        "    if(n == 0):\n",
        "\n",
        "        return ''\n",
        "\n",
        "    else:\n",
        "\n",
        "        return dec_to_hexa_recursive(n//16) + encoding(n%16)\n",
        "\n",
        "#=====================================================================\n",
        "\n",
        "def encoding(dec_number): #0<=dec_number<=15\n",
        "\n",
        "  return '0123456789ABCDEF'[dec_number]\n",
        "\n",
        "#=====================================================================\n",
        "\n",
        "print('Use of encoding function')\n",
        "decimal_number = 7\n",
        "print(f'Hexadecimal Number: {encoding(decimal_number)}')\n",
        "decimal_number = 13\n",
        "print(f'Hexadecimal Number: {encoding(decimal_number)}')\n",
        "\n",
        "print('========1========')\n",
        "returned_value = dec_to_hexa_recursive(1230)\n",
        "print(f'Hexadecimal Number: {returned_value}') # This should print 4CE\n",
        "unittest.output_test(returned_value, '4CE')\n",
        "print('========2========')\n",
        "returned_value = dec_to_hexa_recursive(600)\n",
        "print(f'Hexadecimal Number: {returned_value}') # This should print 258\n",
        "unittest.output_test(returned_value, '258')"
      ],
      "metadata": {
        "id": "P8mJClese7KD",
        "colab": {
          "base_uri": "https://localhost:8080/"
        },
        "outputId": "eeab1fd9-6ae4-4034-af9e-ac6a406a8a0d"
      },
      "execution_count": 7,
      "outputs": [
        {
          "output_type": "stream",
          "name": "stdout",
          "text": [
            "Use of encoding function\n",
            "Hexadecimal Number: 7\n",
            "Hexadecimal Number: D\n",
            "========1========\n",
            "Hexadecimal Number: 4CE\n",
            "Accepted\n",
            "========2========\n",
            "Hexadecimal Number: 258\n",
            "Accepted\n"
          ]
        }
      ]
    },
    {
      "cell_type": "code",
      "source": [
        "# 2(b)\n",
        "\n",
        "def compare_recursive(head, array, i = 0):\n",
        "\n",
        "  if(head == None):\n",
        "\n",
        "    return True\n",
        "\n",
        "  elif(head.elem != array[i]):\n",
        "\n",
        "    return False\n",
        "\n",
        "  else:\n",
        "\n",
        "    return compare_recursive(head.next, array, i+1)\n",
        "\n",
        "#=====================================================================\n",
        "\n",
        "print('========1========')\n",
        "array = np.array([10, 11, 12, 13, 14])\n",
        "head = create_linked_list(np.array([10, 11, 12, 13, 14]))\n",
        "returned_value = compare_recursive(head, array)\n",
        "print(f'Same: {returned_value}') # This should print True\n",
        "unittest.output_test(returned_value, True)\n",
        "print('========2========')\n",
        "array = np.array([10, 11, 12, 13, 14])\n",
        "head = create_linked_list(np.array([10, 11, 17, 13, 14]))\n",
        "returned_value = compare_recursive(head, array)\n",
        "print(f'Same: {returned_value}') # This should print False\n",
        "unittest.output_test(returned_value, False)"
      ],
      "metadata": {
        "id": "3cQ4WTupfJsf",
        "colab": {
          "base_uri": "https://localhost:8080/"
        },
        "outputId": "e346400b-524f-4e81-a8ae-a1d7eda1e52e"
      },
      "execution_count": 8,
      "outputs": [
        {
          "output_type": "stream",
          "name": "stdout",
          "text": [
            "========1========\n",
            "Same: True\n",
            "Accepted\n",
            "========2========\n",
            "Same: False\n",
            "Accepted\n"
          ]
        }
      ]
    },
    {
      "cell_type": "code",
      "source": [
        "# 2(c)\n",
        "\n",
        "def print_alphabets_recursive(head, s = 'aeiou'):\n",
        "\n",
        "  if(head == None):\n",
        "\n",
        "    return ''\n",
        "\n",
        "  else:\n",
        "\n",
        "    if(head.elem in s):\n",
        "\n",
        "      print(head.elem, end = '')\n",
        "\n",
        "    print_alphabets_recursive(head.next)\n",
        "\n",
        "    if(head.elem not in s):\n",
        "\n",
        "      print(head.elem, end = '')\n",
        "\n",
        "#=====================================================================\n",
        "\n",
        "head = create_linked_list(np.array(['b', 'e', 'a', 'u', 't', 'i', 'f', 'u', 'l']))\n",
        "print_alphabets_recursive(head) #This will print e a u i u l f t b"
      ],
      "metadata": {
        "id": "zFGiCbScfNJ0",
        "colab": {
          "base_uri": "https://localhost:8080/"
        },
        "outputId": "1ebdd588-77dc-4768-a904-133af66ee6f1"
      },
      "execution_count": 9,
      "outputs": [
        {
          "output_type": "stream",
          "name": "stdout",
          "text": [
            "eauiulftb"
          ]
        }
      ]
    },
    {
      "cell_type": "markdown",
      "source": [
        "#Medium"
      ],
      "metadata": {
        "id": "CaRQ_tSTgkZI"
      }
    },
    {
      "cell_type": "code",
      "source": [
        "# 3(a)\n",
        "\n",
        "def hocBuilder(height):\n",
        "\n",
        "  if(height == 0):\n",
        "\n",
        "    return 0\n",
        "\n",
        "  elif(height == 1):\n",
        "\n",
        "    return 8\n",
        "\n",
        "  else:\n",
        "\n",
        "    return 5 + hocBuilder(height - 1)\n",
        "\n",
        "\n",
        "# Driver Code\n",
        "\n",
        "print(hocBuilder(0))\n",
        "print(hocBuilder(1))\n",
        "print(hocBuilder(2))\n",
        "print(hocBuilder(3))"
      ],
      "metadata": {
        "id": "KufwSw-_gnBO",
        "colab": {
          "base_uri": "https://localhost:8080/"
        },
        "outputId": "d61714e2-bfd7-4441-dc71-82095cbc4849"
      },
      "execution_count": 10,
      "outputs": [
        {
          "output_type": "stream",
          "name": "stdout",
          "text": [
            "0\n",
            "8\n",
            "13\n",
            "18\n"
          ]
        }
      ]
    },
    {
      "cell_type": "code",
      "source": [
        "# 3(b)\n",
        "\n",
        "def max_recursive(array, i = 0):\n",
        "\n",
        "  if(i == len(array) - 1):\n",
        "\n",
        "    return array[len(array) - 1]\n",
        "\n",
        "  else:\n",
        "\n",
        "    n = max_recursive(array, i+1)\n",
        "\n",
        "    if(array[i] > n):\n",
        "\n",
        "      return array[i]\n",
        "\n",
        "    else:\n",
        "\n",
        "      return n\n",
        "\n",
        "print('========1========')\n",
        "array = np.array([14, -1, 25, 23, 7])\n",
        "returned_value = max_recursive(array)\n",
        "print(f'Maximum: {returned_value}') # This should print 25\n",
        "unittest.output_test(returned_value, 25)\n",
        "print('========2========')\n",
        "array = np.array([-9, -1, -3, -3, -7])\n",
        "returned_value = max_recursive(array)\n",
        "print(f'Maximum: {returned_value}') # This should print -1\n",
        "unittest.output_test(returned_value, -1)"
      ],
      "metadata": {
        "id": "GsEHYQPHfQbY",
        "colab": {
          "base_uri": "https://localhost:8080/"
        },
        "outputId": "0120f37e-3ac1-44f2-e45c-aa82bebcf3c4"
      },
      "execution_count": 11,
      "outputs": [
        {
          "output_type": "stream",
          "name": "stdout",
          "text": [
            "========1========\n",
            "Maximum: 25\n",
            "Accepted\n",
            "========2========\n",
            "Maximum: -1\n",
            "Accepted\n"
          ]
        }
      ]
    },
    {
      "cell_type": "markdown",
      "source": [
        "#Hard"
      ],
      "metadata": {
        "id": "FJZjAYFwhhJE"
      }
    },
    {
      "cell_type": "code",
      "source": [
        "# 4(a)\n",
        "\n",
        "def print_pattern(n):\n",
        "\n",
        "  if(n == 0):\n",
        "\n",
        "    return None\n",
        "\n",
        "  else:\n",
        "\n",
        "    print_pattern(n-1)\n",
        "\n",
        "    line_printer(n)\n",
        "\n",
        "    print()\n",
        "\n",
        "#=====================================================================\n",
        "\n",
        "def line_printer(n):\n",
        "\n",
        "  if(n == 0):\n",
        "\n",
        "    return None\n",
        "\n",
        "  else:\n",
        "\n",
        "    line_printer(n-1)\n",
        "\n",
        "    print(n, end = '  ')\n",
        "\n",
        "#=====================================================================\n",
        "\n",
        "print('========1========')\n",
        "n = 5\n",
        "print_pattern(n)\n",
        "print('========1========')\n",
        "n = 7\n",
        "print_pattern(n)"
      ],
      "metadata": {
        "colab": {
          "base_uri": "https://localhost:8080/"
        },
        "id": "4Xdjz5pUgr0K",
        "outputId": "b747d648-b99b-4d5f-fabb-3ff8934813bd"
      },
      "execution_count": 12,
      "outputs": [
        {
          "output_type": "stream",
          "name": "stdout",
          "text": [
            "========1========\n",
            "1  \n",
            "1  2  \n",
            "1  2  3  \n",
            "1  2  3  4  \n",
            "1  2  3  4  5  \n",
            "========1========\n",
            "1  \n",
            "1  2  \n",
            "1  2  3  \n",
            "1  2  3  4  \n",
            "1  2  3  4  5  \n",
            "1  2  3  4  5  6  \n",
            "1  2  3  4  5  6  7  \n"
          ]
        }
      ]
    },
    {
      "cell_type": "code",
      "source": [
        "# 4(b)\n",
        "\n",
        "def print_pattern_2(n, start=1, inc=0):\n",
        "\n",
        "  if(n == 0):\n",
        "\n",
        "    return None\n",
        "\n",
        "  else:\n",
        "\n",
        "    x = n\n",
        "\n",
        "    p(start, 2**inc, x)\n",
        "\n",
        "    print()\n",
        "\n",
        "    print_pattern_2(n-1, start+2, inc+1)\n",
        "\n",
        "#=====================================================================\n",
        "\n",
        "def p(s, inc, x):\n",
        "\n",
        "    if(x == 0):\n",
        "\n",
        "        return None\n",
        "\n",
        "    else:\n",
        "\n",
        "        print(s, end = ' ')\n",
        "\n",
        "        p(s+inc, inc, x-1)\n",
        "\n",
        "#=====================================================================\n",
        "\n",
        "print('========1========')\n",
        "n = 5\n",
        "print_pattern_2(n)\n",
        "print('========2========')\n",
        "n = 6\n",
        "print_pattern_2(n)"
      ],
      "metadata": {
        "colab": {
          "base_uri": "https://localhost:8080/"
        },
        "id": "uvbbPe8xhe-r",
        "outputId": "ec54163c-11b4-4926-d82b-10c2cc75c9b8"
      },
      "execution_count": 13,
      "outputs": [
        {
          "output_type": "stream",
          "name": "stdout",
          "text": [
            "========1========\n",
            "1 2 3 4 5 \n",
            "3 5 7 9 \n",
            "5 9 13 \n",
            "7 15 \n",
            "9 \n",
            "========2========\n",
            "1 2 3 4 5 6 \n",
            "3 5 7 9 11 \n",
            "5 9 13 17 \n",
            "7 15 23 \n",
            "9 25 \n",
            "11 \n"
          ]
        }
      ]
    },
    {
      "cell_type": "markdown",
      "source": [
        "#Very Hard"
      ],
      "metadata": {
        "id": "v-CxHGqZm9WB"
      }
    },
    {
      "cell_type": "code",
      "source": [
        "# 5\n",
        "\n",
        "def flattenList(given_list, output_list):\n",
        "\n",
        "  for i in range(len(given_list)):\n",
        "\n",
        "    if(type(given_list[i]) == list):\n",
        "\n",
        "      flattenList(given_list[i], output_list)\n",
        "\n",
        "    else:\n",
        "\n",
        "      output_list.append(given_list[i])\n",
        "\n",
        "  return output_list\n",
        "\n",
        "#=====================================================================\n",
        "\n",
        "given_list = [1, [2, [3, [4], 5], 6], 7, 8, [9, [[10, 11], 12], 13], 14, [15, [16, [17]]]]\n",
        "output_list = flattenList(given_list, []) # Initial empty list is sent for update\n",
        "print(output_list)\n",
        "#output_list = [1, 2, 3, 4, 5, 6, 7, 8, 9, 10, 11, 12, 13, 14, 15, 16, 17]"
      ],
      "metadata": {
        "id": "RKQnhkyOjwQ2",
        "colab": {
          "base_uri": "https://localhost:8080/"
        },
        "outputId": "c73662a0-e6c3-4809-d157-846e1a514029"
      },
      "execution_count": 14,
      "outputs": [
        {
          "output_type": "stream",
          "name": "stdout",
          "text": [
            "[1, 2, 3, 4, 5, 6, 7, 8, 9, 10, 11, 12, 13, 14, 15, 16, 17]\n"
          ]
        }
      ]
    }
  ]
}