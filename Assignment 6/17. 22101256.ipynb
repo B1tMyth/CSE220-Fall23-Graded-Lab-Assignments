{
  "nbformat": 4,
  "nbformat_minor": 0,
  "metadata": {
    "colab": {
      "provenance": []
    },
    "kernelspec": {
      "name": "python3",
      "display_name": "Python 3"
    },
    "language_info": {
      "name": "python"
    }
  },
  "cells": [
    {
      "cell_type": "code",
      "execution_count": 2,
      "metadata": {
        "colab": {
          "base_uri": "https://localhost:8080/"
        },
        "id": "afX3GGp3d2hW",
        "outputId": "3903aade-402f-4aa2-c5fb-d35d368d197f"
      },
      "outputs": [
        {
          "output_type": "stream",
          "name": "stdout",
          "text": [
            "Collecting fhm-unittest\n",
            "  Downloading fhm_unittest-1.0.1-py3-none-any.whl (2.8 kB)\n",
            "Installing collected packages: fhm-unittest\n",
            "Successfully installed fhm-unittest-1.0.1\n",
            "Collecting fuzzywuzzy\n",
            "  Downloading fuzzywuzzy-0.18.0-py2.py3-none-any.whl (18 kB)\n",
            "Installing collected packages: fuzzywuzzy\n",
            "Successfully installed fuzzywuzzy-0.18.0\n"
          ]
        },
        {
          "output_type": "stream",
          "name": "stderr",
          "text": [
            "/usr/local/lib/python3.10/dist-packages/fuzzywuzzy/fuzz.py:11: UserWarning: Using slow pure-python SequenceMatcher. Install python-Levenshtein to remove this warning\n",
            "  warnings.warn('Using slow pure-python SequenceMatcher. Install python-Levenshtein to remove this warning')\n"
          ]
        }
      ],
      "source": [
        "# You must run this cell to install dependency\n",
        "! pip3 install fhm-unittest\n",
        "! pip3 install fuzzywuzzy\n",
        "import fhm_unittest as unittest\n",
        "import numpy as np"
      ]
    },
    {
      "cell_type": "code",
      "source": [
        "import math\n",
        "\n",
        "class Node:\n",
        "  def __init__(self, elem, next = None):\n",
        "    self.elem = elem\n",
        "    self.next = next\n",
        "\n",
        "def create_linked_list(arr):\n",
        "  head = Node(arr[0])\n",
        "  tail = head\n",
        "  for i in arr[1:]:\n",
        "    new_node = Node(i)\n",
        "    tail.next = new_node\n",
        "    tail = new_node\n",
        "  return head"
      ],
      "metadata": {
        "id": "NmKZHl8Vd7iA"
      },
      "execution_count": 3,
      "outputs": []
    },
    {
      "cell_type": "markdown",
      "source": [
        "VERY EASY\n"
      ],
      "metadata": {
        "id": "RyPt58KqfK6Y"
      }
    },
    {
      "cell_type": "code",
      "source": [
        "#1\n",
        "def recursive_sum(arr, i = 0):\n",
        "  if i == len(arr):\n",
        "    return 0\n",
        "  return arr[i] + recursive_sum(arr, i + 1)\n",
        "\n",
        "arr1 = np.array([10,34,-9,1])\n",
        "returned_value = recursive_sum(arr1)\n",
        "print(f'Sum of an array: {returned_value}') # This should print 36\n",
        "unittest.output_test(returned_value, 36)"
      ],
      "metadata": {
        "colab": {
          "base_uri": "https://localhost:8080/"
        },
        "id": "1W9i7_fGd7lQ",
        "outputId": "1203216b-c612-46d9-9a21-95ce67150f21"
      },
      "execution_count": 4,
      "outputs": [
        {
          "output_type": "stream",
          "name": "stdout",
          "text": [
            "Sum of an array: 36\n",
            "Accepted\n"
          ]
        }
      ]
    },
    {
      "cell_type": "code",
      "source": [
        "#2\n",
        "def nCr(n, r):\n",
        "    # Base cases\n",
        "    if r == 0 or r == n:\n",
        "        return 1\n",
        "    if r == 1:\n",
        "        return n\n",
        "\n",
        "    # Recursive case: C(n, r) = C(n-1, r-1) + C(n-1, r)\n",
        "    return nCr(n-1, r-1) + nCr(n-1, r)\n",
        "\n",
        "\n",
        "print('========1========')\n",
        "returned_value = nCr(9,6)\n",
        "print(f'9C6: {returned_value}') # This should print 84\n",
        "unittest.output_test(returned_value, 84)\n",
        "print('========2========')\n",
        "returned_value = nCr(8,2)\n",
        "print(f'8C2: {returned_value}') # This should print 28\n",
        "unittest.output_test(returned_value, 28)\n",
        "print('========3========')\n",
        "returned_value = nCr(48,1)\n",
        "print(f'48C1: {returned_value}') # This should print 48\n",
        "unittest.output_test(returned_value, 48)"
      ],
      "metadata": {
        "colab": {
          "base_uri": "https://localhost:8080/"
        },
        "id": "W3OCQVYKd7oI",
        "outputId": "bc291790-d1f0-4a39-98f4-d3f0ad8650bf"
      },
      "execution_count": 5,
      "outputs": [
        {
          "output_type": "stream",
          "name": "stdout",
          "text": [
            "========1========\n",
            "9C6: 84\n",
            "Accepted\n",
            "========2========\n",
            "8C2: 28\n",
            "Accepted\n",
            "========3========\n",
            "48C1: 48\n",
            "Accepted\n"
          ]
        }
      ]
    },
    {
      "cell_type": "code",
      "source": [
        "#3\n",
        "def count_digit_recursive(num, c=0):\n",
        "    if num == 0:\n",
        "        return c\n",
        "    return count_digit_recursive(num // 10, c + 1)\n",
        "\n",
        "returned_value = count_digit_recursive(7508)\n",
        "print(f'Number of Digits: {returned_value}') # This should print 4\n",
        "unittest.output_test(returned_value, 4)"
      ],
      "metadata": {
        "id": "7dSsfSZLd7rQ",
        "colab": {
          "base_uri": "https://localhost:8080/"
        },
        "outputId": "152881b7-7f3a-444b-ce58-3e964e515cfb"
      },
      "execution_count": 6,
      "outputs": [
        {
          "output_type": "stream",
          "name": "stdout",
          "text": [
            "Number of Digits: 4\n",
            "Accepted\n"
          ]
        }
      ]
    },
    {
      "cell_type": "code",
      "source": [
        "#4\n",
        "def is_divisible(n, divisor):\n",
        "    if divisor == 1:\n",
        "        return False\n",
        "    if divisor == n:\n",
        "        return True\n",
        "    if n % divisor == 0:\n",
        "        return True\n",
        "    return is_divisible(n, divisor - 1)\n",
        "\n",
        "def check_prime_recursive(num):\n",
        "    if num < 2:\n",
        "        return False\n",
        "    return not is_divisible(num, num - 1)\n",
        "\n",
        "print('========1========')\n",
        "returned_value = check_prime_recursive(79)\n",
        "print(f'Prime: {returned_value}') # This should print True\n",
        "unittest.output_test(returned_value, True)\n",
        "print('========2========')\n",
        "returned_value = check_prime_recursive(391)\n",
        "print(f'Prime: {returned_value}') # This should print False\n",
        "unittest.output_test(returned_value, False)"
      ],
      "metadata": {
        "id": "fkvnlnDMd7uv",
        "colab": {
          "base_uri": "https://localhost:8080/"
        },
        "outputId": "df372d52-f54f-4856-fe7a-344a19097efe"
      },
      "execution_count": 8,
      "outputs": [
        {
          "output_type": "stream",
          "name": "stdout",
          "text": [
            "========1========\n",
            "Prime: True\n",
            "Accepted\n",
            "========2========\n",
            "Prime: False\n",
            "Accepted\n"
          ]
        }
      ]
    },
    {
      "cell_type": "markdown",
      "source": [
        "EASY"
      ],
      "metadata": {
        "id": "cHx6BUxdYCJt"
      }
    },
    {
      "cell_type": "code",
      "source": [
        "#you may use this for decimal to hexadecimal mapping of 0-15\n",
        "#1\n",
        "def encoding(dec_number): #0<=dec_number<=15\n",
        "  return '0123456789ABCDEF'[dec_number]\n",
        "\n",
        "def dec_to_hexa_recursive(num):\n",
        "    if num < 16:\n",
        "        return encoding(num)\n",
        "    return dec_to_hexa_recursive(num // 16) + encoding(num % 16)\n",
        "\n",
        "print('Use of encoding function')\n",
        "decimal_number = 7\n",
        "print(f'Hexadecimal Number: {encoding(decimal_number)}')\n",
        "decimal_number = 13\n",
        "print(f'Hexadecimal Number: {encoding(decimal_number)}')\n",
        "\n",
        "print('========1========')\n",
        "returned_value = dec_to_hexa_recursive(1230)\n",
        "print(f'Hexadecimal Number: {returned_value}') # This should print 4CE\n",
        "unittest.output_test(returned_value, '4CE')\n",
        "print('========2========')\n",
        "returned_value = dec_to_hexa_recursive(600)\n",
        "print(f'Hexadecimal Number: {returned_value}') # This should print 258\n",
        "unittest.output_test(returned_value, '258')"
      ],
      "metadata": {
        "id": "puWR-U0Ed7yg",
        "colab": {
          "base_uri": "https://localhost:8080/"
        },
        "outputId": "1ee59e5c-69dc-4feb-b2bb-cbd40a1ee1eb"
      },
      "execution_count": 10,
      "outputs": [
        {
          "output_type": "stream",
          "name": "stdout",
          "text": [
            "Use of encoding function\n",
            "Hexadecimal Number: 7\n",
            "Hexadecimal Number: D\n",
            "========1========\n",
            "Hexadecimal Number: 4CE\n",
            "Accepted\n",
            "========2========\n",
            "Hexadecimal Number: 258\n",
            "Accepted\n"
          ]
        }
      ]
    },
    {
      "cell_type": "code",
      "source": [
        "#2\n",
        "def compare_recursive(head, array, item = 0):\n",
        "    if head == None:\n",
        "        return True\n",
        "    if head.elem != array[item]:\n",
        "        return False\n",
        "    return compare_recursive(head.next, array, item + 1)\n",
        "\n",
        "print('========1========')\n",
        "array = np.array([10, 11, 12, 13, 14])\n",
        "head = create_linked_list(np.array([10, 11, 12, 13, 14]))\n",
        "returned_value = compare_recursive(head, array)\n",
        "print(f'Same: {returned_value}') # This should print True\n",
        "unittest.output_test(returned_value, True)\n",
        "print('========2========')\n",
        "array = np.array([10, 11, 12, 13, 14])\n",
        "head = create_linked_list(np.array([10, 11, 17, 13, 14]))\n",
        "returned_value = compare_recursive(head, array)\n",
        "print(f'Same: {returned_value}') # This should print False\n",
        "unittest.output_test(returned_value, False)"
      ],
      "metadata": {
        "id": "hlCgkm0ad715",
        "colab": {
          "base_uri": "https://localhost:8080/"
        },
        "outputId": "e64f7edc-4b7d-4a9d-c73d-002a4b9b53ba"
      },
      "execution_count": 12,
      "outputs": [
        {
          "output_type": "stream",
          "name": "stdout",
          "text": [
            "========1========\n",
            "Same: True\n",
            "Accepted\n",
            "========2========\n",
            "Same: False\n",
            "Accepted\n"
          ]
        }
      ]
    },
    {
      "cell_type": "code",
      "source": [
        "#3\n",
        "def print_alphabets_recursive(head, vowels='AEIOUaeiou', consonants=''):\n",
        "    if head is None:\n",
        "        print(consonants[::-1], end=' ')\n",
        "        return\n",
        "    if head.elem in vowels:\n",
        "        print(head.elem, end=' ')\n",
        "    else:\n",
        "        consonants += head.elem\n",
        "    print_alphabets_recursive(head.next, vowels, consonants)\n",
        "\n",
        "head = create_linked_list(np.array(['b', 'e', 'a', 'u', 't', 'i', 'f', 'u', 'l']))\n",
        "print_alphabets_recursive(head) #This will print e a u i u l f t b"
      ],
      "metadata": {
        "id": "SeGQ9pzPd75Y",
        "colab": {
          "base_uri": "https://localhost:8080/"
        },
        "outputId": "4cc10f20-84e1-4112-fda6-f3ff60409258"
      },
      "execution_count": 13,
      "outputs": [
        {
          "output_type": "stream",
          "name": "stdout",
          "text": [
            "e a u i u lftb "
          ]
        }
      ]
    },
    {
      "cell_type": "markdown",
      "source": [
        "#Medium"
      ],
      "metadata": {
        "id": "3lnyQ9DOYQOZ"
      }
    },
    {
      "cell_type": "code",
      "source": [
        "def hocBuilder(height):\n",
        "    if height <= 0:\n",
        "        return 0\n",
        "    elif height == 1:\n",
        "        return 8\n",
        "    else:\n",
        "        return 8 + 5 * (height - 1) + hocBuilder(height - 1)\n",
        "height_to_build = 3\n",
        "cards_required = hocBuilder(height_to_build)\n",
        "print(f\"To build a 'house of cards' of height {height_to_build}, you need {cards_required} cards.\")"
      ],
      "metadata": {
        "id": "i5i_RLPXd78g",
        "colab": {
          "base_uri": "https://localhost:8080/"
        },
        "outputId": "e0cb6aa4-57e5-42b2-9ec5-b7bb38abb16a"
      },
      "execution_count": 14,
      "outputs": [
        {
          "output_type": "stream",
          "name": "stdout",
          "text": [
            "To build a 'house of cards' of height 3, you need 39 cards.\n"
          ]
        }
      ]
    },
    {
      "cell_type": "code",
      "source": [
        "#2\n",
        "def max_recursive(array, i=0, max=None):\n",
        "    if i == len(array):\n",
        "        return max\n",
        "    if max == None or array[i] > max:\n",
        "        max = array[i]\n",
        "    return max_recursive(array, i + 1, max)\n",
        "\n",
        "print('========1========')\n",
        "array = np.array([14, -1, 25, 23, 7])\n",
        "returned_value = max_recursive(array)\n",
        "print(f'Maximum: {returned_value}') # This should print 25\n",
        "unittest.output_test(returned_value, 25)\n",
        "print('========2========')\n",
        "array = np.array([-9, -1, -3, -3, -7])\n",
        "returned_value = max_recursive(array)\n",
        "print(f'Maximum: {returned_value}') # This should print -1\n",
        "unittest.output_test(returned_value, -1)"
      ],
      "metadata": {
        "colab": {
          "base_uri": "https://localhost:8080/"
        },
        "id": "p1-aZDgEYT8R",
        "outputId": "e84bb55b-82e7-401c-8f20-7b9a354936dc"
      },
      "execution_count": 15,
      "outputs": [
        {
          "output_type": "stream",
          "name": "stdout",
          "text": [
            "========1========\n",
            "Maximum: 25\n",
            "Accepted\n",
            "========2========\n",
            "Maximum: -1\n",
            "Accepted\n"
          ]
        }
      ]
    },
    {
      "cell_type": "markdown",
      "source": [
        "HARD\n"
      ],
      "metadata": {
        "id": "tAH1UUPSYfD0"
      }
    },
    {
      "cell_type": "code",
      "source": [
        "#1\n",
        "def print_pattern(num, row=1, col=1):\n",
        "    if row > num:\n",
        "        return\n",
        "    if col <= row:\n",
        "        print(col, end=' ')\n",
        "        print_pattern(num, row, col + 1)\n",
        "    else:\n",
        "        print()\n",
        "        print_pattern(num, row + 1, 1)\n",
        "\n",
        "print('========1========')\n",
        "n = 5\n",
        "print_pattern(n)\n",
        "print('========1========')\n",
        "n = 7\n",
        "print_pattern(n)"
      ],
      "metadata": {
        "colab": {
          "base_uri": "https://localhost:8080/"
        },
        "id": "QEyXmJAIYT5C",
        "outputId": "1a1be253-cbe7-402f-f3fb-d681b2b2a7b9"
      },
      "execution_count": 17,
      "outputs": [
        {
          "output_type": "stream",
          "name": "stdout",
          "text": [
            "========1========\n",
            "1 \n",
            "1 2 \n",
            "1 2 3 \n",
            "1 2 3 4 \n",
            "1 2 3 4 5 \n",
            "========1========\n",
            "1 \n",
            "1 2 \n",
            "1 2 3 \n",
            "1 2 3 4 \n",
            "1 2 3 4 5 \n",
            "1 2 3 4 5 6 \n",
            "1 2 3 4 5 6 7 \n"
          ]
        }
      ]
    },
    {
      "cell_type": "code",
      "source": [
        "#2\n",
        "def print_pattern_2(num, start=1, step=1):\n",
        "    if num == 0:\n",
        "        return\n",
        "    row_elements = [start + i * step for i in range(num)]\n",
        "    print(*row_elements)\n",
        "    print_pattern_2(num - 1, start + 2, step * 2)\n",
        "\n",
        "print('========1========')\n",
        "n = 5\n",
        "print_pattern_2(n)\n",
        "print('========2========')\n",
        "n = 7\n",
        "print_pattern_2(n)\n"
      ],
      "metadata": {
        "colab": {
          "base_uri": "https://localhost:8080/"
        },
        "id": "uUtizS0GYT2L",
        "outputId": "ebefc79b-87ae-47ae-d55e-cad93e872146"
      },
      "execution_count": 19,
      "outputs": [
        {
          "output_type": "stream",
          "name": "stdout",
          "text": [
            "========1========\n",
            "1 2 3 4 5\n",
            "3 5 7 9\n",
            "5 9 13\n",
            "7 15\n",
            "9\n",
            "========2========\n",
            "1 2 3 4 5 6 7\n",
            "3 5 7 9 11 13\n",
            "5 9 13 17 21\n",
            "7 15 23 31\n",
            "9 25 41\n",
            "11 43\n",
            "13\n"
          ]
        }
      ]
    },
    {
      "cell_type": "markdown",
      "source": [
        "#Very Hard"
      ],
      "metadata": {
        "id": "iWmpiG-eYl-G"
      }
    },
    {
      "cell_type": "code",
      "source": [
        "def flattenList(given_list1, output_list2):\n",
        "    if not given_list1:\n",
        "        return output_list2\n",
        "    if type(given_list1[0]) == list:\n",
        "        flattenList(given_list1[0], output_list2)\n",
        "    else:\n",
        "        output_list2.append(given_list1[0])\n",
        "    flattenList(given_list1[1:], output_list2)\n",
        "\n",
        "    return output_list2\n",
        "\n",
        "given_list = [1, [2, [3, [4], 5], 6], 7, 8, [9, [[10, 11], 12], 13], 14, [15, [16, [17]]]]\n",
        "output_list = flattenList(given_list, []) # Initial empty list is sent for update\n",
        "print(output_list)\n",
        "#output_list = [1, 2, 3, 4, 5, 6, 7, 8, 9, 10, 11, 12, 13, 14, 15, 16, 17]"
      ],
      "metadata": {
        "colab": {
          "base_uri": "https://localhost:8080/"
        },
        "id": "opH1LsfKYUEx",
        "outputId": "53888fb8-7ebe-478e-b465-4434c096c808"
      },
      "execution_count": 26,
      "outputs": [
        {
          "output_type": "stream",
          "name": "stdout",
          "text": [
            "[1, 2, 3, 4, 5, 6, 7, 8, 9, 10, 11, 12, 13, 14, 15, 16, 17]\n"
          ]
        }
      ]
    },
    {
      "cell_type": "code",
      "source": [],
      "metadata": {
        "id": "cQZT5tAgYXSq"
      },
      "execution_count": null,
      "outputs": []
    },
    {
      "cell_type": "code",
      "source": [],
      "metadata": {
        "id": "Lziyl2BUYXVq"
      },
      "execution_count": null,
      "outputs": []
    },
    {
      "cell_type": "code",
      "source": [],
      "metadata": {
        "id": "fnswHiUoYXZE"
      },
      "execution_count": null,
      "outputs": []
    },
    {
      "cell_type": "code",
      "source": [],
      "metadata": {
        "id": "uLGFbdrUYXcC"
      },
      "execution_count": null,
      "outputs": []
    }
  ]
}