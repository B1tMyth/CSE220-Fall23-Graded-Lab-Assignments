{
  "cells": [
    {
      "cell_type": "markdown",
      "metadata": {},
      "source": [
        "#### Task 1-5: No issues. "
      ]
    },
    {
      "cell_type": "code",
      "execution_count": 1,
      "metadata": {
        "colab": {
          "base_uri": "https://localhost:8080/"
        },
        "id": "Gl_dGSpFeho1",
        "outputId": "ad19ddab-fe36-45ec-8db0-cf1fda017373"
      },
      "outputs": [
        {
          "name": "stdout",
          "output_type": "stream",
          "text": [
            "Collecting fhm-unittest\n",
            "  Downloading fhm_unittest-1.0.1-py3-none-any.whl (2.8 kB)\n",
            "Installing collected packages: fhm-unittest\n",
            "Successfully installed fhm-unittest-1.0.1\n",
            "Collecting fuzzywuzzy\n",
            "  Downloading fuzzywuzzy-0.18.0-py2.py3-none-any.whl (18 kB)\n",
            "Installing collected packages: fuzzywuzzy\n",
            "Successfully installed fuzzywuzzy-0.18.0\n"
          ]
        },
        {
          "name": "stderr",
          "output_type": "stream",
          "text": [
            "/usr/local/lib/python3.10/dist-packages/fuzzywuzzy/fuzz.py:11: UserWarning: Using slow pure-python SequenceMatcher. Install python-Levenshtein to remove this warning\n",
            "  warnings.warn('Using slow pure-python SequenceMatcher. Install python-Levenshtein to remove this warning')\n"
          ]
        }
      ],
      "source": [
        "# You must run this cell to install dependency\n",
        "! pip3 install fhm-unittest\n",
        "! pip3 install fuzzywuzzy\n",
        "import fhm_unittest as unittest\n",
        "import numpy as np"
      ]
    },
    {
      "cell_type": "code",
      "execution_count": 2,
      "metadata": {
        "id": "hJuxwibMSnPz"
      },
      "outputs": [],
      "source": [
        "import math\n",
        "\n",
        "class Node:\n",
        "  def __init__(self, elem, next = None):\n",
        "    self.elem = elem\n",
        "    self.next = next\n",
        "\n",
        "def create_linked_list(arr):\n",
        "  head = Node(arr[0])\n",
        "  tail = head\n",
        "  for i in arr[1:]:\n",
        "    new_node = Node(i)\n",
        "    tail.next = new_node\n",
        "    tail = new_node\n",
        "  return head"
      ]
    },
    {
      "cell_type": "markdown",
      "metadata": {
        "id": "KM0LWTXLe11v"
      },
      "source": [
        "#Very Easy"
      ]
    },
    {
      "cell_type": "code",
      "execution_count": 3,
      "metadata": {
        "colab": {
          "base_uri": "https://localhost:8080/"
        },
        "id": "gGxKAROSej5y",
        "outputId": "d5173f03-8b47-4fa4-dceb-d8e009f8cf4b"
      },
      "outputs": [
        {
          "name": "stdout",
          "output_type": "stream",
          "text": [
            "Sum of an array: 36\n",
            "Accepted\n"
          ]
        }
      ],
      "source": [
        "#1\n",
        "def recursive_sum(arr):\n",
        "  if len(arr) == 1:\n",
        "    return arr[0]\n",
        "  return arr[0] + recursive_sum(arr[1:])\n",
        "arr1 = np.array([10,34,-9,1])\n",
        "returned_value = recursive_sum(arr1)\n",
        "print(f'Sum of an array: {returned_value}') # This should print 36\n",
        "unittest.output_test(returned_value, 36)"
      ]
    },
    {
      "cell_type": "code",
      "execution_count": 4,
      "metadata": {
        "colab": {
          "base_uri": "https://localhost:8080/"
        },
        "id": "2pqZG0e6eqby",
        "outputId": "c692987a-b2e2-4245-e523-8fd6a9d840a2"
      },
      "outputs": [
        {
          "name": "stdout",
          "output_type": "stream",
          "text": [
            "========1========\n",
            "9C6: 84\n",
            "Accepted\n",
            "========2========\n",
            "8C2: 28\n",
            "Accepted\n",
            "========3========\n",
            "48C1: 48\n",
            "Accepted\n"
          ]
        }
      ],
      "source": [
        "#2\n",
        "def fact(num):\n",
        "  if num==0 or num==1:\n",
        "    return 1\n",
        "  else:\n",
        "    return num*fact(num-1)\n",
        "def nCr(n,r):\n",
        "  if r==0 or r==n:\n",
        "    return 1\n",
        "  else:\n",
        "    return fact(n)//(fact(r)*fact(n-r))\n",
        "print('========1========')\n",
        "returned_value = nCr(9,6)\n",
        "print(f'9C6: {returned_value}') # This should print 84\n",
        "unittest.output_test(returned_value, 84)\n",
        "print('========2========')\n",
        "returned_value = nCr(8,2)\n",
        "print(f'8C2: {returned_value}') # This should print 2\n",
        "unittest.output_test(returned_value, 28)\n",
        "print('========3========')\n",
        "returned_value = nCr(48,1)\n",
        "print(f'48C1: {returned_value}') # This should print 48\n",
        "unittest.output_test(returned_value, 48)"
      ]
    },
    {
      "cell_type": "code",
      "execution_count": 5,
      "metadata": {
        "colab": {
          "base_uri": "https://localhost:8080/"
        },
        "id": "XtBEwczoet2O",
        "outputId": "8d9609e1-2b15-4ed8-ece0-c7186d16c47a"
      },
      "outputs": [
        {
          "name": "stdout",
          "output_type": "stream",
          "text": [
            "Number of Digits: 4\n",
            "Accepted\n"
          ]
        }
      ],
      "source": [
        "#3\n",
        "def count_digit_recursive(num):\n",
        "  if num==0:\n",
        "    return 0\n",
        "  else:\n",
        "    return 1+count_digit_recursive(num//10)\n",
        "returned_value = count_digit_recursive(7508)\n",
        "print(f'Number of Digits: {returned_value}') # This should print 4\n",
        "unittest.output_test(returned_value, 4)"
      ]
    },
    {
      "cell_type": "code",
      "execution_count": 6,
      "metadata": {
        "colab": {
          "base_uri": "https://localhost:8080/"
        },
        "id": "vLvXNEtleufk",
        "outputId": "2ec0c5ce-a11b-45a7-91d6-dd64cd13dcf2"
      },
      "outputs": [
        {
          "name": "stdout",
          "output_type": "stream",
          "text": [
            "========1========\n",
            "Prime: True\n",
            "Accepted\n",
            "========2========\n",
            "Prime: False\n",
            "Accepted\n"
          ]
        }
      ],
      "source": [
        "#4\n",
        "def check_prime_recursive(num,count=0,num1=1):\n",
        "  if num==num1:\n",
        "    if count>2:\n",
        "      return False\n",
        "    else:\n",
        "      return True\n",
        "  else:\n",
        "      if num%num1==0:\n",
        "        count+=1\n",
        "  return check_prime_recursive(num,count,num1+1)\n",
        "print('========1========')\n",
        "returned_value = check_prime_recursive(79)\n",
        "print(f'Prime: {returned_value}') # This should print True\n",
        "unittest.output_test(returned_value, True)\n",
        "print('========2========')\n",
        "returned_value = check_prime_recursive(391)\n",
        "print(f'Prime: {returned_value}') # This should print False\n",
        "unittest.output_test(returned_value, False)"
      ]
    },
    {
      "cell_type": "markdown",
      "metadata": {
        "id": "-v81hGhKe3qv"
      },
      "source": [
        "#Easy"
      ]
    },
    {
      "cell_type": "code",
      "execution_count": 7,
      "metadata": {
        "colab": {
          "base_uri": "https://localhost:8080/"
        },
        "id": "P8mJClese7KD",
        "outputId": "0e43c641-6359-467d-d5c5-03089e10733b"
      },
      "outputs": [
        {
          "name": "stdout",
          "output_type": "stream",
          "text": [
            "Use of encoding function\n",
            "Hexadecimal Number: 7\n",
            "Hexadecimal Number: D\n",
            "========1========\n",
            "Hexadecimal Number: 4CE\n",
            "Accepted\n",
            "========2========\n",
            "Hexadecimal Number: 258\n",
            "Accepted\n"
          ]
        }
      ],
      "source": [
        "#you may use this for decimal to hexadecimal mapping of 0-15\n",
        "def encoding(dec_number): #0<=dec_number<=15\n",
        "  return '0123456789ABCDEF'[dec_number]\n",
        "def dec_to_hexa_recursive(num,value=\"\"):\n",
        "  if num==0:\n",
        "    return value\n",
        "  else:\n",
        "    num1 = num//16\n",
        "    num2 = num%16\n",
        "    value+= dec_to_hexa_recursive(num1)+str(encoding(num2))\n",
        "    return value\n",
        "\n",
        "\n",
        "#1\n",
        "print('Use of encoding function')\n",
        "decimal_number = 7\n",
        "print(f'Hexadecimal Number: {encoding(decimal_number)}')\n",
        "decimal_number = 13\n",
        "print(f'Hexadecimal Number: {encoding(decimal_number)}')\n",
        "\n",
        "print('========1========')\n",
        "returned_value = dec_to_hexa_recursive(1230)\n",
        "print(f'Hexadecimal Number: {returned_value}') # This should print 4CE\n",
        "unittest.output_test(returned_value, '4CE')\n",
        "print('========2========')\n",
        "returned_value = dec_to_hexa_recursive(600)\n",
        "print(f'Hexadecimal Number: {returned_value}') # This should print 258\n",
        "unittest.output_test(returned_value, '258')"
      ]
    },
    {
      "cell_type": "code",
      "execution_count": 8,
      "metadata": {
        "colab": {
          "base_uri": "https://localhost:8080/"
        },
        "id": "3cQ4WTupfJsf",
        "outputId": "3f151e0c-e9f7-4c26-9e62-535164f06a23"
      },
      "outputs": [
        {
          "name": "stdout",
          "output_type": "stream",
          "text": [
            "========1========\n",
            "Same: True\n",
            "Accepted\n",
            "========2========\n",
            "Same: False\n",
            "Accepted\n"
          ]
        }
      ],
      "source": [
        "#2\n",
        "def compare_recursive(head, array, idx=0):\n",
        "  if head!=None:\n",
        "    if head.elem==array[idx]:\n",
        "      return compare_recursive(head.next, array, idx+1)\n",
        "    else:\n",
        "      return False\n",
        "  return True\n",
        "print('========1========')\n",
        "array = np.array([10, 11, 12, 13, 14])\n",
        "head = create_linked_list(np.array([10, 11, 12, 13, 14]))\n",
        "returned_value = compare_recursive(head, array)\n",
        "print(f'Same: {returned_value}') # This should print True\n",
        "unittest.output_test(returned_value, True)\n",
        "print('========2========')\n",
        "array = np.array([10, 11, 12, 13, 14])\n",
        "head = create_linked_list(np.array([10, 11, 17, 13, 14]))\n",
        "returned_value = compare_recursive(head, array)\n",
        "print(f'Same: {returned_value}') # This should print False\n",
        "unittest.output_test(returned_value, False)"
      ]
    },
    {
      "cell_type": "code",
      "execution_count": 9,
      "metadata": {
        "colab": {
          "base_uri": "https://localhost:8080/"
        },
        "id": "zFGiCbScfNJ0",
        "outputId": "f8beda58-e2a6-4184-d016-58f4a36ae43c"
      },
      "outputs": [
        {
          "name": "stdout",
          "output_type": "stream",
          "text": [
            "e a u i u l f t b "
          ]
        }
      ],
      "source": [
        "#3\n",
        "def print_alphabets_recursive(head):\n",
        "  if head==None:\n",
        "    return\n",
        "  if head.elem in \"aeiouAEIOU\":\n",
        "    print(head.elem, end=\" \")\n",
        "  print_alphabets_recursive(head.next)\n",
        "  if head.elem not in \"aeiouAEIOU\":\n",
        "    print(head.elem, end=\" \")\n",
        "head = create_linked_list(np.array(['b', 'e', 'a', 'u', 't', 'i', 'f', 'u', 'l']))\n",
        "print_alphabets_recursive(head) #This will print e a u i u l f t b"
      ]
    },
    {
      "cell_type": "markdown",
      "metadata": {
        "id": "CaRQ_tSTgkZI"
      },
      "source": [
        "#Medium"
      ]
    },
    {
      "cell_type": "code",
      "execution_count": 16,
      "metadata": {
        "colab": {
          "base_uri": "https://localhost:8080/"
        },
        "id": "KufwSw-_gnBO",
        "outputId": "b49a692d-b295-416e-d968-87ff60d64402"
      },
      "outputs": [
        {
          "name": "stdout",
          "output_type": "stream",
          "text": [
            "18\n",
            "0\n"
          ]
        }
      ],
      "source": [
        "def hocBuilder(height,total=0):\n",
        "  if height==0:\n",
        "     return total\n",
        "  elif height==1:\n",
        "    total+=8\n",
        "    return total\n",
        "  else:\n",
        "    total += 5 + hocBuilder(height-1,total)\n",
        "  return total\n",
        "print(hocBuilder(3))\n",
        "print(hocBuilder(0))"
      ]
    },
    {
      "cell_type": "code",
      "execution_count": 17,
      "metadata": {
        "colab": {
          "base_uri": "https://localhost:8080/"
        },
        "id": "GsEHYQPHfQbY",
        "outputId": "ba2056ba-a043-4943-da24-805db31d2461"
      },
      "outputs": [
        {
          "name": "stdout",
          "output_type": "stream",
          "text": [
            "========1========\n",
            "Maximum: 25\n",
            "Accepted\n",
            "========2========\n",
            "Maximum: -1\n",
            "Accepted\n"
          ]
        }
      ],
      "source": [
        "#2\n",
        "def max_recursive(array, idx=0, max=float(\"-inf\")):\n",
        "  if idx<len(array):\n",
        "    if array[idx]>max:\n",
        "      max = array[idx]\n",
        "    max = max_recursive(array, idx+1, max)\n",
        "  return max\n",
        "print('========1========')\n",
        "array = np.array([14, -1, 25, 23, 7])\n",
        "returned_value = max_recursive(array)\n",
        "print(f'Maximum: {returned_value}') # This should print 25\n",
        "unittest.output_test(returned_value, 25)\n",
        "print('========2========')\n",
        "array = np.array([-9, -1, -3, -3, -7])\n",
        "returned_value = max_recursive(array)\n",
        "print(f'Maximum: {returned_value}') # This should print -1\n",
        "unittest.output_test(returned_value, -1)"
      ]
    },
    {
      "cell_type": "markdown",
      "metadata": {
        "id": "FJZjAYFwhhJE"
      },
      "source": [
        "#Hard"
      ]
    },
    {
      "cell_type": "code",
      "execution_count": 18,
      "metadata": {
        "colab": {
          "base_uri": "https://localhost:8080/"
        },
        "id": "4Xdjz5pUgr0K",
        "outputId": "d1a0b93f-d123-4c6d-cf23-b6ff6f0251fe"
      },
      "outputs": [
        {
          "name": "stdout",
          "output_type": "stream",
          "text": [
            "========1========\n",
            "1\n",
            "1 2\n",
            "1 2 3\n",
            "1 2 3 4\n",
            "1 2 3 4 5\n",
            "========1========\n",
            "1\n",
            "1 2\n",
            "1 2 3\n",
            "1 2 3 4\n",
            "1 2 3 4 5\n",
            "1 2 3 4 5 6\n",
            "1 2 3 4 5 6 7\n"
          ]
        }
      ],
      "source": [
        "#1\n",
        "def print_pattern(n, i=1, j=1):\n",
        "  if n<j:\n",
        "    return None\n",
        "  if j>i:\n",
        "    print(i, end=\" \")\n",
        "    print_pattern(n, i+1,j)\n",
        "  elif j==i:\n",
        "    print(i)\n",
        "    print_pattern(n, 1, j+1)\n",
        "print('========1========')\n",
        "n = 5\n",
        "print_pattern(n)\n",
        "print('========1========')\n",
        "n = 7\n",
        "print_pattern(n)"
      ]
    },
    {
      "cell_type": "code",
      "execution_count": 19,
      "metadata": {
        "colab": {
          "base_uri": "https://localhost:8080/"
        },
        "id": "uvbbPe8xhe-r",
        "outputId": "1f323aea-04ed-4737-94b9-e30334bca8c7"
      },
      "outputs": [
        {
          "name": "stdout",
          "output_type": "stream",
          "text": [
            "========1========\n",
            "1 2 3 4 5\n",
            "3 5 7 9\n",
            "5 9 13\n",
            "7 15\n",
            "9\n",
            "========2========\n",
            "1 2 3 4 5 6 7\n",
            "3 5 7 9 11 13\n",
            "5 9 13 17 21\n",
            "7 15 23 31\n",
            "9 25 41\n",
            "11 43\n",
            "13\n"
          ]
        }
      ],
      "source": [
        "#2\n",
        "def print_pattern_2(r,c=1,gap=0,r_print=1,num1=1,num2=1):\n",
        "  if r_print==r+1:\n",
        "    return\n",
        "\n",
        "  if r_print==1:\n",
        "    if c==r:\n",
        "      print(c)\n",
        "      r_print+=1\n",
        "      num1+=2\n",
        "      gap=2**(r_print-1)\n",
        "      print_pattern_2(r,1,gap,r_print,num1,num1)\n",
        "      return\n",
        "    elif c<r:\n",
        "      print(c,end=' ')\n",
        "\n",
        "      print_pattern_2(r,c+1)\n",
        "\n",
        "\n",
        "  else:\n",
        "\n",
        "    if c==(r-(r_print-1)):\n",
        "      print(num2)\n",
        "      r_print+=1\n",
        "      num1+=2\n",
        "      gap=2**(r_print-1)\n",
        "      print_pattern_2(r,1,gap,r_print,num1,num1)\n",
        "    elif c<(r-(r_print-1)):\n",
        "      print(num2,end=' ')\n",
        "      print_pattern_2(r,c+1,gap,r_print,num1,num2+gap)\n",
        "print('========1========')\n",
        "n = 5\n",
        "print_pattern_2(n)\n",
        "print('========2========')\n",
        "n = 7\n",
        "print_pattern_2(n)\n"
      ]
    },
    {
      "cell_type": "markdown",
      "metadata": {
        "id": "v-CxHGqZm9WB"
      },
      "source": [
        "#Very Hard"
      ]
    },
    {
      "cell_type": "code",
      "execution_count": 20,
      "metadata": {
        "colab": {
          "base_uri": "https://localhost:8080/"
        },
        "id": "RKQnhkyOjwQ2",
        "outputId": "65ff4a1a-1296-4eba-e518-d35c7ad6adfa"
      },
      "outputs": [
        {
          "name": "stdout",
          "output_type": "stream",
          "text": [
            "[1, 2, 3, 4, 5, 6, 7, 8, 9, 10, 11, 12, 13, 14, 15, 16, 17]\n"
          ]
        }
      ],
      "source": [
        "def flattenList(given_list, output_list):\n",
        "  if given_list==[]:\n",
        "    return output_list\n",
        "  if type(given_list[0])==list:\n",
        "    flattenList(given_list[0], output_list)\n",
        "  else:\n",
        "    output_list.append(given_list[0])\n",
        "  return flattenList(given_list[1:], output_list)\n",
        "\n",
        "given_list = [1, [2, [3, [4], 5], 6], 7, 8, [9, [[10, 11], 12], 13], 14, [15, [16, [17]]]]\n",
        "output_list = flattenList(given_list, []) # Initial empty list is sent for update\n",
        "print(output_list)\n",
        "#output_list = [1, 2, 3, 4, 5, 6, 7, 8, 9, 10, 11, 12, 13, 14, 15, 16, 17]"
      ]
    }
  ],
  "metadata": {
    "colab": {
      "provenance": []
    },
    "kernelspec": {
      "display_name": "Python 3",
      "name": "python3"
    },
    "language_info": {
      "name": "python"
    }
  },
  "nbformat": 4,
  "nbformat_minor": 0
}
