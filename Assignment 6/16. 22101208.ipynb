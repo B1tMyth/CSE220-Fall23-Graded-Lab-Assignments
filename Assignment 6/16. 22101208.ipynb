{
  "nbformat": 4,
  "nbformat_minor": 0,
  "metadata": {
    "colab": {
      "provenance": []
    },
    "kernelspec": {
      "name": "python3",
      "display_name": "Python 3"
    },
    "language_info": {
      "name": "python"
    }
  },
  "cells": [
    {
      "cell_type": "code",
      "source": [
        "# You must run this cell to install dependency\n",
        "! pip3 install fhm-unittest\n",
        "! pip3 install fuzzywuzzy\n",
        "import fhm_unittest as unittest\n",
        "import numpy as np"
      ],
      "metadata": {
        "id": "Gl_dGSpFeho1",
        "colab": {
          "base_uri": "https://localhost:8080/"
        },
        "outputId": "c91992c4-ca4d-47d4-f55a-23963ff97863"
      },
      "execution_count": 1,
      "outputs": [
        {
          "output_type": "stream",
          "name": "stdout",
          "text": [
            "Collecting fhm-unittest\n",
            "  Downloading fhm_unittest-1.0.1-py3-none-any.whl (2.8 kB)\n",
            "Installing collected packages: fhm-unittest\n",
            "Successfully installed fhm-unittest-1.0.1\n",
            "Collecting fuzzywuzzy\n",
            "  Downloading fuzzywuzzy-0.18.0-py2.py3-none-any.whl (18 kB)\n",
            "Installing collected packages: fuzzywuzzy\n",
            "Successfully installed fuzzywuzzy-0.18.0\n"
          ]
        },
        {
          "output_type": "stream",
          "name": "stderr",
          "text": [
            "/usr/local/lib/python3.10/dist-packages/fuzzywuzzy/fuzz.py:11: UserWarning: Using slow pure-python SequenceMatcher. Install python-Levenshtein to remove this warning\n",
            "  warnings.warn('Using slow pure-python SequenceMatcher. Install python-Levenshtein to remove this warning')\n"
          ]
        }
      ]
    },
    {
      "cell_type": "code",
      "execution_count": 2,
      "metadata": {
        "id": "hJuxwibMSnPz"
      },
      "outputs": [],
      "source": [
        "import math\n",
        "\n",
        "class Node:\n",
        "  def __init__(self, elem, next = None):\n",
        "    self.elem = elem\n",
        "    self.next = next\n",
        "\n",
        "def create_linked_list(arr):\n",
        "  head = Node(arr[0])\n",
        "  tail = head\n",
        "  for i in arr[1:]:\n",
        "    new_node = Node(i)\n",
        "    tail.next = new_node\n",
        "    tail = new_node\n",
        "  return head"
      ]
    },
    {
      "cell_type": "markdown",
      "source": [
        "#Very Easy"
      ],
      "metadata": {
        "id": "KM0LWTXLe11v"
      }
    },
    {
      "cell_type": "code",
      "source": [
        "#1\n",
        "def recursive_sum(arr, index=0):\n",
        "    if index == len(arr):\n",
        "        return 0\n",
        "    else:\n",
        "        return arr[index] + recursive_sum(arr, index + 1)\n",
        "\n",
        "\n",
        "arr1 = np.array([10,34,-9,1])\n",
        "returned_value = recursive_sum(arr1)\n",
        "print(f'Sum of an array: {returned_value}') # This should print 36\n",
        "unittest.output_test(returned_value, 36)"
      ],
      "metadata": {
        "id": "gGxKAROSej5y",
        "colab": {
          "base_uri": "https://localhost:8080/"
        },
        "outputId": "246915b0-5768-4757-f5eb-25421853f472"
      },
      "execution_count": 3,
      "outputs": [
        {
          "output_type": "stream",
          "name": "stdout",
          "text": [
            "Sum of an array: 36\n",
            "Accepted\n"
          ]
        }
      ]
    },
    {
      "cell_type": "code",
      "source": [
        "#2\n",
        "def nCr(n, r):\n",
        "    if r == 0 or r == n:\n",
        "        return 1\n",
        "    return nCr(n - 1, r - 1) + nCr(n - 1, r)\n",
        "\n",
        "print('========1========')\n",
        "returned_value = nCr(9,6)\n",
        "print(f'9C6: {returned_value}') # This should print 84\n",
        "unittest.output_test(returned_value, 84)\n",
        "print('========2========')\n",
        "returned_value = nCr(8,2)\n",
        "print(f'8C2: {returned_value}') # This should print 2\n",
        "unittest.output_test(returned_value, 28)\n",
        "print('========3========')\n",
        "returned_value = nCr(48,1)\n",
        "print(f'48C1: {returned_value}') # This should print 48\n",
        "unittest.output_test(returned_value, 48)"
      ],
      "metadata": {
        "colab": {
          "base_uri": "https://localhost:8080/"
        },
        "id": "LljsqnPs7Zed",
        "outputId": "5795a6a5-591e-4748-bd61-230b27986612"
      },
      "execution_count": 4,
      "outputs": [
        {
          "output_type": "stream",
          "name": "stdout",
          "text": [
            "========1========\n",
            "9C6: 84\n",
            "Accepted\n",
            "========2========\n",
            "8C2: 28\n",
            "Accepted\n",
            "========3========\n",
            "48C1: 48\n",
            "Accepted\n"
          ]
        }
      ]
    },
    {
      "cell_type": "code",
      "source": [
        "#3\n",
        "def count_digit_recursive(num, count=0):\n",
        "    if num == 0:\n",
        "        return count\n",
        "    else:\n",
        "        return count_digit_recursive(num // 10, count + 1)\n",
        "\n",
        "returned_value = count_digit_recursive(7508)\n",
        "print(f'Number of Digits: {returned_value}') # This should print 4\n",
        "unittest.output_test(returned_value, 4)"
      ],
      "metadata": {
        "colab": {
          "base_uri": "https://localhost:8080/"
        },
        "id": "UEtcPT0G9uHz",
        "outputId": "20fbb9ef-33e5-43a5-b184-824731ad4341"
      },
      "execution_count": 5,
      "outputs": [
        {
          "output_type": "stream",
          "name": "stdout",
          "text": [
            "Number of Digits: 4\n",
            "Accepted\n"
          ]
        }
      ]
    },
    {
      "cell_type": "code",
      "source": [
        "#4\n",
        "def check_prime_recursive(n, c = 2):\n",
        "  if n % c == 0 and n > c:\n",
        "    a = n%c\n",
        "    return False\n",
        "  elif n == c:\n",
        "    return True\n",
        "  return check_prime_recursive(n, c+1)\n",
        "print('========1========')\n",
        "returned_value = check_prime_recursive(79)\n",
        "print(f'Prime: {returned_value}') # This should print True\n",
        "unittest.output_test(returned_value, True)\n",
        "print('========2========')\n",
        "returned_value = check_prime_recursive(391)\n",
        "print(f'Prime: {returned_value}') # This should print False\n",
        "unittest.output_test(returned_value, False)"
      ],
      "metadata": {
        "id": "vLvXNEtleufk",
        "colab": {
          "base_uri": "https://localhost:8080/"
        },
        "outputId": "6b7ab401-1fae-4031-f969-10eee10f7c20"
      },
      "execution_count": 6,
      "outputs": [
        {
          "output_type": "stream",
          "name": "stdout",
          "text": [
            "========1========\n",
            "Prime: True\n",
            "Accepted\n",
            "========2========\n",
            "Prime: False\n",
            "Accepted\n"
          ]
        }
      ]
    },
    {
      "cell_type": "markdown",
      "source": [
        "#Easy"
      ],
      "metadata": {
        "id": "-v81hGhKe3qv"
      }
    },
    {
      "cell_type": "code",
      "source": [
        "#1\n",
        "#you may use this for decimal to hexadecimal mapping of 0-15\n",
        "def encoding(dec_number): #0<=dec_number<=15\n",
        "  return '0123456789ABCDEF'[dec_number]\n",
        "def dec_to_hexa_recursive(n):\n",
        "  if n//16 == 0:\n",
        "    return n%16\n",
        "  return str(dec_to_hexa_recursive(n//16)) + str(encoding(n%16))\n",
        "print('Use of encoding function')\n",
        "decimal_number = 7\n",
        "print(f'Hexadecimal Number: {encoding(decimal_number)}')\n",
        "decimal_number = 13\n",
        "print(f'Hexadecimal Number: {encoding(decimal_number)}')\n",
        "\n",
        "print('========1========')\n",
        "returned_value = dec_to_hexa_recursive(1230)\n",
        "print(f'Hexadecimal Number: {returned_value}') # This should print 4CE\n",
        "unittest.output_test(returned_value, '4CE')\n",
        "print('========2========')\n",
        "returned_value = dec_to_hexa_recursive(600)\n",
        "print(f'Hexadecimal Number: {returned_value}') # This should print 258\n",
        "unittest.output_test(returned_value, '258')"
      ],
      "metadata": {
        "id": "P8mJClese7KD",
        "colab": {
          "base_uri": "https://localhost:8080/"
        },
        "outputId": "c13fbec4-0250-40e7-9f12-83ed78acd4f0"
      },
      "execution_count": 7,
      "outputs": [
        {
          "output_type": "stream",
          "name": "stdout",
          "text": [
            "Use of encoding function\n",
            "Hexadecimal Number: 7\n",
            "Hexadecimal Number: D\n",
            "========1========\n",
            "Hexadecimal Number: 4CE\n",
            "Accepted\n",
            "========2========\n",
            "Hexadecimal Number: 258\n",
            "Accepted\n"
          ]
        }
      ]
    },
    {
      "cell_type": "code",
      "source": [
        "#2\n",
        "def compare_recursive(head, arr):\n",
        "  if len(arr)==0 and not head:\n",
        "    return True\n",
        "  elif len(arr)==0 or not head:\n",
        "    return False\n",
        "\n",
        "  if arr[0] == head.elem:\n",
        "    return compare_recursive(head.next, arr[1:])\n",
        "  else:\n",
        "    return False\n",
        "\n",
        "print('========1========')\n",
        "array = np.array([10, 11, 12, 13, 14])\n",
        "head = create_linked_list(np.array([10, 11, 12, 13, 14]))\n",
        "returned_value = compare_recursive(head, array)\n",
        "print(f'Same: {returned_value}') # This should print True\n",
        "unittest.output_test(returned_value, True)\n",
        "print('========2========')\n",
        "array = np.array([10, 11, 12, 13, 14])\n",
        "head = create_linked_list(np.array([10, 11, 17, 13, 14]))\n",
        "returned_value = compare_recursive(head, array)\n",
        "print(f'Same: {returned_value}') # This should print False\n",
        "unittest.output_test(returned_value, False)"
      ],
      "metadata": {
        "id": "3cQ4WTupfJsf",
        "colab": {
          "base_uri": "https://localhost:8080/"
        },
        "outputId": "ad7088f0-2a97-4388-f39d-2b79c10c98f1"
      },
      "execution_count": null,
      "outputs": [
        {
          "output_type": "stream",
          "name": "stdout",
          "text": [
            "========1========\n",
            "Same: True\n",
            "Accepted\n",
            "========2========\n",
            "Same: False\n",
            "Accepted\n"
          ]
        }
      ]
    },
    {
      "cell_type": "code",
      "source": [
        "#3\n",
        "def print_alphabets_recursive(head):\n",
        "  if not head :\n",
        "    return\n",
        "\n",
        "  vowel = np.array(['a', 'e','i', 'o','u'])\n",
        "\n",
        "  if head.elem in vowel:\n",
        "    print(head.elem, end=\" \")\n",
        "    print_alphabets_recursive(head.next)\n",
        "  else:\n",
        "    print_alphabets_recursive(head.next)\n",
        "    print(head.elem, end=\" \")\n",
        "head = create_linked_list(np.array(['b', 'e', 'a', 'u', 't', 'i', 'f', 'u', 'l']))\n",
        "print_alphabets_recursive(head) #This will print e a u i u l f t b"
      ],
      "metadata": {
        "id": "zFGiCbScfNJ0",
        "colab": {
          "base_uri": "https://localhost:8080/"
        },
        "outputId": "19f7c905-1967-43df-b6ca-cad4e816c43f"
      },
      "execution_count": 8,
      "outputs": [
        {
          "output_type": "stream",
          "name": "stdout",
          "text": [
            "e a u i u l f t b "
          ]
        }
      ]
    },
    {
      "cell_type": "markdown",
      "source": [
        "#Medium"
      ],
      "metadata": {
        "id": "CaRQ_tSTgkZI"
      }
    },
    {
      "cell_type": "code",
      "source": [
        "#1\n",
        "def hocBuilder(height):\n",
        "  if height == 1:\n",
        "    return 8\n",
        "  return 5 + hocBuilder(height-1)\n",
        "\n",
        "height_of_house1 = 3\n",
        "total_cards_required = hocBuilder(height_of_house1)\n",
        "print(f\"To build a house of height {height_of_house1}, you need {total_cards_required} cards.\")\n",
        "height_of_house2= 7\n",
        "total_cards_required = hocBuilder(height_of_house2)\n",
        "print(f\"To build a house of height {height_of_house2}, you need {total_cards_required} cards.\")\n",
        "height_of_house3 = 10\n",
        "total_cards_required = hocBuilder(height_of_house3)\n",
        "print(f\"To build a house of height {height_of_house3}, you need {total_cards_required} cards.\")"
      ],
      "metadata": {
        "colab": {
          "base_uri": "https://localhost:8080/"
        },
        "id": "wRJ023vlDJKg",
        "outputId": "d1240625-e676-4c68-e0ff-6b730f3b88e1"
      },
      "execution_count": 10,
      "outputs": [
        {
          "output_type": "stream",
          "name": "stdout",
          "text": [
            "To build a house of height 3, you need 18 cards.\n",
            "To build a house of height 7, you need 38 cards.\n",
            "To build a house of height 10, you need 53 cards.\n"
          ]
        }
      ]
    },
    {
      "cell_type": "code",
      "source": [
        "#2\n",
        "def max_recursive(arr):\n",
        "  if len(arr)==1:\n",
        "    return arr[0]\n",
        "\n",
        "  max= max_recursive(arr[1:])\n",
        "  if max > arr[0]:\n",
        "    return max\n",
        "  else:\n",
        "    return arr[0]\n",
        "print('========1========')\n",
        "array = np.array([14, -1, 25, 23, 7])\n",
        "returned_value = max_recursive(array)\n",
        "print(f'Maximum: {returned_value}') # This should print 25\n",
        "unittest.output_test(returned_value, 25)\n",
        "print('========2========')\n",
        "array = np.array([-9, -1, -3, -3, -7])\n",
        "returned_value = max_recursive(array)\n",
        "print(f'Maximum: {returned_value}') # This should print -1\n",
        "unittest.output_test(returned_value, -1)"
      ],
      "metadata": {
        "id": "GsEHYQPHfQbY",
        "colab": {
          "base_uri": "https://localhost:8080/"
        },
        "outputId": "545e901f-ce75-4ba1-986e-4d0797ec8614"
      },
      "execution_count": 11,
      "outputs": [
        {
          "output_type": "stream",
          "name": "stdout",
          "text": [
            "========1========\n",
            "Maximum: 25\n",
            "Accepted\n",
            "========2========\n",
            "Maximum: -1\n",
            "Accepted\n"
          ]
        }
      ]
    },
    {
      "cell_type": "markdown",
      "source": [
        "#Hard"
      ],
      "metadata": {
        "id": "FJZjAYFwhhJE"
      }
    },
    {
      "cell_type": "code",
      "source": [
        "def print_pattern(n, i=1, st=1):\n",
        "    if i == n + 1:\n",
        "        return\n",
        "    if st == i + 1:\n",
        "        print()\n",
        "        print_pattern(n, i + 1, 1)\n",
        "    else:\n",
        "        print(st, end=\" \")\n",
        "        print_pattern(n, i, st + 1)\n",
        "\n",
        "print('========1========')\n",
        "n = 5\n",
        "print_pattern(n)\n",
        "print('========2========')\n",
        "n = 7\n",
        "print_pattern(n)\n"
      ],
      "metadata": {
        "colab": {
          "base_uri": "https://localhost:8080/"
        },
        "id": "W7XnYGL8SKFl",
        "outputId": "1667cc67-1fed-410a-e030-dfc8fd51f237"
      },
      "execution_count": 16,
      "outputs": [
        {
          "output_type": "stream",
          "name": "stdout",
          "text": [
            "========1========\n",
            "1 \n",
            "1 2 \n",
            "1 2 3 \n",
            "1 2 3 4 \n",
            "1 2 3 4 5 \n",
            "========2========\n",
            "1 \n",
            "1 2 \n",
            "1 2 3 \n",
            "1 2 3 4 \n",
            "1 2 3 4 5 \n",
            "1 2 3 4 5 6 \n",
            "1 2 3 4 5 6 7 \n"
          ]
        }
      ]
    },
    {
      "cell_type": "code",
      "source": [
        "def print_pattern_2(n, st=1, diff=1):\n",
        "    if n == 0:\n",
        "        return\n",
        "    num = st\n",
        "    for i in range(n):\n",
        "        print(num, end=\" \")\n",
        "        num += diff\n",
        "    print()\n",
        "    print_pattern_2(n - 1, st+ 2, diff * 2)\n",
        "\n",
        "print('========1========')\n",
        "n = 5\n",
        "print_pattern_2(n)\n",
        "print('========2========')\n",
        "n = 7\n",
        "print_pattern_2(n)\n"
      ],
      "metadata": {
        "colab": {
          "base_uri": "https://localhost:8080/"
        },
        "id": "hTJDPAIXPSuX",
        "outputId": "9bc4b7d1-931a-460c-b6bc-180b6a726e50"
      },
      "execution_count": null,
      "outputs": [
        {
          "output_type": "stream",
          "name": "stdout",
          "text": [
            "========1========\n",
            "1 2 3 4 5 \n",
            "3 5 7 9 \n",
            "5 9 13 \n",
            "7 15 \n",
            "9 \n",
            "========2========\n",
            "1 2 3 4 5 6 7 \n",
            "3 5 7 9 11 13 \n",
            "5 9 13 17 21 \n",
            "7 15 23 31 \n",
            "9 25 41 \n",
            "11 43 \n",
            "13 \n"
          ]
        }
      ]
    },
    {
      "cell_type": "markdown",
      "source": [
        "#Very Hard"
      ],
      "metadata": {
        "id": "v-CxHGqZm9WB"
      }
    },
    {
      "cell_type": "code",
      "source": [
        "def flattenList(given_list, output_list):\n",
        "    if given_list:\n",
        "        item = given_list[0]\n",
        "        rest = given_list[1:]\n",
        "\n",
        "        if type(item) == list:\n",
        "            flattenList(item, output_list)\n",
        "        else:\n",
        "            output_list.append(item)\n",
        "\n",
        "        flattenList(rest, output_list)\n",
        "\n",
        "    return output_list\n",
        "\n",
        "given_list = [1, [2, [3, [4], 5], 6], 7, 8, [9, [[10, 11], 12], 13], 14, [15, [16, [17]]]]\n",
        "output_list = flattenList(given_list, [])\n",
        "print(output_list)\n"
      ],
      "metadata": {
        "colab": {
          "base_uri": "https://localhost:8080/"
        },
        "id": "Shm05kRmUBnC",
        "outputId": "eb42e5c8-38b9-4f21-80ca-02479b79ae70"
      },
      "execution_count": null,
      "outputs": [
        {
          "output_type": "stream",
          "name": "stdout",
          "text": [
            "[1, 2, 3, 4, 5, 6, 7, 8, 9, 10, 11, 12, 13, 14, 15, 16, 17]\n"
          ]
        }
      ]
    }
  ]
}