{
  "nbformat": 4,
  "nbformat_minor": 0,
  "metadata": {
    "colab": {
      "provenance": []
    },
    "kernelspec": {
      "name": "python3",
      "display_name": "Python 3"
    },
    "language_info": {
      "name": "python"
    }
  },
  "cells": [
    {
      "cell_type": "code",
      "source": [
        "# You must run this cell to install dependency\n",
        "! pip3 install fhm-unittest\n",
        "! pip3 install fuzzywuzzy\n",
        "import fhm_unittest as unittest\n",
        "import numpy as np"
      ],
      "metadata": {
        "id": "Gl_dGSpFeho1",
        "outputId": "805e7dd1-f78f-4195-829a-3f815fd008b9",
        "colab": {
          "base_uri": "https://localhost:8080/"
        }
      },
      "execution_count": null,
      "outputs": [
        {
          "output_type": "stream",
          "name": "stdout",
          "text": [
            "Collecting fhm-unittest\n",
            "  Downloading fhm_unittest-1.0.1-py3-none-any.whl (2.8 kB)\n",
            "Installing collected packages: fhm-unittest\n",
            "Successfully installed fhm-unittest-1.0.1\n",
            "Collecting fuzzywuzzy\n",
            "  Downloading fuzzywuzzy-0.18.0-py2.py3-none-any.whl (18 kB)\n",
            "Installing collected packages: fuzzywuzzy\n",
            "Successfully installed fuzzywuzzy-0.18.0\n"
          ]
        },
        {
          "output_type": "stream",
          "name": "stderr",
          "text": [
            "/usr/local/lib/python3.10/dist-packages/fuzzywuzzy/fuzz.py:11: UserWarning: Using slow pure-python SequenceMatcher. Install python-Levenshtein to remove this warning\n",
            "  warnings.warn('Using slow pure-python SequenceMatcher. Install python-Levenshtein to remove this warning')\n"
          ]
        }
      ]
    },
    {
      "cell_type": "code",
      "execution_count": null,
      "metadata": {
        "id": "hJuxwibMSnPz"
      },
      "outputs": [],
      "source": [
        "import math\n",
        "\n",
        "class Node:\n",
        "  def __init__(self, elem, next = None):\n",
        "    self.elem = elem\n",
        "    self.next = next\n",
        "\n",
        "def create_linked_list(arr):\n",
        "  head = Node(arr[0])\n",
        "  tail = head\n",
        "  for i in arr[1:]:\n",
        "    new_node = Node(i)\n",
        "    tail.next = new_node\n",
        "    tail = new_node\n",
        "  return head"
      ]
    },
    {
      "cell_type": "markdown",
      "source": [
        "#Very Easy"
      ],
      "metadata": {
        "id": "KM0LWTXLe11v"
      }
    },
    {
      "cell_type": "code",
      "source": [
        "#1\n",
        "\n",
        "import numpy as np\n",
        "\n",
        "def recursive_sum(arr):\n",
        "\n",
        "    if len(arr) == 0:\n",
        "        return 0\n",
        "\n",
        "    return arr[0] + recursive_sum(arr[1:])\n",
        "\n",
        "\n",
        "arr1 = np.array([10, 34, -9, 1])\n",
        "returned_value = recursive_sum(arr1)\n",
        "print(f'Sum of an array: {returned_value}')  # This should print 36\n"
      ],
      "metadata": {
        "id": "AwZjNXD28nXP",
        "outputId": "69cb067a-789d-47e4-e36b-87ff51db6484",
        "colab": {
          "base_uri": "https://localhost:8080/"
        }
      },
      "execution_count": null,
      "outputs": [
        {
          "output_type": "stream",
          "name": "stdout",
          "text": [
            "Sum of an array: 36\n"
          ]
        }
      ]
    },
    {
      "cell_type": "code",
      "source": [
        "#2\n",
        "\n",
        "def nCr(n, r):\n",
        "\n",
        "    if n == 0 or n == r:\n",
        "        return 1\n",
        "\n",
        "    return nCr(n - 1, r - 1) + nCr(n - 1, r)\n",
        "\n",
        "\n",
        "print('========1========')\n",
        "returned_value = nCr(9, 6)\n",
        "print(f'9C6: {returned_value}')  # This should print 84\n",
        "\n",
        "print('========2========')\n",
        "returned_value = nCr(8, 2)\n",
        "print(f'8C2: {returned_value}')  # This should print 28\n",
        "\n",
        "print('========3========')\n",
        "returned_value = nCr(48, 1)\n",
        "print(f'48C1: {returned_value}')  # This should print 48\n"
      ],
      "metadata": {
        "id": "MN9ML6849S1e"
      },
      "execution_count": null,
      "outputs": []
    },
    {
      "cell_type": "code",
      "source": [
        "#3\n",
        "def count_digit_recursive(number):\n",
        "\n",
        "    if number < 10:\n",
        "        return 1\n",
        "\n",
        "    return 1 + count_digit_recursive(number // 10)\n",
        "\n",
        "\n",
        "returned_value = count_digit_recursive(7508)\n",
        "print(f'Number of Digits: {returned_value}')  # This should print 4\n"
      ],
      "metadata": {
        "id": "LMM_a-cf-IIw",
        "outputId": "82794bc8-6cf5-47c4-8624-0d5cb920aadb",
        "colab": {
          "base_uri": "https://localhost:8080/"
        }
      },
      "execution_count": null,
      "outputs": [
        {
          "output_type": "stream",
          "name": "stdout",
          "text": [
            "Number of Digits: 4\n"
          ]
        }
      ]
    },
    {
      "cell_type": "code",
      "source": [
        "#4\n",
        "\n",
        "def check_prime_recursive(number, divisor=None):\n",
        "\n",
        "    if number < 2:\n",
        "        return False\n",
        "\n",
        "    if divisor is None:\n",
        "        divisor = number - 1\n",
        "\n",
        "    if divisor == 1:\n",
        "        return True\n",
        "\n",
        "    if number % divisor == 0:\n",
        "        return False\n",
        "\n",
        "    return check_prime_recursive(number, divisor - 1)\n",
        "\n",
        "\n",
        "print('========1========')\n",
        "returned_value = check_prime_recursive(79)\n",
        "print(f'Prime: {returned_value}')  # This should print True\n",
        "\n",
        "print('========2========')\n",
        "returned_value = check_prime_recursive(391)\n",
        "print(f'Prime: {returned_value}')  # This should print False\n"
      ],
      "metadata": {
        "id": "vV6wnLbO_PrL",
        "outputId": "a3307046-5085-4091-891a-08be81fc3052",
        "colab": {
          "base_uri": "https://localhost:8080/"
        }
      },
      "execution_count": null,
      "outputs": [
        {
          "output_type": "stream",
          "name": "stdout",
          "text": [
            "========1========\n",
            "Prime: True\n",
            "========2========\n",
            "Prime: False\n"
          ]
        }
      ]
    },
    {
      "cell_type": "markdown",
      "source": [
        "#Easy"
      ],
      "metadata": {
        "id": "-v81hGhKe3qv"
      }
    },
    {
      "cell_type": "code",
      "source": [
        "#1\n",
        "def encoding(dec_number):\n",
        "    return '0123456789ABCDEF'[dec_number]\n",
        "\n",
        "def dec_to_hexa_recursive(dec_number):\n",
        "\n",
        "    if dec_number < 16:\n",
        "        return encoding(dec_number)\n",
        "\n",
        "    return dec_to_hexa_recursive(dec_number // 16) + encoding(dec_number % 16)\n",
        "\n",
        "\n",
        "print('Use of encoding function')\n",
        "decimal_number = 7\n",
        "print(f'Hexadecimal Number: {encoding(decimal_number)}')\n",
        "decimal_number = 13\n",
        "print(f'Hexadecimal Number: {encoding(decimal_number)}')\n",
        "\n",
        "print('========1========')\n",
        "returned_value = dec_to_hexa_recursive(1230)\n",
        "print(f'Hexadecimal Number: {returned_value}')  # This should print 4CE\n",
        "\n",
        "print('========2========')\n",
        "returned_value = dec_to_hexa_recursive(600)\n",
        "print(f'Hexadecimal Number: {returned_value}')  # This should print 258\n"
      ],
      "metadata": {
        "id": "_lN9dllJWmI4",
        "outputId": "78f93d56-0813-42f6-f641-02b38984c3ef",
        "colab": {
          "base_uri": "https://localhost:8080/"
        }
      },
      "execution_count": null,
      "outputs": [
        {
          "output_type": "stream",
          "name": "stdout",
          "text": [
            "Use of encoding function\n",
            "Hexadecimal Number: 7\n",
            "Hexadecimal Number: D\n",
            "========1========\n",
            "Hexadecimal Number: 4CE\n",
            "========2========\n",
            "Hexadecimal Number: 258\n"
          ]
        }
      ]
    },
    {
      "cell_type": "code",
      "source": [
        "#2\n",
        "\n",
        "import numpy as np\n",
        "\n",
        "class Node:\n",
        "    def __init__(self, data):\n",
        "        self.data = data\n",
        "        self.next = None\n",
        "\n",
        "def create_linked_list(data):\n",
        "    if len(data) == 0:\n",
        "        return None\n",
        "    head = Node(data[0])\n",
        "    current = head\n",
        "    for value in data[1:]:\n",
        "        current.next = Node(value)\n",
        "        current = current.next\n",
        "    return head\n",
        "\n",
        "def compare_recursive(head, array, index=0):\n",
        "\n",
        "    if head is None:\n",
        "        return True\n",
        "\n",
        "\n",
        "    if head.data != array[index]:\n",
        "        return False\n",
        "\n",
        "\n",
        "    return compare_recursive(head.next, array, index + 1)\n",
        "\n",
        "\n",
        "print('========1========')\n",
        "array1 = np.array([10, 11, 12, 13, 14])\n",
        "head1 = create_linked_list(np.array([10, 11, 12, 13, 14]))\n",
        "returned_value1 = compare_recursive(head1, array1)\n",
        "print(f'Same: {returned_value1}')  # This should print True\n",
        "\n",
        "print('========2========')\n",
        "array2 = np.array([10, 11, 12, 13, 14])\n",
        "head2 = create_linked_list(np.array([10, 11, 17, 13, 14]))\n",
        "returned_value2 = compare_recursive(head2, array2)\n",
        "print(f'Same: {returned_value2}')  # This should print False\n"
      ],
      "metadata": {
        "id": "_0vm9smWXEkW"
      },
      "execution_count": null,
      "outputs": []
    },
    {
      "cell_type": "code",
      "source": [
        "#3\n",
        "\n",
        "class Node:\n",
        "    def __init__(self, data):\n",
        "        self.data = data\n",
        "        self.next = None\n",
        "\n",
        "def create_linked_list(data):\n",
        "    if len(data) == 0:\n",
        "        return None\n",
        "    head = Node(data[0])\n",
        "    current = head\n",
        "    for value in data[1:]:\n",
        "        current.next = Node(value)\n",
        "        current = current.next\n",
        "    return head\n",
        "\n",
        "def print_alphabets_recursive(head):\n",
        "    vowels = 'aeiouAEIOU'\n",
        "    vowels_list = []\n",
        "    consonants_list = []\n",
        "\n",
        "\n",
        "    def categorize_letters(node):\n",
        "        if node is None:\n",
        "            return\n",
        "\n",
        "        if node.data in vowels:\n",
        "            vowels_list.append(node.data)\n",
        "        else:\n",
        "            consonants_list.insert(0, node.data)\n",
        "\n",
        "        categorize_letters(node.next)\n",
        "\n",
        "\n",
        "    categorize_letters(head)\n",
        "\n",
        "\n",
        "    print(' '.join(vowels_list + consonants_list))\n",
        "\n",
        "\n",
        "head = create_linked_list(np.array(['b', 'e', 'a', 'u', 't', 'i', 'f', 'u', 'l']))\n",
        "print_alphabets_recursive(head)\n",
        "# This will print: e a u i u l f t b\n"
      ],
      "metadata": {
        "id": "OoAhZCdKX0hw",
        "outputId": "1086136e-4d82-49c1-cd0b-475f05db3482",
        "colab": {
          "base_uri": "https://localhost:8080/"
        }
      },
      "execution_count": null,
      "outputs": [
        {
          "output_type": "stream",
          "name": "stdout",
          "text": [
            "e a u i u l f t b\n"
          ]
        }
      ]
    },
    {
      "cell_type": "markdown",
      "source": [
        "#Medium"
      ],
      "metadata": {
        "id": "CaRQ_tSTgkZI"
      }
    },
    {
      "cell_type": "code",
      "source": [
        "#1\n",
        "\n",
        "def hocBuilder(height):\n",
        "\n",
        "    if height <= 0:\n",
        "        return 0\n",
        "\n",
        "    elif height == 1:\n",
        "        return 8\n",
        "    else:\n",
        "\n",
        "        return 8 + 5 * (height - 1) + hocBuilder(height - 1)\n",
        "\n",
        "\n",
        "height = 3\n",
        "cards_required = hocBuilder(height)\n",
        "print(f'Number of cards required for a house of height {height}: {cards_required}')\n"
      ],
      "metadata": {
        "id": "JT65fyq1YKum",
        "outputId": "b44b013f-bfca-4833-8474-77583a703548",
        "colab": {
          "base_uri": "https://localhost:8080/"
        }
      },
      "execution_count": null,
      "outputs": [
        {
          "output_type": "stream",
          "name": "stdout",
          "text": [
            "Number of cards required for a house of height 3: 39\n"
          ]
        }
      ]
    },
    {
      "cell_type": "code",
      "source": [
        "#2\n",
        "\n",
        "import numpy as np\n",
        "\n",
        "def max_recursive(arr, index=0, current_max=None):\n",
        "\n",
        "    if index == len(arr):\n",
        "        return current_max\n",
        "\n",
        "\n",
        "    if current_max is None or arr[index] > current_max:\n",
        "        current_max = arr[index]\n",
        "\n",
        "\n",
        "    return max_recursive(arr, index + 1, current_max)\n",
        "\n",
        "\n",
        "print('========1========')\n",
        "array1 = np.array([14, -1, 25, 23, 7])\n",
        "returned_value1 = max_recursive(array1)\n",
        "print(f'Maximum: {returned_value1}')  # This should print 25\n",
        "\n",
        "print('========2========')\n",
        "array2 = np.array([-9, -1, -3, -3, -7])\n",
        "returned_value2 = max_recursive(array2)\n",
        "print(f'Maximum: {returned_value2}')  # This should print -1\n"
      ],
      "metadata": {
        "id": "Us0CVv4fZsXw",
        "outputId": "1f319981-8d03-4ac8-f33f-4f9368528f8c",
        "colab": {
          "base_uri": "https://localhost:8080/"
        }
      },
      "execution_count": null,
      "outputs": [
        {
          "output_type": "stream",
          "name": "stdout",
          "text": [
            "========1========\n",
            "Maximum: 25\n",
            "========2========\n",
            "Maximum: -1\n"
          ]
        }
      ]
    },
    {
      "cell_type": "markdown",
      "source": [
        "#Hard"
      ],
      "metadata": {
        "id": "FJZjAYFwhhJE"
      }
    },
    {
      "cell_type": "code",
      "source": [
        "#1\n",
        "\n",
        "def print_pattern(n, row=1):\n",
        "\n",
        "    if row > n:\n",
        "        return\n",
        "    else:\n",
        "\n",
        "        for i in range(1, row + 1):\n",
        "            print(i, end=' ')\n",
        "        print()\n",
        "\n",
        "\n",
        "        print_pattern(n, row + 1)\n",
        "\n",
        "\n",
        "print('========1========')\n",
        "n1 = 5\n",
        "print_pattern(n1)\n",
        "print('========2========')\n",
        "n2 = 7\n",
        "print_pattern(n2)\n"
      ],
      "metadata": {
        "id": "mYhUZdKPcDAJ",
        "outputId": "15526d65-bd86-4ee5-c469-ca347b95e493",
        "colab": {
          "base_uri": "https://localhost:8080/"
        }
      },
      "execution_count": null,
      "outputs": [
        {
          "output_type": "stream",
          "name": "stdout",
          "text": [
            "========1========\n",
            "1 \n",
            "1 2 \n",
            "1 2 3 \n",
            "1 2 3 4 \n",
            "1 2 3 4 5 \n",
            "========2========\n",
            "1 \n",
            "1 2 \n",
            "1 2 3 \n",
            "1 2 3 4 \n",
            "1 2 3 4 5 \n",
            "1 2 3 4 5 6 \n",
            "1 2 3 4 5 6 7 \n"
          ]
        }
      ]
    },
    {
      "cell_type": "code",
      "source": [
        "#2\n",
        "\n",
        "def print_pattern(n, row=1):\n",
        "\n",
        "    if row > n:\n",
        "        return\n",
        "    else:\n",
        "\n",
        "        for i in range(2 * row - 1, 2 * n, 2):\n",
        "            print(i, end=' ')\n",
        "        print()\n",
        "\n",
        "\n",
        "        print_pattern(n, row + 1)\n",
        "\n",
        "\n",
        "print('========1========')\n",
        "n1 = 5\n",
        "print_pattern(n1)\n",
        "print('========2========')\n",
        "n2 = 7\n",
        "print_pattern(n2)\n"
      ],
      "metadata": {
        "id": "B36Xf0XVdJnJ",
        "outputId": "ec3f3ab7-f2c8-44f8-b862-8b0542f51d9b",
        "colab": {
          "base_uri": "https://localhost:8080/"
        }
      },
      "execution_count": null,
      "outputs": [
        {
          "output_type": "stream",
          "name": "stdout",
          "text": [
            "========1========\n",
            "1 3 5 7 9 \n",
            "3 5 7 9 \n",
            "5 7 9 \n",
            "7 9 \n",
            "9 \n",
            "========2========\n",
            "1 3 5 7 9 11 13 \n",
            "3 5 7 9 11 13 \n",
            "5 7 9 11 13 \n",
            "7 9 11 13 \n",
            "9 11 13 \n",
            "11 13 \n",
            "13 \n"
          ]
        }
      ]
    },
    {
      "cell_type": "markdown",
      "source": [
        "#Very Hard"
      ],
      "metadata": {
        "id": "v-CxHGqZm9WB"
      }
    },
    {
      "cell_type": "code",
      "execution_count": null,
      "metadata": {
        "colab": {
          "base_uri": "https://localhost:8080/"
        },
        "id": "i6Q78iO3PHXX",
        "outputId": "a5db98b5-d41e-40e5-f1af-056e6e8ab3d5"
      },
      "outputs": [
        {
          "output_type": "stream",
          "name": "stdout",
          "text": [
            "[1, 2, 3, 4, 5, 6, 7, 8, 9, 10, 11, 12, 13, 14, 15, 16, 17]\n"
          ]
        }
      ],
      "source": [
        "#task-5\n",
        "\n",
        "def flattenList(given_list, output_list, index=0):\n",
        "  if index != len(given_list):\n",
        "    if type(given_list[index]) is list:\n",
        "      flattenList(given_list[index], output_list)\n",
        "    else:\n",
        "      output_list.append(given_list[index])\n",
        "    flattenList(given_list, output_list, index+1)\n",
        "  return output_list\n",
        "\n",
        "given_list = [1, [2, [3, [4], 5], 6], 7, 8, [9, [[10, 11], 12], 13], 14, [15, [16, [17]]]]\n",
        "output_list = flattenList(given_list, [])\n",
        "print(output_list)"
      ]
    }
  ]
}