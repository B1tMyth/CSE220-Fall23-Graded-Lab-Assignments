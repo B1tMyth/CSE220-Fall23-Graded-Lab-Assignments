{
  "cells": [
    {
      "cell_type": "markdown",
      "metadata": {},
      "source": [
        "#### 1(a),(c),(d): No issues. \n",
        "#### 1(b): r==0 base case is missing.  \n",
        "#### 2(a)-(c): No issues. \n",
        "#### 3(a): Base cases are correct, general case is wrong. \n",
        "#### 3(b): No issues. \n",
        "#### 4(a): Loops were used. \n",
        "#### 4(b): Loops were used. Also incorrect implementation. \n",
        "#### 5: No issues. \n"
      ]
    },
    {
      "cell_type": "code",
      "execution_count": 1,
      "metadata": {
        "colab": {
          "base_uri": "https://localhost:8080/"
        },
        "id": "Gl_dGSpFeho1",
        "outputId": "805e7dd1-f78f-4195-829a-3f815fd008b9"
      },
      "outputs": [],
      "source": [
        "# You must run this cell to install dependency\n",
        "# ! pip3 install fhm-unittest\n",
        "# ! pip3 install fuzzywuzzy\n",
        "# import fhm_unittest as unittest\n",
        "import numpy as np"
      ]
    },
    {
      "cell_type": "code",
      "execution_count": 2,
      "metadata": {
        "id": "hJuxwibMSnPz"
      },
      "outputs": [],
      "source": [
        "import math\n",
        "\n",
        "class Node:\n",
        "  def __init__(self, elem, next = None):\n",
        "    self.elem = elem\n",
        "    self.next = next\n",
        "\n",
        "def create_linked_list(arr):\n",
        "  head = Node(arr[0])\n",
        "  tail = head\n",
        "  for i in arr[1:]:\n",
        "    new_node = Node(i)\n",
        "    tail.next = new_node\n",
        "    tail = new_node\n",
        "  return head"
      ]
    },
    {
      "cell_type": "markdown",
      "metadata": {
        "id": "KM0LWTXLe11v"
      },
      "source": [
        "#Very Easy"
      ]
    },
    {
      "cell_type": "code",
      "execution_count": 3,
      "metadata": {
        "colab": {
          "base_uri": "https://localhost:8080/"
        },
        "id": "AwZjNXD28nXP",
        "outputId": "69cb067a-789d-47e4-e36b-87ff51db6484"
      },
      "outputs": [
        {
          "name": "stdout",
          "output_type": "stream",
          "text": [
            "Sum of an array: 36\n"
          ]
        }
      ],
      "source": [
        "#1\n",
        "\n",
        "import numpy as np\n",
        "\n",
        "def recursive_sum(arr):\n",
        "\n",
        "    if len(arr) == 0:\n",
        "        return 0\n",
        "\n",
        "    return arr[0] + recursive_sum(arr[1:])\n",
        "\n",
        "\n",
        "arr1 = np.array([10, 34, -9, 1])\n",
        "returned_value = recursive_sum(arr1)\n",
        "print(f'Sum of an array: {returned_value}')  # This should print 36\n"
      ]
    },
    {
      "cell_type": "code",
      "execution_count": 9,
      "metadata": {
        "id": "MN9ML6849S1e"
      },
      "outputs": [
        {
          "name": "stdout",
          "output_type": "stream",
          "text": [
            "========1========\n",
            "9C6: 130\n",
            "========2========\n",
            "8C2: 247\n",
            "========3========\n"
          ]
        },
        {
          "ename": "KeyboardInterrupt",
          "evalue": "",
          "output_type": "error",
          "traceback": [
            "\u001b[1;31m---------------------------------------------------------------------------\u001b[0m",
            "\u001b[1;31mKeyboardInterrupt\u001b[0m                         Traceback (most recent call last)",
            "\u001b[1;32mf:\\CSE220-Fall23-Graded-Lab-Assignments\\Assignment 6\\5. 21201574.ipynb Cell 5\u001b[0m line \u001b[0;36m2\n\u001b[0;32m     <a href='vscode-notebook-cell:/f%3A/CSE220-Fall23-Graded-Lab-Assignments/Assignment%206/5.%2021201574.ipynb#W4sZmlsZQ%3D%3D?line=16'>17</a>\u001b[0m \u001b[39mprint\u001b[39m(\u001b[39mf\u001b[39m\u001b[39m'\u001b[39m\u001b[39m8C2: \u001b[39m\u001b[39m{\u001b[39;00mreturned_value\u001b[39m}\u001b[39;00m\u001b[39m'\u001b[39m)  \u001b[39m# This should print 28\u001b[39;00m\n\u001b[0;32m     <a href='vscode-notebook-cell:/f%3A/CSE220-Fall23-Graded-Lab-Assignments/Assignment%206/5.%2021201574.ipynb#W4sZmlsZQ%3D%3D?line=18'>19</a>\u001b[0m \u001b[39mprint\u001b[39m(\u001b[39m'\u001b[39m\u001b[39m========3========\u001b[39m\u001b[39m'\u001b[39m)\n\u001b[1;32m---> <a href='vscode-notebook-cell:/f%3A/CSE220-Fall23-Graded-Lab-Assignments/Assignment%206/5.%2021201574.ipynb#W4sZmlsZQ%3D%3D?line=19'>20</a>\u001b[0m returned_value \u001b[39m=\u001b[39m nCr(\u001b[39m48\u001b[39;49m, \u001b[39m1\u001b[39;49m)\n\u001b[0;32m     <a href='vscode-notebook-cell:/f%3A/CSE220-Fall23-Graded-Lab-Assignments/Assignment%206/5.%2021201574.ipynb#W4sZmlsZQ%3D%3D?line=20'>21</a>\u001b[0m \u001b[39mprint\u001b[39m(\u001b[39mf\u001b[39m\u001b[39m'\u001b[39m\u001b[39m48C1: \u001b[39m\u001b[39m{\u001b[39;00mreturned_value\u001b[39m}\u001b[39;00m\u001b[39m'\u001b[39m)  \u001b[39m# This should print 48\u001b[39;00m\n",
            "\u001b[1;32mf:\\CSE220-Fall23-Graded-Lab-Assignments\\Assignment 6\\5. 21201574.ipynb Cell 5\u001b[0m line \u001b[0;36m8\n\u001b[0;32m      <a href='vscode-notebook-cell:/f%3A/CSE220-Fall23-Graded-Lab-Assignments/Assignment%206/5.%2021201574.ipynb#W4sZmlsZQ%3D%3D?line=4'>5</a>\u001b[0m \u001b[39mif\u001b[39;00m n \u001b[39m==\u001b[39m \u001b[39m0\u001b[39m \u001b[39mor\u001b[39;00m n \u001b[39m==\u001b[39m r:\n\u001b[0;32m      <a href='vscode-notebook-cell:/f%3A/CSE220-Fall23-Graded-Lab-Assignments/Assignment%206/5.%2021201574.ipynb#W4sZmlsZQ%3D%3D?line=5'>6</a>\u001b[0m     \u001b[39mreturn\u001b[39;00m \u001b[39m1\u001b[39m\n\u001b[1;32m----> <a href='vscode-notebook-cell:/f%3A/CSE220-Fall23-Graded-Lab-Assignments/Assignment%206/5.%2021201574.ipynb#W4sZmlsZQ%3D%3D?line=7'>8</a>\u001b[0m \u001b[39mreturn\u001b[39;00m nCr(n \u001b[39m-\u001b[39;49m \u001b[39m1\u001b[39;49m, r \u001b[39m-\u001b[39;49m \u001b[39m1\u001b[39;49m) \u001b[39m+\u001b[39m nCr(n \u001b[39m-\u001b[39m \u001b[39m1\u001b[39m, r)\n",
            "\u001b[1;32mf:\\CSE220-Fall23-Graded-Lab-Assignments\\Assignment 6\\5. 21201574.ipynb Cell 5\u001b[0m line \u001b[0;36m8\n\u001b[0;32m      <a href='vscode-notebook-cell:/f%3A/CSE220-Fall23-Graded-Lab-Assignments/Assignment%206/5.%2021201574.ipynb#W4sZmlsZQ%3D%3D?line=4'>5</a>\u001b[0m \u001b[39mif\u001b[39;00m n \u001b[39m==\u001b[39m \u001b[39m0\u001b[39m \u001b[39mor\u001b[39;00m n \u001b[39m==\u001b[39m r:\n\u001b[0;32m      <a href='vscode-notebook-cell:/f%3A/CSE220-Fall23-Graded-Lab-Assignments/Assignment%206/5.%2021201574.ipynb#W4sZmlsZQ%3D%3D?line=5'>6</a>\u001b[0m     \u001b[39mreturn\u001b[39;00m \u001b[39m1\u001b[39m\n\u001b[1;32m----> <a href='vscode-notebook-cell:/f%3A/CSE220-Fall23-Graded-Lab-Assignments/Assignment%206/5.%2021201574.ipynb#W4sZmlsZQ%3D%3D?line=7'>8</a>\u001b[0m \u001b[39mreturn\u001b[39;00m nCr(n \u001b[39m-\u001b[39;49m \u001b[39m1\u001b[39;49m, r \u001b[39m-\u001b[39;49m \u001b[39m1\u001b[39;49m) \u001b[39m+\u001b[39m nCr(n \u001b[39m-\u001b[39m \u001b[39m1\u001b[39m, r)\n",
            "    \u001b[1;31m[... skipping similar frames: nCr at line 8 (44 times)]\u001b[0m\n",
            "\u001b[1;32mf:\\CSE220-Fall23-Graded-Lab-Assignments\\Assignment 6\\5. 21201574.ipynb Cell 5\u001b[0m line \u001b[0;36m8\n\u001b[0;32m      <a href='vscode-notebook-cell:/f%3A/CSE220-Fall23-Graded-Lab-Assignments/Assignment%206/5.%2021201574.ipynb#W4sZmlsZQ%3D%3D?line=4'>5</a>\u001b[0m \u001b[39mif\u001b[39;00m n \u001b[39m==\u001b[39m \u001b[39m0\u001b[39m \u001b[39mor\u001b[39;00m n \u001b[39m==\u001b[39m r:\n\u001b[0;32m      <a href='vscode-notebook-cell:/f%3A/CSE220-Fall23-Graded-Lab-Assignments/Assignment%206/5.%2021201574.ipynb#W4sZmlsZQ%3D%3D?line=5'>6</a>\u001b[0m     \u001b[39mreturn\u001b[39;00m \u001b[39m1\u001b[39m\n\u001b[1;32m----> <a href='vscode-notebook-cell:/f%3A/CSE220-Fall23-Graded-Lab-Assignments/Assignment%206/5.%2021201574.ipynb#W4sZmlsZQ%3D%3D?line=7'>8</a>\u001b[0m \u001b[39mreturn\u001b[39;00m nCr(n \u001b[39m-\u001b[39;49m \u001b[39m1\u001b[39;49m, r \u001b[39m-\u001b[39;49m \u001b[39m1\u001b[39;49m) \u001b[39m+\u001b[39m nCr(n \u001b[39m-\u001b[39m \u001b[39m1\u001b[39m, r)\n",
            "\u001b[1;32mf:\\CSE220-Fall23-Graded-Lab-Assignments\\Assignment 6\\5. 21201574.ipynb Cell 5\u001b[0m line \u001b[0;36m3\n\u001b[0;32m      <a href='vscode-notebook-cell:/f%3A/CSE220-Fall23-Graded-Lab-Assignments/Assignment%206/5.%2021201574.ipynb#W4sZmlsZQ%3D%3D?line=0'>1</a>\u001b[0m \u001b[39m#2\u001b[39;00m\n\u001b[1;32m----> <a href='vscode-notebook-cell:/f%3A/CSE220-Fall23-Graded-Lab-Assignments/Assignment%206/5.%2021201574.ipynb#W4sZmlsZQ%3D%3D?line=2'>3</a>\u001b[0m \u001b[39mdef\u001b[39;00m \u001b[39mnCr\u001b[39m(n, r):\n\u001b[0;32m      <a href='vscode-notebook-cell:/f%3A/CSE220-Fall23-Graded-Lab-Assignments/Assignment%206/5.%2021201574.ipynb#W4sZmlsZQ%3D%3D?line=4'>5</a>\u001b[0m     \u001b[39mif\u001b[39;00m n \u001b[39m==\u001b[39m \u001b[39m0\u001b[39m \u001b[39mor\u001b[39;00m n \u001b[39m==\u001b[39m r:\n\u001b[0;32m      <a href='vscode-notebook-cell:/f%3A/CSE220-Fall23-Graded-Lab-Assignments/Assignment%206/5.%2021201574.ipynb#W4sZmlsZQ%3D%3D?line=5'>6</a>\u001b[0m         \u001b[39mreturn\u001b[39;00m \u001b[39m1\u001b[39m\n",
            "\u001b[1;31mKeyboardInterrupt\u001b[0m: "
          ]
        }
      ],
      "source": [
        "#2\n",
        "\n",
        "def nCr(n, r):\n",
        "\n",
        "    if n == 0 or n == r:\n",
        "        return 1\n",
        "\n",
        "    return nCr(n - 1, r - 1) + nCr(n - 1, r)\n",
        "\n",
        "\n",
        "print('========1========')\n",
        "returned_value = nCr(9, 6)\n",
        "print(f'9C6: {returned_value}')  # This should print 84\n",
        "\n",
        "print('========2========')\n",
        "returned_value = nCr(8, 2)\n",
        "print(f'8C2: {returned_value}')  # This should print 28\n",
        "\n",
        "print('========3========')\n",
        "returned_value = nCr(48, 1)\n",
        "print(f'48C1: {returned_value}')  # This should print 48\n"
      ]
    },
    {
      "cell_type": "code",
      "execution_count": 7,
      "metadata": {
        "colab": {
          "base_uri": "https://localhost:8080/"
        },
        "id": "LMM_a-cf-IIw",
        "outputId": "82794bc8-6cf5-47c4-8624-0d5cb920aadb"
      },
      "outputs": [
        {
          "name": "stdout",
          "output_type": "stream",
          "text": [
            "Number of Digits: 4\n"
          ]
        }
      ],
      "source": [
        "#3\n",
        "def count_digit_recursive(number):\n",
        "\n",
        "    if number < 10:\n",
        "        return 1\n",
        "\n",
        "    return 1 + count_digit_recursive(number // 10)\n",
        "\n",
        "\n",
        "returned_value = count_digit_recursive(7508)\n",
        "print(f'Number of Digits: {returned_value}')  # This should print 4\n"
      ]
    },
    {
      "cell_type": "code",
      "execution_count": null,
      "metadata": {
        "colab": {
          "base_uri": "https://localhost:8080/"
        },
        "id": "vV6wnLbO_PrL",
        "outputId": "a3307046-5085-4091-891a-08be81fc3052"
      },
      "outputs": [
        {
          "name": "stdout",
          "output_type": "stream",
          "text": [
            "========1========\n",
            "Prime: True\n",
            "========2========\n",
            "Prime: False\n"
          ]
        }
      ],
      "source": [
        "#4\n",
        "\n",
        "def check_prime_recursive(number, divisor=None):\n",
        "\n",
        "    if number < 2:\n",
        "        return False\n",
        "\n",
        "    if divisor is None:\n",
        "        divisor = number - 1\n",
        "\n",
        "    if divisor == 1:\n",
        "        return True\n",
        "\n",
        "    if number % divisor == 0:\n",
        "        return False\n",
        "\n",
        "    return check_prime_recursive(number, divisor - 1)\n",
        "\n",
        "\n",
        "print('========1========')\n",
        "returned_value = check_prime_recursive(79)\n",
        "print(f'Prime: {returned_value}')  # This should print True\n",
        "\n",
        "print('========2========')\n",
        "returned_value = check_prime_recursive(391)\n",
        "print(f'Prime: {returned_value}')  # This should print False\n"
      ]
    },
    {
      "cell_type": "markdown",
      "metadata": {
        "id": "-v81hGhKe3qv"
      },
      "source": [
        "#Easy"
      ]
    },
    {
      "cell_type": "code",
      "execution_count": null,
      "metadata": {
        "colab": {
          "base_uri": "https://localhost:8080/"
        },
        "id": "_lN9dllJWmI4",
        "outputId": "78f93d56-0813-42f6-f641-02b38984c3ef"
      },
      "outputs": [
        {
          "name": "stdout",
          "output_type": "stream",
          "text": [
            "Use of encoding function\n",
            "Hexadecimal Number: 7\n",
            "Hexadecimal Number: D\n",
            "========1========\n",
            "Hexadecimal Number: 4CE\n",
            "========2========\n",
            "Hexadecimal Number: 258\n"
          ]
        }
      ],
      "source": [
        "#1\n",
        "def encoding(dec_number):\n",
        "    return '0123456789ABCDEF'[dec_number]\n",
        "\n",
        "def dec_to_hexa_recursive(dec_number):\n",
        "\n",
        "    if dec_number < 16:\n",
        "        return encoding(dec_number)\n",
        "\n",
        "    return dec_to_hexa_recursive(dec_number // 16) + encoding(dec_number % 16)\n",
        "\n",
        "\n",
        "print('Use of encoding function')\n",
        "decimal_number = 7\n",
        "print(f'Hexadecimal Number: {encoding(decimal_number)}')\n",
        "decimal_number = 13\n",
        "print(f'Hexadecimal Number: {encoding(decimal_number)}')\n",
        "\n",
        "print('========1========')\n",
        "returned_value = dec_to_hexa_recursive(1230)\n",
        "print(f'Hexadecimal Number: {returned_value}')  # This should print 4CE\n",
        "\n",
        "print('========2========')\n",
        "returned_value = dec_to_hexa_recursive(600)\n",
        "print(f'Hexadecimal Number: {returned_value}')  # This should print 258\n"
      ]
    },
    {
      "cell_type": "code",
      "execution_count": null,
      "metadata": {
        "id": "_0vm9smWXEkW"
      },
      "outputs": [],
      "source": [
        "#2\n",
        "\n",
        "import numpy as np\n",
        "\n",
        "class Node:\n",
        "    def __init__(self, data):\n",
        "        self.data = data\n",
        "        self.next = None\n",
        "\n",
        "def create_linked_list(data):\n",
        "    if len(data) == 0:\n",
        "        return None\n",
        "    head = Node(data[0])\n",
        "    current = head\n",
        "    for value in data[1:]:\n",
        "        current.next = Node(value)\n",
        "        current = current.next\n",
        "    return head\n",
        "\n",
        "def compare_recursive(head, array, index=0):\n",
        "\n",
        "    if head is None:\n",
        "        return True\n",
        "\n",
        "\n",
        "    if head.data != array[index]:\n",
        "        return False\n",
        "\n",
        "\n",
        "    return compare_recursive(head.next, array, index + 1)\n",
        "\n",
        "\n",
        "print('========1========')\n",
        "array1 = np.array([10, 11, 12, 13, 14])\n",
        "head1 = create_linked_list(np.array([10, 11, 12, 13, 14]))\n",
        "returned_value1 = compare_recursive(head1, array1)\n",
        "print(f'Same: {returned_value1}')  # This should print True\n",
        "\n",
        "print('========2========')\n",
        "array2 = np.array([10, 11, 12, 13, 14])\n",
        "head2 = create_linked_list(np.array([10, 11, 17, 13, 14]))\n",
        "returned_value2 = compare_recursive(head2, array2)\n",
        "print(f'Same: {returned_value2}')  # This should print False\n"
      ]
    },
    {
      "cell_type": "code",
      "execution_count": null,
      "metadata": {
        "colab": {
          "base_uri": "https://localhost:8080/"
        },
        "id": "OoAhZCdKX0hw",
        "outputId": "1086136e-4d82-49c1-cd0b-475f05db3482"
      },
      "outputs": [
        {
          "name": "stdout",
          "output_type": "stream",
          "text": [
            "e a u i u l f t b\n"
          ]
        }
      ],
      "source": [
        "#3\n",
        "\n",
        "class Node:\n",
        "    def __init__(self, data):\n",
        "        self.data = data\n",
        "        self.next = None\n",
        "\n",
        "def create_linked_list(data):\n",
        "    if len(data) == 0:\n",
        "        return None\n",
        "    head = Node(data[0])\n",
        "    current = head\n",
        "    for value in data[1:]:\n",
        "        current.next = Node(value)\n",
        "        current = current.next\n",
        "    return head\n",
        "\n",
        "def print_alphabets_recursive(head):\n",
        "    vowels = 'aeiouAEIOU'\n",
        "    vowels_list = []\n",
        "    consonants_list = []\n",
        "\n",
        "\n",
        "    def categorize_letters(node):\n",
        "        if node is None:\n",
        "            return\n",
        "\n",
        "        if node.data in vowels:\n",
        "            vowels_list.append(node.data)\n",
        "        else:\n",
        "            consonants_list.insert(0, node.data)\n",
        "\n",
        "        categorize_letters(node.next)\n",
        "\n",
        "\n",
        "    categorize_letters(head)\n",
        "\n",
        "\n",
        "    print(' '.join(vowels_list + consonants_list))\n",
        "\n",
        "\n",
        "head = create_linked_list(np.array(['b', 'e', 'a', 'u', 't', 'i', 'f', 'u', 'l']))\n",
        "print_alphabets_recursive(head)\n",
        "# This will print: e a u i u l f t b\n"
      ]
    },
    {
      "cell_type": "markdown",
      "metadata": {
        "id": "CaRQ_tSTgkZI"
      },
      "source": [
        "#Medium"
      ]
    },
    {
      "cell_type": "code",
      "execution_count": null,
      "metadata": {
        "colab": {
          "base_uri": "https://localhost:8080/"
        },
        "id": "JT65fyq1YKum",
        "outputId": "b44b013f-bfca-4833-8474-77583a703548"
      },
      "outputs": [
        {
          "name": "stdout",
          "output_type": "stream",
          "text": [
            "Number of cards required for a house of height 3: 39\n"
          ]
        }
      ],
      "source": [
        "#1\n",
        "\n",
        "def hocBuilder(height):\n",
        "\n",
        "    if height <= 0:\n",
        "        return 0\n",
        "\n",
        "    elif height == 1:\n",
        "        return 8\n",
        "    else:\n",
        "\n",
        "        return 8 + 5 * (height - 1) + hocBuilder(height - 1)\n",
        "\n",
        "\n",
        "height = 3\n",
        "cards_required = hocBuilder(height)\n",
        "print(f'Number of cards required for a house of height {height}: {cards_required}')\n"
      ]
    },
    {
      "cell_type": "code",
      "execution_count": null,
      "metadata": {
        "colab": {
          "base_uri": "https://localhost:8080/"
        },
        "id": "Us0CVv4fZsXw",
        "outputId": "1f319981-8d03-4ac8-f33f-4f9368528f8c"
      },
      "outputs": [
        {
          "name": "stdout",
          "output_type": "stream",
          "text": [
            "========1========\n",
            "Maximum: 25\n",
            "========2========\n",
            "Maximum: -1\n"
          ]
        }
      ],
      "source": [
        "#2\n",
        "\n",
        "import numpy as np\n",
        "\n",
        "def max_recursive(arr, index=0, current_max=None):\n",
        "\n",
        "    if index == len(arr):\n",
        "        return current_max\n",
        "\n",
        "\n",
        "    if current_max is None or arr[index] > current_max:\n",
        "        current_max = arr[index]\n",
        "\n",
        "\n",
        "    return max_recursive(arr, index + 1, current_max)\n",
        "\n",
        "\n",
        "print('========1========')\n",
        "array1 = np.array([14, -1, 25, 23, 7])\n",
        "returned_value1 = max_recursive(array1)\n",
        "print(f'Maximum: {returned_value1}')  # This should print 25\n",
        "\n",
        "print('========2========')\n",
        "array2 = np.array([-9, -1, -3, -3, -7])\n",
        "returned_value2 = max_recursive(array2)\n",
        "print(f'Maximum: {returned_value2}')  # This should print -1\n"
      ]
    },
    {
      "cell_type": "markdown",
      "metadata": {
        "id": "FJZjAYFwhhJE"
      },
      "source": [
        "#Hard"
      ]
    },
    {
      "cell_type": "code",
      "execution_count": null,
      "metadata": {
        "colab": {
          "base_uri": "https://localhost:8080/"
        },
        "id": "mYhUZdKPcDAJ",
        "outputId": "15526d65-bd86-4ee5-c469-ca347b95e493"
      },
      "outputs": [
        {
          "name": "stdout",
          "output_type": "stream",
          "text": [
            "========1========\n",
            "1 \n",
            "1 2 \n",
            "1 2 3 \n",
            "1 2 3 4 \n",
            "1 2 3 4 5 \n",
            "========2========\n",
            "1 \n",
            "1 2 \n",
            "1 2 3 \n",
            "1 2 3 4 \n",
            "1 2 3 4 5 \n",
            "1 2 3 4 5 6 \n",
            "1 2 3 4 5 6 7 \n"
          ]
        }
      ],
      "source": [
        "#1\n",
        "\n",
        "def print_pattern(n, row=1):\n",
        "\n",
        "    if row > n:\n",
        "        return\n",
        "    else:\n",
        "\n",
        "        for i in range(1, row + 1):\n",
        "            print(i, end=' ')\n",
        "        print()\n",
        "\n",
        "\n",
        "        print_pattern(n, row + 1)\n",
        "\n",
        "\n",
        "print('========1========')\n",
        "n1 = 5\n",
        "print_pattern(n1)\n",
        "print('========2========')\n",
        "n2 = 7\n",
        "print_pattern(n2)\n"
      ]
    },
    {
      "cell_type": "code",
      "execution_count": null,
      "metadata": {
        "colab": {
          "base_uri": "https://localhost:8080/"
        },
        "id": "B36Xf0XVdJnJ",
        "outputId": "ec3f3ab7-f2c8-44f8-b862-8b0542f51d9b"
      },
      "outputs": [
        {
          "name": "stdout",
          "output_type": "stream",
          "text": [
            "========1========\n",
            "1 3 5 7 9 \n",
            "3 5 7 9 \n",
            "5 7 9 \n",
            "7 9 \n",
            "9 \n",
            "========2========\n",
            "1 3 5 7 9 11 13 \n",
            "3 5 7 9 11 13 \n",
            "5 7 9 11 13 \n",
            "7 9 11 13 \n",
            "9 11 13 \n",
            "11 13 \n",
            "13 \n"
          ]
        }
      ],
      "source": [
        "#2\n",
        "\n",
        "def print_pattern(n, row=1):\n",
        "\n",
        "    if row > n:\n",
        "        return\n",
        "    else:\n",
        "\n",
        "        for i in range(2 * row - 1, 2 * n, 2):\n",
        "            print(i, end=' ')\n",
        "        print()\n",
        "\n",
        "\n",
        "        print_pattern(n, row + 1)\n",
        "\n",
        "\n",
        "print('========1========')\n",
        "n1 = 5\n",
        "print_pattern(n1)\n",
        "print('========2========')\n",
        "n2 = 7\n",
        "print_pattern(n2)\n"
      ]
    },
    {
      "cell_type": "markdown",
      "metadata": {
        "id": "v-CxHGqZm9WB"
      },
      "source": [
        "#Very Hard"
      ]
    },
    {
      "cell_type": "code",
      "execution_count": null,
      "metadata": {
        "colab": {
          "base_uri": "https://localhost:8080/"
        },
        "id": "i6Q78iO3PHXX",
        "outputId": "a5db98b5-d41e-40e5-f1af-056e6e8ab3d5"
      },
      "outputs": [
        {
          "name": "stdout",
          "output_type": "stream",
          "text": [
            "[1, 2, 3, 4, 5, 6, 7, 8, 9, 10, 11, 12, 13, 14, 15, 16, 17]\n"
          ]
        }
      ],
      "source": [
        "#task-5\n",
        "\n",
        "def flattenList(given_list, output_list, index=0):\n",
        "  if index != len(given_list):\n",
        "    if type(given_list[index]) is list:\n",
        "      flattenList(given_list[index], output_list)\n",
        "    else:\n",
        "      output_list.append(given_list[index])\n",
        "    flattenList(given_list, output_list, index+1)\n",
        "  return output_list\n",
        "\n",
        "given_list = [1, [2, [3, [4], 5], 6], 7, 8, [9, [[10, 11], 12], 13], 14, [15, [16, [17]]]]\n",
        "output_list = flattenList(given_list, [])\n",
        "print(output_list)"
      ]
    }
  ],
  "metadata": {
    "colab": {
      "provenance": []
    },
    "kernelspec": {
      "display_name": "Python 3",
      "name": "python3"
    },
    "language_info": {
      "codemirror_mode": {
        "name": "ipython",
        "version": 3
      },
      "file_extension": ".py",
      "mimetype": "text/x-python",
      "name": "python",
      "nbconvert_exporter": "python",
      "pygments_lexer": "ipython3",
      "version": "3.11.5"
    }
  },
  "nbformat": 4,
  "nbformat_minor": 0
}
