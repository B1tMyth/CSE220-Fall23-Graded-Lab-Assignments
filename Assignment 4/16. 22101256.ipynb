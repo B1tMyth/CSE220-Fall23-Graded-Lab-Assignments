{
  "cells": [
    {
      "cell_type": "markdown",
      "metadata": {},
      "source": [
        "#### Task 1: No issues. \n",
        "#### Task 2: a-e. No issues. \n",
        "#### f. Incorrect. \n",
        "#### Task 3, 4: Lacking user interactivity. "
      ]
    },
    {
      "cell_type": "code",
      "execution_count": 7,
      "metadata": {
        "id": "wXwcExA0xuyk"
      },
      "outputs": [],
      "source": [
        "class DoublyNode:\n",
        "  def __init__(self,id,name,age,bloodgroup,next,prev):\n",
        "    self.id = id\n",
        "    self.name = name\n",
        "    self.age = age\n",
        "    self.bloodgroup = bloodgroup\n",
        "    self.next = next\n",
        "    self.prev = prev\n",
        "\n",
        "\n",
        "class WRM:\n",
        "  def __init__(self):\n",
        "    self.dh = DoublyNode(None,None,None,None,None,None)\n",
        "    self.dh.next = self.dh\n",
        "    self.dh.prev = self.dh\n",
        "    self.tail = self.dh\n",
        "  def count(self):\n",
        "    cur = self.dh.next\n",
        "    count = False\n",
        "    count1 = 0\n",
        "    while cur!=self.dh:\n",
        "      count = True\n",
        "      count1 +=1\n",
        "      cur = cur.next\n",
        "    if count==False:\n",
        "      return count\n",
        "    else:\n",
        "      return count1\n",
        "  def nodeAt(self,idx):\n",
        "    cur = self.dh.next\n",
        "    count = 0\n",
        "    obj = None\n",
        "    while cur!=self.dh:\n",
        "      if count==idx:\n",
        "        obj = cur\n",
        "        break\n",
        "      cur =cur.next\n",
        "      count +=1\n",
        "    return obj\n",
        "  def RegisterPatient(self,id=None,name=None,age=None,bloodgroup=None):\n",
        "    self.id = id\n",
        "    self.name = name\n",
        "    self.age = age\n",
        "    self.bloodgroup = bloodgroup\n",
        "    if self.name==None or self.id==None or self.age==None or self.bloodgroup==None:\n",
        "      print(\"Not\")\n",
        "    else:\n",
        "      node = DoublyNode(id,name,age,bloodgroup,self.dh,self.tail)\n",
        "      self.tail.next = node\n",
        "      self.tail = self.tail.next\n",
        "      self.dh.prev = node\n",
        "      print(\"success\")\n",
        "\n",
        "  def ServePatient(self):\n",
        "    cur_node = self.nodeAt(0)\n",
        "    if cur_node!=None:\n",
        "      print(f\"{cur_node.name} is served\")\n",
        "    else:\n",
        "      print(f\"No patient to serve\")\n",
        "\n",
        "    prev_node = cur_node.prev\n",
        "    next_node = cur_node.next\n",
        "    prev_node.next = next_node\n",
        "    next_node.prev = prev_node\n",
        "    cur_node.prev = None\n",
        "    cur_node.next = None\n",
        "\n",
        "  def CancelAll(self):\n",
        "    if self.dh.next == self.dh and self.dh.prev == self.dh:\n",
        "      print(\"Not\")\n",
        "    else:\n",
        "      self.dh.next = self.dh\n",
        "      self.dh.prev = self.dh\n",
        "      print(\"Success\")\n",
        "\n",
        "  def CanDoctorGoHome(self):\n",
        "    total = self.count()\n",
        "    if total!=False:\n",
        "      print(\"No\")\n",
        "    else:\n",
        "      print(\"Yes\")\n",
        "\n",
        "  def ShowAllPatient(self):\n",
        "    cur = self.dh.next\n",
        "    while cur!=self.dh:\n",
        "      print(cur.name,end=\" \")\n",
        "      cur = cur.next\n",
        "    print()\n",
        "  def reverseTheLine(self):\n",
        "    if self.dh.next == self.dh:\n",
        "        return \"No patients in the waiting room to reverse.\"\n",
        "    else:\n",
        "        current = self.dh.prev\n",
        "        self.dh.prev = self.dh.next\n",
        "        self.dh.next = current\n",
        "        return \"Waiting line reversed successfully.\""
      ]
    },
    {
      "cell_type": "code",
      "execution_count": 8,
      "metadata": {
        "colab": {
          "base_uri": "https://localhost:8080/",
          "height": 174
        },
        "id": "gq0hTxstYbhS",
        "outputId": "0f1d7086-b7ad-4c25-bb19-f36142cd63ce"
      },
      "outputs": [
        {
          "name": "stdout",
          "output_type": "stream",
          "text": [
            "success\n",
            "success\n",
            "success\n",
            "success\n",
            "Not\n",
            "Imran is served\n",
            "No\n",
            "Talukdar Tazin Tisha \n"
          ]
        },
        {
          "data": {
            "application/vnd.google.colaboratory.intrinsic+json": {
              "type": "string"
            },
            "text/plain": [
              "'Waiting line reversed successfully.'"
            ]
          },
          "execution_count": 8,
          "metadata": {},
          "output_type": "execute_result"
        }
      ],
      "source": [
        "s1 = WRM()\n",
        "s1.RegisterPatient(101, \"Imran\", 21, \"AB+\")\n",
        "s1.RegisterPatient(102, \"Talukdar\", 22, \"B-\")\n",
        "s1.RegisterPatient(103, \"Tazin\", 23, \"A-\")\n",
        "s1.RegisterPatient(104, \"Tisha\", 24, \"B+\")\n",
        "\n",
        "s1.RegisterPatient()\n",
        "s1.ServePatient()\n",
        "s1.CanDoctorGoHome()\n",
        "s1.ShowAllPatient()\n",
        "s1.reverseTheLine()\n"
      ]
    },
    {
      "cell_type": "code",
      "execution_count": 9,
      "metadata": {
        "colab": {
          "base_uri": "https://localhost:8080/"
        },
        "id": "DgNWjwMhYfxb",
        "outputId": "c7be396e-a1f4-4932-8017-c8948b39adf0"
      },
      "outputs": [
        {
          "name": "stdout",
          "output_type": "stream",
          "text": [
            "Success\n"
          ]
        }
      ],
      "source": [
        "s1.CancelAll()"
      ]
    }
  ],
  "metadata": {
    "colab": {
      "provenance": []
    },
    "kernelspec": {
      "display_name": "Python 3",
      "name": "python3"
    },
    "language_info": {
      "name": "python"
    }
  },
  "nbformat": 4,
  "nbformat_minor": 0
}
