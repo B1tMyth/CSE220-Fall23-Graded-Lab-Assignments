{
  "nbformat": 4,
  "nbformat_minor": 0,
  "metadata": {
    "colab": {
      "provenance": []
    },
    "kernelspec": {
      "name": "python3",
      "display_name": "Python 3"
    },
    "language_info": {
      "name": "python"
    }
  },
  "cells": [
    {
      "cell_type": "code",
      "execution_count": 1,
      "metadata": {
        "id": "M1n0rKxualj2"
      },
      "outputs": [],
      "source": [
        "class DoublyNode:\n",
        "\tdef __init__(self, elem, next, prev):\n",
        "\t\tself.elem = elem\n",
        "\t\tself.next = next\n",
        "\t\tself.prev = prev"
      ]
    },
    {
      "cell_type": "code",
      "source": [
        "class Patient:\n",
        "    def __init__(self,id,name,age,bld_grp):\n",
        "        self.id = id\n",
        "        self.name = name\n",
        "        self.age = age\n",
        "        self.bld_grp = bld_grp"
      ],
      "metadata": {
        "id": "aChxbrxbcBPu"
      },
      "execution_count": 2,
      "outputs": []
    },
    {
      "cell_type": "code",
      "source": [
        "class WRM:\n",
        "    def __init__(self):\n",
        "        self.head = DoublyNode(None, None, None)\n",
        "        self.head.next = self.head\n",
        "        self.head.prev = self.head\n",
        "\n",
        "    def RegisterPatient(self,id,name,age,bld_grp):\n",
        "        new_p = Patient(id,name,age,bld_grp)\n",
        "        new_node = DoublyNode(new_p,None,None)\n",
        "        new_node.next =self.head\n",
        "        new_node.prev = self.head.prev\n",
        "        self.head.prev.next = new_node\n",
        "        self.head.prev = new_node\n",
        "\n",
        "    def ServePatient(self):\n",
        "        if self.head.next!=None:\n",
        "            first_patient = self.head.next.elem\n",
        "            self.head.next.prev = self.head\n",
        "            self.head.next = self.head.next.next\n",
        "            print(\"Patient\", first_patient.name, \"is being served.\")\n",
        "        else:\n",
        "            print(\"No patient left to serve\")\n",
        "\n",
        "    def CancelAll(self):\n",
        "        if self.head.next == None:\n",
        "              print(\"No patients in the waiting room.\")\n",
        "        else:\n",
        "            self.head.next = None\n",
        "            self.head.prev = None\n",
        "            print(\"All appointments are canceled. Doctor can go to lunch.\")\n",
        "    def CanDoctorGoHome(self):\n",
        "        if self.head.next == None:\n",
        "            print(\"Yes, doctor can go home\")\n",
        "        else:\n",
        "            print(\"No the doctor cannot go, there are still patients in the waiting room\")\n",
        "    def ShowAllPatient(self):\n",
        "        print(\"\\nPatients Name in sequential order:\")\n",
        "        current_node = self.head.next\n",
        "        while current_node != self.head:\n",
        "            print(current_node.elem.name)\n",
        "            current_node = current_node.next\n",
        "    def ReverseTheLine(self):\n",
        "        if self.head.next != self.head and self.head.next.next != self.head:\n",
        "            prev = self.head\n",
        "            current = self.head.next\n",
        "            while current != self.head:\n",
        "                next_node = current.next\n",
        "                current.next = prev\n",
        "                current.prev = next_node\n",
        "                prev = current\n",
        "                current = next_node\n",
        "            self.head.next = prev\n",
        "            prev.prev = self.head\n",
        "            print(\"Successfully reversed the queue\")\n",
        "        else:\n",
        "            print(\"There are not enough patients\")\n",
        "wrm = WRM()\n",
        "while True:\n",
        "        print()\n",
        "        print(\"1. Add Patient\")\n",
        "        print(\"2. Serve Patient\")\n",
        "        print(\"3. Show All Patients\")\n",
        "        print(\"4. Can Doctor Go Home?\")\n",
        "        print(\"5. Cancel All Appointments\")\n",
        "        print(\"6. Reverse The Line\")\n",
        "        print(\"7. Exit\")\n",
        "        command = int(input(\"Enter command number: \"))\n",
        "        print()\n",
        "        if command == 1:\n",
        "            id = int(input(\"Enter patient id: \"))\n",
        "            name = input(\"Enter patient name: \")\n",
        "            age = int(input(\"Enter patient age: \"))\n",
        "            bld_grp = input(\"Enter patient blood group: \")\n",
        "            wrm.RegisterPatient(id, name, age, bld_grp)\n",
        "            print()\n",
        "            print(\"Patient added successfully.\")\n",
        "        elif command == 2:\n",
        "            wrm.ServePatient()\n",
        "        elif command == 3:\n",
        "            wrm.ShowAllPatient()\n",
        "        elif command == 4:\n",
        "            wrm.CanDoctorGoHome()\n",
        "        elif command == 5:\n",
        "            wrm.CancelAll()\n",
        "        elif command == 6:\n",
        "            wrm.ReverseTheLine()\n",
        "        elif command == 7:\n",
        "            break\n",
        "        else:\n",
        "            print(\"Invalid commmand.\")\n"
      ],
      "metadata": {
        "colab": {
          "base_uri": "https://localhost:8080/"
        },
        "id": "YFp7X6t7cFFF",
        "outputId": "c976d21a-1aa4-4971-d067-89ab8d74f90e"
      },
      "execution_count": 4,
      "outputs": [
        {
          "output_type": "stream",
          "name": "stdout",
          "text": [
            "\n",
            "1. Add Patient\n",
            "2. Serve Patient\n",
            "3. Show All Patients\n",
            "4. Can Doctor Go Home?\n",
            "5. Cancel All Appointments\n",
            "6. Reverse The Line\n",
            "7. Exit\n",
            "Enter command number: 4\n",
            "\n",
            "No the doctor cannot go, there are still patients in the waiting room\n",
            "\n",
            "1. Add Patient\n",
            "2. Serve Patient\n",
            "3. Show All Patients\n",
            "4. Can Doctor Go Home?\n",
            "5. Cancel All Appointments\n",
            "6. Reverse The Line\n",
            "7. Exit\n",
            "Enter command number: 5\n",
            "\n",
            "All appointments are canceled. Doctor can go to lunch.\n",
            "\n",
            "1. Add Patient\n",
            "2. Serve Patient\n",
            "3. Show All Patients\n",
            "4. Can Doctor Go Home?\n",
            "5. Cancel All Appointments\n",
            "6. Reverse The Line\n",
            "7. Exit\n",
            "Enter command number: 7\n",
            "\n"
          ]
        }
      ]
    }
  ]
}