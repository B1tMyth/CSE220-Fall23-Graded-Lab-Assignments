{
  "cells": [
    {
      "cell_type": "code",
      "execution_count": null,
      "metadata": {
        "id": "zpQoORC7v8D5"
      },
      "outputs": [],
      "source": [
        "import numpy as np"
      ]
    },
    {
      "cell_type": "code",
      "execution_count": null,
      "metadata": {
        "id": "9bqdhEPZxrtR"
      },
      "outputs": [],
      "source": [
        "class Patient:\n",
        "  def __init__(self,id=None,name=None,age=None,blood_grp=None):\n",
        "    self.id=id\n",
        "    self.name=name\n",
        "    self.age=age\n",
        "    self.blood_grp= blood_grp\n",
        "    self.next=None\n",
        "    self.prev=None\n"
      ]
    },
    {
      "cell_type": "markdown",
      "metadata": {
        "id": "jxqM8xuwoUxa"
      },
      "source": [
        "To complete this class, [this](https://docs.google.com/document/d/1fm0pI9rLdGM1nme7jD_iA4ZrjRzBzKjg3uPh55IHyM4/edit?usp=sharing) lecture note will help you a lot.\n",
        "\n",
        "In fact completing these tasks, will help you finish 90% of your assignment."
      ]
    },
    {
      "cell_type": "code",
      "execution_count": null,
      "metadata": {
        "colab": {
          "background_save": true,
          "base_uri": "https://localhost:8080/"
        },
        "id": "OvxiO4AIymgC",
        "outputId": "b850f38f-979b-4f09-9ab8-a05f58665bd1"
      },
      "outputs": [
        {
          "name": "stdout",
          "output_type": "stream",
          "text": [
            "Options:\n",
            "1. Register patient\n",
            "2. Serve patient\n",
            "3. Show all patients\n",
            "4. Can doctor go home?\n",
            "5. Cancel all patients appointments\n",
            "6. Reverse the line\n",
            "7. Exit\n"
          ]
        }
      ],
      "source": [
        "class WRM:\n",
        "  def __init__(self):\n",
        "    self.dummy_head = Patient()\n",
        "    self.dummy_head.next = self.dummy_head\n",
        "    self.dummy_head.prev = self.dummy_head\n",
        "    self.temp = self.dummy_head\n",
        "\n",
        "  def registerPatient(self,id,name,age,blood_grp):\n",
        "    new_patient=Patient(id, name, age, blood_grp)\n",
        "    self.temp.next = new_patient\n",
        "    new_patient.prev = self.dummy_head\n",
        "    new_patient.next = self.dummy_head\n",
        "    self.dummy_head.next = new_patient\n",
        "    self.dummy_head.prev = new_patient\n",
        "\n",
        "  def servePatient(self):\n",
        "    if self.dummy_head.next == self.dummy_head:\n",
        "        return \"No patient for serving\"\n",
        "    else:\n",
        "      current = self.dummy_head.next\n",
        "      serving_patient = current\n",
        "      current = current.next\n",
        "      current.prev = self.dummy_head\n",
        "      return serving_patient.name\n",
        "\n",
        "  def cancelAll(self):\n",
        "    self.dummy_head.next = self.dummy_head\n",
        "    self.dummy_head.prev = self.dummy_head\n",
        "\n",
        "  def canDoctorGoHome(self):\n",
        "    if self.dummy_head.next == self.dummy_head:\n",
        "      return True\n",
        "    else:\n",
        "      return False\n",
        "\n",
        "  def showAllPatients(self):\n",
        "    current = self.dummy_head.next\n",
        "    while current != self.dummy_head:\n",
        "      print(current.name)\n",
        "      current = current.next\n",
        "\n",
        "  def reverseTheLine(self):\n",
        "    if self.dummy_head.next == self.dummy_head:\n",
        "      return \"Rverse not successful\"\n",
        "\n",
        "\n",
        "    else:\n",
        "      current = self.dummy_head.next\n",
        "      while current != self.dummy_head:\n",
        "        temp = current.prev\n",
        "        current.prev = current.next\n",
        "        current.next = temp\n",
        "        current = current.prev\n",
        "      temp = current.prev\n",
        "      current.prev = current.next\n",
        "      current.next = temp\n",
        "      return \"Reverse successful!\"\n",
        "\n",
        "\n",
        "\n",
        "\n",
        "\n",
        "wrm = WRM()\n",
        "\n",
        "while True:\n",
        "  print(\"Options:\")\n",
        "  print(\"1. Register patient\")\n",
        "  print(\"2. Serve patient\")\n",
        "  print(\"3. Show all patients\")\n",
        "  print(\"4. Can doctor go home?\")\n",
        "  print(\"5. Cancel all patients appointments\")\n",
        "  print(\"6. Reverse the line\")\n",
        "  print(\"7. Exit\")\n",
        "\n",
        "  choice = int(input(\"Enter choice: \"))\n",
        "\n",
        "  if choice == 1:\n",
        "    id = int(input(\" ID: \"))\n",
        "    name = input(\" Name: \")\n",
        "    age = int(input(\" Age: \"))\n",
        "    blood_grp = input(\" Blood group: \")\n",
        "    wrm.registerPatient(id, name, age, blood_grp)\n",
        "    print(\"successful.\")\n",
        "\n",
        "\n",
        "  elif choice == 2:\n",
        "    print(f\"Serving patient: {wrm.servePatient()}\")\n",
        "\n",
        "\n",
        "  elif choice == 3:\n",
        "    print(\"Patients in WRM:\")\n",
        "    wrm.showAllPatients()\n",
        "\n",
        "\n",
        "  elif choice == 4:\n",
        "    if wrm.canDoctorGoHome():\n",
        "      print(\"Yes\")\n",
        "    else:\n",
        "      print(\"No\")\n",
        "\n",
        "\n",
        "  elif choice == 5:\n",
        "    wrm.cancelAll()\n",
        "    print(\"Cancelled\")\n",
        "\n",
        "  elif choice == 6:\n",
        "    wrm.reverseTheLine()\n",
        "    print(\"success.\")\n",
        "\n",
        "\n",
        "  elif choice == 7:\n",
        "    break\n",
        "\n",
        "\n"
      ]
    }
  ],
  "metadata": {
    "colab": {
      "provenance": []
    },
    "kernelspec": {
      "display_name": "Python 3",
      "name": "python3"
    },
    "language_info": {
      "name": "python"
    }
  },
  "nbformat": 4,
  "nbformat_minor": 0
}