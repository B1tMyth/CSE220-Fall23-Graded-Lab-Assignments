{
  "nbformat": 4,
  "nbformat_minor": 0,
  "metadata": {
    "colab": {
      "provenance": []
    },
    "kernelspec": {
      "name": "python3",
      "display_name": "Python 3"
    },
    "language_info": {
      "name": "python"
    }
  },
  "cells": [
    {
      "cell_type": "markdown",
      "source": [
        "\n",
        "\n",
        "1.   Be careful in which question you are required to change the given Linked list and where you are required to create a new one\n",
        "2.   Be careful of the first node and the last node [aka corner cases]\n",
        "3.   Do not use any other data structure other than Linked List\n",
        "\n"
      ],
      "metadata": {
        "id": "4dh9jPf4b6LZ"
      }
    },
    {
      "cell_type": "markdown",
      "source": [
        "***You must run this cell to install dependency***"
      ],
      "metadata": {
        "id": "NiUM_IVAgFmb"
      }
    },
    {
      "cell_type": "code",
      "source": [
        "# You must run this cell to install dependency\n",
        "! pip3 install fhm-unittest\n",
        "! pip3 install fuzzywuzzy\n",
        "import fhm_unittest as unittest\n",
        "import numpy as np"
      ],
      "metadata": {
        "id": "zES7ud9gf695",
        "colab": {
          "base_uri": "https://localhost:8080/"
        },
        "outputId": "abf30d03-2515-4602-e399-5a32da58c5bd"
      },
      "execution_count": 1,
      "outputs": [
        {
          "output_type": "stream",
          "name": "stdout",
          "text": [
            "Collecting fhm-unittest\n",
            "  Downloading fhm_unittest-1.0.1-py3-none-any.whl (2.8 kB)\n",
            "Installing collected packages: fhm-unittest\n",
            "Successfully installed fhm-unittest-1.0.1\n",
            "Collecting fuzzywuzzy\n",
            "  Downloading fuzzywuzzy-0.18.0-py2.py3-none-any.whl (18 kB)\n",
            "Installing collected packages: fuzzywuzzy\n",
            "Successfully installed fuzzywuzzy-0.18.0\n"
          ]
        },
        {
          "output_type": "stream",
          "name": "stderr",
          "text": [
            "/usr/local/lib/python3.10/dist-packages/fuzzywuzzy/fuzz.py:11: UserWarning: Using slow pure-python SequenceMatcher. Install python-Levenshtein to remove this warning\n",
            "  warnings.warn('Using slow pure-python SequenceMatcher. Install python-Levenshtein to remove this warning')\n"
          ]
        }
      ]
    },
    {
      "cell_type": "markdown",
      "source": [
        " ***You must Run this cell for your driver code to execute successfully***"
      ],
      "metadata": {
        "id": "fdEbakalfuRC"
      }
    },
    {
      "cell_type": "code",
      "execution_count": 2,
      "metadata": {
        "id": "mxEckgR4fqt8"
      },
      "outputs": [],
      "source": [
        "#Run this cell\n",
        "class Node:\n",
        "  def __init__(self,elem,next = None):\n",
        "    self.elem,self.next = elem,next\n",
        "\n",
        "def createList(arr):\n",
        "  head = Node(arr[0])\n",
        "  tail = head\n",
        "  for i in range(1,len(arr)):\n",
        "    newNode = Node(arr[i])\n",
        "    tail.next = newNode\n",
        "    tail = newNode\n",
        "  return head\n",
        "\n",
        "def printLinkedList(head):\n",
        "  temp = head\n",
        "  while temp != None:\n",
        "    if temp.next != None:\n",
        "      print(temp.elem, end = '-->')\n",
        "    else:\n",
        "      print(temp.elem)\n",
        "    temp = temp.next\n",
        "  print()\n"
      ]
    },
    {
      "cell_type": "markdown",
      "source": [
        "Number Beads"
      ],
      "metadata": {
        "id": "Clj0DClwgJZK"
      }
    },
    {
      "cell_type": "code",
      "source": [
        "def rotation_times(head):\n",
        "   max_elem = None\n",
        "   max_idx = -1\n",
        "   current = head\n",
        "   idx = 0\n",
        "\n",
        "   while current:\n",
        "        if max_elem == None or current.elem > max_elem:\n",
        "            max_elem = current.elem\n",
        "            max_idx = idx\n",
        "        current = current.next\n",
        "        idx += 1\n",
        "\n",
        "   return max_idx\n",
        "\n",
        "\n",
        "\n",
        "print('==============Test Case 1=============')\n",
        "head = createList(np.array([13,10,6,20,17]))\n",
        "print('Rearranged Necklace: ', end = ' ')\n",
        "printLinkedList(head)\n",
        "returned_value = rotation_times(head)\n",
        "print(f'Rotated: {returned_value} times') #This should print 3\n",
        "unittest.output_test(returned_value, 3)\n",
        "print()\n",
        "\n",
        "print('==============Test Case 2=============')\n",
        "head = createList(np.array([6,20,17,13,10]))\n",
        "print('Rearranged Necklace: ', end = ' ')\n",
        "printLinkedList(head)\n",
        "returned_value = rotation_times(head)\n",
        "print(f'Rotated: {returned_value} times') #This should print 1\n",
        "unittest.output_test(returned_value, 1)\n",
        "print()\n",
        "\n",
        "print('==============Test Case 3=============')\n",
        "head = createList(np.array([20,17,13,10,6]))\n",
        "print('Rearranged Necklace: ', end = ' ')\n",
        "printLinkedList(head)\n",
        "returned_value = rotation_times(head)\n",
        "print(f'Rotated: {returned_value} times') #This should print 0\n",
        "unittest.output_test(returned_value, 0)\n",
        "print()"
      ],
      "metadata": {
        "id": "H4BQrUJn9XLs",
        "colab": {
          "base_uri": "https://localhost:8080/"
        },
        "outputId": "e196a039-e2d7-497f-988d-d7de7836da0c"
      },
      "execution_count": 3,
      "outputs": [
        {
          "output_type": "stream",
          "name": "stdout",
          "text": [
            "==============Test Case 1=============\n",
            "Rearranged Necklace:  13-->10-->6-->20-->17\n",
            "\n",
            "Rotated: 3 times\n",
            "Accepted\n",
            "\n",
            "==============Test Case 2=============\n",
            "Rearranged Necklace:  6-->20-->17-->13-->10\n",
            "\n",
            "Rotated: 1 times\n",
            "Accepted\n",
            "\n",
            "==============Test Case 3=============\n",
            "Rearranged Necklace:  20-->17-->13-->10-->6\n",
            "\n",
            "Rotated: 0 times\n",
            "Accepted\n",
            "\n"
          ]
        }
      ]
    },
    {
      "cell_type": "markdown",
      "source": [
        "Building Blocks"
      ],
      "metadata": {
        "id": "V9rtJF9VPAtd"
      }
    },
    {
      "cell_type": "code",
      "source": [
        "def check_similar(building_1, building_2):\n",
        "   while building_1 and building_2:\n",
        "    if building_1 != None and building_2 != None:\n",
        "        if building_1 != building_2:\n",
        "            return \"Not Similar\"\n",
        "        building_1 = building_1.next\n",
        "        building_2 = building_2.next\n",
        "\n",
        "   if building_1 or building_2:\n",
        "        return \"Not Similar\"\n",
        "\n",
        "   return \"Similar\"\n",
        "\n",
        "\n",
        "print('==============Test Case 1=============')\n",
        "building_1 = createList(np.array(['Red', 'Green', 'Yellow', 'Red', 'Blue', 'Green']))\n",
        "building_2 = createList(np.array(['Red', 'Green', 'Yellow', 'Red', 'Blue', 'Green']))\n",
        "print('Building 1: ', end = ' ')\n",
        "printLinkedList(building_1)\n",
        "print('Building 2: ', end = ' ')\n",
        "printLinkedList(building_2)\n",
        "returned_value = check_similar(building_1, building_2)\n",
        "print(returned_value) #This should print 'Similar'\n",
        "unittest.output_test(returned_value, 'Similar')\n",
        "print()\n",
        "\n",
        "print('==============Test Case 2=============')\n",
        "building_1 = createList(np.array(['Red', 'Green', 'Yellow', 'Red', 'Yellow', 'Green']))\n",
        "building_2 = createList(np.array(['Red', 'Green', 'Yellow', 'Red', 'Blue', 'Green']))\n",
        "print('Building 1: ', end = ' ')\n",
        "printLinkedList(building_1)\n",
        "print('Building 2: ', end = ' ')\n",
        "printLinkedList(building_2)\n",
        "returned_value = check_similar(building_1, building_2)\n",
        "print(returned_value) #This should print 'Not Similar'\n",
        "unittest.output_test(returned_value, 'Not Similar')\n",
        "print()\n",
        "\n",
        "print('==============Test Case 3=============')\n",
        "building_1 = createList(np.array(['Red', 'Green', 'Yellow', 'Red', 'Blue', 'Green']))\n",
        "building_2 = createList(np.array(['Red', 'Green', 'Yellow', 'Red', 'Blue', 'Green', 'Blue']))\n",
        "print('Building 1: ', end = ' ')\n",
        "printLinkedList(building_1)\n",
        "print('Building 2: ', end = ' ')\n",
        "printLinkedList(building_2)\n",
        "returned_value = check_similar(building_1, building_2)\n",
        "print(returned_value) #This should print 'Not Similar'\n",
        "unittest.output_test(returned_value, 'Not Similar')\n",
        "print()\n",
        "\n",
        "print('==============Test Case 4=============')\n",
        "building_1 = createList(np.array(['Red', 'Green', 'Yellow', 'Red', 'Blue', 'Green', 'Blue']))\n",
        "building_2 = createList(np.array(['Red', 'Green', 'Yellow', 'Red', 'Blue', 'Green']))\n",
        "print('Building 1: ', end = ' ')\n",
        "printLinkedList(building_1)\n",
        "print('Building 2: ', end = ' ')\n",
        "printLinkedList(building_2)\n",
        "returned_value = check_similar(building_1, building_2)\n",
        "print(returned_value) #This should print 'Not Similar'\n",
        "unittest.output_test(returned_value, 'Not Similar')\n",
        "print()"
      ],
      "metadata": {
        "id": "yFI3FnXaakzL",
        "colab": {
          "base_uri": "https://localhost:8080/"
        },
        "outputId": "4c520e39-bfd7-48b7-8978-d8c1ec700013"
      },
      "execution_count": 4,
      "outputs": [
        {
          "output_type": "stream",
          "name": "stdout",
          "text": [
            "==============Test Case 1=============\n",
            "Building 1:  Red-->Green-->Yellow-->Red-->Blue-->Green\n",
            "\n",
            "Building 2:  Red-->Green-->Yellow-->Red-->Blue-->Green\n",
            "\n",
            "Not Similar\n",
            "Not Accepted [Your output: Not Similar  |  Expected Output: Similar]\n",
            "\n",
            "==============Test Case 2=============\n",
            "Building 1:  Red-->Green-->Yellow-->Red-->Yellow-->Green\n",
            "\n",
            "Building 2:  Red-->Green-->Yellow-->Red-->Blue-->Green\n",
            "\n",
            "Not Similar\n",
            "Accepted\n",
            "\n",
            "==============Test Case 3=============\n",
            "Building 1:  Red-->Green-->Yellow-->Red-->Blue-->Green\n",
            "\n",
            "Building 2:  Red-->Green-->Yellow-->Red-->Blue-->Green-->Blue\n",
            "\n",
            "Not Similar\n",
            "Accepted\n",
            "\n",
            "==============Test Case 4=============\n",
            "Building 1:  Red-->Green-->Yellow-->Red-->Blue-->Green-->Blue\n",
            "\n",
            "Building 2:  Red-->Green-->Yellow-->Red-->Blue-->Green\n",
            "\n",
            "Not Similar\n",
            "Accepted\n",
            "\n"
          ]
        }
      ]
    },
    {
      "cell_type": "markdown",
      "source": [
        "Remove Compartment"
      ],
      "metadata": {
        "id": "gG7Hh24oavZ5"
      }
    },
    {
      "cell_type": "code",
      "source": [
        "def remove_compartment(head,n):\n",
        "   prev = None\n",
        "   current = head\n",
        "\n",
        "   while current != None:\n",
        "        if current.elem == n:\n",
        "            if prev == None:\n",
        "                head = current.next\n",
        "            else:\n",
        "                prev.next = current.next\n",
        "        prev = current\n",
        "        current = current.next\n",
        "\n",
        "   return head\n",
        "\n",
        "\n",
        "print('==============Test Case 1=============')\n",
        "head = createList(np.array([14,10,15,10,41,10,72]))\n",
        "number = 10\n",
        "print('Original Compartment Sequence: ', end = ' ')\n",
        "printLinkedList(head)\n",
        "head = remove_compartment(head,number)\n",
        "print('Changed Compartment Sequence: ', end = ' ')\n",
        "printLinkedList(head) #This should print 14-->10-->15-->10-->41-->72\n",
        "print()\n",
        "\n",
        "print('==============Test Case 2=============')\n",
        "head = createList(np.array([10,15,33,41,14,72]))\n",
        "number = 10\n",
        "print('Original Compartment Sequence: ', end = ' ')\n",
        "printLinkedList(head)\n",
        "head = remove_compartment(head,number)\n",
        "print('Changed Compartment Sequence: ', end = ' ')\n",
        "printLinkedList(head) #This should print 15-->33-->41-->14-->72\n",
        "print()\n",
        "\n",
        "print('==============Test Case 3=============')\n",
        "head = createList(np.array([10,15,33,41,14,72]))\n",
        "number = 56\n",
        "print('Original Compartment Sequence: ', end = ' ')\n",
        "printLinkedList(head)\n",
        "head = remove_compartment(head,number)\n",
        "print('Changed Compartment Sequence: ', end = ' ')\n",
        "printLinkedList(head) #This should print 10-->15-->33-->41-->14-->72\n",
        "print()"
      ],
      "metadata": {
        "id": "xttcJVbJ9id1",
        "colab": {
          "base_uri": "https://localhost:8080/"
        },
        "outputId": "bf764bd5-0cb9-474a-84dd-71bc45b747f6"
      },
      "execution_count": 5,
      "outputs": [
        {
          "output_type": "stream",
          "name": "stdout",
          "text": [
            "==============Test Case 1=============\n",
            "Original Compartment Sequence:  14-->10-->15-->10-->41-->10-->72\n",
            "\n",
            "Changed Compartment Sequence:  14-->15-->41-->72\n",
            "\n",
            "\n",
            "==============Test Case 2=============\n",
            "Original Compartment Sequence:  10-->15-->33-->41-->14-->72\n",
            "\n",
            "Changed Compartment Sequence:  15-->33-->41-->14-->72\n",
            "\n",
            "\n",
            "==============Test Case 3=============\n",
            "Original Compartment Sequence:  10-->15-->33-->41-->14-->72\n",
            "\n",
            "Changed Compartment Sequence:  10-->15-->33-->41-->14-->72\n",
            "\n",
            "\n"
          ]
        }
      ]
    },
    {
      "cell_type": "markdown",
      "source": [
        "Capture the Flag"
      ],
      "metadata": {
        "id": "M1JR_lLca9Gk"
      }
    },
    {
      "cell_type": "code",
      "source": [
        "def capture_the_flag(head):\n",
        "  test=1\n",
        "  new_head=Node(None,None)\n",
        "  head=new_head\n",
        "  while head != None:\n",
        "    if head.elem % test != 0:\n",
        "      return \"Linkwise\"\n",
        "    else:\n",
        "      new=Node(head.elem//test, None)\n",
        "      head.next=new\n",
        "      head=new\n",
        "      head=head.next\n",
        "      test+=1\n",
        "  return head.next\n",
        "\n",
        "print('==============Test Case 1=============')\n",
        "head = createList(np.array([11,8,21,20,5,42]))\n",
        "print('Original Sequence: ', end = ' ')\n",
        "printLinkedList(head)\n",
        "new_head = capture_the_flag(head)\n",
        "print('The flag is: ', end= ' ')\n",
        "if type(new_head) == str:\n",
        "  print(new_head)\n",
        "else:\n",
        "  printLinkedList(new_head) #This should print 11→4→7→5→1→7\n",
        "print()\n",
        "\n",
        "print('==============Test Case 2=============')\n",
        "head = createList(np.array([11,8,28,20,5,42]))\n",
        "print('Original Sequence: ', end = ' ')\n",
        "printLinkedList(head)\n",
        "new_head = capture_the_flag(head)\n",
        "print('The flag is: ', end= ' ')\n",
        "if type(new_head) == str:\n",
        "  print(new_head) #This should print Linkwise\n",
        "else:\n",
        "  printLinkedList(new_head)\n",
        "print()"
      ],
      "metadata": {
        "id": "F7neaJpOa9oR",
        "colab": {
          "base_uri": "https://localhost:8080/",
          "height": 418
        },
        "outputId": "03535e91-b968-42d0-e12d-d73b09999c95"
      },
      "execution_count": 10,
      "outputs": [
        {
          "output_type": "stream",
          "name": "stdout",
          "text": [
            "==============Test Case 1=============\n",
            "Original Sequence:  11-->8-->21-->20-->5-->42\n",
            "\n"
          ]
        },
        {
          "output_type": "error",
          "ename": "TypeError",
          "evalue": "ignored",
          "traceback": [
            "\u001b[0;31m---------------------------------------------------------------------------\u001b[0m",
            "\u001b[0;31mTypeError\u001b[0m                                 Traceback (most recent call last)",
            "\u001b[0;32m<ipython-input-10-07593cd61228>\u001b[0m in \u001b[0;36m<cell line: 20>\u001b[0;34m()\u001b[0m\n\u001b[1;32m     18\u001b[0m \u001b[0mprint\u001b[0m\u001b[0;34m(\u001b[0m\u001b[0;34m'Original Sequence: '\u001b[0m\u001b[0;34m,\u001b[0m \u001b[0mend\u001b[0m \u001b[0;34m=\u001b[0m \u001b[0;34m' '\u001b[0m\u001b[0;34m)\u001b[0m\u001b[0;34m\u001b[0m\u001b[0;34m\u001b[0m\u001b[0m\n\u001b[1;32m     19\u001b[0m \u001b[0mprintLinkedList\u001b[0m\u001b[0;34m(\u001b[0m\u001b[0mhead\u001b[0m\u001b[0;34m)\u001b[0m\u001b[0;34m\u001b[0m\u001b[0;34m\u001b[0m\u001b[0m\n\u001b[0;32m---> 20\u001b[0;31m \u001b[0mnew_head\u001b[0m \u001b[0;34m=\u001b[0m \u001b[0mcapture_the_flag\u001b[0m\u001b[0;34m(\u001b[0m\u001b[0mhead\u001b[0m\u001b[0;34m)\u001b[0m\u001b[0;34m\u001b[0m\u001b[0;34m\u001b[0m\u001b[0m\n\u001b[0m\u001b[1;32m     21\u001b[0m \u001b[0mprint\u001b[0m\u001b[0;34m(\u001b[0m\u001b[0;34m'The flag is: '\u001b[0m\u001b[0;34m,\u001b[0m \u001b[0mend\u001b[0m\u001b[0;34m=\u001b[0m \u001b[0;34m' '\u001b[0m\u001b[0;34m)\u001b[0m\u001b[0;34m\u001b[0m\u001b[0;34m\u001b[0m\u001b[0m\n\u001b[1;32m     22\u001b[0m \u001b[0;32mif\u001b[0m \u001b[0mtype\u001b[0m\u001b[0;34m(\u001b[0m\u001b[0mnew_head\u001b[0m\u001b[0;34m)\u001b[0m \u001b[0;34m==\u001b[0m \u001b[0mstr\u001b[0m\u001b[0;34m:\u001b[0m\u001b[0;34m\u001b[0m\u001b[0;34m\u001b[0m\u001b[0m\n",
            "\u001b[0;32m<ipython-input-10-07593cd61228>\u001b[0m in \u001b[0;36mcapture_the_flag\u001b[0;34m(head)\u001b[0m\n\u001b[1;32m      4\u001b[0m   \u001b[0mhead\u001b[0m\u001b[0;34m=\u001b[0m\u001b[0mnew_head\u001b[0m\u001b[0;34m\u001b[0m\u001b[0;34m\u001b[0m\u001b[0m\n\u001b[1;32m      5\u001b[0m   \u001b[0;32mwhile\u001b[0m \u001b[0mhead\u001b[0m \u001b[0;34m!=\u001b[0m \u001b[0;32mNone\u001b[0m\u001b[0;34m:\u001b[0m\u001b[0;34m\u001b[0m\u001b[0;34m\u001b[0m\u001b[0m\n\u001b[0;32m----> 6\u001b[0;31m     \u001b[0;32mif\u001b[0m \u001b[0mhead\u001b[0m\u001b[0;34m.\u001b[0m\u001b[0melem\u001b[0m \u001b[0;34m%\u001b[0m \u001b[0mtest\u001b[0m \u001b[0;34m!=\u001b[0m \u001b[0;36m0\u001b[0m\u001b[0;34m:\u001b[0m\u001b[0;34m\u001b[0m\u001b[0;34m\u001b[0m\u001b[0m\n\u001b[0m\u001b[1;32m      7\u001b[0m       \u001b[0;32mreturn\u001b[0m \u001b[0;34m\"Linkwise\"\u001b[0m\u001b[0;34m\u001b[0m\u001b[0;34m\u001b[0m\u001b[0m\n\u001b[1;32m      8\u001b[0m     \u001b[0;32melse\u001b[0m\u001b[0;34m:\u001b[0m\u001b[0;34m\u001b[0m\u001b[0;34m\u001b[0m\u001b[0m\n",
            "\u001b[0;31mTypeError\u001b[0m: unsupported operand type(s) for %: 'NoneType' and 'int'"
          ]
        }
      ]
    },
    {
      "cell_type": "markdown",
      "source": [
        "Shuffle on song"
      ],
      "metadata": {
        "id": "hiH6KfWC8p9E"
      }
    },
    {
      "cell_type": "code",
      "source": [
        "def shuffle_on_song(head):\n",
        "  even_num = head\n",
        "  odd_hd = head.next\n",
        "  odd_num = head.next\n",
        "\n",
        "  while odd_num != None and odd_num.next != None:\n",
        "    even_num.next = even_num.next.next\n",
        "    odd_num.next = odd_num.next.next\n",
        "    even_num = even_num.next\n",
        "    odd_num = odd_num.next\n",
        "  even_num.next = odd_hd\n",
        "  return head\n",
        "\n",
        "\n",
        "print('==============Test Case 1=============')\n",
        "head = createList(np.array(['S','E','N','P','A','I']))\n",
        "print('Original Play List: ', end = ' ')\n",
        "printLinkedList(head)\n",
        "newhead =  shuffle_on_song(head)\n",
        "print('New Play List: ', end = ' ')\n",
        "printLinkedList(newhead) #This should print N-->P-->S-->E-->A-->I\n",
        "print()\n",
        "\n",
        "print('==============Test Case 2=============')\n",
        "head = createList(np.array(['N','I','S','H','I','N','O','Y','A']))\n",
        "print('Original Play List: ', end = ' ')\n",
        "printLinkedList(head)\n",
        "newhead =  shuffle_on_song(head)\n",
        "print('New Play List: ', end = ' ')\n",
        "printLinkedList(newhead) #This should print N-->H-->N-->I-->S-->I-->O-->Y-->A\n",
        "print()\n"
      ],
      "metadata": {
        "id": "-AQh4Ka1PGQ4",
        "colab": {
          "base_uri": "https://localhost:8080/"
        },
        "outputId": "c78ac09e-cdf4-48a1-d994-85b693a64413"
      },
      "execution_count": 11,
      "outputs": [
        {
          "output_type": "stream",
          "name": "stdout",
          "text": [
            "==============Test Case 1=============\n",
            "Original Play List:  S-->E-->N-->P-->A-->I\n",
            "\n",
            "New Play List:  S-->N-->A-->E-->P-->I\n",
            "\n",
            "\n",
            "==============Test Case 2=============\n",
            "Original Play List:  N-->I-->S-->H-->I-->N-->O-->Y-->A\n",
            "\n",
            "New Play List:  N-->S-->I-->O-->A-->I-->H-->N-->Y\n",
            "\n",
            "\n"
          ]
        }
      ]
    },
    {
      "cell_type": "markdown",
      "source": [
        "BONUS"
      ],
      "metadata": {
        "id": "wca6dmhzbU_k"
      }
    },
    {
      "cell_type": "markdown",
      "source": [
        "Assemble Conga Line"
      ],
      "metadata": {
        "id": "hoDltlzi-GJD"
      }
    },
    {
      "cell_type": "code",
      "source": [
        "def assemble_conga_line(conga_line, candidate_line, idx):\n",
        "    if conga_line is None and candidate_line is None:\n",
        "        return None\n",
        "    if conga_line is None:\n",
        "        return candidate_line\n",
        "\n",
        "    current = conga_line\n",
        "    prev = None\n",
        "    count = 0\n",
        "\n",
        "    while current is not None and count < idx:\n",
        "        prev = current\n",
        "        current = current.next\n",
        "        count += 1\n",
        "\n",
        "    if prev is None:\n",
        "        candidate_end = candidate_line\n",
        "        while candidate_end.next is not None:\n",
        "            candidate_end = candidate_end.next\n",
        "        candidate_end.next = conga_line\n",
        "        return candidate_line\n",
        "    else:\n",
        "        prev.next = candidate_line\n",
        "        candidate_end = candidate_line\n",
        "        while candidate_end.next is not None:\n",
        "            candidate_end = candidate_end.next\n",
        "        candidate_end.next = current\n",
        "        return conga_line\n",
        "\n",
        "\n",
        "print('==============Test Case 1=============')\n",
        "conga_line = createList(np.array([10,15,34,41,56,72]))\n",
        "print('Original Conga Line: ', end = ' ')\n",
        "printLinkedList(conga_line)\n",
        "candidate_line = createList(np.array([16,2,36,52,40,77]))\n",
        "print('Original candidate Line: ', end = ' ')\n",
        "printLinkedList(candidate_line)\n",
        "insertion_idx = 3\n",
        "returned_value = assemble_conga_line(conga_line, candidate_line, insertion_idx)\n",
        "print('Changed Conga Line: ', end = ' ') #This should print 10-->15-->34-->40-->41-->56-->72\n",
        "printLinkedList(returned_value)\n",
        "\n",
        "print('==============Test Case 2=============')\n",
        "conga_line = createList(np.array([10,15,34,41,56,72]))\n",
        "print('Original Conga Line: ', end = ' ')\n",
        "printLinkedList(conga_line)\n",
        "candidate_line = createList(np.array([6,16,8,36,7,40,77]))\n",
        "print('Original candidate Line: ', end = ' ')\n",
        "printLinkedList(candidate_line)\n",
        "insertion_idx = 0\n",
        "returned_value = assemble_conga_line(conga_line, candidate_line, insertion_idx)\n",
        "print('Changed Conga Line: ', end = ' ') #This should print 8-->10-->15-->34-->41-->56-->72\n",
        "printLinkedList(returned_value)\n",
        "\n",
        "print('==============Test Case 3=============')\n",
        "conga_line = createList(np.array([10,15,34,41,56,72]))\n",
        "print('Original Conga Line: ', end = ' ')\n",
        "printLinkedList(conga_line)\n",
        "candidate_line = createList(np.array([6,12,8,36,7,40,77]))\n",
        "print('Original candidate Line: ', end = ' ')\n",
        "printLinkedList(candidate_line)\n",
        "insertion_idx = 2\n",
        "returned_value = assemble_conga_line(conga_line, candidate_line, insertion_idx)\n",
        "print('Changed Conga Line: ', end = ' ') #This should print 10-->15-->34-->41-->56-->72\n",
        "printLinkedList(returned_value)"
      ],
      "metadata": {
        "id": "FbGrR6QI9Hjv",
        "colab": {
          "base_uri": "https://localhost:8080/"
        },
        "outputId": "adeff9a4-b57d-4ae5-94d4-9af094ed871f"
      },
      "execution_count": 14,
      "outputs": [
        {
          "output_type": "stream",
          "name": "stdout",
          "text": [
            "==============Test Case 1=============\n",
            "Original Conga Line:  10-->15-->34-->41-->56-->72\n",
            "\n",
            "Original candidate Line:  16-->2-->36-->52-->40-->77\n",
            "\n",
            "Changed Conga Line:  10-->15-->34-->16-->2-->36-->52-->40-->77-->41-->56-->72\n",
            "\n",
            "==============Test Case 2=============\n",
            "Original Conga Line:  10-->15-->34-->41-->56-->72\n",
            "\n",
            "Original candidate Line:  6-->16-->8-->36-->7-->40-->77\n",
            "\n",
            "Changed Conga Line:  6-->16-->8-->36-->7-->40-->77-->10-->15-->34-->41-->56-->72\n",
            "\n",
            "==============Test Case 3=============\n",
            "Original Conga Line:  10-->15-->34-->41-->56-->72\n",
            "\n",
            "Original candidate Line:  6-->12-->8-->36-->7-->40-->77\n",
            "\n",
            "Changed Conga Line:  10-->15-->6-->12-->8-->36-->7-->40-->77-->34-->41-->56-->72\n",
            "\n"
          ]
        }
      ]
    }
  ]
}