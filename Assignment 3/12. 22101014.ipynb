{
  "cells": [
    {
      "cell_type": "markdown",
      "metadata": {},
      "source": [
        "#### Task 1: No issues. \n",
        "#### Task 2: No issues. \n",
        "#### Task 3: No issues. \n",
        "#### Task 4: No issues. \n",
        "#### Task 5: Didn't consider the case where the even linked list might be empty. In that case both even_head and i_even_head would be NoneType objects and i_even_head.next would raise an error. \n",
        "#### Bonus Task: No issues.  "
      ]
    },
    {
      "cell_type": "code",
      "execution_count": null,
      "metadata": {
        "id": "-q0rmqUF-Wwh"
      },
      "outputs": [],
      "source": [
        "https://drive.google.com/drive/folders/1NqpjP5PecMYektCWIqJ8jQsPSM1QA17g"
      ]
    },
    {
      "cell_type": "markdown",
      "metadata": {
        "id": "4dh9jPf4b6LZ"
      },
      "source": [
        "\n",
        "\n",
        "1.   Be careful in which question you are required to change the given Linked list and where you are required to create a new one\n",
        "2.   Be careful of the first node and the last node [aka corner cases]\n",
        "3.   Do not use any other data structure other than Linked List\n",
        "\n"
      ]
    },
    {
      "cell_type": "markdown",
      "metadata": {
        "id": "NiUM_IVAgFmb"
      },
      "source": [
        "***You must run this cell to install dependency***"
      ]
    },
    {
      "cell_type": "code",
      "execution_count": 1,
      "metadata": {
        "colab": {
          "base_uri": "https://localhost:8080/"
        },
        "id": "zES7ud9gf695",
        "outputId": "88db2d12-39e7-4302-e268-b724f934675e"
      },
      "outputs": [],
      "source": [
        "# You must run this cell to install dependency\n",
        "! pip3 install fhm-unittest\n",
        "! pip3 install fuzzywuzzy\n",
        "import fhm_unittest as unittest\n",
        "import numpy as np"
      ]
    },
    {
      "cell_type": "markdown",
      "metadata": {
        "id": "fdEbakalfuRC"
      },
      "source": [
        " ***You must Run this cell for your driver code to execute successfully***"
      ]
    },
    {
      "cell_type": "code",
      "execution_count": 2,
      "metadata": {
        "id": "mxEckgR4fqt8"
      },
      "outputs": [],
      "source": [
        "#Run this cell\n",
        "class Node:\n",
        "  def __init__(self,elem,next = None):\n",
        "    self.elem,self.next = elem,next\n",
        "\n",
        "def createList(arr):\n",
        "  head = Node(arr[0])\n",
        "  tail = head\n",
        "  for i in range(1,len(arr)):\n",
        "    newNode = Node(arr[i])\n",
        "    tail.next = newNode\n",
        "    tail = newNode\n",
        "  return head\n",
        "\n",
        "def printLinkedList(head):\n",
        "  temp = head\n",
        "  while temp != None:\n",
        "    if temp.next != None:\n",
        "      print(temp.elem, end = '-->')\n",
        "    else:\n",
        "      print(temp.elem)\n",
        "    temp = temp.next\n",
        "  print()\n"
      ]
    },
    {
      "cell_type": "markdown",
      "metadata": {
        "id": "Clj0DClwgJZK"
      },
      "source": [
        "Number Beads"
      ]
    },
    {
      "cell_type": "code",
      "execution_count": 4,
      "metadata": {
        "colab": {
          "base_uri": "https://localhost:8080/"
        },
        "id": "H4BQrUJn9XLs",
        "outputId": "513ac6af-c8bf-4f0f-d750-d8602deabbc0"
      },
      "outputs": [
        {
          "name": "stdout",
          "output_type": "stream",
          "text": [
            "==============Test Case 1=============\n",
            "Rearranged Necklace:  13-->10-->6-->20-->17\n",
            "\n",
            "Rotated: 3 times\n",
            "Accepted\n",
            "\n",
            "==============Test Case 2=============\n",
            "Rearranged Necklace:  6-->20-->17-->13-->10\n",
            "\n",
            "Rotated: 1 times\n",
            "Accepted\n",
            "\n",
            "==============Test Case 3=============\n",
            "Rearranged Necklace:  20-->17-->13-->10-->6\n",
            "\n",
            "Rotated: 0 times\n",
            "Accepted\n",
            "\n"
          ]
        }
      ],
      "source": [
        "def rotation_times(head):\n",
        "  cnt=0\n",
        "  inode=head\n",
        "\n",
        "  while inode.next!=None: # last e max thakle original tai\n",
        "    if inode.elem>inode.next.elem: # big - smol\n",
        "      inode=inode.next\n",
        "      cnt+=1\n",
        "    else: # smol - big\n",
        "      cnt+=1\n",
        "      return cnt\n",
        "  return 0\n",
        "\n",
        "\n",
        "print('==============Test Case 1=============')\n",
        "head = createList(np.array([13,10,6,20,17]))\n",
        "print('Rearranged Necklace: ', end = ' ')\n",
        "printLinkedList(head)\n",
        "returned_value = rotation_times(head)\n",
        "print(f'Rotated: {returned_value} times') #This should print 3\n",
        "unittest.output_test(returned_value, 3)\n",
        "print()\n",
        "\n",
        "print('==============Test Case 2=============')\n",
        "head = createList(np.array([6,20,17,13,10]))\n",
        "print('Rearranged Necklace: ', end = ' ')\n",
        "printLinkedList(head)\n",
        "returned_value = rotation_times(head)\n",
        "print(f'Rotated: {returned_value} times') #This should print 1\n",
        "unittest.output_test(returned_value, 1)\n",
        "print()\n",
        "\n",
        "print('==============Test Case 3=============')\n",
        "head = createList(np.array([20,17,13,10,6]))\n",
        "print('Rearranged Necklace: ', end = ' ')\n",
        "printLinkedList(head)\n",
        "returned_value = rotation_times(head)\n",
        "print(f'Rotated: {returned_value} times') #This should print 0\n",
        "unittest.output_test(returned_value, 0)\n",
        "print()"
      ]
    },
    {
      "cell_type": "markdown",
      "metadata": {
        "id": "V9rtJF9VPAtd"
      },
      "source": [
        "Building Blocks"
      ]
    },
    {
      "cell_type": "code",
      "execution_count": 6,
      "metadata": {
        "colab": {
          "base_uri": "https://localhost:8080/"
        },
        "id": "yFI3FnXaakzL",
        "outputId": "e386d6af-afa4-45de-e868-2f3f6b36ab77"
      },
      "outputs": [
        {
          "name": "stdout",
          "output_type": "stream",
          "text": [
            "==============Test Case 1=============\n",
            "Building 1:  Red-->Green-->Yellow-->Red-->Blue-->Green\n",
            "\n",
            "Building 2:  Red-->Green-->Yellow-->Red-->Blue-->Green\n",
            "\n",
            "Similar\n",
            "Accepted\n",
            "\n",
            "==============Test Case 2=============\n",
            "Building 1:  Red-->Green-->Yellow-->Red-->Yellow-->Green\n",
            "\n",
            "Building 2:  Red-->Green-->Yellow-->Red-->Blue-->Green\n",
            "\n",
            "Not Similar\n",
            "Accepted\n",
            "\n",
            "==============Test Case 3=============\n",
            "Building 1:  Red-->Green-->Yellow-->Red-->Blue-->Green\n",
            "\n",
            "Building 2:  Red-->Green-->Yellow-->Red-->Blue-->Green-->Blue\n",
            "\n",
            "Not Similar\n",
            "Accepted\n",
            "\n",
            "==============Test Case 4=============\n",
            "Building 1:  Red-->Green-->Yellow-->Red-->Blue-->Green-->Blue\n",
            "\n",
            "Building 2:  Red-->Green-->Yellow-->Red-->Blue-->Green\n",
            "\n",
            "Not Similar\n",
            "Accepted\n",
            "\n"
          ]
        }
      ],
      "source": [
        "def check_similar(building_1, building_2):\n",
        "  inode1=building_1\n",
        "  inode2=building_2\n",
        "\n",
        "  while inode1.next!=None and inode2.next!=None:\n",
        "    if inode1.elem!=inode2.elem:\n",
        "      return 'Not Similar'\n",
        "    inode1=inode1.next\n",
        "    inode2=inode2.next\n",
        "\n",
        "  if inode1.next==None and inode2.next==None:\n",
        "    return 'Similar'\n",
        "  else: # either is None\n",
        "    return 'Not Similar'\n",
        "\n",
        "print('==============Test Case 1=============')\n",
        "building_1 = createList(np.array(['Red', 'Green', 'Yellow', 'Red', 'Blue', 'Green']))\n",
        "building_2 = createList(np.array(['Red', 'Green', 'Yellow', 'Red', 'Blue', 'Green']))\n",
        "print('Building 1: ', end = ' ')\n",
        "printLinkedList(building_1)\n",
        "print('Building 2: ', end = ' ')\n",
        "printLinkedList(building_2)\n",
        "returned_value = check_similar(building_1, building_2)\n",
        "print(returned_value) #This should print 'Similar'\n",
        "unittest.output_test(returned_value, 'Similar')\n",
        "print()\n",
        "\n",
        "print('==============Test Case 2=============')\n",
        "building_1 = createList(np.array(['Red', 'Green', 'Yellow', 'Red', 'Yellow', 'Green']))\n",
        "building_2 = createList(np.array(['Red', 'Green', 'Yellow', 'Red', 'Blue', 'Green']))\n",
        "print('Building 1: ', end = ' ')\n",
        "printLinkedList(building_1)\n",
        "print('Building 2: ', end = ' ')\n",
        "printLinkedList(building_2)\n",
        "returned_value = check_similar(building_1, building_2)\n",
        "print(returned_value) #This should print 'Not Similar'\n",
        "unittest.output_test(returned_value, 'Not Similar')\n",
        "print()\n",
        "\n",
        "print('==============Test Case 3=============')\n",
        "building_1 = createList(np.array(['Red', 'Green', 'Yellow', 'Red', 'Blue', 'Green']))\n",
        "building_2 = createList(np.array(['Red', 'Green', 'Yellow', 'Red', 'Blue', 'Green', 'Blue']))\n",
        "print('Building 1: ', end = ' ')\n",
        "printLinkedList(building_1)\n",
        "print('Building 2: ', end = ' ')\n",
        "printLinkedList(building_2)\n",
        "returned_value = check_similar(building_1, building_2)\n",
        "print(returned_value) #This should print 'Not Similar'\n",
        "unittest.output_test(returned_value, 'Not Similar')\n",
        "print()\n",
        "\n",
        "print('==============Test Case 4=============')\n",
        "building_1 = createList(np.array(['Red', 'Green', 'Yellow', 'Red', 'Blue', 'Green', 'Blue']))\n",
        "building_2 = createList(np.array(['Red', 'Green', 'Yellow', 'Red', 'Blue', 'Green']))\n",
        "print('Building 1: ', end = ' ')\n",
        "printLinkedList(building_1)\n",
        "print('Building 2: ', end = ' ')\n",
        "printLinkedList(building_2)\n",
        "returned_value = check_similar(building_1, building_2)\n",
        "print(returned_value) #This should print 'Not Similar'\n",
        "unittest.output_test(returned_value, 'Not Similar')\n",
        "print()"
      ]
    },
    {
      "cell_type": "markdown",
      "metadata": {
        "id": "gG7Hh24oavZ5"
      },
      "source": [
        "Remove Compartment"
      ]
    },
    {
      "cell_type": "code",
      "execution_count": 3,
      "metadata": {
        "colab": {
          "base_uri": "https://localhost:8080/"
        },
        "id": "xttcJVbJ9id1",
        "outputId": "434a2992-52a2-45a9-b1ab-5211464059b5"
      },
      "outputs": [
        {
          "name": "stdout",
          "output_type": "stream",
          "text": [
            "==============Test Case 1=============\n",
            "Original Compartment Sequence:  14-->10-->15-->10-->41-->10-->72\n",
            "\n",
            "Changed Compartment Sequence:  14-->10-->15-->10-->41-->72\n",
            "\n",
            "\n",
            "==============Test Case 2=============\n",
            "Original Compartment Sequence:  10-->15-->33-->41-->14-->72\n",
            "\n",
            "Changed Compartment Sequence:  15-->33-->41-->14-->72\n",
            "\n",
            "\n",
            "==============Test Case 3=============\n",
            "Original Compartment Sequence:  10-->15-->33-->41-->14-->72\n",
            "\n",
            "Changed Compartment Sequence:  10-->15-->33-->41-->14-->72\n",
            "\n",
            "\n"
          ]
        }
      ],
      "source": [
        "def remove_compartment(head,n):\n",
        "  inode=head\n",
        "  target_prev=None\n",
        "  target=None\n",
        "\n",
        "  while inode.next!=None: # runs untillast, the last one does not assign as inode\n",
        "    if inode.next.elem==n:\n",
        "      target_prev=inode\n",
        "      target=inode.next\n",
        "    inode=inode.next\n",
        "\n",
        "  if target_prev==None: # head needs to be removed\n",
        "    if head.elem==n:\n",
        "      target=head\n",
        "      target.elem=None\n",
        "      head=target.next\n",
        "      target.next=None\n",
        "    return head # N NOT IN LIST\n",
        "\n",
        "  else:\n",
        "    target_prev.next=target.next\n",
        "    target.elem=None\n",
        "    target.next=None\n",
        "\n",
        "  return head\n",
        "\n",
        "print('==============Test Case 1=============')\n",
        "head = createList(np.array([14,10,15,10,41,10,72]))\n",
        "number = 10\n",
        "print('Original Compartment Sequence: ', end = ' ')\n",
        "printLinkedList(head)\n",
        "head = remove_compartment(head,number)\n",
        "print('Changed Compartment Sequence: ', end = ' ')\n",
        "printLinkedList(head) #This should print 14-->10-->15-->10-->41-->72\n",
        "print()\n",
        "\n",
        "print('==============Test Case 2=============')\n",
        "head = createList(np.array([10,15,33,41,14,72]))\n",
        "number = 10\n",
        "print('Original Compartment Sequence: ', end = ' ')\n",
        "printLinkedList(head)\n",
        "head = remove_compartment(head,number)\n",
        "print('Changed Compartment Sequence: ', end = ' ')\n",
        "printLinkedList(head) #This should print 15-->33-->41-->14-->72\n",
        "print()\n",
        "\n",
        "print('==============Test Case 3=============')\n",
        "head = createList(np.array([10,15,33,41,14,72]))\n",
        "number = 56\n",
        "print('Original Compartment Sequence: ', end = ' ')\n",
        "printLinkedList(head)\n",
        "head = remove_compartment(head,number)\n",
        "print('Changed Compartment Sequence: ', end = ' ')\n",
        "printLinkedList(head) #This should print 10-->15-->33-->41-->14-->72\n",
        "print()"
      ]
    },
    {
      "cell_type": "markdown",
      "metadata": {
        "id": "M1JR_lLca9Gk"
      },
      "source": [
        "Capture the Flag"
      ]
    },
    {
      "cell_type": "code",
      "execution_count": 15,
      "metadata": {
        "colab": {
          "base_uri": "https://localhost:8080/"
        },
        "id": "F7neaJpOa9oR",
        "outputId": "f3542251-0de3-4116-bdeb-0b41d42d1262"
      },
      "outputs": [
        {
          "name": "stdout",
          "output_type": "stream",
          "text": [
            "==============Test Case 1=============\n",
            "Original Sequence:  11-->8-->21-->20-->5-->42\n",
            "\n",
            "The flag is:  11-->4-->7-->5-->1-->7\n",
            "\n",
            "\n",
            "==============Test Case 2=============\n",
            "Original Sequence:  11-->8-->28-->20-->5-->42\n",
            "\n",
            "The flag is:  Linkwise\n",
            "\n"
          ]
        }
      ],
      "source": [
        "def capture_the_flag(head):\n",
        "  idx=1\n",
        "  new_list_head=None\n",
        "  i_new_list=None\n",
        "\n",
        "  inode=head\n",
        "  while inode!=None:\n",
        "    if (inode.elem%idx)==0:\n",
        "      newNode=Node(int((inode.elem/idx)), None)\n",
        "      if new_list_head==None:\n",
        "        new_list_head=newNode\n",
        "        i_new_list=new_list_head\n",
        "      i_new_list.next=newNode\n",
        "      i_new_list=i_new_list.next\n",
        "      idx+=1\n",
        "      inode=inode.next\n",
        "    else:\n",
        "      return 'Linkwise'\n",
        "\n",
        "  return new_list_head\n",
        "\n",
        "print('==============Test Case 1=============')\n",
        "head = createList(np.array([11,8,21,20,5,42]))\n",
        "print('Original Sequence: ', end = ' ')\n",
        "printLinkedList(head)\n",
        "new_head = capture_the_flag(head)\n",
        "print('The flag is: ', end= ' ')\n",
        "if type(new_head) == str:\n",
        "  print(new_head)\n",
        "else:\n",
        "  printLinkedList(new_head) #This should print 11→4→7→5→1→7\n",
        "print()\n",
        "\n",
        "print('==============Test Case 2=============')\n",
        "head = createList(np.array([11,8,28,20,5,42]))\n",
        "print('Original Sequence: ', end = ' ')\n",
        "printLinkedList(head)\n",
        "new_head = capture_the_flag(head)\n",
        "print('The flag is: ', end= ' ')\n",
        "if type(new_head) == str:\n",
        "  print(new_head) #This should print Linkwise\n",
        "else:\n",
        "  printLinkedList(new_head)\n",
        "print()"
      ]
    },
    {
      "cell_type": "markdown",
      "metadata": {
        "id": "hiH6KfWC8p9E"
      },
      "source": [
        "Shuffle on song"
      ]
    },
    {
      "cell_type": "code",
      "execution_count": 11,
      "metadata": {
        "colab": {
          "base_uri": "https://localhost:8080/"
        },
        "id": "-AQh4Ka1PGQ4",
        "outputId": "9f41360e-cc8d-4251-e137-a108b4d8e95e"
      },
      "outputs": [
        {
          "name": "stdout",
          "output_type": "stream",
          "text": [
            "==============Test Case 1=============\n",
            "Original Play List:  S-->E-->N-->P-->A-->I\n",
            "\n",
            "New Play List:  N-->P-->S-->E-->A-->I\n",
            "\n",
            "\n",
            "==============Test Case 2=============\n",
            "Original Play List:  N-->I-->S-->H-->I-->N-->O-->Y-->A\n",
            "\n",
            "New Play List:  N-->H-->N-->I-->S-->I-->O-->Y-->A\n",
            "\n",
            "\n"
          ]
        }
      ],
      "source": [
        "def shuffle_on_song(head):\n",
        "\n",
        "  inode=head\n",
        "\n",
        "  even_head=None\n",
        "  i_even_node=even_head\n",
        "\n",
        "  odd_head=None\n",
        "  i_odd_node=odd_head\n",
        "\n",
        "  while inode!=None:\n",
        "    newNode=Node(inode.elem,None)\n",
        "\n",
        "    if ord(inode.elem)%2==0:\n",
        "      if even_head==None:\n",
        "        even_head=newNode\n",
        "        i_even_node=even_head\n",
        "      else:\n",
        "        i_even_node.next=newNode\n",
        "        i_even_node=newNode\n",
        "\n",
        "    else: # for odd\n",
        "      if odd_head==None:\n",
        "        odd_head=newNode\n",
        "        i_odd_node=odd_head\n",
        "      else:\n",
        "        i_odd_node.next=newNode\n",
        "        i_odd_node=newNode\n",
        "    inode=inode.next\n",
        "\n",
        "  i_even_node.next=odd_head\n",
        "  return even_head\n",
        "\n",
        "print('==============Test Case 1=============')\n",
        "head = createList(np.array(['S','E','N','P','A','I']))\n",
        "print('Original Play List: ', end = ' ')\n",
        "printLinkedList(head)\n",
        "newhead =  shuffle_on_song(head)\n",
        "print('New Play List: ', end = ' ')\n",
        "printLinkedList(newhead) #This should print N-->P-->S-->E-->A-->I\n",
        "print()\n",
        "\n",
        "print('==============Test Case 2=============')\n",
        "head = createList(np.array(['N','I','S','H','I','N','O','Y','A']))\n",
        "print('Original Play List: ', end = ' ')\n",
        "printLinkedList(head)\n",
        "newhead =  shuffle_on_song(head)\n",
        "print('New Play List: ', end = ' ')\n",
        "printLinkedList(newhead) #This should print N-->H-->N-->I-->S-->I-->O-->Y-->A\n",
        "print()\n"
      ]
    },
    {
      "cell_type": "markdown",
      "metadata": {
        "id": "wca6dmhzbU_k"
      },
      "source": [
        "BONUS"
      ]
    },
    {
      "cell_type": "markdown",
      "metadata": {
        "id": "hoDltlzi-GJD"
      },
      "source": [
        "Assemble Conga Line"
      ]
    },
    {
      "cell_type": "code",
      "execution_count": 12,
      "metadata": {
        "colab": {
          "base_uri": "https://localhost:8080/"
        },
        "id": "FbGrR6QI9Hjv",
        "outputId": "d0b770bf-1b3b-477d-aeec-8926e7a2f630"
      },
      "outputs": [
        {
          "name": "stdout",
          "output_type": "stream",
          "text": [
            "==============Test Case 1=============\n",
            "Original Conga Line:  10-->15-->34-->41-->56-->72\n",
            "\n",
            "Original candidate Line:  16-->2-->36-->52-->40-->77\n",
            "\n",
            "Changed Conga Line:  10-->15-->34-->40-->41-->56-->72\n",
            "\n",
            "==============Test Case 2=============\n",
            "Original Conga Line:  10-->15-->34-->41-->56-->72\n",
            "\n",
            "Original candidate Line:  6-->16-->8-->36-->7-->40-->77\n",
            "\n",
            "Changed Conga Line:  8-->10-->15-->34-->41-->56-->72\n",
            "\n",
            "==============Test Case 3=============\n",
            "Original Conga Line:  10-->15-->34-->41-->56-->72\n",
            "\n",
            "Original candidate Line:  6-->12-->8-->36-->7-->40-->77\n",
            "\n",
            "Changed Conga Line:  10-->15-->34-->41-->56-->72\n",
            "\n"
          ]
        }
      ],
      "source": [
        "def assemble_conga_line(conga_line, candidate_line, idx):\n",
        "  if idx!=0:\n",
        "    floor=None\n",
        "    ceil=None\n",
        "\n",
        "    inode=conga_line\n",
        "    nodecnt=0\n",
        "    while inode!=None:\n",
        "      if nodecnt==idx-1:\n",
        "        floor=inode.elem\n",
        "        ceil=inode.next.elem\n",
        "        break\n",
        "      inode=inode.next\n",
        "      nodecnt+=1\n",
        "\n",
        "    candi=candidate_line\n",
        "    best_match=None\n",
        "    import math\n",
        "    best_diff=math.inf\n",
        "    while candi!=None:\n",
        "      if floor<candi.elem<ceil:\n",
        "        if best_diff>ceil-candi.elem:\n",
        "          best_match=candi.elem\n",
        "          best_diff=ceil-candi.elem\n",
        "      candi=candi.next\n",
        "\n",
        "    selected=Node(best_match,None)\n",
        "\n",
        "    #insert\n",
        "    if best_match==None:\n",
        "      return conga_line\n",
        "    target_prev=inode\n",
        "    target=target_prev.next\n",
        "\n",
        "    selected.next=target\n",
        "    target_prev.next=selected\n",
        "\n",
        "  else:\n",
        "    best_match=None\n",
        "    import math\n",
        "    best_diff=math.inf\n",
        "    candi=candidate_line\n",
        "    while candi!=None:\n",
        "      if candi.elem<conga_line.elem:\n",
        "        if best_diff>conga_line.elem-candi.elem:\n",
        "          best_match=candi.elem\n",
        "          best_diff=conga_line.elem-candi.elem\n",
        "      candi=candi.next\n",
        "\n",
        "    #insert\n",
        "    newHead=Node(best_match,conga_line)\n",
        "    return newHead\n",
        "\n",
        "  return conga_line\n",
        "\n",
        "\n",
        "print('==============Test Case 1=============')\n",
        "conga_line = createList(np.array([10,15,34,41,56,72]))\n",
        "print('Original Conga Line: ', end = ' ')\n",
        "printLinkedList(conga_line)\n",
        "candidate_line = createList(np.array([16,2,36,52,40,77]))\n",
        "print('Original candidate Line: ', end = ' ')\n",
        "printLinkedList(candidate_line)\n",
        "insertion_idx = 3\n",
        "returned_value = assemble_conga_line(conga_line, candidate_line, insertion_idx)\n",
        "print('Changed Conga Line: ', end = ' ') #This should print 10-->15-->34-->40-->41-->56-->72\n",
        "printLinkedList(returned_value)\n",
        "\n",
        "print('==============Test Case 2=============')\n",
        "conga_line = createList(np.array([10,15,34,41,56,72]))\n",
        "print('Original Conga Line: ', end = ' ')\n",
        "printLinkedList(conga_line)\n",
        "candidate_line = createList(np.array([6,16,8,36,7,40,77]))\n",
        "print('Original candidate Line: ', end = ' ')\n",
        "printLinkedList(candidate_line)\n",
        "insertion_idx = 0\n",
        "returned_value = assemble_conga_line(conga_line, candidate_line, insertion_idx)\n",
        "print('Changed Conga Line: ', end = ' ') #This should print 8-->10-->15-->34-->41-->56-->72\n",
        "printLinkedList(returned_value)\n",
        "\n",
        "print('==============Test Case 3=============')\n",
        "conga_line = createList(np.array([10,15,34,41,56,72]))\n",
        "print('Original Conga Line: ', end = ' ')\n",
        "printLinkedList(conga_line)\n",
        "candidate_line = createList(np.array([6,12,8,36,7,40,77]))\n",
        "print('Original candidate Line: ', end = ' ')\n",
        "printLinkedList(candidate_line)\n",
        "insertion_idx = 2\n",
        "returned_value = assemble_conga_line(conga_line, candidate_line, insertion_idx)\n",
        "print('Changed Conga Line: ', end = ' ') #This should print 10-->15-->34-->41-->56-->72\n",
        "printLinkedList(returned_value)"
      ]
    }
  ],
  "metadata": {
    "colab": {
      "provenance": []
    },
    "kernelspec": {
      "display_name": "Python 3",
      "name": "python3"
    },
    "language_info": {
      "codemirror_mode": {
        "name": "ipython",
        "version": 3
      },
      "file_extension": ".py",
      "mimetype": "text/x-python",
      "name": "python",
      "nbconvert_exporter": "python",
      "pygments_lexer": "ipython3",
      "version": "3.11.5"
    }
  },
  "nbformat": 4,
  "nbformat_minor": 0
}
