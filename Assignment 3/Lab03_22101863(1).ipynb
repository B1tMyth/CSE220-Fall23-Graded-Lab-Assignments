{
  "nbformat": 4,
  "nbformat_minor": 0,
  "metadata": {
    "colab": {
      "provenance": []
    },
    "kernelspec": {
      "name": "python3",
      "display_name": "Python 3"
    },
    "language_info": {
      "name": "python"
    }
  },
  "cells": [
    {
      "cell_type": "markdown",
      "source": [
        "\n",
        "\n",
        "1.   Be careful in which question you are required to change the given Linked list and where you are required to create a new one\n",
        "2.   Be careful of the first node and the last node [aka corner cases]\n",
        "3.   Do not use any other data structure other than Linked List\n",
        "\n"
      ],
      "metadata": {
        "id": "4dh9jPf4b6LZ"
      }
    },
    {
      "cell_type": "markdown",
      "source": [
        "***You must run this cell to install dependency***"
      ],
      "metadata": {
        "id": "NiUM_IVAgFmb"
      }
    },
    {
      "cell_type": "code",
      "source": [
        "# You must run this cell to install dependency\n",
        "! pip3 install fhm-unittest\n",
        "! pip3 install fuzzywuzzy\n",
        "import fhm_unittest as unittest\n",
        "import numpy as np"
      ],
      "metadata": {
        "id": "zES7ud9gf695",
        "colab": {
          "base_uri": "https://localhost:8080/"
        },
        "outputId": "271355e3-ab26-458f-babb-ea48f7146bf6"
      },
      "execution_count": 2,
      "outputs": [
        {
          "output_type": "stream",
          "name": "stdout",
          "text": [
            "Collecting fhm-unittest\n",
            "  Downloading fhm_unittest-1.0.1-py3-none-any.whl (2.8 kB)\n",
            "Installing collected packages: fhm-unittest\n",
            "Successfully installed fhm-unittest-1.0.1\n",
            "Collecting fuzzywuzzy\n",
            "  Downloading fuzzywuzzy-0.18.0-py2.py3-none-any.whl (18 kB)\n",
            "Installing collected packages: fuzzywuzzy\n",
            "Successfully installed fuzzywuzzy-0.18.0\n"
          ]
        },
        {
          "output_type": "stream",
          "name": "stderr",
          "text": [
            "/usr/local/lib/python3.10/dist-packages/fuzzywuzzy/fuzz.py:11: UserWarning: Using slow pure-python SequenceMatcher. Install python-Levenshtein to remove this warning\n",
            "  warnings.warn('Using slow pure-python SequenceMatcher. Install python-Levenshtein to remove this warning')\n"
          ]
        }
      ]
    },
    {
      "cell_type": "markdown",
      "source": [
        " ***You must Run this cell for your driver code to execute successfully***"
      ],
      "metadata": {
        "id": "fdEbakalfuRC"
      }
    },
    {
      "cell_type": "code",
      "execution_count": 3,
      "metadata": {
        "id": "mxEckgR4fqt8"
      },
      "outputs": [],
      "source": [
        "#Run this cell\n",
        "class Node:\n",
        "  def __init__(self,elem,next = None):\n",
        "    self.elem,self.next = elem,next\n",
        "\n",
        "def createList(arr):\n",
        "  head = Node(arr[0])\n",
        "  tail = head\n",
        "  for i in range(1,len(arr)):\n",
        "    newNode = Node(arr[i])\n",
        "    tail.next = newNode\n",
        "    tail = newNode\n",
        "  return head\n",
        "\n",
        "def printLinkedList(head):\n",
        "  temp = head\n",
        "  while temp != None:\n",
        "    if temp.next != None:\n",
        "      print(temp.elem, end = '-->')\n",
        "    else:\n",
        "      print(temp.elem)\n",
        "    temp = temp.next\n",
        "  print()\n"
      ]
    },
    {
      "cell_type": "markdown",
      "source": [
        "Number Beads"
      ],
      "metadata": {
        "id": "Clj0DClwgJZK"
      }
    },
    {
      "cell_type": "code",
      "source": [
        "from numpy.core.numerictypes import maximum_sctype\n",
        "\n",
        "def rotation_times(head):\n",
        "    max=head.elem\n",
        "    idx=-1\n",
        "    h=head\n",
        "    tail=head\n",
        "    while h.next!=None:\n",
        "        if h.next.elem>max:\n",
        "            max=h.next.elem\n",
        "        h=h.next\n",
        "\n",
        "    while tail!=None:\n",
        "        idx+=1\n",
        "        if tail.elem==max:\n",
        "            return idx\n",
        "        tail=tail.next\n",
        "\n",
        "\n",
        "\"\"\"def rotation_times(head):\n",
        "    count=0\n",
        "    max=0\n",
        "    maxidx=0\n",
        "    h=head\n",
        "    while h!=None:\n",
        "        if h.elem>max:\n",
        "            max=h.elem\n",
        "            maxidx=count\n",
        "        h=h.next\n",
        "        count+=1\"\"\"\n",
        "\n",
        "\n",
        "print('==============Test Case 1=============')\n",
        "head = createList(np.array([13,10,6,20,17]))\n",
        "print('Rearranged Necklace: ', end = ' ')\n",
        "printLinkedList(head)\n",
        "returned_value = rotation_times(head)\n",
        "print(f'Rotated: {returned_value} times') #This should print 3\n",
        "unittest.output_test(returned_value, 3)\n",
        "print()\n",
        "\n",
        "print('==============Test Case 2=============')\n",
        "head = createList(np.array([6,20,17,13,10]))\n",
        "print('Rearranged Necklace: ', end = ' ')\n",
        "printLinkedList(head)\n",
        "returned_value = rotation_times(head)\n",
        "print(f'Rotated: {returned_value} times') #This should print 1\n",
        "unittest.output_test(returned_value, 1)\n",
        "print()\n",
        "\n",
        "print('==============Test Case 3=============')\n",
        "head = createList(np.array([20,17,13,10,6]))\n",
        "print('Rearranged Necklace: ', end = ' ')\n",
        "printLinkedList(head)\n",
        "returned_value = rotation_times(head)\n",
        "print(f'Rotated: {returned_value} times') #This should print 0\n",
        "unittest.output_test(returned_value, 0)\n",
        "print()"
      ],
      "metadata": {
        "id": "H4BQrUJn9XLs",
        "colab": {
          "base_uri": "https://localhost:8080/"
        },
        "outputId": "b1bcae92-8353-4733-8662-df556bf44cf4"
      },
      "execution_count": null,
      "outputs": [
        {
          "output_type": "stream",
          "name": "stdout",
          "text": [
            "==============Test Case 1=============\n",
            "Rearranged Necklace:  13-->10-->6-->20-->17\n",
            "\n",
            "Rotated: 3 times\n",
            "Accepted\n",
            "\n",
            "==============Test Case 2=============\n",
            "Rearranged Necklace:  6-->20-->17-->13-->10\n",
            "\n",
            "Rotated: 1 times\n",
            "Accepted\n",
            "\n",
            "==============Test Case 3=============\n",
            "Rearranged Necklace:  20-->17-->13-->10-->6\n",
            "\n",
            "Rotated: 0 times\n",
            "Accepted\n",
            "\n"
          ]
        }
      ]
    },
    {
      "cell_type": "markdown",
      "source": [
        "Building Blocks"
      ],
      "metadata": {
        "id": "V9rtJF9VPAtd"
      }
    },
    {
      "cell_type": "code",
      "source": [
        "def check_similar(building_1, building_2):\n",
        "    b1=building_1\n",
        "    b2=building_2\n",
        "    while b1!=None and b2!=None:\n",
        "        if b1.elem!=b2.elem:\n",
        "            return \"Not similar\"\n",
        "        b1=b1.next\n",
        "        b2=b2.next\n",
        "        if b1==None and b2!=None:\n",
        "            return \"Not similar\"\n",
        "        elif  b1!=None and b2==None:\n",
        "            return \"Not Similar\"\n",
        "    return \"Similar\"\n",
        "\n",
        "print('==============Test Case 1=============')\n",
        "building_1 = createList(np.array(['Red', 'Green', 'Yellow', 'Red', 'Blue', 'Green']))\n",
        "building_2 = createList(np.array(['Red', 'Green', 'Yellow', 'Red', 'Blue', 'Green']))\n",
        "print('Building 1: ', end = ' ')\n",
        "printLinkedList(building_1)\n",
        "print('Building 2: ', end = ' ')\n",
        "printLinkedList(building_2)\n",
        "returned_value = check_similar(building_1, building_2)\n",
        "print(returned_value) #This should print 'Similar'\n",
        "unittest.output_test(returned_value, 'Similar')\n",
        "print()\n",
        "\n",
        "print('==============Test Case 2=============')\n",
        "building_1 = createList(np.array(['Red', 'Green', 'Yellow', 'Red', 'Yellow', 'Green']))\n",
        "building_2 = createList(np.array(['Red', 'Green', 'Yellow', 'Red', 'Blue', 'Green']))\n",
        "print('Building 1: ', end = ' ')\n",
        "printLinkedList(building_1)\n",
        "print('Building 2: ', end = ' ')\n",
        "printLinkedList(building_2)\n",
        "returned_value = check_similar(building_1, building_2)\n",
        "print(returned_value) #This should print 'Not Similar'\n",
        "unittest.output_test(returned_value, 'Not Similar')\n",
        "print()\n",
        "\n",
        "print('==============Test Case 3=============')\n",
        "building_1 = createList(np.array(['Red', 'Green', 'Yellow', 'Red', 'Blue', 'Green']))\n",
        "building_2 = createList(np.array(['Red', 'Green', 'Yellow', 'Red', 'Blue', 'Green', 'Blue']))\n",
        "print('Building 1: ', end = ' ')\n",
        "printLinkedList(building_1)\n",
        "print('Building 2: ', end = ' ')\n",
        "printLinkedList(building_2)\n",
        "returned_value = check_similar(building_1, building_2)\n",
        "print(returned_value) #This should print 'Not Similar'\n",
        "unittest.output_test(returned_value, 'Not Similar')\n",
        "print()\n",
        "\n",
        "print('==============Test Case 4=============')\n",
        "building_1 = createList(np.array(['Red', 'Green', 'Yellow', 'Red', 'Blue', 'Green', 'Blue']))\n",
        "building_2 = createList(np.array(['Red', 'Green', 'Yellow', 'Red', 'Blue', 'Green']))\n",
        "print('Building 1: ', end = ' ')\n",
        "printLinkedList(building_1)\n",
        "print('Building 2: ', end = ' ')\n",
        "printLinkedList(building_2)\n",
        "returned_value = check_similar(building_1, building_2)\n",
        "print(returned_value) #This should print 'Not Similar'\n",
        "unittest.output_test(returned_value, 'Not Similar')\n",
        "print()"
      ],
      "metadata": {
        "id": "yFI3FnXaakzL",
        "colab": {
          "base_uri": "https://localhost:8080/"
        },
        "outputId": "b89eacbb-c295-46aa-8dc9-1d15be9f0ab2"
      },
      "execution_count": 41,
      "outputs": [
        {
          "output_type": "stream",
          "name": "stdout",
          "text": [
            "==============Test Case 1=============\n",
            "Building 1:  Red-->Green-->Yellow-->Red-->Blue-->Green\n",
            "\n",
            "Building 2:  Red-->Green-->Yellow-->Red-->Blue-->Green\n",
            "\n",
            "Similar\n",
            "Accepted\n",
            "\n",
            "==============Test Case 2=============\n",
            "Building 1:  Red-->Green-->Yellow-->Red-->Yellow-->Green\n",
            "\n",
            "Building 2:  Red-->Green-->Yellow-->Red-->Blue-->Green\n",
            "\n",
            "Not similar\n",
            "Accepted\n",
            "\n",
            "==============Test Case 3=============\n",
            "Building 1:  Red-->Green-->Yellow-->Red-->Blue-->Green\n",
            "\n",
            "Building 2:  Red-->Green-->Yellow-->Red-->Blue-->Green-->Blue\n",
            "\n",
            "Not similar\n",
            "Accepted\n",
            "\n",
            "==============Test Case 4=============\n",
            "Building 1:  Red-->Green-->Yellow-->Red-->Blue-->Green-->Blue\n",
            "\n",
            "Building 2:  Red-->Green-->Yellow-->Red-->Blue-->Green\n",
            "\n",
            "Not Similar\n",
            "Accepted\n",
            "\n"
          ]
        }
      ]
    },
    {
      "cell_type": "markdown",
      "source": [
        "Remove Compartment"
      ],
      "metadata": {
        "id": "gG7Hh24oavZ5"
      }
    },
    {
      "cell_type": "code",
      "source": [
        "def remove_compartment(head,n):\n",
        "    paisi=None\n",
        "    prenode=None\n",
        "    porernode=None\n",
        "\n",
        "    h=head\n",
        "    while h.next!=None:\n",
        "        if h.next.elem==n:\n",
        "            paisi=h.next\n",
        "            prenode=h\n",
        "            porernode=h.next.next\n",
        "        h=h.next\n",
        "\n",
        "    if paisi==None:\n",
        "        if head.elem==n:\n",
        "            paisi==head\n",
        "            newHead=head.next\n",
        "            head.next=None\n",
        "            head.elem=None\n",
        "            return newHead\n",
        "        else:\n",
        "            return head\n",
        "    else:\n",
        "        prenode.next=porernode\n",
        "        paisi.elem=None\n",
        "        return head\n",
        "\n",
        "\n",
        "print('==============Test Case 1=============')\n",
        "head = createList(np.array([14,10,15,10,41,10,72]))\n",
        "number = 10\n",
        "print('Original Compartment Sequence: ', end = ' ')\n",
        "printLinkedList(head)\n",
        "head = remove_compartment(head,number)\n",
        "print('Changed Compartment Sequence: ', end = ' ')\n",
        "printLinkedList(head) #This should print 14-->10-->15-->10-->41-->72\n",
        "print()\n",
        "\n",
        "print('==============Test Case 2=============')\n",
        "head = createList(np.array([10,15,33,41,14,72]))\n",
        "number = 10\n",
        "print('Original Compartment Sequence: ', end = ' ')\n",
        "printLinkedList(head)\n",
        "head = remove_compartment(head,number)\n",
        "print('Changed Compartment Sequence: ', end = ' ')\n",
        "printLinkedList(head) #This should print 15-->33-->41-->14-->72\n",
        "print()\n",
        "\n",
        "print('==============Test Case 3=============')\n",
        "head = createList(np.array([10,15,33,41,14,72]))\n",
        "number = 56\n",
        "print('Original Compartment Sequence: ', end = ' ')\n",
        "printLinkedList(head)\n",
        "head = remove_compartment(head,number)\n",
        "print('Changed Compartment Sequence: ', end = ' ')\n",
        "printLinkedList(head) #This should print 10-->15-->33-->41-->14-->72\n",
        "print()"
      ],
      "metadata": {
        "id": "xttcJVbJ9id1",
        "colab": {
          "base_uri": "https://localhost:8080/"
        },
        "outputId": "6fd21e7e-8f9c-4eac-e817-614718bffcca"
      },
      "execution_count": 8,
      "outputs": [
        {
          "output_type": "stream",
          "name": "stdout",
          "text": [
            "==============Test Case 1=============\n",
            "Original Compartment Sequence:  14-->10-->15-->10-->41-->10-->72\n",
            "\n",
            "Changed Compartment Sequence:  14-->10-->15-->10-->41-->72\n",
            "\n",
            "\n",
            "==============Test Case 2=============\n",
            "Original Compartment Sequence:  10-->15-->33-->41-->14-->72\n",
            "\n",
            "Changed Compartment Sequence:  15-->33-->41-->14-->72\n",
            "\n",
            "\n",
            "==============Test Case 3=============\n",
            "Original Compartment Sequence:  10-->15-->33-->41-->14-->72\n",
            "\n",
            "Changed Compartment Sequence:  10-->15-->33-->41-->14-->72\n",
            "\n",
            "\n"
          ]
        }
      ]
    },
    {
      "cell_type": "markdown",
      "source": [
        "Capture the Flag"
      ],
      "metadata": {
        "id": "M1JR_lLca9Gk"
      }
    },
    {
      "cell_type": "code",
      "source": [
        "def capture_the_flag(head):\n",
        "    h=head\n",
        "    pos=0\n",
        "    while h!=None:\n",
        "        pos+=1\n",
        "        if h.elem%pos!=0:\n",
        "            return \"LinkWise\"\n",
        "        elif pos==1:\n",
        "            newHead=Node(h.elem//pos,None)\n",
        "            nh=newHead\n",
        "            h=h.next\n",
        "        else:\n",
        "            n=Node(h.elem//pos,None)\n",
        "            nh.next=n\n",
        "            nh=nh.next\n",
        "            h=h.next\n",
        "    return newHead\n",
        "\n",
        "print('==============Test Case 1=============')\n",
        "head = createList(np.array([11,8,21,20,5,42]))\n",
        "print('Original Sequence: ', end = ' ')\n",
        "printLinkedList(head)\n",
        "new_head = capture_the_flag(head)\n",
        "print('The flag is: ', end= ' ')\n",
        "if type(new_head) == str:\n",
        "  print(new_head)\n",
        "else:\n",
        "  printLinkedList(new_head) #This should print 11→4→7→5→1→7\n",
        "print()\n",
        "\n",
        "print('==============Test Case 2=============')\n",
        "head = createList(np.array([11,8,28,20,5,42]))\n",
        "print('Original Sequence: ', end = ' ')\n",
        "printLinkedList(head)\n",
        "new_head = capture_the_flag(head)\n",
        "print('The flag is: ', end= ' ')\n",
        "if type(new_head) == str:\n",
        "  print(new_head) #This should print Linkwise\n",
        "else:\n",
        "  printLinkedList(new_head)\n",
        "print()"
      ],
      "metadata": {
        "id": "F7neaJpOa9oR",
        "colab": {
          "base_uri": "https://localhost:8080/"
        },
        "outputId": "a26d0dab-b442-46da-d893-70607807b9d5"
      },
      "execution_count": 22,
      "outputs": [
        {
          "output_type": "stream",
          "name": "stdout",
          "text": [
            "==============Test Case 1=============\n",
            "Original Sequence:  11-->8-->21-->20-->5-->42\n",
            "\n",
            "The flag is:  11-->4-->7-->5-->1-->7\n",
            "\n",
            "\n",
            "==============Test Case 2=============\n",
            "Original Sequence:  11-->8-->28-->20-->5-->42\n",
            "\n",
            "The flag is:  LinkWise\n",
            "\n"
          ]
        }
      ]
    },
    {
      "cell_type": "markdown",
      "source": [
        "Shuffle on song"
      ],
      "metadata": {
        "id": "hiH6KfWC8p9E"
      }
    },
    {
      "cell_type": "code",
      "source": [
        "def shuffle_on_song(head):\n",
        "    h=head\n",
        "    e=0\n",
        "    o=0\n",
        "    while h!=None:\n",
        "        if ord(h.elem)%2==0:\n",
        "            e+=1\n",
        "            if e==1:\n",
        "                evenHead=Node(h.elem,None)\n",
        "                nh=evenHead\n",
        "                last=nh\n",
        "            else:\n",
        "                n=Node(h.elem,None)\n",
        "                nh.next=n\n",
        "                nh=nh.next\n",
        "                last=n\n",
        "        elif ord(h.elem)%2!=0:\n",
        "            o+=1\n",
        "            if o==1:\n",
        "                oddHead=Node(h.elem,None)\n",
        "                oh=oddHead\n",
        "            else:\n",
        "                n=Node(h.elem,None)\n",
        "                oh.next=n\n",
        "                oh=oh.next\n",
        "        h=h.next\n",
        "    last.next=oddHead\n",
        "    return evenHead\n",
        "\n",
        "\n",
        "print('==============Test Case 1=============')\n",
        "head = createList(np.array(['S','E','N','P','A','I']))\n",
        "print('Original Play List: ', end = ' ')\n",
        "printLinkedList(head)\n",
        "newhead =  shuffle_on_song(head)\n",
        "print('New Play List: ', end = ' ')\n",
        "printLinkedList(newhead) #This should print N-->P-->S-->E-->A-->I\n",
        "print()\n",
        "\n",
        "print('==============Test Case 2=============')\n",
        "head = createList(np.array(['N','I','S','H','I','N','O','Y','A']))\n",
        "print('Original Play List: ', end = ' ')\n",
        "printLinkedList(head)\n",
        "newhead =  shuffle_on_song(head)\n",
        "print('New Play List: ', end = ' ')\n",
        "printLinkedList(newhead) #This should print N-->H-->N-->I-->S-->I-->O-->Y-->A\n",
        "print()\n"
      ],
      "metadata": {
        "id": "-AQh4Ka1PGQ4",
        "colab": {
          "base_uri": "https://localhost:8080/"
        },
        "outputId": "6c69cbb2-09ab-42cf-c084-0fd99f2bb759"
      },
      "execution_count": 44,
      "outputs": [
        {
          "output_type": "stream",
          "name": "stdout",
          "text": [
            "==============Test Case 1=============\n",
            "Original Play List:  S-->E-->N-->P-->A-->I\n",
            "\n",
            "New Play List:  N-->P-->S-->E-->A-->I\n",
            "\n",
            "\n",
            "==============Test Case 2=============\n",
            "Original Play List:  N-->I-->S-->H-->I-->N-->O-->Y-->A\n",
            "\n",
            "New Play List:  N-->H-->N-->I-->S-->I-->O-->Y-->A\n",
            "\n",
            "\n"
          ]
        }
      ]
    },
    {
      "cell_type": "markdown",
      "source": [
        "BONUS"
      ],
      "metadata": {
        "id": "wca6dmhzbU_k"
      }
    },
    {
      "cell_type": "markdown",
      "source": [
        "Assemble Conga Line"
      ],
      "metadata": {
        "id": "hoDltlzi-GJD"
      }
    },
    {
      "cell_type": "code",
      "source": [
        "def assemble_conga_line(conga_line, candidate_line, idx):\n",
        "    pass\n",
        "\n",
        "\n",
        "print('==============Test Case 1=============')\n",
        "conga_line = createList(np.array([10,15,34,41,56,72]))\n",
        "print('Original Conga Line: ', end = ' ')\n",
        "printLinkedList(conga_line)\n",
        "candidate_line = createList(np.array([16,2,36,52,40,77]))\n",
        "print('Original candidate Line: ', end = ' ')\n",
        "printLinkedList(candidate_line)\n",
        "insertion_idx = 3\n",
        "returned_value = assemble_conga_line(conga_line, candidate_line, insertion_idx)\n",
        "print('Changed Conga Line: ', end = ' ') #This should print 10-->15-->34-->40-->41-->56-->72\n",
        "printLinkedList(returned_value)\n",
        "\n",
        "print('==============Test Case 2=============')\n",
        "conga_line = createList(np.array([10,15,34,41,56,72]))\n",
        "print('Original Conga Line: ', end = ' ')\n",
        "printLinkedList(conga_line)\n",
        "candidate_line = createList(np.array([6,16,8,36,7,40,77]))\n",
        "print('Original candidate Line: ', end = ' ')\n",
        "printLinkedList(candidate_line)\n",
        "insertion_idx = 0\n",
        "returned_value = assemble_conga_line(conga_line, candidate_line, insertion_idx)\n",
        "print('Changed Conga Line: ', end = ' ') #This should print 8-->10-->15-->34-->41-->56-->72\n",
        "printLinkedList(returned_value)\n",
        "\n",
        "print('==============Test Case 3=============')\n",
        "conga_line = createList(np.array([10,15,34,41,56,72]))\n",
        "print('Original Conga Line: ', end = ' ')\n",
        "printLinkedList(conga_line)\n",
        "candidate_line = createList(np.array([6,12,8,36,7,40,77]))\n",
        "print('Original candidate Line: ', end = ' ')\n",
        "printLinkedList(candidate_line)\n",
        "insertion_idx = 2\n",
        "returned_value = assemble_conga_line(conga_line, candidate_line, insertion_idx)\n",
        "print('Changed Conga Line: ', end = ' ') #This should print 10-->15-->34-->41-->56-->72\n",
        "printLinkedList(returned_value)"
      ],
      "metadata": {
        "id": "FbGrR6QI9Hjv",
        "colab": {
          "base_uri": "https://localhost:8080/"
        },
        "outputId": "3560d281-5ca2-4676-e249-0c8417cb3719"
      },
      "execution_count": 42,
      "outputs": [
        {
          "output_type": "stream",
          "name": "stdout",
          "text": [
            "==============Test Case 1=============\n",
            "Original Conga Line:  10-->15-->34-->41-->56-->72\n",
            "\n",
            "Original candidate Line:  16-->2-->36-->52-->40-->77\n",
            "\n",
            "Changed Conga Line:  \n",
            "==============Test Case 2=============\n",
            "Original Conga Line:  10-->15-->34-->41-->56-->72\n",
            "\n",
            "Original candidate Line:  6-->16-->8-->36-->7-->40-->77\n",
            "\n",
            "Changed Conga Line:  \n",
            "==============Test Case 3=============\n",
            "Original Conga Line:  10-->15-->34-->41-->56-->72\n",
            "\n",
            "Original candidate Line:  6-->12-->8-->36-->7-->40-->77\n",
            "\n",
            "Changed Conga Line:  \n"
          ]
        }
      ]
    }
  ]
}