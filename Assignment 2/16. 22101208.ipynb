{
  "cells": [
    {
      "cell_type": "markdown",
      "metadata": {},
      "source": [
        "#### Potentially plagiarized with ID: 21301661"
      ]
    },
    {
      "cell_type": "markdown",
      "metadata": {
        "id": "guHv8JeKlsmS"
      },
      "source": [
        "**Instructions to Follow (Failing to follow these will result mark penalties).**\n",
        "\n",
        "\n",
        "1.   You can **NOT** use any built-in function except len()\n",
        "2.   You can use the **shape** tuple of numpy arrays\n",
        "2.   You can **NOT** use any other python collections (e.g: tuple, dictionaries etc.) except array.\n",
        "3. We will initialize a new array using numpy library. We have to mention the fixed size during initialization. There might be two approach.\n",
        "\n",
        "  i. arr = np.zeros((10), dtype = int) #Initializing an array length 10 with values 0\n",
        "\n",
        "  ii. arr = np.array([10, 20, 30, 40]) #Initializing an array length 4 with the values.\n",
        "4. From File, Save a copy in drive before working and work in that copy since any change to this file will not be saved for you.\n",
        "\n",
        "\n",
        "\n",
        "\n",
        "\n"
      ]
    },
    {
      "cell_type": "code",
      "execution_count": 3,
      "metadata": {
        "colab": {
          "base_uri": "https://localhost:8080/"
        },
        "id": "M3LWSKJTl0eP",
        "outputId": "e7e33737-6511-4b79-a21b-608df3210eb4"
      },
      "outputs": [
        {
          "name": "stdout",
          "output_type": "stream",
          "text": [
            "Collecting fhm-unittest\n",
            "  Downloading fhm_unittest-1.0.1-py3-none-any.whl (2.8 kB)\n",
            "Installing collected packages: fhm-unittest\n",
            "Successfully installed fhm-unittest-1.0.1\n",
            "Collecting fuzzywuzzy\n",
            "  Downloading fuzzywuzzy-0.18.0-py2.py3-none-any.whl (18 kB)\n",
            "Installing collected packages: fuzzywuzzy\n",
            "Successfully installed fuzzywuzzy-0.18.0\n"
          ]
        },
        {
          "name": "stderr",
          "output_type": "stream",
          "text": [
            "/usr/local/lib/python3.10/dist-packages/fuzzywuzzy/fuzz.py:11: UserWarning: Using slow pure-python SequenceMatcher. Install python-Levenshtein to remove this warning\n",
            "  warnings.warn('Using slow pure-python SequenceMatcher. Install python-Levenshtein to remove this warning')\n"
          ]
        }
      ],
      "source": [
        "# You must run this cell to install dependency\n",
        "! pip3 install fhm-unittest\n",
        "! pip3 install fuzzywuzzy\n",
        "import fhm_unittest as unittest\n",
        "import numpy as np"
      ]
    },
    {
      "cell_type": "code",
      "execution_count": 4,
      "metadata": {
        "id": "srOjdw7El2db"
      },
      "outputs": [],
      "source": [
        "#You must run this cell to print matrix and for the driver code to work\n",
        "def print_matrix(m):\n",
        "  row,col = m.shape\n",
        "  for i in range(row):\n",
        "    c = 1\n",
        "    print('|', end='')\n",
        "    for j in range(col):\n",
        "      c += 1\n",
        "      if(len(str(m[i][j])) == 1):\n",
        "        print(' ',m[i][j], end = '  |')\n",
        "        c += 6\n",
        "      else:\n",
        "        print(' ',m[i][j], end = ' |')\n",
        "        c += 6\n",
        "    print()\n",
        "    print('-'*(c-col))\n"
      ]
    },
    {
      "cell_type": "markdown",
      "metadata": {
        "id": "ALwE-G26luWL"
      },
      "source": [
        "#Zigzag Walk"
      ]
    },
    {
      "cell_type": "code",
      "execution_count": null,
      "metadata": {
        "colab": {
          "base_uri": "https://localhost:8080/"
        },
        "id": "OccSdn4hliXc",
        "outputId": "47533349-1bf1-425c-c46a-99f52ac3dacb"
      },
      "outputs": [
        {
          "name": "stdout",
          "output_type": "stream",
          "text": [
            "|  3  |  8  |  4  |  6  |  1  |\n",
            "-------------------------------\n",
            "|  7  |  2  |  1  |  9  |  3  |\n",
            "-------------------------------\n",
            "|  9  |  0  |  7  |  5  |  8  |\n",
            "-------------------------------\n",
            "|  2  |  1  |  3  |  4  |  0  |\n",
            "-------------------------------\n",
            "|  1  |  4  |  2  |  8  |  6  |\n",
            "-------------------------------\n",
            "Walking Sequence:\n",
            "3 9 1 \n",
            "1 2 \n",
            "4 7 2 \n",
            "4 9 \n",
            "1 8 6 \n",
            "################\n",
            "|  3  |  8  |  4  |  6  |  1  |\n",
            "-------------------------------\n",
            "|  7  |  2  |  1  |  9  |  3  |\n",
            "-------------------------------\n",
            "|  9  |  0  |  7  |  5  |  8  |\n",
            "-------------------------------\n",
            "|  2  |  1  |  3  |  4  |  0  |\n",
            "-------------------------------\n",
            "Walking Sequence:\n",
            "3 9 \n",
            "1 2 \n",
            "4 7 \n",
            "4 9 \n",
            "1 8 \n"
          ]
        }
      ],
      "source": [
        "def walk_zigzag(floor):\n",
        "    for i in range(len(floor[0])):\n",
        "        if i % 2 == 0:\n",
        "            for j in range(0, len(floor), 2):\n",
        "                print(floor[j][i], end = \" \")\n",
        "\n",
        "        else:\n",
        "            if len(floor) % 2 == 0:\n",
        "                for j in range(len(floor)-1, 0, -2):\n",
        "                    print(floor[j][i], end = \" \")\n",
        "\n",
        "            else:\n",
        "                for j in range(len(floor)-2, 0, -2):\n",
        "                    print(floor[j][i], end = \" \")\n",
        "\n",
        "        print()\n",
        "\n",
        "\n",
        "floor = np.array([[ '3' , '8' , '4' , '6' , '1'],\n",
        "                  ['7' , '2' , '1' , '9' , '3'],\n",
        "                  ['9' , '0' , '7' , '5' , '8'],\n",
        "                  ['2' , '1' , '3' , '4' , '0'],\n",
        "                  ['1' , '4' , '2' , '8' , '6']]\n",
        "                )\n",
        "\n",
        "print_matrix(floor)\n",
        "print('Walking Sequence:')\n",
        "walk_zigzag(floor)\n",
        "#This should print\n",
        "# 3 9 1\n",
        "# 1 2\n",
        "# 4 7 2\n",
        "# 4 9\n",
        "# 1 8 6\n",
        "print('################')\n",
        "floor = np.array([[ '3' , '8' , '4' , '6' , '1'],\n",
        "                  ['7' , '2' , '1' , '9' , '3'],\n",
        "                  ['9' , '0' , '7' , '5' , '8'],\n",
        "                  ['2' , '1' , '3' , '4' , '0']]\n",
        "                )\n",
        "\n",
        "print_matrix(floor)\n",
        "print('Walking Sequence:')\n",
        "walk_zigzag(floor)\n",
        "#This should print\n",
        "# 3 9\n",
        "# 1 2\n",
        "# 4 7\n",
        "# 4 9\n",
        "# 1 8"
      ]
    },
    {
      "cell_type": "markdown",
      "metadata": {
        "id": "Te694MO5nAJ8"
      },
      "source": [
        "#Wall Up Trost District"
      ]
    },
    {
      "cell_type": "code",
      "execution_count": null,
      "metadata": {
        "colab": {
          "base_uri": "https://localhost:8080/"
        },
        "id": "ynl41ICWma8W",
        "outputId": "ee42379e-3d55-43ef-e7a4-adfab5263248"
      },
      "outputs": [
        {
          "name": "stdout",
          "output_type": "stream",
          "text": [
            "|  2  |  3  |  4  |\n",
            "-------------------\n",
            "|  3  |  4  |  6  |\n",
            "-------------------\n",
            "|  2  |  1  |  4  |\n",
            "-------------------\n",
            "|  8  |  8  |  8  |  8  |  8  |\n",
            "-------------------------------\n",
            "|  8  |  2  |  3  |  4  |  8  |\n",
            "-------------------------------\n",
            "|  8  |  3  |  4  |  6  |  8  |\n",
            "-------------------------------\n",
            "|  8  |  2  |  1  |  4  |  8  |\n",
            "-------------------------------\n",
            "|  8  |  8  |  8  |  8  |  8  |\n",
            "-------------------------------\n",
            "################\n",
            "|  2  |  3  |  4  |  1  |\n",
            "-------------------------\n",
            "|  3  |  4  |  6  |  5  |\n",
            "-------------------------\n",
            "|  2  |  1  |  4  |  7  |\n",
            "-------------------------\n",
            "|  8  |  8  |  8  |  8  |  8  |  8  |  8  |  8  |\n",
            "-------------------------------------------------\n",
            "|  8  |  8  |  8  |  8  |  8  |  8  |  8  |  8  |\n",
            "-------------------------------------------------\n",
            "|  8  |  8  |  2  |  3  |  4  |  1  |  8  |  8  |\n",
            "-------------------------------------------------\n",
            "|  8  |  8  |  3  |  4  |  6  |  5  |  8  |  8  |\n",
            "-------------------------------------------------\n",
            "|  8  |  8  |  2  |  1  |  4  |  7  |  8  |  8  |\n",
            "-------------------------------------------------\n",
            "|  8  |  8  |  8  |  8  |  8  |  8  |  8  |  8  |\n",
            "-------------------------------------------------\n",
            "|  8  |  8  |  8  |  8  |  8  |  8  |  8  |  8  |\n",
            "-------------------------------------------------\n"
          ]
        }
      ],
      "source": [
        "def create_fence(district, depth):\n",
        "    district_row, district_col = district.shape\n",
        "    arr1 = np.full(((district_row + 2*depth) , (district_col)+2*depth),8)\n",
        "    for i in range(district_row):\n",
        "        for j in range(district_col):\n",
        "            arr1[i+depth][j+depth]=district[i][j]\n",
        "    arr2=np.zeros\n",
        "    return arr1\n",
        "\n",
        "depth = 1\n",
        "district = np.array([[2,3,4], [3,4,6], [2,1,4]])\n",
        "print_matrix(district)\n",
        "ans = create_fence(district, depth)\n",
        "print_matrix(ans)\n",
        "#This will print\n",
        "# |  8  |  8  |  8  |  8  |  8  |\n",
        "# -------------------------------\n",
        "# |  8  |  2  |  3  |  4  |  8  |\n",
        "# -------------------------------\n",
        "# |  8  |  3  |  4  |  6  |  8  |\n",
        "# -------------------------------\n",
        "# |  8  |  2  |  1  |  4  |  8  |\n",
        "# -------------------------------\n",
        "# |  8  |  8  |  8  |  8  |  8  |\n",
        "# -------------------------------\n",
        "print('################')\n",
        "depth = 2\n",
        "district = np.array([\n",
        "                 [2,3,4,1],\n",
        "                 [3,4,6,5],\n",
        "                 [2,1,4,7]\n",
        "                ])\n",
        "print_matrix(district)\n",
        "ans = create_fence(district, depth)\n",
        "print_matrix(ans)\n"
      ]
    },
    {
      "cell_type": "markdown",
      "metadata": {
        "id": "-l1SdQX1odKf"
      },
      "source": [
        "#Crows vs Cats"
      ]
    },
    {
      "cell_type": "code",
      "execution_count": null,
      "metadata": {
        "colab": {
          "base_uri": "https://localhost:8080/"
        },
        "id": "8Tj2Smc3nvsh",
        "outputId": "c5f6fbd1-a0d6-4ade-9f8a-3c8554040dca"
      },
      "outputs": [
        {
          "name": "stdout",
          "output_type": "stream",
          "text": [
            "|  1  |  2  |  9  |  7  |\n",
            "-------------------------\n",
            "|  4  |  5  |  1  |  8  |\n",
            "-------------------------\n",
            "|  3  |  6  |  2  |  7  |\n",
            "-------------------------\n",
            "|  2  |  8  |  6  |  3  |\n",
            "-------------------------\n",
            "Strength Difference Array is :  [-2  6  5 -5  0  1]\n",
            "Accepted\n"
          ]
        }
      ],
      "source": [
        "def strength_difference(clubroom):\n",
        "  row, col = clubroom.shape\n",
        "  length = (row * (row - 1)) // 2\n",
        "  strength_diff = np.array([0]*length)\n",
        "\n",
        "  idx = 0\n",
        "  for i in range(row):\n",
        "    for j in range(i+1, col):\n",
        "            diff = clubroom[i][j] - clubroom[j][i]\n",
        "            strength_diff[idx] = diff\n",
        "            idx += 1\n",
        "  return strength_diff\n",
        "\n",
        "clubroom = np.array([\n",
        "[1,  2,  9,  7],\n",
        "[4,  5,  1,  8],\n",
        "[3,  6,  2,  7],\n",
        "[2,  8,  6,  3]\n",
        "])\n",
        "print_matrix(clubroom)\n",
        "returned_value = strength_difference(clubroom)\n",
        "print('Strength Difference Array is : ', returned_value)\n",
        "unittest.output_test(returned_value, np.array([-2, 6, 5, -5, 0, 1]))"
      ]
    },
    {
      "cell_type": "markdown",
      "metadata": {
        "id": "CcjR0GgUpW8A"
      },
      "source": [
        "#ATM's Triangle"
      ]
    },
    {
      "cell_type": "code",
      "execution_count": null,
      "metadata": {
        "colab": {
          "base_uri": "https://localhost:8080/"
        },
        "id": "br9aLK_5pETy",
        "outputId": "01f34973-1fd9-4b46-d91a-d9606536dcce"
      },
      "outputs": [
        {
          "name": "stdout",
          "output_type": "stream",
          "text": [
            "1 \n",
            "2 2 \n",
            "3 4 3 \n",
            "4 7 10 4 \n",
            "5 11 21 25 5 \n"
          ]
        }
      ],
      "source": [
        "def atm_triangle(n):\n",
        "    arr = np.zeros((n, n), dtype=int)\n",
        "    for i in range(n):\n",
        "        for j in range(i+1):\n",
        "            if j == i or j == 0:\n",
        "                arr[i][j] = i + 1\n",
        "\n",
        "            else:\n",
        "                sum = 0\n",
        "                for k in range(j+1):\n",
        "                    sum += arr[i - 1][k]\n",
        "\n",
        "                arr[i][j] = sum\n",
        "\n",
        "    return arr\n",
        "\n",
        "def print_without_none(matrix):\n",
        "    for i in range(len(matrix)):\n",
        "        for j in range(i+1):\n",
        "            print(matrix[i][j], end = \" \")\n",
        "\n",
        "        print()\n",
        "\n",
        "\n",
        "\n",
        "n = 5\n",
        "returned_value = atm_triangle(n)\n",
        "print_without_none(returned_value)\n",
        "#This should print\n",
        "# 1\n",
        "# 2  2\n",
        "# 3  4  3\n",
        "# 4  7  10  4\n",
        "# 5  11 21  25  5"
      ]
    },
    {
      "cell_type": "markdown",
      "metadata": {
        "id": "hdl0pTqnqBIQ"
      },
      "source": [
        "#Trace The BOT"
      ]
    },
    {
      "cell_type": "code",
      "execution_count": 14,
      "metadata": {
        "colab": {
          "base_uri": "https://localhost:8080/"
        },
        "id": "NtWs-lWUqDjw",
        "outputId": "c2e52bec-3b83-4605-c307-07d7c52eee08"
      },
      "outputs": [
        {
          "name": "stdout",
          "output_type": "stream",
          "text": [
            "|  .  |  /  |  .  |  .  |  .  |  .  |  .  |\n",
            "-------------------------------------------\n",
            "|  .  |  .  |  .  |  .  |  *  |  .  |  .  |\n",
            "-------------------------------------------\n",
            "|  .  |  .  |  *  |  .  |  .  |  .  |  .  |\n",
            "-------------------------------------------\n",
            "|  .  |  .  |  .  |  -  |  .  |  .  |  .  |\n",
            "-------------------------------------------\n",
            "|  .  |  .  |  .  |  .  |  .  |  .  |  .  |\n",
            "-------------------------------------------\n",
            "|  .  |  .  |  .  |  .  |  .  |  .  |  .  |\n",
            "-------------------------------------------\n",
            "|  .  |  .  |  .  |  .  |  .  |  .  |  .  |\n",
            "-------------------------------------------\n"
          ]
        }
      ],
      "source": [
        "def moving_around(cmds):\n",
        "    grid = np.full((7, 7), \".\")\n",
        "    grid[3][3] = \"-\"\n",
        "    current_position = (3, 3)\n",
        "    for i in range(len(cmds)):\n",
        "        if cmds[i] == 1:\n",
        "            grid, current_position = one(grid, current_position)\n",
        "\n",
        "        if cmds[i] == 2:\n",
        "            grid, current_position = two(grid, current_position)\n",
        "\n",
        "        if cmds[i] == 3:\n",
        "            grid, current_position = three(grid, current_position)\n",
        "\n",
        "        if cmds[i] == 4:\n",
        "            grid, current_position = four(grid, current_position)\n",
        "\n",
        "        if cmds[i] == 5:\n",
        "            grid, current_position = five(grid, current_position)\n",
        "\n",
        "        if cmds[i] == 6:\n",
        "            grid, current_position = six(grid, current_position)\n",
        "\n",
        "        if cmds[i] == 7:\n",
        "            grid, current_position = seven(grid, current_position)\n",
        "\n",
        "        if cmds[i] == 8:\n",
        "            grid, current_position = eight(grid, current_position)\n",
        "\n",
        "        if cmds[i] == 9:\n",
        "            grid, current_position = nine(grid, current_position)\n",
        "\n",
        "        if cmds[i] == 10:\n",
        "            grid, current_position = ten(grid, current_position)\n",
        "\n",
        "        if cmds[i] == 11:\n",
        "            grid, current_position = eleven(grid, current_position)\n",
        "\n",
        "        if cmds[i] == 12:\n",
        "            grid, current_position = twelve(grid, current_position)\n",
        "\n",
        "    row, column = current_position\n",
        "    grid[row][column] = \"/\"\n",
        "\n",
        "    return grid\n",
        "\n",
        "\n",
        "def one(grid, position):\n",
        "    current_row, current_column = position\n",
        "    new_row = current_row - 2\n",
        "    new_column = current_column - 2 - 1\n",
        "    if (new_row < 0) or (new_column < 0):\n",
        "        pass\n",
        "\n",
        "    else:\n",
        "        grid[new_row][new_column] = \"*\"\n",
        "        position = (new_row, new_column)\n",
        "\n",
        "\n",
        "def two(grid, position):\n",
        "    current_row, current_column = position\n",
        "    new_row = current_row - 2\n",
        "    new_column = current_column - 2 + 1\n",
        "    if (new_row < 0) or (new_column < 0):\n",
        "        pass\n",
        "\n",
        "    else:\n",
        "        grid[new_row][new_column] = \"*\"\n",
        "        position = (new_row, new_column)\n",
        "\n",
        "    return grid, position\n",
        "\n",
        "\n",
        "def three(grid, position):\n",
        "    current_row, current_column = position\n",
        "    new_row = current_row - 2 - 1\n",
        "    new_column = current_column - 2\n",
        "    if (new_row < 0) or (new_column < 0):\n",
        "        pass\n",
        "\n",
        "    else:\n",
        "        grid[new_row][new_column] = \"*\"\n",
        "        position = (new_row, new_column)\n",
        "\n",
        "    return grid, position\n",
        "\n",
        "\n",
        "def four(grid, position):\n",
        "    current_row, current_column = position\n",
        "    new_row = current_row - 2 + 1\n",
        "    new_column = current_column - 2\n",
        "    if (new_row < 0) or (new_column < 0):\n",
        "        pass\n",
        "\n",
        "    else:\n",
        "        grid[new_row][new_column] = \"*\"\n",
        "        position = (new_row, new_column)\n",
        "\n",
        "    return grid, position\n",
        "\n",
        "\n",
        "def five(grid, position):\n",
        "    current_row, current_column = position\n",
        "    new_row = current_row - 2\n",
        "    new_column = current_column + 2 - 1\n",
        "    if (new_row < 0) or (new_column < 0):\n",
        "        pass\n",
        "\n",
        "    else:\n",
        "        grid[new_row][new_column] = \"*\"\n",
        "        position = (new_row, new_column)\n",
        "\n",
        "    return grid, position\n",
        "\n",
        "\n",
        "def six(grid, position):\n",
        "    current_row, current_column = position\n",
        "    new_row = current_row - 2\n",
        "    new_column = current_column + 2 + 1\n",
        "    if (new_row < 0) or (new_column < 0):\n",
        "        pass\n",
        "\n",
        "    else:\n",
        "        grid[new_row][new_column] = \"*\"\n",
        "        position = (new_row, new_column)\n",
        "\n",
        "    return grid, position\n",
        "\n",
        "\n",
        "def seven(grid, position):\n",
        "    current_row, current_column = position\n",
        "    new_row = current_row - 2 - 1\n",
        "    new_column = current_column + 2\n",
        "    if (new_row < 0) or (new_column < 0):\n",
        "        pass\n",
        "\n",
        "    else:\n",
        "        grid[new_row][new_column] = \"*\"\n",
        "        position = (new_row, new_column)\n",
        "\n",
        "    return grid, position\n",
        "\n",
        "\n",
        "def eight(grid, position):\n",
        "    current_row, current_column = position\n",
        "    new_row = current_row - 2 + 1\n",
        "    new_column = current_column + 2\n",
        "    if (new_row < 0) or (new_column < 0):\n",
        "        pass\n",
        "\n",
        "    else:\n",
        "        grid[new_row][new_column] = \"*\"\n",
        "        position = (new_row, new_column)\n",
        "\n",
        "    return grid, position\n",
        "\n",
        "\n",
        "def nine(grid, position):\n",
        "    current_row, current_column = position\n",
        "    new_row = current_row + 2\n",
        "    new_column = current_column - 2 -1\n",
        "    if (new_row < 0) or (new_column < 0):\n",
        "        pass\n",
        "\n",
        "    else:\n",
        "        grid[new_row][new_column] = \"*\"\n",
        "        position = (new_row, new_column)\n",
        "\n",
        "    return grid, position\n",
        "\n",
        "\n",
        "def ten(grid, position):\n",
        "    current_row, current_column = position\n",
        "    new_row = current_row + 2\n",
        "    new_column = current_column - 2 + 1\n",
        "    if (new_row < 0) or (new_column < 0):\n",
        "        pass\n",
        "\n",
        "    else:\n",
        "        grid[new_row][new_column] = \"*\"\n",
        "        position = (new_row, new_column)\n",
        "\n",
        "    return grid, position\n",
        "\n",
        "\n",
        "def eleven(grid, position):\n",
        "    current_row, current_column = position\n",
        "    new_row = current_row + 2 - 1\n",
        "    new_column = current_column - 2\n",
        "    if (new_row < 0) or (new_column < 0):\n",
        "        pass\n",
        "\n",
        "    else:\n",
        "        grid[new_row][new_column] = \"*\"\n",
        "        position = (new_row, new_column)\n",
        "\n",
        "    return grid, position\n",
        "\n",
        "\n",
        "def twelve(grid, position):\n",
        "    current_row, current_column = position\n",
        "    new_row = current_row + 2 + 1\n",
        "    new_column = current_column - 2\n",
        "    if (new_row < 0) or (new_column < 0):\n",
        "        pass\n",
        "    else:\n",
        "        grid[new_row][new_column] = \"*\"\n",
        "        position = (new_row, new_column)\n",
        "\n",
        "    return grid, position\n",
        "\n",
        "cmds = np.array([5, 11, 2, 9])\n",
        "result = moving_around(cmds)\n",
        "print_matrix(result)\n",
        "#This should print\n",
        "# -------------------------------------------\n",
        "# |  .  |  /  |  .  |  .  |  .  |  .  |  .  |\n",
        "# -------------------------------------------\n",
        "# |  .  |  .  |  .  |  .  |  *  |  .  |  .  |\n",
        "# -------------------------------------------\n",
        "# |  .  |  .  |  *  |  .  |  .  |  .  |  .  |\n",
        "# -------------------------------------------\n",
        "# |  .  |  .  |  .  |  -  |  .  |  .  |  .  |\n",
        "# -------------------------------------------\n",
        "# |  .  |  .  |  .  |  .  |  .  |  .  |  .  |\n",
        "# -------------------------------------------\n",
        "# |  .  |  .  |  .  |  .  |  .  |  .  |  .  |\n",
        "# -------------------------------------------\n",
        "# |  .  |  .  |  .  |  .  |  .  |  .  |  .  |\n",
        "# -------------------------------------------"
      ]
    }
  ],
  "metadata": {
    "colab": {
      "provenance": []
    },
    "kernelspec": {
      "display_name": "Python 3",
      "name": "python3"
    },
    "language_info": {
      "name": "python"
    }
  },
  "nbformat": 4,
  "nbformat_minor": 0
}
