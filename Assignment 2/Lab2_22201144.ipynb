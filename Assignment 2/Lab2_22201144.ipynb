{
  "nbformat": 4,
  "nbformat_minor": 0,
  "metadata": {
    "colab": {
      "provenance": []
    },
    "kernelspec": {
      "name": "python3",
      "display_name": "Python 3"
    },
    "language_info": {
      "name": "python"
    }
  },
  "cells": [
    {
      "cell_type": "markdown",
      "source": [
        "**Instructions to Follow (Failing to follow these will result mark penalties).**\n",
        "\n",
        "\n",
        "1.   You can **NOT** use any built-in function except len()\n",
        "2.   You can use the **shape** tuple of numpy arrays\n",
        "2.   You can **NOT** use any other python collections (e.g: tuple, dictionaries etc.) except array.\n",
        "3. We will initialize a new array using numpy library. We have to mention the fixed size during initialization. There might be two approach.\n",
        "\n",
        "  i. arr = np.zeros((10), dtype = int) #Initializing an array length 10 with values 0\n",
        "\n",
        "  ii. arr = np.array([10, 20, 30, 40]) #Initializing an array length 4 with the values.\n",
        "4. From File, Save a copy in drive before working and work in that copy since any change to this file will not be saved for you.\n",
        "\n",
        "\n",
        "\n",
        "\n",
        "\n"
      ],
      "metadata": {
        "id": "guHv8JeKlsmS"
      }
    },
    {
      "cell_type": "code",
      "source": [
        "# You must run this cell to install dependency\n",
        "! pip3 install fhm-unittest\n",
        "! pip3 install fuzzywuzzy\n",
        "import fhm_unittest as unittest\n",
        "import numpy as np"
      ],
      "metadata": {
        "colab": {
          "base_uri": "https://localhost:8080/"
        },
        "id": "M3LWSKJTl0eP",
        "outputId": "160beda0-b8d4-4420-cffe-d72038a24a50"
      },
      "execution_count": 3,
      "outputs": [
        {
          "output_type": "stream",
          "name": "stdout",
          "text": [
            "Collecting fhm-unittest\n",
            "  Downloading fhm_unittest-1.0.1-py3-none-any.whl (2.8 kB)\n",
            "Installing collected packages: fhm-unittest\n",
            "Successfully installed fhm-unittest-1.0.1\n",
            "Collecting fuzzywuzzy\n",
            "  Downloading fuzzywuzzy-0.18.0-py2.py3-none-any.whl (18 kB)\n",
            "Installing collected packages: fuzzywuzzy\n",
            "Successfully installed fuzzywuzzy-0.18.0\n"
          ]
        },
        {
          "output_type": "stream",
          "name": "stderr",
          "text": [
            "/usr/local/lib/python3.10/dist-packages/fuzzywuzzy/fuzz.py:11: UserWarning: Using slow pure-python SequenceMatcher. Install python-Levenshtein to remove this warning\n",
            "  warnings.warn('Using slow pure-python SequenceMatcher. Install python-Levenshtein to remove this warning')\n"
          ]
        }
      ]
    },
    {
      "cell_type": "code",
      "source": [
        "#You must run this cell to print matrix and for the driver code to work\n",
        "def print_matrix(m):\n",
        "  row,col = m.shape\n",
        "  for i in range(row):\n",
        "    c = 1\n",
        "    print('|', end='')\n",
        "    for j in range(col):\n",
        "      c += 1\n",
        "      if(len(str(m[i][j])) == 1):\n",
        "        print(' ',m[i][j], end = '  |')\n",
        "        c += 6\n",
        "      else:\n",
        "        print(' ',m[i][j], end = ' |')\n",
        "        c += 6\n",
        "    print()\n",
        "    print('-'*(c-col))\n"
      ],
      "metadata": {
        "id": "srOjdw7El2db"
      },
      "execution_count": 4,
      "outputs": []
    },
    {
      "cell_type": "markdown",
      "source": [
        "#Zigzag Walk"
      ],
      "metadata": {
        "id": "ALwE-G26luWL"
      }
    },
    {
      "cell_type": "code",
      "execution_count": 8,
      "metadata": {
        "id": "OccSdn4hliXc",
        "colab": {
          "base_uri": "https://localhost:8080/"
        },
        "outputId": "1c603963-34b6-4eb0-8cc8-6e07e9111303"
      },
      "outputs": [
        {
          "output_type": "stream",
          "name": "stdout",
          "text": [
            "| 3 | 8 | 4 | 6 | 1 |\n",
            "| 7 | 2 | 1 | 9 | 3 |\n",
            "| 9 | 0 | 7 | 5 | 8 |\n",
            "| 2 | 1 | 3 | 4 | 0 |\n",
            "| 1 | 4 | 2 | 8 | 6 |\n",
            "Walking Sequence:\n",
            "3 9 1 \n",
            "1 2 \n",
            "4 7 2 \n",
            "4 9 \n",
            "1 8 6 \n",
            "################\n",
            "| 3 | 8 | 4 | 6 | 1 |\n",
            "| 7 | 2 | 1 | 9 | 3 |\n",
            "| 9 | 0 | 7 | 5 | 8 |\n",
            "| 2 | 1 | 3 | 4 | 0 |\n",
            "Walking Sequence:\n",
            "3 9 \n",
            "1 2 \n",
            "4 7 \n",
            "4 9 \n",
            "1 8 \n"
          ]
        }
      ],
      "source": [
        "def walk_zigzag(floor):\n",
        "  #To Do\n",
        "  pass\n",
        "  row,col = floor.shape\n",
        "  #print(row,col)\n",
        "  for i in range(col):\n",
        "    if i % 2 ==0:\n",
        "      for j in range(0,row,2):\n",
        "        print(floor[j][i],end=\" \")\n",
        "      print()\n",
        "    else:\n",
        "      if row % 2 != 0:\n",
        "        for j in range(row-2,-1,-2):\n",
        "          print(floor[j][i],end=\" \")\n",
        "        print()\n",
        "      elif row % 2 == 0:\n",
        "        for j  in range(row-1,-1,-2):\n",
        "          print(floor[j][i],end=\" \")\n",
        "        print()\n",
        "\n",
        "def print_matrix(matrix):\n",
        "  for row in matrix:\n",
        "    print(\"| \" + \" | \".join(row) + \" |\")\n",
        "\n",
        "\n",
        "floor = np.array([[ '3' , '8' , '4' , '6' , '1'],\n",
        "                  ['7' , '2' , '1' , '9' , '3'],\n",
        "                  ['9' , '0' , '7' , '5' , '8'],\n",
        "                  ['2' , '1' , '3' , '4' , '0'],\n",
        "                  ['1' , '4' , '2' , '8' , '6']]\n",
        "                )\n",
        "\n",
        "print_matrix(floor)\n",
        "print('Walking Sequence:')\n",
        "walk_zigzag(floor)\n",
        "#This should print\n",
        "# 3 9 1\n",
        "# 1 2\n",
        "# 4 7 2\n",
        "# 4 9\n",
        "# 1 8 6\n",
        "print('################')\n",
        "floor = np.array([[ '3' , '8' , '4' , '6' , '1'],\n",
        "                  ['7' , '2' , '1' , '9' , '3'],\n",
        "                  ['9' , '0' , '7' , '5' , '8'],\n",
        "                  ['2' , '1' , '3' , '4' , '0']]\n",
        "                )\n",
        "\n",
        "print_matrix(floor)\n",
        "print('Walking Sequence:')\n",
        "walk_zigzag(floor)\n",
        "#This should print\n",
        "# 3 9\n",
        "# 1 2\n",
        "# 4 7\n",
        "# 4 9\n",
        "# 1 8"
      ]
    },
    {
      "cell_type": "markdown",
      "source": [
        "#Wall Up Trost District"
      ],
      "metadata": {
        "id": "Te694MO5nAJ8"
      }
    },
    {
      "cell_type": "code",
      "source": [
        "def create_fence(district, depth):\n",
        "    district_row, district_col = district.shape\n",
        "    #TODO\n",
        "\n",
        "    district_row += (2*depth)\n",
        "    district_col += (2*depth)\n",
        "    narr = np.zeros((district_row,district_col))\n",
        "\n",
        "\n",
        "    for i in range(district_row):\n",
        "      for j in range(district_col):\n",
        "        narr[i][j] = 8\n",
        "\n",
        "    a = 0\n",
        "    for l in range(depth,district_row-depth):\n",
        "      b = 0\n",
        "      for k in range(depth,district_col-depth):\n",
        "\n",
        "        narr[l][k] = district[a][b]\n",
        "        b+=1\n",
        "      a+=1\n",
        "\n",
        "    return narr\n",
        "\n",
        "def print_matrix(matrix):\n",
        "  print(matrix)\n",
        "depth = 1\n",
        "district = np.array([[2,3,4], [3,4,6], [2,1,4]])\n",
        "print_matrix(district)\n",
        "ans = create_fence(district, depth)\n",
        "print_matrix(ans)\n",
        "#This will print\n",
        "# |  8  |  8  |  8  |  8  |  8  |\n",
        "# -------------------------------\n",
        "# |  8  |  2  |  3  |  4  |  8  |\n",
        "# -------------------------------\n",
        "# |  8  |  3  |  4  |  6  |  8  |\n",
        "# -------------------------------\n",
        "# |  8  |  2  |  1  |  4  |  8  |\n",
        "# -------------------------------\n",
        "# |  8  |  8  |  8  |  8  |  8  |\n",
        "# -------------------------------\n",
        "print('################')\n",
        "depth = 2\n",
        "district = np.array([\n",
        "                 [2,3,4,1],\n",
        "                 [3,4,6,5],\n",
        "                 [2,1,4,7]\n",
        "                ])\n",
        "print_matrix(district)\n",
        "ans = create_fence(district, depth)\n",
        "print_matrix(ans)\n"
      ],
      "metadata": {
        "id": "ynl41ICWma8W",
        "colab": {
          "base_uri": "https://localhost:8080/"
        },
        "outputId": "a4a163a8-b4a6-446e-b4a5-3387fe5f023d"
      },
      "execution_count": 14,
      "outputs": [
        {
          "output_type": "stream",
          "name": "stdout",
          "text": [
            "[[2 3 4]\n",
            " [3 4 6]\n",
            " [2 1 4]]\n",
            "[[8. 8. 8. 8. 8.]\n",
            " [8. 2. 3. 4. 8.]\n",
            " [8. 3. 4. 6. 8.]\n",
            " [8. 2. 1. 4. 8.]\n",
            " [8. 8. 8. 8. 8.]]\n",
            "################\n",
            "[[2 3 4 1]\n",
            " [3 4 6 5]\n",
            " [2 1 4 7]]\n",
            "[[8. 8. 8. 8. 8. 8. 8. 8.]\n",
            " [8. 8. 8. 8. 8. 8. 8. 8.]\n",
            " [8. 8. 2. 3. 4. 1. 8. 8.]\n",
            " [8. 8. 3. 4. 6. 5. 8. 8.]\n",
            " [8. 8. 2. 1. 4. 7. 8. 8.]\n",
            " [8. 8. 8. 8. 8. 8. 8. 8.]\n",
            " [8. 8. 8. 8. 8. 8. 8. 8.]]\n"
          ]
        }
      ]
    },
    {
      "cell_type": "markdown",
      "source": [
        "#Crows vs Cats"
      ],
      "metadata": {
        "id": "-l1SdQX1odKf"
      }
    },
    {
      "cell_type": "code",
      "source": [
        "def strength_difference(clubroom):\n",
        "  strength_diff = np.zeros(100, dtype = int)\n",
        "  #To Do\n",
        "  row, col= clubroom.shape\n",
        "  count= ((row*col)-row)//2\n",
        "  strength_diff = np.zeros(count, dtype = int)\n",
        "\n",
        "  k=0\n",
        "\n",
        "  for i in range(0,row):\n",
        "    for j in range (i+1,col):\n",
        "      strength_diff[k]= (clubroom[i][j]) - (clubroom[j][i])\n",
        "      j=i+1\n",
        "      k+=1\n",
        "    i+=1\n",
        "\n",
        "  return strength_diff\n",
        "\n",
        "clubroom = np.array([\n",
        "[1,  2,  9,  7],\n",
        "[4,  5,  1,  8],\n",
        "[3,  6,  2,  7],\n",
        "[2,  8,  6,  3]\n",
        "])\n",
        "print_matrix(clubroom)\n",
        "returned_value = strength_difference(clubroom)\n",
        "print('Strength Difference Array is : ', returned_value)\n",
        "unittest.output_test(returned_value, np.array([-2, 6, 5, -5, 0, 1]))"
      ],
      "metadata": {
        "id": "8Tj2Smc3nvsh",
        "colab": {
          "base_uri": "https://localhost:8080/"
        },
        "outputId": "06af7e97-c796-4dbc-cd9a-ae746d3dda58"
      },
      "execution_count": 15,
      "outputs": [
        {
          "output_type": "stream",
          "name": "stdout",
          "text": [
            "[[1 2 9 7]\n",
            " [4 5 1 8]\n",
            " [3 6 2 7]\n",
            " [2 8 6 3]]\n",
            "Strength Difference Array is :  [-2  6  5 -5  0  1]\n",
            "Accepted\n"
          ]
        }
      ]
    },
    {
      "cell_type": "markdown",
      "source": [
        "#ATM's Triangle"
      ],
      "metadata": {
        "id": "CcjR0GgUpW8A"
      }
    },
    {
      "cell_type": "code",
      "source": [
        "import numpy as np\n",
        "def atm_triangle(n):\n",
        "  arr = np.array([[None]*n]*n)\n",
        "  r, c = arr.shape\n",
        "  i = 0\n",
        "  while i < r:\n",
        "    j = 0\n",
        "    while j <= i:\n",
        "      if j==0 or j==i:\n",
        "        arr[i][j] = i+1\n",
        "      else:\n",
        "        sum = 0\n",
        "        counter = 0\n",
        "        while counter <= j:\n",
        "          sum += arr[i-1][counter]\n",
        "          counter += 1\n",
        "        arr[i][j] = sum\n",
        "      j += 1\n",
        "    i += 1\n",
        "  return arr\n",
        "\n",
        "def print_without_none(matrix):\n",
        "  r, c = matrix.shape\n",
        "  i = 0\n",
        "  while i < r:\n",
        "    j = 0\n",
        "    while j < c:\n",
        "      if matrix[i][j] != None:\n",
        "        print(matrix[i][j], end = \" \")\n",
        "        j += 1\n",
        "      else:\n",
        "        break\n",
        "    i += 1\n",
        "    print()\n",
        "\n",
        "n = 5\n",
        "returned_value = atm_triangle(n)\n",
        "print_without_none(returned_value)\n",
        "#This should print\n",
        "# 1\n",
        "# 2  2\n",
        "# 3  4  3\n",
        "# 4  7  10  4\n",
        "# 5  11 21  25  5"
      ],
      "metadata": {
        "id": "br9aLK_5pETy",
        "colab": {
          "base_uri": "https://localhost:8080/"
        },
        "outputId": "350a5641-71a7-4daf-9a91-4ba20a2f6517"
      },
      "execution_count": 16,
      "outputs": [
        {
          "output_type": "stream",
          "name": "stdout",
          "text": [
            "1 \n",
            "2 2 \n",
            "3 4 3 \n",
            "4 7 10 4 \n",
            "5 11 21 25 5 \n"
          ]
        }
      ]
    },
    {
      "cell_type": "markdown",
      "source": [
        "#Trace The BOT"
      ],
      "metadata": {
        "id": "hdl0pTqnqBIQ"
      }
    },
    {
      "cell_type": "code",
      "source": [
        "def moving_around(cmds):\n",
        "  grid = np.full((7, 7), '.')\n",
        "\n",
        "  #To Do\n",
        "  row, col = grid.shape\n",
        "\n",
        "  i,j=3,3\n",
        "  grid[i][j] = \"-\"\n",
        "  for k in range(len(cmds)):\n",
        "    if cmds[k] == 1:\n",
        "      i -= 2\n",
        "      j -= 3\n",
        "      if i>=0 and j>=0 and i<row and j<col:\n",
        "        grid[i][j] = \"*\"\n",
        "      else:\n",
        "        i+=2\n",
        "        j+=3\n",
        "        grid[i][j] = \"/\"\n",
        "\n",
        "    elif cmds[k] == 2:\n",
        "      i -= 2\n",
        "      j -=1\n",
        "      if i>=0 and j>=0 and i<row and j<col:\n",
        "        grid[i][j] = \"*\"\n",
        "      else:\n",
        "        i+=2\n",
        "        j+=1\n",
        "        grid[i][j] = \"/\"\n",
        "\n",
        "    elif cmds[k] == 3:\n",
        "      i-=3\n",
        "      j-=2\n",
        "      if i>=0 and j>=0 and i<row and j<col:\n",
        "        grid[i][j] = \"*\"\n",
        "      else:\n",
        "        i+=3\n",
        "        j+=2\n",
        "        grid[i][j] = \"/\"\n",
        "\n",
        "    elif cmds[k] == 4:\n",
        "      i-=1\n",
        "      j-=2\n",
        "      if i>=0 and j>=0 and i<row and j<col:\n",
        "        grid[i][j] = \"*\"\n",
        "      else:\n",
        "        i+=1\n",
        "        j+=2\n",
        "        grid[i][j] = \"/\"\n",
        "\n",
        "    elif cmds[k] == 5:\n",
        "      i-=2\n",
        "      j+=1\n",
        "      if i>=0 and j>=0 and i<row and j<col:\n",
        "        grid[i][j] = \"*\"\n",
        "      else:\n",
        "        grid[i][j] = \"/\"\n",
        "\n",
        "    elif cmds[k] == 6:\n",
        "      i-=2\n",
        "      j+=3\n",
        "      if i>=0 and j>=0 and i<row and j<col:\n",
        "        grid[i][j] = \"*\"\n",
        "      else:\n",
        "        i+=2\n",
        "        j-=3\n",
        "        grid[i][j] = \"/\"\n",
        "\n",
        "    elif cmds[k] == 7:\n",
        "      i-=3\n",
        "      j+=2\n",
        "      if i>=0 and j>=0 and i<row and j<col:\n",
        "        grid[i][j] = \"*\"\n",
        "      else:\n",
        "        i+=3\n",
        "        j-=2\n",
        "        grid[i][j] = \"/\"\n",
        "\n",
        "    elif cmds[k] == 8:\n",
        "      i-=1\n",
        "      j+=2\n",
        "      if i>=0 and j>=0 and i<row and j<col:\n",
        "        grid[i][j] = \"*\"\n",
        "\n",
        "      else:\n",
        "        i+=1\n",
        "        j-=2\n",
        "        grid[i][j] = \"/\"\n",
        "\n",
        "    elif cmds[k] == 9:\n",
        "      i+=2\n",
        "      j-=3\n",
        "      if i>=0 and j>=0 and i<row and j<col:\n",
        "        grid[i][j] = \"*\"\n",
        "      else:\n",
        "        i-=2\n",
        "        j+=3\n",
        "        grid[i][j] = \"/\"\n",
        "\n",
        "    elif cmds[k] == 10:\n",
        "      i+=2\n",
        "      j-=1\n",
        "      if i>=0 and j>=0 and i<row and j<col:\n",
        "        grid[i][j] = \"*\"\n",
        "      else:\n",
        "        i-=2\n",
        "        j+=1\n",
        "        grid[i][j] = \"/\"\n",
        "\n",
        "    elif cmds[k] == 11:\n",
        "      i+=1\n",
        "      j-=2\n",
        "      if i>=0 and j>=0 and i<row and j<col:\n",
        "        grid[i][j] = \"*\"\n",
        "      else:\n",
        "        i-=1\n",
        "        j+=2\n",
        "        grid[i][j] = \"/\"\n",
        "\n",
        "    elif cmds[k] == 12:\n",
        "      i+=3\n",
        "      j-=2\n",
        "      if i>=0 and j>=0 and i<row and j<col:\n",
        "        grid[i][j] = \"*\"\n",
        "      else:\n",
        "        i-=3\n",
        "        j+=2\n",
        "        grid[i][j] = \"/\"\n",
        "\n",
        "  return grid\n",
        "\n",
        "\n",
        "def print_matrix(matrix):\n",
        "  for row in matrix:\n",
        "    print(\"| \" + \" | \".join(row) + \" |\")\n",
        "    print(\"-\" * (7 * 4 + 1))\n",
        "\n",
        "\n",
        "\n",
        "cmds = np.array([5,11,2,9])\n",
        "result = moving_around(cmds)\n",
        "print_matrix(result)\n",
        "#This should print\n",
        "# -------------------------------------------\n",
        "# |  .  |  /  |  .  |  .  |  .  |  .  |  .  |\n",
        "# -------------------------------------------\n",
        "# |  .  |  .  |  .  |  .  |  *  |  .  |  .  |\n",
        "# -------------------------------------------\n",
        "# |  .  |  .  |  *  |  .  |  .  |  .  |  .  |\n",
        "# -------------------------------------------\n",
        "# |  .  |  .  |  .  |  -  |  .  |  .  |  .  |\n",
        "# -------------------------------------------\n",
        "# |  .  |  .  |  .  |  .  |  .  |  .  |  .  |\n",
        "# -------------------------------------------\n",
        "# |  .  |  .  |  .  |  .  |  .  |  .  |  .  |\n",
        "# -------------------------------------------\n",
        "# |  .  |  .  |  .  |  .  |  .  |  .  |  .  |\n",
        "# -------------------------------------------"
      ],
      "metadata": {
        "id": "NtWs-lWUqDjw",
        "colab": {
          "base_uri": "https://localhost:8080/"
        },
        "outputId": "dac655a0-56fd-4848-c494-b6fdd087903f"
      },
      "execution_count": 17,
      "outputs": [
        {
          "output_type": "stream",
          "name": "stdout",
          "text": [
            "| . | / | . | . | . | . | . |\n",
            "-----------------------------\n",
            "| . | . | . | . | * | . | . |\n",
            "-----------------------------\n",
            "| . | . | * | . | . | . | . |\n",
            "-----------------------------\n",
            "| . | . | . | - | . | . | . |\n",
            "-----------------------------\n",
            "| . | . | . | . | . | . | . |\n",
            "-----------------------------\n",
            "| . | . | . | . | . | . | . |\n",
            "-----------------------------\n",
            "| . | . | . | . | . | . | . |\n",
            "-----------------------------\n"
          ]
        }
      ]
    }
  ]
}