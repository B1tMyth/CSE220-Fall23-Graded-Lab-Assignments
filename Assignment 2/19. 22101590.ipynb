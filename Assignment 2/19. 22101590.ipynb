{
  "cells": [
    {
      "cell_type": "markdown",
      "metadata": {},
      "source": [
        "#### Task 1: No issues. \n",
        "#### Task 2: No issues. \n",
        "#### Task 3: Differences are computed correctly. Length of strength array is not computed dynamically. No bonus. \n",
        "#### Task 4: No issues. \n",
        "#### Task 5: No issues. "
      ]
    },
    {
      "cell_type": "markdown",
      "metadata": {
        "id": "guHv8JeKlsmS"
      },
      "source": [
        "**Instructions to Follow (Failing to follow these will result mark penalties).**\n",
        "\n",
        "\n",
        "1.   You can **NOT** use any built-in function except len()\n",
        "2.   You can use the **shape** tuple of numpy arrays\n",
        "2.   You can **NOT** use any other python collections (e.g: tuple, dictionaries etc.) except array.\n",
        "3. We will initialize a new array using numpy library. We have to mention the fixed size during initialization. There might be two approach.\n",
        "\n",
        "  i. arr = np.zeros((10), dtype = int) #Initializing an array length 10 with values 0\n",
        "\n",
        "  ii. arr = np.array([10, 20, 30, 40]) #Initializing an array length 4 with the values.\n",
        "4. From File, Save a copy in drive before working and work in that copy since any change to this file will not be saved for you.\n",
        "\n",
        "\n",
        "\n",
        "\n",
        "\n"
      ]
    },
    {
      "cell_type": "code",
      "execution_count": 1,
      "metadata": {
        "colab": {
          "base_uri": "https://localhost:8080/"
        },
        "id": "M3LWSKJTl0eP",
        "outputId": "68cee5af-d62b-461c-916b-e95d399647bd"
      },
      "outputs": [
        {
          "name": "stdout",
          "output_type": "stream",
          "text": [
            "Collecting fhm-unittest\n",
            "  Downloading fhm_unittest-1.0.1-py3-none-any.whl (2.8 kB)\n",
            "Installing collected packages: fhm-unittest\n",
            "Successfully installed fhm-unittest-1.0.1\n",
            "Collecting fuzzywuzzy\n",
            "  Downloading fuzzywuzzy-0.18.0-py2.py3-none-any.whl (18 kB)\n",
            "Installing collected packages: fuzzywuzzy\n",
            "Successfully installed fuzzywuzzy-0.18.0\n"
          ]
        },
        {
          "name": "stderr",
          "output_type": "stream",
          "text": [
            "/usr/local/lib/python3.10/dist-packages/fuzzywuzzy/fuzz.py:11: UserWarning: Using slow pure-python SequenceMatcher. Install python-Levenshtein to remove this warning\n",
            "  warnings.warn('Using slow pure-python SequenceMatcher. Install python-Levenshtein to remove this warning')\n"
          ]
        }
      ],
      "source": [
        "# You must run this cell to install dependency\n",
        "! pip3 install fhm-unittest\n",
        "! pip3 install fuzzywuzzy\n",
        "import fhm_unittest as unittest\n",
        "import numpy as np"
      ]
    },
    {
      "cell_type": "code",
      "execution_count": 3,
      "metadata": {
        "id": "srOjdw7El2db"
      },
      "outputs": [],
      "source": [
        "#You must run this cell to print matrix and for the driver code to work\n",
        "def print_matrix(m):\n",
        "  row,col = m.shape\n",
        "  for i in range(row):\n",
        "    c = 1\n",
        "    print('|', end='')\n",
        "    for j in range(col):\n",
        "      c += 1\n",
        "      if(len(str(m[i][j])) == 1):\n",
        "        print(' ',m[i][j], end = '  |')\n",
        "        c += 6\n",
        "      else:\n",
        "        print(' ',m[i][j], end = ' |')\n",
        "        c += 6\n",
        "    print()\n",
        "    print('-'*(c-col))\n",
        "\n",
        "\n"
      ]
    },
    {
      "cell_type": "code",
      "execution_count": null,
      "metadata": {
        "id": "yPY0jaAHA-kk"
      },
      "outputs": [],
      "source": []
    },
    {
      "cell_type": "markdown",
      "metadata": {
        "id": "ALwE-G26luWL"
      },
      "source": [
        "#Zigzag Walk"
      ]
    },
    {
      "cell_type": "code",
      "execution_count": 4,
      "metadata": {
        "colab": {
          "base_uri": "https://localhost:8080/"
        },
        "id": "OccSdn4hliXc",
        "outputId": "10124e67-3f9d-49f9-b759-b957c121b86c"
      },
      "outputs": [
        {
          "name": "stdout",
          "output_type": "stream",
          "text": [
            "|  3  |  8  |  4  |  6  |  1  |\n",
            "-------------------------------\n",
            "|  7  |  2  |  1  |  9  |  3  |\n",
            "-------------------------------\n",
            "|  9  |  0  |  7  |  5  |  8  |\n",
            "-------------------------------\n",
            "|  2  |  1  |  3  |  4  |  0  |\n",
            "-------------------------------\n",
            "|  1  |  4  |  2  |  8  |  6  |\n",
            "-------------------------------\n",
            "Walking Sequence:\n",
            "3 9 1 \n",
            "1 2 \n",
            "4 7 2 \n",
            "4 9 \n",
            "1 8 6 \n",
            "################\n",
            "|  3  |  8  |  4  |  6  |  1  |\n",
            "-------------------------------\n",
            "|  7  |  2  |  1  |  9  |  3  |\n",
            "-------------------------------\n",
            "|  9  |  0  |  7  |  5  |  8  |\n",
            "-------------------------------\n",
            "|  2  |  1  |  3  |  4  |  0  |\n",
            "-------------------------------\n",
            "Walking Sequence:\n",
            "3 9 \n",
            "1 2 \n",
            "4 7 \n",
            "4 9 \n",
            "1 8 \n"
          ]
        }
      ],
      "source": [
        "def walk_zigzag(floor):\n",
        "  sum = 0\n",
        "  for items in floor[0]:\n",
        "    sum +=1\n",
        "  it, j = 0, 0\n",
        "\n",
        "  while j < sum:\n",
        "    if it == 0:\n",
        "      for i in range(0, len(floor), 2):\n",
        "        print(floor[i][j], end = \" \")\n",
        "      if len(floor) % 2 == 0:\n",
        "        i = len(floor)-1\n",
        "        it = 1\n",
        "      else:\n",
        "        i = len(floor)-2\n",
        "        it = 1\n",
        "\n",
        "    elif it != 0:\n",
        "      for i in range(i, 0, -2):\n",
        "        print(floor[i][j], end = \" \")\n",
        "      it = 0\n",
        "    print(\"\")\n",
        "    j += 1\n",
        "\n",
        "\n",
        "floor = np.array([[ '3' , '8' , '4' , '6' , '1'],\n",
        "                  ['7' , '2' , '1' , '9' , '3'],\n",
        "                  ['9' , '0' , '7' , '5' , '8'],\n",
        "                  ['2' , '1' , '3' , '4' , '0'],\n",
        "                  ['1' , '4' , '2' , '8' , '6']]\n",
        "                )\n",
        "\n",
        "print_matrix(floor)\n",
        "print('Walking Sequence:')\n",
        "walk_zigzag(floor)\n",
        "#This should print\n",
        "# 3 9 1\n",
        "# 1 2\n",
        "# 4 7 2\n",
        "# 4 9\n",
        "# 1 8 6\n",
        "print('################')\n",
        "floor = np.array([[ '3' , '8' , '4' , '6' , '1'],\n",
        "                  ['7' , '2' , '1' , '9' , '3'],\n",
        "                  ['9' , '0' , '7' , '5' , '8'],\n",
        "                  ['2' , '1' , '3' , '4' , '0']]\n",
        "                )\n",
        "\n",
        "print_matrix(floor)\n",
        "print('Walking Sequence:')\n",
        "walk_zigzag(floor)\n",
        "#This should print\n",
        "# 3 9\n",
        "# 1 2\n",
        "# 4 7\n",
        "# 4 9\n",
        "# 1 8"
      ]
    },
    {
      "cell_type": "markdown",
      "metadata": {
        "id": "Te694MO5nAJ8"
      },
      "source": [
        "#Wall Up Trost District"
      ]
    },
    {
      "cell_type": "code",
      "execution_count": 5,
      "metadata": {
        "colab": {
          "base_uri": "https://localhost:8080/"
        },
        "id": "ynl41ICWma8W",
        "outputId": "2c7ad65d-3431-435d-9b3e-f3ac1ef1fc8d"
      },
      "outputs": [
        {
          "name": "stdout",
          "output_type": "stream",
          "text": [
            "|  2  |  3  |  4  |\n",
            "-------------------\n",
            "|  3  |  4  |  6  |\n",
            "-------------------\n",
            "|  2  |  1  |  4  |\n",
            "-------------------\n",
            "|  8  |  8  |  8  |  8  |  8  |\n",
            "-------------------------------\n",
            "|  8  |  2  |  3  |  4  |  8  |\n",
            "-------------------------------\n",
            "|  8  |  3  |  4  |  6  |  8  |\n",
            "-------------------------------\n",
            "|  8  |  2  |  1  |  4  |  8  |\n",
            "-------------------------------\n",
            "|  8  |  8  |  8  |  8  |  8  |\n",
            "-------------------------------\n",
            "################\n",
            "|  2  |  3  |  4  |  1  |\n",
            "-------------------------\n",
            "|  3  |  4  |  6  |  5  |\n",
            "-------------------------\n",
            "|  2  |  1  |  4  |  7  |\n",
            "-------------------------\n",
            "|  8  |  8  |  8  |  8  |  8  |  8  |  8  |\n",
            "-------------------------------------------\n",
            "|  8  |  8  |  8  |  8  |  8  |  8  |  8  |\n",
            "-------------------------------------------\n",
            "|  8  |  8  |  2  |  3  |  4  |  8  |  8  |\n",
            "-------------------------------------------\n",
            "|  8  |  8  |  3  |  4  |  6  |  8  |  8  |\n",
            "-------------------------------------------\n",
            "|  8  |  8  |  2  |  1  |  4  |  8  |  8  |\n",
            "-------------------------------------------\n",
            "|  8  |  8  |  8  |  8  |  8  |  8  |  8  |\n",
            "-------------------------------------------\n",
            "|  8  |  8  |  8  |  8  |  8  |  8  |  8  |\n",
            "-------------------------------------------\n"
          ]
        }
      ],
      "source": [
        "def create_fence(district, depth):\n",
        "  district = np.array([[2,3,4], [3,4,6], [2,1,4]])\n",
        "  district_row, district_col = district.shape\n",
        "  new = np.zeros((district_row + 2*depth, district_col + 2*depth), dtype = int)\n",
        "\n",
        "  row, col = new.shape\n",
        "\n",
        "  for i in range(row):\n",
        "    for j in range(col):\n",
        "      if 0<=i<depth or row-depth<=i<row:\n",
        "        new[i][j] = 8\n",
        "      if 0<=j<depth or col-depth<=j<col:\n",
        "        new[i][j] = 8\n",
        "\n",
        "  for i in range(district_row):\n",
        "    for j in range(district_col):\n",
        "      new[i+depth][j+depth] = district[i][j]\n",
        "\n",
        "  return new\n",
        "\n",
        "depth = 1\n",
        "district = np.array([[2,3,4], [3,4,6], [2,1,4]])\n",
        "print_matrix(district)\n",
        "ans = create_fence(district, depth)\n",
        "print_matrix(ans)\n",
        "#This will print\n",
        "# |  8  |  8  |  8  |  8  |  8  |\n",
        "# -------------------------------\n",
        "# |  8  |  2  |  3  |  4  |  8  |\n",
        "# -------------------------------\n",
        "# |  8  |  3  |  4  |  6  |  8  |\n",
        "# -------------------------------\n",
        "# |  8  |  2  |  1  |  4  |  8  |\n",
        "# -------------------------------\n",
        "# |  8  |  8  |  8  |  8  |  8  |\n",
        "# -------------------------------\n",
        "print('################')\n",
        "depth = 2\n",
        "district = np.array([\n",
        "                 [2,3,4,1],\n",
        "                 [3,4,6,5],\n",
        "                 [2,1,4,7]\n",
        "                ])\n",
        "print_matrix(district)\n",
        "ans = create_fence(district, depth)\n",
        "print_matrix(ans)\n"
      ]
    },
    {
      "cell_type": "markdown",
      "metadata": {
        "id": "-l1SdQX1odKf"
      },
      "source": [
        "#Crows vs Cats"
      ]
    },
    {
      "cell_type": "code",
      "execution_count": 6,
      "metadata": {
        "colab": {
          "base_uri": "https://localhost:8080/"
        },
        "id": "8Tj2Smc3nvsh",
        "outputId": "cb385582-cb2e-4d2d-9cfd-6e14b653e359"
      },
      "outputs": [
        {
          "name": "stdout",
          "output_type": "stream",
          "text": [
            "|  1  |  2  |  9  |  7  |\n",
            "-------------------------\n",
            "|  4  |  5  |  1  |  8  |\n",
            "-------------------------\n",
            "|  3  |  6  |  2  |  7  |\n",
            "-------------------------\n",
            "|  2  |  8  |  6  |  3  |\n",
            "-------------------------\n",
            "Strength Difference Array is :  [-2  6  5 -5  0  1]\n",
            "Accepted\n"
          ]
        }
      ],
      "source": [
        "def strength_difference(clubroom):\n",
        "  strength_diff = np.zeros(100, dtype = int)\n",
        "  row, col = clubroom.shape\n",
        "  x = 0\n",
        "  for i in range(row):\n",
        "    for j in range(col):\n",
        "      if j > i :\n",
        "        new = clubroom[i][j] - clubroom[j][i]\n",
        "        strength_diff[x] = new\n",
        "        x += 1\n",
        "\n",
        "\n",
        "  return strength_diff[:x]\n",
        "\n",
        "clubroom = np.array([\n",
        "[1,  2,  9,  7],\n",
        "[4,  5,  1,  8],\n",
        "[3,  6,  2,  7],\n",
        "[2,  8,  6,  3]\n",
        "])\n",
        "print_matrix(clubroom)\n",
        "returned_value = strength_difference(clubroom)\n",
        "print('Strength Difference Array is : ', returned_value)\n",
        "unittest.output_test(returned_value, np.array([-2, 6, 5, -5, 0, 1]))"
      ]
    },
    {
      "cell_type": "markdown",
      "metadata": {
        "id": "CcjR0GgUpW8A"
      },
      "source": [
        "#ATM's Triangle"
      ]
    },
    {
      "cell_type": "code",
      "execution_count": 7,
      "metadata": {
        "colab": {
          "base_uri": "https://localhost:8080/"
        },
        "id": "br9aLK_5pETy",
        "outputId": "4b44201e-f118-4d8b-fc4f-4f0508587207"
      },
      "outputs": [
        {
          "name": "stdout",
          "output_type": "stream",
          "text": [
            "1 \n",
            "2 2 \n",
            "3 4 3 \n",
            "4 7 10 4 \n",
            "5 11 21 25 5 \n"
          ]
        }
      ],
      "source": [
        "def atm_triangle(n):\n",
        "  arr = np.zeros((n,n), dtype = int)\n",
        "  row, col = arr.shape\n",
        "  for i in range(row):\n",
        "    for j in range(col):\n",
        "      if i>=j:\n",
        "        if j==0 or i==j:\n",
        "          arr[i][j] = i+1\n",
        "        else:\n",
        "          sum = 0\n",
        "          for item in range(j+1):\n",
        "            sum += arr[i-1][item]\n",
        "          arr[i][j] = sum\n",
        "  return arr\n",
        "\n",
        "def print_without_none(matrix):\n",
        "  row, col = matrix.shape\n",
        "  for i in range(row):\n",
        "    for j in range(col):\n",
        "      if matrix[i][j] != 0:\n",
        "        print(matrix[i][j], end=' ')\n",
        "    print(\"\")\n",
        "\n",
        "\n",
        "\n",
        "n = 5\n",
        "returned_value = atm_triangle(n)\n",
        "print_without_none(returned_value)\n",
        "#This should print\n",
        "# 1\n",
        "# 2  2\n",
        "# 3  4  3\n",
        "# 4  7  10  4\n",
        "# 5  11 21  25  5"
      ]
    },
    {
      "cell_type": "markdown",
      "metadata": {
        "id": "hdl0pTqnqBIQ"
      },
      "source": [
        "#Trace The BOT"
      ]
    },
    {
      "cell_type": "code",
      "execution_count": 8,
      "metadata": {
        "colab": {
          "base_uri": "https://localhost:8080/"
        },
        "id": "NtWs-lWUqDjw",
        "outputId": "ea50b36b-a0d0-4c48-ca65-44853bebe146"
      },
      "outputs": [
        {
          "name": "stdout",
          "output_type": "stream",
          "text": [
            "|  .  |  /  |  .  |  .  |  .  |  .  |  .  |\n",
            "-------------------------------------------\n",
            "|  .  |  .  |  .  |  .  |  *  |  .  |  .  |\n",
            "-------------------------------------------\n",
            "|  .  |  .  |  *  |  .  |  .  |  .  |  .  |\n",
            "-------------------------------------------\n",
            "|  .  |  .  |  .  |  -  |  .  |  .  |  .  |\n",
            "-------------------------------------------\n",
            "|  .  |  .  |  .  |  .  |  .  |  .  |  .  |\n",
            "-------------------------------------------\n",
            "|  .  |  .  |  .  |  .  |  .  |  .  |  .  |\n",
            "-------------------------------------------\n",
            "|  .  |  .  |  .  |  .  |  .  |  .  |  .  |\n",
            "-------------------------------------------\n"
          ]
        }
      ],
      "source": [
        "def moving_around(cmds):\n",
        "  grid = np.full((7, 7), '.')\n",
        "  bot_i, bot_j = 7//2, 7//2\n",
        "  grid[bot_i][bot_j] = \"-\"\n",
        "  for item in cmds:\n",
        "    if item == 1:\n",
        "      if 0<=bot_i-2<7 and 0<=bot_j-3<7:\n",
        "        grid[bot_i-2][bot_j-3] = \"*\"\n",
        "        bot_i, bot_j = bot_i-2, bot_j-3\n",
        "    elif item == 2:\n",
        "      if 0<=bot_i-2<7 and 0<=bot_j-1<7:\n",
        "        grid[bot_i-2][bot_j-1] = \"*\"\n",
        "        bot_i, bot_j = bot_i-2, bot_j-1\n",
        "    elif item == 3:\n",
        "      if 0<=bot_i-3<7 and 0<=bot_j-2<7:\n",
        "        grid[bot_i-3][bot_j-2] = \"*\"\n",
        "        bot_i, bot_j =bot_i-3, bot_j-2\n",
        "    elif item == 4:\n",
        "      if 0<=bot_i-1<7 and 0<=bot_j-2<7:\n",
        "        grid[bot_i-1][bot_j-2] = \"*\"\n",
        "        bot_i, bot_j = bot_i-1, bot_j-2\n",
        "\n",
        "    elif item == 5:\n",
        "      if 0<=bot_i-2<7 and 0<=bot_j+1<7:\n",
        "        grid[bot_i-2][bot_j+1] = \"*\"\n",
        "        bot_i, bot_j = bot_i-2, bot_j+1\n",
        "    elif item == 6:\n",
        "      if 0<=bot_i-2<7 and 0<=bot_j+3<7:\n",
        "        grid[bot_i-2][bot_j+3] = \"*\"\n",
        "        bot_i, bot_j = bot_i-2, bot_j+3\n",
        "    elif item == 7:\n",
        "      if 0<=bot_i-3<7 and 0<=bot_j+2<7:\n",
        "        grid[bot_i-3][bot_j+2] = \"*\"\n",
        "        bot_i, bot_j = bot_i-3, bot_j+2\n",
        "    elif item == 8:\n",
        "      if 0<=bot_i-1<7 and 0<=bot_j+2<7:\n",
        "        grid[bot_i-1][bot_j+2] = \"*\"\n",
        "        bot_i, bot_j = bot_i-1, bot_j+2\n",
        "\n",
        "    elif item == 9:\n",
        "      if 0<=bot_i+2<7 and 0<=bot_j-3<7:\n",
        "        grid[bot_i+2][bot_j-3] = \"*\"\n",
        "        bot_i, bot_j = bot_i+2, bot_j-3\n",
        "    elif item == 10:\n",
        "      if 0<=bot_i+2<7 and 0<=bot_j-1<7:\n",
        "        grid[bot_i+2][bot_j-1] = \"*\"\n",
        "        bot_i, bot_j = bot_i+2, bot_j-1\n",
        "    elif item == 11:\n",
        "      if 0<=bot_i+1<7 and 0<=bot_j-2<7:\n",
        "        grid[bot_i+1][bot_j-2] = \"*\"\n",
        "        bot_i, bot_j = bot_i+1, bot_j-2\n",
        "\n",
        "    elif item == 12:\n",
        "      if 0<=bot_i+3<7 and 0<=bot_j-2<7:\n",
        "        grid[bot_i+3][bot_j-2] = \"*\"\n",
        "        bot_i, bot_j = bot_i+3, bot_j-2\n",
        "  grid[bot_i][bot_j] = \"/\"\n",
        "  return grid\n",
        "\n",
        "cmds = np.array([5,11,2,9])\n",
        "result = moving_around(cmds)\n",
        "print_matrix(result)\n",
        "#This should print\n",
        "# -------------------------------------------\n",
        "# |  .  |  /  |  .  |  .  |  .  |  .  |  .  |\n",
        "# -------------------------------------------\n",
        "# |  .  |  .  |  .  |  .  |  *  |  .  |  .  |\n",
        "# -------------------------------------------\n",
        "# |  .  |  .  |  *  |  .  |  .  |  .  |  .  |\n",
        "# -------------------------------------------\n",
        "# |  .  |  .  |  .  |  -  |  .  |  .  |  .  |\n",
        "# -------------------------------------------\n",
        "# |  .  |  .  |  .  |  .  |  .  |  .  |  .  |\n",
        "# -------------------------------------------\n",
        "# |  .  |  .  |  .  |  .  |  .  |  .  |  .  |\n",
        "# -------------------------------------------\n",
        "# |  .  |  .  |  .  |  .  |  .  |  .  |  .  |\n",
        "# -------------------------------------------"
      ]
    }
  ],
  "metadata": {
    "colab": {
      "provenance": []
    },
    "kernelspec": {
      "display_name": "Python 3",
      "name": "python3"
    },
    "language_info": {
      "name": "python"
    }
  },
  "nbformat": 4,
  "nbformat_minor": 0
}
