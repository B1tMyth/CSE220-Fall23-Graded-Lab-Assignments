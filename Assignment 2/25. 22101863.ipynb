{
  "cells": [
    {
      "cell_type": "markdown",
      "metadata": {},
      "source": [
        "#### Task 1: No issues. \n",
        "#### Task 2: No issues. \n",
        "#### Task 3: No issues. The length of the strength array is computed correctly. Eligible for bonus. \n",
        "#### Task 4: No issues. \n",
        "#### Task 5: You are intending to break once an invalid command is received. But if the set of commands doesn't contain any invalid command the implementation doesn't mark the last position to /. Verify with [5,11,2,10]. "
      ]
    },
    {
      "cell_type": "code",
      "execution_count": null,
      "metadata": {
        "id": "d3gw0-u8Qduf"
      },
      "outputs": [],
      "source": [
        "\"\"\"\n",
        "Name: Md. Nazmus Sakib Prantik\n",
        "Id: 22101863\n",
        "Course: CSE220\n",
        "Section: 10\n",
        "Lab Assignment: 02\n",
        "\"\"\""
      ]
    },
    {
      "cell_type": "markdown",
      "metadata": {
        "id": "guHv8JeKlsmS"
      },
      "source": [
        "**Instructions to Follow (Failing to follow these will result mark penalties).**\n",
        "\n",
        "\n",
        "1.   You can **NOT** use any built-in function except len()\n",
        "2.   You can use the **shape** tuple of numpy arrays\n",
        "2.   You can **NOT** use any other python collections (e.g: tuple, dictionaries etc.) except array.\n",
        "3. We will initialize a new array using numpy library. We have to mention the fixed size during initialization. There might be two approach.\n",
        "\n",
        "  i. arr = np.zeros((10), dtype = int) #Initializing an array length 10 with values 0\n",
        "\n",
        "  ii. arr = np.array([10, 20, 30, 40]) #Initializing an array length 4 with the values.\n",
        "4. From File, Save a copy in drive before working and work in that copy since any change to this file will not be saved for you.\n",
        "\n",
        "\n",
        "\n",
        "\n",
        "\n"
      ]
    },
    {
      "cell_type": "code",
      "execution_count": 1,
      "metadata": {
        "colab": {
          "base_uri": "https://localhost:8080/"
        },
        "id": "M3LWSKJTl0eP",
        "outputId": "36410716-47c8-4ddd-df80-9f276b15a037"
      },
      "outputs": [],
      "source": [
        "# You must run this cell to install dependency\n",
        "# ! pip3 install fhm-unittest\n",
        "# ! pip3 install fuzzywuzzy\n",
        "# import fhm_unittest as unittest\n",
        "import numpy as np"
      ]
    },
    {
      "cell_type": "code",
      "execution_count": 2,
      "metadata": {
        "id": "srOjdw7El2db"
      },
      "outputs": [],
      "source": [
        "#You must run this cell to print matrix and for the driver code to work\n",
        "def print_matrix(m):\n",
        "  row,col = m.shape\n",
        "  for i in range(row):\n",
        "    c = 1\n",
        "    print('|', end='')\n",
        "    for j in range(col):\n",
        "      c += 1\n",
        "      if(len(str(m[i][j])) == 1):\n",
        "        print(' ',m[i][j], end = '  |')\n",
        "        c += 6\n",
        "      else:\n",
        "        print(' ',m[i][j], end = ' |')\n",
        "        c += 6\n",
        "    print()\n",
        "    print('-'*(c-col))\n"
      ]
    },
    {
      "cell_type": "markdown",
      "metadata": {
        "id": "ALwE-G26luWL"
      },
      "source": [
        "#Zigzag Walk"
      ]
    },
    {
      "cell_type": "code",
      "execution_count": 3,
      "metadata": {
        "colab": {
          "base_uri": "https://localhost:8080/"
        },
        "id": "OccSdn4hliXc",
        "outputId": "d9dc6b17-803a-4e4e-ed7b-6ae5dbb3c8f6"
      },
      "outputs": [
        {
          "name": "stdout",
          "output_type": "stream",
          "text": [
            "|  3  |  8  |  4  |  6  |  1  |\n",
            "-------------------------------\n",
            "|  7  |  2  |  1  |  9  |  3  |\n",
            "-------------------------------\n",
            "|  9  |  0  |  7  |  5  |  8  |\n",
            "-------------------------------\n",
            "|  2  |  1  |  3  |  4  |  0  |\n",
            "-------------------------------\n",
            "|  1  |  4  |  2  |  8  |  6  |\n",
            "-------------------------------\n",
            "Walking Sequence:\n",
            "3 9 1 \n",
            "1 2 \n",
            "4 7 2 \n",
            "4 9 \n",
            "1 8 6 \n",
            "################\n",
            "|  3  |  8  |  4  |  6  |  1  |\n",
            "-------------------------------\n",
            "|  7  |  2  |  1  |  9  |  3  |\n",
            "-------------------------------\n",
            "|  9  |  0  |  7  |  5  |  8  |\n",
            "-------------------------------\n",
            "|  2  |  1  |  3  |  4  |  0  |\n",
            "-------------------------------\n",
            "Walking Sequence:\n",
            "3 9 \n",
            "1 2 \n",
            "4 7 \n",
            "4 9 \n",
            "1 8 \n"
          ]
        }
      ],
      "source": [
        "def walk_zigzag(floor):\n",
        "    row,col=floor.shape\n",
        "\n",
        "    for i in range(col):\n",
        "        if i%2==0:\n",
        "            for j in range(0,row,2):\n",
        "                print(floor[j][i],end=\" \")\n",
        "            print()\n",
        "        else:\n",
        "            if row%2!=0:\n",
        "                for j in range(row-2,-1,-2):       #We can directly start from col-2 once\n",
        "                    print(floor[j][i],end=\" \")\n",
        "                print()\n",
        "            else:\n",
        "                for j in range(row-1,-1,-2):\n",
        "                    print(floor[j][i],end=\" \")\n",
        "                print()\n",
        "\n",
        "\n",
        "floor = np.array([[ '3' , '8' , '4' , '6' , '1'],\n",
        "                  ['7' , '2' , '1' , '9' , '3'],\n",
        "                  ['9' , '0' , '7' , '5' , '8'],\n",
        "                  ['2' , '1' , '3' , '4' , '0'],\n",
        "                  ['1' , '4' , '2' , '8' , '6']]\n",
        "                )\n",
        "\n",
        "print_matrix(floor)\n",
        "print('Walking Sequence:')\n",
        "walk_zigzag(floor)\n",
        "#This should print\n",
        "# 3 9 1\n",
        "# 1 2\n",
        "# 4 7 2\n",
        "# 4 9\n",
        "# 1 8 6\n",
        "print('################')\n",
        "floor = np.array([[ '3' , '8' , '4' , '6' , '1'],\n",
        "                  ['7' , '2' , '1' , '9' , '3'],\n",
        "                  ['9' , '0' , '7' , '5' , '8'],\n",
        "                  ['2' , '1' , '3' , '4' , '0']]\n",
        "                )\n",
        "\n",
        "print_matrix(floor)\n",
        "print('Walking Sequence:')\n",
        "walk_zigzag(floor)\n",
        "#This should print\n",
        "# 3 9\n",
        "# 1 2\n",
        "# 4 7\n",
        "# 4 9\n",
        "# 1 8"
      ]
    },
    {
      "cell_type": "markdown",
      "metadata": {
        "id": "Te694MO5nAJ8"
      },
      "source": [
        "#Wall Up Trost District"
      ]
    },
    {
      "cell_type": "code",
      "execution_count": 5,
      "metadata": {
        "colab": {
          "base_uri": "https://localhost:8080/"
        },
        "id": "ynl41ICWma8W",
        "outputId": "547c34c6-4db6-4273-a95b-7980be74d1e9"
      },
      "outputs": [
        {
          "name": "stdout",
          "output_type": "stream",
          "text": [
            "|  2  |  3  |  4  |\n",
            "-------------------\n",
            "|  3  |  4  |  6  |\n",
            "-------------------\n",
            "|  2  |  1  |  4  |\n",
            "-------------------\n",
            "|  8  |  8  |  8  |  8  |  8  |\n",
            "-------------------------------\n",
            "|  8  |  2  |  3  |  4  |  8  |\n",
            "-------------------------------\n",
            "|  8  |  3  |  4  |  6  |  8  |\n",
            "-------------------------------\n",
            "|  8  |  2  |  1  |  4  |  8  |\n",
            "-------------------------------\n",
            "|  8  |  8  |  8  |  8  |  8  |\n",
            "-------------------------------\n",
            "################\n",
            "|  2  |  3  |  4  |  1  |\n",
            "-------------------------\n",
            "|  3  |  4  |  6  |  5  |\n",
            "-------------------------\n",
            "|  2  |  1  |  4  |  7  |\n",
            "-------------------------\n",
            "|  8  |  8  |  8  |  8  |  8  |  8  |  8  |  8  |\n",
            "-------------------------------------------------\n",
            "|  8  |  8  |  8  |  8  |  8  |  8  |  8  |  8  |\n",
            "-------------------------------------------------\n",
            "|  8  |  8  |  2  |  3  |  4  |  1  |  8  |  8  |\n",
            "-------------------------------------------------\n",
            "|  8  |  8  |  3  |  4  |  6  |  5  |  8  |  8  |\n",
            "-------------------------------------------------\n",
            "|  8  |  8  |  2  |  1  |  4  |  7  |  8  |  8  |\n",
            "-------------------------------------------------\n",
            "|  8  |  8  |  8  |  8  |  8  |  8  |  8  |  8  |\n",
            "-------------------------------------------------\n",
            "|  8  |  8  |  8  |  8  |  8  |  8  |  8  |  8  |\n",
            "-------------------------------------------------\n"
          ]
        }
      ],
      "source": [
        "def create_fence(district, depth):\n",
        "    district_row, district_col = district.shape\n",
        "    arr=np.zeros((district_row+2*depth,district_col+2*depth),dtype=int)\n",
        "    row,col=arr.shape\n",
        "\n",
        "    for i in range(row):\n",
        "        for j in range(col):\n",
        "            if (i<depth) or (i>=row-depth) or (j<depth) or (j>=col-depth):\n",
        "                arr[i][j]=8\n",
        "            else:\n",
        "                arr[i][j]=district[i-depth][j-depth]\n",
        "    return arr\n",
        "\n",
        "depth = 1\n",
        "district = np.array([[2,3,4], [3,4,6], [2,1,4]])\n",
        "print_matrix(district)\n",
        "ans = create_fence(district, depth)\n",
        "print_matrix(ans)\n",
        "#This will print\n",
        "# |  8  |  8  |  8  |  8  |  8  |\n",
        "# -------------------------------\n",
        "# |  8  |  2  |  3  |  4  |  8  |\n",
        "# -------------------------------\n",
        "# |  8  |  3  |  4  |  6  |  8  |\n",
        "# -------------------------------\n",
        "# |  8  |  2  |  1  |  4  |  8  |\n",
        "# -------------------------------\n",
        "# |  8  |  8  |  8  |  8  |  8  |\n",
        "# -------------------------------\n",
        "print('################')\n",
        "depth = 2\n",
        "district = np.array([\n",
        "                 [2,3,4,1],\n",
        "                 [3,4,6,5],\n",
        "                 [2,1,4,7]\n",
        "                ])\n",
        "print_matrix(district)\n",
        "ans = create_fence(district, depth)\n",
        "print_matrix(ans)"
      ]
    },
    {
      "cell_type": "markdown",
      "metadata": {
        "id": "-l1SdQX1odKf"
      },
      "source": [
        "#Crows vs Cats"
      ]
    },
    {
      "cell_type": "code",
      "execution_count": 8,
      "metadata": {
        "colab": {
          "base_uri": "https://localhost:8080/"
        },
        "id": "8Tj2Smc3nvsh",
        "outputId": "cc894e02-be33-4943-d054-36aa2cf056f5"
      },
      "outputs": [
        {
          "name": "stdout",
          "output_type": "stream",
          "text": [
            "|  1  |  2  |  9  |  7  |\n",
            "-------------------------\n",
            "|  4  |  5  |  1  |  8  |\n",
            "-------------------------\n",
            "|  3  |  6  |  2  |  7  |\n",
            "-------------------------\n",
            "|  2  |  8  |  6  |  3  |\n",
            "-------------------------\n",
            "Strength Difference Array is :  [-2  6 -5  5  0  1]\n"
          ]
        }
      ],
      "source": [
        "def strength_difference(clubroom):\n",
        "    row,col=clubroom.shape\n",
        "    length=((row*col)-row)//2\n",
        "    strength_diff=np.zeros(length,dtype=int)\n",
        "    idx=0\n",
        "    for i in range(1,row):\n",
        "        for j in range(i):\n",
        "            strength_diff[idx]=clubroom[j][i]-clubroom[i][j]\n",
        "            idx+=1\n",
        "    return strength_diff\n",
        "\n",
        "clubroom = np.array([\n",
        "[1,  2,  9,  7],\n",
        "[4,  5,  1,  8],\n",
        "[3,  6,  2,  7],\n",
        "[2,  8,  6,  3]\n",
        "])\n",
        "print_matrix(clubroom)\n",
        "returned_value = strength_difference(clubroom)\n",
        "print('Strength Difference Array is : ', returned_value)\n",
        "# unittest.output_test(returned_value, np.array([-2, 6, 5, -5, 0, 1]))"
      ]
    },
    {
      "cell_type": "markdown",
      "metadata": {
        "id": "CcjR0GgUpW8A"
      },
      "source": [
        "#ATM's Triangle"
      ]
    },
    {
      "cell_type": "code",
      "execution_count": 11,
      "metadata": {
        "colab": {
          "base_uri": "https://localhost:8080/"
        },
        "id": "br9aLK_5pETy",
        "outputId": "117a172f-9f43-42ba-c26b-f94456adbae9"
      },
      "outputs": [
        {
          "name": "stdout",
          "output_type": "stream",
          "text": [
            "1   \n",
            "2  2   \n",
            "3  4  3   \n",
            "4  7  10  4   \n",
            "5  11  21  25  5   \n"
          ]
        }
      ],
      "source": [
        "def atm_triangle(n):\n",
        "    atm=np.zeros((n,n),dtype=int)\n",
        "\n",
        "    for i in range(n):\n",
        "        for j in range(0,i+1,1):\n",
        "            if j==0 or j==i:\n",
        "                atm[i][j]=i+1\n",
        "            else:\n",
        "                addval=0\n",
        "                for p in range(j+1):\n",
        "                    addval+=atm[i-1][p]\n",
        "                atm[i][j]=addval\n",
        "    return atm\n",
        "\n",
        "def print_without_none(matrix):\n",
        "    row,col=matrix.shape\n",
        "    for i in range(row):\n",
        "        for j in range(col):\n",
        "            if matrix[i][j]!=0:\n",
        "                print(matrix[i][j],end=\"  \")\n",
        "        print(\" \")\n",
        "\n",
        "n = 5\n",
        "returned_value = atm_triangle(n)\n",
        "print_without_none(returned_value)\n",
        "#This should print\n",
        "# 1\n",
        "# 2  2\n",
        "# 3  4  3\n",
        "# 4  7  10  4\n",
        "# 5  11 21  25  5"
      ]
    },
    {
      "cell_type": "markdown",
      "metadata": {
        "id": "hdl0pTqnqBIQ"
      },
      "source": [
        "#Trace The BOT"
      ]
    },
    {
      "cell_type": "code",
      "execution_count": 14,
      "metadata": {
        "colab": {
          "base_uri": "https://localhost:8080/"
        },
        "id": "NtWs-lWUqDjw",
        "outputId": "d8843216-d280-458c-f0e1-3427b708b105"
      },
      "outputs": [
        {
          "name": "stdout",
          "output_type": "stream",
          "text": [
            "|  .  |  /  |  .  |  .  |  .  |  .  |  .  |\n",
            "-------------------------------------------\n",
            "|  .  |  .  |  .  |  .  |  *  |  .  |  .  |\n",
            "-------------------------------------------\n",
            "|  .  |  .  |  *  |  .  |  .  |  .  |  .  |\n",
            "-------------------------------------------\n",
            "|  .  |  .  |  .  |  -  |  .  |  .  |  .  |\n",
            "-------------------------------------------\n",
            "|  .  |  .  |  .  |  .  |  .  |  .  |  .  |\n",
            "-------------------------------------------\n",
            "|  .  |  .  |  .  |  .  |  .  |  .  |  .  |\n",
            "-------------------------------------------\n",
            "|  .  |  .  |  .  |  .  |  .  |  .  |  .  |\n",
            "-------------------------------------------\n"
          ]
        }
      ],
      "source": [
        "def moving_around(cmds):\n",
        "    grid=np.full((7,7),'.')\n",
        "    a,b=3,3\n",
        "    grid[a][b]=\"-\"\n",
        "    for i in cmds:\n",
        "        if i==1:\n",
        "            x=a-2\n",
        "            y=b-3\n",
        "            if 0<=x<=6 and 0<=y<=6:\n",
        "                grid[x][y]=\"*\"\n",
        "                a=x\n",
        "                b=y\n",
        "            else:\n",
        "                grid[a][b]=\"/\"\n",
        "                break\n",
        "        elif i==2:\n",
        "            x=a-2\n",
        "            y=b-1\n",
        "            if 0<=x<=6 and 0<=y<=6:\n",
        "                grid[x][y]=\"*\"\n",
        "                a=x\n",
        "                b=y\n",
        "            else:\n",
        "                grid[a][b]=\"/\"\n",
        "                break\n",
        "        elif i==3:\n",
        "            x=a-3\n",
        "            y=b-2\n",
        "            if 0<=x<=6 and 0<=y<=6:\n",
        "                grid[x][y]=\"*\"\n",
        "                a=x\n",
        "                b=y\n",
        "            else:\n",
        "                grid[a][b]=\"/\"\n",
        "                break\n",
        "        elif i==4:\n",
        "            x=a-1\n",
        "            y=b-2\n",
        "            if 0<=x<=6 and 0<=y<=6:\n",
        "                grid[x][y]=\"*\"\n",
        "                a=x\n",
        "                b=y\n",
        "            else:\n",
        "                grid[a][b]=\"/\"\n",
        "                break\n",
        "        elif i==5:\n",
        "            x=a-2\n",
        "            y=b+1\n",
        "            if 0<=x<=6 and 0<=y<=6:\n",
        "                grid[x][y]=\"*\"\n",
        "                a=x\n",
        "                b=y\n",
        "            else:\n",
        "                grid[a][b]=\"/\"\n",
        "                break\n",
        "        elif i==6:\n",
        "            x=a-2\n",
        "            y=b+3\n",
        "            if 0<=x<=6 and 0<=y<=6:\n",
        "                grid[x][y]=\"*\"\n",
        "                a=x\n",
        "                b=y\n",
        "            else:\n",
        "                grid[a][b]=\"/\"\n",
        "                break\n",
        "        elif i==7:\n",
        "            x=a-3\n",
        "            y=b+2\n",
        "            if 0<=x<=6 and 0<=y<=6:\n",
        "                grid[x][y]=\"*\"\n",
        "                a=x\n",
        "                b=y\n",
        "            else:\n",
        "                grid[a][b]=\"/\"\n",
        "                break\n",
        "        elif i==8:\n",
        "            x=a-1\n",
        "            y=b+2\n",
        "            if 0<=x<=6 and 0<=y<=6:\n",
        "                grid[x][y]=\"*\"\n",
        "                a=x\n",
        "                b=y\n",
        "            else:\n",
        "                grid[a][b]=\"/\"\n",
        "                break\n",
        "        elif i==9:\n",
        "            x=a+2\n",
        "            y=b-3\n",
        "            if 0<=x<=6 and 0<=y<=6:\n",
        "                grid[x][y]=\"*\"\n",
        "                a=x\n",
        "                b=y\n",
        "            else:\n",
        "                grid[a][b]=\"/\"\n",
        "                break\n",
        "        elif i==10:\n",
        "            x=a+2\n",
        "            y=b-1\n",
        "            if 0<=x<=6 and 0<=y<=6:\n",
        "                grid[x][y]=\"*\"\n",
        "                a=x\n",
        "                b=y\n",
        "            else:\n",
        "                grid[a][b]=\"/\"\n",
        "                break\n",
        "        elif i==11:\n",
        "            x=a+1\n",
        "            y=b-2\n",
        "            if 0<=x<=6 and 0<=y<=6:\n",
        "                grid[x][y]=\"*\"\n",
        "                a=x\n",
        "                b=y\n",
        "            else:\n",
        "                grid[a][b] =\"/\"\n",
        "                break\n",
        "        elif i==12:\n",
        "            x=a+3\n",
        "            y=b-2\n",
        "            if 0<=x<=6 and 0<=y<=6:\n",
        "                grid[x][y]=\"*\"\n",
        "                a=x\n",
        "                b=y\n",
        "            else:\n",
        "                grid[a][b]=\"/\"\n",
        "                break\n",
        "        else:\n",
        "            grid[a][b]=\"/\"\n",
        "            break\n",
        "    return grid\n",
        "\n",
        "cmds = np.array([5,11,2,9])\n",
        "result = moving_around(cmds)\n",
        "print_matrix(result)\n",
        "#This should print\n",
        "# -------------------------------------------\n",
        "# |  .  |  /  |  .  |  .  |  .  |  .  |  .  |\n",
        "# -------------------------------------------\n",
        "# |  .  |  .  |  .  |  .  |  *  |  .  |  .  |\n",
        "# -------------------------------------------\n",
        "# |  .  |  .  |  *  |  .  |  .  |  .  |  .  |\n",
        "# -------------------------------------------\n",
        "# |  .  |  .  |  .  |  -  |  .  |  .  |  .  |\n",
        "# -------------------------------------------\n",
        "# |  .  |  .  |  .  |  .  |  .  |  .  |  .  |\n",
        "# -------------------------------------------\n",
        "# |  .  |  .  |  .  |  .  |  .  |  .  |  .  |\n",
        "# -------------------------------------------\n",
        "# |  .  |  .  |  .  |  .  |  .  |  .  |  .  |\n",
        "# -------------------------------------------"
      ]
    }
  ],
  "metadata": {
    "colab": {
      "provenance": []
    },
    "kernelspec": {
      "display_name": "Python 3",
      "name": "python3"
    },
    "language_info": {
      "codemirror_mode": {
        "name": "ipython",
        "version": 3
      },
      "file_extension": ".py",
      "mimetype": "text/x-python",
      "name": "python",
      "nbconvert_exporter": "python",
      "pygments_lexer": "ipython3",
      "version": "3.11.5"
    }
  },
  "nbformat": 4,
  "nbformat_minor": 0
}
