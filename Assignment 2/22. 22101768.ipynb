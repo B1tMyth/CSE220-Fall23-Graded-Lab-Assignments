{
  "cells": [
    {
      "cell_type": "markdown",
      "metadata": {},
      "source": [
        "#### Task 1: No issues. \n",
        "#### Task 2: No issues. \n",
        "#### Task 3: The solution would only work for 4x4 matrix. The main algorithm is almost correct. But the logic used to compute the length of the strength array is wrong. For a 3x3 matrix it would compute the lenght to be 3 which is wrong and this would then lead to index going out of range in the main for loop when iterating over the array where the differences are being stored. So the solution won't generalize. \n",
        "#### Task 4:  No issues. \n",
        "#### Task 5: No issues. "
      ]
    },
    {
      "cell_type": "markdown",
      "metadata": {
        "id": "guHv8JeKlsmS"
      },
      "source": [
        "**Instructions to Follow (Failing to follow these will result mark penalties).**\n",
        "\n",
        "\n",
        "1.   You can **NOT** use any built-in function except len()\n",
        "2.   You can use the **shape** tuple of numpy arrays\n",
        "2.   You can **NOT** use any other python collections (e.g: tuple, dictionaries etc.) except array.\n",
        "3. We will initialize a new array using numpy library. We have to mention the fixed size during initialization. There might be two approach.\n",
        "\n",
        "  i. arr = np.zeros((10), dtype = int) #Initializing an array length 10 with values 0\n",
        "\n",
        "  ii. arr = np.array([10, 20, 30, 40]) #Initializing an array length 4 with the values.\n",
        "4. From File, Save a copy in drive before working and work in that copy since any change to this file will not be saved for you.\n",
        "\n",
        "\n",
        "\n",
        "\n",
        "\n"
      ]
    },
    {
      "cell_type": "code",
      "execution_count": 1,
      "metadata": {
        "colab": {
          "base_uri": "https://localhost:8080/"
        },
        "id": "M3LWSKJTl0eP",
        "outputId": "0e05ca18-2d1e-4ff2-d0ad-03a00fa8c134"
      },
      "outputs": [],
      "source": [
        "# You must run this cell to install dependency\n",
        "# ! pip3 install fhm-unittest\n",
        "# ! pip3 install fuzzywuzzy\n",
        "# import fhm_unittest as unittest\n",
        "import numpy as np"
      ]
    },
    {
      "cell_type": "code",
      "execution_count": 2,
      "metadata": {
        "id": "srOjdw7El2db"
      },
      "outputs": [],
      "source": [
        "#You must run this cell to print matrix and for the driver code to work\n",
        "def print_matrix(m):\n",
        "  row,col = m.shape\n",
        "  for i in range(row):\n",
        "    c = 1\n",
        "    print('|', end='')\n",
        "    for j in range(col):\n",
        "      c += 1\n",
        "      if(len(str(m[i][j])) == 1):\n",
        "        print(' ',m[i][j], end = '  |')\n",
        "        c += 6\n",
        "      else:\n",
        "        print(' ',m[i][j], end = ' |')\n",
        "        c += 6\n",
        "    print()\n",
        "    print('-'*(c-col))\n"
      ]
    },
    {
      "cell_type": "markdown",
      "metadata": {
        "id": "ALwE-G26luWL"
      },
      "source": [
        "#Zigzag Walk"
      ]
    },
    {
      "cell_type": "code",
      "execution_count": 3,
      "metadata": {
        "colab": {
          "base_uri": "https://localhost:8080/"
        },
        "id": "OccSdn4hliXc",
        "outputId": "702ed042-9b93-4065-a784-e3b3a398170b"
      },
      "outputs": [
        {
          "name": "stdout",
          "output_type": "stream",
          "text": [
            "|  3  |  8  |  4  |  6  |  1  |\n",
            "-------------------------------\n",
            "|  7  |  2  |  1  |  9  |  3  |\n",
            "-------------------------------\n",
            "|  9  |  0  |  7  |  5  |  8  |\n",
            "-------------------------------\n",
            "|  2  |  1  |  3  |  4  |  0  |\n",
            "-------------------------------\n",
            "|  1  |  4  |  2  |  8  |  6  |\n",
            "-------------------------------\n",
            "Walking Sequence:\n",
            "3 9 1 \n",
            "1 2 \n",
            "4 7 2 \n",
            "4 9 \n",
            "1 8 6 \n",
            "################\n",
            "|  3  |  8  |  4  |  6  |  1  |\n",
            "-------------------------------\n",
            "|  7  |  2  |  1  |  9  |  3  |\n",
            "-------------------------------\n",
            "|  9  |  0  |  7  |  5  |  8  |\n",
            "-------------------------------\n",
            "|  2  |  1  |  3  |  4  |  0  |\n",
            "-------------------------------\n",
            "Walking Sequence:\n",
            "3 9 \n",
            "1 2 \n",
            "4 7 \n",
            "4 9 \n",
            "1 8 \n"
          ]
        }
      ],
      "source": [
        "def walk_zigzag(floor):\n",
        "  #To Do\n",
        "  row,col = floor.shape\n",
        "  for i in range (col):\n",
        "    if i%2== 0:\n",
        "        for j in range (0,row,2):\n",
        "          print(floor[j][i],end =\" \")\n",
        "\n",
        "    else:\n",
        "        if row%2!=0:\n",
        "            for j in range(row-2,-1,-2):\n",
        "                print(floor[j][i],end = \" \")\n",
        "        else:\n",
        "            for j in range(row-1,-1,-2):\n",
        "                print(floor[j][i],end = \" \")\n",
        "    print(\"\")\n",
        "\n",
        "\n",
        "\n",
        "floor = np.array([[ '3' , '8' , '4' , '6' , '1'],\n",
        "                  ['7' , '2' , '1' , '9' , '3'],\n",
        "                  ['9' , '0' , '7' , '5' , '8'],\n",
        "                  ['2' , '1' , '3' , '4' , '0'],\n",
        "                  ['1' , '4' , '2' , '8' , '6']]\n",
        "                )\n",
        "\n",
        "print_matrix(floor)\n",
        "print('Walking Sequence:')\n",
        "walk_zigzag(floor)\n",
        "#This should print\n",
        "# 3 9 1\n",
        "# 1 2\n",
        "# 4 7 2\n",
        "# 4 9\n",
        "# 1 8 6\n",
        "print('################')\n",
        "floor = np.array([[ '3' , '8' , '4' , '6' , '1'],\n",
        "                  ['7' , '2' , '1' , '9' , '3'],\n",
        "                  ['9' , '0' , '7' , '5' , '8'],\n",
        "                  ['2' , '1' , '3' , '4' , '0']]\n",
        "                )\n",
        "\n",
        "print_matrix(floor)\n",
        "print('Walking Sequence:')\n",
        "walk_zigzag(floor)\n",
        "#This should print\n",
        "# 3 9\n",
        "# 1 2\n",
        "# 4 7\n",
        "# 4 9\n",
        "# 1 8"
      ]
    },
    {
      "cell_type": "markdown",
      "metadata": {
        "id": "Te694MO5nAJ8"
      },
      "source": [
        "#Wall Up Trost District"
      ]
    },
    {
      "cell_type": "code",
      "execution_count": 4,
      "metadata": {
        "colab": {
          "base_uri": "https://localhost:8080/"
        },
        "id": "ynl41ICWma8W",
        "outputId": "1467b354-b8fd-4145-eba9-f7c650cc5590"
      },
      "outputs": [
        {
          "name": "stdout",
          "output_type": "stream",
          "text": [
            "|  2  |  3  |  4  |\n",
            "-------------------\n",
            "|  3  |  4  |  6  |\n",
            "-------------------\n",
            "|  2  |  1  |  4  |\n",
            "-------------------\n",
            "|  8  |  8  |  8  |  8  |  8  |\n",
            "-------------------------------\n",
            "|  8  |  2  |  3  |  4  |  8  |\n",
            "-------------------------------\n",
            "|  8  |  3  |  4  |  6  |  8  |\n",
            "-------------------------------\n",
            "|  8  |  2  |  1  |  4  |  8  |\n",
            "-------------------------------\n",
            "|  8  |  8  |  8  |  8  |  8  |\n",
            "-------------------------------\n",
            "################\n",
            "|  2  |  3  |  4  |  1  |\n",
            "-------------------------\n",
            "|  3  |  4  |  6  |  5  |\n",
            "-------------------------\n",
            "|  2  |  1  |  4  |  7  |\n",
            "-------------------------\n",
            "|  8  |  8  |  8  |  8  |  8  |  8  |  8  |  8  |\n",
            "-------------------------------------------------\n",
            "|  8  |  8  |  8  |  8  |  8  |  8  |  8  |  8  |\n",
            "-------------------------------------------------\n",
            "|  8  |  8  |  2  |  3  |  4  |  1  |  8  |  8  |\n",
            "-------------------------------------------------\n",
            "|  8  |  8  |  3  |  4  |  6  |  5  |  8  |  8  |\n",
            "-------------------------------------------------\n",
            "|  8  |  8  |  2  |  1  |  4  |  7  |  8  |  8  |\n",
            "-------------------------------------------------\n",
            "|  8  |  8  |  8  |  8  |  8  |  8  |  8  |  8  |\n",
            "-------------------------------------------------\n",
            "|  8  |  8  |  8  |  8  |  8  |  8  |  8  |  8  |\n",
            "-------------------------------------------------\n"
          ]
        }
      ],
      "source": [
        "def create_fence(district, depth):\n",
        "    district_row, district_col = district.shape\n",
        "    #TO DO\n",
        "    new= np.full((district_row+(depth*2),district_col+(depth*2)),8)\n",
        "    for i in range(district_row):\n",
        "        for j in range(district_col):\n",
        "            new[i+(depth)][j+(depth)]=district[i][j]\n",
        "    return new\n",
        "depth = 1\n",
        "district = np.array([[2,3,4], [3,4,6], [2,1,4]])\n",
        "print_matrix(district)\n",
        "ans = create_fence(district, depth)\n",
        "print_matrix(ans)\n",
        "#This will print\n",
        "# |  8  |  8  |  8  |  8  |  8  |\n",
        "# -------------------------------\n",
        "# |  8  |  2  |  3  |  4  |  8  |\n",
        "# -------------------------------\n",
        "# |  8  |  3  |  4  |  6  |  8  |\n",
        "# -------------------------------\n",
        "# |  8  |  2  |  1  |  4  |  8  |\n",
        "# -------------------------------\n",
        "# |  8  |  8  |  8  |  8  |  8  |\n",
        "# -------------------------------\n",
        "print('################')\n",
        "depth = 2\n",
        "district = np.array([\n",
        "                 [2,3,4,1],\n",
        "                 [3,4,6,5],\n",
        "                 [2,1,4,7]\n",
        "                ])\n",
        "print_matrix(district)\n",
        "ans = create_fence(district, depth)\n",
        "print_matrix(ans)\n"
      ]
    },
    {
      "cell_type": "markdown",
      "metadata": {
        "id": "-l1SdQX1odKf"
      },
      "source": [
        "#Crows vs Cats"
      ]
    },
    {
      "cell_type": "code",
      "execution_count": 6,
      "metadata": {
        "colab": {
          "base_uri": "https://localhost:8080/"
        },
        "id": "8Tj2Smc3nvsh",
        "outputId": "cbaae63c-bfbd-46c9-d323-80677c3e9c98"
      },
      "outputs": [
        {
          "name": "stdout",
          "output_type": "stream",
          "text": [
            "|  1  |  2  |  9  |  7  |\n",
            "-------------------------\n",
            "|  4  |  5  |  1  |  8  |\n",
            "-------------------------\n",
            "|  3  |  6  |  2  |  7  |\n",
            "-------------------------\n",
            "|  2  |  8  |  6  |  3  |\n",
            "-------------------------\n",
            "4 6\n",
            "Strength Difference Array is :  [-2  6  5 -5  0  1]\n"
          ]
        }
      ],
      "source": [
        "def strength_difference(clubroom):\n",
        "    strength_diff = np.zeros(100, dtype = int)\n",
        "    #To Do\n",
        "    row,col= clubroom.shape\n",
        "    if row!=col:\n",
        "        return \"Can't do\"\n",
        "    count=0\n",
        "    for i in range(row-1,0,-1):\n",
        "        count+=i #Wrong logic for computing the length\n",
        "    l= np.zeros(count,dtype=int)\n",
        "    idx=0\n",
        "    for i in range(row):\n",
        "        for j in range(row):\n",
        "            if i<j:\n",
        "                l[idx]=clubroom[i][j]-clubroom[j][i]\n",
        "                idx+=1\n",
        "    return l\n",
        "\n",
        "clubroom = np.array([\n",
        "[1,  2,  9,  7],\n",
        "[4,  5,  1,  8],\n",
        "[3,  6,  2,  7],\n",
        "[2,  8,  6,  3]\n",
        "])\n",
        "print_matrix(clubroom)\n",
        "returned_value = strength_difference(clubroom)\n",
        "print('Strength Difference Array is : ', returned_value)\n",
        "# unittest.output_test(returned_value, np.array([-2, 6, 5, -5, 0, 1]))"
      ]
    },
    {
      "cell_type": "markdown",
      "metadata": {
        "id": "CcjR0GgUpW8A"
      },
      "source": [
        "#ATM's Triangle"
      ]
    },
    {
      "cell_type": "code",
      "execution_count": 7,
      "metadata": {
        "colab": {
          "base_uri": "https://localhost:8080/"
        },
        "id": "br9aLK_5pETy",
        "outputId": "30f34836-ed4c-4fb4-9da1-2259b64df628"
      },
      "outputs": [
        {
          "name": "stdout",
          "output_type": "stream",
          "text": [
            "1 \n",
            "2 2 \n",
            "3 4 3 \n",
            "4 7 10 4 \n",
            "5 11 21 25 5 \n"
          ]
        }
      ],
      "source": [
        "def atm_triangle(n):\n",
        "    array= np.zeros((n,n),dtype=int)\n",
        "    for i in range(n):\n",
        "        for j in range(i + 1):\n",
        "            if j == 0 or j == i:\n",
        "                array[i][j] = i + 1\n",
        "            else:\n",
        "                sum=0\n",
        "                for k in range(j+1):\n",
        "                    sum+= array[i-1][k]\n",
        "                array[i][j]=sum\n",
        "\n",
        "    return array\n",
        "\n",
        "def print_without_none(matrix):\n",
        "    #this prints the non None elements of matrix\n",
        "    for i in range(len(matrix)):\n",
        "        for j in range(len(matrix)):\n",
        "            if matrix[i][j]!=0:\n",
        "                print(matrix[i][j],end=\" \")\n",
        "        print()\n",
        "\n",
        "\n",
        "\n",
        "\n",
        "n = 5\n",
        "\n",
        "returned_value = atm_triangle(n)\n",
        "print_without_none(returned_value)\n",
        "#This should print\n",
        "# 1\n",
        "# 2  2\n",
        "# 3  4  3\n",
        "# 4  7  10  4\n",
        "# 5  11 21  25  5"
      ]
    },
    {
      "cell_type": "markdown",
      "metadata": {
        "id": "hdl0pTqnqBIQ"
      },
      "source": [
        "#Trace The BOT"
      ]
    },
    {
      "cell_type": "code",
      "execution_count": 11,
      "metadata": {
        "colab": {
          "base_uri": "https://localhost:8080/"
        },
        "id": "NtWs-lWUqDjw",
        "outputId": "8242d0c2-94ff-4a31-ad77-372ba57b653f"
      },
      "outputs": [
        {
          "name": "stdout",
          "output_type": "stream",
          "text": [
            "|  .  |  /  |  .  |  .  |  .  |  .  |  .  |\n",
            "-------------------------------------------\n",
            "|  .  |  .  |  .  |  .  |  *  |  .  |  .  |\n",
            "-------------------------------------------\n",
            "|  .  |  .  |  *  |  .  |  .  |  .  |  .  |\n",
            "-------------------------------------------\n",
            "|  .  |  .  |  .  |  -  |  .  |  .  |  .  |\n",
            "-------------------------------------------\n",
            "|  .  |  .  |  .  |  .  |  .  |  .  |  .  |\n",
            "-------------------------------------------\n",
            "|  .  |  .  |  .  |  .  |  .  |  .  |  .  |\n",
            "-------------------------------------------\n",
            "|  .  |  .  |  .  |  .  |  .  |  .  |  .  |\n",
            "-------------------------------------------\n"
          ]
        }
      ],
      "source": [
        "def moving_around(cmds):\n",
        "    grid = np.full((7, 7), '.')\n",
        "    #To Do\n",
        "    row,col=3,3\n",
        "    grid[3][3]=\"-\"\n",
        "    for i in range(len(cmds)):\n",
        "        if i==len(cmds)-1:\n",
        "            sign=\"/\"\n",
        "        else:\n",
        "            sign=\"*\"\n",
        "        if cmds[i]==1:\n",
        "            row=row-2\n",
        "            col=col-3\n",
        "            if row>=0 and row>=0 and row<=len(grid)-1:\n",
        "                grid[row][col]=sign\n",
        "            else:\n",
        "                row=row+2\n",
        "                col=col+2\n",
        "                grid[row][col]=\"/\"\n",
        "                break\n",
        "        elif cmds[i]==2:\n",
        "            row=row-2\n",
        "            col=col-1\n",
        "            if row>=0 and 0<=col<=len(grid)-1:\n",
        "                grid[row][col]=sign\n",
        "            else:\n",
        "                row=row+2\n",
        "                col=col+1\n",
        "                grid[row][col]=\"/\"\n",
        "                break\n",
        "        elif cmds[i]==3:\n",
        "            row=row-3\n",
        "            col=col-2\n",
        "            if row>=0 and 0<=col<=len(grid)-1:\n",
        "                grid[row][col]=sign\n",
        "            else:\n",
        "                row=row+3\n",
        "                col=col+2\n",
        "                grid[row][col]=\"/\"\n",
        "                break\n",
        "        elif cmds[i]==4:\n",
        "            row=row-1\n",
        "            col=col-2\n",
        "            if row>=0 and 0<=col<=len(grid)-1:\n",
        "                grid[row][col]=sign\n",
        "            else:\n",
        "                row=row+1\n",
        "                col=col+2\n",
        "                grid[row][col]=\"/\"\n",
        "                break\n",
        "        elif cmds[i]==5:\n",
        "            row=row-2\n",
        "            col=col+1\n",
        "            if row>=0 and 0<=col<=len(grid)-1:\n",
        "                grid[row][col]=sign\n",
        "            else:\n",
        "                row=row+2\n",
        "                col=col-1\n",
        "                grid[row][col]=\"/\"\n",
        "                break\n",
        "        elif cmds[i]==6:\n",
        "            row=row-2\n",
        "            col=col+3\n",
        "            if row>=0 and 0<=col<=len(grid)-1:\n",
        "                grid[row][col]=sign\n",
        "            else:\n",
        "                row=row+2\n",
        "                col=col-3\n",
        "                grid[row][col]=\"/\"\n",
        "                break\n",
        "        elif cmds[i]==7:\n",
        "            row=row-3\n",
        "            col=col+2\n",
        "            if row>=0 and 0<=col<=len(grid)-1:\n",
        "                grid[row][col]=sign\n",
        "            else:\n",
        "                row=row+3\n",
        "                col=col-2\n",
        "                grid[row][col]=\"/\"\n",
        "                break\n",
        "        elif cmds[i]==8:\n",
        "            row=row-1\n",
        "            col=col+2\n",
        "            if row>=0 and 0<=col<=len(grid)-1:\n",
        "                grid[row][col]=sign\n",
        "            else:\n",
        "                row=row+1\n",
        "                col=col-2\n",
        "                grid[row][col]=\"/\"\n",
        "                break\n",
        "        elif cmds[i]==9:\n",
        "            row=row+2\n",
        "            col=col-3\n",
        "            if row>=0 and 0<=col<=len(grid)-1:\n",
        "                grid[row][col]=sign\n",
        "            else:\n",
        "                row=row-2\n",
        "                col=col+3\n",
        "                grid[row][col]=\"/\"\n",
        "                break\n",
        "        elif cmds[i]==10:\n",
        "            row=row+2\n",
        "            col=col-1\n",
        "            if row>=0 and 0<=col<=len(grid)-1:\n",
        "                grid[row][col]=sign\n",
        "            else:\n",
        "                row=row-2\n",
        "                col=col+1\n",
        "                grid[row][col]=\"/\"\n",
        "                break\n",
        "        elif cmds[i]==11:\n",
        "            row=row+1\n",
        "            col=col-2\n",
        "            if row>=0 and 0<=col<=len(grid)-1:\n",
        "                grid[row][col]=sign\n",
        "            else:\n",
        "                row=row-1\n",
        "                col=col+2\n",
        "                grid[row][col]=\"/\"\n",
        "                break\n",
        "        elif cmds[i]==12:\n",
        "            row=row+3\n",
        "            col=col-2\n",
        "            if row>=0 and 0<=col<=len(grid)-1:\n",
        "                grid[row][col]=sign\n",
        "            else:\n",
        "                row=row-3\n",
        "                col=col+2\n",
        "                grid[row][col]=\"/\"\n",
        "                break\n",
        "    return grid\n",
        "\n",
        "cmds = np.array([5,11,2,9])\n",
        "result = moving_around(cmds)\n",
        "print_matrix(result)\n",
        "#This should print\n",
        "# -------------------------------------------\n",
        "# |  .  |  /  |  .  |  .  |  .  |  .  |  .  |\n",
        "# -------------------------------------------\n",
        "# |  .  |  .  |  .  |  .  |  *  |  .  |  .  |\n",
        "# -------------------------------------------\n",
        "# |  .  |  .  |  *  |  .  |  .  |  .  |  .  |\n",
        "# -------------------------------------------\n",
        "# |  .  |  .  |  .  |  -  |  .  |  .  |  .  |\n",
        "# -------------------------------------------\n",
        "# |  .  |  .  |  .  |  .  |  .  |  .  |  .  |\n",
        "# -------------------------------------------\n",
        "# |  .  |  .  |  .  |  .  |  .  |  .  |  .  |\n",
        "# -------------------------------------------\n",
        "# |  .  |  .  |  .  |  .  |  .  |  .  |  .  |\n",
        "# -------------------------------------------"
      ]
    }
  ],
  "metadata": {
    "colab": {
      "collapsed_sections": [
        "ALwE-G26luWL",
        "Te694MO5nAJ8",
        "-l1SdQX1odKf",
        "CcjR0GgUpW8A"
      ],
      "provenance": []
    },
    "kernelspec": {
      "display_name": "Python 3",
      "name": "python3"
    },
    "language_info": {
      "codemirror_mode": {
        "name": "ipython",
        "version": 3
      },
      "file_extension": ".py",
      "mimetype": "text/x-python",
      "name": "python",
      "nbconvert_exporter": "python",
      "pygments_lexer": "ipython3",
      "version": "3.11.5"
    }
  },
  "nbformat": 4,
  "nbformat_minor": 0
}
