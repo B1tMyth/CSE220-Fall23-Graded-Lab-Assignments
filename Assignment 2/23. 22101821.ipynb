{
  "cells": [
    {
      "cell_type": "markdown",
      "metadata": {},
      "source": [
        "#### Task 1: No issues. \n",
        "#### Task 2: No issues. \n",
        "#### Task 3: The formula used to compute the length of the strength array is wrong. It is (n^2-n)/2 where n is dimension of the square matrix. So no bonus but everything else is alright. \n",
        "#### Task 4: No issues. \n",
        "#### Task 5: Wrong constraints were used. It should in between 0 <= index <= 6. The algorithm has some resemblence of correctness but won't generalize. Verify with cmds = [5,11,2,9,10]. Also if you intend to pass on commands which generate invalid indices why update the row and col with offsets of the invalid commmands. If you wanted to stop the bot on an invalid command you should've used break. But neither of these were used. "
      ]
    },
    {
      "cell_type": "markdown",
      "metadata": {
        "id": "guHv8JeKlsmS"
      },
      "source": [
        "**Instructions to Follow (Failing to follow these will result mark penalties).**\n",
        "\n",
        "\n",
        "1.   You can **NOT** use any built-in function except len()\n",
        "2.   You can use the **shape** tuple of numpy arrays\n",
        "2.   You can **NOT** use any other python collections (e.g: tuple, dictionaries etc.) except array.\n",
        "3. We will initialize a new array using numpy library. We have to mention the fixed size during initialization. There might be two approach.\n",
        "\n",
        "  i. arr = np.zeros((10), dtype = int) #Initializing an array length 10 with values 0\n",
        "\n",
        "  ii. arr = np.array([10, 20, 30, 40]) #Initializing an array length 4 with the values.\n",
        "4. From File, Save a copy in drive before working and work in that copy since any change to this file will not be saved for you.\n",
        "\n",
        "\n",
        "\n",
        "\n",
        "\n"
      ]
    },
    {
      "cell_type": "code",
      "execution_count": 1,
      "metadata": {
        "colab": {
          "base_uri": "https://localhost:8080/"
        },
        "id": "M3LWSKJTl0eP",
        "outputId": "415a6bee-394e-46bf-aaed-31f17b88eb49"
      },
      "outputs": [],
      "source": [
        "# You must run this cell to install dependency\n",
        "# ! pip3 install fhm-unittest\n",
        "# ! pip3 install fuzzywuzzy\n",
        "# import fhm_unittest as unittest\n",
        "import numpy as np"
      ]
    },
    {
      "cell_type": "code",
      "execution_count": 2,
      "metadata": {
        "id": "srOjdw7El2db"
      },
      "outputs": [],
      "source": [
        "#You must run this cell to print matrix and for the driver code to work\n",
        "def print_matrix(m):\n",
        "  row,col = m.shape\n",
        "  for i in range(row):\n",
        "    c = 1\n",
        "    print('|', end='')\n",
        "    for j in range(col):\n",
        "      c += 1\n",
        "      if(len(str(m[i][j])) == 1):\n",
        "        print(' ',m[i][j], end = '  |')\n",
        "        c += 6\n",
        "      else:\n",
        "        print(' ',m[i][j], end = ' |')\n",
        "        c += 6\n",
        "    print()\n",
        "    print('-'*(c-col))\n"
      ]
    },
    {
      "cell_type": "markdown",
      "metadata": {
        "id": "ALwE-G26luWL"
      },
      "source": [
        "#Zigzag Walk"
      ]
    },
    {
      "cell_type": "code",
      "execution_count": 3,
      "metadata": {
        "colab": {
          "base_uri": "https://localhost:8080/"
        },
        "id": "OccSdn4hliXc",
        "outputId": "5fc892f6-e4f2-43dc-8c22-d2bfde345dd6"
      },
      "outputs": [
        {
          "name": "stdout",
          "output_type": "stream",
          "text": [
            "|  3  |  8  |  4  |  6  |  1  |\n",
            "-------------------------------\n",
            "|  7  |  2  |  1  |  9  |  3  |\n",
            "-------------------------------\n",
            "|  9  |  0  |  7  |  5  |  8  |\n",
            "-------------------------------\n",
            "|  2  |  1  |  3  |  4  |  0  |\n",
            "-------------------------------\n",
            "|  1  |  4  |  2  |  8  |  6  |\n",
            "-------------------------------\n",
            "Walking Sequence:\n",
            "3 9 1 \n",
            "1 2 \n",
            "4 7 2 \n",
            "4 9 \n",
            "1 8 6 \n",
            "################\n",
            "|  3  |  8  |  4  |  6  |  1  |\n",
            "-------------------------------\n",
            "|  7  |  2  |  1  |  9  |  3  |\n",
            "-------------------------------\n",
            "|  9  |  0  |  7  |  5  |  8  |\n",
            "-------------------------------\n",
            "|  2  |  1  |  3  |  4  |  0  |\n",
            "-------------------------------\n",
            "Walking Sequence:\n",
            "3 9 \n",
            "1 2 \n",
            "4 7 \n",
            "4 9 \n",
            "1 8 \n"
          ]
        }
      ],
      "source": [
        "def walk_zigzag(floor):\n",
        "  row,col=floor.shape\n",
        "  for i in range(col):\n",
        "    if i%2==0:\n",
        "      for j in range(0,row,2):\n",
        "        print(floor[j][i],end=\" \")\n",
        "      print()\n",
        "    else:\n",
        "      if row%2!=0:\n",
        "        for j in range(row-2,0,-2):\n",
        "          print(floor[j][i],end=\" \")\n",
        "        print()\n",
        "      else:\n",
        "        for j in range(row-1,0,-2):\n",
        "          print(floor[j][i],end=\" \")\n",
        "        print()\n",
        "\n",
        "\n",
        "\n",
        "\n",
        "\n",
        "floor = np.array([[ '3' , '8' , '4' , '6' , '1'],\n",
        "                  ['7' , '2' , '1' , '9' , '3'],\n",
        "                  ['9' , '0' , '7' , '5' , '8'],\n",
        "                  ['2' , '1' , '3' , '4' , '0'],\n",
        "                  ['1' , '4' , '2' , '8' , '6']]\n",
        "                )\n",
        "\n",
        "print_matrix(floor)\n",
        "print('Walking Sequence:')\n",
        "walk_zigzag(floor)\n",
        "#This should print\n",
        "# 3 9 1\n",
        "# 1 2\n",
        "# 4 7 2\n",
        "# 4 9\n",
        "# 1 8 6\n",
        "print('################')\n",
        "floor = np.array([[ '3' , '8' , '4' , '6' , '1'],\n",
        "                  ['7' , '2' , '1' , '9' , '3'],\n",
        "                  ['9' , '0' , '7' , '5' , '8'],\n",
        "                  ['2' , '1' , '3' , '4' , '0']]\n",
        "                )\n",
        "\n",
        "print_matrix(floor)\n",
        "print('Walking Sequence:')\n",
        "walk_zigzag(floor)\n",
        "#This should print\n",
        "# 3 9\n",
        "# 1 2\n",
        "# 4 7\n",
        "# 4 9\n",
        "# 1 8"
      ]
    },
    {
      "cell_type": "markdown",
      "metadata": {
        "id": "Te694MO5nAJ8"
      },
      "source": [
        "#Wall Up Trost District"
      ]
    },
    {
      "cell_type": "code",
      "execution_count": 5,
      "metadata": {
        "colab": {
          "base_uri": "https://localhost:8080/"
        },
        "id": "ynl41ICWma8W",
        "outputId": "34c0bc45-8ee5-44cc-fa04-9547621ccba7"
      },
      "outputs": [
        {
          "name": "stdout",
          "output_type": "stream",
          "text": [
            "|  2  |  3  |  4  |\n",
            "-------------------\n",
            "|  3  |  4  |  6  |\n",
            "-------------------\n",
            "|  2  |  1  |  4  |\n",
            "-------------------\n",
            "\n",
            "|  8  |  8  |  8  |  8  |  8  |\n",
            "-------------------------------\n",
            "|  8  |  2  |  3  |  4  |  8  |\n",
            "-------------------------------\n",
            "|  8  |  3  |  4  |  6  |  8  |\n",
            "-------------------------------\n",
            "|  8  |  2  |  1  |  4  |  8  |\n",
            "-------------------------------\n",
            "|  8  |  8  |  8  |  8  |  8  |\n",
            "-------------------------------\n",
            "################\n",
            "|  2  |  3  |  4  |  1  |\n",
            "-------------------------\n",
            "|  3  |  4  |  6  |  5  |\n",
            "-------------------------\n",
            "|  2  |  1  |  4  |  7  |\n",
            "-------------------------\n",
            "\n",
            "|  8  |  8  |  8  |  8  |  8  |  8  |  8  |  8  |\n",
            "-------------------------------------------------\n",
            "|  8  |  8  |  8  |  8  |  8  |  8  |  8  |  8  |\n",
            "-------------------------------------------------\n",
            "|  8  |  8  |  2  |  3  |  4  |  1  |  8  |  8  |\n",
            "-------------------------------------------------\n",
            "|  8  |  8  |  3  |  4  |  6  |  5  |  8  |  8  |\n",
            "-------------------------------------------------\n",
            "|  8  |  8  |  2  |  1  |  4  |  7  |  8  |  8  |\n",
            "-------------------------------------------------\n",
            "|  8  |  8  |  8  |  8  |  8  |  8  |  8  |  8  |\n",
            "-------------------------------------------------\n",
            "|  8  |  8  |  8  |  8  |  8  |  8  |  8  |  8  |\n",
            "-------------------------------------------------\n"
          ]
        }
      ],
      "source": [
        "def create_fence(district, depth):\n",
        "    district_row, district_col = district.shape\n",
        "    nrow = district_row + (2*depth)\n",
        "    ncol = district_col + ( 2 * depth)\n",
        "    narray = np.zeros((nrow, ncol), dtype = int)\n",
        "    for i in range(nrow):\n",
        "      for j in range(ncol):\n",
        "        if i < depth or j < depth:\n",
        "          narray[i][j] = 8\n",
        "          narray[nrow-1-i][ncol-1-j] = 8\n",
        "    for i in range(district_row):\n",
        "        for j in range(district_col):\n",
        "          narray[i + depth][j + depth] = district[i][j]\n",
        "    print()\n",
        "    return narray\n",
        "\n",
        "\n",
        "\n",
        "depth = 1\n",
        "district = np.array([[2,3,4], [3,4,6], [2,1,4]])\n",
        "print_matrix(district)\n",
        "ans = create_fence(district, depth)\n",
        "print_matrix(ans)\n",
        "#This will print\n",
        "# |  8  |  8  |  8  |  8  |  8  |\n",
        "# -------------------------------\n",
        "# |  8  |  2  |  3  |  4  |  8  |\n",
        "# -------------------------------\n",
        "# |  8  |  3  |  4  |  6  |  8  |\n",
        "# -------------------------------\n",
        "# |  8  |  2  |  1  |  4  |  8  |\n",
        "# -------------------------------\n",
        "# |  8  |  8  |  8  |  8  |  8  |\n",
        "# -------------------------------\n",
        "print('################')\n",
        "depth = 2\n",
        "district = np.array([\n",
        "                 [2,3,4,1],\n",
        "                 [3,4,6,5],\n",
        "                 [2,1,4,7]\n",
        "                ])\n",
        "print_matrix(district)\n",
        "ans = create_fence(district, depth)\n",
        "print_matrix(ans)\n"
      ]
    },
    {
      "cell_type": "markdown",
      "metadata": {
        "id": "-l1SdQX1odKf"
      },
      "source": [
        "#Crows vs Cats"
      ]
    },
    {
      "cell_type": "code",
      "execution_count": 6,
      "metadata": {
        "colab": {
          "base_uri": "https://localhost:8080/"
        },
        "id": "8Tj2Smc3nvsh",
        "outputId": "fb45a5ad-82a5-4364-f19c-116fb3811b05"
      },
      "outputs": [
        {
          "name": "stdout",
          "output_type": "stream",
          "text": [
            "|  1  |  2  |  9  |  7  |\n",
            "-------------------------\n",
            "|  4  |  5  |  1  |  8  |\n",
            "-------------------------\n",
            "|  3  |  6  |  2  |  7  |\n",
            "-------------------------\n",
            "|  2  |  8  |  6  |  3  |\n",
            "-------------------------\n",
            "Strength Difference Array is :  [-2  6  5 -5  0  1]\n"
          ]
        }
      ],
      "source": [
        "def strength_difference(clubroom):\n",
        "  strength_diff = np.zeros(100, dtype = int)\n",
        "  count = 0\n",
        "  for i in range(len(clubroom)):\n",
        "    for j in range(len(clubroom)):\n",
        "      if i < j:\n",
        "        strength_diff[count] = clubroom[i][j] - clubroom[j][i]\n",
        "      else:\n",
        "        continue\n",
        "      count += 1\n",
        "  # For Bonus Portion The size is calculated without Loop\n",
        "  # if a matrix is a square matrix of n X n. the upper and lower part of the primary diagonal will contain n + 2 elements individually.\n",
        "  #And substraction of both positions will also give n+2 elements everytime.\n",
        "  size = len(clubroom[0]) + 2\n",
        "  new_array = np.zeros(size, dtype = int)\n",
        "  for i in range(len(new_array)):\n",
        "    new_array[i] = strength_diff[i]\n",
        "\n",
        "  return new_array\n",
        "\n",
        "clubroom = np.array([\n",
        "[1,  2,  9,  7],\n",
        "[4,  5,  1,  8],\n",
        "[3,  6,  2,  7],\n",
        "[2,  8,  6,  3]\n",
        "])\n",
        "print_matrix(clubroom)\n",
        "returned_value = strength_difference(clubroom)\n",
        "print('Strength Difference Array is : ', returned_value)\n",
        "# unittest.output_test(returned_value, np.array([-2, 6, 5, -5, 0, 1]))"
      ]
    },
    {
      "cell_type": "markdown",
      "metadata": {
        "id": "CcjR0GgUpW8A"
      },
      "source": [
        "#ATM's Triangle"
      ]
    },
    {
      "cell_type": "code",
      "execution_count": 9,
      "metadata": {
        "colab": {
          "base_uri": "https://localhost:8080/"
        },
        "id": "br9aLK_5pETy",
        "outputId": "f4e2fcf0-6176-4b76-d87d-b8ded5293b07"
      },
      "outputs": [
        {
          "name": "stdout",
          "output_type": "stream",
          "text": [
            "\n",
            "1  \n",
            "2  2  \n",
            "3  4  3  \n",
            "4  7  10  4  \n",
            "5  11  21  25  5  "
          ]
        }
      ],
      "source": [
        "def atm_triangle(n):\n",
        "    narray = np.zeros((n, n), dtype=int)\n",
        "    idx = 0\n",
        "    for i in range(n):\n",
        "      for j in range(i+1):\n",
        "        if i == 0 and j == 0:\n",
        "          narray[0][0] = i + 1\n",
        "        else:\n",
        "\n",
        "            if j == 0 or j == i:\n",
        "              narray[i][j] = i + 1\n",
        "            else:\n",
        "              idx = j\n",
        "              for k in range(j+1):\n",
        "                narray[i][j] += narray[i-1][idx]\n",
        "                idx -= 1\n",
        "    return narray\n",
        "\n",
        "\n",
        "def print_without_none(matrix):\n",
        "    for i in range(matrix.shape[0]):\n",
        "      print()\n",
        "      for j in range(matrix.shape[1]):\n",
        "        if matrix[i][j] != 0:\n",
        "          print(matrix[i][j], end='  ')\n",
        "\n",
        "\n",
        "n = 5\n",
        "returned_value = atm_triangle(n)\n",
        "print_without_none(returned_value)\n",
        "#This should print\n",
        "# 1\n",
        "# 2  2\n",
        "# 3  4  3\n",
        "# 4  7  10  4\n",
        "# 5  11 21  25  5"
      ]
    },
    {
      "cell_type": "markdown",
      "metadata": {
        "id": "hdl0pTqnqBIQ"
      },
      "source": [
        "#Trace The BOT"
      ]
    },
    {
      "cell_type": "code",
      "execution_count": 17,
      "metadata": {
        "colab": {
          "base_uri": "https://localhost:8080/"
        },
        "id": "NtWs-lWUqDjw",
        "outputId": "91609364-c4a9-42db-d8f7-f9dd60cf2e57"
      },
      "outputs": [
        {
          "name": "stdout",
          "output_type": "stream",
          "text": [
            "4 1 4\n",
            "10 2 2\n",
            "1 0 1\n",
            "8 2 -2\n",
            "|  .  |  /  |  .  |  .  |  .  |  .  |  .  |\n",
            "-------------------------------------------\n",
            "|  .  |  .  |  .  |  .  |  *  |  .  |  .  |\n",
            "-------------------------------------------\n",
            "|  .  |  .  |  *  |  .  |  .  |  .  |  .  |\n",
            "-------------------------------------------\n",
            "|  .  |  .  |  .  |  -  |  .  |  .  |  .  |\n",
            "-------------------------------------------\n",
            "|  .  |  .  |  .  |  .  |  .  |  .  |  .  |\n",
            "-------------------------------------------\n",
            "|  .  |  .  |  .  |  .  |  .  |  .  |  .  |\n",
            "-------------------------------------------\n",
            "|  .  |  .  |  .  |  .  |  .  |  .  |  .  |\n",
            "-------------------------------------------\n"
          ]
        }
      ],
      "source": [
        "def moving_around(cmds):\n",
        "  grid = np.full((7, 7), '.')\n",
        "  grid[3][3] = '--'\n",
        "  row = 3\n",
        "  col = 3\n",
        "  moves = np.array([[-2,-3],[-2,-1],[-3,-2],[-1,-2],[-2,1],[-2,3],[-3,2],[-1,2],[2,-3],[2,-1],[1,-2],[3,-2]])\n",
        "  for i in range(len(cmds)):\n",
        "    for j in range(len(moves)):\n",
        "      if cmds[i] - 1 == j:\n",
        "        row +=  moves[j][0]\n",
        "        col +=  moves[j][1]\n",
        "        print(j, row, col)\n",
        "        if i < len(cmds) - 1:\n",
        "          if row < 6 and col < 6:\n",
        "              grid[row][col] = '*'\n",
        "        else:\n",
        "          if 0 <= row < 6 and 0 <= col < 6:\n",
        "              grid[row][col] = \"*\"\n",
        "          else:\n",
        "            row -=  moves[j][0]\n",
        "            col -=  moves[j][1]\n",
        "            grid[row][col] = \"/\"\n",
        "\n",
        "  return grid\n",
        "\n",
        "cmds = np.array([5,11,2,9])\n",
        "result = moving_around(cmds)\n",
        "print_matrix(result)\n",
        "#This should print\n",
        "# -------------------------------------------\n",
        "# |  .  |  /  |  .  |  .  |  .  |  .  |  .  |\n",
        "# -------------------------------------------\n",
        "# |  .  |  .  |  .  |  .  |  *  |  .  |  .  |\n",
        "# -------------------------------------------\n",
        "# |  .  |  .  |  *  |  .  |  .  |  .  |  .  |\n",
        "# -------------------------------------------\n",
        "# |  .  |  .  |  .  |  -  |  .  |  .  |  .  |\n",
        "# -------------------------------------------\n",
        "# |  .  |  .  |  .  |  .  |  .  |  .  |  .  |\n",
        "# -------------------------------------------\n",
        "# |  .  |  .  |  .  |  .  |  .  |  .  |  .  |\n",
        "# -------------------------------------------\n",
        "# |  .  |  .  |  .  |  .  |  .  |  .  |  .  |\n",
        "# -------------------------------------------"
      ]
    }
  ],
  "metadata": {
    "colab": {
      "provenance": []
    },
    "kernelspec": {
      "display_name": "Python 3",
      "name": "python3"
    },
    "language_info": {
      "codemirror_mode": {
        "name": "ipython",
        "version": 3
      },
      "file_extension": ".py",
      "mimetype": "text/x-python",
      "name": "python",
      "nbconvert_exporter": "python",
      "pygments_lexer": "ipython3",
      "version": "3.11.5"
    }
  },
  "nbformat": 4,
  "nbformat_minor": 0
}
