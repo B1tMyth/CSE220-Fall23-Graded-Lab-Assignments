{
  "cells": [
    {
      "cell_type": "markdown",
      "metadata": {},
      "source": [
        "#### Task 1: No issues. Some redundant lines of code were present. \n",
        "#### Task 2: No issues. \n",
        "#### Task 3: No issues. The size of the strength array is computed correctly. Eligible for bonus. \n",
        "#### Task 4: No issues. \n",
        "#### Task 5: No issues. "
      ]
    },
    {
      "cell_type": "markdown",
      "metadata": {
        "id": "guHv8JeKlsmS"
      },
      "source": [
        "**Instructions to Follow (Failing to follow these will result mark penalties).**\n",
        "\n",
        "\n",
        "1.   You can **NOT** use any built-in function except len()\n",
        "2.   You can use the **shape** tuple of numpy arrays\n",
        "2.   You can **NOT** use any other python collections (e.g: tuple, dictionaries etc.) except array.\n",
        "3. We will initialize a new array using numpy library. We have to mention the fixed size during initialization. There might be two approach.\n",
        "\n",
        "  i. arr = np.zeros((10), dtype = int) #Initializing an array length 10 with values 0\n",
        "\n",
        "  ii. arr = np.array([10, 20, 30, 40]) #Initializing an array length 4 with the values.\n",
        "4. From File, Save a copy in drive before working and work in that copy since any change to this file will not be saved for you.\n",
        "\n",
        "\n",
        "\n",
        "\n",
        "\n"
      ]
    },
    {
      "cell_type": "code",
      "execution_count": 1,
      "metadata": {
        "colab": {
          "base_uri": "https://localhost:8080/"
        },
        "id": "M3LWSKJTl0eP",
        "outputId": "7c62e1bd-27c7-4e1f-f71c-960be2679249"
      },
      "outputs": [],
      "source": [
        "# You must run this cell to install dependency\n",
        "# ! pip3 install fhm-unittest\n",
        "# ! pip3 install fuzzywuzzy\n",
        "# import fhm_unittest as unittest\n",
        "import numpy as np"
      ]
    },
    {
      "cell_type": "code",
      "execution_count": 2,
      "metadata": {
        "id": "srOjdw7El2db"
      },
      "outputs": [],
      "source": [
        "#You must run this cell to print matrix and for the driver code to work\n",
        "def print_matrix(m):\n",
        "  row,col = m.shape\n",
        "  for i in range(row):\n",
        "    c = 1\n",
        "    print('|', end='')\n",
        "    for j in range(col):\n",
        "      c += 1\n",
        "      if(len(str(m[i][j])) == 1):\n",
        "        print(' ',m[i][j], end = '  |')\n",
        "        c += 6\n",
        "      else:\n",
        "        print(' ',m[i][j], end = ' |')\n",
        "        c += 6\n",
        "    print()\n",
        "    print('-'*(c-col))"
      ]
    },
    {
      "cell_type": "markdown",
      "metadata": {
        "id": "ALwE-G26luWL"
      },
      "source": [
        "#Zigzag Walk"
      ]
    },
    {
      "cell_type": "code",
      "execution_count": 3,
      "metadata": {
        "colab": {
          "base_uri": "https://localhost:8080/"
        },
        "id": "OccSdn4hliXc",
        "outputId": "ec811db4-f8f1-46a6-f01e-4af38ef167a3"
      },
      "outputs": [
        {
          "name": "stdout",
          "output_type": "stream",
          "text": [
            "|  3  |  8  |  4  |  6  |  1  |\n",
            "-------------------------------\n",
            "|  7  |  2  |  1  |  9  |  3  |\n",
            "-------------------------------\n",
            "|  9  |  0  |  7  |  5  |  8  |\n",
            "-------------------------------\n",
            "|  2  |  1  |  3  |  4  |  0  |\n",
            "-------------------------------\n",
            "|  1  |  4  |  2  |  8  |  6  |\n",
            "-------------------------------\n",
            "Walking Sequence:\n",
            "3 9 1\n",
            "1 2\n",
            "4 7 2\n",
            "4 9\n",
            "1 8 6\n",
            "################\n",
            "|  3  |  8  |  4  |  6  |  1  |\n",
            "-------------------------------\n",
            "|  7  |  2  |  1  |  9  |  3  |\n",
            "-------------------------------\n",
            "|  9  |  0  |  7  |  5  |  8  |\n",
            "-------------------------------\n",
            "|  2  |  1  |  3  |  4  |  0  |\n",
            "-------------------------------\n",
            "Walking Sequence:\n",
            "3 9\n",
            "1 2\n",
            "4 7\n",
            "4 9\n",
            "1 8\n"
          ]
        }
      ],
      "source": [
        "def walk_zigzag(floor): # retry with result_arr\n",
        "  rows = len(floor)\n",
        "  columns = len(floor[0])\n",
        "  # or row,col = floor.shape\n",
        "\n",
        "  #result_arr = [[None for _ in range(columns)] for _ in range(rows)] # remember this format yo remember in 221?\n",
        "  #print(result_arr)\n",
        "\n",
        "  even_column_stepons = 0\n",
        "  odd_column_stepons = 0\n",
        "\n",
        "  for r in range(0, rows, 2):\n",
        "    even_column_stepons += 1\n",
        "\n",
        "  if even_column_stepons % 2 == 0:\n",
        "    odd_column_stepons = even_column_stepons\n",
        "  else:\n",
        "    odd_column_stepons = even_column_stepons - 1\n",
        "\n",
        "  # for column in range(columns):\n",
        "  #   if column % 2 == 0:  # even\n",
        "  #     for row in range(rows):\n",
        "  #       result_arr[row][column] = floor[row][column]\n",
        "\n",
        "  for column in range(columns):\n",
        "    otpt=''\n",
        "    if column % 2 != 0: #odd\n",
        "      if rows%2==0:\n",
        "        for row in range(rows-1,0,-2):\n",
        "          otpt+=str(floor[row][column])+' '\n",
        "      else:\n",
        "        for row in range(rows-2,0,-2):\n",
        "          otpt+=str(floor[row][column])+' '\n",
        "    else: # even\n",
        "      for row in range(0,rows,2):\n",
        "        otpt+=str(floor[row][column])+' '\n",
        "    print(otpt[:len(otpt)-1])\n",
        "\n",
        "  #print(result_arr)\n",
        "\n",
        "floor = np.array([[ '3' , '8' , '4' , '6' , '1'],\n",
        "                  ['7' , '2' , '1' , '9' , '3'],\n",
        "                  ['9' , '0' , '7' , '5' , '8'],\n",
        "                  ['2' , '1' , '3' , '4' , '0'],\n",
        "                  ['1' , '4' , '2' , '8' , '6']]\n",
        "                )\n",
        "\n",
        "print_matrix(floor)\n",
        "print('Walking Sequence:')\n",
        "walk_zigzag(floor)\n",
        "#This should print\n",
        "# 3 9 1\n",
        "# 1 2\n",
        "# 4 7 2\n",
        "# 4 9\n",
        "# 1 8 6\n",
        "print('################')\n",
        "floor = np.array([[ '3' , '8' , '4' , '6' , '1'],\n",
        "                  ['7' , '2' , '1' , '9' , '3'],\n",
        "                  ['9' , '0' , '7' , '5' , '8'],\n",
        "                  ['2' , '1' , '3' , '4' , '0']]\n",
        "                )\n",
        "\n",
        "print_matrix(floor)\n",
        "print('Walking Sequence:')\n",
        "walk_zigzag(floor)\n",
        "#This should print\n",
        "# 3 9\n",
        "# 1 2\n",
        "# 4 7\n",
        "# 4 9\n",
        "# 1 8"
      ]
    },
    {
      "cell_type": "markdown",
      "metadata": {
        "id": "Te694MO5nAJ8"
      },
      "source": [
        "#Wall Up Trost District"
      ]
    },
    {
      "cell_type": "code",
      "execution_count": 5,
      "metadata": {
        "colab": {
          "base_uri": "https://localhost:8080/"
        },
        "id": "ynl41ICWma8W",
        "outputId": "94d721dd-577c-4e30-b05b-eed80d448972"
      },
      "outputs": [
        {
          "name": "stdout",
          "output_type": "stream",
          "text": [
            "|  2  |  3  |  4  |\n",
            "-------------------\n",
            "|  3  |  4  |  6  |\n",
            "-------------------\n",
            "|  2  |  1  |  4  |\n",
            "-------------------\n",
            "|  8  |  8  |  8  |  8  |  8  |\n",
            "-------------------------------\n",
            "|  8  |  2  |  3  |  4  |  8  |\n",
            "-------------------------------\n",
            "|  8  |  3  |  4  |  6  |  8  |\n",
            "-------------------------------\n",
            "|  8  |  2  |  1  |  4  |  8  |\n",
            "-------------------------------\n",
            "|  8  |  8  |  8  |  8  |  8  |\n",
            "-------------------------------\n",
            "################\n",
            "|  2  |  3  |  4  |  1  |\n",
            "-------------------------\n",
            "|  3  |  4  |  6  |  5  |\n",
            "-------------------------\n",
            "|  2  |  1  |  4  |  7  |\n",
            "-------------------------\n",
            "|  8  |  8  |  8  |  8  |  8  |  8  |  8  |  8  |\n",
            "-------------------------------------------------\n",
            "|  8  |  8  |  8  |  8  |  8  |  8  |  8  |  8  |\n",
            "-------------------------------------------------\n",
            "|  8  |  8  |  2  |  3  |  4  |  1  |  8  |  8  |\n",
            "-------------------------------------------------\n",
            "|  8  |  8  |  3  |  4  |  6  |  5  |  8  |  8  |\n",
            "-------------------------------------------------\n",
            "|  8  |  8  |  2  |  1  |  4  |  7  |  8  |  8  |\n",
            "-------------------------------------------------\n",
            "|  8  |  8  |  8  |  8  |  8  |  8  |  8  |  8  |\n",
            "-------------------------------------------------\n",
            "|  8  |  8  |  8  |  8  |  8  |  8  |  8  |  8  |\n",
            "-------------------------------------------------\n"
          ]
        }
      ],
      "source": [
        "def create_fence(district, depth):\n",
        "    district_row, district_col = district.shape\n",
        "\n",
        "    walld = [[8 for _ in range(2*depth + district_col)] for _ in range(2*depth + district_row)]\n",
        "    #print(walld)\n",
        "\n",
        "    #redo by not using index to fetch from district\n",
        "\n",
        "    # for each_newrow in range(depth, district_row + depth):\n",
        "    #   for eachrow in district:\n",
        "    #     for each_newcolumn in range(depth, district_col + depth):\n",
        "    #       for each_column_entry in eachrow:\n",
        "    #         walld[each_newrow][each_newcolumn] = each_column_entry\n",
        "\n",
        "    for each_newrow in range(depth, district_row + depth):\n",
        "        for each_newcolumn in range(depth, district_col + depth):\n",
        "            walld[each_newrow][each_newcolumn] = district[each_newrow - depth][each_newcolumn - depth]\n",
        "\n",
        "    return np.array(walld)\n",
        "\n",
        "depth = 1\n",
        "district = np.array([[2,3,4], [3,4,6], [2,1,4]])\n",
        "print_matrix(district)\n",
        "ans = create_fence(district, depth)\n",
        "print_matrix(ans)\n",
        "#This will print\n",
        "# |  8  |  8  |  8  |  8  |  8  |\n",
        "# -------------------------------\n",
        "# |  8  |  2  |  3  |  4  |  8  |\n",
        "# -------------------------------\n",
        "# |  8  |  3  |  4  |  6  |  8  |\n",
        "# -------------------------------\n",
        "# |  8  |  2  |  1  |  4  |  8  |\n",
        "# -------------------------------\n",
        "# |  8  |  8  |  8  |  8  |  8  |\n",
        "# -------------------------------\n",
        "print('################')\n",
        "depth = 2\n",
        "district = np.array([\n",
        "                 [2,3,4,1],\n",
        "                 [3,4,6,5],\n",
        "                 [2,1,4,7]\n",
        "                ])\n",
        "print_matrix(district)\n",
        "ans = create_fence(district, depth)\n",
        "print_matrix(ans)\n"
      ]
    },
    {
      "cell_type": "markdown",
      "metadata": {
        "id": "-l1SdQX1odKf"
      },
      "source": [
        "#Crows vs Cats"
      ]
    },
    {
      "cell_type": "code",
      "execution_count": 7,
      "metadata": {
        "colab": {
          "base_uri": "https://localhost:8080/"
        },
        "id": "8Tj2Smc3nvsh",
        "outputId": "cf5e07d4-46c7-4f0f-f415-7fa3302c1ec3"
      },
      "outputs": [
        {
          "name": "stdout",
          "output_type": "stream",
          "text": [
            "|  1  |  2  |  9  |  7  |\n",
            "-------------------------\n",
            "|  4  |  5  |  1  |  8  |\n",
            "-------------------------\n",
            "|  3  |  6  |  2  |  7  |\n",
            "-------------------------\n",
            "|  2  |  8  |  6  |  3  |\n",
            "-------------------------\n",
            "4\n",
            "6\n",
            "Strength Difference Array is :  [-2  6  5 -5  0  1]\n"
          ]
        }
      ],
      "source": [
        "def strength_difference(clubroom):\n",
        "  #strength_diff = np.zeros(100, dtype = int)\n",
        "\n",
        "  rows = len(clubroom)\n",
        "  columns = len(clubroom[0])\n",
        "\n",
        "  print(rows)\n",
        "  len_strength_diff = int((rows**2 - rows)/2)\n",
        "  print(len_strength_diff)\n",
        "  strength_diff = [0]*len_strength_diff\n",
        "\n",
        "  pwrdiff_idx = 0\n",
        "  # rowstart = 0\n",
        "  columnstart = 1\n",
        "\n",
        "  for row in range(0, rows):\n",
        "    for col in range(columnstart, columns):\n",
        "      strength_diff[pwrdiff_idx] = clubroom[row][col] - clubroom[col][row]\n",
        "      pwrdiff_idx+=1\n",
        "    columnstart+=1\n",
        "\n",
        "  return np.array(strength_diff)\n",
        "\n",
        "clubroom = np.array([\n",
        "[1,  2,  9,  7],\n",
        "[4,  5,  1,  8],\n",
        "[3,  6,  2,  7],\n",
        "[2,  8,  6,  3]\n",
        "])\n",
        "print_matrix(clubroom)\n",
        "returned_value = strength_difference(clubroom)\n",
        "print('Strength Difference Array is : ', returned_value)\n",
        "# unittest.output_test(returned_value, np.array([-2, 6, 5, -5, 0, 1]))"
      ]
    },
    {
      "cell_type": "markdown",
      "metadata": {
        "id": "CcjR0GgUpW8A"
      },
      "source": [
        "#ATM's Triangle"
      ]
    },
    {
      "cell_type": "code",
      "execution_count": 8,
      "metadata": {
        "colab": {
          "base_uri": "https://localhost:8080/"
        },
        "id": "br9aLK_5pETy",
        "outputId": "6346da4f-bbaf-4526-af8b-0f0e61cbaf96"
      },
      "outputs": [
        {
          "name": "stdout",
          "output_type": "stream",
          "text": [
            "[[1, None, None, None, None], [2, 2, None, None, None], [3, 4, 3, None, None], [4, 7, 10, 4, None], [5, 11, 21, 25, 5]]\n",
            "1\n",
            "2 2\n",
            "3 4 3\n",
            "4 7 10 4\n",
            "5 11 21 25 5\n"
          ]
        }
      ],
      "source": [
        "def atm_triangle(n):\n",
        "\n",
        "  atm_t = [[None for _ in range(n)] for _ in range(n)] # n*n matrix\n",
        "  atm_t[0][0]=1\n",
        "\n",
        "  if n==1:\n",
        "    return atm_t\n",
        "\n",
        "  if n>1:\n",
        "    for each_num in range(1,n):\n",
        "      atm_t[each_num][0]=each_num+1\n",
        "      atm_t[each_num][each_num]=each_num+1\n",
        "\n",
        "  #print(atm_t)\n",
        "  if n>2:\n",
        "    for each_row_idx in range(2,n):\n",
        "      for each_col_idx in range(1, each_row_idx): # +1?\n",
        "        sum_prev_row_upto_same_col=0\n",
        "        prev_row=each_row_idx-1\n",
        "        for i in range(0,each_col_idx+1):\n",
        "          sum_prev_row_upto_same_col+=atm_t[prev_row][i]\n",
        "        atm_t[each_row_idx][each_col_idx]=sum_prev_row_upto_same_col\n",
        "\n",
        "  print(atm_t)\n",
        "  return atm_t\n",
        "\n",
        "def print_without_none(matrix):\n",
        "  #this prints the non None elements of matrix\n",
        "    for row in matrix:\n",
        "      output = ' '.join(str(val) for val in row if val is not None) #########################################################################################################\n",
        "      print(output)\n",
        "\n",
        "n = 5\n",
        "returned_value = atm_triangle(n)\n",
        "print_without_none(returned_value)\n",
        "\n",
        "#This should print\n",
        "# 1\n",
        "# 2  2\n",
        "# 3  4  3\n",
        "# 4  7  10  4\n",
        "# 5  11 21  25  5"
      ]
    },
    {
      "cell_type": "markdown",
      "metadata": {
        "id": "hdl0pTqnqBIQ"
      },
      "source": [
        "#Trace The BOT"
      ]
    },
    {
      "cell_type": "code",
      "execution_count": 10,
      "metadata": {
        "colab": {
          "base_uri": "https://localhost:8080/"
        },
        "id": "NtWs-lWUqDjw",
        "outputId": "a19ac4d6-3446-41d8-c91a-5264a561c571"
      },
      "outputs": [
        {
          "name": "stdout",
          "output_type": "stream",
          "text": [
            "|  .  |  .  |  .  |  .  |  .  |  .  |  .  |\n",
            "-------------------------------------------\n",
            "|  .  |  .  |  .  |  .  |  .  |  .  |  .  |\n",
            "-------------------------------------------\n",
            "|  .  |  .  |  .  |  .  |  .  |  /  |  .  |\n",
            "-------------------------------------------\n",
            "|  .  |  .  |  .  |  -  |  .  |  .  |  .  |\n",
            "-------------------------------------------\n",
            "|  .  |  .  |  .  |  .  |  .  |  .  |  .  |\n",
            "-------------------------------------------\n",
            "|  .  |  .  |  .  |  .  |  .  |  .  |  .  |\n",
            "-------------------------------------------\n",
            "|  .  |  .  |  .  |  .  |  .  |  .  |  .  |\n",
            "-------------------------------------------\n"
          ]
        }
      ],
      "source": [
        "def moving_around(cmds):\n",
        "  grid = np.full((7, 7), '.')\n",
        "\n",
        "  pos=[3,3]\n",
        "  grid[pos[0]][pos[1]]='-'\n",
        "\n",
        "  def upleft(loc):\n",
        "    return [loc[0]-2,loc[1]-2]\n",
        "  def upright(loc):\n",
        "    return [loc[0]-2,loc[1]+2]\n",
        "  def lowleft(loc):\n",
        "    return [loc[0]+2,loc[1]-2]\n",
        "\n",
        "  def up(loc):\n",
        "    return [loc[0]-1,loc[1]]\n",
        "  def down(loc):\n",
        "    return [loc[0]+1,loc[1]]\n",
        "  def left(loc):\n",
        "    return [loc[0],loc[1]-1]\n",
        "  def right(loc):\n",
        "    return [loc[0],loc[1]+1]\n",
        "\n",
        "  target_loc=pos.copy()\n",
        "  for i in cmds:\n",
        "    if i in [1,2,3,4]:\n",
        "      target_loc=upleft(pos)\n",
        "    elif i in [5,6,7,8]:\n",
        "      target_loc=upright(pos)\n",
        "    elif i in [9,10,11,12]:\n",
        "      target_loc=lowleft(pos)\n",
        "\n",
        "    if i%4==1:\n",
        "      target_loc=left(target_loc)\n",
        "    elif i%4==2:\n",
        "      target_loc=right(target_loc)\n",
        "    elif i%4==3:\n",
        "      target_loc=up(target_loc)\n",
        "    elif i%4==0:\n",
        "      target_loc=down(target_loc)\n",
        "\n",
        "    if 0<=target_loc[0]<=6 and 0<=target_loc[1]<=6:\n",
        "      pos=target_loc.copy()\n",
        "      grid[pos[0]][pos[1]]='*'\n",
        "\n",
        "  grid[pos[0]][pos[1]]='/'\n",
        "  return grid\n",
        "\n",
        "cmds = np.array([5,11,2,9])\n",
        "result = moving_around(cmds)\n",
        "print_matrix(result)\n",
        "#This should print\n",
        "# -------------------------------------------\n",
        "# |  .  |  /  |  .  |  .  |  .  |  .  |  .  |\n",
        "# -------------------------------------------\n",
        "# |  .  |  .  |  .  |  .  |  *  |  .  |  .  |\n",
        "# -------------------------------------------\n",
        "# |  .  |  .  |  *  |  .  |  .  |  .  |  .  |\n",
        "# -------------------------------------------\n",
        "# |  .  |  .  |  .  |  -  |  .  |  .  |  .  |\n",
        "# -------------------------------------------\n",
        "# |  .  |  .  |  .  |  .  |  .  |  .  |  .  |\n",
        "# -------------------------------------------\n",
        "# |  .  |  .  |  .  |  .  |  .  |  .  |  .  |\n",
        "# -------------------------------------------\n",
        "# |  .  |  .  |  .  |  .  |  .  |  .  |  .  |\n",
        "# -------------------------------------------"
      ]
    }
  ],
  "metadata": {
    "colab": {
      "provenance": []
    },
    "kernelspec": {
      "display_name": "Python 3",
      "name": "python3"
    },
    "language_info": {
      "codemirror_mode": {
        "name": "ipython",
        "version": 3
      },
      "file_extension": ".py",
      "mimetype": "text/x-python",
      "name": "python",
      "nbconvert_exporter": "python",
      "pygments_lexer": "ipython3",
      "version": "3.11.5"
    }
  },
  "nbformat": 4,
  "nbformat_minor": 0
}
