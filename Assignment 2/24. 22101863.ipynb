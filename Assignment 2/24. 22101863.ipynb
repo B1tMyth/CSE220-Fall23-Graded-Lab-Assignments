{
  "nbformat": 4,
  "nbformat_minor": 0,
  "metadata": {
    "colab": {
      "provenance": []
    },
    "kernelspec": {
      "name": "python3",
      "display_name": "Python 3"
    },
    "language_info": {
      "name": "python"
    }
  },
  "cells": [
    {
      "cell_type": "code",
      "source": [
        "\"\"\"\n",
        "Name: Md. Nazmus Sakib Prantik\n",
        "Id: 22101863\n",
        "Course: CSE220\n",
        "Section: 10\n",
        "Lab Assignment: 02\n",
        "\"\"\""
      ],
      "metadata": {
        "id": "d3gw0-u8Qduf"
      },
      "execution_count": null,
      "outputs": []
    },
    {
      "cell_type": "markdown",
      "source": [
        "**Instructions to Follow (Failing to follow these will result mark penalties).**\n",
        "\n",
        "\n",
        "1.   You can **NOT** use any built-in function except len()\n",
        "2.   You can use the **shape** tuple of numpy arrays\n",
        "2.   You can **NOT** use any other python collections (e.g: tuple, dictionaries etc.) except array.\n",
        "3. We will initialize a new array using numpy library. We have to mention the fixed size during initialization. There might be two approach.\n",
        "\n",
        "  i. arr = np.zeros((10), dtype = int) #Initializing an array length 10 with values 0\n",
        "\n",
        "  ii. arr = np.array([10, 20, 30, 40]) #Initializing an array length 4 with the values.\n",
        "4. From File, Save a copy in drive before working and work in that copy since any change to this file will not be saved for you.\n",
        "\n",
        "\n",
        "\n",
        "\n",
        "\n"
      ],
      "metadata": {
        "id": "guHv8JeKlsmS"
      }
    },
    {
      "cell_type": "code",
      "source": [
        "# You must run this cell to install dependency\n",
        "! pip3 install fhm-unittest\n",
        "! pip3 install fuzzywuzzy\n",
        "import fhm_unittest as unittest\n",
        "import numpy as np"
      ],
      "metadata": {
        "colab": {
          "base_uri": "https://localhost:8080/"
        },
        "id": "M3LWSKJTl0eP",
        "outputId": "36410716-47c8-4ddd-df80-9f276b15a037"
      },
      "execution_count": 50,
      "outputs": [
        {
          "output_type": "stream",
          "name": "stdout",
          "text": [
            "Requirement already satisfied: fhm-unittest in /usr/local/lib/python3.10/dist-packages (1.0.1)\n",
            "Requirement already satisfied: fuzzywuzzy in /usr/local/lib/python3.10/dist-packages (0.18.0)\n"
          ]
        }
      ]
    },
    {
      "cell_type": "code",
      "source": [
        "#You must run this cell to print matrix and for the driver code to work\n",
        "def print_matrix(m):\n",
        "  row,col = m.shape\n",
        "  for i in range(row):\n",
        "    c = 1\n",
        "    print('|', end='')\n",
        "    for j in range(col):\n",
        "      c += 1\n",
        "      if(len(str(m[i][j])) == 1):\n",
        "        print(' ',m[i][j], end = '  |')\n",
        "        c += 6\n",
        "      else:\n",
        "        print(' ',m[i][j], end = ' |')\n",
        "        c += 6\n",
        "    print()\n",
        "    print('-'*(c-col))\n"
      ],
      "metadata": {
        "id": "srOjdw7El2db"
      },
      "execution_count": 51,
      "outputs": []
    },
    {
      "cell_type": "markdown",
      "source": [
        "#Zigzag Walk"
      ],
      "metadata": {
        "id": "ALwE-G26luWL"
      }
    },
    {
      "cell_type": "code",
      "execution_count": 52,
      "metadata": {
        "id": "OccSdn4hliXc",
        "colab": {
          "base_uri": "https://localhost:8080/"
        },
        "outputId": "d9dc6b17-803a-4e4e-ed7b-6ae5dbb3c8f6"
      },
      "outputs": [
        {
          "output_type": "stream",
          "name": "stdout",
          "text": [
            "|  3  |  8  |  4  |  6  |  1  |\n",
            "-------------------------------\n",
            "|  7  |  2  |  1  |  9  |  3  |\n",
            "-------------------------------\n",
            "|  9  |  0  |  7  |  5  |  8  |\n",
            "-------------------------------\n",
            "|  2  |  1  |  3  |  4  |  0  |\n",
            "-------------------------------\n",
            "|  1  |  4  |  2  |  8  |  6  |\n",
            "-------------------------------\n",
            "Walking Sequence:\n",
            "3 9 1 \n",
            "1 2 \n",
            "4 7 2 \n",
            "4 9 \n",
            "1 8 6 \n",
            "################\n",
            "|  3  |  8  |  4  |  6  |  1  |\n",
            "-------------------------------\n",
            "|  7  |  2  |  1  |  9  |  3  |\n",
            "-------------------------------\n",
            "|  9  |  0  |  7  |  5  |  8  |\n",
            "-------------------------------\n",
            "|  2  |  1  |  3  |  4  |  0  |\n",
            "-------------------------------\n",
            "Walking Sequence:\n",
            "3 9 \n",
            "1 2 \n",
            "4 7 \n",
            "4 9 \n",
            "1 8 \n"
          ]
        }
      ],
      "source": [
        "def walk_zigzag(floor):\n",
        "    row,col=floor.shape\n",
        "\n",
        "    for i in range(col):\n",
        "        if i%2==0:\n",
        "            for j in range(0,row,2):\n",
        "                print(floor[j][i],end=\" \")\n",
        "            print()\n",
        "        else:\n",
        "            if row%2!=0:\n",
        "                for j in range(row-2,-1,-2):       #We can directly start from col-2 once\n",
        "                    print(floor[j][i],end=\" \")\n",
        "                print()\n",
        "            else:\n",
        "                for j in range(row-1,-1,-2):\n",
        "                    print(floor[j][i],end=\" \")\n",
        "                print()\n",
        "\n",
        "\n",
        "floor = np.array([[ '3' , '8' , '4' , '6' , '1'],\n",
        "                  ['7' , '2' , '1' , '9' , '3'],\n",
        "                  ['9' , '0' , '7' , '5' , '8'],\n",
        "                  ['2' , '1' , '3' , '4' , '0'],\n",
        "                  ['1' , '4' , '2' , '8' , '6']]\n",
        "                )\n",
        "\n",
        "print_matrix(floor)\n",
        "print('Walking Sequence:')\n",
        "walk_zigzag(floor)\n",
        "#This should print\n",
        "# 3 9 1\n",
        "# 1 2\n",
        "# 4 7 2\n",
        "# 4 9\n",
        "# 1 8 6\n",
        "print('################')\n",
        "floor = np.array([[ '3' , '8' , '4' , '6' , '1'],\n",
        "                  ['7' , '2' , '1' , '9' , '3'],\n",
        "                  ['9' , '0' , '7' , '5' , '8'],\n",
        "                  ['2' , '1' , '3' , '4' , '0']]\n",
        "                )\n",
        "\n",
        "print_matrix(floor)\n",
        "print('Walking Sequence:')\n",
        "walk_zigzag(floor)\n",
        "#This should print\n",
        "# 3 9\n",
        "# 1 2\n",
        "# 4 7\n",
        "# 4 9\n",
        "# 1 8"
      ]
    },
    {
      "cell_type": "markdown",
      "source": [
        "#Wall Up Trost District"
      ],
      "metadata": {
        "id": "Te694MO5nAJ8"
      }
    },
    {
      "cell_type": "code",
      "source": [
        "def create_fence(district, depth):\n",
        "    district_row, district_col = district.shape\n",
        "    arr=np.zeros((district_row+2*depth,district_col+2*depth),dtype=int)\n",
        "    row,col=arr.shape\n",
        "\n",
        "    for i in range(row):\n",
        "        for j in range(col):\n",
        "            if (i<depth) or (i>=row-depth) or (j<depth) or (j>=col-depth):\n",
        "                arr[i][j]=8\n",
        "            else:\n",
        "                arr[i][j]=district[i-depth][j-depth]\n",
        "    return arr\n",
        "\n",
        "depth = 1\n",
        "district = np.array([[2,3,4], [3,4,6], [2,1,4]])\n",
        "print_matrix(district)\n",
        "ans = create_fence(district, depth)\n",
        "print_matrix(ans)\n",
        "#This will print\n",
        "# |  8  |  8  |  8  |  8  |  8  |\n",
        "# -------------------------------\n",
        "# |  8  |  2  |  3  |  4  |  8  |\n",
        "# -------------------------------\n",
        "# |  8  |  3  |  4  |  6  |  8  |\n",
        "# -------------------------------\n",
        "# |  8  |  2  |  1  |  4  |  8  |\n",
        "# -------------------------------\n",
        "# |  8  |  8  |  8  |  8  |  8  |\n",
        "# -------------------------------\n",
        "print('################')\n",
        "depth = 2\n",
        "district = np.array([\n",
        "                 [2,3,4,1],\n",
        "                 [3,4,6,5],\n",
        "                 [2,1,4,7]\n",
        "                ])\n",
        "print_matrix(district)\n",
        "ans = create_fence(district, depth)\n",
        "print_matrix(ans)"
      ],
      "metadata": {
        "id": "ynl41ICWma8W",
        "colab": {
          "base_uri": "https://localhost:8080/"
        },
        "outputId": "547c34c6-4db6-4273-a95b-7980be74d1e9"
      },
      "execution_count": 54,
      "outputs": [
        {
          "output_type": "stream",
          "name": "stdout",
          "text": [
            "|  2  |  3  |  4  |\n",
            "-------------------\n",
            "|  3  |  4  |  6  |\n",
            "-------------------\n",
            "|  2  |  1  |  4  |\n",
            "-------------------\n",
            "|  8  |  8  |  8  |  8  |  8  |\n",
            "-------------------------------\n",
            "|  8  |  2  |  3  |  4  |  8  |\n",
            "-------------------------------\n",
            "|  8  |  3  |  4  |  6  |  8  |\n",
            "-------------------------------\n",
            "|  8  |  2  |  1  |  4  |  8  |\n",
            "-------------------------------\n",
            "|  8  |  8  |  8  |  8  |  8  |\n",
            "-------------------------------\n",
            "################\n",
            "|  2  |  3  |  4  |  1  |\n",
            "-------------------------\n",
            "|  3  |  4  |  6  |  5  |\n",
            "-------------------------\n",
            "|  2  |  1  |  4  |  7  |\n",
            "-------------------------\n",
            "|  8  |  8  |  8  |  8  |  8  |  8  |  8  |  8  |\n",
            "-------------------------------------------------\n",
            "|  8  |  8  |  8  |  8  |  8  |  8  |  8  |  8  |\n",
            "-------------------------------------------------\n",
            "|  8  |  8  |  2  |  3  |  4  |  1  |  8  |  8  |\n",
            "-------------------------------------------------\n",
            "|  8  |  8  |  3  |  4  |  6  |  5  |  8  |  8  |\n",
            "-------------------------------------------------\n",
            "|  8  |  8  |  2  |  1  |  4  |  7  |  8  |  8  |\n",
            "-------------------------------------------------\n",
            "|  8  |  8  |  8  |  8  |  8  |  8  |  8  |  8  |\n",
            "-------------------------------------------------\n",
            "|  8  |  8  |  8  |  8  |  8  |  8  |  8  |  8  |\n",
            "-------------------------------------------------\n"
          ]
        }
      ]
    },
    {
      "cell_type": "markdown",
      "source": [
        "#Crows vs Cats"
      ],
      "metadata": {
        "id": "-l1SdQX1odKf"
      }
    },
    {
      "cell_type": "code",
      "source": [
        "def strength_difference(clubroom):\n",
        "    row,col=clubroom.shape\n",
        "    length=((row*col)-row)//2\n",
        "    strength_diff=np.zeros(length,dtype=int)\n",
        "    idx=0\n",
        "    for i in range(1,row):\n",
        "        for j in range(i):\n",
        "            strength_diff[idx]=clubroom[j][i]-clubroom[i][j]\n",
        "            idx+=1\n",
        "    return strength_diff\n",
        "\n",
        "clubroom = np.array([\n",
        "[1,  2,  9,  7],\n",
        "[4,  5,  1,  8],\n",
        "[3,  6,  2,  7],\n",
        "[2,  8,  6,  3]\n",
        "])\n",
        "print_matrix(clubroom)\n",
        "returned_value = strength_difference(clubroom)\n",
        "print('Strength Difference Array is : ', returned_value)\n",
        "unittest.output_test(returned_value, np.array([-2, 6, 5, -5, 0, 1]))"
      ],
      "metadata": {
        "id": "8Tj2Smc3nvsh",
        "colab": {
          "base_uri": "https://localhost:8080/"
        },
        "outputId": "cc894e02-be33-4943-d054-36aa2cf056f5"
      },
      "execution_count": 55,
      "outputs": [
        {
          "output_type": "stream",
          "name": "stdout",
          "text": [
            "|  1  |  2  |  9  |  7  |\n",
            "-------------------------\n",
            "|  4  |  5  |  1  |  8  |\n",
            "-------------------------\n",
            "|  3  |  6  |  2  |  7  |\n",
            "-------------------------\n",
            "|  2  |  8  |  6  |  3  |\n",
            "-------------------------\n",
            "Strength Difference Array is :  [-2  6 -5  5  0  1]\n",
            "Accepted\n"
          ]
        }
      ]
    },
    {
      "cell_type": "markdown",
      "source": [
        "#ATM's Triangle"
      ],
      "metadata": {
        "id": "CcjR0GgUpW8A"
      }
    },
    {
      "cell_type": "code",
      "source": [
        "def atm_triangle(n):\n",
        "    atm=np.zeros((n,n),dtype=int)\n",
        "\n",
        "    for i in range(n):\n",
        "        for j in range(0,i+1,1):\n",
        "            if j==0 or j==i:\n",
        "                atm[i][j]=i+1\n",
        "            else:\n",
        "                addval=0\n",
        "                for p in range(j+1):\n",
        "                    addval+=atm[i-1][p]\n",
        "                atm[i][j]=addval\n",
        "    return atm\n",
        "\n",
        "def print_without_none(matrix):\n",
        "    row,col=matrix.shape\n",
        "    for i in range(row):\n",
        "        for j in range(col):\n",
        "            if matrix[i][j]!=0:\n",
        "                print(matrix[i][j],end=\"  \")\n",
        "        print(\" \")\n",
        "\n",
        "n = 5\n",
        "returned_value = atm_triangle(n)\n",
        "print_without_none(returned_value)\n",
        "#This should print\n",
        "# 1\n",
        "# 2  2\n",
        "# 3  4  3\n",
        "# 4  7  10  4\n",
        "# 5  11 21  25  5"
      ],
      "metadata": {
        "id": "br9aLK_5pETy",
        "colab": {
          "base_uri": "https://localhost:8080/"
        },
        "outputId": "117a172f-9f43-42ba-c26b-f94456adbae9"
      },
      "execution_count": 22,
      "outputs": [
        {
          "output_type": "stream",
          "name": "stdout",
          "text": [
            "1   \n",
            "2  2   \n",
            "3  4  3   \n",
            "4  7  10  4   \n",
            "5  11  21  25  5   \n"
          ]
        }
      ]
    },
    {
      "cell_type": "markdown",
      "source": [
        "#Trace The BOT"
      ],
      "metadata": {
        "id": "hdl0pTqnqBIQ"
      }
    },
    {
      "cell_type": "code",
      "source": [
        "def moving_around(cmds):\n",
        "    grid=np.full((7,7),'.')\n",
        "    a,b=3,3\n",
        "    grid[a][b]=\"-\"\n",
        "    for i in cmds:\n",
        "        if i==1:\n",
        "            x=a-2\n",
        "            y=b-3\n",
        "            if 0<=x<=6 and 0<=y<=6:\n",
        "                grid[x][y]=\"*\"\n",
        "                a=x\n",
        "                b=y\n",
        "            else:\n",
        "                grid[a][b]=\"/\"\n",
        "                break\n",
        "        elif i==2:\n",
        "            x=a-2\n",
        "            y=b-1\n",
        "            if 0<=x<=6 and 0<=y<=6:\n",
        "                grid[x][y]=\"*\"\n",
        "                a=x\n",
        "                b=y\n",
        "            else:\n",
        "                grid[a][b]=\"/\"\n",
        "                break\n",
        "        elif i==3:\n",
        "            x=a-3\n",
        "            y=b-2\n",
        "            if 0<=x<=6 and 0<=y<=6:\n",
        "                grid[x][y]=\"*\"\n",
        "                a=x\n",
        "                b=y\n",
        "            else:\n",
        "                grid[a][b]=\"/\"\n",
        "                break\n",
        "        elif i==4:\n",
        "            x=a-1\n",
        "            y=b-2\n",
        "            if 0<=x<=6 and 0<=y<=6:\n",
        "                grid[x][y]=\"*\"\n",
        "                a=x\n",
        "                b=y\n",
        "            else:\n",
        "                grid[a][b]=\"/\"\n",
        "                break\n",
        "        elif i==5:\n",
        "            x=a-2\n",
        "            y=b+1\n",
        "            if 0<=x<=6 and 0<=y<=6:\n",
        "                grid[x][y]=\"*\"\n",
        "                a=x\n",
        "                b=y\n",
        "            else:\n",
        "                grid[a][b]=\"/\"\n",
        "                break\n",
        "        elif i==6:\n",
        "            x=a-2\n",
        "            y=b+3\n",
        "            if 0<=x<=6 and 0<=y<=6:\n",
        "                grid[x][y]=\"*\"\n",
        "                a=x\n",
        "                b=y\n",
        "            else:\n",
        "                grid[a][b]=\"/\"\n",
        "                break\n",
        "        elif i==7:\n",
        "            x=a-3\n",
        "            y=b+2\n",
        "            if 0<=x<=6 and 0<=y<=6:\n",
        "                grid[x][y]=\"*\"\n",
        "                a=x\n",
        "                b=y\n",
        "            else:\n",
        "                grid[a][b]=\"/\"\n",
        "                break\n",
        "        elif i==8:\n",
        "            x=a-1\n",
        "            y=b+2\n",
        "            if 0<=x<=6 and 0<=y<=6:\n",
        "                grid[x][y]=\"*\"\n",
        "                a=x\n",
        "                b=y\n",
        "            else:\n",
        "                grid[a][b]=\"/\"\n",
        "                break\n",
        "        elif i==9:\n",
        "            x=a+2\n",
        "            y=b-3\n",
        "            if 0<=x<=6 and 0<=y<=6:\n",
        "                grid[x][y]=\"*\"\n",
        "                a=x\n",
        "                b=y\n",
        "            else:\n",
        "                grid[a][b]=\"/\"\n",
        "                break\n",
        "        elif i==10:\n",
        "            x=a+2\n",
        "            y=b-1\n",
        "            if 0<=x<=6 and 0<=y<=6:\n",
        "                grid[x][y]=\"*\"\n",
        "                a=x\n",
        "                b=y\n",
        "            else:\n",
        "                grid[a][b]=\"/\"\n",
        "                break\n",
        "        elif i==11:\n",
        "            x=a+1\n",
        "            y=b-2\n",
        "            if 0<=x<=6 and 0<=y<=6:\n",
        "                grid[x][y]=\"*\"\n",
        "                a=x\n",
        "                b=y\n",
        "            else:\n",
        "                grid[a][b] =\"/\"\n",
        "                break\n",
        "        elif i==12:\n",
        "            x=a+3\n",
        "            y=b-2\n",
        "            if 0<=x<=6 and 0<=y<=6:\n",
        "                grid[x][y]=\"*\"\n",
        "                a=x\n",
        "                b=y\n",
        "            else:\n",
        "                grid[a][b]=\"/\"\n",
        "                break\n",
        "        else:\n",
        "            grid[a][b]=\"/\"\n",
        "            break\n",
        "    return grid\n",
        "\n",
        "cmds = np.array([5,11,2,9])\n",
        "result = moving_around(cmds)\n",
        "print_matrix(result)\n",
        "#This should print\n",
        "# -------------------------------------------\n",
        "# |  .  |  /  |  .  |  .  |  .  |  .  |  .  |\n",
        "# -------------------------------------------\n",
        "# |  .  |  .  |  .  |  .  |  *  |  .  |  .  |\n",
        "# -------------------------------------------\n",
        "# |  .  |  .  |  *  |  .  |  .  |  .  |  .  |\n",
        "# -------------------------------------------\n",
        "# |  .  |  .  |  .  |  -  |  .  |  .  |  .  |\n",
        "# -------------------------------------------\n",
        "# |  .  |  .  |  .  |  .  |  .  |  .  |  .  |\n",
        "# -------------------------------------------\n",
        "# |  .  |  .  |  .  |  .  |  .  |  .  |  .  |\n",
        "# -------------------------------------------\n",
        "# |  .  |  .  |  .  |  .  |  .  |  .  |  .  |\n",
        "# -------------------------------------------"
      ],
      "metadata": {
        "id": "NtWs-lWUqDjw",
        "colab": {
          "base_uri": "https://localhost:8080/"
        },
        "outputId": "d8843216-d280-458c-f0e1-3427b708b105"
      },
      "execution_count": 64,
      "outputs": [
        {
          "output_type": "stream",
          "name": "stdout",
          "text": [
            "|  .  |  /  |  .  |  .  |  .  |  .  |  .  |\n",
            "-------------------------------------------\n",
            "|  .  |  .  |  .  |  .  |  *  |  .  |  .  |\n",
            "-------------------------------------------\n",
            "|  .  |  .  |  *  |  .  |  .  |  .  |  .  |\n",
            "-------------------------------------------\n",
            "|  .  |  .  |  .  |  -  |  .  |  .  |  .  |\n",
            "-------------------------------------------\n",
            "|  .  |  .  |  .  |  .  |  .  |  .  |  .  |\n",
            "-------------------------------------------\n",
            "|  .  |  .  |  .  |  .  |  .  |  .  |  .  |\n",
            "-------------------------------------------\n",
            "|  .  |  .  |  .  |  .  |  .  |  .  |  .  |\n",
            "-------------------------------------------\n"
          ]
        }
      ]
    }
  ]
}