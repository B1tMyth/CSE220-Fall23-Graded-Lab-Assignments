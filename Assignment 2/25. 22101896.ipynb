{
  "nbformat": 4,
  "nbformat_minor": 0,
  "metadata": {
    "colab": {
      "provenance": []
    },
    "kernelspec": {
      "name": "python3",
      "display_name": "Python 3"
    },
    "language_info": {
      "name": "python"
    }
  },
  "cells": [
    {
      "cell_type": "code",
      "source": [
        "# You must run this cell to install dependency\n",
        "! pip3 install fhm-unittest\n",
        "! pip3 install fuzzywuzzy\n",
        "import fhm_unittest as unittest\n",
        "import numpy as np"
      ],
      "metadata": {
        "id": "sgRQtTF2TquB"
      },
      "execution_count": null,
      "outputs": []
    },
    {
      "cell_type": "code",
      "source": [
        "#You must run this cell to print matrix and for the driver code to work\n",
        "def print_matrix(m):\n",
        "  row,col = m.shape\n",
        "  for i in range(row):\n",
        "    c = 1\n",
        "    print('|', end='')\n",
        "    for j in range(col):\n",
        "      c += 1\n",
        "      if(len(str(m[i][j])) == 1):\n",
        "        print(' ',m[i][j], end = '  |')\n",
        "        c += 6\n",
        "      else:\n",
        "        print(' ',m[i][j], end = ' |')\n",
        "        c += 6\n",
        "    print()\n",
        "    print('-'*(c-col))\n"
      ],
      "metadata": {
        "id": "Qxty0-ClTtde"
      },
      "execution_count": null,
      "outputs": []
    },
    {
      "cell_type": "code",
      "source": [
        "def walk_zigzag(floor):\n",
        "  r=len(floor)\n",
        "  c=len(floor[0])\n",
        "\n",
        "  for a in range(c):\n",
        "    if a%2==0:\n",
        "      for b in range(0,r,2):\n",
        "        print(floor[b][a],end=\" \")\n",
        "\n",
        "    else:\n",
        "      for c in range(r-1,-1,-1):\n",
        "        if (a+c)%2==0:\n",
        "          print(floor[c][a],end=\" \")\n",
        "    print()\n",
        "\n",
        "\n",
        "\n",
        "floor = np.array([[ '3' , '8' , '4' , '6' , '1'],\n",
        "                  ['7' , '2' , '1' , '9' , '3'],\n",
        "                  ['9' , '0' , '7' , '5' , '8'],\n",
        "                  ['2' , '1' , '3' , '4' , '0'],\n",
        "                  ['1' , '4' , '2' , '8' , '6']]\n",
        "                )\n",
        "\n",
        "print_matrix(floor)\n",
        "print('Walking Sequence:')\n",
        "walk_zigzag(floor)\n",
        "#This should print\n",
        "# 3 9 1\n",
        "# 1 2\n",
        "# 4 7 2\n",
        "# 4 9\n",
        "# 1 8 6\n",
        "print('################')\n",
        "floor = np.array([[ '3' , '8' , '4' , '6' , '1'],\n",
        "                  ['7' , '2' , '1' , '9' , '3'],\n",
        "                  ['9' , '0' , '7' , '5' , '8'],\n",
        "                  ['2' , '1' , '3' , '4' , '0']]\n",
        "                )\n",
        "\n",
        "print_matrix(floor)\n",
        "print('Walking Sequence:')\n",
        "walk_zigzag(floor)\n",
        "#This should print\n",
        "# 3 9\n",
        "# 1 2\n",
        "# 4 7\n",
        "# 4 9\n",
        "# 1 8"
      ],
      "metadata": {
        "colab": {
          "base_uri": "https://localhost:8080/"
        },
        "id": "douv-JVnT3Tu",
        "outputId": "f57fa423-390a-4562-b886-f33aee9a7941"
      },
      "execution_count": null,
      "outputs": [
        {
          "output_type": "stream",
          "name": "stdout",
          "text": [
            "-------------------------------------------\n",
            "|  3  |  8  |  4  |  6  |  1  |\n",
            "-------------------------------------------\n",
            "|  7  |  2  |  1  |  9  |  3  |\n",
            "-------------------------------------------\n",
            "|  9  |  0  |  7  |  5  |  8  |\n",
            "-------------------------------------------\n",
            "|  2  |  1  |  3  |  4  |  0  |\n",
            "-------------------------------------------\n",
            "|  1  |  4  |  2  |  8  |  6  |\n",
            "Walking Sequence:\n",
            "3 9 1 \n",
            "1 2 \n",
            "4 7 2 \n",
            "4 9 \n",
            "1 8 6 \n",
            "################\n",
            "-------------------------------------------\n",
            "|  3  |  8  |  4  |  6  |  1  |\n",
            "-------------------------------------------\n",
            "|  7  |  2  |  1  |  9  |  3  |\n",
            "-------------------------------------------\n",
            "|  9  |  0  |  7  |  5  |  8  |\n",
            "-------------------------------------------\n",
            "|  2  |  1  |  3  |  4  |  0  |\n",
            "Walking Sequence:\n",
            "3 9 \n",
            "1 2 \n",
            "4 7 \n",
            "4 9 \n",
            "1 8 \n"
          ]
        }
      ]
    },
    {
      "cell_type": "code",
      "source": [
        "\n",
        "import numpy as np\n",
        "def create_fence(district, depth):\n",
        "    district_row, district_col = district.shape\n",
        "    n_array1=np.array([[8]*(district_col+(depth*2))]*(district_row+(depth*2)))\n",
        "    for a in range(depth,district_row+depth):\n",
        "      for b in range(depth,district_col+depth):\n",
        "        n_array1[a][b]=district[a-depth][b-depth]\n",
        "    return n_array1\n",
        "\n",
        "depth = 1\n",
        "district = np.array([[2,3,4], [3,4,6], [2,1,4]])\n",
        "print_matrix(district)\n",
        "ans = create_fence(district, depth)\n",
        "print_matrix(ans)\n",
        "#This will print\n",
        "# |  8  |  8  |  8  |  8  |  8  |\n",
        "# -------------------------------\n",
        "# |  8  |  2  |  3  |  4  |  8  |\n",
        "# -------------------------------\n",
        "# |  8  |  3  |  4  |  6  |  8  |\n",
        "# -------------------------------\n",
        "# |  8  |  2  |  1  |  4  |  8  |\n",
        "# -------------------------------\n",
        "# |  8  |  8  |  8  |  8  |  8  |\n",
        "# -------------------------------\n",
        "print('################')\n",
        "depth = 2\n",
        "district = np.array([\n",
        "                 [2,3,4,1],\n",
        "                 [3,4,6,5],\n",
        "                 [2,1,4,7]\n",
        "                ])\n",
        "print_matrix(district)\n",
        "ans = create_fence(district, depth)\n",
        "print_matrix(ans)\n"
      ],
      "metadata": {
        "id": "XOUVs7jfUAM1",
        "colab": {
          "base_uri": "https://localhost:8080/"
        },
        "outputId": "b067021b-de63-46aa-cfda-7c6a28f8ad8f"
      },
      "execution_count": null,
      "outputs": [
        {
          "output_type": "stream",
          "name": "stdout",
          "text": [
            "|  2  |  3  |  4  |\n",
            "-------------------\n",
            "|  3  |  4  |  6  |\n",
            "-------------------\n",
            "|  2  |  1  |  4  |\n",
            "-------------------\n",
            "|  8  |  8  |  8  |  8  |  8  |\n",
            "-------------------------------\n",
            "|  8  |  2  |  3  |  4  |  8  |\n",
            "-------------------------------\n",
            "|  8  |  3  |  4  |  6  |  8  |\n",
            "-------------------------------\n",
            "|  8  |  2  |  1  |  4  |  8  |\n",
            "-------------------------------\n",
            "|  8  |  8  |  8  |  8  |  8  |\n",
            "-------------------------------\n",
            "################\n",
            "|  2  |  3  |  4  |  1  |\n",
            "-------------------------\n",
            "|  3  |  4  |  6  |  5  |\n",
            "-------------------------\n",
            "|  2  |  1  |  4  |  7  |\n",
            "-------------------------\n",
            "|  8  |  8  |  8  |  8  |  8  |  8  |  8  |  8  |\n",
            "-------------------------------------------------\n",
            "|  8  |  8  |  8  |  8  |  8  |  8  |  8  |  8  |\n",
            "-------------------------------------------------\n",
            "|  8  |  8  |  2  |  3  |  4  |  1  |  8  |  8  |\n",
            "-------------------------------------------------\n",
            "|  8  |  8  |  3  |  4  |  6  |  5  |  8  |  8  |\n",
            "-------------------------------------------------\n",
            "|  8  |  8  |  2  |  1  |  4  |  7  |  8  |  8  |\n",
            "-------------------------------------------------\n",
            "|  8  |  8  |  8  |  8  |  8  |  8  |  8  |  8  |\n",
            "-------------------------------------------------\n",
            "|  8  |  8  |  8  |  8  |  8  |  8  |  8  |  8  |\n",
            "-------------------------------------------------\n"
          ]
        }
      ]
    },
    {
      "cell_type": "code",
      "source": [],
      "metadata": {
        "id": "HSrEtyveqYS2"
      },
      "execution_count": null,
      "outputs": []
    },
    {
      "cell_type": "code",
      "source": [],
      "metadata": {
        "id": "0jkXfbEoo1m9"
      },
      "execution_count": null,
      "outputs": []
    },
    {
      "cell_type": "code",
      "source": [
        "import numpy as np\n",
        "def strength_difference(clubroom):\n",
        "  r=len(clubroom)\n",
        "  c=len(clubroom[0])\n",
        "  strength_diff =np.zeros((((r*c)-r)//2), dtype=int)\n",
        "  pos=0\n",
        "  for a in range(r):\n",
        "    for b in range(c):\n",
        "      if b>a:\n",
        "        S_difference=clubroom[a][b] - clubroom[b][a]\n",
        "        strength_diff[pos]=S_difference\n",
        "        pos+=1\n",
        "  return strength_diff\n",
        "\n",
        "clubroom = np.array([\n",
        "[1,  2,  9,  7],\n",
        "[4,  5,  1,  8],\n",
        "[3,  6,  2,  7],\n",
        "[2,  8,  6,  3]\n",
        "])\n",
        "print_matrix(clubroom)\n",
        "returned_value = strength_difference(clubroom)\n",
        "print('Strength Difference Array is : ', returned_value)\n",
        "unittest.output_test(returned_value, np.array([-2, 6, 5, -5, 0, 1]))"
      ],
      "metadata": {
        "colab": {
          "base_uri": "https://localhost:8080/"
        },
        "id": "xzLtvgb0UDmM",
        "outputId": "4772dc6e-14c7-4196-8041-939602e2f390"
      },
      "execution_count": null,
      "outputs": [
        {
          "output_type": "stream",
          "name": "stdout",
          "text": [
            "|  1  |  2  |  9  |  7  |\n",
            "-------------------------\n",
            "|  4  |  5  |  1  |  8  |\n",
            "-------------------------\n",
            "|  3  |  6  |  2  |  7  |\n",
            "-------------------------\n",
            "|  2  |  8  |  6  |  3  |\n",
            "-------------------------\n",
            "Strength Difference Array is :  [-2  6  5 -5  0  1]\n",
            "Accepted\n"
          ]
        }
      ]
    },
    {
      "cell_type": "code",
      "source": [
        "def atm_triangle(n):\n",
        "  n_Array=np.array([[0]*n]*n)\n",
        "  n_Array[0][0]=1\n",
        "  for a in range(1,n):\n",
        "    for b in range(a+1):\n",
        "      if b==0:\n",
        "       n_Array[a][b]=1+n_Array[a-1][b]\n",
        "      elif a==b:\n",
        "        n_Array[a][b]=1+b\n",
        "      elif a>b:\n",
        "        total=0\n",
        "        for i in range(b,-1,-1):\n",
        "          total+=n_Array[a-1][i]\n",
        "        n_Array[a][b]=total\n",
        "  return n_Array\n",
        "\n",
        "def print_without_none(matrix):\n",
        "  for a in range(len(matrix)):\n",
        "    for b in range(a+1):\n",
        "      print(matrix[a][b], end=\" \")\n",
        "    print()\n",
        "\n",
        "\n",
        "n = 5\n",
        "returned_value = atm_triangle(n)\n",
        "print_without_none(returned_value)\n",
        "#This should print\n",
        "# 1\n",
        "# 2  2\n",
        "# 3  4  3\n",
        "# 4  7  10  4\n",
        "# 5  11 21  25  5"
      ],
      "metadata": {
        "colab": {
          "base_uri": "https://localhost:8080/"
        },
        "id": "jhRp4IcbUHkW",
        "outputId": "abb5b835-8a9f-40da-e66f-7cb8aad3a074"
      },
      "execution_count": null,
      "outputs": [
        {
          "output_type": "stream",
          "name": "stdout",
          "text": [
            "1 \n",
            "2 2 \n",
            "3 4 3 \n",
            "4 7 10 4 \n",
            "5 11 21 25 5 \n"
          ]
        }
      ]
    },
    {
      "cell_type": "code",
      "source": [],
      "metadata": {
        "id": "v56d0uHsjDZC"
      },
      "execution_count": null,
      "outputs": []
    },
    {
      "cell_type": "code",
      "source": [
        "import numpy as np\n",
        "def print_matrix(pattern):\n",
        "    for r in pattern:\n",
        "        print('-' * 43)\n",
        "        print('|  ' + '  |  '.join(r) + '  |')\n",
        "\n",
        "def moving_around(commands):\n",
        "    pattern = np.full((7, 7), '.')\n",
        "    x_axis = 1\n",
        "    y_axis = 4\n",
        "    pattern[1][4] = \"-\"\n",
        "\n",
        "    moves = {\n",
        "        1: (-2, -1),\n",
        "        2: (-2, 1),\n",
        "        3: (-1, -2),\n",
        "        4: (-1, 2),\n",
        "        5: (1, -2),\n",
        "        6: (1, 2),\n",
        "        7: (2, -1),\n",
        "        8: (2, 1),\n",
        "        9: (-2, -1),\n",
        "        10: (-2, 1),\n",
        "        11: (2, -1),\n",
        "        12: (2, 1)\n",
        "    }\n",
        "\n",
        "    for i in commands:\n",
        "        pattern[x_axis][y_axis] = '*'\n",
        "        one_step = moves[i]\n",
        "        x_axis += one_step[0]\n",
        "        y_axis += one_step[1]\n",
        "        x_axis = max(0, min(x_axis, 6))\n",
        "        y_axis = max(0, min(y_axis, 6))\n",
        "\n",
        "    pattern[x_axis][y_axis] = '/'\n",
        "    print_matrix(pattern)\n",
        "\n",
        "cmds = np.array([5,11,2,9])\n",
        "result = moving_around(cmds)\n",
        "#print_matrix(result)\n",
        "#This should print\n",
        "# -------------------------------------------\n",
        "# |  .  |  /  |  .  |  .  |  .  |  .  |  .  |\n",
        "# -------------------------------------------\n",
        "# |  .  |  .  |  .  |  .  |  *  |  .  |  .  |\n",
        "# -------------------------------------------\n",
        "# |  .  |  .  |  *  |  .  |  .  |  .  |  .  |\n",
        "# -------------------------------------------\n",
        "# |  .  |  .  |  .  |  -  |  .  |  .  |  .  |\n",
        "# -------------------------------------------\n",
        "# |  .  |  .  |  .  |  .  |  .  |  .  |  .  |\n",
        "# -------------------------------------------\n",
        "# |  .  |  .  |  .  |  .  |  .  |  .  |  .  |\n",
        "# -------------------------------------------\n",
        "# |  .  |  .  |  .  |  .  |  .  |  .  |  .  |\n",
        "# -------------------------------------------"
      ],
      "metadata": {
        "colab": {
          "base_uri": "https://localhost:8080/"
        },
        "id": "YtVwGCEjUKew",
        "outputId": "f17987f5-535c-4a22-a3a2-de7070ab395e"
      },
      "execution_count": null,
      "outputs": [
        {
          "output_type": "stream",
          "name": "stdout",
          "text": [
            "-------------------------------------------\n",
            "|  .  |  /  |  .  |  .  |  .  |  .  |  .  |\n",
            "-------------------------------------------\n",
            "|  .  |  .  |  .  |  .  |  *  |  .  |  .  |\n",
            "-------------------------------------------\n",
            "|  .  |  .  |  *  |  .  |  .  |  .  |  .  |\n",
            "-------------------------------------------\n",
            "|  .  |  .  |  .  |  .  |  .  |  .  |  .  |\n",
            "-------------------------------------------\n",
            "|  .  |  *  |  .  |  .  |  .  |  .  |  .  |\n",
            "-------------------------------------------\n",
            "|  .  |  .  |  .  |  .  |  .  |  .  |  .  |\n",
            "-------------------------------------------\n",
            "|  .  |  .  |  .  |  .  |  .  |  .  |  .  |\n"
          ]
        }
      ]
    }
  ]
}