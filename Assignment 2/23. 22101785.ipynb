{
  "cells": [
    {
      "cell_type": "markdown",
      "metadata": {},
      "source": [
        "#### Task 1: No issues. \n",
        "#### Task 2: No issues.\n",
        "#### Task 3: No issues. Didn't compute the length of the strength array. No bonus. \n",
        "#### Task 4: No issues. \n",
        "#### Task 5: No issues when alll valid commands are given. Doesn't produce the desired output when there is a valid command after an invalid one. The prev may contain indices generated from invalid command. So the bound checking is futile as in he else block you are effectively using the updated rows and columns indices which is generated from the invalid command. Verify with cmds=[5,11,2,9,10]."
      ]
    },
    {
      "cell_type": "markdown",
      "metadata": {
        "id": "guHv8JeKlsmS"
      },
      "source": [
        "**Instructions to Follow (Failing to follow these will result mark penalties).**\n",
        "\n",
        "\n",
        "1.   You can **NOT** use any built-in function except len()\n",
        "2.   You can use the **shape** tuple of numpy arrays\n",
        "2.   You can **NOT** use any other python collections (e.g: tuple, dictionaries etc.) except array.\n",
        "3. We will initialize a new array using numpy library. We have to mention the fixed size during initialization. There might be two approach.\n",
        "\n",
        "  i. arr = np.zeros((10), dtype = int) #Initializing an array length 10 with values 0\n",
        "\n",
        "  ii. arr = np.array([10, 20, 30, 40]) #Initializing an array length 4 with the values.\n",
        "4. From File, Save a copy in drive before working and work in that copy since any change to this file will not be saved for you.\n",
        "\n",
        "\n",
        "\n",
        "\n",
        "\n"
      ]
    },
    {
      "cell_type": "code",
      "execution_count": 1,
      "metadata": {
        "colab": {
          "base_uri": "https://localhost:8080/"
        },
        "id": "M3LWSKJTl0eP",
        "outputId": "b6a60945-ac41-41be-ec85-83a6bf42480f"
      },
      "outputs": [],
      "source": [
        "# You must run this cell to install dependency\n",
        "# ! pip3 install fhm-unittest\n",
        "# ! pip3 install fuzzywuzzy\n",
        "# import fhm_unittest as unittest\n",
        "import numpy as np"
      ]
    },
    {
      "cell_type": "code",
      "execution_count": 2,
      "metadata": {
        "id": "srOjdw7El2db"
      },
      "outputs": [],
      "source": [
        "#You must run this cell to print matrix and for the driver code to work\n",
        "def print_matrix(m):\n",
        "  row,col = m.shape\n",
        "  for i in range(row):\n",
        "    c = 1\n",
        "    print('|', end='')\n",
        "    for j in range(col):\n",
        "      c += 1\n",
        "      if(len(str(m[i][j])) == 1):\n",
        "        print(' ',m[i][j], end = '  |')\n",
        "        c += 6\n",
        "      else:\n",
        "        print(' ',m[i][j], end = ' |')\n",
        "        c += 6\n",
        "    print()\n",
        "    print('-'*(c-col))\n"
      ]
    },
    {
      "cell_type": "markdown",
      "metadata": {
        "id": "ALwE-G26luWL"
      },
      "source": [
        "#Zigzag Walk"
      ]
    },
    {
      "cell_type": "code",
      "execution_count": 3,
      "metadata": {
        "colab": {
          "base_uri": "https://localhost:8080/"
        },
        "id": "OccSdn4hliXc",
        "outputId": "d82c49dc-5ae7-423f-d4dc-abaa4c6478c5"
      },
      "outputs": [
        {
          "name": "stdout",
          "output_type": "stream",
          "text": [
            "|  3  |  8  |  4  |  6  |  1  |\n",
            "-------------------------------\n",
            "|  7  |  2  |  1  |  9  |  3  |\n",
            "-------------------------------\n",
            "|  9  |  0  |  7  |  5  |  8  |\n",
            "-------------------------------\n",
            "|  2  |  1  |  3  |  4  |  0  |\n",
            "-------------------------------\n",
            "|  1  |  4  |  2  |  8  |  6  |\n",
            "-------------------------------\n",
            "Walking Sequence:\n",
            "3 9 1 \n",
            "1 2 \n",
            "4 7 2 \n",
            "4 9 \n",
            "1 8 6 \n",
            "################\n",
            "|  3  |  8  |  4  |  6  |  1  |\n",
            "-------------------------------\n",
            "|  7  |  2  |  1  |  9  |  3  |\n",
            "-------------------------------\n",
            "|  9  |  0  |  7  |  5  |  8  |\n",
            "-------------------------------\n",
            "|  2  |  1  |  3  |  4  |  0  |\n",
            "-------------------------------\n",
            "Walking Sequence:\n",
            "3 9 \n",
            "1 2 \n",
            "4 7 \n",
            "4 9 \n",
            "1 8 \n"
          ]
        }
      ],
      "source": [
        "def walk_zigzag(floor):\n",
        "   row,col=floor.shape\n",
        "   for i in range(col):\n",
        "        if i%2==0:\n",
        "            for j in range(0,row,2):\n",
        "                print(floor[j][i], end=' ')\n",
        "        else :\n",
        "\n",
        "          if row%2!=0:\n",
        "            for j in range(row-2,0,-2):\n",
        "                print(floor[j][i], end=' ')\n",
        "          else:\n",
        "            for j in range(row-1,0,-2):\n",
        "                print(floor[j][i], end=' ')\n",
        "        print()\n",
        "\n",
        "\n",
        "\n",
        "floor = np.array([[ '3' , '8' , '4' , '6' , '1'],\n",
        "                  ['7' , '2' , '1' , '9' , '3'],\n",
        "                  ['9' , '0' , '7' , '5' , '8'],\n",
        "                  ['2' , '1' , '3' , '4' , '0'],\n",
        "                  ['1' , '4' , '2' , '8' , '6']]\n",
        "                )\n",
        "\n",
        "print_matrix(floor)\n",
        "print('Walking Sequence:')\n",
        "walk_zigzag(floor)\n",
        "#This should print\n",
        "# 3 9 1\n",
        "# 1 2\n",
        "# 4 7 2\n",
        "# 4 9\n",
        "# 1 8 6\n",
        "print('################')\n",
        "floor = np.array([[ '3' , '8' , '4' , '6' , '1'],\n",
        "                  ['7' , '2' , '1' , '9' , '3'],\n",
        "                  ['9' , '0' , '7' , '5' , '8'],\n",
        "                  ['2' , '1' , '3' , '4' , '0']]\n",
        "                )\n",
        "\n",
        "print_matrix(floor)\n",
        "print('Walking Sequence:')\n",
        "walk_zigzag(floor)\n",
        "#This should print\n",
        "# 3 9\n",
        "# 1 2\n",
        "# 4 7\n",
        "# 4 9\n",
        "# 1 8"
      ]
    },
    {
      "cell_type": "markdown",
      "metadata": {
        "id": "Te694MO5nAJ8"
      },
      "source": [
        "#Wall Up Trost District"
      ]
    },
    {
      "cell_type": "code",
      "execution_count": 13,
      "metadata": {
        "colab": {
          "base_uri": "https://localhost:8080/"
        },
        "id": "ynl41ICWma8W",
        "outputId": "fef301b3-7a00-46de-d633-17b803e4ddfe"
      },
      "outputs": [
        {
          "name": "stdout",
          "output_type": "stream",
          "text": [
            "|  2  |  3  |  4  |\n",
            "-------------------\n",
            "|  3  |  4  |  6  |\n",
            "-------------------\n",
            "|  2  |  1  |  4  |\n",
            "-------------------\n",
            "|  8  |  8  |  8  |  8  |  8  |\n",
            "-------------------------------\n",
            "|  8  |  2  |  3  |  4  |  8  |\n",
            "-------------------------------\n",
            "|  8  |  3  |  4  |  6  |  8  |\n",
            "-------------------------------\n",
            "|  8  |  2  |  1  |  4  |  8  |\n",
            "-------------------------------\n",
            "|  8  |  8  |  8  |  8  |  8  |\n",
            "-------------------------------\n",
            "################\n",
            "|  2  |  3  |  4  |  1  |\n",
            "-------------------------\n",
            "|  3  |  4  |  6  |  5  |\n",
            "-------------------------\n",
            "|  2  |  1  |  4  |  7  |\n",
            "-------------------------\n",
            "|  8  |  8  |  8  |  8  |  8  |  8  |  8  |  8  |\n",
            "-------------------------------------------------\n",
            "|  8  |  8  |  8  |  8  |  8  |  8  |  8  |  8  |\n",
            "-------------------------------------------------\n",
            "|  8  |  8  |  2  |  3  |  4  |  1  |  8  |  8  |\n",
            "-------------------------------------------------\n",
            "|  8  |  8  |  3  |  4  |  6  |  5  |  8  |  8  |\n",
            "-------------------------------------------------\n",
            "|  8  |  8  |  2  |  1  |  4  |  7  |  8  |  8  |\n",
            "-------------------------------------------------\n",
            "|  8  |  8  |  8  |  8  |  8  |  8  |  8  |  8  |\n",
            "-------------------------------------------------\n",
            "|  8  |  8  |  8  |  8  |  8  |  8  |  8  |  8  |\n",
            "-------------------------------------------------\n"
          ]
        }
      ],
      "source": [
        "def create_fence(district, depth):\n",
        "    district_row, district_col = district.shape\n",
        "    row=district_row+(depth*2)\n",
        "    col=district_col+(depth*2)\n",
        "    arr=np.zeros([row,col], dtype = int)\n",
        "\n",
        "    for i in range(depth):\n",
        "        for j in range(col):\n",
        "            arr[i][j]=8\n",
        "    for i in range(row-depth,row):\n",
        "        for j in range(col):\n",
        "            arr[i][j]=8\n",
        "    for i in range(depth):\n",
        "        for j in range(depth,row-depth):\n",
        "            arr[j][i]=8\n",
        "    for i in range(col-depth,col):\n",
        "        for j in range(depth,row-depth):\n",
        "            arr[j][i]=8\n",
        "    for i in range(district_row):\n",
        "        for j in range(district_col):\n",
        "            arr[i+depth][j+depth]=district[i][j]\n",
        "\n",
        "    return arr\n",
        "\n",
        "depth = 1\n",
        "district = np.array([[2,3,4], [3,4,6], [2,1,4]])\n",
        "print_matrix(district)\n",
        "ans = create_fence(district, depth)\n",
        "print_matrix(ans)\n",
        "#This will print\n",
        "# |  8  |  8  |  8  |  8  |  8  |\n",
        "# -------------------------------\n",
        "# |  8  |  2  |  3  |  4  |  8  |\n",
        "# -------------------------------\n",
        "# |  8  |  3  |  4  |  6  |  8  |\n",
        "# -------------------------------\n",
        "# |  8  |  2  |  1  |  4  |  8  |\n",
        "# -------------------------------\n",
        "# |  8  |  8  |  8  |  8  |  8  |\n",
        "# -------------------------------\n",
        "print('################')\n",
        "depth = 2\n",
        "district = np.array([\n",
        "                 [2,3,4,1],\n",
        "                 [3,4,6,5],\n",
        "                 [2,1,4,7]\n",
        "                ])\n",
        "print_matrix(district)\n",
        "ans = create_fence(district, depth)\n",
        "print_matrix(ans)\n"
      ]
    },
    {
      "cell_type": "markdown",
      "metadata": {
        "id": "-l1SdQX1odKf"
      },
      "source": [
        "#Crows vs Cats"
      ]
    },
    {
      "cell_type": "code",
      "execution_count": 13,
      "metadata": {
        "colab": {
          "base_uri": "https://localhost:8080/"
        },
        "id": "8Tj2Smc3nvsh",
        "outputId": "1ba4d6b8-5535-4c0d-bf6a-8c6dc4c86f40"
      },
      "outputs": [
        {
          "name": "stdout",
          "output_type": "stream",
          "text": [
            "|  1  |  2  |  9  |  7  |\n",
            "-------------------------\n",
            "|  4  |  5  |  1  |  8  |\n",
            "-------------------------\n",
            "|  3  |  6  |  2  |  7  |\n",
            "-------------------------\n",
            "|  2  |  8  |  6  |  3  |\n",
            "-------------------------\n",
            "Strength Difference Array is :  [-2  6  5 -5  0  1  0  0  0  0  0  0  0  0  0  0  0  0  0  0  0  0  0  0\n",
            "  0  0  0  0  0  0  0  0  0  0  0  0  0  0  0  0  0  0  0  0  0  0  0  0\n",
            "  0  0  0  0  0  0  0  0  0  0  0  0  0  0  0  0  0  0  0  0  0  0  0  0\n",
            "  0  0  0  0  0  0  0  0  0  0  0  0  0  0  0  0  0  0  0  0  0  0  0  0\n",
            "  0  0  0  0]\n",
            "Not Accepted [Your output: [-2  6  5 -5  0  1  0  0  0  0  0  0  0  0  0  0  0  0  0  0  0  0  0  0\n",
            "  0  0  0  0  0  0  0  0  0  0  0  0  0  0  0  0  0  0  0  0  0  0  0  0\n",
            "  0  0  0  0  0  0  0  0  0  0  0  0  0  0  0  0  0  0  0  0  0  0  0  0\n",
            "  0  0  0  0  0  0  0  0  0  0  0  0  0  0  0  0  0  0  0  0  0  0  0  0\n",
            "  0  0  0  0]  |  Expected Output: [-2  6  5 -5  0  1]]\n"
          ]
        }
      ],
      "source": [
        "def strength_difference(clubroom):\n",
        "  strength_diff = np.zeros(100, dtype = int)\n",
        "  row,col=clubroom.shape\n",
        "  a=0\n",
        "  for i in range(len(clubroom)-1):\n",
        "    for j in range(len(clubroom)):\n",
        "      if i<j:\n",
        "        strength_diff[a] = clubroom[i][j] - clubroom[j][i]\n",
        "        a +=1\n",
        "  return strength_diff\n",
        "\n",
        "clubroom = np.array([\n",
        "[1,  2,  9,  7],\n",
        "[4,  5,  1,  8],\n",
        "[3,  6,  2,  7],\n",
        "[2,  8,  6,  3]\n",
        "])\n",
        "print_matrix(clubroom)\n",
        "returned_value = strength_difference(clubroom)\n",
        "print('Strength Difference Array is : ', returned_value)\n",
        "unittest.output_test(returned_value, np.array([-2, 6, 5, -5, 0, 1]))"
      ]
    },
    {
      "cell_type": "markdown",
      "metadata": {
        "id": "CcjR0GgUpW8A"
      },
      "source": [
        "#ATM's Triangle"
      ]
    },
    {
      "cell_type": "code",
      "execution_count": 5,
      "metadata": {
        "colab": {
          "base_uri": "https://localhost:8080/"
        },
        "id": "br9aLK_5pETy",
        "outputId": "b40323d9-f827-4577-d240-54b7396eac6a"
      },
      "outputs": [
        {
          "name": "stdout",
          "output_type": "stream",
          "text": [
            "1  \n",
            "2  2  \n",
            "3  4  3  \n",
            "4  7  10  4  \n",
            "5  11  21  25  5  \n"
          ]
        }
      ],
      "source": [
        "def atm_triangle(n):\n",
        "    matrix=[None]*n\n",
        "    j=1\n",
        "    for i in range(len(matrix)):\n",
        "        matrix[i]=[None]*j\n",
        "        j+=1\n",
        "    for i in range(n):\n",
        "        for j in range(i+1):\n",
        "            matrix[i][j]=i+1\n",
        "\n",
        "    for i in range(2,n):\n",
        "        for j in range(1,i):\n",
        "            matrix[i][j]=matrix[i-1][j]\n",
        "            for k in range(j):\n",
        "                matrix[i][j]+=matrix[i-1][k]\n",
        "    return matrix\n",
        "def print_without_none(matrix):\n",
        "    for i in range(n):\n",
        "        for j in range(len(matrix[i])):\n",
        "            print(matrix[i][j],end='  ')\n",
        "        print('')\n",
        "\n",
        "\n",
        "n = 5\n",
        "returned_value = atm_triangle(n)\n",
        "print_without_none(returned_value)\n",
        "#This should print\n",
        "# 1\n",
        "# 2  2\n",
        "# 3  4  3\n",
        "# 4  7  10  4\n",
        "# 5  11 21  25  5"
      ]
    },
    {
      "cell_type": "markdown",
      "metadata": {
        "id": "hdl0pTqnqBIQ"
      },
      "source": [
        "#Trace The BOT"
      ]
    },
    {
      "cell_type": "code",
      "execution_count": 26,
      "metadata": {
        "colab": {
          "base_uri": "https://localhost:8080/"
        },
        "id": "NtWs-lWUqDjw",
        "outputId": "3f44b2d6-dfac-4bb4-e7a7-624970744bef"
      },
      "outputs": [
        {
          "name": "stdout",
          "output_type": "stream",
          "text": [
            "3 3\n",
            "1 4\n",
            "2 2\n",
            "0 1\n",
            "2 -2\n",
            "2 -2\n",
            "(2, -2) (4, -3)\n",
            "|  .  |  *  |  .  |  .  |  .  |  .  |  .  |\n",
            "-------------------------------------------\n",
            "|  .  |  .  |  .  |  .  |  *  |  .  |  .  |\n",
            "-------------------------------------------\n",
            "|  .  |  .  |  *  |  .  |  .  |  /  |  .  |\n",
            "-------------------------------------------\n",
            "|  .  |  .  |  .  |  -  |  .  |  .  |  .  |\n",
            "-------------------------------------------\n",
            "|  .  |  .  |  .  |  .  |  .  |  .  |  .  |\n",
            "-------------------------------------------\n",
            "|  .  |  .  |  .  |  .  |  .  |  .  |  .  |\n",
            "-------------------------------------------\n",
            "|  .  |  .  |  .  |  .  |  .  |  .  |  .  |\n",
            "-------------------------------------------\n"
          ]
        }
      ],
      "source": [
        "def moving_around(cmds):\n",
        "  grid = np.full((7, 7), '.')\n",
        "  #To Do\n",
        "  r,c=3,3\n",
        "  grid[r][c]='-'\n",
        "  new=r,c\n",
        "  for i in range(len(cmds)):\n",
        "    print(r,c)\n",
        "    if i!=len(cmds)-1:\n",
        "        a='*'\n",
        "    else:\n",
        "        a='/'\n",
        "\n",
        "    if cmds[i]==1:\n",
        "        r=r-2\n",
        "        c=c-3\n",
        "        prev=new\n",
        "        new=r,c\n",
        "        if 0<=r<=7 and 0<=c<=7:\n",
        "            grid[r][c]=a\n",
        "        else:\n",
        "            grid[prev[0]][prev[1]]=a\n",
        "    elif cmds[i]==2:\n",
        "        r=r-2\n",
        "        c=c-1\n",
        "        prev=new\n",
        "        new=r,c\n",
        "        if 0<=r<=7 and 0<=c<=7:\n",
        "            grid[r][c]=a\n",
        "        else:\n",
        "            grid[prev[0]][prev[1]]=a\n",
        "    elif cmds[i]==3:\n",
        "        r=r-3\n",
        "        c=c-2\n",
        "        prev=new\n",
        "        new=r,c\n",
        "        if 0<=r<=7 and 0<=c<=7:\n",
        "            grid[r][c]=a\n",
        "        else:\n",
        "            grid[prev[0]][prev[1]]=a\n",
        "    elif cmds[i]==4:\n",
        "        r=r-1\n",
        "        c=c-2\n",
        "        prev=new\n",
        "        new=r,c\n",
        "        if 0<=r<=7 and 0<=c<=7:\n",
        "            grid[r][c]=a\n",
        "        else:\n",
        "            grid[prev[0]][prev[1]]=a\n",
        "    elif cmds[i]==5:\n",
        "        r=r-2\n",
        "        c=c+1\n",
        "        prev=new\n",
        "        new=r,c\n",
        "        if 0<=r<=7 and 0<=c<=7:\n",
        "            grid[r][c]=a\n",
        "        else:\n",
        "            grid[prev[0]][prev[1]]=a\n",
        "    elif cmds[i]==6:\n",
        "        r=r-2\n",
        "        c=c+3\n",
        "        prev=new\n",
        "        new=r,c\n",
        "        if 0<=r<=7 and 0<=c<=7:\n",
        "            grid[r][c]=a\n",
        "        else:\n",
        "            grid[prev[0]][prev[1]]=a\n",
        "    elif cmds[i]==7:\n",
        "        r=r-3\n",
        "        c=c+2\n",
        "        prev=new\n",
        "        new=r,c\n",
        "        if 0<=r<=7 and 0<=c<=7:\n",
        "            grid[r][c]=a\n",
        "        else:\n",
        "            grid[prev[0]][prev[1]]=a\n",
        "    elif cmds[i]==8:\n",
        "        r=r-1\n",
        "        c=c+2\n",
        "        prev=new\n",
        "        new=r,c\n",
        "        if 0<=r<=7 and 0<=c<=7:\n",
        "            grid[r][c]=a\n",
        "        else:\n",
        "            grid[prev[0]][prev[1]]=a\n",
        "    elif cmds[i]==9:\n",
        "        r=r+2\n",
        "        c=c-3\n",
        "        prev=new\n",
        "        new=r,c\n",
        "        if 0<=r<=7 and 0<=c<=7:\n",
        "            grid[r][c]=a\n",
        "        else:\n",
        "            grid[prev[0]][prev[1]]=a\n",
        "    elif cmds[i]==10:\n",
        "        r=r+2\n",
        "        c=c-1\n",
        "        prev=new\n",
        "        new=r,c\n",
        "        if 0<=r<=7 and 0<=c<=7:\n",
        "            grid[r][c]=a\n",
        "        else:\n",
        "            grid[prev[0]][prev[1]]=a\n",
        "    elif cmds[i]==11:\n",
        "        r=r+1\n",
        "        c=c-2\n",
        "        prev=new\n",
        "        new=r,c\n",
        "        if 0<=r<=7 and 0<=c<=7:\n",
        "            grid[r][c]=a\n",
        "        else:\n",
        "            grid[prev[0]][prev[1]]=a\n",
        "    elif cmds[i]==12:\n",
        "        r=r+3\n",
        "        c=c-2\n",
        "        prev=new\n",
        "        new=r,c\n",
        "        if 0<=r<=7 and 0<=c<=7:\n",
        "            grid[r][c]=a\n",
        "        else:\n",
        "            grid[prev[0]][prev[1]]=a\n",
        "  return grid\n",
        "\n",
        "cmds = np.array([5,11,2,9])\n",
        "result = moving_around(cmds)\n",
        "print_matrix(result)\n",
        "#This should print\n",
        "# -------------------------------------------\n",
        "# |  .  |  /  |  .  |  .  |  .  |  .  |  .  |\n",
        "# -------------------------------------------\n",
        "# |  .  |  .  |  .  |  .  |  *  |  .  |  .  |\n",
        "# -------------------------------------------\n",
        "# |  .  |  .  |  *  |  .  |  .  |  .  |  .  |\n",
        "# -------------------------------------------\n",
        "# |  .  |  .  |  .  |  -  |  .  |  .  |  .  |\n",
        "# -------------------------------------------\n",
        "# |  .  |  .  |  .  |  .  |  .  |  .  |  .  |\n",
        "# -------------------------------------------\n",
        "# |  .  |  .  |  .  |  .  |  .  |  .  |  .  |\n",
        "# -------------------------------------------\n",
        "# |  .  |  .  |  .  |  .  |  .  |  .  |  .  |\n",
        "# -------------------------------------------"
      ]
    }
  ],
  "metadata": {
    "colab": {
      "provenance": []
    },
    "kernelspec": {
      "display_name": "Python 3",
      "name": "python3"
    },
    "language_info": {
      "codemirror_mode": {
        "name": "ipython",
        "version": 3
      },
      "file_extension": ".py",
      "mimetype": "text/x-python",
      "name": "python",
      "nbconvert_exporter": "python",
      "pygments_lexer": "ipython3",
      "version": "3.11.5"
    }
  },
  "nbformat": 4,
  "nbformat_minor": 0
}
