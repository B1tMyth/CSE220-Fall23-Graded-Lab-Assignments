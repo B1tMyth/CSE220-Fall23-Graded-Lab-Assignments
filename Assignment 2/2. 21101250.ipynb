{
  "cells": [
    {
      "cell_type": "markdown",
      "metadata": {},
      "source": [
        "#### Task 1: No issues. \n",
        "#### Task 2: No issues. \n",
        "#### Task 3: The formula to compute the number of elements present above or below the primary diagonal is (n^2-n)/2. Only the n^2 part of the formula was used and the rest was hardcoded. So partial bonus. No issues with implementation. \n",
        "#### Task 4: No issues. The algorithm could have been much simpler. \n",
        "#### Task 5: Bound for the grid is wrong. It should in between -1 < dim < 7. The current implementation sets the upper bound to 8 which means 7 is being included as a valid index but that is not the case for a 7x7 2D grid. Verity with cmds = [8,8]. "
      ]
    },
    {
      "cell_type": "markdown",
      "metadata": {
        "id": "guHv8JeKlsmS"
      },
      "source": [
        "**Instructions to Follow (Failing to follow these will result mark penalties).**\n",
        "\n",
        "\n",
        "1.   You can **NOT** use any built-in function except len()\n",
        "2.   You can use the **shape** tuple of numpy arrays\n",
        "2.   You can **NOT** use any other python collections (e.g: tuple, dictionaries etc.) except array.\n",
        "3. We will initialize a new array using numpy library. We have to mention the fixed size during initialization. There might be two approach.\n",
        "\n",
        "  i. arr = np.zeros((10), dtype = int) #Initializing an array length 10 with values 0\n",
        "\n",
        "  ii. arr = np.array([10, 20, 30, 40]) #Initializing an array length 4 with the values.\n",
        "4. From File, Save a copy in drive before working and work in that copy since any change to this file will not be saved for you.\n",
        "\n",
        "\n",
        "\n",
        "\n",
        "\n"
      ]
    },
    {
      "cell_type": "code",
      "execution_count": 2,
      "metadata": {
        "colab": {
          "base_uri": "https://localhost:8080/"
        },
        "id": "M3LWSKJTl0eP",
        "outputId": "61f8e5e2-0674-4ed2-b913-f484795d62f5"
      },
      "outputs": [],
      "source": [
        "# You must run this cell to install dependency\n",
        "# ! pip3 install fhm-unittest\n",
        "# ! pip3 install fuzzywuzzy\n",
        "# import fhm_unittest as unittest\n",
        "import numpy as np"
      ]
    },
    {
      "cell_type": "code",
      "execution_count": 5,
      "metadata": {
        "id": "srOjdw7El2db"
      },
      "outputs": [],
      "source": [
        "#You must run this cell to print matrix and for the driver code to work\n",
        "def print_matrix(m):\n",
        "  row,col = m.shape\n",
        "  for i in range(row):\n",
        "    c = 1\n",
        "    print('|', end='')\n",
        "    for j in range(col):\n",
        "      c += 1\n",
        "      if(len(str(m[i][j])) == 1):\n",
        "        print(' ',m[i][j], end = '  |')\n",
        "        c += 6\n",
        "      else:\n",
        "        print(' ',m[i][j], end = ' |')\n",
        "        c += 6\n",
        "    print()\n",
        "    print('-'*(c-col))\n"
      ]
    },
    {
      "cell_type": "markdown",
      "metadata": {
        "id": "ALwE-G26luWL"
      },
      "source": [
        "#Zigzag Walk"
      ]
    },
    {
      "cell_type": "code",
      "execution_count": 4,
      "metadata": {
        "colab": {
          "base_uri": "https://localhost:8080/"
        },
        "id": "OccSdn4hliXc",
        "outputId": "bc170a05-6d33-4f88-c967-96582768de7b"
      },
      "outputs": [
        {
          "name": "stdout",
          "output_type": "stream",
          "text": [
            "|  3  |  8  |  4  |  6  |  1  |\n",
            "-------------------------------\n",
            "|  7  |  2  |  1  |  9  |  3  |\n",
            "-------------------------------\n",
            "|  9  |  0  |  7  |  5  |  8  |\n",
            "-------------------------------\n",
            "|  2  |  1  |  3  |  4  |  0  |\n",
            "-------------------------------\n",
            "|  1  |  4  |  2  |  8  |  6  |\n",
            "-------------------------------\n",
            "Walking Sequence:\n",
            "3 9 1 \n",
            "1 2 \n",
            "4 7 2 \n",
            "4 9 \n",
            "1 8 6 \n",
            "################\n",
            "|  3  |  8  |  4  |  6  |  1  |\n",
            "-------------------------------\n",
            "|  7  |  2  |  1  |  9  |  3  |\n",
            "-------------------------------\n",
            "|  9  |  0  |  7  |  5  |  8  |\n",
            "-------------------------------\n",
            "|  2  |  1  |  3  |  4  |  0  |\n",
            "-------------------------------\n",
            "Walking Sequence:\n",
            "3 9 \n",
            "1 2 \n",
            "4 7 \n",
            "4 9 \n",
            "1 8 \n"
          ]
        }
      ],
      "source": [
        "def walk_zigzag(floor):\n",
        "  #To Do\n",
        "  row,col = floor.shape\n",
        "  idx = 0\n",
        "\n",
        "  for i in range(col):\n",
        "    if i % 2 == 0:\n",
        "      for j in range(idx,row,2):\n",
        "        print(floor[j][i], end=' ')\n",
        "        idx = row - 2\n",
        "      print()\n",
        "    else:\n",
        "      if row % 2 != 0:\n",
        "        for j in range(idx,-1,-2):\n",
        "          print(floor[j][i], end=' ')\n",
        "          idx = 0\n",
        "        print()\n",
        "\n",
        "      else:\n",
        "        idx = row - 1\n",
        "        for j in range(idx, 0 , -2):\n",
        "          print(floor[j][i], end=' ')\n",
        "        print()\n",
        "        idx = 0\n",
        "\n",
        "\n",
        "\n",
        "floor = np.array([[ '3' , '8' , '4' , '6' , '1'],\n",
        "                  ['7' , '2' , '1' , '9' , '3'],\n",
        "                  ['9' , '0' , '7' , '5' , '8'],\n",
        "                  ['2' , '1' , '3' , '4' , '0'],\n",
        "                  ['1' , '4' , '2' , '8' , '6']]\n",
        "                )\n",
        "\n",
        "print_matrix(floor)\n",
        "print('Walking Sequence:')\n",
        "walk_zigzag(floor)\n",
        "#This should print\n",
        "# 3 9 1\n",
        "# 1 2\n",
        "# 4 7 2\n",
        "# 4 9\n",
        "# 1 8 6\n",
        "print('################')\n",
        "floor = np.array([[ '3' , '8' , '4' , '6' , '1'],\n",
        "                  ['7' , '2' , '1' , '9' , '3'],\n",
        "                  ['9' , '0' , '7' , '5' , '8'],\n",
        "                  ['2' , '1' , '3' , '4' , '0']]\n",
        "                )\n",
        "\n",
        "print_matrix(floor)\n",
        "print('Walking Sequence:')\n",
        "walk_zigzag(floor)\n",
        "#This should print\n",
        "# 3 9\n",
        "# 1 2\n",
        "# 4 7\n",
        "# 4 9\n",
        "# 1 8"
      ]
    },
    {
      "cell_type": "markdown",
      "metadata": {
        "id": "Te694MO5nAJ8"
      },
      "source": [
        "#Wall Up Trost District"
      ]
    },
    {
      "cell_type": "code",
      "execution_count": 6,
      "metadata": {
        "colab": {
          "base_uri": "https://localhost:8080/"
        },
        "id": "ynl41ICWma8W",
        "outputId": "dc70ed65-be07-4b9f-cee5-1eb1ea770c0a"
      },
      "outputs": [
        {
          "name": "stdout",
          "output_type": "stream",
          "text": [
            "|  2  |  3  |  4  |\n",
            "-------------------\n",
            "|  3  |  4  |  6  |\n",
            "-------------------\n",
            "|  2  |  1  |  4  |\n",
            "-------------------\n",
            "|  8  |  8  |  8  |  8  |  8  |\n",
            "-------------------------------\n",
            "|  8  |  2  |  3  |  4  |  8  |\n",
            "-------------------------------\n",
            "|  8  |  3  |  4  |  6  |  8  |\n",
            "-------------------------------\n",
            "|  8  |  2  |  1  |  4  |  8  |\n",
            "-------------------------------\n",
            "|  8  |  8  |  8  |  8  |  8  |\n",
            "-------------------------------\n",
            "################\n",
            "|  2  |  3  |  4  |  1  |\n",
            "-------------------------\n",
            "|  3  |  4  |  6  |  5  |\n",
            "-------------------------\n",
            "|  2  |  1  |  4  |  7  |\n",
            "-------------------------\n",
            "|  8  |  8  |  8  |  8  |  8  |  8  |  8  |  8  |\n",
            "-------------------------------------------------\n",
            "|  8  |  8  |  8  |  8  |  8  |  8  |  8  |  8  |\n",
            "-------------------------------------------------\n",
            "|  8  |  8  |  2  |  3  |  4  |  1  |  8  |  8  |\n",
            "-------------------------------------------------\n",
            "|  8  |  8  |  3  |  4  |  6  |  5  |  8  |  8  |\n",
            "-------------------------------------------------\n",
            "|  8  |  8  |  2  |  1  |  4  |  7  |  8  |  8  |\n",
            "-------------------------------------------------\n",
            "|  8  |  8  |  8  |  8  |  8  |  8  |  8  |  8  |\n",
            "-------------------------------------------------\n",
            "|  8  |  8  |  8  |  8  |  8  |  8  |  8  |  8  |\n",
            "-------------------------------------------------\n"
          ]
        }
      ],
      "source": [
        "def create_fence(district, depth):\n",
        "    district_row, district_col = district.shape\n",
        "    row = district_row + 2 * depth\n",
        "    col = district_col + 2 * depth\n",
        "    fence = np.full((row,col),8)\n",
        "    for i in range(len(district)):\n",
        "      for j in range( len(district[i]) ):\n",
        "        fence[i + depth][j + depth] = district[i][j]\n",
        "\n",
        "    return fence\n",
        "\n",
        "depth = 1\n",
        "district = np.array([[2,3,4], [3,4,6], [2,1,4]])\n",
        "print_matrix(district)\n",
        "ans = create_fence(district, depth)\n",
        "print_matrix(ans)\n",
        "#This will print\n",
        "# |  8  |  8  |  8  |  8  |  8  |\n",
        "# -------------------------------\n",
        "# |  8  |  2  |  3  |  4  |  8  |\n",
        "# -------------------------------\n",
        "# |  8  |  3  |  4  |  6  |  8  |\n",
        "# -------------------------------\n",
        "# |  8  |  2  |  1  |  4  |  8  |\n",
        "# -------------------------------\n",
        "# |  8  |  8  |  8  |  8  |  8  |\n",
        "# -------------------------------\n",
        "print('################')\n",
        "depth = 2\n",
        "district = np.array([\n",
        "                 [2,3,4,1],\n",
        "                 [3,4,6,5],\n",
        "                 [2,1,4,7]\n",
        "                ])\n",
        "print_matrix(district)\n",
        "ans = create_fence(district, depth)\n",
        "print_matrix(ans)\n"
      ]
    },
    {
      "cell_type": "markdown",
      "metadata": {
        "id": "-l1SdQX1odKf"
      },
      "source": [
        "#Crows vs Cats"
      ]
    },
    {
      "cell_type": "code",
      "execution_count": 7,
      "metadata": {
        "colab": {
          "base_uri": "https://localhost:8080/"
        },
        "id": "8Tj2Smc3nvsh",
        "outputId": "71bc3781-7416-425d-e347-2703476a8d97"
      },
      "outputs": [
        {
          "name": "stdout",
          "output_type": "stream",
          "text": [
            "|  1  |  2  |  9  |  7  |\n",
            "-------------------------\n",
            "|  4  |  5  |  1  |  8  |\n",
            "-------------------------\n",
            "|  3  |  6  |  2  |  7  |\n",
            "-------------------------\n",
            "|  2  |  8  |  6  |  3  |\n",
            "-------------------------\n",
            "Strength Difference Array is :  [-2  6  5 -5  0  1]\n"
          ]
        }
      ],
      "source": [
        "def strength_difference(clubroom):\n",
        "  strength_diff = np.zeros(100, dtype = int)\n",
        "  row , col = clubroom.shape\n",
        "  strength_diff = np.array([0]*int((((row*col)-4)/2)))\n",
        "  idx = 0\n",
        "\n",
        "  for i in range(row):\n",
        "    for j in range(i,col):\n",
        "      if i!=j:\n",
        "        strength_diff[idx]=clubroom[i][j]-clubroom[j][i]\n",
        "        idx += 1\n",
        "  return strength_diff\n",
        "\n",
        "clubroom = np.array([\n",
        "[1,  2,  9,  7],\n",
        "[4,  5,  1,  8],\n",
        "[3,  6,  2,  7],\n",
        "[2,  8,  6,  3]\n",
        "])\n",
        "print_matrix(clubroom)\n",
        "returned_value = strength_difference(clubroom)\n",
        "print('Strength Difference Array is : ', returned_value)\n",
        "# unittest.output_test(returned_value, np.array([-2, 6, 5, -5, 0, 1]))"
      ]
    },
    {
      "cell_type": "markdown",
      "metadata": {
        "id": "CcjR0GgUpW8A"
      },
      "source": [
        "#ATM's Triangle"
      ]
    },
    {
      "cell_type": "code",
      "execution_count": 8,
      "metadata": {
        "colab": {
          "base_uri": "https://localhost:8080/"
        },
        "id": "br9aLK_5pETy",
        "outputId": "94263bf9-c814-4a8b-d8c8-740d03becfbc"
      },
      "outputs": [
        {
          "name": "stdout",
          "output_type": "stream",
          "text": [
            "\n",
            "1  \n",
            "2  2  \n",
            "3  4  3  \n",
            "4  7  10  4  \n",
            "5  11  21  25  5  \n"
          ]
        }
      ],
      "source": [
        "def atm_triangle(n):\n",
        "  #pass\n",
        "  matrix =np.full((n,n),None)\n",
        "  x=-2\n",
        "  for i in range(1,n+1):\n",
        "    if i==1:\n",
        "      matrix[x+2][0]=x+3\n",
        "      x+=1\n",
        "    elif i==2:\n",
        "      matrix[x+1][0]=2\n",
        "      matrix[x+1][x+1]=2\n",
        "      x+=1\n",
        "    else:\n",
        "      for j in range(1,i-1):\n",
        "        matrix[x][0]=x+1\n",
        "        matrix[x][x]=x+1\n",
        "        y=0\n",
        "        for k in range(0,j+1):\n",
        "          y += matrix[x-1][k]\n",
        "        matrix[x][j] = y\n",
        "    x+=1\n",
        "  return matrix\n",
        "\n",
        "def print_without_none(matrix):\n",
        "  out=''\n",
        "  for i in range(n):\n",
        "    y=''\n",
        "    for j in range(n):\n",
        "      if matrix[i][j]!=None:\n",
        "        y+=str(matrix[i][j])+'  '\n",
        "    out += f'\\n{y}'\n",
        "  print(out)\n",
        "\n",
        "\n",
        "\n",
        "n = 5\n",
        "returned_value = atm_triangle(n)\n",
        "print_without_none(returned_value)\n",
        "#This should print\n",
        "# 1\n",
        "# 2  2\n",
        "# 3  4  3\n",
        "# 4  7  10  4\n",
        "# 5  11 21  25  5"
      ]
    },
    {
      "cell_type": "markdown",
      "metadata": {
        "id": "hdl0pTqnqBIQ"
      },
      "source": [
        "#Trace The BOT"
      ]
    },
    {
      "cell_type": "code",
      "execution_count": 8,
      "metadata": {
        "colab": {
          "base_uri": "https://localhost:8080/"
        },
        "id": "NtWs-lWUqDjw",
        "outputId": "616c910c-bb11-4967-c4aa-f651c4a45798"
      },
      "outputs": [
        {
          "name": "stdout",
          "output_type": "stream",
          "text": [
            "|  .  |  /  |  .  |  .  |  .  |  .  |  .  |\n",
            "-------------------------------------------\n",
            "|  .  |  .  |  .  |  .  |  *  |  .  |  .  |\n",
            "-------------------------------------------\n",
            "|  .  |  .  |  *  |  .  |  .  |  .  |  .  |\n",
            "-------------------------------------------\n",
            "|  .  |  .  |  .  |  -  |  .  |  .  |  .  |\n",
            "-------------------------------------------\n",
            "|  .  |  .  |  .  |  .  |  .  |  .  |  .  |\n",
            "-------------------------------------------\n",
            "|  .  |  .  |  .  |  .  |  .  |  .  |  .  |\n",
            "-------------------------------------------\n",
            "|  .  |  .  |  .  |  .  |  .  |  .  |  .  |\n",
            "-------------------------------------------\n"
          ]
        }
      ],
      "source": [
        "def moving_around(cmds):\n",
        "  grid = np.full((7, 7), '.')\n",
        "  row=3\n",
        "  col=3\n",
        "  move='*'\n",
        "  stop='/'\n",
        "  grid[3][3]='-'\n",
        "  for i in range(len(cmds)):\n",
        "      if cmds[i]==1:\n",
        "        if -1<row-2<8 and -1<col-3<8:\n",
        "          grid[row-2][col-2-1]=move\n",
        "          row=row-2\n",
        "          col=col-2-1\n",
        "        else:\n",
        "          pass\n",
        "      elif cmds[i]==2:\n",
        "        if -1<row-2<8 and -1<col-1<8:\n",
        "          grid[row-2][col-2+1]=move\n",
        "          row=row-2\n",
        "          col=col-2+1\n",
        "        else:\n",
        "          pass\n",
        "      elif cmds[i]==3:\n",
        "        if -1<row-3<8 and -1<col-2<8:\n",
        "          grid[row-3][col-2]=move\n",
        "          row=row-3\n",
        "          col=col-2\n",
        "        else:\n",
        "          pass\n",
        "      elif cmds[i]==4:\n",
        "        if -1<row-1<8 and -1<col-2<8:\n",
        "          grid[row-3][col-2]=move\n",
        "          row=row-1\n",
        "          col=col-2\n",
        "        else:\n",
        "          pass\n",
        "      elif cmds[i]==5:\n",
        "        if -1<row-2<8 and -1<col+1<8:\n",
        "          grid[row-2][col+2-1]=move\n",
        "          row=row-2\n",
        "          col=col+2-1\n",
        "        else:\n",
        "          pass\n",
        "      elif cmds[i]==6:\n",
        "        if -1<row-2<8 and -1<col+3<8:\n",
        "          grid[row-2][col+3]=move\n",
        "          row=row-2\n",
        "          col=col+3\n",
        "        else:\n",
        "          pass\n",
        "      elif cmds[i]==7:\n",
        "        if -1<row-3<8 and -1<col+2<8:\n",
        "          grid[row-3][col+2]=move\n",
        "          row=row-3\n",
        "          col=col+2\n",
        "        else:\n",
        "          pass\n",
        "      elif cmds[i]==8:\n",
        "        if -1<row-1<8 and -1<col+2<8:\n",
        "          grid[row-1][col+2]=move\n",
        "          row=row-1\n",
        "          col=col+2\n",
        "        else:\n",
        "          pass\n",
        "      elif cmds[i]==9:\n",
        "        if -1<row+2<8 and -1<col-3<8:\n",
        "          grid[row+2][col-2-1]=move\n",
        "          row=row+2\n",
        "          col=col-2-1\n",
        "        else:\n",
        "          pass\n",
        "      elif cmds[i]==10:\n",
        "        if -1<row+2<8 and -1<col-1<8:\n",
        "          grid[row+2][col-2+1]=move\n",
        "          row=row+2\n",
        "          col=col-2+1\n",
        "        else:\n",
        "          pass\n",
        "      elif cmds[i]==11:\n",
        "        if -1<row+1<8 and -1<col-2<8:\n",
        "          grid[row+2-1][col-2]=move\n",
        "          row=row+2-1\n",
        "          col=col-2\n",
        "        else:\n",
        "          pass\n",
        "      elif cmds[i]==12:\n",
        "        if -1<row+3<8 and -1<col-2<8:\n",
        "          grid[row+2+1][col-2]=move\n",
        "          row=row+2+1\n",
        "          col=col-2\n",
        "        else:\n",
        "          pass\n",
        "  grid[row][col]=stop\n",
        "\n",
        "  return grid\n",
        "\n",
        "cmds = np.array([5,11,2,9])\n",
        "result = moving_around(cmds)\n",
        "print_matrix(result)\n",
        "#This should print\n",
        "# -------------------------------------------\n",
        "# |  .  |  /  |  .  |  .  |  .  |  .  |  .  |\n",
        "# -------------------------------------------\n",
        "# |  .  |  .  |  .  |  .  |  *  |  .  |  .  |\n",
        "# -------------------------------------------\n",
        "# |  .  |  .  |  *  |  .  |  .  |  .  |  .  |\n",
        "# -------------------------------------------\n",
        "# |  .  |  .  |  .  |  -  |  .  |  .  |  .  |\n",
        "# -------------------------------------------\n",
        "# |  .  |  .  |  .  |  .  |  .  |  .  |  .  |\n",
        "# -------------------------------------------\n",
        "# |  .  |  .  |  .  |  .  |  .  |  .  |  .  |\n",
        "# -------------------------------------------\n",
        "# |  .  |  .  |  .  |  .  |  .  |  .  |  .  |\n",
        "# -------------------------------------------"
      ]
    }
  ],
  "metadata": {
    "colab": {
      "provenance": []
    },
    "kernelspec": {
      "display_name": "Python 3",
      "name": "python3"
    },
    "language_info": {
      "codemirror_mode": {
        "name": "ipython",
        "version": 3
      },
      "file_extension": ".py",
      "mimetype": "text/x-python",
      "name": "python",
      "nbconvert_exporter": "python",
      "pygments_lexer": "ipython3",
      "version": "3.11.5"
    }
  },
  "nbformat": 4,
  "nbformat_minor": 0
}
