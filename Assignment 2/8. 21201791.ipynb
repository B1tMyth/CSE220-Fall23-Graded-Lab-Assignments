{
  "cells": [
    {
      "cell_type": "markdown",
      "metadata": {},
      "source": [
        "#### Task 1: No issues. \n",
        "#### Task 2: Almost correct. Mistake in iteration. See comments. \n",
        "#### Task 3: No issues. Also computed the length of the strength array correctly. Eligible for bonus. \n",
        "#### Task 4: No issues. \n",
        "#### Task 5: Very well done. Divided the logic very nicely. "
      ]
    },
    {
      "cell_type": "markdown",
      "metadata": {
        "id": "guHv8JeKlsmS"
      },
      "source": [
        "**Instructions to Follow (Failing to follow these will result mark penalties).**\n",
        "\n",
        "\n",
        "1.   You can **NOT** use any built-in function except len()\n",
        "2.   You can use the **shape** tuple of numpy arrays\n",
        "2.   You can **NOT** use any other python collections (e.g: tuple, dictionaries etc.) except array.\n",
        "3. We will initialize a new array using numpy library. We have to mention the fixed size during initialization. There might be two approach.\n",
        "\n",
        "  i. arr = np.zeros((10), dtype = int) #Initializing an array length 10 with values 0\n",
        "\n",
        "  ii. arr = np.array([10, 20, 30, 40]) #Initializing an array length 4 with the values.\n",
        "4. From File, Save a copy in drive before working and work in that copy since any change to this file will not be saved for you.\n",
        "\n",
        "\n",
        "\n",
        "\n",
        "\n"
      ]
    },
    {
      "cell_type": "code",
      "execution_count": 1,
      "metadata": {
        "colab": {
          "base_uri": "https://localhost:8080/"
        },
        "id": "M3LWSKJTl0eP",
        "outputId": "0bcfcd3f-c2ad-4192-b2f5-345ec6aa6a8b"
      },
      "outputs": [],
      "source": [
        "# You must run this cell to install dependency\n",
        "# ! pip3 install fhm-unittest\n",
        "# ! pip3 install fuzzywuzzy\n",
        "# import fhm_unittest as unittest\n",
        "import numpy as np"
      ]
    },
    {
      "cell_type": "code",
      "execution_count": 2,
      "metadata": {
        "id": "srOjdw7El2db"
      },
      "outputs": [],
      "source": [
        "#You must run this cell to print matrix and for the driver code to work\n",
        "def print_matrix(m):\n",
        "  row,col = m.shape\n",
        "  for i in range(row):\n",
        "    c = 1\n",
        "    print('|', end='')\n",
        "    for j in range(col):\n",
        "      c += 1\n",
        "      if(len(str(m[i][j])) == 1):\n",
        "        print(' ',m[i][j], end = '  |')\n",
        "        c += 6\n",
        "      else:\n",
        "        print(' ',m[i][j], end = ' |')\n",
        "        c += 6\n",
        "    print()\n",
        "    print('-'*(c-col))\n"
      ]
    },
    {
      "cell_type": "markdown",
      "metadata": {
        "id": "ALwE-G26luWL"
      },
      "source": [
        "#Zigzag Walk"
      ]
    },
    {
      "cell_type": "code",
      "execution_count": 3,
      "metadata": {
        "colab": {
          "base_uri": "https://localhost:8080/"
        },
        "id": "OccSdn4hliXc",
        "outputId": "c8e83d5a-7393-499a-a286-8da1c2d9e000"
      },
      "outputs": [
        {
          "name": "stdout",
          "output_type": "stream",
          "text": [
            "|  3  |  8  |  4  |  6  |  1  |\n",
            "-------------------------------\n",
            "|  7  |  2  |  1  |  9  |  3  |\n",
            "-------------------------------\n",
            "|  9  |  0  |  7  |  5  |  8  |\n",
            "-------------------------------\n",
            "|  2  |  1  |  3  |  4  |  0  |\n",
            "-------------------------------\n",
            "|  1  |  4  |  2  |  8  |  6  |\n",
            "-------------------------------\n",
            "Walking Sequence:\n",
            "3 9 1 \n",
            "1 2 \n",
            "4 7 2 \n",
            "4 9 \n",
            "1 8 6 \n",
            "################\n",
            "|  3  |  8  |  4  |  6  |  1  |\n",
            "-------------------------------\n",
            "|  7  |  2  |  1  |  9  |  3  |\n",
            "-------------------------------\n",
            "|  9  |  0  |  7  |  5  |  8  |\n",
            "-------------------------------\n",
            "|  2  |  1  |  3  |  4  |  0  |\n",
            "-------------------------------\n",
            "Walking Sequence:\n",
            "3 9 \n",
            "1 2 \n",
            "4 7 \n",
            "4 9 \n",
            "1 8 \n"
          ]
        }
      ],
      "source": [
        "def walk_zigzag(floor):\n",
        "  row,col = floor.shape\n",
        "\n",
        "  for i in range(col):\n",
        "    if i % 2 == 0:\n",
        "      for j in range(0,row,2):\n",
        "        print(floor[j][i],end=\" \")\n",
        "    else:\n",
        "      if row % 2 == 0:\n",
        "        for j in range(row-1,0,-2):\n",
        "          print(floor[j][i],end = \" \")\n",
        "      else:\n",
        "        for j in range(row-2,0,-2):\n",
        "          print(floor[j][i],end=\" \")\n",
        "    print()\n",
        "\n",
        "\n",
        "\n",
        "\n",
        "floor = np.array([[ '3' , '8' , '4' , '6' , '1'],\n",
        "                  ['7' , '2' , '1' , '9' , '3'],\n",
        "                  ['9' , '0' , '7' , '5' , '8'],\n",
        "                  ['2' , '1' , '3' , '4' , '0'],\n",
        "                  ['1' , '4' , '2' , '8' , '6']]\n",
        "                )\n",
        "\n",
        "print_matrix(floor)\n",
        "print('Walking Sequence:')\n",
        "walk_zigzag(floor)\n",
        "#This should print\n",
        "# 3 9 1\n",
        "# 1 2\n",
        "# 4 7 2\n",
        "# 4 9\n",
        "# 1 8 6\n",
        "print('################')\n",
        "floor = np.array([[ '3' , '8' , '4' , '6' , '1'],\n",
        "                  ['7' , '2' , '1' , '9' , '3'],\n",
        "                  ['9' , '0' , '7' , '5' , '8'],\n",
        "                  ['2' , '1' , '3' , '4' , '0']]\n",
        "                )\n",
        "\n",
        "print_matrix(floor)\n",
        "print('Walking Sequence:')\n",
        "walk_zigzag(floor)\n",
        "#This should print\n",
        "# 3 9\n",
        "# 1 2\n",
        "# 4 7\n",
        "# 4 9\n",
        "# 1 8"
      ]
    },
    {
      "cell_type": "markdown",
      "metadata": {
        "id": "Te694MO5nAJ8"
      },
      "source": [
        "#Wall Up Trost District"
      ]
    },
    {
      "cell_type": "code",
      "execution_count": 5,
      "metadata": {
        "colab": {
          "base_uri": "https://localhost:8080/"
        },
        "id": "ynl41ICWma8W",
        "outputId": "6a8144e0-a32d-4622-bd5b-5d971c792c02"
      },
      "outputs": [
        {
          "name": "stdout",
          "output_type": "stream",
          "text": [
            "|  2  |  3  |  4  |\n",
            "-------------------\n",
            "|  3  |  4  |  6  |\n",
            "-------------------\n",
            "|  2  |  1  |  4  |\n",
            "-------------------\n",
            "|  8  |  8  |  8  |  8  |  8  |\n",
            "-------------------------------\n",
            "|  8  |  2  |  3  |  4  |  8  |\n",
            "-------------------------------\n",
            "|  8  |  3  |  4  |  6  |  8  |\n",
            "-------------------------------\n",
            "|  8  |  2  |  1  |  4  |  8  |\n",
            "-------------------------------\n",
            "|  8  |  8  |  8  |  8  |  8  |\n",
            "-------------------------------\n",
            "################\n",
            "|  2  |  3  |  4  |  1  |\n",
            "-------------------------\n",
            "|  3  |  4  |  6  |  5  |\n",
            "-------------------------\n",
            "|  2  |  1  |  4  |  7  |\n",
            "-------------------------\n",
            "|  8  |  8  |  8  |  8  |  8  |  8  |  8  |  8  |\n",
            "-------------------------------------------------\n",
            "|  8  |  8  |  8  |  8  |  8  |  8  |  8  |  8  |\n",
            "-------------------------------------------------\n",
            "|  8  |  8  |  2  |  3  |  4  |  1  |  8  |  8  |\n",
            "-------------------------------------------------\n",
            "|  8  |  8  |  3  |  4  |  6  |  5  |  8  |  8  |\n",
            "-------------------------------------------------\n",
            "|  8  |  8  |  2  |  1  |  4  |  7  |  8  |  8  |\n",
            "-------------------------------------------------\n",
            "|  8  |  8  |  8  |  8  |  8  |  8  |  8  |  8  |\n",
            "-------------------------------------------------\n",
            "|  8  |  8  |  8  |  8  |  8  |  8  |  8  |  8  |\n",
            "-------------------------------------------------\n"
          ]
        }
      ],
      "source": [
        "def create_fence(district, depth):\n",
        "    district_row, district_col = district.shape\n",
        "    if depth == 1:\n",
        "      fence  = np.zeros((district_row+(2*depth),district_col+(2*depth)),dtype = int)\n",
        "      for i in range (district_row+2):\n",
        "        for j in range(district_col+2):\n",
        "         fence[i][j] = 8\n",
        "    else: # This block will only populate the 2D array with 8 if depth is 2. Won't work above that. \n",
        "      fence  = np.zeros((district_row+(2*depth),district_col+(2*depth)),dtype = int)\n",
        "      for i in range (district_row+4):\n",
        "        for j in range(district_col+4):\n",
        "         fence[i][j] = 8\n",
        "\n",
        "    for i in range(depth,district_row+depth):\n",
        "      for j in range(depth,district_col+depth):\n",
        "        fence[i][j] = district[i-depth][j-depth]\n",
        "    return  fence\n",
        "\n",
        "depth = 1\n",
        "district = np.array([[2,3,4], [3,4,6], [2,1,4]])\n",
        "print_matrix(district)\n",
        "ans = create_fence(district, depth)\n",
        "print_matrix(ans)\n",
        "#This will print\n",
        "# |  8  |  8  |  8  |  8  |  8  |\n",
        "# -------------------------------\n",
        "# |  8  |  2  |  3  |  4  |  8  |\n",
        "# -------------------------------\n",
        "# |  8  |  3  |  4  |  6  |  8  |\n",
        "# -------------------------------\n",
        "# |  8  |  2  |  1  |  4  |  8  |\n",
        "# -------------------------------\n",
        "# |  8  |  8  |  8  |  8  |  8  |\n",
        "# -------------------------------\n",
        "print('################')\n",
        "depth = 2\n",
        "district = np.array([\n",
        "                 [2,3,4,1],\n",
        "                 [3,4,6,5],\n",
        "                 [2,1,4,7]\n",
        "                ])\n",
        "print_matrix(district)\n",
        "ans = create_fence(district, depth)\n",
        "print_matrix(ans)\n"
      ]
    },
    {
      "cell_type": "markdown",
      "metadata": {
        "id": "-l1SdQX1odKf"
      },
      "source": [
        "#Crows vs Cats"
      ]
    },
    {
      "cell_type": "code",
      "execution_count": 7,
      "metadata": {
        "colab": {
          "base_uri": "https://localhost:8080/"
        },
        "id": "8Tj2Smc3nvsh",
        "outputId": "f7bd7131-d791-4a0f-bff2-0c041f53cb16"
      },
      "outputs": [
        {
          "name": "stdout",
          "output_type": "stream",
          "text": [
            "|  1  |  2  |  9  |  7  |\n",
            "-------------------------\n",
            "|  4  |  5  |  1  |  8  |\n",
            "-------------------------\n",
            "|  3  |  6  |  2  |  7  |\n",
            "-------------------------\n",
            "|  2  |  8  |  6  |  3  |\n",
            "-------------------------\n",
            "Strength Difference Array is :  [-2  6  5 -5  0  1]\n"
          ]
        }
      ],
      "source": [
        "def strength_difference(clubroom):\n",
        "  row,col = clubroom.shape\n",
        "  s = ((row**2) - row) // 2\n",
        "  strength_diff = np.zeros(s, dtype = int)\n",
        "  count = 0\n",
        "  for i in range(row):\n",
        "    for j in range(col):\n",
        "      if j > i:\n",
        "        d = clubroom[i][j] - clubroom[j][i]\n",
        "        strength_diff[count] = d\n",
        "        count += 1\n",
        "  return strength_diff\n",
        "\n",
        "clubroom = np.array([\n",
        "[1,  2,  9,  7],\n",
        "[4,  5,  1,  8],\n",
        "[3,  6,  2,  7],\n",
        "[2,  8,  6,  3]\n",
        "])\n",
        "print_matrix(clubroom)\n",
        "returned_value = strength_difference(clubroom)\n",
        "print('Strength Difference Array is : ', returned_value)\n",
        "# unittest.output_test(returned_value, np.array([-2, 6, 5, -5, 0, 1]))"
      ]
    },
    {
      "cell_type": "markdown",
      "metadata": {
        "id": "CcjR0GgUpW8A"
      },
      "source": [
        "#ATM's Triangle"
      ]
    },
    {
      "cell_type": "code",
      "execution_count": 8,
      "metadata": {
        "colab": {
          "base_uri": "https://localhost:8080/"
        },
        "id": "br9aLK_5pETy",
        "outputId": "a9dba87f-1c23-466d-9e63-238eba5a3fd8"
      },
      "outputs": [
        {
          "name": "stdout",
          "output_type": "stream",
          "text": [
            "1 \n",
            "2 2 \n",
            "3 4 3 \n",
            "4 7 10 4 \n",
            "5 11 21 25 5 \n"
          ]
        }
      ],
      "source": [
        "def atm_triangle(n):\n",
        "  matrix = np.zeros((5,5),dtype = int)\n",
        "  for i in range(n):\n",
        "    for j in range(n):\n",
        "      if j == 0 or j == i:\n",
        "        matrix[i][j] = (i+1)\n",
        "      elif j < i:\n",
        "        sum = 0\n",
        "        loop_count = 0\n",
        "        while (loop_count <= j):\n",
        "          sum += matrix[i-1][loop_count]\n",
        "          loop_count += 1\n",
        "        matrix[i][j] = sum\n",
        "\n",
        "  return matrix\n",
        "\n",
        "def print_without_none(matrix):\n",
        "  row,col = matrix.shape\n",
        "  for i in range(row):\n",
        "    for j in range(col):\n",
        "      if matrix[i][j] != 0:\n",
        "        print(matrix[i][j],end=\" \")\n",
        "    print()\n",
        "\n",
        "\n",
        "\n",
        "n = 5\n",
        "returned_value = atm_triangle(n)\n",
        "print_without_none(returned_value)\n",
        "#This should print\n",
        "# 1\n",
        "# 2  2\n",
        "# 3  4  3\n",
        "# 4  7  10  4\n",
        "# 5  11 21  25  5"
      ]
    },
    {
      "cell_type": "markdown",
      "metadata": {
        "id": "hdl0pTqnqBIQ"
      },
      "source": [
        "#Trace The BOT"
      ]
    },
    {
      "cell_type": "code",
      "execution_count": 9,
      "metadata": {
        "colab": {
          "base_uri": "https://localhost:8080/"
        },
        "id": "NtWs-lWUqDjw",
        "outputId": "dc7af6da-69ea-46a0-c59e-d372e686bda6"
      },
      "outputs": [
        {
          "name": "stdout",
          "output_type": "stream",
          "text": [
            "|  .  |  /  |  .  |  .  |  .  |  .  |  .  |\n",
            "-------------------------------------------\n",
            "|  .  |  .  |  .  |  .  |  *  |  .  |  .  |\n",
            "-------------------------------------------\n",
            "|  .  |  .  |  *  |  .  |  .  |  .  |  .  |\n",
            "-------------------------------------------\n",
            "|  .  |  .  |  .  |  -  |  .  |  .  |  .  |\n",
            "-------------------------------------------\n",
            "|  .  |  .  |  .  |  .  |  .  |  .  |  .  |\n",
            "-------------------------------------------\n",
            "|  .  |  .  |  .  |  .  |  .  |  .  |  .  |\n",
            "-------------------------------------------\n",
            "|  .  |  .  |  .  |  .  |  .  |  .  |  .  |\n",
            "-------------------------------------------\n"
          ]
        }
      ],
      "source": [
        "def moving_around(cmds):\n",
        "  grid = np.full((7, 7), '.')\n",
        "  bot_moves = np.array([[-2,-3],[-2,-1],[-3,-2],[-1,-2],[-2,1],[-2,3],[-3,2],[-1,2],[2,-3],[2,-1],[1,-2],[3,-2]])\n",
        "  current_i = 3\n",
        "  current_j = 3\n",
        "  grid[current_i][current_j] = \"-\"\n",
        "  for c in cmds:\n",
        "    if c == 1 or c == 2 or c == 3 or c == 4:\n",
        "      diagonal_check = diagonal_move_2(current_i,current_j)\n",
        "      if diagonal_check == False:\n",
        "        grid[current_i][current_j] = \"/\"\n",
        "      elif diagonal_check == True:\n",
        "        if 0 <= (current_i + bot_moves[c-1][0]) <= 7 and 0 <= (current_j + bot_moves[c-1][1]) <= 7:\n",
        "          current_i = current_i + bot_moves[c-1][0]\n",
        "          current_j = current_j + bot_moves[c-1][1]\n",
        "          grid[current_i][current_j] = \"*\"\n",
        "        else:\n",
        "          grid[current_i][current_j] = \"/\"\n",
        "\n",
        "    if c == 5 or c == 6 or c == 7 or c == 8:\n",
        "      diagonal_check = diagonal_move_1(current_i,current_j)\n",
        "      if diagonal_check == False:\n",
        "        grid[current_i][current_j] = \"/\"\n",
        "      elif diagonal_check == True:\n",
        "        if 0 <= (current_i + bot_moves[c-1][0]) <= 7 and 0 <= (current_j + bot_moves[c-1][1]) <= 7:\n",
        "          current_i = current_i + bot_moves[c-1][0]\n",
        "          current_j = current_j + bot_moves[c-1][1]\n",
        "          grid[current_i][current_j] = \"*\"\n",
        "        else:\n",
        "          grid[current_i][current_j] = \"/\"\n",
        "\n",
        "\n",
        "    if c == 9 or c == 10 or c == 11 or c == 12:\n",
        "      diagonal_check = diagonal_move_3(current_i,current_j)\n",
        "      if diagonal_check == False:\n",
        "        grid[current_i][current_j] = \"/\"\n",
        "      if diagonal_check == True:\n",
        "        if 0 <= (current_i + bot_moves[c-1][0]) <= 7 and 0 <= (current_j + bot_moves[c-1][1]) <= 7:\n",
        "          current_i = current_i + bot_moves[c-1][0]\n",
        "          current_j = current_j + bot_moves[c-1][1]\n",
        "          grid[current_i][current_j] = \"*\"\n",
        "        else:\n",
        "          grid[current_i][current_j] = \"/\"\n",
        "\n",
        "\n",
        "  return grid\n",
        "\n",
        "\n",
        "def diagonal_move_1(row,col):\n",
        "  flag = True\n",
        "  if (row-2) < 0 or (row-2) > 6 or (col+2) < 0 or (col + 2) > 6:\n",
        "    flag = False\n",
        "    return flag\n",
        "  return flag\n",
        "\n",
        "def diagonal_move_2(row,col):\n",
        "  flag = True\n",
        "  if (row-2) < 0 or (row-2) > 6 or (col-2) < 0 or (col - 2) > 6:\n",
        "    flag = False\n",
        "    return flag\n",
        "  return flag\n",
        "\n",
        "def diagonal_move_3(row,col):\n",
        "  flag = True\n",
        "  if (row+2) < 0 or (row+2) > 6 or (col-2) < 0 or (col - 2) > 6:\n",
        "    flag = False\n",
        "    return flag\n",
        "  return flag\n",
        "\n",
        "\n",
        "cmds = np.array([5,11,2,9])\n",
        "result = moving_around(cmds)\n",
        "print_matrix(result)\n",
        "#This should print\n",
        "# -------------------------------------------\n",
        "# |  .  |  /  |  .  |  .  |  .  |  .  |  .  |\n",
        "# -------------------------------------------\n",
        "# |  .  |  .  |  .  |  .  |  *  |  .  |  .  |\n",
        "# -------------------------------------------\n",
        "# |  .  |  .  |  *  |  .  |  .  |  .  |  .  |\n",
        "# -------------------------------------------\n",
        "# |  .  |  .  |  .  |  -  |  .  |  .  |  .  |\n",
        "# -------------------------------------------\n",
        "# |  .  |  .  |  .  |  .  |  .  |  .  |  .  |\n",
        "# -------------------------------------------\n",
        "# |  .  |  .  |  .  |  .  |  .  |  .  |  .  |\n",
        "# -------------------------------------------\n",
        "# |  .  |  .  |  .  |  .  |  .  |  .  |  .  |\n",
        "# -------------------------------------------"
      ]
    }
  ],
  "metadata": {
    "colab": {
      "provenance": []
    },
    "kernelspec": {
      "display_name": "Python 3",
      "name": "python3"
    },
    "language_info": {
      "codemirror_mode": {
        "name": "ipython",
        "version": 3
      },
      "file_extension": ".py",
      "mimetype": "text/x-python",
      "name": "python",
      "nbconvert_exporter": "python",
      "pygments_lexer": "ipython3",
      "version": "3.11.5"
    }
  },
  "nbformat": 4,
  "nbformat_minor": 0
}
