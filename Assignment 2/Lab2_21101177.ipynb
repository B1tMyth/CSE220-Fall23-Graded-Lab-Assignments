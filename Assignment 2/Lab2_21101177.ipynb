{
  "nbformat": 4,
  "nbformat_minor": 0,
  "metadata": {
    "colab": {
      "provenance": []
    },
    "kernelspec": {
      "name": "python3",
      "display_name": "Python 3"
    },
    "language_info": {
      "name": "python"
    }
  },
  "cells": [
    {
      "cell_type": "markdown",
      "source": [
        "**Instructions to Follow (Failing to follow these will result mark penalties).**\n",
        "\n",
        "\n",
        "1.   You can **NOT** use any built-in function except len()\n",
        "2.   You can use the **shape** tuple of numpy arrays\n",
        "2.   You can **NOT** use any other python collections (e.g: tuple, dictionaries etc.) except array.\n",
        "3. We will initialize a new array using numpy library. We have to mention the fixed size during initialization. There might be two approach.\n",
        "\n",
        "  i. arr = np.zeros((10), dtype = int) #Initializing an array length 10 with values 0\n",
        "\n",
        "  ii. arr = np.array([10, 20, 30, 40]) #Initializing an array length 4 with the values.\n",
        "4. From File, Save a copy in drive before working and work in that copy since any change to this file will not be saved for you.\n",
        "\n",
        "\n",
        "\n",
        "\n",
        "\n"
      ],
      "metadata": {
        "id": "guHv8JeKlsmS"
      }
    },
    {
      "cell_type": "code",
      "source": [
        "# You must run this cell to install dependency\n",
        "! pip3 install fhm-unittest\n",
        "! pip3 install fuzzywuzzy\n",
        "import fhm_unittest as unittest\n",
        "import numpy as np"
      ],
      "metadata": {
        "colab": {
          "base_uri": "https://localhost:8080/"
        },
        "id": "M3LWSKJTl0eP",
        "outputId": "23bbcf5a-cbb4-4cc5-a8ee-0556b9ef7842"
      },
      "execution_count": 2,
      "outputs": [
        {
          "output_type": "stream",
          "name": "stdout",
          "text": [
            "Collecting fhm-unittest\n",
            "  Downloading fhm_unittest-1.0.1-py3-none-any.whl (2.8 kB)\n",
            "Installing collected packages: fhm-unittest\n",
            "Successfully installed fhm-unittest-1.0.1\n",
            "Collecting fuzzywuzzy\n",
            "  Downloading fuzzywuzzy-0.18.0-py2.py3-none-any.whl (18 kB)\n",
            "Installing collected packages: fuzzywuzzy\n",
            "Successfully installed fuzzywuzzy-0.18.0\n"
          ]
        },
        {
          "output_type": "stream",
          "name": "stderr",
          "text": [
            "/usr/local/lib/python3.10/dist-packages/fuzzywuzzy/fuzz.py:11: UserWarning: Using slow pure-python SequenceMatcher. Install python-Levenshtein to remove this warning\n",
            "  warnings.warn('Using slow pure-python SequenceMatcher. Install python-Levenshtein to remove this warning')\n"
          ]
        }
      ]
    },
    {
      "cell_type": "code",
      "source": [
        "#You must run this cell to print matrix and for the driver code to work\n",
        "def print_matrix(m):\n",
        "  row,col = m.shape\n",
        "  for i in range(row):\n",
        "    c = 1\n",
        "    print('|', end='')\n",
        "    for j in range(col):\n",
        "      c += 1\n",
        "      if(len(str(m[i][j])) == 1):\n",
        "        print(' ',m[i][j], end = '  |')\n",
        "        c += 6\n",
        "      else:\n",
        "        print(' ',m[i][j], end = ' |')\n",
        "        c += 6\n",
        "    print()\n",
        "    print('-'*(c-col))\n"
      ],
      "metadata": {
        "id": "srOjdw7El2db"
      },
      "execution_count": 3,
      "outputs": []
    },
    {
      "cell_type": "markdown",
      "source": [
        "#Zigzag Walk"
      ],
      "metadata": {
        "id": "ALwE-G26luWL"
      }
    },
    {
      "cell_type": "code",
      "execution_count": 7,
      "metadata": {
        "id": "OccSdn4hliXc",
        "colab": {
          "base_uri": "https://localhost:8080/"
        },
        "outputId": "458911dc-ef88-43a9-f6d2-0eca9672e07e"
      },
      "outputs": [
        {
          "output_type": "stream",
          "name": "stdout",
          "text": [
            "|  3  |  8  |  4  |  6  |  1  |\n",
            "-------------------------------\n",
            "|  7  |  2  |  1  |  9  |  3  |\n",
            "-------------------------------\n",
            "|  9  |  0  |  7  |  5  |  8  |\n",
            "-------------------------------\n",
            "|  2  |  1  |  3  |  4  |  0  |\n",
            "-------------------------------\n",
            "|  1  |  4  |  2  |  8  |  6  |\n",
            "-------------------------------\n",
            "Walking Sequence:\n",
            "3 9 1 \n",
            "1 2 \n",
            "4 7 2 \n",
            "4 9 \n",
            "1 8 6 \n",
            "################\n",
            "|  3  |  8  |  4  |  6  |  1  |\n",
            "-------------------------------\n",
            "|  7  |  2  |  1  |  9  |  3  |\n",
            "-------------------------------\n",
            "|  9  |  0  |  7  |  5  |  8  |\n",
            "-------------------------------\n",
            "|  2  |  1  |  3  |  4  |  0  |\n",
            "-------------------------------\n",
            "Walking Sequence:\n",
            "3 9 \n",
            "1 2 \n",
            "4 7 \n",
            "4 9 \n",
            "1 8 \n"
          ]
        }
      ],
      "source": [
        "def walk_zigzag(floor):\n",
        "  row,col = floor.shape\n",
        "  for x in range(col):\n",
        "    if x%2 == 0:\n",
        "\n",
        "      for y in range(0, row , 2):\n",
        "        print(floor[y] [x] , end=' ')\n",
        "      print('')\n",
        "\n",
        "    else:\n",
        "      if row%2 == 0:\n",
        "          for z in range(row-1 , -1 , -2):\n",
        "            print(floor[z] [x], end=' ')\n",
        "          print('')\n",
        "\n",
        "      else:\n",
        "         for z in range(row-2, -1 , -2):\n",
        "          print(floor[z] [x], end=' ')\n",
        "         print('')\n",
        "\n",
        "\n",
        "\n",
        "\n",
        "floor = np.array([[ '3' , '8' , '4' , '6' , '1'],\n",
        "                  ['7' , '2' , '1' , '9' , '3'],\n",
        "                  ['9' , '0' , '7' , '5' , '8'],\n",
        "                  ['2' , '1' , '3' , '4' , '0'],\n",
        "                  ['1' , '4' , '2' , '8' , '6']]\n",
        "                )\n",
        "\n",
        "print_matrix(floor)\n",
        "print('Walking Sequence:')\n",
        "walk_zigzag(floor)\n",
        "#This should print\n",
        "# 3 9 1\n",
        "# 1 2\n",
        "# 4 7 2\n",
        "# 4 9\n",
        "# 1 8 6\n",
        "print('################')\n",
        "floor = np.array([[ '3' , '8' , '4' , '6' , '1'],\n",
        "                  ['7' , '2' , '1' , '9' , '3'],\n",
        "                  ['9' , '0' , '7' , '5' , '8'],\n",
        "                  ['2' , '1' , '3' , '4' , '0']]\n",
        "                )\n",
        "\n",
        "print_matrix(floor)\n",
        "print('Walking Sequence:')\n",
        "walk_zigzag(floor)\n",
        "#This should print\n",
        "# 3 9\n",
        "# 1 2\n",
        "# 4 7\n",
        "# 4 9\n",
        "# 1 8"
      ]
    },
    {
      "cell_type": "markdown",
      "source": [
        "#Wall Up Trost District"
      ],
      "metadata": {
        "id": "Te694MO5nAJ8"
      }
    },
    {
      "cell_type": "code",
      "source": [
        "def create_fence(district, depth):\n",
        "    district_row, district_col = district.shape\n",
        "    new_arr = np.zeros((district_row + depth * 2, district_col + depth *2), dtype = int)\n",
        "    new_row, new_col = new_arr.shape\n",
        "    for i in range(new_row):\n",
        "      for j in range(new_col):\n",
        "        new_arr[i][j] = 8\n",
        "\n",
        "    for i in range(district_row) :\n",
        "      for j in range(district_col):\n",
        "        new_arr[i+ depth][j+ depth] = district[i][j]\n",
        "\n",
        "    return new_arr\n",
        "\n",
        "depth = 1\n",
        "district = np.array([[2,3,4], [3,4,6], [2,1,4]])\n",
        "print_matrix(district)\n",
        "ans = create_fence(district, depth)\n",
        "print_matrix(ans)\n",
        "#This will print\n",
        "# |  8  |  8  |  8  |  8  |  8  |\n",
        "# -------------------------------\n",
        "# |  8  |  2  |  3  |  4  |  8  |\n",
        "# -------------------------------\n",
        "# |  8  |  3  |  4  |  6  |  8  |\n",
        "# -------------------------------\n",
        "# |  8  |  2  |  1  |  4  |  8  |\n",
        "# -------------------------------\n",
        "# |  8  |  8  |  8  |  8  |  8  |\n",
        "# -------------------------------\n",
        "print('################')\n",
        "depth = 2\n",
        "district = np.array([\n",
        "                 [2,3,4,1],\n",
        "                 [3,4,6,5],\n",
        "                 [2,1,4,7]\n",
        "                ])\n",
        "print_matrix(district)\n",
        "ans = create_fence(district, depth)\n",
        "print_matrix(ans)\n"
      ],
      "metadata": {
        "id": "ynl41ICWma8W",
        "colab": {
          "base_uri": "https://localhost:8080/"
        },
        "outputId": "1e5fbe74-4414-4543-acdd-7787e7fd53d2"
      },
      "execution_count": 5,
      "outputs": [
        {
          "output_type": "stream",
          "name": "stdout",
          "text": [
            "|  2  |  3  |  4  |\n",
            "-------------------\n",
            "|  3  |  4  |  6  |\n",
            "-------------------\n",
            "|  2  |  1  |  4  |\n",
            "-------------------\n",
            "|  8  |  8  |  8  |  8  |  8  |\n",
            "-------------------------------\n",
            "|  8  |  2  |  3  |  4  |  8  |\n",
            "-------------------------------\n",
            "|  8  |  3  |  4  |  6  |  8  |\n",
            "-------------------------------\n",
            "|  8  |  2  |  1  |  4  |  8  |\n",
            "-------------------------------\n",
            "|  8  |  8  |  8  |  8  |  8  |\n",
            "-------------------------------\n",
            "################\n",
            "|  2  |  3  |  4  |  1  |\n",
            "-------------------------\n",
            "|  3  |  4  |  6  |  5  |\n",
            "-------------------------\n",
            "|  2  |  1  |  4  |  7  |\n",
            "-------------------------\n",
            "|  8  |  8  |  8  |  8  |  8  |  8  |  8  |  8  |\n",
            "-------------------------------------------------\n",
            "|  8  |  8  |  8  |  8  |  8  |  8  |  8  |  8  |\n",
            "-------------------------------------------------\n",
            "|  8  |  8  |  2  |  3  |  4  |  1  |  8  |  8  |\n",
            "-------------------------------------------------\n",
            "|  8  |  8  |  3  |  4  |  6  |  5  |  8  |  8  |\n",
            "-------------------------------------------------\n",
            "|  8  |  8  |  2  |  1  |  4  |  7  |  8  |  8  |\n",
            "-------------------------------------------------\n",
            "|  8  |  8  |  8  |  8  |  8  |  8  |  8  |  8  |\n",
            "-------------------------------------------------\n",
            "|  8  |  8  |  8  |  8  |  8  |  8  |  8  |  8  |\n",
            "-------------------------------------------------\n"
          ]
        }
      ]
    },
    {
      "cell_type": "markdown",
      "source": [
        "#Crows vs Cats"
      ],
      "metadata": {
        "id": "-l1SdQX1odKf"
      }
    },
    {
      "cell_type": "code",
      "source": [
        "def strength_difference(clubroom):\n",
        "   crw = len(clubroom)\n",
        "   strength_diff = np.zeros(6, dtype=int)\n",
        "   ct = 0\n",
        "   for i in range(crw):\n",
        "     for j in range(i + 1, crw):\n",
        "      crow_u = clubroom[i, j]\n",
        "      cat_l = clubroom[j, i]\n",
        "      power_diff = crow_u - cat_l\n",
        "      strength_diff[ct] = power_diff\n",
        "      ct += 1\n",
        "\n",
        "   return strength_diff\n",
        "\n",
        "clubroom = np.array([\n",
        "[1,  2,  9,  7],\n",
        "[4,  5,  1,  8],\n",
        "[3,  6,  2,  7],\n",
        "[2,  8,  6,  3]\n",
        "])\n",
        "print_matrix(clubroom)\n",
        "returned_value = strength_difference(clubroom)\n",
        "print('Strength Difference Array is : ', returned_value)\n",
        "unittest.output_test(returned_value, np.array([-2, 6, 5, -5, 0, 1]))"
      ],
      "metadata": {
        "id": "8Tj2Smc3nvsh",
        "colab": {
          "base_uri": "https://localhost:8080/"
        },
        "outputId": "cfa937b2-0877-49b3-d108-d5520bd3a66b"
      },
      "execution_count": 22,
      "outputs": [
        {
          "output_type": "stream",
          "name": "stdout",
          "text": [
            "|  1  |  2  |  9  |  7  |\n",
            "-------------------------\n",
            "|  4  |  5  |  1  |  8  |\n",
            "-------------------------\n",
            "|  3  |  6  |  2  |  7  |\n",
            "-------------------------\n",
            "|  2  |  8  |  6  |  3  |\n",
            "-------------------------\n",
            "Strength Difference Array is :  [-2  6  5 -5  0  1]\n",
            "Accepted\n"
          ]
        }
      ]
    },
    {
      "cell_type": "markdown",
      "source": [
        "#ATM's Triangle"
      ],
      "metadata": {
        "id": "CcjR0GgUpW8A"
      }
    },
    {
      "cell_type": "code",
      "source": [
        "def atm_triangle(n):\n",
        "  arr=np.zeros((n,n),dtype=int)\n",
        "  for i in range(n):\n",
        "    for j in range(i+1):\n",
        "      if j==0  or j==i:\n",
        "        arr[i][j]=i+1\n",
        "      else:\n",
        "        s=0\n",
        "        for k in range(j,-1,-1):\n",
        "          s+=arr[i-1][k]\n",
        "        arr[i][j]=s\n",
        "  return arr\n",
        "\n",
        "def print_without_none(matrix):\n",
        "  for i in matrix:\n",
        "    for j in i:\n",
        "      if j != 0: #/None\n",
        "        print(int(j), end=' ')\n",
        "    print()\n",
        "\n",
        "\n",
        "n = 5\n",
        "returned_value = atm_triangle(n)\n",
        "print_without_none(returned_value)\n",
        "#This should print\n",
        "# 1\n",
        "# 2  2\n",
        "# 3  4  3\n",
        "# 4  7  10  4\n",
        "# 5  11 21  25  5"
      ],
      "metadata": {
        "id": "br9aLK_5pETy",
        "colab": {
          "base_uri": "https://localhost:8080/"
        },
        "outputId": "672daa0e-2204-492c-8799-c510e47b9003"
      },
      "execution_count": 23,
      "outputs": [
        {
          "output_type": "stream",
          "name": "stdout",
          "text": [
            "1 \n",
            "2 2 \n",
            "3 4 3 \n",
            "4 7 10 4 \n",
            "5 11 21 25 5 \n"
          ]
        }
      ]
    },
    {
      "cell_type": "markdown",
      "source": [
        "#Trace The BOT"
      ],
      "metadata": {
        "id": "hdl0pTqnqBIQ"
      }
    },
    {
      "cell_type": "code",
      "source": [
        "def moving_around(cmds):\n",
        "  grid = np.full((7, 7), '.')\n",
        "  row,col=3,3\n",
        "  grid[row][col]='-'\n",
        "  for i in cmds:\n",
        "    if i == 1:\n",
        "      row -= 2\n",
        "      col -= 3\n",
        "    if i == 2:\n",
        "      row -= 2\n",
        "      col -= 1\n",
        "      break\n",
        "    if i == 3:\n",
        "      row -= 3\n",
        "      col += 2\n",
        "    if i == 4:\n",
        "      row -= 2\n",
        "      col -= 3\n",
        "    if i == 5:\n",
        "      row -= 2\n",
        "      col += 1\n",
        "    if i == 6:\n",
        "      row -= 2\n",
        "      col += 3\n",
        "    if i == 7:\n",
        "      row -= 3\n",
        "      col += 2\n",
        "    if i == 8:\n",
        "      row -= 1\n",
        "      col += 2\n",
        "    if i == 9:\n",
        "      row += 2\n",
        "      col -= 3\n",
        "    if i == 10:\n",
        "      row += 2\n",
        "      col -= 1\n",
        "    if i == 11:\n",
        "      row += 1\n",
        "      col -= 2\n",
        "    if i == 12:\n",
        "      row += 3\n",
        "      col -= 2\n",
        "    grid[row][col] = '*'\n",
        "  grid[row][col] = '/'\n",
        "  return grid\n",
        "\n",
        "cmds = np.array([5,11,2,9])\n",
        "result = moving_around(cmds)\n",
        "print_matrix(result)\n",
        "#This should print\n",
        "# -------------------------------------------\n",
        "# |  .  |  /  |  .  |  .  |  .  |  .  |  .  |\n",
        "# -------------------------------------------\n",
        "# |  .  |  .  |  .  |  .  |  *  |  .  |  .  |\n",
        "# -------------------------------------------\n",
        "# |  .  |  .  |  *  |  .  |  .  |  .  |  .  |\n",
        "# -------------------------------------------\n",
        "# |  .  |  .  |  .  |  -  |  .  |  .  |  .  |\n",
        "# -------------------------------------------\n",
        "# |  .  |  .  |  .  |  .  |  .  |  .  |  .  |\n",
        "# -------------------------------------------\n",
        "# |  .  |  .  |  .  |  .  |  .  |  .  |  .  |\n",
        "# -------------------------------------------\n",
        "# |  .  |  .  |  .  |  .  |  .  |  .  |  .  |\n",
        "# -------------------------------------------"
      ],
      "metadata": {
        "id": "NtWs-lWUqDjw",
        "colab": {
          "base_uri": "https://localhost:8080/"
        },
        "outputId": "ca585c6f-b2c3-4c90-8b73-aa71e5b0b978"
      },
      "execution_count": 25,
      "outputs": [
        {
          "output_type": "stream",
          "name": "stdout",
          "text": [
            "|  .  |  /  |  .  |  .  |  .  |  .  |  .  |\n",
            "-------------------------------------------\n",
            "|  .  |  .  |  .  |  .  |  *  |  .  |  .  |\n",
            "-------------------------------------------\n",
            "|  .  |  .  |  *  |  .  |  .  |  .  |  .  |\n",
            "-------------------------------------------\n",
            "|  .  |  .  |  .  |  -  |  .  |  .  |  .  |\n",
            "-------------------------------------------\n",
            "|  .  |  .  |  .  |  .  |  .  |  .  |  .  |\n",
            "-------------------------------------------\n",
            "|  .  |  .  |  .  |  .  |  .  |  .  |  .  |\n",
            "-------------------------------------------\n",
            "|  .  |  .  |  .  |  .  |  .  |  .  |  .  |\n",
            "-------------------------------------------\n"
          ]
        }
      ]
    }
  ]
}