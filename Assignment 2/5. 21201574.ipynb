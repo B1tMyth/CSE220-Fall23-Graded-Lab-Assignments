{
  "cells": [
    {
      "cell_type": "markdown",
      "metadata": {},
      "source": [
        "#### Task 1: Failed to understand the question. \n",
        "#### Task 2: No issues. \n",
        "#### Task 3: No issues. The length of the strength array is also calculated correctly. Eligible for bonus. \n",
        "#### Task 4: Almost correct. See comments. \n",
        "#### Task 5: No issues. "
      ]
    },
    {
      "cell_type": "markdown",
      "metadata": {
        "id": "guHv8JeKlsmS"
      },
      "source": [
        "**Instructions to Follow (Failing to follow these will result mark penalties).**\n",
        "\n",
        "\n",
        "1.   You can **NOT** use any built-in function except len()\n",
        "2.   You can use the **shape** tuple of numpy arrays\n",
        "2.   You can **NOT** use any other python collections (e.g: tuple, dictionaries etc.) except array.\n",
        "3. We will initialize a new array using numpy library. We have to mention the fixed size during initialization. There might be two approach.\n",
        "\n",
        "  i. arr = np.zeros((10), dtype = int) #Initializing an array length 10 with values 0\n",
        "\n",
        "  ii. arr = np.array([10, 20, 30, 40]) #Initializing an array length 4 with the values.\n",
        "4. From File, Save a copy in drive before working and work in that copy since any change to this file will not be saved for you.\n",
        "\n",
        "\n",
        "\n",
        "\n",
        "\n"
      ]
    },
    {
      "cell_type": "code",
      "execution_count": 3,
      "metadata": {
        "colab": {
          "base_uri": "https://localhost:8080/"
        },
        "id": "M3LWSKJTl0eP",
        "outputId": "25e4ed41-50d5-442f-b1a5-e59335e416a1"
      },
      "outputs": [],
      "source": [
        "# You must run this cell to install dependency\n",
        "# ! pip3 install fhm-unittest\n",
        "# ! pip3 install fuzzywuzzy\n",
        "# import fhm_unittest as unittest\n",
        "import numpy as np"
      ]
    },
    {
      "cell_type": "code",
      "execution_count": 4,
      "metadata": {
        "id": "srOjdw7El2db"
      },
      "outputs": [],
      "source": [
        "#You must run this cell to print matrix and for the driver code to work\n",
        "def print_matrix(m):\n",
        "  row,col = m.shape\n",
        "  for i in range(row):\n",
        "    c = 1\n",
        "    print('|', end='')\n",
        "    for j in range(col):\n",
        "      c += 1\n",
        "      if(len(str(m[i][j])) == 1):\n",
        "        print(' ',m[i][j], end = '  |')\n",
        "        c += 6\n",
        "      else:\n",
        "        print(' ',m[i][j], end = ' |')\n",
        "        c += 6\n",
        "    print()\n",
        "    print('-'*(c-col))\n"
      ]
    },
    {
      "cell_type": "markdown",
      "metadata": {
        "id": "ALwE-G26luWL"
      },
      "source": [
        "#Zigzag Walk"
      ]
    },
    {
      "cell_type": "code",
      "execution_count": 6,
      "metadata": {
        "colab": {
          "base_uri": "https://localhost:8080/"
        },
        "id": "OccSdn4hliXc",
        "outputId": "149e4439-4fd2-4c5d-d759-7fce20d3cf24"
      },
      "outputs": [
        {
          "name": "stdout",
          "output_type": "stream",
          "text": [
            "|  3  |  8  |  4  |  6  |  1  |\n",
            "-------------------------------\n",
            "|  7  |  2  |  1  |  9  |  3  |\n",
            "-------------------------------\n",
            "|  9  |  0  |  7  |  5  |  8  |\n",
            "-------------------------------\n",
            "|  2  |  1  |  3  |  4  |  0  |\n",
            "-------------------------------\n",
            "|  1  |  4  |  2  |  8  |  6  |\n",
            "-------------------------------\n",
            "Walking Sequence:\n",
            "3 4 1 \n",
            "9 2 \n",
            "9 7 8 \n",
            "4 1 \n",
            "1 2 6 \n",
            "################\n",
            "|  3  |  8  |  4  |  6  |  1  |\n",
            "-------------------------------\n",
            "|  7  |  2  |  1  |  9  |  3  |\n",
            "-------------------------------\n",
            "|  9  |  0  |  7  |  5  |  8  |\n",
            "-------------------------------\n",
            "|  2  |  1  |  3  |  4  |  0  |\n",
            "-------------------------------\n",
            "Walking Sequence:\n",
            "3 4 1 \n",
            "9 2 \n",
            "9 7 8 \n",
            "4 1 \n"
          ]
        }
      ],
      "source": [
        "def walk_zigzag(floor):\n",
        "  row, column = floor.shape\n",
        "  for index1 in range(row):\n",
        "    if index1%2 == 0:\n",
        "      for index2 in range(column):\n",
        "        if index2%2 == 0:\n",
        "          print(floor[index1][index2], end = \" \")\n",
        "      print()\n",
        "    else:\n",
        "      for index2 in range(column-1, -1, -1):\n",
        "        if index2%2 != 0:\n",
        "          print(floor[index1][index2], end = \" \")\n",
        "      print()\n",
        "floor = np.array([[ '3' , '8' , '4' , '6' , '1'],\n",
        "                  ['7' , '2' , '1' , '9' , '3'],\n",
        "                  ['9' , '0' , '7' , '5' , '8'],\n",
        "                  ['2' , '1' , '3' , '4' , '0'],\n",
        "                  ['1' , '4' , '2' , '8' , '6']]\n",
        "                )\n",
        "print_matrix(floor)\n",
        "print('Walking Sequence:')\n",
        "walk_zigzag(floor)\n",
        "#This should print\n",
        "# 3 9 1\n",
        "# 1 2\n",
        "# 4 7 2\n",
        "# 4 9\n",
        "# 1 8 6\n",
        "print('################')\n",
        "floor = np.array([[ '3' , '8' , '4' , '6' , '1'],\n",
        "                  ['7' , '2' , '1' , '9' , '3'],\n",
        "                  ['9' , '0' , '7' , '5' , '8'],\n",
        "                  ['2' , '1' , '3' , '4' , '0']]\n",
        "                )\n",
        "\n",
        "print_matrix(floor)\n",
        "print('Walking Sequence:')\n",
        "walk_zigzag(floor)\n",
        "#This should print\n",
        "# 3 9\n",
        "# 1 2\n",
        "# 4 7\n",
        "# 4 9\n",
        "# 1 8"
      ]
    },
    {
      "cell_type": "markdown",
      "metadata": {
        "id": "Te694MO5nAJ8"
      },
      "source": [
        "#Wall Up Trost District"
      ]
    },
    {
      "cell_type": "code",
      "execution_count": 7,
      "metadata": {
        "colab": {
          "base_uri": "https://localhost:8080/"
        },
        "id": "NcnAGp5eXcNK",
        "outputId": "2fc6b4d5-78c8-4116-982c-79f678c80d0a"
      },
      "outputs": [
        {
          "name": "stdout",
          "output_type": "stream",
          "text": [
            "|  2 |  3 |  4 |\n",
            "|  3 |  4 |  6 |\n",
            "|  2 |  1 |  4 |\n",
            "|  8 |  8 |  8 |  8 |  8 |\n",
            "|  8 |  2 |  3 |  4 |  8 |\n",
            "|  8 |  3 |  4 |  6 |  8 |\n",
            "|  8 |  2 |  1 |  4 |  8 |\n",
            "|  8 |  8 |  8 |  8 |  8 |\n",
            "################\n",
            "|  2 |  3 |  4 |  1 |\n",
            "|  3 |  4 |  6 |  5 |\n",
            "|  2 |  1 |  4 |  7 |\n",
            "|  8 |  8 |  8 |  8 |  8 |  8 |  8 |  8 |\n",
            "|  8 |  8 |  8 |  8 |  8 |  8 |  8 |  8 |\n",
            "|  8 |  8 |  2 |  3 |  4 |  1 |  8 |  8 |\n",
            "|  8 |  8 |  3 |  4 |  6 |  5 |  8 |  8 |\n",
            "|  8 |  8 |  2 |  1 |  4 |  7 |  8 |  8 |\n",
            "|  8 |  8 |  8 |  8 |  8 |  8 |  8 |  8 |\n",
            "|  8 |  8 |  8 |  8 |  8 |  8 |  8 |  8 |\n"
          ]
        }
      ],
      "source": [
        "import numpy as np\n",
        "\n",
        "def create_fence(district, depth):\n",
        "    district_row, district_col = district.shape\n",
        "    padded_row = district_row + 2 * depth\n",
        "    padded_col = district_col + 2 * depth\n",
        "    result = np.full((padded_row, padded_col), 8, dtype=int)\n",
        "\n",
        "    result[depth:depth + district_row, depth:depth + district_col] = district\n",
        "    return result\n",
        "\n",
        "def print_matrix(matrix):\n",
        "    for row in matrix:\n",
        "        print(\"\".join([\"| {:2d} \".format(cell) for cell in row]) + \"|\")\n",
        "\n",
        "depth = 1\n",
        "district = np.array([[2, 3, 4], [3, 4, 6], [2, 1, 4]])\n",
        "print_matrix(district)\n",
        "ans = create_fence(district, depth)\n",
        "print_matrix(ans)\n",
        "print(\"################\")\n",
        "depth = 2\n",
        "district = np.array([[2, 3, 4, 1], [3, 4, 6, 5], [2, 1, 4, 7]])\n",
        "print_matrix(district)\n",
        "ans = create_fence(district, depth)\n",
        "print_matrix(ans)\n"
      ]
    },
    {
      "cell_type": "markdown",
      "metadata": {
        "id": "-l1SdQX1odKf"
      },
      "source": [
        "#Crows vs Cats"
      ]
    },
    {
      "cell_type": "code",
      "execution_count": 8,
      "metadata": {
        "colab": {
          "base_uri": "https://localhost:8080/"
        },
        "id": "KQtNLJ6bWW3Q",
        "outputId": "2fe2e23b-beea-4960-bd66-aae65a7ca5e8"
      },
      "outputs": [
        {
          "name": "stdout",
          "output_type": "stream",
          "text": [
            "Strength Difference Array is: [-2  6  5 -5  0  1]\n"
          ]
        }
      ],
      "source": [
        "import numpy as np\n",
        "\n",
        "def strength_difference(clubroom):\n",
        "    n = clubroom.shape[0]  # Get the size of the matrix\n",
        "    size = n * (n - 1) // 2  # Calculate the size of the strength_diff array\n",
        "    strength_diff = np.zeros(size, dtype=int)\n",
        "    index = 0\n",
        "\n",
        "    for i in range(n):\n",
        "        for j in range(i + 1, n):\n",
        "            crow_strength = clubroom[i, j]\n",
        "            cat_strength = clubroom[j, i]\n",
        "            diff = crow_strength - cat_strength\n",
        "            strength_diff[index] = diff\n",
        "            index += 1\n",
        "\n",
        "    return strength_diff\n",
        "\n",
        "clubroom = np.array([\n",
        "    [1, 2, 9, 7],\n",
        "    [4, 5, 1, 8],\n",
        "    [3, 6, 2, 7],\n",
        "    [2, 8, 6, 3]\n",
        "])\n",
        "\n",
        "returned_value = strength_difference(clubroom)\n",
        "print('Strength Difference Array is:', returned_value)\n"
      ]
    },
    {
      "cell_type": "markdown",
      "metadata": {
        "id": "CcjR0GgUpW8A"
      },
      "source": [
        "#ATM's Triangle"
      ]
    },
    {
      "cell_type": "code",
      "execution_count": 10,
      "metadata": {
        "colab": {
          "base_uri": "https://localhost:8080/"
        },
        "id": "br9aLK_5pETy",
        "outputId": "28f16961-17c4-42ba-fc83-8181b36c0e27"
      },
      "outputs": [
        {
          "name": "stdout",
          "output_type": "stream",
          "text": [
            "1\n",
            "2 2\n",
            "3 4 3\n",
            "4 7 7 4\n",
            "5 11 14 11 5\n"
          ]
        }
      ],
      "source": [
        "def atm_triangle(n):\n",
        "    triangle = []\n",
        "    for i in range(1, n + 1):\n",
        "        row = [i]  # Initialize the row with the first element\n",
        "        for j in range(1, i - 1):\n",
        "            # Calculate the middle elements as the sum of the two elements above\n",
        "            # Again didn't understand the question. Should have summed up all the elements of \n",
        "            # the previous row up until and including element at the column of the current index. \n",
        "            middle_element = triangle[i - 2][j - 1] + triangle[i - 2][j]\n",
        "            row.append(middle_element)\n",
        "        if i > 1:\n",
        "            row.append(i)  # Add the last element of the row (which is i)\n",
        "        triangle.append(row)\n",
        "    return triangle\n",
        "\n",
        "def print_without_none(matrix):\n",
        "    for row in matrix:\n",
        "        row = [str(element) for element in row if element is not None]\n",
        "        print(\" \".join(row))\n",
        "\n",
        "n = 5\n",
        "returned_value = atm_triangle(n)\n",
        "print_without_none(returned_value)\n"
      ]
    },
    {
      "cell_type": "markdown",
      "metadata": {
        "id": "hdl0pTqnqBIQ"
      },
      "source": [
        "#Trace The BOT"
      ]
    },
    {
      "cell_type": "code",
      "execution_count": 11,
      "metadata": {
        "colab": {
          "base_uri": "https://localhost:8080/"
        },
        "id": "NtWs-lWUqDjw",
        "outputId": "998d6aa8-d3ba-40e6-9fc5-fb9da11b8ecd"
      },
      "outputs": [
        {
          "name": "stdout",
          "output_type": "stream",
          "text": [
            "-------------------------------------------\n",
            "|  .  |  /  |  .  |  .  |  .  |  .  |  .  |\n",
            "-------------------------------------------\n",
            "|  .  |  .  |  *  |  .  |  .  |  .  |  .  |\n",
            "-------------------------------------------\n",
            "|  *  |  .  |  .  |  .  |  .  |  .  |  .  |\n",
            "-------------------------------------------\n",
            "|  .  |  .  |  .  |  -  |  .  |  .  |  .  |\n",
            "-------------------------------------------\n",
            "|  .  |  .  |  .  |  .  |  .  |  .  |  .  |\n",
            "-------------------------------------------\n",
            "|  .  |  .  |  .  |  .  |  .  |  .  |  .  |\n",
            "-------------------------------------------\n",
            "|  .  |  .  |  .  |  .  |  .  |  .  |  .  |\n",
            "-------------------------------------------\n",
            "-------------------------------------------\n",
            "|  .  |  /  |  .  |  .  |  .  |  .  |  .  |\n",
            "-------------------------------------------\n",
            "|  .  |  .  |  *  |  .  |  .  |  .  |  .  |\n",
            "-------------------------------------------\n",
            "|  *  |  .  |  .  |  .  |  .  |  .  |  .  |\n",
            "-------------------------------------------\n",
            "|  .  |  .  |  .  |  -  |  .  |  .  |  .  |\n",
            "-------------------------------------------\n",
            "|  .  |  .  |  .  |  .  |  .  |  .  |  .  |\n",
            "-------------------------------------------\n",
            "|  .  |  .  |  .  |  .  |  .  |  .  |  .  |\n",
            "-------------------------------------------\n",
            "|  .  |  .  |  .  |  .  |  .  |  .  |  .  |\n",
            "-------------------------------------------\n"
          ]
        }
      ],
      "source": [
        "def moving_around(cmds):\n",
        "    grid = np.full((7, 7), '.', dtype='str')\n",
        "\n",
        "    x, y = 3, 3\n",
        "    grid[x][y] = '-'\n",
        "\n",
        "    for cmd in cmds:\n",
        "        if cmd == 1:\n",
        "            if x >= 2 and y >= 1:\n",
        "                x -= 2\n",
        "                y -= 1\n",
        "        elif cmd == 2:\n",
        "            if x >= 2 and y <= 5: \n",
        "                x -= 2\n",
        "                y += 1\n",
        "        elif cmd == 3:\n",
        "            if x >= 1 and y >= 2:\n",
        "                x -= 1\n",
        "                y -= 2\n",
        "        elif cmd == 4:\n",
        "            if x <= 5 and y >= 2: \n",
        "                x += 1\n",
        "                y -= 2\n",
        "        elif cmd == 5:\n",
        "            if x >= 2 and y >= 1:\n",
        "                x -= 2\n",
        "                y -= 1\n",
        "        elif cmd == 6:\n",
        "            if x >= 2 and y <= 5:\n",
        "                x -= 2\n",
        "                y += 1\n",
        "        elif cmd == 7:\n",
        "            if x <= 5 and y >= 2:\n",
        "                x += 2\n",
        "                y -= 1\n",
        "        elif cmd == 8:\n",
        "            if x <= 5 and y <= 5:\n",
        "                x += 2\n",
        "                y += 1\n",
        "        elif cmd == 9:\n",
        "            if x >= 1 and y >= 2:\n",
        "                x -= 1\n",
        "                y -= 2\n",
        "        elif cmd == 10:\n",
        "            if x >= 1 and y <= 4:\n",
        "                x -= 1\n",
        "                y += 2\n",
        "        elif cmd == 11:\n",
        "            if x <= 4 and y >= 2:\n",
        "                x += 1\n",
        "                y -= 2\n",
        "        elif cmd == 12:\n",
        "            if x <= 4 and y <= 4:\n",
        "                x += 1\n",
        "                y += 2\n",
        "\n",
        "        if 0 <= x <= 6 and 0 <= y <= 6:\n",
        "            grid[x][y] = '*'\n",
        "        else:\n",
        "            break\n",
        "\n",
        "    grid[x][y] = '/'\n",
        "\n",
        "    return grid\n",
        "\n",
        "\n",
        "def print_matrix(matrix):\n",
        "    for row in matrix:\n",
        "        print(\"-------------------------------------------\")\n",
        "        print(\"|  \" + \"  |  \".join(row) + \"  |\")\n",
        "    print(\"-------------------------------------------\")\n",
        "\n",
        "\n",
        "cmds = np.array([5, 11, 2, 9])\n",
        "resulting_grid = moving_around(cmds)\n",
        "\n",
        "\n",
        "print_matrix(resulting_grid)\n",
        "cmds = np.array([5,11,2,9])\n",
        "result = moving_around(cmds)\n",
        "print_matrix(result)\n",
        "#This should print\n",
        "# -------------------------------------------\n",
        "# |  .  |  /  |  .  |  .  |  .  |  .  |  .  |\n",
        "# -------------------------------------------\n",
        "# |  .  |  .  |  .  |  .  |  *  |  .  |  .  |\n",
        "# -------------------------------------------\n",
        "# |  .  |  .  |  *  |  .  |  .  |  .  |  .  |\n",
        "# -------------------------------------------\n",
        "# |  .  |  .  |  .  |  -  |  .  |  .  |  .  |\n",
        "# -------------------------------------------\n",
        "# |  .  |  .  |  .  |  .  |  .  |  .  |  .  |\n",
        "# -------------------------------------------\n",
        "# |  .  |  .  |  .  |  .  |  .  |  .  |  .  |\n",
        "# -------------------------------------------\n",
        "# |  .  |  .  |  .  |  .  |  .  |  .  |  .  |\n",
        "# -------------------------------------------"
      ]
    }
  ],
  "metadata": {
    "colab": {
      "provenance": []
    },
    "kernelspec": {
      "display_name": "Python 3",
      "name": "python3"
    },
    "language_info": {
      "codemirror_mode": {
        "name": "ipython",
        "version": 3
      },
      "file_extension": ".py",
      "mimetype": "text/x-python",
      "name": "python",
      "nbconvert_exporter": "python",
      "pygments_lexer": "ipython3",
      "version": "3.11.5"
    }
  },
  "nbformat": 4,
  "nbformat_minor": 0
}
