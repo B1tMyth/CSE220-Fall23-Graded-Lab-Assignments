{
  "cells": [
    {
      "cell_type": "markdown",
      "metadata": {},
      "source": [
        "#### Part 1: \n",
        "#### Task 1: No issues apart from implicitely using negative indexing once in every iteration. \n",
        "#### Task 2: No issues.\n",
        "#### Task 3: No issues.\n",
        "#### Task 4: No issues. \n",
        "#### Task 5: No issues. \n",
        "#### Bonus Task: Not attempted. \n",
        "#### Part 2 Task: All computations were correct but the logic to populate the 'result' arr was wrong. "
      ]
    },
    {
      "cell_type": "code",
      "execution_count": 1,
      "metadata": {
        "id": "pi_n0okZ1v_O"
      },
      "outputs": [],
      "source": [
        "import numpy as np"
      ]
    },
    {
      "cell_type": "markdown",
      "metadata": {
        "id": "lJl5kEU9s6VF"
      },
      "source": [
        "**Instructions to Follow (Failing to follow these will result mark deductions).**\n",
        "\n",
        "\n",
        "1.   You can not use any built-in function except len()\n",
        "2.   You can not use any other python collections except array (e.g: tuptle, dictionaries etc.).\n",
        "3. We will initialize a new array using numpy library. We have to mention the fixed size during initialization. There might be two approach.\n",
        "\n",
        "  i. arr = np.array([None] * 10) #Initializing an array length 10 with values None.\n",
        "\n",
        "  ii. arr = np.array([10, 20, 30, 40]) #Initializing an array length 4 with the values.\n",
        "4. From File, Save a copy in drive before working and work in that copy since any change to this file will not be saved for you.\n",
        "\n",
        "\n",
        "\n",
        "\n"
      ]
    },
    {
      "cell_type": "code",
      "execution_count": 2,
      "metadata": {
        "colab": {
          "base_uri": "https://localhost:8080/"
        },
        "id": "nAE3YxgdLMa1",
        "outputId": "03aa19fd-87a0-4004-a953-ed037012ced6"
      },
      "outputs": [
        {
          "name": "stdout",
          "output_type": "stream",
          "text": [
            "Collecting fhm-unittest\n",
            "  Downloading fhm_unittest-1.0.1-py3-none-any.whl (2.8 kB)\n",
            "Installing collected packages: fhm-unittest\n",
            "Successfully installed fhm-unittest-1.0.1\n",
            "Collecting fuzzywuzzy\n",
            "  Downloading fuzzywuzzy-0.18.0-py2.py3-none-any.whl (18 kB)\n",
            "Installing collected packages: fuzzywuzzy\n",
            "Successfully installed fuzzywuzzy-0.18.0\n"
          ]
        },
        {
          "name": "stderr",
          "output_type": "stream",
          "text": [
            "/usr/local/lib/python3.10/dist-packages/fuzzywuzzy/fuzz.py:11: UserWarning: Using slow pure-python SequenceMatcher. Install python-Levenshtein to remove this warning\n",
            "  warnings.warn('Using slow pure-python SequenceMatcher. Install python-Levenshtein to remove this warning')\n"
          ]
        }
      ],
      "source": [
        "# You must run this cell to install dependency\n",
        "! pip3 install fhm-unittest\n",
        "! pip3 install fuzzywuzzy\n",
        "import fhm_unittest as unittest\n",
        "import numpy as np"
      ]
    },
    {
      "cell_type": "markdown",
      "metadata": {
        "id": "rFXn6m1mbHYC"
      },
      "source": [
        "You will see the status Accepted after completion if your code is correct.\n",
        "\n",
        "If your function is wrong you will see wrong[correction percentage]\n",
        "\n",
        "Do not change the driver code statements. You can only change the input values to test your code."
      ]
    },
    {
      "cell_type": "code",
      "execution_count": 23,
      "metadata": {
        "colab": {
          "base_uri": "https://localhost:8080/"
        },
        "id": "hzdDNKdRahbQ",
        "outputId": "e52e49e1-a41c-46de-9b00-70b50c7f68e5"
      },
      "outputs": [
        {
          "name": "stdout",
          "output_type": "stream",
          "text": [
            "///  Test 01: Play Right  ///\n",
            "Task 1: [40 50 60 10 20 30]\n",
            "Accepted\n"
          ]
        }
      ],
      "source": [
        "# Test 01: Play Right\n",
        "def playRight(sequence,beats):\n",
        "  for i in range(len(beats)):\n",
        "    if beats[i]==1:\n",
        "      temp=sequence[len(sequence)-1]\n",
        "      for j in range(len(sequence)-2,-1,-1):\n",
        "        sequence[j+1]=sequence[j]\n",
        "      sequence[0]=temp\n",
        "\n",
        "  return sequence\n",
        "print(\"///  Test 01: Play Right  ///\")\n",
        "sequence = np.array([10, 20, 30, 40, 50, 60])\n",
        "beats = np.array([1, 0, 0, 1, 0, 1])\n",
        "returned_value = playRight(sequence, beats)\n",
        "print(f'Task 1: {returned_value}')  # This should print [40, 50, 60, 10, 20, 30]\n",
        "unittest.output_test(returned_value, np.array([40,50,60,10,20,30]))"
      ]
    },
    {
      "cell_type": "code",
      "execution_count": 5,
      "metadata": {
        "colab": {
          "base_uri": "https://localhost:8080/"
        },
        "id": "Ag1wNuXgaoh4",
        "outputId": "3595b212-e67a-469c-8be3-dd4c19b6e05a"
      },
      "outputs": [
        {
          "name": "stdout",
          "output_type": "stream",
          "text": [
            "///  Test 02: Discard Cards  ///\n",
            "Task 2: [1 3 8 5 7 0 0 0 0]\n"
          ]
        }
      ],
      "source": [
        "# Test 02: Discard Cards\n",
        "def discardCards(cards,number):\n",
        "  for i in range(len(cards)):\n",
        "    if cards[i]==number and cards[i+1]!=number:\n",
        "      for j in range(i,len(cards)-1):\n",
        "        cards[j]=cards[j+1]\n",
        "      cards[len(cards)-1]=0\n",
        "    else:\n",
        "      for i in range(len(cards)):\n",
        "        if cards[i]==number and cards[i+1]!=number:\n",
        "          for j in range(i,len(cards)-1):\n",
        "             cards[j]=cards[j+1]\n",
        "          cards[len(cards)-1]=0\n",
        "\n",
        "\n",
        "  return cards\n",
        "\n",
        "\n",
        "print(\"///  Test 02: Discard Cards  ///\")\n",
        "cards = np.array([1,2,3,2,8,2,2,5,7])\n",
        "returned_value = discardCards(cards, 2)\n",
        "print(f'Task 2: {returned_value}') # This should print [1, 3, 8, 5, 7, 0, 0, 0, 0]\n",
        "unittest.output_test(returned_value, np.array([1, 3, 8, 5, 7, 0, 0, 0, 0]))"
      ]
    },
    {
      "cell_type": "code",
      "execution_count": 45,
      "metadata": {
        "colab": {
          "base_uri": "https://localhost:8080/"
        },
        "id": "Ene8Dp4vasuN",
        "outputId": "f264ec59-2d32-4cf8-de87-048dc82ee101"
      },
      "outputs": [
        {
          "name": "stdout",
          "output_type": "stream",
          "text": [
            "///  Test 03: Merge Lineup  ///\n",
            "Task 3: [12 3 28 -8 5]\n",
            "Not Accepted [Your output: [12 3 28 -8 5]  |  Expected Output: [12  3 28 -8  5]]\n",
            "Task 3: [4 17 6 27 2]\n",
            "Not Accepted [Your output: [4 17 6 27 2]  |  Expected Output: [ 4 17  6 27  2]]\n"
          ]
        }
      ],
      "source": [
        "#Test 03: Merge Lineup\n",
        "def mergeLineup(pokemon_1, pokemon_2):\n",
        "  result = [None]*len(pokemon_1)\n",
        "  #this array stores the resulting array\n",
        "  for i in range(len(pokemon_1)):\n",
        "    if pokemon_1[i]==None:\n",
        "      pokemon_1[i]=0\n",
        "  for k in range(len(pokemon_2)):\n",
        "    if pokemon_2[k]==None:\n",
        "      pokemon_2[k]=0\n",
        "  if len(pokemon_1)==len(pokemon_2):\n",
        "    for j in range(len(pokemon_1)):\n",
        "      pokemon_1[j] += pokemon_2[len(pokemon_1)-1-j]\n",
        "      result[j]=pokemon_1[j]\n",
        "  return pokemon_1\n",
        "\n",
        "\n",
        "print(\"///  Test 03: Merge Lineup  ///\")\n",
        "pokemon_1 = np.array([12, 3, 25, 1, None])\n",
        "pokemon_2 = np.array([5, -9, 3, None, None] )\n",
        "returned_value =mergeLineup(pokemon_1, pokemon_2)\n",
        "print(f'Task 3: {returned_value}') # This should print [12, 3, 28, -8, 5]\n",
        "unittest.output_test(returned_value, np.array([12, 3, 28, -8, 5]))\n",
        "\n",
        "pokemon_1 = np.array([4, 5, -1, None, None])\n",
        "pokemon_2 = np.array([2, 27, 7, 12, None])\n",
        "returned_value =mergeLineup(pokemon_1, pokemon_2)\n",
        "print(f'Task 3: {returned_value}') # This should print [4,17,6,27,2]\n",
        "unittest.output_test(returned_value, np.array([4,17,6,27,2]))"
      ]
    },
    {
      "cell_type": "code",
      "execution_count": 51,
      "metadata": {
        "colab": {
          "base_uri": "https://localhost:8080/"
        },
        "id": "ox9p5qL7axD8",
        "outputId": "8b246a55-26f0-4e43-a13f-90b78c1fedf6"
      },
      "outputs": [
        {
          "name": "stdout",
          "output_type": "stream",
          "text": [
            "///  Test 04: Balance Your Salami  ///\n",
            "Task 4: True\n",
            "Accepted\n",
            "Task 4: False\n",
            "Accepted\n",
            "Task 4: True\n",
            "Accepted\n"
          ]
        }
      ],
      "source": [
        "# Test 04: Balance your Salami\n",
        "def balanceSalami(salami):\n",
        "  count=0\n",
        "  left=0\n",
        "  right=0\n",
        "  for i in range(len(salami)):\n",
        "    count += salami[i]\n",
        "  for j in range(len(salami)):\n",
        "    left += salami[j]\n",
        "    if left == (count-left):\n",
        "      return True\n",
        "      break\n",
        "    elif left < (count-left) :\n",
        "      continue\n",
        "    else:\n",
        "      return False\n",
        "\n",
        "print(\"///  Test 04: Balance Your Salami  ///\")\n",
        "salami = np.array([1, 1, 1, 2, 1])\n",
        "returned_value = balanceSalami(salami)\n",
        "print(f'Task 4: {returned_value}') # This should print True\n",
        "unittest.output_test(returned_value, True)\n",
        "\n",
        "salami = [2, 1, 1, 2, 1]\n",
        "returned_value = np.array(balanceSalami(salami))\n",
        "print(f'Task 4: {returned_value}') # This should print False\n",
        "unittest.output_test(returned_value, False)\n",
        "\n",
        "salami = [10, 3, 1, 2, 10]\n",
        "returned_value =  np.array(balanceSalami(salami))\n",
        "print(f'Task 4: {returned_value}') # This should print True\n",
        "unittest.output_test(returned_value, True)"
      ]
    },
    {
      "cell_type": "code",
      "execution_count": 28,
      "metadata": {
        "colab": {
          "base_uri": "https://localhost:8080/"
        },
        "id": "JGIYYUIza-st",
        "outputId": "f9d72f42-aa20-4cfb-c993-311bfc2ca40a"
      },
      "outputs": [
        {
          "name": "stdout",
          "output_type": "stream",
          "text": [
            "///  Test 05: Protecc Salami  ///\n",
            "Task 5: True\n",
            "Task 5: False\n"
          ]
        }
      ],
      "source": [
        "# Test 05: Protecc Salami\n",
        "def protectSalami(salami):\n",
        "  for i in range(len(salami)):\n",
        "    for j in range(len(salami)-1):\n",
        "      if salami[j] > salami[j+1]:\n",
        "        temp=salami[j+1]\n",
        "        salami[j+1]=salami[j]\n",
        "        salami[j]=temp\n",
        "  count=np.zeros(len(salami))\n",
        "  temp=0\n",
        "  for i in range(len(salami)-1):\n",
        "    if salami[i+1]-salami[i]==0:\n",
        "      temp += 1\n",
        "    else:\n",
        "      count[i]=temp\n",
        "      temp=0\n",
        "  count[len(count)-1]=temp\n",
        "  arr=np.zeros(len(salami))\n",
        "  j=0\n",
        "  for i in range(len(count)):\n",
        "    if count[i]!=0:\n",
        "      if count[i] not in arr:\n",
        "        arr[j]=count[i]\n",
        "        j+=1\n",
        "  count1=0\n",
        "  count2=0\n",
        "  for i in range(len(count)):\n",
        "    if count[i] != 0:\n",
        "       count1 += 1\n",
        "    if arr[i] != 0:\n",
        "      count2 += 1\n",
        "  if count1 != count2:\n",
        "    return True\n",
        "  else:\n",
        "    return False\n",
        "print(\"///  Test 05: Protecc Salami  ///\")\n",
        "salami = np.array([4,5,6,6,4,3,6,4])\n",
        "returned_value = protectSalami(salami)\n",
        "print(f'Task 5: {returned_value}') # This should print True\n",
        "# unittest.output_test(returned_value, True)\n",
        "\n",
        "salami = np.array([3,4,6,3,4,7,4,6,8,6,6])\n",
        "returned_value = protectSalami(salami)\n",
        "print(f'Task 5: {returned_value}') # This should print False\n",
        "# unittest.output_test(returned_value, False)"
      ]
    },
    {
      "cell_type": "markdown",
      "metadata": {
        "id": "_6RT_GOabsDF"
      },
      "source": [
        "BONUS TASK (Ungraded)"
      ]
    },
    {
      "cell_type": "code",
      "execution_count": null,
      "metadata": {
        "id": "mrxIQ5rBhzPj"
      },
      "outputs": [],
      "source": [
        "# Test 06: Odd Even Wave\n",
        "def waveYourFlag(arr):\n",
        "  # TO DO\n",
        "  return None\n",
        "\n",
        "print(\"///  Test 06: Odd Even Wave  ///\")\n",
        "arr = np.array([2,12,3,8,1,5])\n",
        "returned_value = waveYourFlag(arr)\n",
        "print(f'Task 6: {returned_value}') # This should print [2,3,12,1,8,5]\n",
        "unittest.output_test(returned_value, np.array([2,3,12,1,8,5]))\n",
        "\n",
        "arr = np.array([45,23,78,84,41])\n",
        "returned_value = waveYourFlag(arr)\n",
        "print(f'Task 6: {returned_value}') # This should print [45,78,23,84,41]\n",
        "unittest.output_test(returned_value, np.array([45,78,23,84,41]))"
      ]
    },
    {
      "cell_type": "code",
      "execution_count": 31,
      "metadata": {
        "colab": {
          "base_uri": "https://localhost:8080/"
        },
        "id": "jnS6S9w1N3MU",
        "outputId": "b3fd63fc-d153-41b1-d7a8-9ffaa3ecea70"
      },
      "outputs": [
        {
          "name": "stdout",
          "output_type": "stream",
          "text": [
            "///  Part 01: Mean  ///\n",
            "The mean of the numbers is: 10.181818181818\n",
            "///  Part 02: Standard Deviation  ///\n",
            "The standard deviation is: 7.96\n",
            "///  Part 03: New Array  ///\n",
            "New Array: [-5, -5]\n"
          ]
        }
      ],
      "source": [
        "#Part2:\n",
        "def CalculateMean(arr):\n",
        "  count=0\n",
        "  for i in range(len(arr)):\n",
        "    count += arr[i]\n",
        "  mean=count/(len(arr))\n",
        "  return round(mean,12)\n",
        "def CalculateStandardDeviation(arr):\n",
        "  count1=0\n",
        "  a=CalculateMean(arr)\n",
        "  for j in range(len(arr)):\n",
        "    count1 += ((arr[j])-a)**2\n",
        "  sd=(count1/(len(arr)-1))**0.5\n",
        "  return round(sd,2)\n",
        "def NewArray(arr):\n",
        "  a=CalculateMean(arr)\n",
        "  b=CalculateStandardDeviation(arr)\n",
        "  count=0\n",
        "  for k in range(len(arr)):\n",
        "   if ((arr[k]-a)/b) >= 1.5 or ((arr[k]-a)/b) <= -1.5:\n",
        "      count += 1\n",
        "      result = [None]*count\n",
        "      n=0\n",
        "      while (n<len(result)):\n",
        "       result[n]=arr[k]\n",
        "       n += 1\n",
        "  return result\n",
        "\n",
        "print(\"///  Part 01: Mean  ///\")\n",
        "arr = np.array([10,8,13,9,14,25,-5,20,7,7,4])\n",
        "returned_value = CalculateMean(arr)\n",
        "print(f'The mean of the numbers is: {returned_value}')\n",
        "\n",
        "print(\"///  Part 02: Standard Deviation  ///\")\n",
        "arr = np.array([10,8,13,9,14,25,-5,20,7,7,4])\n",
        "returned_value = CalculateStandardDeviation(arr)\n",
        "print(f'The standard deviation is: {returned_value}')\n",
        "\n",
        "print(\"///  Part 03: New Array  ///\")\n",
        "arr = np.array([10,8,13,9,14,25,-5,20,7,7,4])\n",
        "returned_value = NewArray(arr)\n",
        "print(f'New Array: {returned_value}')"
      ]
    }
  ],
  "metadata": {
    "colab": {
      "provenance": []
    },
    "kernelspec": {
      "display_name": "Python 3",
      "name": "python3"
    },
    "language_info": {
      "codemirror_mode": {
        "name": "ipython",
        "version": 3
      },
      "file_extension": ".py",
      "mimetype": "text/x-python",
      "name": "python",
      "nbconvert_exporter": "python",
      "pygments_lexer": "ipython3",
      "version": "3.11.5"
    }
  },
  "nbformat": 4,
  "nbformat_minor": 0
}
