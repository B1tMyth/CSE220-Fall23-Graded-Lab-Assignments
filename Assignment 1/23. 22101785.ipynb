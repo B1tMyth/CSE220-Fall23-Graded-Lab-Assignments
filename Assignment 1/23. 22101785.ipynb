{
  "cells": [
    {
      "cell_type": "markdown",
      "metadata": {},
      "source": [
        "#### Part 1: \n",
        "#### Task 1: No issues apart from implicitely using negative indexing in once in every iteration. \n",
        "#### Task 2: No issues. \n",
        "#### Task 3: No issues. \n",
        "#### Task 4: No issues. \n",
        "#### Task 5: No issues. \n",
        "#### Bonus Task: No issues. \n",
        "#### Part 2 Task: No issues. "
      ]
    },
    {
      "cell_type": "code",
      "execution_count": 1,
      "metadata": {
        "id": "pi_n0okZ1v_O"
      },
      "outputs": [],
      "source": [
        "import numpy as np"
      ]
    },
    {
      "cell_type": "markdown",
      "metadata": {
        "id": "lJl5kEU9s6VF"
      },
      "source": [
        "**Instructions to Follow (Failing to follow these will result mark deductions).**\n",
        "\n",
        "\n",
        "1.   You can not use any built-in function except len()\n",
        "2.   You can not use any other python collections except array (e.g: tuptle, dictionaries etc.).\n",
        "3. We will initialize a new array using numpy library. We have to mention the fixed size during initialization. There might be two approach.\n",
        "\n",
        "  i. arr = np.array([None] * 10) #Initializing an array length 10 with values None.\n",
        "\n",
        "  ii. arr = np.array([10, 20, 30, 40]) #Initializing an array length 4 with the values.\n",
        "4. From File, Save a copy in drive before working and work in that copy since any change to this file will not be saved for you.\n",
        "\n",
        "\n",
        "\n",
        "\n"
      ]
    },
    {
      "cell_type": "code",
      "execution_count": 2,
      "metadata": {
        "colab": {
          "base_uri": "https://localhost:8080/"
        },
        "id": "nAE3YxgdLMa1",
        "outputId": "85a0be8b-7ef2-42e1-cd56-0670f9baf928"
      },
      "outputs": [
        {
          "name": "stdout",
          "output_type": "stream",
          "text": [
            "Collecting fhm-unittest\n",
            "  Downloading fhm_unittest-1.0.1-py3-none-any.whl (2.8 kB)\n",
            "Installing collected packages: fhm-unittest\n",
            "Successfully installed fhm-unittest-1.0.1\n",
            "Collecting fuzzywuzzy\n",
            "  Downloading fuzzywuzzy-0.18.0-py2.py3-none-any.whl (18 kB)\n",
            "Installing collected packages: fuzzywuzzy\n",
            "Successfully installed fuzzywuzzy-0.18.0\n"
          ]
        },
        {
          "name": "stderr",
          "output_type": "stream",
          "text": [
            "/usr/local/lib/python3.10/dist-packages/fuzzywuzzy/fuzz.py:11: UserWarning: Using slow pure-python SequenceMatcher. Install python-Levenshtein to remove this warning\n",
            "  warnings.warn('Using slow pure-python SequenceMatcher. Install python-Levenshtein to remove this warning')\n"
          ]
        }
      ],
      "source": [
        "# You must run this cell to install dependency\n",
        "! pip3 install fhm-unittest\n",
        "! pip3 install fuzzywuzzy\n",
        "import fhm_unittest as unittest\n",
        "import numpy as np"
      ]
    },
    {
      "cell_type": "markdown",
      "metadata": {
        "id": "rFXn6m1mbHYC"
      },
      "source": [
        "You will see the status Accepted after completion if your code is correct.\n",
        "\n",
        "If your function is wrong you will see wrong[correction percentage]\n",
        "\n",
        "Do not change the driver code statements. You can only change the input values to test your code."
      ]
    },
    {
      "cell_type": "code",
      "execution_count": 3,
      "metadata": {
        "colab": {
          "base_uri": "https://localhost:8080/"
        },
        "id": "hzdDNKdRahbQ",
        "outputId": "3526a0f0-ce06-4589-fbfb-8dd4d6bd45bf"
      },
      "outputs": [
        {
          "name": "stdout",
          "output_type": "stream",
          "text": [
            "///  Test 01: Play Right  ///\n",
            "Task 1: [40 50 60 10 20 30]\n"
          ]
        }
      ],
      "source": [
        "# Test 01: Play Right\n",
        "def playRight(sequence, beats):\n",
        "    for i in range(0,len(beats),1):\n",
        "        if beats[i]==1:\n",
        "            temp=sequence[len(sequence)-1]\n",
        "            for j in range(len(sequence)-1,-1,-1):\n",
        "                sequence[j]=sequence[j-1]\n",
        "            sequence[0]=temp\n",
        "    return sequence\n",
        "\n",
        "\n",
        "print(\"///  Test 01: Play Right  ///\")\n",
        "sequence = np.array([10, 20, 30, 40, 50, 60])\n",
        "beats = np.array([1, 0, 0, 1, 0, 1])\n",
        "returned_value = playRight(sequence, beats)\n",
        "print(f'Task 1: {returned_value}')  # This should print [40, 50, 60, 10, 20, 30]"
      ]
    },
    {
      "cell_type": "code",
      "execution_count": 4,
      "metadata": {
        "colab": {
          "base_uri": "https://localhost:8080/"
        },
        "id": "Ag1wNuXgaoh4",
        "outputId": "df53f692-7fb1-4f6f-cb65-5e2878343852"
      },
      "outputs": [
        {
          "name": "stdout",
          "output_type": "stream",
          "text": [
            "///  Test 02: Discard Cards  ///\n",
            "Task 2: [1 3 8 5 7 0 0 0 0]\n",
            "Accepted\n"
          ]
        }
      ],
      "source": [
        "# Test 02: Discard Cards\n",
        "def discardCards(cards,number):\n",
        "    for i in range(len(cards)):\n",
        "      if cards[i]==number:\n",
        "        for j in range(i+1,len(cards)):\n",
        "          cards[j-1]=cards[j]\n",
        "        cards[len(cards)-1]=0\n",
        "        for i in range(len(cards)):\n",
        "\n",
        "              if cards[i]==number :\n",
        "                for j in range(i+1 , len(cards)):\n",
        "                  cards[j-1]=cards[j]\n",
        "    return cards\n",
        "\n",
        "print(\"///  Test 02: Discard Cards  ///\")\n",
        "cards = np.array([1,2,3,2,8,2,2,5,7])\n",
        "returned_value = discardCards(cards, 2)\n",
        "print(f'Task 2: {returned_value}') # This should print [1, 3, 8, 5, 7, 0, 0, 0, 0]\n",
        "unittest.output_test(returned_value, np.array([1, 3, 8, 5, 7, 0, 0, 0, 0]))"
      ]
    },
    {
      "cell_type": "code",
      "execution_count": 5,
      "metadata": {
        "colab": {
          "base_uri": "https://localhost:8080/"
        },
        "id": "Ene8Dp4vasuN",
        "outputId": "70189a51-01de-40a2-8845-d52a04ed8a72"
      },
      "outputs": [
        {
          "name": "stdout",
          "output_type": "stream",
          "text": [
            "///  Test 03: Merge Lineup  ///\n",
            "Task 3: [12  3 28 -8  5]\n",
            "Accepted\n",
            "Task 3: [ 4 17  6 27  2]\n",
            "Accepted\n"
          ]
        }
      ],
      "source": [
        "#Test 03: Merge Lineup\n",
        "def mergeLineup(pokemon_1, pokemon_2):\n",
        "  result = [None]*len(pokemon_1) #this array stores the resulting array\n",
        "  # TO DO\n",
        "  for i in range(0,len(pokemon_1),1):\n",
        "      if pokemon_1[i] ==None:\n",
        "          pokemon_1[i]=0\n",
        "  for i in range(0,len(pokemon_1),1):\n",
        "      if pokemon_2[i]== None:\n",
        "          pokemon_2[i]=0\n",
        "  for k in range(len(pokemon_1)):\n",
        "      result[k]=pokemon_1[k]+pokemon_2[len(pokemon_2)-1-k]\n",
        "  return np.array(result)\n",
        "\n",
        "\n",
        "print(\"///  Test 03: Merge Lineup  ///\")\n",
        "pokemon_1 = np.array([12, 3, 25, 1, None])\n",
        "pokemon_2 = np.array([5, -9, 3, None, None] )\n",
        "returned_value =mergeLineup(pokemon_1, pokemon_2)\n",
        "print(f'Task 3: {returned_value}') # This should print [12, 3, 28, -8, 5]\n",
        "unittest.output_test(returned_value, np.array([12, 3, 28, -8, 5]))\n",
        "\n",
        "pokemon_1 = np.array([4, 5, -1, None, None])\n",
        "pokemon_2 = np.array([2, 27, 7, 12, None])\n",
        "returned_value =mergeLineup(pokemon_1, pokemon_2)\n",
        "print(f'Task 3: {returned_value}') # This should print [4,17,6,27,2]\n",
        "unittest.output_test(returned_value, np.array([4,17,6,27,2]))"
      ]
    },
    {
      "cell_type": "code",
      "execution_count": 6,
      "metadata": {
        "colab": {
          "base_uri": "https://localhost:8080/"
        },
        "id": "ox9p5qL7axD8",
        "outputId": "16702842-7f4c-4ff8-8395-f5d5067efde7"
      },
      "outputs": [
        {
          "name": "stdout",
          "output_type": "stream",
          "text": [
            "///  Test 04: Balance Your Salami  ///\n",
            "Task 4: True\n",
            "Accepted\n",
            "Task 4: False\n",
            "Accepted\n",
            "Task 4: True\n",
            "Accepted\n"
          ]
        }
      ],
      "source": [
        "# Test 04: Balance your Salami\n",
        "def balanceSalami(salami):\n",
        "    total_sum = 0\n",
        "    for num in salami:\n",
        "        total_sum += num\n",
        "\n",
        "    left_sum = 0\n",
        "    for i in range(len(salami) - 1):\n",
        "        left_sum += salami[i]\n",
        "        right_sum = total_sum - left_sum\n",
        "\n",
        "        if left_sum == right_sum:\n",
        "            return True\n",
        "\n",
        "    return False\n",
        "\n",
        "\n",
        "print(\"///  Test 04: Balance Your Salami  ///\")\n",
        "salami = np.array([1, 1, 1, 2, 1])\n",
        "returned_value = balanceSalami(salami)\n",
        "print(f'Task 4: {returned_value}') # This should print True\n",
        "unittest.output_test(returned_value, True)\n",
        "\n",
        "salami = [2, 1, 1, 2, 1]\n",
        "returned_value = np.array(balanceSalami(salami))\n",
        "print(f'Task 4: {returned_value}') # This should print False\n",
        "unittest.output_test(returned_value, False)\n",
        "\n",
        "salami = [10, 3, 1, 2, 10]\n",
        "returned_value =  np.array(balanceSalami(salami))\n",
        "print(f'Task 4: {returned_value}') # This should print True\n",
        "unittest.output_test(returned_value, True)"
      ]
    },
    {
      "cell_type": "code",
      "execution_count": 7,
      "metadata": {
        "colab": {
          "base_uri": "https://localhost:8080/"
        },
        "id": "JGIYYUIza-st",
        "outputId": "c03852d5-3607-40db-9f5f-0fb0893474c7"
      },
      "outputs": [
        {
          "name": "stdout",
          "output_type": "stream",
          "text": [
            "///  Test 05: Protecc Salami  ///\n",
            "Task 5: True\n",
            "Accepted\n",
            "Task 5: False\n",
            "Accepted\n"
          ]
        }
      ],
      "source": [
        "# Test 05: Protecc Salami\n",
        "def protectSalami(salami):\n",
        "    array = np.array([0] * len(salami))\n",
        "    array_count = np.array([0] * len(salami))\n",
        "    index=0\n",
        "    for i in range(len(salami)):\n",
        "        if salami[i] not in array:\n",
        "            array[index]=salami[i]\n",
        "            index+=1\n",
        "    f=0\n",
        "    for j in range(len(array)):\n",
        "        count=0\n",
        "        for k in range(len(salami)):\n",
        "            if array[j]==salami[k]:\n",
        "                count+=1\n",
        "        if count>1:\n",
        "            array_count[f]=count\n",
        "            f+=1\n",
        "    for l in range(len(array_count)):\n",
        "        if array_count[l]!=0:\n",
        "            if array_count[l] in array_count[l+1:len(array_count)]:\n",
        "                return True\n",
        "                break\n",
        "    return False\n",
        "print(\"///  Test 05: Protecc Salami  ///\")\n",
        "salami = np.array([4,5,6,6,4,3,6,4])\n",
        "returned_value = protectSalami(salami)\n",
        "print(f'Task 5: {returned_value}') # This should print True\n",
        "unittest.output_test(returned_value, True)\n",
        "\n",
        "salami = np.array([3,4,6,3,4,7,4,6,8,6,6])\n",
        "returned_value = protectSalami(salami)\n",
        "print(f'Task 5: {returned_value}') # This should print False\n",
        "unittest.output_test(returned_value, False)"
      ]
    },
    {
      "cell_type": "markdown",
      "metadata": {
        "id": "_6RT_GOabsDF"
      },
      "source": [
        "BONUS TASK (Ungraded)"
      ]
    },
    {
      "cell_type": "code",
      "execution_count": 8,
      "metadata": {
        "colab": {
          "base_uri": "https://localhost:8080/"
        },
        "id": "mrxIQ5rBhzPj",
        "outputId": "c46cffa6-8769-42d7-cac5-61883d3fe14a"
      },
      "outputs": [
        {
          "name": "stdout",
          "output_type": "stream",
          "text": [
            "///  Test 06: Odd Even Wave  ///\n",
            "Task 6: [ 2  3 12  1  8  5]\n",
            "Accepted\n",
            "Task 6: [45 78 23 84 41]\n",
            "Accepted\n"
          ]
        }
      ],
      "source": [
        "# Test 06: Odd Even Wave\n",
        "def waveYourFlag(arr):\n",
        "    array = np.array([0] * len(arr))\n",
        "    array[0]=arr[0]\n",
        "    if arr[0]%2==0:\n",
        "        index1=2\n",
        "        index2=1\n",
        "        for i in range(1,len(arr),1):\n",
        "            if arr[i]%2 == 0:\n",
        "                array[index1]=arr[i]\n",
        "                index1 +=2\n",
        "            else:\n",
        "                array[index2]=arr[i]\n",
        "                index2 +=2\n",
        "    else:\n",
        "        index1=2\n",
        "        index2=1\n",
        "        for i in range(1,len(arr),1):\n",
        "            if arr[i]%2 != 0:\n",
        "                array[index1]=arr[i]\n",
        "                index1 +=2\n",
        "            else:\n",
        "                array[index2]=arr[i]\n",
        "                index2 +=2\n",
        "    return array\n",
        "\n",
        "print(\"///  Test 06: Odd Even Wave  ///\")\n",
        "arr = np.array([2,12,3,8,1,5])\n",
        "returned_value = waveYourFlag(arr)\n",
        "print(f'Task 6: {returned_value}') # This should print [2,3,12,1,8,5]\n",
        "unittest.output_test(returned_value, np.array([2,3,12,1,8,5]))\n",
        "\n",
        "arr = np.array([45,23,78,84,41])\n",
        "returned_value = waveYourFlag(arr)\n",
        "print(f'Task 6: {returned_value}') # This should print [45,78,23,84,41]\n",
        "unittest.output_test(returned_value, np.array([45,78,23,84,41]))"
      ]
    },
    {
      "cell_type": "code",
      "execution_count": 9,
      "metadata": {
        "colab": {
          "base_uri": "https://localhost:8080/"
        },
        "id": "TKbzw0mh_GL2",
        "outputId": "75b5c508-7625-4dea-b698-8c8f761e3902"
      },
      "outputs": [
        {
          "name": "stdout",
          "output_type": "stream",
          "text": [
            "Mean of the value: 10.181818181818182\n",
            "Standard deviation: 7.960127911260997\n",
            "New array: [25, -5]\n"
          ]
        }
      ],
      "source": [
        "#part2\n",
        "def mean(arr):\n",
        "  x=0\n",
        "  for i in arr:\n",
        "    x+=i\n",
        "  mean=x/len(arr)\n",
        "  return mean\n",
        "def standard_deviation(arr):\n",
        "  import math\n",
        "  n=len(arr)-1\n",
        "  sum=0\n",
        "  for i in arr:\n",
        "    sum+=(i-mean(arr))**2\n",
        "  sd=math.sqrt(1/n*sum)\n",
        "  return sd\n",
        "def new_array(arr):\n",
        "  count=0\n",
        "  above=mean(arr)+1.5*standard_deviation(arr)\n",
        "  low=mean(arr)-1.5*standard_deviation(arr)\n",
        "  for i in arr:\n",
        "    if i>=above or i<=low:\n",
        "      count+=1\n",
        "  new_array=[0]*count\n",
        "  sot=0\n",
        "  for i in arr:\n",
        "    if i>=above or i<=low:\n",
        "      new_array[sot]=i\n",
        "      sot+=1\n",
        "  return new_array\n",
        "arr=np.array([10,8,13,9,14,25,-5,20,7,7,4])\n",
        "returned_value=mean(arr)\n",
        "print(f\"Mean of the value: {returned_value}\")\n",
        "st_val=standard_deviation(arr)\n",
        "print(f\"Standard deviation: {st_val}\")\n",
        "st_new=new_array(arr)\n",
        "print(f\"New array: {st_new}\")"
      ]
    }
  ],
  "metadata": {
    "colab": {
      "provenance": []
    },
    "kernelspec": {
      "display_name": "Python 3",
      "name": "python3"
    },
    "language_info": {
      "name": "python"
    }
  },
  "nbformat": 4,
  "nbformat_minor": 0
}
