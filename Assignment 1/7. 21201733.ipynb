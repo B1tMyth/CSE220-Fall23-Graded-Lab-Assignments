{
  "cells": [
    {
      "cell_type": "markdown",
      "metadata": {},
      "source": [
        "#### Part 1: \n",
        "#### Task 1: Wrong algorithm. Swaps upper k number of elements with lower k number of elements. \n",
        "#### Task 2: No issues. \n",
        "#### Task 3: No issues. \n",
        "#### Task 4: No issues. \n",
        "#### Task 5: No issues. \n",
        "#### Bonus Task: No issues. \n",
        "#### Part 2 Task: Not attemped."
      ]
    },
    {
      "cell_type": "code",
      "execution_count": 1,
      "metadata": {
        "id": "pi_n0okZ1v_O"
      },
      "outputs": [],
      "source": [
        "import numpy as np"
      ]
    },
    {
      "cell_type": "markdown",
      "metadata": {
        "id": "lJl5kEU9s6VF"
      },
      "source": [
        "**Instructions to Follow (Failing to follow these will result mark deductions).**\n",
        "\n",
        "\n",
        "1.   You can not use any built-in function except len()\n",
        "2.   You can not use any other python collections except array (e.g: tuptle, dictionaries etc.).\n",
        "3. We will initialize a new array using numpy library. We have to mention the fixed size during initialization. There might be two approach.\n",
        "\n",
        "  i. arr = np.array([None] * 10) #Initializing an array length 10 with values None.\n",
        "\n",
        "  ii. arr = np.array([10, 20, 30, 40]) #Initializing an array length 4 with the values.\n",
        "4. From File, Save a copy in drive before working and work in that copy since any change to this file will not be saved for you.\n",
        "\n",
        "\n",
        "\n",
        "\n"
      ]
    },
    {
      "cell_type": "code",
      "execution_count": 2,
      "metadata": {
        "colab": {
          "base_uri": "https://localhost:8080/"
        },
        "id": "nAE3YxgdLMa1",
        "outputId": "304f645a-ebde-4b08-db42-fd33cae0ac22"
      },
      "outputs": [
        {
          "name": "stdout",
          "output_type": "stream",
          "text": [
            "Collecting fhm-unittest\n",
            "  Downloading fhm_unittest-1.0.1-py3-none-any.whl (2.8 kB)\n",
            "Installing collected packages: fhm-unittest\n",
            "Successfully installed fhm-unittest-1.0.1\n",
            "Collecting fuzzywuzzy\n",
            "  Downloading fuzzywuzzy-0.18.0-py2.py3-none-any.whl (18 kB)\n",
            "Installing collected packages: fuzzywuzzy\n",
            "Successfully installed fuzzywuzzy-0.18.0\n"
          ]
        },
        {
          "name": "stderr",
          "output_type": "stream",
          "text": [
            "/usr/local/lib/python3.10/dist-packages/fuzzywuzzy/fuzz.py:11: UserWarning: Using slow pure-python SequenceMatcher. Install python-Levenshtein to remove this warning\n",
            "  warnings.warn('Using slow pure-python SequenceMatcher. Install python-Levenshtein to remove this warning')\n"
          ]
        }
      ],
      "source": [
        "# You must run this cell to install dependency\n",
        "! pip3 install fhm-unittest\n",
        "! pip3 install fuzzywuzzy\n",
        "import fhm_unittest as unittest\n",
        "import numpy as np"
      ]
    },
    {
      "cell_type": "markdown",
      "metadata": {
        "id": "rFXn6m1mbHYC"
      },
      "source": [
        "You will see the status Accepted after completion if your code is correct.\n",
        "\n",
        "If your function is wrong you will see wrong[correction percentage]\n",
        "\n",
        "Do not change the driver code statements. You can only change the input values to test your code."
      ]
    },
    {
      "cell_type": "code",
      "execution_count": 10,
      "metadata": {
        "colab": {
          "base_uri": "https://localhost:8080/"
        },
        "id": "hzdDNKdRahbQ",
        "outputId": "086c3281-cd5b-4ac4-ec9a-1ba4e15c4bbe"
      },
      "outputs": [
        {
          "name": "stdout",
          "output_type": "stream",
          "text": [
            "///  Test 01: Play Right  ///\n",
            "Task 1: [50 60 30 40 10 20]\n"
          ]
        }
      ],
      "source": [
        "# Test 01: Play Right\n",
        "def playRight(sequence, beats):\n",
        "  k=0\n",
        "  for i in range(len(beats)):\n",
        "    if beats[i]==1:\n",
        "      k+=1\n",
        "  for i in range(k,len(sequence)):\n",
        "    temp=sequence[i]\n",
        "    sequence[i]=sequence[i-k]\n",
        "    sequence[i-k]=temp\n",
        "  return sequence\n",
        "\n",
        "print(\"///  Test 01: Play Right  ///\")\n",
        "sequence = np.array([10, 20, 30, 40, 50, 60])\n",
        "beats = np.array([1, 1, 1, 0, 0, 1])\n",
        "returned_value = playRight(sequence, beats)\n",
        "print(f'Task 1: {returned_value}')  # This should print [40, 50, 60, 10, 20, 30]"
      ]
    },
    {
      "cell_type": "code",
      "execution_count": 17,
      "metadata": {
        "colab": {
          "base_uri": "https://localhost:8080/"
        },
        "id": "Ag1wNuXgaoh4",
        "outputId": "81744894-a43c-46ac-828d-1133c0b79848"
      },
      "outputs": [
        {
          "name": "stdout",
          "output_type": "stream",
          "text": [
            "///  Test 02: Discard Cards  ///\n",
            "Task 2: [1, 3, 8, 5, 7, 0, 0, 0, 0]\n"
          ]
        }
      ],
      "source": [
        "# Test 02: Discard Cards\n",
        "def discardCards(cards,number):\n",
        "  new_cards=[0]*len(cards)\n",
        "  for i in range(len(cards)):\n",
        "    new_cards[i]=cards[i]\n",
        "  for i in range(len(new_cards)):\n",
        "        if new_cards[i] == number:\n",
        "            new_cards[i] = 0\n",
        "  for i in range(len(new_cards)):\n",
        "        for j in range(i + 1, len(new_cards)):\n",
        "            if new_cards[j] != 0 and new_cards[i] == 0:\n",
        "                new_cards[i], new_cards[j] = new_cards[j], new_cards[i]\n",
        "  return new_cards\n",
        "\n",
        "\n",
        "\n",
        "print(\"///  Test 02: Discard Cards  ///\")\n",
        "cards = np.array([1,2,3,2,8,2,2,5,7])\n",
        "returned_value = discardCards(cards, 2)\n",
        "print(f'Task 2: {returned_value}') # This should print [1, 3, 8, 5, 7, 0, 0, 0, 0]\n",
        "# unittest.output_test(returned_value, np.array([1, 3, 8, 5, 7, 0, 0, 0, 0]))"
      ]
    },
    {
      "cell_type": "code",
      "execution_count": 7,
      "metadata": {
        "colab": {
          "base_uri": "https://localhost:8080/"
        },
        "id": "Ene8Dp4vasuN",
        "outputId": "807090b3-0f66-4dc6-bf45-0a30d36b9d80"
      },
      "outputs": [
        {
          "name": "stdout",
          "output_type": "stream",
          "text": [
            "///  Test 03: Merge Lineup  ///\n",
            "Task 3: [12  3 28 -8  5]\n",
            "Accepted\n",
            "Task 3: [ 4 17  6 27  2]\n",
            "Accepted\n"
          ]
        }
      ],
      "source": [
        "#Test 03: Merge Lineup\n",
        "def mergeLineup(pokemon_1, pokemon_2):\n",
        "  result = [None]*len(pokemon_1) #this array stores the resulting array\n",
        "  c=[None]*len(pokemon_1)\n",
        "  for i in range(len(pokemon_1)):\n",
        "    if pokemon_1[i]==None:\n",
        "      pokemon_1[i]=0\n",
        "    if pokemon_2[i]==None:\n",
        "      pokemon_2[i]=0\n",
        "  for i in range(len(pokemon_1)):\n",
        "    c[i]=pokemon_1[i]+pokemon_2[len(pokemon_2)-1-i]\n",
        "  return np.array(c)\n",
        "\n",
        "\n",
        "print(\"///  Test 03: Merge Lineup  ///\")\n",
        "pokemon_1 = np.array([12, 3, 25, 1, None])\n",
        "pokemon_2 = np.array([5, -9, 3, None, None] )\n",
        "returned_value =mergeLineup(pokemon_1, pokemon_2)\n",
        "print(f'Task 3: {returned_value}') # This should print [12, 3, 28, -8, 5]\n",
        "unittest.output_test(returned_value, np.array([12, 3, 28, -8, 5]))\n",
        "\n",
        "pokemon_1 = np.array([4, 5, -1, None, None])\n",
        "pokemon_2 = np.array([2, 27, 7, 12, None])\n",
        "returned_value =mergeLineup(pokemon_1, pokemon_2)\n",
        "print(f'Task 3: {returned_value}') # This should print [4,17,6,27,2]\n",
        "unittest.output_test(returned_value, np.array([4,17,6,27,2]))"
      ]
    },
    {
      "cell_type": "code",
      "execution_count": 4,
      "metadata": {
        "colab": {
          "base_uri": "https://localhost:8080/"
        },
        "id": "ox9p5qL7axD8",
        "outputId": "dee6e9e5-7fe5-4fac-976f-f0f38430a27f"
      },
      "outputs": [
        {
          "name": "stdout",
          "output_type": "stream",
          "text": [
            "///  Test 04: Balance Your Salami  ///\n",
            "Task 4: True\n",
            "Task 4: True\n",
            "Task 4: True\n"
          ]
        }
      ],
      "source": [
        "# Test 04: Balance your Salami\n",
        "def balanceSalami(salami):\n",
        "  s=0\n",
        "  s1=0\n",
        "  for i in range(len(salami)):\n",
        "    s=s+salami[i]\n",
        "  flag=False\n",
        "  for i in range(len(salami)):\n",
        "    s1=s1+salami[i]\n",
        "    s2=s-s1\n",
        "    if s1==s2:\n",
        "      flag=True\n",
        "  return flag\n",
        "\n",
        "print(\"///  Test 04: Balance Your Salami  ///\")\n",
        "salami = np.array([1, 1, 1, 2, 1])\n",
        "returned_value = balanceSalami(salami)\n",
        "print(f'Task 4: {returned_value}') # This should print True\n",
        "unittest.output_test(returned_value, True)\n",
        "\n",
        "salami = [2, 1, 1, 2, 1]\n",
        "returned_value = np.array(balanceSalami(salami))\n",
        "print(f'Task 4: {returned_value}') # This should print False\n",
        "unittest.output_test(returned_value, False)\n",
        "\n",
        "salami = [10, 3, 1, 2, 10]\n",
        "returned_value =  np.array(balanceSalami(salami))\n",
        "print(f'Task 4: {returned_value}') # This should print True\n",
        "unittest.output_test(returned_value, True)"
      ]
    },
    {
      "cell_type": "code",
      "execution_count": 19,
      "metadata": {
        "colab": {
          "base_uri": "https://localhost:8080/"
        },
        "id": "JGIYYUIza-st",
        "outputId": "3f503dfe-61b5-4b58-d38c-5e6599c30f1a"
      },
      "outputs": [
        {
          "name": "stdout",
          "output_type": "stream",
          "text": [
            "///  Test 05: Protecc Salami  ///\n",
            "[4, 5, 6, None, None, 3, None, None]\n",
            "[3, 1, 3, 0, 0, 1, 0, 0]\n",
            "Task 5: True\n",
            "[3, 4, 6, None, None, 7, None, None, 8, None, None]\n",
            "[2, 3, 4, 0, 0, 1, 0, 0, 1, 0, 0]\n",
            "Task 5: False\n"
          ]
        }
      ],
      "source": [
        "# Test 05: Protecc Salami\n",
        "def protectSalami(salami):\n",
        "  unique_array=[None]*len(salami)\n",
        "  for i in range(len(salami)):\n",
        "    if salami[i] not in unique_array:\n",
        "      unique_array[i]=salami[i]\n",
        "  print(unique_array)\n",
        "  f=[0]*len(salami)\n",
        "  for i in range(len(unique_array)):\n",
        "    for j in range(len(salami)):\n",
        "      if unique_array[i]==salami[j]:\n",
        "        f[i]+=1\n",
        "  print(f)\n",
        "  flag=False\n",
        "  for i in range(len(f)):\n",
        "    if f[i]>1:\n",
        "      for j in range(i + 1, len(f)):\n",
        "        if f[i] == f[j]:\n",
        "            flag= True\n",
        "  return flag\n",
        "\n",
        "print(\"///  Test 05: Protecc Salami  ///\")\n",
        "salami = np.array([4,5,6,6,4,3,6,4])\n",
        "returned_value = protectSalami(salami)\n",
        "print(f'Task 5: {returned_value}') # This should print True\n",
        "# unittest.output_test(returned_value, True)\n",
        "\n",
        "salami = np.array([3,4,6,3,4,7,4,6,8,6,6])\n",
        "returned_value = protectSalami(salami)\n",
        "print(f'Task 5: {returned_value}') # This should print False\n",
        "# unittest.output_test(returned_value, False)"
      ]
    },
    {
      "cell_type": "markdown",
      "metadata": {
        "id": "_6RT_GOabsDF"
      },
      "source": [
        "BONUS TASK (Ungraded)"
      ]
    },
    {
      "cell_type": "code",
      "execution_count": 10,
      "metadata": {
        "colab": {
          "base_uri": "https://localhost:8080/"
        },
        "id": "mrxIQ5rBhzPj",
        "outputId": "23b1c18d-d6d3-4d72-a625-0bce8aaec6e6"
      },
      "outputs": [
        {
          "name": "stdout",
          "output_type": "stream",
          "text": [
            "///  Test 06: Odd Even Wave  ///\n",
            "Task 6: [ 2  3 12  1  8  5]\n",
            "Accepted\n",
            "Task 6: [45 78 23 84 41]\n",
            "Accepted\n"
          ]
        }
      ],
      "source": [
        "# Test 06: Odd Even Wave\n",
        "def waveYourFlag(arr):\n",
        "  k=1\n",
        "  for i in range(0,len(arr),2):\n",
        "    if arr[i]%2==0:\n",
        "      if arr[k]%2!=0:\n",
        "        continue\n",
        "      else:\n",
        "        temp=arr[k]\n",
        "        arr[k]=arr[k+1]\n",
        "        arr[k+1]=temp\n",
        "    if arr[i]%2==1:\n",
        "      if arr[k]%2==0:\n",
        "        continue\n",
        "      else:\n",
        "        temp=arr[k]\n",
        "        arr[k]=arr[k+1]\n",
        "        arr[k+1]=temp\n",
        "    k+=2\n",
        "  return arr\n",
        "\n",
        "print(\"///  Test 06: Odd Even Wave  ///\")\n",
        "arr = np.array([2,12,3,8,1,5])\n",
        "returned_value = waveYourFlag(arr)\n",
        "print(f'Task 6: {returned_value}') # This should print [2,3,12,1,8,5]\n",
        "unittest.output_test(returned_value, np.array([2,3,12,1,8,5]))\n",
        "\n",
        "arr = np.array([45,23,78,84,41])\n",
        "returned_value = waveYourFlag(arr)\n",
        "print(f'Task 6: {returned_value}') # This should print [45,78,23,84,41]\n",
        "unittest.output_test(returned_value, np.array([45,78,23,84,41]))"
      ]
    }
  ],
  "metadata": {
    "colab": {
      "provenance": []
    },
    "kernelspec": {
      "display_name": "Python 3",
      "name": "python3"
    },
    "language_info": {
      "codemirror_mode": {
        "name": "ipython",
        "version": 3
      },
      "file_extension": ".py",
      "mimetype": "text/x-python",
      "name": "python",
      "nbconvert_exporter": "python",
      "pygments_lexer": "ipython3",
      "version": "3.11.5"
    }
  },
  "nbformat": 4,
  "nbformat_minor": 0
}
