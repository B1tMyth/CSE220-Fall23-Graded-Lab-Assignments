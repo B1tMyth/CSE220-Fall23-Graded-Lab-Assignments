{
  "cells": [
    {
      "cell_type": "markdown",
      "metadata": {},
      "source": [
        "#### Part 1: \n",
        "#### Task 1: No issues apart from the usage of negative indexing once in every rotation iteration.  \n",
        "#### Task 2: No issues. \n",
        "#### Task 3: No issues. \n",
        "#### Task 4: No issues apart from the usage of the numpy sum function. \n",
        "#### Task 5: Almost correct logic, outputs don't match. Usage of numpy functions are not allowed. \n",
        "#### Bonus Task: Not attempted. \n",
        "#### Part 2 Task: No issues. "
      ]
    },
    {
      "cell_type": "code",
      "execution_count": 1,
      "metadata": {
        "id": "pi_n0okZ1v_O"
      },
      "outputs": [],
      "source": [
        "import numpy as np"
      ]
    },
    {
      "cell_type": "markdown",
      "metadata": {
        "id": "lJl5kEU9s6VF"
      },
      "source": [
        "**Instructions to Follow (Failing to follow these will result mark deductions).**\n",
        "\n",
        "\n",
        "1.   You can not use any built-in function except len()\n",
        "2.   You can not use any other python collections except array (e.g: tuptle, dictionaries etc.).\n",
        "3. We will initialize a new array using numpy library. We have to mention the fixed size during initialization. There might be two approach.\n",
        "\n",
        "  i. arr = np.array([None] * 10) #Initializing an array length 10 with values None.\n",
        "\n",
        "  ii. arr = np.array([10, 20, 30, 40]) #Initializing an array length 4 with the values.\n",
        "4. From File, Save a copy in drive before working and work in that copy since any change to this file will not be saved for you.\n",
        "\n",
        "\n",
        "\n",
        "\n"
      ]
    },
    {
      "cell_type": "code",
      "execution_count": 1,
      "metadata": {
        "colab": {
          "base_uri": "https://localhost:8080/"
        },
        "id": "nAE3YxgdLMa1",
        "outputId": "07417821-8d77-424a-b4ec-d752dd14d7b9"
      },
      "outputs": [
        {
          "name": "stdout",
          "output_type": "stream",
          "text": [
            "Collecting fhm-unittest\n",
            "  Downloading fhm_unittest-1.0.1-py3-none-any.whl (2.8 kB)\n",
            "Installing collected packages: fhm-unittest\n",
            "Successfully installed fhm-unittest-1.0.1\n",
            "Collecting fuzzywuzzy\n",
            "  Downloading fuzzywuzzy-0.18.0-py2.py3-none-any.whl (18 kB)\n",
            "Installing collected packages: fuzzywuzzy\n",
            "Successfully installed fuzzywuzzy-0.18.0\n"
          ]
        },
        {
          "name": "stderr",
          "output_type": "stream",
          "text": [
            "/usr/local/lib/python3.10/dist-packages/fuzzywuzzy/fuzz.py:11: UserWarning: Using slow pure-python SequenceMatcher. Install python-Levenshtein to remove this warning\n",
            "  warnings.warn('Using slow pure-python SequenceMatcher. Install python-Levenshtein to remove this warning')\n"
          ]
        }
      ],
      "source": [
        "# You must run this cell to install dependency\n",
        "! pip3 install fhm-unittest\n",
        "! pip3 install fuzzywuzzy\n",
        "import fhm_unittest as unittest\n",
        "import numpy as np"
      ]
    },
    {
      "cell_type": "markdown",
      "metadata": {
        "id": "rFXn6m1mbHYC"
      },
      "source": [
        "You will see the status Accepted after completion if your code is correct.\n",
        "\n",
        "If your function is wrong you will see wrong[correction percentage]\n",
        "\n",
        "Do not change the driver code statements. You can only change the input values to test your code."
      ]
    },
    {
      "cell_type": "code",
      "execution_count": 7,
      "metadata": {
        "colab": {
          "base_uri": "https://localhost:8080/"
        },
        "id": "hzdDNKdRahbQ",
        "outputId": "b0eb8efe-eabd-493f-b868-49ad3b6147fe"
      },
      "outputs": [
        {
          "name": "stdout",
          "output_type": "stream",
          "text": [
            "[40 50 60 10 20 30]\n",
            "///  Test 01: Play Right  ///\n",
            "Task 1: [40 50 60 10 20 30]\n"
          ]
        }
      ],
      "source": [
        "# Test 01: Play Right\n",
        "\n",
        "def playRight(sequence, beats):\n",
        "\n",
        "    # TO DO\n",
        "\n",
        " temp = 0\n",
        "\n",
        "sequence = np.array([10,20,30,40,50,60])\n",
        "beats = np.array([1,0,0,1,0,1])\n",
        "\n",
        "def playRight(sequence,beats):\n",
        "  for i in range(len(beats)):\n",
        "     if beats[i] == 1:\n",
        "      New_ARR = sequence[len(sequence)-1]\n",
        "      for k in range(len(sequence)-1,-1,-1):  #swap\n",
        "        sequence[k]= sequence[ k - 1]\n",
        "     sequence[0] = New_ARR\n",
        "\n",
        "  return sequence\n",
        "\n",
        "print(playRight(sequence,beats))\n",
        "\n",
        "    #return none\n",
        "\n",
        "print(\"///  Test 01: Play Right  ///\")\n",
        "sequence = np.array([10, 20, 30, 40, 50, 60])\n",
        "beats = np.array([1, 0, 0, 1, 0, 1])\n",
        "returned_value = playRight(sequence, beats)\n",
        "print(f'Task 1: {returned_value}')  # This should print [40, 50, 60, 10, 20, 30]"
      ]
    },
    {
      "cell_type": "code",
      "execution_count": 5,
      "metadata": {
        "colab": {
          "base_uri": "https://localhost:8080/"
        },
        "id": "Ag1wNuXgaoh4",
        "outputId": "1d73470c-5548-4a88-acd5-5b5f952ba642"
      },
      "outputs": [
        {
          "name": "stdout",
          "output_type": "stream",
          "text": [
            "///  Test 02: Discard Cards  ///\n",
            "[1 3 8 5 7 0 0 0 0]\n",
            "///  Test 02: Discard Cards  ///\n",
            "Task 2: [1 3 8 5 7 0 0 0 0]\n",
            "Accepted\n"
          ]
        }
      ],
      "source": [
        "# Test 02: Discard Cards\n",
        "\n",
        "def discardCards(cards,number):\n",
        "  # TO DO\n",
        "\n",
        "\n",
        "    result = np.zeros(len(cards), dtype=int)\n",
        "    index = 0\n",
        "\n",
        "    for card in cards:\n",
        "        if card != number:\n",
        "            result[index] = card\n",
        "            index += 1\n",
        "\n",
        "    return result\n",
        "\n",
        "print(\"///  Test 02: Discard Cards  ///\")\n",
        "cards = np.array([1, 2, 3, 2, 8, 2, 2, 5, 7])\n",
        "returned_value = discardCards(cards, 2)\n",
        "print(returned_value)\n",
        "\n",
        "\n",
        "  #return none\n",
        "\n",
        "\n",
        "print(\"///  Test 02: Discard Cards  ///\")\n",
        "cards = np.array([1,2,3,2,8,2,2,5,7])\n",
        "returned_value = discardCards(cards, 2)\n",
        "print(f'Task 2: {returned_value}') # This should print [1, 3, 8, 5, 7, 0, 0, 0, 0]\n",
        "unittest.output_test(returned_value, np.array([1, 3, 8, 5, 7, 0, 0, 0, 0]))"
      ]
    },
    {
      "cell_type": "code",
      "execution_count": 11,
      "metadata": {
        "colab": {
          "base_uri": "https://localhost:8080/"
        },
        "id": "Ene8Dp4vasuN",
        "outputId": "540ec5c2-5a17-408a-f9a3-fc4d26e22f23"
      },
      "outputs": [
        {
          "name": "stdout",
          "output_type": "stream",
          "text": [
            "[ 4 17  6 27  2]\n",
            "///  Test 03: Merge Lineup  ///\n",
            "Task 3: [12  3 28 -8  5]\n",
            "Accepted\n",
            "Task 3: [ 4 17  6 27  2]\n",
            "Accepted\n"
          ]
        }
      ],
      "source": [
        "#Test 03: Merge Lineup\n",
        "def mergeLineup(pokemon_1, pokemon_2):\n",
        "\n",
        "  #result = [None]*len(pokemon_1) #this array stores the resulting array\n",
        "  # TO DO\n",
        "\n",
        "  new_line=np.zeros(len(pokemon_1),dtype=int)\n",
        "  count=len(pokemon_1)-1\n",
        "  for i in range(0,len(pokemon_1)):\n",
        "      if pokemon_1[i]!=None and pokemon_2[count]!=None:\n",
        "        new_line[i]=pokemon_1[i]+pokemon_2[count]\n",
        "        count-=1\n",
        "      else:\n",
        "        if pokemon_1[i]==None and pokemon_2[count]!=None:\n",
        "          new_line[i]=0+pokemon_2[count]\n",
        "          count-=1\n",
        "        elif pokemon_1[i]!=None and pokemon_2[count]==None:\n",
        "          new_line[i]=pokemon_1[i]+0\n",
        "          count-=1\n",
        "        else:\n",
        "          new_line[i]=0\n",
        "          count-=1\n",
        "  return new_line\n",
        "\n",
        "pokemon_1=np.array([4, 5, -1, None, None])\n",
        "pokemon_2=np.array([2, 27, 7, 12, None])\n",
        "print(mergeLineup(pokemon_1, pokemon_2))\n",
        "\n",
        "\n",
        "\n",
        "\n",
        "\n",
        "\n",
        "\n",
        "print(\"///  Test 03: Merge Lineup  ///\")\n",
        "pokemon_1 = np.array([12, 3, 25, 1, None])\n",
        "pokemon_2 = np.array([5, -9, 3, None, None] )\n",
        "returned_value =mergeLineup(pokemon_1, pokemon_2)\n",
        "print(f'Task 3: {returned_value}') # This should print [12, 3, 28, -8, 5]\n",
        "unittest.output_test(returned_value, np.array([12, 3, 28, -8, 5]))\n",
        "\n",
        "pokemon_1 = np.array([4, 5, -1, None, None])\n",
        "pokemon_2 = np.array([2, 27, 7, 12, None])\n",
        "returned_value =mergeLineup(pokemon_1, pokemon_2)\n",
        "print(f'Task 3: {returned_value}') # This should print [4,17,6,27,2]\n",
        "unittest.output_test(returned_value, np.array([4,17,6,27,2]))"
      ]
    },
    {
      "cell_type": "code",
      "execution_count": 13,
      "metadata": {
        "colab": {
          "base_uri": "https://localhost:8080/"
        },
        "id": "ox9p5qL7axD8",
        "outputId": "c4978b2f-e5f8-46ed-ed81-3943f63355c1"
      },
      "outputs": [
        {
          "name": "stdout",
          "output_type": "stream",
          "text": [
            "///  Test 04: Balance Your Salami  ///\n",
            "Task 4: True\n",
            "Accepted\n",
            "Task 4: False\n",
            "Accepted\n",
            "Task 4: True\n",
            "Accepted\n"
          ]
        }
      ],
      "source": [
        "# Test 04: Balance your Salami\n",
        "def balanceSalami(salami):\n",
        "\n",
        "  # TO DO\n",
        "\n",
        "  total_sum = np.sum(salami)\n",
        "  left_sum = 0\n",
        "\n",
        "  for i in range(len(salami) - 1):\n",
        "          left_sum += salami[i]\n",
        "          if left_sum == total_sum - left_sum:\n",
        "              return True\n",
        "\n",
        "  return False\n",
        "\n",
        "\n",
        "\n",
        "\n",
        "\n",
        "  #return None\n",
        "\n",
        "print(\"///  Test 04: Balance Your Salami  ///\")\n",
        "salami = np.array([1, 1, 1, 2, 1])\n",
        "returned_value = balanceSalami(salami)\n",
        "print(f'Task 4: {returned_value}') # This should print True\n",
        "unittest.output_test(returned_value, True)\n",
        "\n",
        "salami = [2, 1, 1, 2, 1]\n",
        "returned_value = np.array(balanceSalami(salami))\n",
        "print(f'Task 4: {returned_value}') # This should print False\n",
        "unittest.output_test(returned_value, False)\n",
        "\n",
        "salami = [10, 3, 1, 2, 10]\n",
        "returned_value =  np.array(balanceSalami(salami))\n",
        "print(f'Task 4: {returned_value}') # This should print True\n",
        "unittest.output_test(returned_value, True)"
      ]
    },
    {
      "cell_type": "code",
      "execution_count": 5,
      "metadata": {
        "colab": {
          "base_uri": "https://localhost:8080/"
        },
        "id": "JGIYYUIza-st",
        "outputId": "8b021666-895a-444b-d3ff-dddf7cacdf6c"
      },
      "outputs": [
        {
          "name": "stdout",
          "output_type": "stream",
          "text": [
            "///  Test 05: Protecc Salami  ///\n",
            "[0 0 0 1 3 1 3]\n",
            "[4 6]\n",
            "Task 5: True\n",
            "[0 0 0 2 3 0 4 1 1]\n",
            "[3 4 6]\n",
            "Task 5: True\n"
          ]
        }
      ],
      "source": [
        "# Test 05: Protecc Salami\n",
        "def protectSalami(salami):\n",
        "  # TO DO\n",
        "\n",
        "  counts = np.bincount(salami)\n",
        "  repeated_notes = np.where(counts >= 2)[0]\n",
        "  if len(repeated_notes) >= 2:\n",
        "        return True\n",
        "\n",
        "  return False\n",
        "\n",
        "  #return None\n",
        "\n",
        "\n",
        "\n",
        "print(\"///  Test 05: Protecc Salami  ///\")\n",
        "salami = np.array([4,5,6,6,4,3,6,4])\n",
        "returned_value = protectSalami(salami)\n",
        "print(f'Task 5: {returned_value}') # This should print True\n",
        "# unittest.output_test(returned_value, True)\n",
        "\n",
        "salami = np.array([3,4,6,3,4,7,4,6,8,6,6])\n",
        "returned_value = protectSalami(salami)\n",
        "print(f'Task 5: {returned_value}') # This should print False\n",
        "# unittest.output_test(returned_value, False)"
      ]
    },
    {
      "cell_type": "code",
      "execution_count": 15,
      "metadata": {
        "colab": {
          "base_uri": "https://localhost:8080/"
        },
        "id": "hTWgAtKeCbSz",
        "outputId": "36e31b36-ea9d-40d0-ac1c-b1e933d56b61"
      },
      "outputs": [
        {
          "name": "stdout",
          "output_type": "stream",
          "text": [
            "10.181818181818182\n",
            "7.960127911260996\n",
            "[25, -5]\n"
          ]
        }
      ],
      "source": [
        "#part 2\n",
        "\n",
        "given_array=[10, 8, 13, 9, 14, 25, -5, 20, 7, 7, 4]\n",
        "def standard_deviation(given_array):\n",
        "  sum =0\n",
        "  mean=0\n",
        "  for i in given_array:\n",
        "    sum +=i\n",
        "    mean=sum /len(given_array)\n",
        "  print(mean)\n",
        "  sum2=0\n",
        "  for x in given_array:\n",
        "    sum2=sum2+((x-mean)*(x-mean))\n",
        "  var=sum2/(len(given_array)-1)\n",
        "  std=var**.5\n",
        "  print(std)\n",
        "  coin=0\n",
        "  for j in given_array:\n",
        "    if (j-mean)<=std*-1.5 or (j-mean)>=std*1.5:\n",
        "      coin+=1\n",
        "  new_array=[None]*coin\n",
        "  j=0\n",
        "  for m in given_array:\n",
        "    if (m-mean)<=std*-1.5 or (m-mean)>=std*1.5:\n",
        "      new_array[j]=m\n",
        "      j+=1\n",
        "  print(new_array)\n",
        "standard_deviation([10, 8, 13, 9, 14, 25, -5, 20, 7, 7, 4])"
      ]
    },
    {
      "cell_type": "markdown",
      "metadata": {
        "id": "_6RT_GOabsDF"
      },
      "source": [
        "BONUS TASK (Ungraded)"
      ]
    },
    {
      "cell_type": "code",
      "execution_count": null,
      "metadata": {
        "id": "mrxIQ5rBhzPj"
      },
      "outputs": [],
      "source": [
        "# Test 06: Odd Even Wave\n",
        "def waveYourFlag(arr):\n",
        "  # TO DO\n",
        "  return None\n",
        "\n",
        "print(\"///  Test 06: Odd Even Wave  ///\")\n",
        "arr = np.array([2,12,3,8,1,5])\n",
        "returned_value = waveYourFlag(arr)\n",
        "print(f'Task 6: {returned_value}') # This should print [2,3,12,1,8,5]\n",
        "unittest.output_test(returned_value, np.array([2,3,12,1,8,5]))\n",
        "\n",
        "arr = np.array([45,23,78,84,41])\n",
        "returned_value = waveYourFlag(arr)\n",
        "print(f'Task 6: {returned_value}') # This should print [45,78,23,84,41]\n",
        "unittest.output_test(returned_value, np.array([45,78,23,84,41]))"
      ]
    }
  ],
  "metadata": {
    "colab": {
      "provenance": []
    },
    "kernelspec": {
      "display_name": "Python 3",
      "name": "python3"
    },
    "language_info": {
      "codemirror_mode": {
        "name": "ipython",
        "version": 3
      },
      "file_extension": ".py",
      "mimetype": "text/x-python",
      "name": "python",
      "nbconvert_exporter": "python",
      "pygments_lexer": "ipython3",
      "version": "3.11.5"
    }
  },
  "nbformat": 4,
  "nbformat_minor": 0
}
