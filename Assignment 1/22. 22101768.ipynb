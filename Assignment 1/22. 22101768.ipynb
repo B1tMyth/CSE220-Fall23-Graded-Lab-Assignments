{
  "cells": [
    {
      "cell_type": "markdown",
      "metadata": {},
      "source": [
        "#### Part 1: \n",
        "#### Task 1: No issues. \n",
        "#### Task 2: No issues. \n",
        "#### Task 3: No issues. \n",
        "#### Task 4: The order in which the notes are chosen matters. In that case the current implementation will fail for sequence like [2,2,3,1,3,1]. \n",
        "#### Task 5: No issues. \n",
        "#### Bonus Task: Not attempted. \n",
        "#### Part 2 Task: No issues apart from some builtin functions being used. "
      ]
    },
    {
      "cell_type": "code",
      "execution_count": 2,
      "metadata": {
        "colab": {
          "base_uri": "https://localhost:8080/"
        },
        "id": "eH6gNLLBeqYv",
        "outputId": "5153bbe7-6fef-42d5-9e0a-e02d95fd3c13"
      },
      "outputs": [
        {
          "name": "stdout",
          "output_type": "stream",
          "text": [
            "Collecting fhm-unittest\n",
            "  Downloading fhm_unittest-1.0.1-py3-none-any.whl (2.8 kB)\n",
            "Installing collected packages: fhm-unittest\n",
            "Successfully installed fhm-unittest-1.0.1\n",
            "Collecting fuzzywuzzy\n",
            "  Downloading fuzzywuzzy-0.18.0-py2.py3-none-any.whl (18 kB)\n",
            "Installing collected packages: fuzzywuzzy\n",
            "Successfully installed fuzzywuzzy-0.18.0\n"
          ]
        },
        {
          "name": "stderr",
          "output_type": "stream",
          "text": [
            "/usr/local/lib/python3.10/dist-packages/fuzzywuzzy/fuzz.py:11: UserWarning: Using slow pure-python SequenceMatcher. Install python-Levenshtein to remove this warning\n",
            "  warnings.warn('Using slow pure-python SequenceMatcher. Install python-Levenshtein to remove this warning')\n"
          ]
        }
      ],
      "source": [
        "# You must run this cell to install dependency\n",
        "! pip3 install fhm-unittest\n",
        "! pip3 install fuzzywuzzy\n",
        "import fhm_unittest as unittest\n",
        "import numpy as np"
      ]
    },
    {
      "cell_type": "code",
      "execution_count": null,
      "metadata": {
        "colab": {
          "base_uri": "https://localhost:8080/"
        },
        "id": "poDGw08rhoJG",
        "outputId": "30253f20-5df9-48af-df52-0d2c670a160c"
      },
      "outputs": [
        {
          "name": "stdout",
          "output_type": "stream",
          "text": [
            "///  Test 01: Play Right  ///\n",
            "Task 1: [40 50 60 10 20 30]\n"
          ]
        }
      ],
      "source": [
        "# Test 01: Play Right\n",
        "\n",
        "def playRight(sequence,beats):\n",
        "  # TO DO\n",
        "  for i in range(0,len(beats)):\n",
        "    if beats[i]==1:\n",
        "      temp=sequence[len(sequence)-1]\n",
        "\n",
        "      for j in range(len(sequence)-1,0,-1):\n",
        "\n",
        "        sequence[j]=sequence[j-1]\n",
        "      sequence[0]=temp\n",
        "\n",
        "  return sequence\n",
        "\n",
        "print(\"///  Test 01: Play Right  ///\")\n",
        "sequence = np.array([10, 20, 30, 40, 50, 60])\n",
        "beats = np.array([1, 0, 0, 1, 0, 1])\n",
        "returned_value = playRight(sequence, beats)\n",
        "print(f'Task 1: {returned_value}')  # This should print [40, 50, 60, 10, 20, 30]"
      ]
    },
    {
      "cell_type": "code",
      "execution_count": null,
      "metadata": {
        "colab": {
          "base_uri": "https://localhost:8080/"
        },
        "id": "vzJUg17-hoRU",
        "outputId": "955cd922-cece-4ac7-9673-22a52bdecb21"
      },
      "outputs": [
        {
          "name": "stdout",
          "output_type": "stream",
          "text": [
            "///  Test 02: Discard Cards  ///\n",
            "Task 2: [1 3 8 5 7 0 0 0 0]\n",
            "Accepted\n"
          ]
        }
      ],
      "source": [
        "# Test 02: Discard Cards\n",
        "def discardCards(cards,number):\n",
        "  # TO DO\n",
        "  for i in range(0,len(cards)):\n",
        "    if cards[i]==number:\n",
        "      cards[i]=0\n",
        "    else:\n",
        "      pass\n",
        "  x=0\n",
        "  while x<=len(cards):\n",
        "    for j in range(0,len(cards)):\n",
        "      if cards[j]==0:\n",
        "        temp=cards[j]\n",
        "        for k in range(j,len(cards)-1):\n",
        "\n",
        "           cards[k]=cards[k+1]\n",
        "\n",
        "        cards[len(cards)-1]=temp\n",
        "      else:\n",
        "       pass\n",
        "    x+=1\n",
        "\n",
        "\n",
        "  return cards\n",
        "\n",
        "\n",
        "print(\"///  Test 02: Discard Cards  ///\")\n",
        "cards = np.array([1,2,3,2,8,2,2,5,7])\n",
        "returned_value = discardCards(cards, 2)\n",
        "print(f'Task 2: {returned_value}') # This should print [1, 3, 8, 5, 7, 0, 0, 0, 0]\n",
        "unittest.output_test(returned_value, np.array([1, 3, 8, 5, 7, 0, 0, 0, 0]))"
      ]
    },
    {
      "cell_type": "code",
      "execution_count": null,
      "metadata": {
        "colab": {
          "base_uri": "https://localhost:8080/"
        },
        "id": "8mJdzqpcpVPm",
        "outputId": "c4dbd200-8350-4157-db9d-62fca4de3f9c"
      },
      "outputs": [
        {
          "name": "stdout",
          "output_type": "stream",
          "text": [
            "///  Test 03: Merge Lineup  ///\n",
            "Task 3: [12  3 28 -8  5]\n",
            "Accepted\n",
            "Task 3: [ 4 17  6 27  2]\n",
            "Accepted\n"
          ]
        }
      ],
      "source": [
        "#Test 03: Merge Lineup\n",
        "def mergeLineup(pokemon_1, pokemon_2):\n",
        "  result = [None]*len(pokemon_1) #this array stores the resulting array\n",
        "  # TO DO\n",
        "\n",
        "  for i in range(len(pokemon_1)):\n",
        "    if pokemon_1[i]==None:\n",
        "      pokemon_1[i]=0\n",
        "    if pokemon_2[i]==None:\n",
        "      pokemon_2[i]=0\n",
        "  x=len(pokemon_1)-1\n",
        "  new_pokemon=np.array([0]*len(pokemon_1))\n",
        "  for j in  range(len(pokemon_1)):\n",
        "    new_pokemon[j]=pokemon_1[j]+pokemon_2[x]\n",
        "    x-=1\n",
        "  return new_pokemon\n",
        "\n",
        "\n",
        "print(\"///  Test 03: Merge Lineup  ///\")\n",
        "pokemon_1 = np.array([12, 3, 25, 1, None])\n",
        "pokemon_2 = np.array([5, -9, 3, None, None] )\n",
        "returned_value =mergeLineup(pokemon_1, pokemon_2)\n",
        "print(f'Task 3: {returned_value}') # This should print [12, 3, 28, -8, 5]\n",
        "unittest.output_test(returned_value, np.array([12, 3, 28, -8, 5]))\n",
        "\n",
        "pokemon_1 = np.array([4, 5, -1, None, None])\n",
        "pokemon_2 = np.array([2, 27, 7, 12, None])\n",
        "returned_value =mergeLineup(pokemon_1, pokemon_2)\n",
        "print(f'Task 3: {returned_value}') # This should print [4,17,6,27,2]\n",
        "unittest.output_test(returned_value, np.array([4,17,6,27,2]))"
      ]
    },
    {
      "cell_type": "code",
      "execution_count": null,
      "metadata": {
        "colab": {
          "base_uri": "https://localhost:8080/"
        },
        "id": "93-CTZe8hoUM",
        "outputId": "10ba9fd9-52f9-4ed2-9a71-385d34b33620"
      },
      "outputs": [
        {
          "name": "stdout",
          "output_type": "stream",
          "text": [
            "///  Test 04: Balance Your Salami  ///\n",
            "Task 4: True\n",
            "Accepted\n",
            "Task 4: False\n",
            "Accepted\n",
            "Task 4: True\n",
            "Accepted\n"
          ]
        }
      ],
      "source": [
        "# Test 04: Balance your Salami\n",
        "def balanceSalami(salami):\n",
        "  x=0\n",
        "  for i in range(len(salami)):\n",
        "    x+=salami[i]\n",
        "  if x%2==0:\n",
        "    return True\n",
        "  else:\n",
        "    return False\n",
        "\n",
        "\n",
        "\n",
        "\n",
        "\n",
        "print(\"///  Test 04: Balance Your Salami  ///\")\n",
        "salami = np.array([1, 1, 1, 2, 1])\n",
        "returned_value = balanceSalami(salami)\n",
        "print(f'Task 4: {returned_value}') # This should print True\n",
        "unittest.output_test(returned_value, True)\n",
        "\n",
        "salami = [2, 1, 1, 2, 1]\n",
        "returned_value = np.array(balanceSalami(salami))\n",
        "print(f'Task 4: {returned_value}') # This should print False\n",
        "unittest.output_test(returned_value, False)\n",
        "\n",
        "salami = [10, 3, 1, 2, 10]\n",
        "returned_value =  np.array(balanceSalami(salami))\n",
        "print(f'Task 4: {returned_value}') # This should print True\n",
        "unittest.output_test(returned_value, True)"
      ]
    },
    {
      "cell_type": "code",
      "execution_count": null,
      "metadata": {
        "colab": {
          "base_uri": "https://localhost:8080/"
        },
        "id": "PcL-yXAAhoZ8",
        "outputId": "89f03886-177b-4e75-90f0-5a330c959503"
      },
      "outputs": [
        {
          "name": "stdout",
          "output_type": "stream",
          "text": [
            "///  Test 05: Protecc Salami  ///\n",
            "Task 5: True\n",
            "Accepted\n",
            "Task 5: False\n",
            "Accepted\n"
          ]
        }
      ],
      "source": [
        "# Test 05: Protecc Salami\n",
        "def protectSalami(salami):\n",
        "    highest_no = salami[0]\n",
        "    for i in salami:\n",
        "      if i>highest_no:\n",
        "        highest_no = i\n",
        "    arr = [0]*(highest_no+1)\n",
        "    for j in range(len(salami)):\n",
        "      idx = salami[j]\n",
        "      arr[idx] += 1\n",
        "    ans = False\n",
        "    for k in range(len(arr)):\n",
        "      value = arr[k]\n",
        "      if value>1:\n",
        "        for l in range(k+1,len(arr)):\n",
        "          if value == arr[l]:\n",
        "            ans = True\n",
        "            break\n",
        "    return ans\n",
        "print(\"///  Test 05: Protecc Salami  ///\")\n",
        "salami = np.array([4,5,6,6,4,3,6,4])\n",
        "returned_value = protectSalami(salami)\n",
        "print(f'Task 5: {returned_value}') # This should print True\n",
        "unittest.output_test(returned_value, True)\n",
        "\n",
        "salami = np.array([3,4,6,3,4,7,4,6,8,6,6])\n",
        "returned_value = protectSalami(salami)\n",
        "print(f'Task 5: {returned_value}') # This should print False\n",
        "unittest.output_test(returned_value, False)"
      ]
    },
    {
      "cell_type": "code",
      "execution_count": 3,
      "metadata": {
        "colab": {
          "base_uri": "https://localhost:8080/"
        },
        "id": "HR1Yw1WXp95z",
        "outputId": "59785a3f-0bdc-453c-d36f-3f524b463c30"
      },
      "outputs": [
        {
          "name": "stdout",
          "output_type": "stream",
          "text": [
            "Mean of the numbers is: 10.181818181818182\n",
            "Standard deviation is: 7.960127911260996\n",
            "New array: [25 -5]\n"
          ]
        }
      ],
      "source": [
        "#part2\n",
        "import math\n",
        "\n",
        "def calculate_mean(array):\n",
        "    return sum(array) / len(array)\n",
        "\n",
        "def deviation(array):\n",
        "    mean = calculate_mean(array)\n",
        "    deviations = [(x - mean) ** 2 for x in array]\n",
        "    variance = sum(deviations) / (len(array) - 1)\n",
        "    return math.sqrt(variance)\n",
        "\n",
        "def new_array(array):\n",
        "    mean = calculate_mean(array)\n",
        "    stan_dev = deviation(array)\n",
        "    hold = 1.5 * stan_dev\n",
        "    positive=mean+ hold\n",
        "    negative= mean- hold\n",
        "    c=0\n",
        "    for a in range(0,len(array)):\n",
        "        if array[a]>positive:\n",
        "             c+=1\n",
        "        elif array[a]<negative:\n",
        "             c+=1\n",
        "    if c==0:\n",
        "        return None\n",
        "    else:\n",
        "         new_array=np.array([0]*c)\n",
        "         k=0\n",
        "         r=0\n",
        "         while k<len(array):\n",
        "              if array[k]>positive:\n",
        "                new_array[r]=array[k]\n",
        "                r+=1\n",
        "              elif array[k]<negative:\n",
        "                 new_array[r]=array[k]\n",
        "              k+=1\n",
        "    return new_array\n",
        "\n",
        "numbers = [10, 8, 13, 9, 14, 25, -5, 20, 7, 7, 4]\n",
        "mean = calculate_mean(numbers)\n",
        "stan_dev = deviation(numbers)\n",
        "new_array = new_array(numbers)\n",
        "\n",
        "print(\"Mean of the numbers is:\", mean)\n",
        "print(\"Standard deviation is:\", stan_dev)\n",
        "print(\"New array:\", new_array)\n"
      ]
    },
    {
      "cell_type": "code",
      "execution_count": null,
      "metadata": {
        "id": "Ays8DimGqVHe"
      },
      "outputs": [],
      "source": []
    }
  ],
  "metadata": {
    "colab": {
      "provenance": []
    },
    "kernelspec": {
      "display_name": "Python 3",
      "name": "python3"
    },
    "language_info": {
      "name": "python"
    }
  },
  "nbformat": 4,
  "nbformat_minor": 0
}
