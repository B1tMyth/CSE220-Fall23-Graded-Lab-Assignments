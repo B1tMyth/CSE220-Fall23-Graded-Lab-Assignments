{
  "cells": [
    {
      "cell_type": "markdown",
      "metadata": {},
      "source": [
        "#### Part 1: \n",
        "#### Task 1: No issues. \n",
        "#### Task 2: No issues. \n",
        "#### Task 3: No issues. \n",
        "#### Tsak 4: No issues. \n",
        "#### Task 5: No issues. \n",
        "#### Bonus Task: No issues. \n",
        "#### Part 2 Task: No issues. "
      ]
    },
    {
      "cell_type": "code",
      "execution_count": 29,
      "metadata": {
        "id": "pi_n0okZ1v_O"
      },
      "outputs": [],
      "source": [
        "import numpy as np"
      ]
    },
    {
      "cell_type": "markdown",
      "metadata": {
        "id": "lJl5kEU9s6VF"
      },
      "source": [
        "**Instructions to Follow (Failing to follow these will result mark deductions).**\n",
        "\n",
        "\n",
        "1.   You can not use any built-in function except len()\n",
        "2.   You can not use any other python collections except array (e.g: tuptle, dictionaries etc.).\n",
        "3. We will initialize a new array using numpy library. We have to mention the fixed size during initialization. There might be two approach.\n",
        "\n",
        "  i. arr = np.array([None] * 10) #Initializing an array length 10 with values None.\n",
        "\n",
        "  ii. arr = np.array([10, 20, 30, 40]) #Initializing an array length 4 with the values.\n",
        "4. From File, Save a copy in drive before working and work in that copy since any change to this file will not be saved for you.\n",
        "\n",
        "\n",
        "\n",
        "\n"
      ]
    },
    {
      "cell_type": "code",
      "execution_count": 30,
      "metadata": {
        "colab": {
          "base_uri": "https://localhost:8080/"
        },
        "id": "nAE3YxgdLMa1",
        "outputId": "dc871b20-439d-4b9b-f79a-df137d4a91ee"
      },
      "outputs": [
        {
          "name": "stdout",
          "output_type": "stream",
          "text": [
            "Requirement already satisfied: fhm-unittest in /usr/local/lib/python3.10/dist-packages (1.0.1)\n",
            "Requirement already satisfied: fuzzywuzzy in /usr/local/lib/python3.10/dist-packages (0.18.0)\n"
          ]
        }
      ],
      "source": [
        "# You must run this cell to install dependency\n",
        "! pip3 install fhm-unittest\n",
        "! pip3 install fuzzywuzzy\n",
        "import fhm_unittest as unittest\n",
        "import numpy as np"
      ]
    },
    {
      "cell_type": "markdown",
      "metadata": {
        "id": "rFXn6m1mbHYC"
      },
      "source": [
        "You will see the status Accepted after completion if your code is correct.\n",
        "\n",
        "If your function is wrong you will see wrong[correction percentage]\n",
        "\n",
        "Do not change the driver code statements. You can only change the input values to test your code."
      ]
    },
    {
      "cell_type": "code",
      "execution_count": 31,
      "metadata": {
        "colab": {
          "base_uri": "https://localhost:8080/"
        },
        "id": "hzdDNKdRahbQ",
        "outputId": "c6da3eac-3077-4466-8c2d-7a3cdcef9293"
      },
      "outputs": [
        {
          "name": "stdout",
          "output_type": "stream",
          "text": [
            "///  Test 01: Play Right  ///\n",
            "Task 1: [40 50 60 10 20 30]\n"
          ]
        }
      ],
      "source": [
        "# Test 01: Play Right\n",
        "def playRight(sequence, beats):\n",
        "    for i in beats:\n",
        "      if i == 1:\n",
        "        new = sequence[len(sequence)-1]\n",
        "        for item in range(len(sequence)-1, 0, -1):\n",
        "          sequence[item] = sequence[item -1]\n",
        "        sequence[0] = new\n",
        "\n",
        "    return sequence\n",
        "\n",
        "print(\"///  Test 01: Play Right  ///\")\n",
        "sequence = np.array([10, 20, 30, 40, 50, 60])\n",
        "beats = np.array([1, 0, 0, 1, 0, 1])\n",
        "returned_value = playRight(sequence, beats)\n",
        "print(f'Task 1: {returned_value}')  # This should print [40, 50, 60, 10, 20, 30]"
      ]
    },
    {
      "cell_type": "code",
      "execution_count": 32,
      "metadata": {
        "colab": {
          "base_uri": "https://localhost:8080/"
        },
        "id": "Ag1wNuXgaoh4",
        "outputId": "6707db9a-15d2-42f2-b8b2-36898a72896c"
      },
      "outputs": [
        {
          "name": "stdout",
          "output_type": "stream",
          "text": [
            "///  Test 02: Discard Cards  ///\n",
            "Task 2: [1 3 8 5 7 0 0 0 0]\n",
            "Accepted\n"
          ]
        }
      ],
      "source": [
        "# Test 02: Discard Cards\n",
        "def discardCards(cards,number):\n",
        "  while number in cards:\n",
        "    for item in range(len(cards)):\n",
        "      if cards[item] == number:\n",
        "        for items in range(item, len(cards)):\n",
        "          if items < len(cards) -1:\n",
        "            cards[items] = cards[items +1]\n",
        "            cards[items+1] = 0\n",
        "        break\n",
        "\n",
        "  return cards\n",
        "\n",
        "\n",
        "print(\"///  Test 02: Discard Cards  ///\")\n",
        "cards = np.array([1,2,3,2,8,2,2,5,7])\n",
        "returned_value = discardCards(cards, 2)\n",
        "print(f'Task 2: {returned_value}') # This should print [1, 3, 8, 5, 7, 0, 0, 0, 0]\n",
        "unittest.output_test(returned_value, np.array([1, 3, 8, 5, 7, 0, 0, 0, 0]))"
      ]
    },
    {
      "cell_type": "code",
      "execution_count": 33,
      "metadata": {
        "colab": {
          "base_uri": "https://localhost:8080/"
        },
        "id": "Ene8Dp4vasuN",
        "outputId": "ab686c33-f59e-44b6-d5ed-83600c94ad45"
      },
      "outputs": [
        {
          "name": "stdout",
          "output_type": "stream",
          "text": [
            "///  Test 03: Merge Lineup  ///\n",
            "Task 3: [12  3 28 -8  5]\n",
            "Accepted\n",
            "Task 3: [4 17  6 27  2]\n",
            "Accepted\n"
          ]
        }
      ],
      "source": [
        "#Test 03: Merge Lineup\n",
        "def mergeLineup(pokemon_1, pokemon_2):\n",
        "    result = [None]*len(pokemon_1)\n",
        "    for item in range(len(pokemon_1)):\n",
        "      if pokemon_1[item] == None:\n",
        "        pokemon_1[item] = 0\n",
        "      if pokemon_2[len(pokemon_1)-1-item] == None:\n",
        "        pokemon_2[len(pokemon_1)-1-item] = 0\n",
        "      result[item] = pokemon_1[item]+pokemon_2[len(pokemon_1)-1-item]\n",
        "    s = \"[\"\n",
        "    for i in range(len(result)):\n",
        "      if result[i]<0 or result[i]>9:\n",
        "        if result[i+1] < 0 or result[i+1] > 9:\n",
        "          s = s + str(result[i]) + \" \"\n",
        "        else:\n",
        "          s = s + str(result[i]) + \"  \"\n",
        "      else:\n",
        "        s = s + str(result[i]) + \" \"\n",
        "    s = s[:-1]+\"]\"\n",
        "    return s\n",
        "\n",
        "\n",
        "print(\"///  Test 03: Merge Lineup  ///\")\n",
        "pokemon_1 = np.array([12, 3, 25, 1, None])\n",
        "pokemon_2 = np.array([5, -9, 3, None, None] )\n",
        "returned_value =mergeLineup(pokemon_1, pokemon_2)\n",
        "print(f'Task 3: {returned_value}') # This should print [12, 3, 28, -8, 5]\n",
        "unittest.output_test(returned_value, np.array([12, 3, 28, -8, 5]))\n",
        "\n",
        "pokemon_1 = np.array([4, 5, -1, None, None])\n",
        "pokemon_2 = np.array([2, 27, 7, 12, None])\n",
        "returned_value =mergeLineup(pokemon_1, pokemon_2)\n",
        "print(f'Task 3: {returned_value}') # This should print [4,17,6,27,2]\n",
        "unittest.output_test(returned_value, np.array([4,17,6,27,2]))"
      ]
    },
    {
      "cell_type": "code",
      "execution_count": 34,
      "metadata": {
        "colab": {
          "base_uri": "https://localhost:8080/"
        },
        "id": "ox9p5qL7axD8",
        "outputId": "683ff992-1048-4a43-c0ef-008da8c5f950"
      },
      "outputs": [
        {
          "name": "stdout",
          "output_type": "stream",
          "text": [
            "///  Test 04: Balance Your Salami  ///\n",
            "Task 4: True\n",
            "Accepted\n",
            "Task 4: False\n",
            "Accepted\n",
            "Task 4: True\n",
            "Accepted\n"
          ]
        }
      ],
      "source": [
        "# Test 04: Balance your Salami\n",
        "def balanceSalami(salami):\n",
        "   right_sum = 0\n",
        "   for item in range(len(salami)):\n",
        "      right_sum += salami[item]\n",
        "      left_sum = 0\n",
        "      for var in range(item+ 1, len(salami)):\n",
        "          left_sum += salami[var]\n",
        "      if right_sum == left_sum:\n",
        "        return True\n",
        "        break\n",
        "   return False\n",
        "\n",
        "print(\"///  Test 04: Balance Your Salami  ///\")\n",
        "salami = np.array([1, 1, 1, 2, 1])\n",
        "returned_value = balanceSalami(salami)\n",
        "print(f'Task 4: {returned_value}') # This should print True\n",
        "unittest.output_test(returned_value, True)\n",
        "\n",
        "salami = [2, 1, 1, 2, 1]\n",
        "returned_value = np.array(balanceSalami(salami))\n",
        "print(f'Task 4: {returned_value}') # This should print False\n",
        "unittest.output_test(returned_value, False)\n",
        "\n",
        "salami = [10, 3, 1, 2, 10]\n",
        "returned_value =  np.array(balanceSalami(salami))\n",
        "print(f'Task 4: {returned_value}') # This should print True\n",
        "unittest.output_test(returned_value, True)"
      ]
    },
    {
      "cell_type": "code",
      "execution_count": 35,
      "metadata": {
        "colab": {
          "base_uri": "https://localhost:8080/"
        },
        "id": "JGIYYUIza-st",
        "outputId": "2abec042-ce2f-4de0-b4be-ae5a30ada0df"
      },
      "outputs": [
        {
          "name": "stdout",
          "output_type": "stream",
          "text": [
            "///  Test 05: Protecc Salami  ///\n",
            "Task 5: True\n",
            "Accepted\n",
            "Task 5: False\n",
            "Accepted\n"
          ]
        }
      ],
      "source": [
        "# Test 05: Protecc Salami\n",
        "def protectSalami(salami):\n",
        "  # TO DO\n",
        "  first_arr=[0]*len(salami)\n",
        "  second_arr=[0]*len(salami)\n",
        "  index1=0\n",
        "  for i in salami:\n",
        "      if i not in first_arr:\n",
        "          first_arr[index1]=i\n",
        "          index1+=1\n",
        "  index2=0\n",
        "  repeat=False\n",
        "  for item in first_arr:\n",
        "      index3=0\n",
        "      for var in salami:\n",
        "          if item==var:\n",
        "              index3+=1\n",
        "      if index3 >1 and index3 in second_arr:\n",
        "        repeat=True\n",
        "        break\n",
        "      second_arr[index2]= index3\n",
        "      index2+=1\n",
        "\n",
        "  if repeat ==True:\n",
        "      return True\n",
        "  else:\n",
        "      return False\n",
        "\n",
        "print(\"///  Test 05: Protecc Salami  ///\")\n",
        "salami = np.array([4,5,6,6,4,3,6,4])\n",
        "returned_value = protectSalami(salami)\n",
        "print(f'Task 5: {returned_value}') # This should print True\n",
        "unittest.output_test(returned_value, True)\n",
        "\n",
        "salami = np.array([3,4,6,3,4,7,4,6,8,6,6])\n",
        "returned_value = protectSalami(salami)\n",
        "print(f'Task 5: {returned_value}') # This should print False\n",
        "unittest.output_test(returned_value, False)"
      ]
    },
    {
      "cell_type": "markdown",
      "metadata": {
        "id": "_6RT_GOabsDF"
      },
      "source": [
        "BONUS TASK (Ungraded)"
      ]
    },
    {
      "cell_type": "code",
      "execution_count": 36,
      "metadata": {
        "colab": {
          "base_uri": "https://localhost:8080/"
        },
        "id": "mrxIQ5rBhzPj",
        "outputId": "13ee7f32-c640-42df-b3af-a079c2b5b040"
      },
      "outputs": [
        {
          "name": "stdout",
          "output_type": "stream",
          "text": [
            "///  Test 06: Odd Even Wave  ///\n",
            "Task 6: [ 2  3 12  1  8  5]\n",
            "Accepted\n",
            "Task 6: [45 78 23 84 41]\n",
            "Accepted\n"
          ]
        }
      ],
      "source": [
        "# Test 06: Odd Even Wave\n",
        "def waveYourFlag(numbr):\n",
        "  if numbr[0] % 2 == 0:\n",
        "    for item in range(1, len(numbr)):\n",
        "      if item % 2 == 0:\n",
        "        count = item\n",
        "        while numbr[count] % 2 != 0:\n",
        "          count = count + 1\n",
        "      else:\n",
        "        count = item\n",
        "        while numbr[count] % 2 == 0:\n",
        "          count = count + 1\n",
        "      temp = numbr[item]\n",
        "      numbr[item] = numbr[count]\n",
        "      numbr[count] = temp\n",
        "  else:\n",
        "    for item in range(1, len(numbr)):\n",
        "      if item % 2 == 0:\n",
        "        count = item\n",
        "        while numbr[count] % 2 == 0:\n",
        "          count = count + 1\n",
        "      else:\n",
        "        count = item\n",
        "        while arr[count] % 2 != 0:\n",
        "          count = count + 1\n",
        "      temp = numbr[item]\n",
        "      numbr[item] = numbr[count]\n",
        "      numbr[count] = temp\n",
        "\n",
        "  return numbr\n",
        "\n",
        "print(\"///  Test 06: Odd Even Wave  ///\")\n",
        "arr = np.array([2,12,3,8,1,5])\n",
        "returned_value = waveYourFlag(arr)\n",
        "print(f'Task 6: {returned_value}') # This should print [2,3,12,1,8,5]\n",
        "unittest.output_test(returned_value, np.array([2,3,12,1,8,5]))\n",
        "\n",
        "arr = np.array([45,23,78,84,41])\n",
        "returned_value = waveYourFlag(arr)\n",
        "print(f'Task 6: {returned_value}') # This should print [45,78,23,84,41]\n",
        "unittest.output_test(returned_value, np.array([45,78,23,84,41]))"
      ]
    },
    {
      "cell_type": "markdown",
      "metadata": {
        "id": "F51AfJALPo-t"
      },
      "source": [
        "Lab1 Part_2"
      ]
    },
    {
      "cell_type": "code",
      "execution_count": 37,
      "metadata": {
        "colab": {
          "base_uri": "https://localhost:8080/"
        },
        "id": "IJjw14urRRkT",
        "outputId": "9383b31a-e26a-428c-c1ea-b7f84b7465a5"
      },
      "outputs": [
        {
          "name": "stdout",
          "output_type": "stream",
          "text": [
            "Mean: 10.181818181818182\n",
            "Standard Deviation: 7.960127911260996\n",
            "New array [25, -5]\n"
          ]
        }
      ],
      "source": [
        "def calculate_mean(arr):\n",
        "    sum = 0\n",
        "    for i in arr:\n",
        "        sum += i\n",
        "    mean = sum /len(arr)\n",
        "    return mean\n",
        "\n",
        "def calculate_std_dev(arr, mean):\n",
        "    sum = 0\n",
        "    for i in arr:\n",
        "        sum += (i - mean) ** 2\n",
        "    std_dev = (sum / (len(arr) - 1)) ** 0.5\n",
        "    return std_dev\n",
        "\n",
        "def find_new_array(arr, mean, std_dev):\n",
        "    new = [0]*len(arr)\n",
        "    index = 0\n",
        "    for i in arr:\n",
        "        if abs(i - mean) > 1.5 * std_dev:\n",
        "            new[index] = i\n",
        "            index += 1\n",
        "\n",
        "    newArray = [0]*index\n",
        "    for i in range(len(newArray)):\n",
        "      newArray[i] = new[i]\n",
        "\n",
        "    if index > 0:\n",
        "      return newArray\n",
        "    else:\n",
        "      return None\n",
        "\n",
        "arr = np.array([10, 8, 13, 9, 14, 25, -5, 20, 7, 7, 4])\n",
        "mean = calculate_mean(arr)\n",
        "std_dev = calculate_std_dev(arr, mean)\n",
        "outliers = find_new_array(arr, mean, std_dev)\n",
        "\n",
        "print(\"Mean:\", mean)\n",
        "print(\"Standard Deviation:\", std_dev)\n",
        "print(\"New array\", outliers)"
      ]
    }
  ],
  "metadata": {
    "colab": {
      "provenance": []
    },
    "kernelspec": {
      "display_name": "Python 3",
      "name": "python3"
    },
    "language_info": {
      "name": "python"
    }
  },
  "nbformat": 4,
  "nbformat_minor": 0
}
