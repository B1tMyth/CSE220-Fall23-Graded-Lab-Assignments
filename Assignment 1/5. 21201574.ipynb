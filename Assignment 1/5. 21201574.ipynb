{
  "cells": [
    {
      "cell_type": "markdown",
      "metadata": {},
      "source": [
        "#### Part 1\n",
        "#### Task 1: No issues.\n",
        "#### Task 2: No issues. \n",
        "#### Task 3: No issues. \n",
        "#### Task 4: No issues. \n",
        "#### Task 5: No issues. \n",
        "#### Bonus Task: No issues. \n",
        "#### Part 2\n",
        "#### Task: No issues.  "
      ]
    },
    {
      "cell_type": "code",
      "execution_count": 1,
      "metadata": {
        "id": "pi_n0okZ1v_O"
      },
      "outputs": [],
      "source": [
        "import numpy as np"
      ]
    },
    {
      "cell_type": "markdown",
      "metadata": {
        "id": "lJl5kEU9s6VF"
      },
      "source": [
        "**Instructions to Follow (Failing to follow these will result mark deductions).**\n",
        "\n",
        "\n",
        "1.   You can not use any built-in function except len()\n",
        "2.   You can not use any other python collections except array (e.g: tuptle, dictionaries etc.).\n",
        "3. We will initialize a new array using numpy library. We have to mention the fixed size during initialization. There might be two approach.\n",
        "\n",
        "  i. arr = np.array([None] * 10) #Initializing an array length 10 with values None.\n",
        "\n",
        "  ii. arr = np.array([10, 20, 30, 40]) #Initializing an array length 4 with the values.\n",
        "4. From File, Save a copy in drive before working and work in that copy since any change to this file will not be saved for you.\n",
        "\n",
        "\n",
        "\n",
        "\n"
      ]
    },
    {
      "cell_type": "code",
      "execution_count": 2,
      "metadata": {
        "colab": {
          "base_uri": "https://localhost:8080/"
        },
        "id": "nAE3YxgdLMa1",
        "outputId": "3d576780-7e65-423f-dc8a-054172ce0c3b"
      },
      "outputs": [
        {
          "name": "stdout",
          "output_type": "stream",
          "text": [
            "Collecting fhm-unittest\n",
            "  Downloading fhm_unittest-1.0.1-py3-none-any.whl (2.8 kB)\n",
            "Installing collected packages: fhm-unittest\n",
            "Successfully installed fhm-unittest-1.0.1\n",
            "Collecting fuzzywuzzy\n",
            "  Downloading fuzzywuzzy-0.18.0-py2.py3-none-any.whl (18 kB)\n",
            "Installing collected packages: fuzzywuzzy\n",
            "Successfully installed fuzzywuzzy-0.18.0\n"
          ]
        },
        {
          "name": "stderr",
          "output_type": "stream",
          "text": [
            "/usr/local/lib/python3.10/dist-packages/fuzzywuzzy/fuzz.py:11: UserWarning: Using slow pure-python SequenceMatcher. Install python-Levenshtein to remove this warning\n",
            "  warnings.warn('Using slow pure-python SequenceMatcher. Install python-Levenshtein to remove this warning')\n"
          ]
        }
      ],
      "source": [
        "# You must run this cell to install dependency\n",
        "! pip3 install fhm-unittest\n",
        "! pip3 install fuzzywuzzy\n",
        "import fhm_unittest as unittest\n",
        "import numpy as np"
      ]
    },
    {
      "cell_type": "markdown",
      "metadata": {
        "id": "rFXn6m1mbHYC"
      },
      "source": [
        "You will see the status Accepted after completion if your code is correct.\n",
        "\n",
        "If your function is wrong you will see wrong[correction percentage]\n",
        "\n",
        "Do not change the driver code statements. You can only change the input values to test your code."
      ]
    },
    {
      "cell_type": "code",
      "execution_count": 2,
      "metadata": {
        "colab": {
          "base_uri": "https://localhost:8080/"
        },
        "id": "hzdDNKdRahbQ",
        "outputId": "dc1f8150-8d5b-4344-d3eb-f7a9e40d3bad"
      },
      "outputs": [
        {
          "name": "stdout",
          "output_type": "stream",
          "text": [
            "///  Test 01: Play Right  ///\n",
            "Task 1: [40 50 60 10 20 30]\n"
          ]
        }
      ],
      "source": [
        "# Test 01: Play Right\n",
        "def playRight(sequence, beats):\n",
        "    for each in beats:\n",
        "      if each == 1:\n",
        "        temp = sequence[len(sequence)-1]\n",
        "        for index in range(len(sequence)-1, 0, -1):\n",
        "         sequence[index] = sequence[index-1]\n",
        "        sequence[0] = temp\n",
        "    return sequence\n",
        "\n",
        "\n",
        "\n",
        "print(\"///  Test 01: Play Right  ///\")\n",
        "sequence = np.array([10, 20, 30, 40, 50, 60])\n",
        "beats = np.array([1, 0, 0, 1, 0, 1])\n",
        "returned_value = playRight(sequence, beats)\n",
        "print(f'Task 1: {returned_value}')  # This should print [40, 50, 60, 10, 20, 30]"
      ]
    },
    {
      "cell_type": "code",
      "execution_count": 9,
      "metadata": {
        "colab": {
          "base_uri": "https://localhost:8080/"
        },
        "id": "Ag1wNuXgaoh4",
        "outputId": "7c9d0d2d-817d-4cf2-b6c4-bb409ce42ffa"
      },
      "outputs": [
        {
          "name": "stdout",
          "output_type": "stream",
          "text": [
            "///  Test 02: Discard Cards  ///\n",
            "Task 2: [1 3 8 5 7 0 0 0 0]\n"
          ]
        }
      ],
      "source": [
        "# Test 02: Discard Cards\n",
        "def discardCards(cards,number):\n",
        "  for index1 in range(len(cards)):\n",
        "    if cards[index1] == number:\n",
        "      cards[index1] = 0\n",
        "\n",
        "  for index2 in range(len(cards)):\n",
        "    if cards[index2] == 0:\n",
        "      for index3 in range(index2, len(cards)):\n",
        "        if cards[index3] != 0:\n",
        "          temp_index = index3\n",
        "          cards[index2] = cards[temp_index]\n",
        "          cards[temp_index] = 0\n",
        "          break\n",
        "\n",
        "  return cards\n",
        "print(\"///  Test 02: Discard Cards  ///\")\n",
        "cards = np.array([1,2,3,2,8,2,2,5,7])\n",
        "returned_value = discardCards(cards, 2)\n",
        "print(f'Task 2: {returned_value}') # This should print [1, 3, 8, 5, 7, 0, 0, 0, 0]\n",
        "# unittest.output_test(returned_value, np.array([1, 3, 8, 5, 7, 0, 0, 0, 0]))"
      ]
    },
    {
      "cell_type": "code",
      "execution_count": 10,
      "metadata": {
        "colab": {
          "base_uri": "https://localhost:8080/"
        },
        "id": "Ene8Dp4vasuN",
        "outputId": "673bfc52-a621-41c9-bb42-490dd05b0cb8"
      },
      "outputs": [
        {
          "name": "stdout",
          "output_type": "stream",
          "text": [
            "///  Test 03: Merge Lineup  ///\n",
            "Task 3: [12  3 28 -8  5]\n"
          ]
        },
        {
          "ename": "NameError",
          "evalue": "name 'unittest' is not defined",
          "output_type": "error",
          "traceback": [
            "\u001b[1;31m---------------------------------------------------------------------------\u001b[0m",
            "\u001b[1;31mNameError\u001b[0m                                 Traceback (most recent call last)",
            "\u001b[1;32md:\\CSE220\\CSE220_Lab1\\Lab 1 Linear Array\\21201574_utsho_LAB_1_sec_10_cse220.ipynb Cell 7\u001b[0m line \u001b[0;36m2\n\u001b[0;32m     <a href='vscode-notebook-cell:/d%3A/CSE220/CSE220_Lab1/Lab%201%20Linear%20Array/21201574_utsho_LAB_1_sec_10_cse220.ipynb#W6sZmlsZQ%3D%3D?line=25'>26</a>\u001b[0m returned_value \u001b[39m=\u001b[39mmergeLineup(pokemon_1, pokemon_2)\n\u001b[0;32m     <a href='vscode-notebook-cell:/d%3A/CSE220/CSE220_Lab1/Lab%201%20Linear%20Array/21201574_utsho_LAB_1_sec_10_cse220.ipynb#W6sZmlsZQ%3D%3D?line=26'>27</a>\u001b[0m \u001b[39mprint\u001b[39m(\u001b[39mf\u001b[39m\u001b[39m'\u001b[39m\u001b[39mTask 3: \u001b[39m\u001b[39m{\u001b[39;00mreturned_value\u001b[39m}\u001b[39;00m\u001b[39m'\u001b[39m) \u001b[39m# This should print [12, 3, 28, -8, 5]\u001b[39;00m\n\u001b[1;32m---> <a href='vscode-notebook-cell:/d%3A/CSE220/CSE220_Lab1/Lab%201%20Linear%20Array/21201574_utsho_LAB_1_sec_10_cse220.ipynb#W6sZmlsZQ%3D%3D?line=27'>28</a>\u001b[0m unittest\u001b[39m.\u001b[39moutput_test(returned_value, np\u001b[39m.\u001b[39marray([\u001b[39m12\u001b[39m, \u001b[39m3\u001b[39m, \u001b[39m28\u001b[39m, \u001b[39m-\u001b[39m\u001b[39m8\u001b[39m, \u001b[39m5\u001b[39m]))\n\u001b[0;32m     <a href='vscode-notebook-cell:/d%3A/CSE220/CSE220_Lab1/Lab%201%20Linear%20Array/21201574_utsho_LAB_1_sec_10_cse220.ipynb#W6sZmlsZQ%3D%3D?line=29'>30</a>\u001b[0m pokemon_1 \u001b[39m=\u001b[39m np\u001b[39m.\u001b[39marray([\u001b[39m4\u001b[39m, \u001b[39m5\u001b[39m, \u001b[39m-\u001b[39m\u001b[39m1\u001b[39m, \u001b[39mNone\u001b[39;00m, \u001b[39mNone\u001b[39;00m])\n\u001b[0;32m     <a href='vscode-notebook-cell:/d%3A/CSE220/CSE220_Lab1/Lab%201%20Linear%20Array/21201574_utsho_LAB_1_sec_10_cse220.ipynb#W6sZmlsZQ%3D%3D?line=30'>31</a>\u001b[0m pokemon_2 \u001b[39m=\u001b[39m np\u001b[39m.\u001b[39marray([\u001b[39m2\u001b[39m, \u001b[39m27\u001b[39m, \u001b[39m7\u001b[39m, \u001b[39m12\u001b[39m, \u001b[39mNone\u001b[39;00m])\n",
            "\u001b[1;31mNameError\u001b[0m: name 'unittest' is not defined"
          ]
        }
      ],
      "source": [
        "#Test 03: Merge Lineup\n",
        "def mergeLineup(pokemon_1, pokemon_2):\n",
        "  for index1 in range(len(pokemon_1)):\n",
        "    if pokemon_1[index1] == None:\n",
        "      pokemon_1[index1] = 0\n",
        "\n",
        "  for index2 in range(len(pokemon_2)):\n",
        "    if pokemon_2[index2] == None:\n",
        "      pokemon_2[index2] = 0\n",
        "\n",
        "  index3 = 0\n",
        "  pokemon_2_new = np.zeros(len(pokemon_2), dtype = int)\n",
        "  for index4 in range(len(pokemon_2)-1, -1, -1):\n",
        "    pokemon_2_new[index3] = pokemon_2[index4]\n",
        "    index3 += 1\n",
        "\n",
        "  hp_combined = np.zeros(len(pokemon_2), dtype = int)\n",
        "  for index5 in range(len(hp_combined)):\n",
        "    hp_combined[index5] = pokemon_1[index5] + pokemon_2_new[index5]\n",
        "\n",
        "  return hp_combined\n",
        "\n",
        "print(\"///  Test 03: Merge Lineup  ///\")\n",
        "pokemon_1 = np.array([12, 3, 25, 1, None])\n",
        "pokemon_2 = np.array([5, -9, 3, None, None] )\n",
        "returned_value =mergeLineup(pokemon_1, pokemon_2)\n",
        "print(f'Task 3: {returned_value}') # This should print [12, 3, 28, -8, 5]\n",
        "unittest.output_test(returned_value, np.array([12, 3, 28, -8, 5]))\n",
        "\n",
        "pokemon_1 = np.array([4, 5, -1, None, None])\n",
        "pokemon_2 = np.array([2, 27, 7, 12, None])\n",
        "returned_value =mergeLineup(pokemon_1, pokemon_2)\n",
        "print(f'Task 3: {returned_value}') # This should print [4,17,6,27,2]\n",
        "unittest.output_test(returned_value, np.array([4,17,6,27,2]))\n",
        "\n",
        "pokemon_1 = np.array([4, 5, None, None])\n",
        "pokemon_2 = np.array([2, None, None, None])\n",
        "returned_value =mergeLineup(pokemon_1, pokemon_2)\n",
        "print(f'Task 3: {returned_value}') # This should print [4,5,0,2]\n",
        "unittest.output_test(returned_value, np.array([4,5,0,2]))"
      ]
    },
    {
      "cell_type": "code",
      "execution_count": 8,
      "metadata": {
        "colab": {
          "base_uri": "https://localhost:8080/"
        },
        "id": "ox9p5qL7axD8",
        "outputId": "3ef9b989-d9fa-41a4-ce35-29716d874568"
      },
      "outputs": [
        {
          "name": "stdout",
          "output_type": "stream",
          "text": [
            "///  Test 04: Balance Your Salami  ///\n",
            "Task 4: True\n",
            "Accepted\n",
            "Task 4: False\n",
            "Accepted\n",
            "Task 4: True\n",
            "Accepted\n"
          ]
        }
      ],
      "source": [
        "# Test 04: Balance your Salami\n",
        "def balanceSalami(salami):\n",
        "  count_right = 0\n",
        "  count_left = 0\n",
        "  count_test = 0\n",
        "\n",
        "  for index1 in range(len(salami)):\n",
        "    count_left += salami[index1]\n",
        "\n",
        "  count_test = count_left\n",
        "  for index2 in range(len(salami)-1, -1, -1):\n",
        "    count_right += salami[index2]\n",
        "    count_test -= salami[index2]\n",
        "    if count_right == count_test:\n",
        "      return True\n",
        "  else:\n",
        "    return False\n",
        "\n",
        "print(\"///  Test 04: Balance Your Salami  ///\")\n",
        "salami = np.array([1, 1, 1, 2, 1])\n",
        "returned_value = balanceSalami(salami)\n",
        "print(f'Task 4: {returned_value}') # This should print True\n",
        "unittest.output_test(returned_value, True)\n",
        "\n",
        "salami = [2, 1, 1, 2, 1]\n",
        "returned_value = np.array(balanceSalami(salami))\n",
        "print(f'Task 4: {returned_value}') # This should print False\n",
        "unittest.output_test(returned_value, False)\n",
        "\n",
        "salami = [10, 3, 1, 2, 10]\n",
        "returned_value =  np.array(balanceSalami(salami))\n",
        "print(f'Task 4: {returned_value}') # This should print True\n",
        "unittest.output_test(returned_value, True)"
      ]
    },
    {
      "cell_type": "code",
      "execution_count": 12,
      "metadata": {
        "colab": {
          "base_uri": "https://localhost:8080/"
        },
        "id": "JGIYYUIza-st",
        "outputId": "49b96691-4ccf-4208-a4ed-eec9cb28a416"
      },
      "outputs": [
        {
          "name": "stdout",
          "output_type": "stream",
          "text": [
            "///  Test 05: Protecc Salami  ///\n",
            "Task 5: True\n",
            "Task 5: False\n"
          ]
        }
      ],
      "source": [
        "# Test 05: Protecc Salami\n",
        "def protectSalami(salami):\n",
        "  check_salami = np.zeros(len(salami), dtype = int)\n",
        "\n",
        "  for index1 in range(len(salami)):\n",
        "    if salami[index1] not in check_salami:\n",
        "      check_salami[index1] = salami[index1]\n",
        "\n",
        "  count_salami = np.zeros(len(salami), dtype = int)\n",
        "  for index2 in range(len(check_salami)):\n",
        "    count = 0\n",
        "    if check_salami[index2] != 0:\n",
        "      for index3 in range(len(salami)):\n",
        "        if check_salami[index2] == salami[index3]:\n",
        "          temp_index = index2\n",
        "          count += 1\n",
        "      check_salami[temp_index] = count\n",
        "\n",
        "  for index4 in range(len(check_salami)):\n",
        "    if check_salami[index4] > 1:\n",
        "      for index5 in range(index4+1, len(check_salami)):\n",
        "        if check_salami[index4] == check_salami[index5]:\n",
        "          return True\n",
        "      else:\n",
        "        return False\n",
        "\n",
        "print(\"///  Test 05: Protecc Salami  ///\")\n",
        "salami = np.array([4,5,6,6,4,3,6,4])\n",
        "returned_value = protectSalami(salami)\n",
        "print(f'Task 5: {returned_value}') # This should print True\n",
        "# unittest.output_test(returned_value, True)\n",
        "\n",
        "salami = np.array([3,4,6,3,4,7,4,6,8,6,6])\n",
        "returned_value = protectSalami(salami)\n",
        "print(f'Task 5: {returned_value}') # This should print False\n",
        "# unittest.output_test(returned_value, False)"
      ]
    },
    {
      "cell_type": "markdown",
      "metadata": {
        "id": "_6RT_GOabsDF"
      },
      "source": [
        "BONUS TASK (Ungraded)"
      ]
    },
    {
      "cell_type": "code",
      "execution_count": 10,
      "metadata": {
        "colab": {
          "base_uri": "https://localhost:8080/"
        },
        "id": "mrxIQ5rBhzPj",
        "outputId": "b45a3bd7-04a0-4b38-88b1-c80a8f4c074b"
      },
      "outputs": [
        {
          "name": "stdout",
          "output_type": "stream",
          "text": [
            "///  Test 06: Odd Even Wave  ///\n",
            "Task 6: [ 2  3 12  1  8  5]\n",
            "Accepted\n",
            "Task 6: [45 78 23 84 41]\n",
            "Accepted\n"
          ]
        }
      ],
      "source": [
        "# Test 06: Odd Even Wave\n",
        "def waveYourFlag(arr):\n",
        "  even_count = 0\n",
        "  odd_count = 0\n",
        "  for each in arr:\n",
        "    if each%2 == 0:\n",
        "      even_count += 1\n",
        "  odd_count = len(arr) - even_count\n",
        "\n",
        "  even_array = np.zeros(even_count, dtype = int)\n",
        "  odd_array = np.zeros(odd_count, dtype = int)\n",
        "  final_array = np.zeros(len(arr), dtype = int)\n",
        "\n",
        "  index2 = 0\n",
        "  for index1 in range(len(arr)):\n",
        "    if arr[index1]%2 == 0:\n",
        "      even_array[index2] = arr[index1]\n",
        "      index2 += 1\n",
        "\n",
        "  index4 = 0\n",
        "  for index3 in range(len(arr)):\n",
        "    if arr[index3]%2 != 0:\n",
        "      odd_array[index4] = arr[index3]\n",
        "      index4 += 1\n",
        "\n",
        "  index6 = 0\n",
        "  index8 = 0\n",
        "  if arr[0]%2 == 0:\n",
        "    for index5 in range(0, len(arr), 2):\n",
        "      final_array[index5] = even_array[index6]\n",
        "      index6 += 1\n",
        "    for index7 in range(1, len(arr), 2):\n",
        "      final_array[index7] = odd_array[index8]\n",
        "      index8 += 1\n",
        "  else:\n",
        "    for index5 in range(1, len(arr), 2):\n",
        "      final_array[index5] = even_array[index6]\n",
        "      index6 += 1\n",
        "    for index7 in range(0, len(arr), 2):\n",
        "      final_array[index7] = odd_array[index8]\n",
        "      index8 += 1\n",
        "\n",
        "  return final_array\n",
        "\n",
        "print(\"///  Test 06: Odd Even Wave  ///\")\n",
        "arr = np.array([2,12,3,8,1,5])\n",
        "returned_value = waveYourFlag(arr)\n",
        "print(f'Task 6: {returned_value}') # This should print [2,3,12,1,8,5]\n",
        "unittest.output_test(returned_value, np.array([2,3,12,1,8,5]))\n",
        "\n",
        "arr = np.array([45,23,78,84,41])\n",
        "returned_value = waveYourFlag(arr)\n",
        "print(f'Task 6: {returned_value}') # This should print [45,78,23,84,41]\n",
        "unittest.output_test(returned_value, np.array([45,78,23,84,41]))"
      ]
    },
    {
      "cell_type": "code",
      "execution_count": null,
      "metadata": {
        "id": "PEF76UqpDfdD"
      },
      "outputs": [],
      "source": [
        "###################################################____________________PART-2_____________________############################################################"
      ]
    },
    {
      "cell_type": "code",
      "execution_count": 18,
      "metadata": {
        "colab": {
          "base_uri": "https://localhost:8080/"
        },
        "id": "VfFU0CowBYBM",
        "outputId": "b650b45c-b074-45a3-cb24-f1afbcd91497"
      },
      "outputs": [
        {
          "name": "stdout",
          "output_type": "stream",
          "text": [
            "The mean of the numbers is: 10.181818181818182\n",
            "The standard deviation is: 7.589684168997018\n",
            "New array: [25 -5]\n"
          ]
        }
      ],
      "source": [
        "# TASK 1\n",
        "def statisticalCalculations(given_array):\n",
        "  array_total = 0\n",
        "  for each in given_array:\n",
        "    array_total += each\n",
        "  array_mean = array_total/len(given_array)\n",
        "  array_1 = np.zeros(len(given_array))\n",
        "  for index1 in range(len(given_array)):\n",
        "    array_1[index1] = (given_array[index1] - array_mean)**2\n",
        "\n",
        "  array_square_total = 0\n",
        "  for each in array_1:\n",
        "    array_square_total += each\n",
        "  standard_deviation = (array_square_total/(len(given_array)))**0.5\n",
        "\n",
        "  count = 0\n",
        "  lower_range = - 1.5*standard_deviation + array_mean\n",
        "  upper_range = 1.5*standard_deviation + array_mean\n",
        "  for each in given_array:\n",
        "    if each >= upper_range or each <= lower_range:\n",
        "      count += 1\n",
        "\n",
        "  index2 = 0\n",
        "  final_array  = np.zeros(count, dtype = int)\n",
        "  for each in given_array:\n",
        "    if each >= upper_range or each <= lower_range:\n",
        "        final_array[index2] = each\n",
        "        index2 += 1\n",
        "\n",
        "  print(f\"The mean of the numbers is: {array_mean}\")\n",
        "  print(f\"The standard deviation is: {standard_deviation}\")\n",
        "  return f\"New array: {final_array}\"\n",
        "\n",
        "given_array = np.array([10, 8, 13, 9, 14, 25, -5, 20, 7, 7, 4])\n",
        "returned_value = statisticalCalculations(given_array)\n",
        "print(returned_value)"
      ]
    },
    {
      "cell_type": "code",
      "execution_count": null,
      "metadata": {
        "id": "9eb4wCDjEUxM"
      },
      "outputs": [],
      "source": []
    }
  ],
  "metadata": {
    "colab": {
      "provenance": []
    },
    "kernelspec": {
      "display_name": "Python 3",
      "name": "python3"
    },
    "language_info": {
      "codemirror_mode": {
        "name": "ipython",
        "version": 3
      },
      "file_extension": ".py",
      "mimetype": "text/x-python",
      "name": "python",
      "nbconvert_exporter": "python",
      "pygments_lexer": "ipython3",
      "version": "3.11.5"
    }
  },
  "nbformat": 4,
  "nbformat_minor": 0
}
