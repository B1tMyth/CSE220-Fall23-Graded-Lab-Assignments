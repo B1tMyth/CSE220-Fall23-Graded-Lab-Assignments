{
  "cells": [
    {
      "cell_type": "markdown",
      "metadata": {},
      "source": [
        "#### Part 1: \n",
        "#### Task 1: No issues. \n",
        "#### Task 2: No issues. \n",
        "#### Task 3: No issues. \n",
        "#### Task 4: No issues. \n",
        "#### Task 5: No issues. \n",
        "#### Bonus Task: No issues. \n",
        "#### Part 2 Task: No issues with finding mean and standard deviation. Elements beyond 1.5 SD is not computed.  "
      ]
    },
    {
      "cell_type": "code",
      "execution_count": 1,
      "metadata": {
        "id": "Zm6MdTd8abnq"
      },
      "outputs": [],
      "source": [
        "import numpy as np"
      ]
    },
    {
      "cell_type": "markdown",
      "metadata": {
        "id": "L3IMM_VgfHwm"
      },
      "source": [
        "**Instructions to Follow (Failing to follow these will result mark deductions).**\n",
        "\n",
        "\n",
        "1.   You can not use any built-in function except len()\n",
        "2.   You can not use any other python collections except array (e.g: tuptle, dictionaries etc.).\n",
        "3. We will initialize a new array using numpy library. We have to mention the fixed size during initialization. There might be two approach.\n",
        "\n",
        "  i. arr = np.array([None] * 10) #Initializing an array length 10 with values None.\n",
        "\n",
        "  ii. arr = np.array([10, 20, 30, 40]) #Initializing an array length 4 with the values.\n",
        "4. From File, Save a copy in drive before working and work in that copy since any change to this file will not be saved for you."
      ]
    },
    {
      "cell_type": "code",
      "execution_count": 2,
      "metadata": {
        "colab": {
          "base_uri": "https://localhost:8080/"
        },
        "id": "1pA4gxtxaorN",
        "outputId": "a00883bc-791b-442f-f334-dfa7e970fb15"
      },
      "outputs": [
        {
          "name": "stdout",
          "output_type": "stream",
          "text": [
            "Collecting fhm-unittest\n",
            "  Downloading fhm_unittest-1.0.1-py3-none-any.whl (2.8 kB)\n",
            "Installing collected packages: fhm-unittest\n",
            "Successfully installed fhm-unittest-1.0.1\n",
            "Collecting fuzzywuzzy\n",
            "  Downloading fuzzywuzzy-0.18.0-py2.py3-none-any.whl (18 kB)\n",
            "Installing collected packages: fuzzywuzzy\n",
            "Successfully installed fuzzywuzzy-0.18.0\n"
          ]
        },
        {
          "name": "stderr",
          "output_type": "stream",
          "text": [
            "/usr/local/lib/python3.10/dist-packages/fuzzywuzzy/fuzz.py:11: UserWarning: Using slow pure-python SequenceMatcher. Install python-Levenshtein to remove this warning\n",
            "  warnings.warn('Using slow pure-python SequenceMatcher. Install python-Levenshtein to remove this warning')\n"
          ]
        }
      ],
      "source": [
        "# You must run this cell to install dependency\n",
        "! pip3 install fhm-unittest\n",
        "! pip3 install fuzzywuzzy\n",
        "import fhm_unittest as unittest\n",
        "import numpy as np"
      ]
    },
    {
      "cell_type": "markdown",
      "metadata": {
        "id": "_5vqrQEgfLld"
      },
      "source": [
        "You will see the status Accepted after completion if your code is correct.\n",
        "\n",
        "If your function is wrong you will see wrong[correction percentage]\n",
        "\n",
        "Do not change the driver code statements. You can only change the input values to test your code."
      ]
    },
    {
      "cell_type": "code",
      "execution_count": 3,
      "metadata": {
        "colab": {
          "base_uri": "https://localhost:8080/"
        },
        "id": "k50XhfbeaouN",
        "outputId": "8918ae11-a694-4c21-ffff-f53edb23e331"
      },
      "outputs": [
        {
          "name": "stdout",
          "output_type": "stream",
          "text": [
            "///  Test 01: Play Right  ///\n",
            "Task 1: [40 50 60 10 20 30]\n"
          ]
        }
      ],
      "source": [
        "# Test 01: Play Right\n",
        "def playRight(sequence,beats):\n",
        "  for x in range(len(beats)):\n",
        "    if beats[x]==1:\n",
        "      temp = sequence[len(sequence)-1]\n",
        "      for x in range(len(sequence)-1,0,-1):\n",
        "        sequence[x]=sequence[x-1]\n",
        "      sequence[0]=temp\n",
        "  return sequence\n",
        "\n",
        "print(\"///  Test 01: Play Right  ///\")\n",
        "sequence = np.array([10, 20, 30, 40, 50, 60])\n",
        "beats = np.array([1, 0, 0, 1, 0, 1])\n",
        "returned_value = playRight(sequence, beats)\n",
        "print(f'Task 1: {returned_value}')  # This should print [40, 50, 60, 10, 20, 30]"
      ]
    },
    {
      "cell_type": "code",
      "execution_count": 4,
      "metadata": {
        "colab": {
          "base_uri": "https://localhost:8080/"
        },
        "id": "YM5dyh6BaoxE",
        "outputId": "779afda5-cb7c-49c4-e0c4-9b20acace508"
      },
      "outputs": [
        {
          "name": "stdout",
          "output_type": "stream",
          "text": [
            "///  Test 02: Discard Cards  ///\n",
            "Task 2: [1 3 8 5 7 0 0 0 0]\n",
            "Accepted\n"
          ]
        }
      ],
      "source": [
        "# Test 02: Discard Cards\n",
        "def discardCards(cards,number):\n",
        "  x = 0\n",
        "  while x <len(cards):\n",
        "    if cards[x]==number :\n",
        "        for y in range(x,len(cards)-1):\n",
        "          cards[y]=cards[y+1]\n",
        "        cards[len(cards)-1]=0\n",
        "        x-=1\n",
        "    x+=1\n",
        "\n",
        "  return cards\n",
        "\n",
        "\n",
        "print(\"///  Test 02: Discard Cards  ///\")\n",
        "cards = np.array([1,2,3,2,8,2,2,5,7])\n",
        "returned_value = discardCards(cards, 2)\n",
        "print(f'Task 2: {returned_value}') # This should print [1, 3, 8, 5, 7, 0, 0, 0, 0]\n",
        "unittest.output_test(returned_value, np.array([1, 3, 8, 5, 7, 0, 0, 0, 0]))"
      ]
    },
    {
      "cell_type": "code",
      "execution_count": 5,
      "metadata": {
        "colab": {
          "base_uri": "https://localhost:8080/"
        },
        "id": "1_Zys4gGaozs",
        "outputId": "41375b37-af07-4ac6-85a4-b8ba18e121b4"
      },
      "outputs": [
        {
          "name": "stdout",
          "output_type": "stream",
          "text": [
            "///  Test 03: Merge Lineup  ///\n",
            "Task 3: [12  3 28 -8  5]\n",
            "Accepted\n",
            "Task 3: [ 4 17  6 27  2]\n",
            "Accepted\n"
          ]
        }
      ],
      "source": [
        "#Test 03: Merge Lineup\n",
        "def mergeLineup(pokemon_1, pokemon_2):\n",
        "  new_arr = [None] *len(pokemon_1)\n",
        "  for x in range(len(new_arr)):\n",
        "    if pokemon_1[x]==None and pokemon_2[len(pokemon_2)-x-1]!=None:\n",
        "      new_arr[x] = 0+pokemon_2[len(pokemon_2)-x-1]\n",
        "    elif pokemon_2[len(pokemon_2)-x-1]==None and pokemon_1[x]!=None:\n",
        "      new_arr[x] = pokemon_1[x]+0\n",
        "    elif pokemon_1[x]==None and pokemon_2[len(pokemon_1)-x-1]==None:\n",
        "      new_arr[x] = 0\n",
        "    else:\n",
        "      new_arr[x] = pokemon_1[x]+pokemon_2[len(pokemon_2)-x-1]\n",
        "  return np.array(new_arr)\n",
        "\n",
        "\n",
        "print(\"///  Test 03: Merge Lineup  ///\")\n",
        "pokemon_1 = np.array([12, 3, 25, 1, None])\n",
        "pokemon_2 = np.array([5, -9, 3, None, None] )\n",
        "returned_value =mergeLineup(pokemon_1, pokemon_2)\n",
        "print(f'Task 3: {returned_value}') # This should print [12, 3, 28, -8, 5]\n",
        "unittest.output_test(returned_value, np.array([12, 3, 28, -8, 5]))\n",
        "\n",
        "pokemon_1 = np.array([4, 5, -1, None, None])\n",
        "pokemon_2 = np.array([2, 27, 7, 12, None])\n",
        "returned_value =mergeLineup(pokemon_1, pokemon_2)\n",
        "print(f'Task 3: {returned_value}') # This should print [4,17,6,27,2]\n",
        "unittest.output_test(returned_value, np.array([4,17,6,27,2]))"
      ]
    },
    {
      "cell_type": "code",
      "execution_count": 6,
      "metadata": {
        "colab": {
          "base_uri": "https://localhost:8080/"
        },
        "id": "E21kyn_qao2M",
        "outputId": "5500d448-8ac5-47d2-fa8b-0229247fd05b"
      },
      "outputs": [
        {
          "name": "stdout",
          "output_type": "stream",
          "text": [
            "///  Test 04: Balance Your Salami  ///\n",
            "Task 4: True\n",
            "Accepted\n",
            "Task 4: False\n",
            "Accepted\n",
            "Task 4: True\n",
            "Accepted\n"
          ]
        }
      ],
      "source": [
        "# Test 04: Balance your Salami\n",
        "def balanceSalami(salami):\n",
        "  s1 = 0\n",
        "  for x in range(len(salami)):\n",
        "    s1 +=salami[x]\n",
        "  if s1%2!=0:\n",
        "    return False\n",
        "  else:\n",
        "    s2 = 0\n",
        "    s3 = 0\n",
        "    for y in range(len(salami)):\n",
        "      s2+=salami[y]\n",
        "      for z in range(y+1,len(salami)):\n",
        "        s3+=salami[z]\n",
        "      if s2==s3:\n",
        "        return True\n",
        "      else:\n",
        "        s3 = 0\n",
        "    if s2!=s3:\n",
        "      return False\n",
        "\n",
        "print(\"///  Test 04: Balance Your Salami  ///\")\n",
        "salami = np.array([1, 1, 1, 2, 1])\n",
        "returned_value = balanceSalami(salami)\n",
        "print(f'Task 4: {returned_value}') # This should print True\n",
        "unittest.output_test(returned_value, True)\n",
        "\n",
        "salami = [2, 1, 1, 2, 1]\n",
        "returned_value = np.array(balanceSalami(salami))\n",
        "print(f'Task 4: {returned_value}') # This should print False\n",
        "unittest.output_test(returned_value, False)\n",
        "\n",
        "salami = [10, 3, 1, 2, 10]\n",
        "returned_value =  np.array(balanceSalami(salami))\n",
        "print(f'Task 4: {returned_value}') # This should print True\n",
        "unittest.output_test(returned_value, True)"
      ]
    },
    {
      "cell_type": "code",
      "execution_count": 7,
      "metadata": {
        "colab": {
          "base_uri": "https://localhost:8080/"
        },
        "id": "MPOu77muezsW",
        "outputId": "a3c55439-61cf-4d01-8a4c-b512b25c3e56"
      },
      "outputs": [
        {
          "name": "stdout",
          "output_type": "stream",
          "text": [
            "///  Test 05: Protecc Salami  ///\n",
            "Task 5: True\n",
            "Accepted\n",
            "Task 5: False\n",
            "Accepted\n"
          ]
        }
      ],
      "source": [
        "# Test 05: Protecc Salami\n",
        "def counter(arr1,e1):\n",
        "  s1 = 0\n",
        "  for x in range(len(arr1)):\n",
        "    if arr1[x]==e1:\n",
        "      s1+=1\n",
        "  return s1\n",
        "\n",
        "def protectSalami(salami):\n",
        "  for y in range(len(salami)):\n",
        "    counter1 = counter(salami,salami[y])\n",
        "    for z in range(len(salami)):\n",
        "      if salami[z]!=salami[y]:\n",
        "        counter2 = counter(salami,salami[z])\n",
        "        if counter1==counter2 and counter1>1 and counter2>1:\n",
        "          return True\n",
        "\n",
        "  return False\n",
        "\n",
        "print(\"///  Test 05: Protecc Salami  ///\")\n",
        "salami = np.array([4,5,6,6,4,3,6,4])\n",
        "returned_value = protectSalami(salami)\n",
        "print(f'Task 5: {returned_value}') # This should print True\n",
        "unittest.output_test(returned_value, True)\n",
        "\n",
        "salami = np.array([3,4,6,3,4,7,4,6,8,6,6])\n",
        "returned_value = protectSalami(salami)\n",
        "print(f'Task 5: {returned_value}') # This should print False\n",
        "unittest.output_test(returned_value, False)"
      ]
    },
    {
      "cell_type": "markdown",
      "metadata": {
        "id": "o-sEElX7fATu"
      },
      "source": [
        "BONUS TASK (Ungraded)"
      ]
    },
    {
      "cell_type": "code",
      "execution_count": 8,
      "metadata": {
        "colab": {
          "base_uri": "https://localhost:8080/"
        },
        "id": "HoRdo2d5ezvG",
        "outputId": "ec3a6e2d-d917-4529-d6aa-536d47746741"
      },
      "outputs": [
        {
          "name": "stdout",
          "output_type": "stream",
          "text": [
            "///  Test 06: Odd Even Wave  ///\n",
            "Task 6: [ 2  3 12  1  8  5]\n",
            "Accepted\n",
            "Task 6: [45 78 23 84 41]\n",
            "Accepted\n"
          ]
        }
      ],
      "source": [
        "# Test 06: Odd Even Wave\n",
        "def waveYourFlag(arr):\n",
        "  s1 = 0\n",
        "  s2 = 0\n",
        "\n",
        "  for x in range(len(arr)):\n",
        "    if arr[x]%2==0:\n",
        "      s1+=1\n",
        "    else:\n",
        "      s2+=1\n",
        "\n",
        "  new_arr1 = [None]*s1\n",
        "  new_arr2 = [None]*s2\n",
        "\n",
        "  count1 = 0\n",
        "  count2 = 0\n",
        "  for y in range(len(arr)):\n",
        "    if arr[y]%2==0:\n",
        "      new_arr1[count1]=arr[y]\n",
        "      count1+=1\n",
        "    else:\n",
        "      new_arr2[count2]=arr[y]\n",
        "      count2 +=1\n",
        "  new_arr3 = [None] * len(arr)\n",
        "\n",
        "  if s1>=s2:\n",
        "    c1 = 0\n",
        "    c2 = 1\n",
        "    for xz in range(s1):\n",
        "      new_arr3[c1]=new_arr1[xz]\n",
        "      c1+=2\n",
        "    for zx in range(s2):\n",
        "      new_arr3[c2] = new_arr2[zx]\n",
        "      c2 +=2\n",
        "\n",
        "  else:\n",
        "    c1 = 0\n",
        "    c2 = 1\n",
        "    for xxz in range(s2):\n",
        "      new_arr3[c1]=new_arr2[xxz]\n",
        "      c1 +=2\n",
        "    for zzx in range(s1):\n",
        "      new_arr3[c2]=new_arr1[zzx]\n",
        "      c2 +=2\n",
        "  return np.array(new_arr3)\n",
        "print(\"///  Test 06: Odd Even Wave  ///\")\n",
        "arr = np.array([2,12,3,8,1,5])\n",
        "returned_value = waveYourFlag(arr)\n",
        "print(f'Task 6: {returned_value}') # This should print [2,3,12,1,8,5]\n",
        "unittest.output_test(returned_value, np.array([2,3,12,1,8,5]))\n",
        "\n",
        "arr = np.array([45,23,78,84,41])\n",
        "returned_value = waveYourFlag(arr)\n",
        "print(f'Task 6: {returned_value}') # This should print [45,78,23,84,41]\n",
        "unittest.output_test(returned_value, np.array([45,78,23,84,41]))"
      ]
    },
    {
      "cell_type": "markdown",
      "metadata": {
        "id": "63ZOPSLzLxNQ"
      },
      "source": [
        "PART-2\n"
      ]
    },
    {
      "cell_type": "code",
      "execution_count": 9,
      "metadata": {
        "colab": {
          "base_uri": "https://localhost:8080/"
        },
        "id": "7GGz1f2qezzu",
        "outputId": "625f1724-d71d-46ee-ad28-fda3fe79a978"
      },
      "outputs": [
        {
          "name": "stdout",
          "output_type": "stream",
          "text": [
            "10.181818181818182\n",
            "7.960127911260996\n"
          ]
        }
      ],
      "source": [
        "#Part 2\n",
        "import math\n",
        "def mean_finder(array):\n",
        "  sum = 0\n",
        "  for i in array:\n",
        "    sum = sum + i\n",
        "  mean = sum / len(array)\n",
        "  return mean\n",
        "def mean_finder_for_sd(array):\n",
        "  sum = 0\n",
        "  for i in array:\n",
        "    sum = sum + i\n",
        "  mean = sum / (len(array)-1)\n",
        "  return mean\n",
        "def standard_deviation(array):\n",
        "  temp = mean_finder(array)\n",
        "  new_array = np.zeros(len(array))\n",
        "  for i in range(len(array)):\n",
        "    meu = (array[i]-temp)**2\n",
        "    new_array[i] = meu\n",
        "  sd = mean_finder_for_sd(new_array)\n",
        "  return math.sqrt(sd)\n",
        "\n",
        "\n",
        "print(mean_finder([10, 8, 13, 9, 14, 25, -5, 20, 7, 7, 4]))\n",
        "print(standard_deviation([10, 8, 13, 9, 14, 25, -5, 20, 7, 7, 4]))"
      ]
    },
    {
      "cell_type": "code",
      "execution_count": null,
      "metadata": {
        "id": "kZ9vmgDkez2W"
      },
      "outputs": [],
      "source": []
    },
    {
      "cell_type": "code",
      "execution_count": null,
      "metadata": {
        "id": "MulVx0Ryez5G"
      },
      "outputs": [],
      "source": []
    }
  ],
  "metadata": {
    "colab": {
      "provenance": []
    },
    "kernelspec": {
      "display_name": "Python 3",
      "name": "python3"
    },
    "language_info": {
      "name": "python"
    }
  },
  "nbformat": 4,
  "nbformat_minor": 0
}
