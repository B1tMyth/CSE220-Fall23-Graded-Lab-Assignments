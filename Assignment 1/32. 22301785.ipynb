{
  "cells": [
    {
      "cell_type": "markdown",
      "metadata": {
        "id": "f_Q82zdFQdUD"
      },
      "source": [
        "***PART 1***"
      ]
    },
    {
      "cell_type": "markdown",
      "metadata": {},
      "source": [
        "#### Part 1: \n",
        "#### Task 1: Wrong algorithm. The current implementation reorders last (len(arr) - j) elements in the first (len(arr) - j) position and first j elements in the last j positions. Here j is the number of beats. Therefore would fail for j less than or higher than half of the length of the array. E.g. when number of high beats is 4. \n",
        "#### Task 2: No issues. Some redundant lines of code was written. \n",
        "#### Task 3: Current implementation doesn't account for the 'None' cases. Negative indexing was used. Almost correct. \n",
        "#### Task 4: No issues. \n",
        "#### Task 5: Computing the f array has the potential to go out of bounds. E.g. can'd handle [4,4,5,5]. Algorithm works when max(arr) <= len(arr) -1.\n",
        "#### Bonus Task: No issues apart from the inability to handle duplicates of the first elements of the array. Do no modify an array in place while iterating over the array. Also append was used. \n",
        "#### Part 2 Task: No issues apart from append being used. "
      ]
    },
    {
      "cell_type": "code",
      "execution_count": 2,
      "metadata": {
        "id": "pi_n0okZ1v_O"
      },
      "outputs": [],
      "source": [
        "import numpy as np"
      ]
    },
    {
      "cell_type": "markdown",
      "metadata": {
        "id": "lJl5kEU9s6VF"
      },
      "source": [
        "**Instructions to Follow (Failing to follow these will result mark deductions).**\n",
        "\n",
        "\n",
        "1.   You can not use any built-in function except len()\n",
        "2.   You can not use any other python collections except array (e.g: tuptle, dictionaries etc.).\n",
        "3. We will initialize a new array using numpy library. We have to mention the fixed size during initialization. There might be two approach.\n",
        "\n",
        "  i. arr = np.array([None] * 10) #Initializing an array length 10 with values None.\n",
        "\n",
        "  ii. arr = np.array([10, 20, 30, 40]) #Initializing an array length 4 with the values.\n",
        "4. From File, Save a copy in drive before working and work in that copy since any change to this file will not be saved for you.\n",
        "\n",
        "\n",
        "\n",
        "\n"
      ]
    },
    {
      "cell_type": "markdown",
      "metadata": {
        "id": "QNzCKgfEQZkj"
      },
      "source": []
    },
    {
      "cell_type": "code",
      "execution_count": null,
      "metadata": {
        "colab": {
          "base_uri": "https://localhost:8080/"
        },
        "id": "nAE3YxgdLMa1",
        "outputId": "a24c22d7-297a-4a46-f073-33797adb8c2f"
      },
      "outputs": [
        {
          "name": "stdout",
          "output_type": "stream",
          "text": [
            "Collecting fhm-unittest\n",
            "  Downloading fhm_unittest-1.0.1-py3-none-any.whl (2.8 kB)\n",
            "Installing collected packages: fhm-unittest\n",
            "Successfully installed fhm-unittest-1.0.1\n",
            "Collecting fuzzywuzzy\n",
            "  Downloading fuzzywuzzy-0.18.0-py2.py3-none-any.whl (18 kB)\n",
            "Installing collected packages: fuzzywuzzy\n",
            "Successfully installed fuzzywuzzy-0.18.0\n"
          ]
        },
        {
          "name": "stderr",
          "output_type": "stream",
          "text": [
            "/usr/local/lib/python3.10/dist-packages/fuzzywuzzy/fuzz.py:11: UserWarning: Using slow pure-python SequenceMatcher. Install python-Levenshtein to remove this warning\n",
            "  warnings.warn('Using slow pure-python SequenceMatcher. Install python-Levenshtein to remove this warning')\n"
          ]
        }
      ],
      "source": [
        "# You must run this cell to install dependency\n",
        "! pip3 install fhm-unittest\n",
        "! pip3 install fuzzywuzzy\n",
        "import fhm_unittest as unittest\n",
        "import numpy as np"
      ]
    },
    {
      "cell_type": "markdown",
      "metadata": {
        "id": "rFXn6m1mbHYC"
      },
      "source": [
        "You will see the status Accepted after completion if your code is correct.\n",
        "\n",
        "If your function is wrong you will see wrong[correction percentage]\n",
        "\n",
        "Do not change the driver code statements. You can only change the input values to test your code."
      ]
    },
    {
      "cell_type": "code",
      "execution_count": 3,
      "metadata": {
        "colab": {
          "base_uri": "https://localhost:8080/"
        },
        "id": "hzdDNKdRahbQ",
        "outputId": "9ef30cd5-f1b2-45c1-c0c4-30389ac35e3f"
      },
      "outputs": [
        {
          "name": "stdout",
          "output_type": "stream",
          "text": [
            "[40, 50, 60, 10, 20, 30]\n",
            "///  Test 01: Play Right  ///\n",
            "Task 1: [30 40 50 60 10 20]\n"
          ]
        }
      ],
      "source": [
        "# Test 01: Play Right\n",
        "def playRight(sequence, beats):\n",
        "    # TO DO\n",
        "\n",
        "    count=0\n",
        "    for i in range(len(beats)):\n",
        "        if beats[i]==1:\n",
        "            count+=1\n",
        "    j=count\n",
        "    for i in range(len(sequence)):\n",
        "        while j<len(sequence):\n",
        "            temp=sequence[j]\n",
        "            sequence[j]=sequence[i]\n",
        "            sequence[i]=temp\n",
        "            i+=1\n",
        "            j+=1\n",
        "    return sequence\n",
        "\n",
        "sequence=[10,20,30,40,50,60]\n",
        "beats = [1,0,0,1,0,1]\n",
        "print(playRight(sequence,beats))\n",
        "\n",
        "\n",
        "\n",
        "\n",
        "print(\"///  Test 01: Play Right  ///\")\n",
        "sequence = np.array([10, 20, 30, 40, 50, 60])\n",
        "beats = np.array([0, 0, 0, 1, 0, 1])\n",
        "returned_value = playRight(sequence, beats)\n",
        "print(f'Task 1: {returned_value}')  # This should print [40, 50, 60, 10, 20, 30]"
      ]
    },
    {
      "cell_type": "code",
      "execution_count": null,
      "metadata": {
        "colab": {
          "base_uri": "https://localhost:8080/"
        },
        "id": "Ag1wNuXgaoh4",
        "outputId": "740d1cc8-53d7-43d4-e18f-4fe347fea697"
      },
      "outputs": [
        {
          "name": "stdout",
          "output_type": "stream",
          "text": [
            "[10, 30, 50, 0, 0, 0, 0, 0, 0]\n",
            "///  Test 02: Discard Cards  ///\n",
            "Task 2: [1, 3, 8, 5, 7, 0, 0, 0, 0]\n",
            "Not Accepted [Your output: [1, 3, 8, 5, 7, 0, 0, 0, 0]  |  Expected Output: [1 3 8 5 7 0 0 0 0]]\n"
          ]
        }
      ],
      "source": [
        "# Test 02: Discard Cards\n",
        "def discardCards(cards,number):\n",
        "  # TO DO\n",
        "\n",
        "    out=[0]*len(cards)\n",
        "    x=0\n",
        "    size=0\n",
        "    for i in range(len(cards)):\n",
        "       if cards[i]!=0:\n",
        "           size+=1\n",
        "    for i in range(size):\n",
        "        if cards[i]==number:\n",
        "            continue\n",
        "        else:\n",
        "            out[x]=cards[i]\n",
        "            x+=1\n",
        "    return out\n",
        "\n",
        "\n",
        "cards=[10,2,30,2,50,2,2,0,0]\n",
        "print(discardCards(cards,2))\n",
        "\n",
        "\n",
        "\n",
        "\n",
        "print(\"///  Test 02: Discard Cards  ///\")\n",
        "cards = np.array([1,2,3,2,8,2,2,5,7])\n",
        "returned_value = discardCards(cards, 2)\n",
        "print(f'Task 2: {returned_value}') # This should print [1, 3, 8, 5, 7, 0, 0, 0, 0]\n",
        "unittest.output_test(returned_value, np.array([1, 3, 8, 5, 7, 0, 0, 0, 0]))"
      ]
    },
    {
      "cell_type": "code",
      "execution_count": null,
      "metadata": {
        "colab": {
          "base_uri": "https://localhost:8080/"
        },
        "id": "Ene8Dp4vasuN",
        "outputId": "1c9b74d3-adaf-433b-b006-c051ccd9401b"
      },
      "outputs": [
        {
          "name": "stdout",
          "output_type": "stream",
          "text": [
            "[12, 3, 28, -8, 5]\n",
            "///  Test 03: Merge Lineup  ///\n",
            "[None, None, 28, -8, None]\n",
            "Task 3: [None, None, 28, -8, None]\n",
            "Not Accepted [Your output: [None, None, 28, -8, None]  |  Expected Output: [12  3 28 -8  5]]\n",
            "[None, 17, 6, None, None]\n",
            "Task 3: [None, 17, 6, None, None]\n",
            "Not Accepted [Your output: [None, 17, 6, None, None]  |  Expected Output: [ 4 17  6 27  2]]\n"
          ]
        }
      ],
      "source": [
        "#Test 03: Merge Lineup\n",
        "def mergeLineup(pokemon_1, pokemon_2):\n",
        "    result = [None] * len(pokemon_1)\n",
        "\n",
        "    for i in range(len(pokemon_1)):\n",
        "        if pokemon_1[i] is not None and pokemon_2[-(i + 1)] is not None:\n",
        "            result[i] = pokemon_1[i] + pokemon_2[-(i + 1)]\n",
        "\n",
        "    print(result)\n",
        "    return result\n",
        "pokemon_1=[12, 3, 25, 1, 0]\n",
        "pokemon_2=[5, -9, 3, 0, 0]\n",
        "mergeLineup(pokemon_1,pokemon_2)\n",
        "\n",
        "\n",
        "print(\"///  Test 03: Merge Lineup  ///\")\n",
        "pokemon_1 = np.array([12, 3, 25, 1, None])\n",
        "pokemon_2 = np.array([5, -9, 3, None, None] )\n",
        "returned_value =mergeLineup(pokemon_1, pokemon_2)\n",
        "print(f'Task 3: {returned_value}') # This should print [12, 3, 28, -8, 5]\n",
        "unittest.output_test(returned_value, np.array([12, 3, 28, -8, 5]))\n",
        "\n",
        "pokemon_1 = np.array([4, 5, -1, None, None])\n",
        "pokemon_2 = np.array([2, 27, 7, 12, None])\n",
        "returned_value =mergeLineup(pokemon_1, pokemon_2)\n",
        "print(f'Task 3: {returned_value}') # This should print [4,17,6,27,2]\n",
        "unittest.output_test(returned_value, np.array([4,17,6,27,2]))"
      ]
    },
    {
      "cell_type": "code",
      "execution_count": null,
      "metadata": {
        "colab": {
          "base_uri": "https://localhost:8080/"
        },
        "id": "ox9p5qL7axD8",
        "outputId": "ec95165e-ade1-4ce4-daf2-c004dbe69116"
      },
      "outputs": [
        {
          "name": "stdout",
          "output_type": "stream",
          "text": [
            "///  Test 04: Balance Your Salami  ///\n",
            "Task 4: True\n",
            "Accepted\n",
            "Task 4: False\n",
            "Accepted\n",
            "Task 4: True\n",
            "Accepted\n"
          ]
        }
      ],
      "source": [
        "# Test 04: Balance your Salami\n",
        "def balanceSalami(salami):\n",
        "    sum1=0\n",
        "    sum2=0\n",
        "    i=1\n",
        "    out = False\n",
        "    while i<len(salami):\n",
        "        for j in range(0,i):\n",
        "            sum1+=salami[j]\n",
        "        for k in range(i,len(salami)):\n",
        "            sum2+=salami[k]\n",
        "        if sum1==sum2:\n",
        "            out = True\n",
        "        else:\n",
        "            sum1=0\n",
        "            sum2=0\n",
        "        i+=1\n",
        "    return out\n",
        "\n",
        "\n",
        "\n",
        "print(\"///  Test 04: Balance Your Salami  ///\")\n",
        "salami = np.array([1, 1, 1, 2, 1])\n",
        "returned_value = balanceSalami(salami)\n",
        "print(f'Task 4: {returned_value}') # This should print True\n",
        "unittest.output_test(returned_value, True)\n",
        "\n",
        "salami = [2, 1, 1, 2, 1]\n",
        "returned_value = np.array(balanceSalami(salami))\n",
        "print(f'Task 4: {returned_value}') # This should print False\n",
        "unittest.output_test(returned_value, False)\n",
        "\n",
        "salami = [10, 3, 1, 2, 10]\n",
        "returned_value =  np.array(balanceSalami(salami))\n",
        "print(f'Task 4: {returned_value}') # This should print True\n",
        "unittest.output_test(returned_value, True)"
      ]
    },
    {
      "cell_type": "code",
      "execution_count": 10,
      "metadata": {
        "colab": {
          "base_uri": "https://localhost:8080/"
        },
        "id": "JGIYYUIza-st",
        "outputId": "15476093-e524-4610-c2fb-89172aa36b82"
      },
      "outputs": [
        {
          "name": "stdout",
          "output_type": "stream",
          "text": [
            "[0, 0, 0, 2, 3, 0, 4, 1, 1, 0, 0]\n",
            "Task 5: False\n"
          ]
        }
      ],
      "source": [
        "# Test 05: Protecc Salami\n",
        "def protectSalami(salami):\n",
        "    f = [0]*len(salami)\n",
        "    count=0\n",
        "    for k in salami:\n",
        "        f[k] = f[k] + 1\n",
        "    print(f)\n",
        "    for i in range(len(f)):\n",
        "        if i>1:\n",
        "            for j in range(len(f)):\n",
        "                if i==f[j]:\n",
        "                    count+=1\n",
        "            if count>=2:\n",
        "                break\n",
        "            else:\n",
        "                count=0\n",
        "    if count>=2:\n",
        "        return True\n",
        "    return False\n",
        "salami= [10, 3, 1, 2, 10]\n",
        "# print(balanceSalami(salami))\n",
        "\n",
        "# print(\"///  Test 05: Protecc Salami  ///\")\n",
        "# salami = np.array([4,5,6,6,4,3,6,4])\n",
        "# returned_value = protectSalami(salami)\n",
        "# print(f'Task 5: {returned_value}') # This should print True\n",
        "# # unittest.output_test(returned_value, True)\n",
        "\n",
        "salami = np.array([3,4,6,3,4,7,4,6,8,6,6])\n",
        "# salami = np.array([4,4,5,5])\n",
        "returned_value = protectSalami(salami)\n",
        "print(f'Task 5: {returned_value}') # This should print False\n",
        "# unittest.output_test(returned_value, False)"
      ]
    },
    {
      "cell_type": "markdown",
      "metadata": {
        "id": "_6RT_GOabsDF"
      },
      "source": [
        "BONUS TASK (Ungraded)"
      ]
    },
    {
      "cell_type": "code",
      "execution_count": 28,
      "metadata": {
        "colab": {
          "base_uri": "https://localhost:8080/"
        },
        "id": "mrxIQ5rBhzPj",
        "outputId": "60921727-4974-48c1-9ce2-ccc80213a3f3"
      },
      "outputs": [
        {
          "name": "stdout",
          "output_type": "stream",
          "text": [
            "///  Test 06: Odd Even Wave  ///\n",
            "[2, 12, 2, 8]\n",
            "2\n",
            "2\n",
            "[12, 8]\n",
            "[3, 3, 1, 5]\n",
            "result:\n",
            "Task 6: [2, 3, 12, 3, 8, 1, 0, 5]\n"
          ]
        }
      ],
      "source": [
        "# Test 06: Odd Even Wave\n",
        "\n",
        "def waveYourFlag(arr):\n",
        "    result = [0] * len(arr)\n",
        "\n",
        "    forodd = []\n",
        "    foreven = []\n",
        "    for i in arr:\n",
        "        if i % 2 == 0:\n",
        "            foreven.append(i)\n",
        "        else:\n",
        "            forodd.append(i)\n",
        "    counter1 = 0\n",
        "    counter2 = 0\n",
        "    first = arr[0]\n",
        "    print(foreven)\n",
        "\n",
        "\n",
        "    for o in forodd:\n",
        "        if o == first:\n",
        "            forodd.remove(o)\n",
        "\n",
        "    for x in foreven:\n",
        "        print(x)\n",
        "        if x == first:\n",
        "            foreven.remove(x)\n",
        "        else:\n",
        "            pass\n",
        "    \n",
        "    print(foreven)\n",
        "    print(forodd)\n",
        "\n",
        "    # print(\"forodd:\", forodd)\n",
        "    # print(\"foreven:\", foreven)\n",
        "\n",
        "    result[0] = arr[0]\n",
        "    print(\"result:\")\n",
        "\n",
        "    for j in range(1, len(result)):\n",
        "        if result[j - 1] % 2 == 0:\n",
        "            if counter1 < len(forodd):\n",
        "                result[j] = forodd[counter1]\n",
        "                counter1 += 1\n",
        "        else:\n",
        "            if counter2 < len(foreven):\n",
        "                result[j] = foreven[counter2]\n",
        "                counter2 += 1\n",
        "\n",
        "    return result\n",
        "\n",
        "# Sample Input\n",
        "arr = [2,12,3,8,1,5]\n",
        "\n",
        "\n",
        "# Function Call\n",
        "# result = waveYourFlag(arr)\n",
        "\n",
        "# Sample Output\n",
        "# print(result)\n",
        "\n",
        "print(\"///  Test 06: Odd Even Wave  ///\")\n",
        "arr = np.array([2,12,3,3,2,8,1,5])\n",
        "returned_value = waveYourFlag(arr)\n",
        "print(f'Task 6: {returned_value}') # This should print [2,3,12,1,8,5]\n",
        "# unittest.output_test(returned_value, np.array([2,3,12,1,8,5]))\n",
        "\n",
        "# arr = np.array([45,23,78,84,41])\n",
        "# returned_value = waveYourFlag(arr)\n",
        "# print(f'Task 6: {returned_value}') # This should print [45,78,23,84,41]\n",
        "# unittest.output_test(returned_value, np.array([45,78,23,84,41]))"
      ]
    },
    {
      "cell_type": "markdown",
      "metadata": {
        "id": "BAAeyvyBQ6bK"
      },
      "source": [
        "***PART 2***"
      ]
    },
    {
      "cell_type": "code",
      "execution_count": null,
      "metadata": {
        "colab": {
          "base_uri": "https://localhost:8080/"
        },
        "id": "fNzlIzs9RAHq",
        "outputId": "362fb4a1-21e8-4a0f-b4de-2f35c5554c20"
      },
      "outputs": [
        {
          "name": "stdout",
          "output_type": "stream",
          "text": [
            "The mean of the numbers is: 10.181818181818182\n",
            "The standard deviation is:  7.960127911260996\n",
            "New array:  [25, -5]\n"
          ]
        }
      ],
      "source": [
        "def mean(arr):\n",
        "  counter=0\n",
        "  sum=0\n",
        "  for i in arr:\n",
        "    counter+=1\n",
        "    sum+=i\n",
        "  return sum/counter\n",
        "\n",
        "def SD(arr):\n",
        "  sum=0\n",
        "  for i in arr:\n",
        "    sum+=((i-mean(arr))**2)\n",
        "  sd=(sum/(len(arr)-1))**0.5\n",
        "  return sd\n",
        "\n",
        "def newarr(arr):\n",
        "  lower=mean(arr)-SD(arr)*1.5\n",
        "  upper=mean(arr)+SD(arr)*1.5\n",
        "\n",
        "  new=[]\n",
        "  for i in range(len(arr)):\n",
        "    if arr[i]<lower or arr[i]>upper:\n",
        "      new.append(arr[i])\n",
        "  return new\n",
        "\n",
        "\n",
        "\n",
        "\n",
        "\n",
        "\n",
        "arr=[10, 8, 13, 9, 14, 25, -5, 20, 7, 7, 4]\n",
        "print(\"The mean of the numbers is:\",mean(arr))\n",
        "print(\"The standard deviation is: \",SD(arr))\n",
        "print(\"New array: \",newarr(arr))"
      ]
    }
  ],
  "metadata": {
    "colab": {
      "provenance": []
    },
    "kernelspec": {
      "display_name": "Python 3",
      "name": "python3"
    },
    "language_info": {
      "codemirror_mode": {
        "name": "ipython",
        "version": 3
      },
      "file_extension": ".py",
      "mimetype": "text/x-python",
      "name": "python",
      "nbconvert_exporter": "python",
      "pygments_lexer": "ipython3",
      "version": "3.11.5"
    }
  },
  "nbformat": 4,
  "nbformat_minor": 0
}
