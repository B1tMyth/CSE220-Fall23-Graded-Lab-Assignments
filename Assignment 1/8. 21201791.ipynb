{
  "cells": [
    {
      "cell_type": "markdown",
      "metadata": {},
      "source": [
        "#### Part 1: \n",
        "#### Task 1: No issues. \n",
        "#### Task 2: No issues. \n",
        "#### Task 3: No issues. \n",
        "#### Task 4: No issues. \n",
        "#### Task 5: No issues. \n",
        "#### Bonus Task: Almost correct. Can't handle the presence of duplicates. \n",
        "#### Part 2 Task: No issues. "
      ]
    },
    {
      "cell_type": "code",
      "execution_count": 1,
      "metadata": {
        "id": "pi_n0okZ1v_O"
      },
      "outputs": [],
      "source": [
        "import numpy as np"
      ]
    },
    {
      "cell_type": "markdown",
      "metadata": {
        "id": "lJl5kEU9s6VF"
      },
      "source": [
        "**Instructions to Follow (Failing to follow these will result mark deductions).**\n",
        "\n",
        "\n",
        "1.   You can not use any built-in function except len()\n",
        "2.   You can not use any other python collections except array (e.g: tuptle, dictionaries etc.).\n",
        "3. We will initialize a new array using numpy library. We have to mention the fixed size during initialization. There might be two approach.\n",
        "\n",
        "  i. arr = np.array([None] * 10) #Initializing an array length 10 with values None.\n",
        "\n",
        "  ii. arr = np.array([10, 20, 30, 40]) #Initializing an array length 4 with the values.\n",
        "4. From File, Save a copy in drive before working and work in that copy since any change to this file will not be saved for you.\n",
        "\n",
        "\n",
        "\n",
        "\n"
      ]
    },
    {
      "cell_type": "code",
      "execution_count": 3,
      "metadata": {
        "colab": {
          "base_uri": "https://localhost:8080/",
          "height": 0
        },
        "id": "nAE3YxgdLMa1",
        "outputId": "c90cc62e-b111-415c-c09d-6b67d5a8ddcb"
      },
      "outputs": [
        {
          "name": "stdout",
          "output_type": "stream",
          "text": [
            "Collecting fhm-unittest\n",
            "  Downloading fhm_unittest-1.0.1-py3-none-any.whl (2.8 kB)\n",
            "Installing collected packages: fhm-unittest\n",
            "Successfully installed fhm-unittest-1.0.1\n",
            "Collecting fuzzywuzzy\n",
            "  Downloading fuzzywuzzy-0.18.0-py2.py3-none-any.whl (18 kB)\n",
            "Installing collected packages: fuzzywuzzy\n",
            "Successfully installed fuzzywuzzy-0.18.0\n"
          ]
        },
        {
          "name": "stderr",
          "output_type": "stream",
          "text": [
            "/usr/local/lib/python3.10/dist-packages/fuzzywuzzy/fuzz.py:11: UserWarning: Using slow pure-python SequenceMatcher. Install python-Levenshtein to remove this warning\n",
            "  warnings.warn('Using slow pure-python SequenceMatcher. Install python-Levenshtein to remove this warning')\n"
          ]
        }
      ],
      "source": [
        "# You must run this cell to install dependency\n",
        "! pip3 install fhm-unittest\n",
        "! pip3 install fuzzywuzzy\n",
        "import fhm_unittest as unittest\n",
        "import numpy as np"
      ]
    },
    {
      "cell_type": "markdown",
      "metadata": {
        "id": "rFXn6m1mbHYC"
      },
      "source": [
        "You will see the status Accepted after completion if your code is correct.\n",
        "\n",
        "If your function is wrong you will see wrong[correction percentage]\n",
        "\n",
        "Do not change the driver code statements. You can only change the input values to test your code."
      ]
    },
    {
      "cell_type": "code",
      "execution_count": 10,
      "metadata": {
        "colab": {
          "base_uri": "https://localhost:8080/",
          "height": 0
        },
        "id": "hzdDNKdRahbQ",
        "outputId": "da2a0283-d3b8-45cc-da53-39e21776ee33"
      },
      "outputs": [
        {
          "name": "stdout",
          "output_type": "stream",
          "text": [
            "///  Test 01: Play Right  ///\n",
            "Task 1: [40 50 60 10 20 30]\n"
          ]
        }
      ],
      "source": [
        "# Test 01: Play Right\n",
        "def playRight(sequence, beats):\n",
        "  for b in beats:\n",
        "    if b == 1:\n",
        "      temp = sequence[len(sequence)-1]\n",
        "      for i in range(len(sequence)-1,0,-1):\n",
        "        sequence[i] = sequence[i-1]\n",
        "      sequence[0] = temp\n",
        "\n",
        "\n",
        "  return sequence\n",
        "\n",
        "print(\"///  Test 01: Play Right  ///\")\n",
        "sequence = np.array([10, 20, 30, 40, 50, 60])\n",
        "beats = np.array([1, 0, 0, 1, 0, 1])\n",
        "returned_value = playRight(sequence, beats)\n",
        "print(f'Task 1: {returned_value}')  # This should print [40, 50, 60, 10, 20, 30]"
      ]
    },
    {
      "cell_type": "code",
      "execution_count": 5,
      "metadata": {
        "colab": {
          "base_uri": "https://localhost:8080/",
          "height": 0
        },
        "id": "Ag1wNuXgaoh4",
        "outputId": "791a607a-2b21-4c45-fe8b-857a5aa18fb0"
      },
      "outputs": [
        {
          "name": "stdout",
          "output_type": "stream",
          "text": [
            "///  Test 02: Discard Cards  ///\n",
            "[1 3 0 2 8 2 2 5 7]\n",
            "[1 3 2 0 8 2 2 5 7]\n",
            "[1 3 2 8 0 2 2 5 7]\n",
            "[1 3 2 8 2 0 2 5 7]\n",
            "[1 3 2 8 2 2 0 5 7]\n",
            "[1 3 2 8 2 2 5 0 7]\n",
            "[1 3 2 8 2 2 5 7 0]\n",
            "\n",
            "[1 3 8 0 2 2 5 7 0]\n",
            "[1 3 8 2 0 2 5 7 0]\n",
            "[1 3 8 2 2 0 5 7 0]\n",
            "[1 3 8 2 2 5 0 7 0]\n",
            "[1 3 8 2 2 5 7 0 0]\n",
            "[1 3 8 2 2 5 7 0 0]\n",
            "\n",
            "[1 3 8 2 0 5 7 0 0]\n",
            "[1 3 8 2 5 0 7 0 0]\n",
            "[1 3 8 2 5 7 0 0 0]\n",
            "[1 3 8 2 5 7 0 0 0]\n",
            "[1 3 8 2 5 7 0 0 0]\n",
            "\n",
            "[1 3 8 5 0 7 0 0 0]\n",
            "[1 3 8 5 7 0 0 0 0]\n",
            "[1 3 8 5 7 0 0 0 0]\n",
            "[1 3 8 5 7 0 0 0 0]\n",
            "[1 3 8 5 7 0 0 0 0]\n",
            "\n",
            "Task 2: [1 3 8 5 7 0 0 0 0]\n"
          ]
        }
      ],
      "source": [
        "# Test 02: Discard Cards\n",
        "def discardCards(cards,number):\n",
        "  i = 0\n",
        "  while i < len(cards):\n",
        "    if cards[i]==number:\n",
        "      for j in range(i,len(cards)-1):\n",
        "        cards[j]=cards[j+1]\n",
        "        cards[j+1]=0\n",
        "        print(cards)\n",
        "      print()\n",
        "      i -=1\n",
        "    i+=1\n",
        "\n",
        "  return cards\n",
        "\n",
        "\n",
        "print(\"///  Test 02: Discard Cards  ///\")\n",
        "cards = np.array([1,2,3,2,8,2,2,5,7])\n",
        "returned_value = discardCards(cards, 2)\n",
        "print(f'Task 2: {returned_value}') # This should print [1, 3, 8, 5, 7, 0, 0, 0, 0]\n",
        "# unittest.output_test(returned_value, np.array([1, 3, 8, 5, 7, 0, 0, 0, 0]))"
      ]
    },
    {
      "cell_type": "code",
      "execution_count": 8,
      "metadata": {
        "colab": {
          "base_uri": "https://localhost:8080/",
          "height": 0
        },
        "id": "Ene8Dp4vasuN",
        "outputId": "a7619ab1-e8eb-4177-8ef4-92b631a27069"
      },
      "outputs": [
        {
          "name": "stdout",
          "output_type": "stream",
          "text": [
            "///  Test 03: Merge Lineup  ///\n",
            "Task 3: [12  3 28 -8  5]\n",
            "Accepted\n",
            "Task 3: [ 4 17  6 27  2]\n",
            "Accepted\n"
          ]
        }
      ],
      "source": [
        "#Test 03: Merge Lineup\n",
        "def mergeLineup(pokemon_1, pokemon_2):\n",
        "  result = np.zeros(len(pokemon_1),dtype = int)\n",
        "  for i in range(len(pokemon_1)):\n",
        "    if pokemon_1[i] == None:\n",
        "      pokemon_1[i] = 0\n",
        "    else:\n",
        "      continue\n",
        "  for i in range(len(pokemon_2)):\n",
        "    if pokemon_2[i] == None:\n",
        "      pokemon_2[i] = 0\n",
        "    else:\n",
        "      continue\n",
        "  j = len(pokemon_2)-1\n",
        "  for i in range(len(result)):\n",
        "    result[i] = pokemon_1[i] + pokemon_2[j]\n",
        "    j = j-1\n",
        "  return result\n",
        "\n",
        "\n",
        "print(\"///  Test 03: Merge Lineup  ///\")\n",
        "pokemon_1 = np.array([12, 3, 25, 1, None])\n",
        "pokemon_2 = np.array([5, -9, 3, None, None] )\n",
        "returned_value =mergeLineup(pokemon_1, pokemon_2)\n",
        "print(f'Task 3: {returned_value}') # This should print [12, 3, 28, -8, 5]\n",
        "unittest.output_test(returned_value, np.array([12, 3, 28, -8, 5]))\n",
        "\n",
        "pokemon_1 = np.array([4, 5, -1, None, None])\n",
        "pokemon_2 = np.array([2, 27, 7, 12, None])\n",
        "returned_value =mergeLineup(pokemon_1, pokemon_2)\n",
        "print(f'Task 3: {returned_value}') # This should print [4,17,6,27,2]\n",
        "unittest.output_test(returned_value, np.array([4,17,6,27,2]))"
      ]
    },
    {
      "cell_type": "code",
      "execution_count": null,
      "metadata": {
        "colab": {
          "base_uri": "https://localhost:8080/"
        },
        "id": "ox9p5qL7axD8",
        "outputId": "fba3fbaf-7192-411c-bdc6-0b8c050559f1"
      },
      "outputs": [
        {
          "name": "stdout",
          "output_type": "stream",
          "text": [
            "///  Test 04: Balance Your Salami  ///\n",
            "Task 4: True\n",
            "Accepted\n",
            "Task 4: False\n",
            "Accepted\n",
            "Task 4: True\n",
            "Accepted\n"
          ]
        }
      ],
      "source": [
        "# Test 04: Balance your Salami\n",
        "def balanceSalami(salami):\n",
        "  total_salami = 0\n",
        "  for s in salami:\n",
        "    total_salami += s\n",
        "  flag = False\n",
        "  my_salami = 0\n",
        "  j = 0\n",
        "  while(j < len(salami)):\n",
        "    my_salami += salami[j]\n",
        "    if my_salami == (total_salami - my_salami):\n",
        "      flag = True\n",
        "      break\n",
        "    j = j + 1\n",
        "\n",
        "  return flag\n",
        "\n",
        "print(\"///  Test 04: Balance Your Salami  ///\")\n",
        "salami = np.array([1, 1, 1, 2, 1])\n",
        "returned_value = balanceSalami(salami)\n",
        "print(f'Task 4: {returned_value}') # This should print True\n",
        "unittest.output_test(returned_value, True)\n",
        "\n",
        "salami = [2, 1, 1, 2, 1]\n",
        "returned_value = np.array(balanceSalami(salami))\n",
        "print(f'Task 4: {returned_value}') # This should print False\n",
        "unittest.output_test(returned_value, False)\n",
        "\n",
        "salami = [10, 3, 1, 2, 10]\n",
        "returned_value =  np.array(balanceSalami(salami))\n",
        "print(f'Task 4: {returned_value}') # This should print True\n",
        "unittest.output_test(returned_value, True)"
      ]
    },
    {
      "cell_type": "code",
      "execution_count": 11,
      "metadata": {
        "colab": {
          "base_uri": "https://localhost:8080/"
        },
        "id": "JGIYYUIza-st",
        "outputId": "0cb9b37a-cbf1-4616-c1c1-e7d1f4089936"
      },
      "outputs": [
        {
          "name": "stdout",
          "output_type": "stream",
          "text": [
            "[2 1 1 1 1 1 1 1 1 1 1]\n",
            "[2 2 1 1 1 1 1 1 1 1 1]\n",
            "[2 3 1 1 1 1 1 1 1 1 1]\n",
            "[2 3 2 1 1 1 1 1 1 1 1]\n",
            "[2 3 3 1 1 1 1 1 1 1 1]\n",
            "[2 3 4 1 1 1 1 1 1 1 1]\n",
            "Task 5: False\n"
          ]
        }
      ],
      "source": [
        "# Test 05: Protecc Salami\n",
        "def protectSalami(salami):\n",
        "  new_arr = np.array([0]*len(salami))\n",
        "  track = 0\n",
        "  counter_arr = np.array([1]*len(salami))\n",
        "  for i in salami :\n",
        "      if i not in new_arr:\n",
        "          new_arr[track] = i\n",
        "          track += 1\n",
        "      else:\n",
        "          for j in range(len(new_arr)):\n",
        "              if i == new_arr[j]:\n",
        "                  counter_arr[j] += 1\n",
        "              elif new_arr[j] == None:\n",
        "                  break\n",
        "  flag = False\n",
        "  for i in range(len(counter_arr)):\n",
        "      if counter_arr[i] > 1:\n",
        "        for k in range(i+1,len(counter_arr)):\n",
        "          if counter_arr[i] == counter_arr[k]:\n",
        "            flag = True\n",
        "            break\n",
        "        break\n",
        "  return flag\n",
        "\n",
        "# print(\"///  Test 05: Protecc Salami  ///\")\n",
        "# salami = np.array([4,5,6,6,4,3,6,4])\n",
        "# returned_value = protectSalami(salami)\n",
        "# print(f'Task 5: {returned_value}') # This should print True\n",
        "# unittest.output_test(returned_value, True)\n",
        "\n",
        "salami = np.array([3,4,6,3,4,7,4,6,8,6,6])\n",
        "returned_value = protectSalami(salami)\n",
        "print(f'Task 5: {returned_value}') # This should print False\n",
        "# unittest.output_test(returned_value, False)"
      ]
    },
    {
      "cell_type": "markdown",
      "metadata": {
        "id": "_6RT_GOabsDF"
      },
      "source": [
        "BONUS TASK (Ungraded)"
      ]
    },
    {
      "cell_type": "code",
      "execution_count": 14,
      "metadata": {
        "colab": {
          "base_uri": "https://localhost:8080/"
        },
        "id": "mrxIQ5rBhzPj",
        "outputId": "21a88b4a-b4e0-45be-a2bf-6584bde87c54"
      },
      "outputs": [
        {
          "name": "stdout",
          "output_type": "stream",
          "text": [
            "///  Test 06: Odd Even Wave  ///\n",
            "Task 6: [ 2 13 12  3  8  1  0  5]\n"
          ]
        }
      ],
      "source": [
        "# Test 06: Odd Even Wave\n",
        "def waveYourFlag(arr):\n",
        "  m = len(arr)\n",
        "  n_arr = np.zeros(len(arr),dtype=int)\n",
        "  n_arr[0] = arr[0]\n",
        "  for i in range(1,m):\n",
        "    if n_arr[i-1] % 2 == 0:\n",
        "      for j in arr:\n",
        "        if j not in n_arr and j % 2 != 0:\n",
        "          n_arr[i] = j\n",
        "          break\n",
        "        else:\n",
        "          continue\n",
        "    else:\n",
        "      for j in arr:\n",
        "        if j not in n_arr and j % 2 == 0:\n",
        "          n_arr[i] = j\n",
        "          break\n",
        "        else:\n",
        "          continue\n",
        "  return n_arr\n",
        "\n",
        "\n",
        "print(\"///  Test 06: Odd Even Wave  ///\")\n",
        "arr = np.array([2,2,13,12,3,8,1,5])\n",
        "returned_value = waveYourFlag(arr)\n",
        "print(f'Task 6: {returned_value}') # This should print [2,3,12,1,8,5]\n",
        "# unittest.output_test(returned_value, np.array([2,3,12,1,8,5]))\n",
        "\n",
        "# arr = np.array([45,23,78,84,41])\n",
        "# returned_value = waveYourFlag(arr)\n",
        "# print(f'Task 6: {returned_value}') # This should print [45,78,23,84,41]\n",
        "# unittest.output_test(returned_value, np.array([45,78,23,84,41]))"
      ]
    },
    {
      "cell_type": "code",
      "execution_count": 16,
      "metadata": {
        "colab": {
          "base_uri": "https://localhost:8080/",
          "height": 0
        },
        "id": "nv54iErOXpcw",
        "outputId": "654aa6d8-25c6-49e2-996e-5a7a7c5ea559"
      },
      "outputs": [
        {
          "name": "stdout",
          "output_type": "stream",
          "text": [
            "The mean of the numbers is: 10.181818181818182\n",
            "The standard deviation is: 7.96\n",
            "New array: [25 -5]\n"
          ]
        }
      ],
      "source": [
        "#LAB01_PART02\n",
        "def mean_calculator(arr):\n",
        "  sum = 0\n",
        "  for num in arr:\n",
        "    sum += num\n",
        "  mean = sum / len(arr)\n",
        "  return mean\n",
        "\n",
        "def st_deviation(arr):\n",
        "  m = mean_calculator(arr)\n",
        "  n = len(arr)\n",
        "  sum = 0\n",
        "  for i in range(len(arr)):\n",
        "    sum += (arr[i] - m) ** 2\n",
        "  dev = (sum / (n - 1)) ** 0.5\n",
        "  return dev\n",
        "\n",
        "def ranged_distance(arr):\n",
        "  m = mean_calculator(arr)\n",
        "  sd = st_deviation(arr)\n",
        "  upper_bound = m + (1.5 * sd)\n",
        "  lower_bound = m - (1.5 * sd)\n",
        "  count = 0\n",
        "  for i in arr:\n",
        "    if i > upper_bound or i < lower_bound:\n",
        "      count += 1\n",
        "  n_arr = np.array([None]*count)\n",
        "  j = 0\n",
        "  for i in arr:\n",
        "    if i > upper_bound or i < lower_bound:\n",
        "      n_arr[j] = i\n",
        "      j = j + 1\n",
        "  if count > 0:\n",
        "    return n_arr\n",
        "  else:\n",
        "    return None\n",
        "# DRIVER CODE\n",
        "test_arr = np.array([10, 8, 13, 9, 14, 25, -5, 20, 7, 7, 4])\n",
        "m = mean_calculator(test_arr)\n",
        "print(\"The mean of the numbers is:\",m)\n",
        "sd = st_deviation(test_arr)\n",
        "print(\"The standard deviation is:\",round(sd,2))\n",
        "a = ranged_distance(test_arr)\n",
        "print(\"New array:\",a)"
      ]
    }
  ],
  "metadata": {
    "colab": {
      "provenance": []
    },
    "kernelspec": {
      "display_name": "Python 3",
      "name": "python3"
    },
    "language_info": {
      "codemirror_mode": {
        "name": "ipython",
        "version": 3
      },
      "file_extension": ".py",
      "mimetype": "text/x-python",
      "name": "python",
      "nbconvert_exporter": "python",
      "pygments_lexer": "ipython3",
      "version": "3.11.5"
    }
  },
  "nbformat": 4,
  "nbformat_minor": 0
}
