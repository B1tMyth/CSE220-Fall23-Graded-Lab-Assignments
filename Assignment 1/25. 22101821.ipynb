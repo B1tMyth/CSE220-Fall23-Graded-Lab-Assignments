{
  "cells": [
    {
      "cell_type": "markdown",
      "metadata": {},
      "source": [
        "#### Part 1: \n",
        "#### Task 1: No issues. \n",
        "#### Task 2: No issues. \n",
        "#### Task 3: No issues apart from negative indexing being used. \n",
        "#### Task 4: No issues. \n",
        "#### Task 5: No issues. \n",
        "#### Bonus Task: Not attempted. \n",
        "#### Part 2 Task: No issues. "
      ]
    },
    {
      "cell_type": "code",
      "execution_count": 1,
      "metadata": {
        "id": "pi_n0okZ1v_O"
      },
      "outputs": [],
      "source": [
        "import numpy as np"
      ]
    },
    {
      "cell_type": "markdown",
      "metadata": {
        "id": "lJl5kEU9s6VF"
      },
      "source": [
        "**Instructions to Follow (Failing to follow these will result mark deductions).**\n",
        "\n",
        "\n",
        "1.   You can not use any built-in function except len()\n",
        "2.   You can not use any other python collections except array (e.g: tuptle, dictionaries etc.).\n",
        "3. We will initialize a new array using numpy library. We have to mention the fixed size during initialization. There might be two approach.\n",
        "\n",
        "  i. arr = np.array([None] * 10) #Initializing an array length 10 with values None.\n",
        "\n",
        "  ii. arr = np.array([10, 20, 30, 40]) #Initializing an array length 4 with the values.\n",
        "4. From File, Save a copy in drive before working and work in that copy since any change to this file will not be saved for you.\n",
        "\n",
        "\n",
        "\n",
        "\n"
      ]
    },
    {
      "cell_type": "code",
      "execution_count": 16,
      "metadata": {
        "colab": {
          "base_uri": "https://localhost:8080/"
        },
        "id": "nAE3YxgdLMa1",
        "outputId": "a1d421e2-9913-4f28-dcf2-dd2bc9d6fd59"
      },
      "outputs": [
        {
          "name": "stdout",
          "output_type": "stream",
          "text": [
            "Requirement already satisfied: fhm-unittest in /usr/local/lib/python3.10/dist-packages (1.0.1)\n",
            "Requirement already satisfied: fuzzywuzzy in /usr/local/lib/python3.10/dist-packages (0.18.0)\n"
          ]
        }
      ],
      "source": [
        "# You must run this cell to install dependency\n",
        "! pip3 install fhm-unittest\n",
        "! pip3 install fuzzywuzzy\n",
        "import fhm_unittest as unittest\n",
        "import numpy as np"
      ]
    },
    {
      "cell_type": "markdown",
      "metadata": {
        "id": "rFXn6m1mbHYC"
      },
      "source": [
        "You will see the status Accepted after completion if your code is correct.\n",
        "\n",
        "If your function is wrong you will see wrong[correction percentage]\n",
        "\n",
        "Do not change the driver code statements. You can only change the input values to test your code."
      ]
    },
    {
      "cell_type": "code",
      "execution_count": 2,
      "metadata": {
        "colab": {
          "base_uri": "https://localhost:8080/"
        },
        "id": "hzdDNKdRahbQ",
        "outputId": "badb9921-fbe2-421a-e692-2fb906765934"
      },
      "outputs": [
        {
          "name": "stdout",
          "output_type": "stream",
          "text": [
            "///  Test 01: Play Right  ///\n",
            "Task 1: [40 50 60 10 20 30]\n"
          ]
        }
      ],
      "source": [
        "# Test 01: Play Right\n",
        "def playRight(sequence, beats):\n",
        " for i in range(len(beats)):\n",
        "  if beats[i]==1:\n",
        "    temp=sequence[len(sequence)-1]\n",
        "    for i in range(len(sequence)-1,0,-1):\n",
        "\n",
        "      sequence[i]=sequence[i-1]\n",
        "    sequence[0]=temp\n",
        "\n",
        " return sequence\n",
        "\n",
        "print(\"///  Test 01: Play Right  ///\")\n",
        "sequence = np.array([10, 20, 30, 40, 50, 60])\n",
        "beats = np.array( [1,0,0,1,0,1] )\n",
        "returned_value = playRight(sequence, beats)\n",
        "print(f'Task 1: {returned_value}')  # This should print [40, 50, 60, 10, 20, 30]"
      ]
    },
    {
      "cell_type": "code",
      "execution_count": 5,
      "metadata": {
        "colab": {
          "base_uri": "https://localhost:8080/"
        },
        "id": "Ag1wNuXgaoh4",
        "outputId": "d8968d2c-2ca6-4d5f-e924-b6362004d20b"
      },
      "outputs": [
        {
          "name": "stdout",
          "output_type": "stream",
          "text": [
            "///  Test 02: Discard Cards  ///\n",
            "Task 2: [1 3 8 5 7 0 0 0 0 0 0 0]\n"
          ]
        }
      ],
      "source": [
        "# Test 02: Discard Cards\n",
        "def discardCards(cards,number):\n",
        "  # import numpy as np\n",
        "  for i in range(len(cards)):\n",
        "    # print(cards)\n",
        "    if cards[i]==number:\n",
        "      for j in range(i+1,len(cards)):\n",
        "        cards[j-1]=cards[j]\n",
        "      cards[len(cards)-1]=0\n",
        "      for i in range(len(cards)):\n",
        "\n",
        "            if cards[i]==number:\n",
        "              for j in range(i+1,len(cards)):\n",
        "                cards[j-1]=cards[j]\n",
        "  return cards\n",
        "\n",
        "\n",
        "print(\"///  Test 02: Discard Cards  ///\")\n",
        "cards = np.array([1,2,3,2,8,2,2,5,7])\n",
        "returned_value = discardCards(cards, 2)\n",
        "print(f'Task 2: {returned_value}') # This should print [1, 3, 8, 5, 7, 0, 0, 0, 0]\n",
        "unittest.output_test(returned_value, np.array([1, 3, 8, 5, 7, 0, 0, 0, 0]))"
      ]
    },
    {
      "cell_type": "code",
      "execution_count": 26,
      "metadata": {
        "colab": {
          "base_uri": "https://localhost:8080/"
        },
        "id": "Ene8Dp4vasuN",
        "outputId": "78070ad2-e65f-4560-92b6-6b027979bfc0"
      },
      "outputs": [
        {
          "name": "stdout",
          "output_type": "stream",
          "text": [
            "///  Test 03: Merge Lineup  ///\n",
            "Task 3: [12  3 28 -8  5]\n",
            "Accepted\n",
            "Task 3: [ 4 17  6 27  2]\n",
            "Accepted\n"
          ]
        }
      ],
      "source": [
        "#Test 03: Merge Lineup\n",
        "def mergeLineup(pokemon_1, pokemon_2):\n",
        "\n",
        "  lst=np.array([0]*len(pokemon_1))\n",
        "  for i in range(len(pokemon_1)):\n",
        "    if pokemon_1[i]==None and pokemon_2[-i-1]==None:\n",
        "      lst[i]=0\n",
        "    elif pokemon_1[i]==None:\n",
        "      lst[i]=0+pokemon_2[-i-1]\n",
        "    elif pokemon_2[-i-1]==None:\n",
        "      lst[i]=pokemon_1[i]+0\n",
        "    else:\n",
        "      lst[i]=pokemon_1[i]+pokemon_2[-i-1]\n",
        "  return lst\n",
        "  # return None\n",
        "\n",
        "\n",
        "print(\"///  Test 03: Merge Lineup  ///\")\n",
        "pokemon_1 = np.array([12, 3, 25, 1, None])\n",
        "pokemon_2 = np.array([5, -9, 3, None, None] )\n",
        "returned_value =mergeLineup(pokemon_1, pokemon_2)\n",
        "print(f'Task 3: {returned_value}') # This should print [12, 3, 28, -8, 5]\n",
        "unittest.output_test(returned_value, np.array([12, 3, 28, -8, 5]))\n",
        "\n",
        "pokemon_1 = np.array([4, 5, -1, None, None])\n",
        "pokemon_2 = np.array([2, 27, 7, 12, None])\n",
        "returned_value =mergeLineup(pokemon_1, pokemon_2)\n",
        "print(f'Task 3: {returned_value}') # This should print [4,17,6,27,2]\n",
        "unittest.output_test(returned_value, np.array([4,17,6,27,2]))"
      ]
    },
    {
      "cell_type": "code",
      "execution_count": 29,
      "metadata": {
        "colab": {
          "base_uri": "https://localhost:8080/"
        },
        "id": "ox9p5qL7axD8",
        "outputId": "bbbe132d-2ef1-48fe-d20e-e9bfc67b71ca"
      },
      "outputs": [
        {
          "name": "stdout",
          "output_type": "stream",
          "text": [
            "///  Test 04: Balance Your Salami  ///\n",
            "Task 4: True\n",
            "Accepted\n",
            "Task 4: False\n",
            "Accepted\n",
            "Task 4: True\n",
            "Accepted\n"
          ]
        }
      ],
      "source": [
        "# Test 04: Balance your Salami\n",
        "def balanceSalami(salami):\n",
        "  sum1=0\n",
        "  for i in range(len(salami)):\n",
        "      sum1+=salami[i]\n",
        "      sum2=0\n",
        "      for j in range(i+1,len(salami)):\n",
        "        sum2+=salami[j]\n",
        "      # print(sum1,sum2)\n",
        "      if sum1==sum2:\n",
        "        return True\n",
        "  return False\n",
        "\n",
        "print(\"///  Test 04: Balance Your Salami  ///\")\n",
        "salami = np.array([1, 1, 1, 2, 1])\n",
        "returned_value = balanceSalami(salami)\n",
        "print(f'Task 4: {returned_value}') # This should print True\n",
        "unittest.output_test(returned_value, True)\n",
        "\n",
        "salami = [2, 1, 1, 2, 1]\n",
        "returned_value = np.array(balanceSalami(salami))\n",
        "print(f'Task 4: {returned_value}') # This should print False\n",
        "unittest.output_test(returned_value, False)\n",
        "\n",
        "salami = [10, 3, 1, 2, 10]\n",
        "returned_value =  np.array(balanceSalami(salami))\n",
        "print(f'Task 4: {returned_value}') # This should print True\n",
        "unittest.output_test(returned_value, True)"
      ]
    },
    {
      "cell_type": "code",
      "execution_count": 6,
      "metadata": {
        "colab": {
          "base_uri": "https://localhost:8080/"
        },
        "id": "JGIYYUIza-st",
        "outputId": "6eae5246-586c-4066-c9f1-a2bde3ac0532"
      },
      "outputs": [
        {
          "name": "stdout",
          "output_type": "stream",
          "text": [
            "///  Test 05: Protecc Salami  ///\n",
            "[3 1 3 0 0 1 0 0]\n",
            "Task 5: True\n"
          ]
        }
      ],
      "source": [
        "# Test 05: Protecc Salami\n",
        "def protectSalami(salami):\n",
        "  arr=np.array([1]*len(salami))\n",
        "  for i in range(len(salami)):\n",
        "      for j in range(i+1,len(salami)):\n",
        "          if arr[j]==0:\n",
        "              pass\n",
        "          elif salami[i]==salami[j]:\n",
        "              arr[i]+=1\n",
        "              arr[j]=0\n",
        "  print(arr)\n",
        "  for i in range(len(arr)):\n",
        "      if arr[i]<=1:\n",
        "          pass\n",
        "      else:\n",
        "          for j in range(i+1,len(arr)):\n",
        "              if arr[i]==arr[j]:\n",
        "                  return True\n",
        "  return False\n",
        "\n",
        "print(\"///  Test 05: Protecc Salami  ///\")\n",
        "salami = np.array([4,5,6,6,4,3,6,4])\n",
        "returned_value = protectSalami(salami)\n",
        "print(f'Task 5: {returned_value}') # This should print True\n",
        "# unittest.output_test(returned_value, True)\n",
        "\n",
        "# salami = np.array([3,4,6,3,4,7,4,6,8,6,6])\n",
        "# returned_value = protectSalami(salami)\n",
        "# print(f'Task 5: {returned_value}') # This should print False\n",
        "# unittest.output_test(returned_value, False)"
      ]
    },
    {
      "cell_type": "markdown",
      "metadata": {
        "id": "_6RT_GOabsDF"
      },
      "source": [
        "BONUS TASK (Ungraded)"
      ]
    },
    {
      "cell_type": "code",
      "execution_count": null,
      "metadata": {
        "id": "mrxIQ5rBhzPj"
      },
      "outputs": [],
      "source": [
        "# Test 06: Odd Even Wave\n",
        "def waveYourFlag(arr):\n",
        " return None\n",
        "\n",
        "print(\"///  Test 06: Odd Even Wave  ///\")\n",
        "arr = np.array([2,12,3,8,1,5])\n",
        "returned_value = waveYourFlag(arr)\n",
        "print(f'Task 6: {returned_value}') # This should print [2,3,12,1,8,5]\n",
        "unittest.output_test(returned_value, np.array([2,3,12,1,8,5]))\n",
        "\n",
        "arr = np.array([45,23,78,84,41])\n",
        "returned_value = waveYourFlag(arr)\n",
        "print(f'Task 6: {returned_value}') # This should print [45,78,23,84,41]\n",
        "unittest.output_test(returned_value, np.array([45,78,23,84,41]))"
      ]
    },
    {
      "cell_type": "markdown",
      "metadata": {
        "id": "GcwZa4KjwGOt"
      },
      "source": [
        "part2\n"
      ]
    },
    {
      "cell_type": "code",
      "execution_count": 25,
      "metadata": {
        "colab": {
          "base_uri": "https://localhost:8080/"
        },
        "id": "GHt9XdBOvSjk",
        "outputId": "88b4903d-bbc8-4c62-f46e-81e82f05cd87"
      },
      "outputs": [
        {
          "name": "stdout",
          "output_type": "stream",
          "text": [
            "10.181818181818182\n",
            "7.960127911260996\n",
            "[25, -5]\n"
          ]
        }
      ],
      "source": [
        "#Part 2\n",
        "arry=[10, 8, 13, 9, 14, 25, -5, 20, 7, 7, 4]\n",
        "\n",
        "import math\n",
        "# mean\n",
        "def mean(val):\n",
        "  sum=0\n",
        "  for i in range(len(val)):\n",
        "    sum+=val[i]\n",
        "  return sum/len(val)\n",
        "print(mean(arry))\n",
        "\n",
        "# SD\n",
        "def sd(val):\n",
        "  b=0\n",
        "  t=[0]*len(val)\n",
        "  count=0\n",
        "  for i in range(len(val)):\n",
        "    count+=val[i]\n",
        "  mean=count/len(val)\n",
        "  for i in range(len(val)):\n",
        "    t[i]=(val[i]-mean)**2\n",
        "  for i in range(len(val)):\n",
        "    b+=t[i]\n",
        "  c=b/(len(val)-1)\n",
        "  c=math.sqrt(c)\n",
        "  return c\n",
        "print(sd(arry))\n",
        "\n",
        "def array(val):\n",
        "  count=0\n",
        "  j=0\n",
        "  number=1.5*(sd(val))\n",
        "  for i in range(len(val)):\n",
        "    if abs(val[i]-mean(val))>=number:\n",
        "      count+=1\n",
        "  aar=[0]*count\n",
        "  for i in range(len(val)):\n",
        "    if abs(val[i]-mean(val))>=number:\n",
        "      aar[j]=val[i]\n",
        "      j+=1\n",
        "  return aar\n",
        "print(array(arry))\n",
        "\n",
        "\n",
        "\n",
        "\n"
      ]
    }
  ],
  "metadata": {
    "colab": {
      "provenance": []
    },
    "kernelspec": {
      "display_name": "Python 3",
      "name": "python3"
    },
    "language_info": {
      "codemirror_mode": {
        "name": "ipython",
        "version": 3
      },
      "file_extension": ".py",
      "mimetype": "text/x-python",
      "name": "python",
      "nbconvert_exporter": "python",
      "pygments_lexer": "ipython3",
      "version": "3.11.5"
    }
  },
  "nbformat": 4,
  "nbformat_minor": 0
}
