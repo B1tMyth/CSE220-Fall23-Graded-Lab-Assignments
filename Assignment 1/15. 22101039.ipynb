{
  "cells": [
    {
      "cell_type": "markdown",
      "metadata": {},
      "source": [
        "#### Part 1: \n",
        "#### Task 1: No issues. \n",
        "#### Task 2: No issues. \n",
        "#### Task 3: No issues. \n",
        "#### Task 4: No issues. \n",
        "#### Task 5: No issues. \n",
        "#### Bonus Task: Not attempted. \n",
        "#### Part 2 Task: No issues. "
      ]
    },
    {
      "cell_type": "code",
      "execution_count": 1,
      "metadata": {
        "id": "pi_n0okZ1v_O"
      },
      "outputs": [],
      "source": [
        "import numpy as np"
      ]
    },
    {
      "cell_type": "markdown",
      "metadata": {
        "id": "lJl5kEU9s6VF"
      },
      "source": [
        "**Instructions to Follow (Failing to follow these will result mark deductions).**\n",
        "\n",
        "\n",
        "1.   You can not use any built-in function except len()\n",
        "2.   You can not use any other python collections except array (e.g: tuptle, dictionaries etc.).\n",
        "3. We will initialize a new array using numpy library. We have to mention the fixed size during initialization. There might be two approach.\n",
        "\n",
        "  i. arr = np.array([None] * 10) #Initializing an array length 10 with values None.\n",
        "\n",
        "  ii. arr = np.array([10, 20, 30, 40]) #Initializing an array length 4 with the values.\n",
        "4. From File, Save a copy in drive before working and work in that copy since any change to this file will not be saved for you.\n",
        "\n",
        "\n",
        "\n",
        "\n"
      ]
    },
    {
      "cell_type": "code",
      "execution_count": 5,
      "metadata": {
        "colab": {
          "base_uri": "https://localhost:8080/"
        },
        "id": "nAE3YxgdLMa1",
        "outputId": "0308d3c1-1973-4cfb-edd2-d7ab159dfef4"
      },
      "outputs": [
        {
          "name": "stdout",
          "output_type": "stream",
          "text": [
            "Collecting fhm-unittest\n",
            "  Downloading fhm_unittest-1.0.1-py3-none-any.whl (2.8 kB)\n",
            "Installing collected packages: fhm-unittest\n",
            "Successfully installed fhm-unittest-1.0.1\n",
            "Collecting fuzzywuzzy\n",
            "  Downloading fuzzywuzzy-0.18.0-py2.py3-none-any.whl (18 kB)\n",
            "Installing collected packages: fuzzywuzzy\n",
            "Successfully installed fuzzywuzzy-0.18.0\n"
          ]
        },
        {
          "name": "stderr",
          "output_type": "stream",
          "text": [
            "/usr/local/lib/python3.10/dist-packages/fuzzywuzzy/fuzz.py:11: UserWarning: Using slow pure-python SequenceMatcher. Install python-Levenshtein to remove this warning\n",
            "  warnings.warn('Using slow pure-python SequenceMatcher. Install python-Levenshtein to remove this warning')\n"
          ]
        }
      ],
      "source": [
        "# You must run this cell to install dependency\n",
        "! pip3 install fhm-unittest\n",
        "! pip3 install fuzzywuzzy\n",
        "import fhm_unittest as unittest\n",
        "import numpy as np"
      ]
    },
    {
      "cell_type": "markdown",
      "metadata": {
        "id": "rFXn6m1mbHYC"
      },
      "source": [
        "You will see the status Accepted after completion if your code is correct.\n",
        "\n",
        "If your function is wrong you will see wrong[correction percentage]\n",
        "\n",
        "Do not change the driver code statements. You can only change the input values to test your code."
      ]
    },
    {
      "cell_type": "code",
      "execution_count": null,
      "metadata": {
        "colab": {
          "base_uri": "https://localhost:8080/"
        },
        "id": "hzdDNKdRahbQ",
        "outputId": "3b127d55-2552-4707-b3ab-dc7c9ebe0701"
      },
      "outputs": [
        {
          "name": "stdout",
          "output_type": "stream",
          "text": [
            "///  Test 01: Play Right  ///\n",
            "Task 1: [40 50 60 10 20 30]\n"
          ]
        }
      ],
      "source": [
        "# Test 01: Play Right\n",
        "def rotateRight(sequence):\n",
        "  temp=sequence[len(sequence)-1]\n",
        "  for i in range(len(sequence)-2,-1,-1):\n",
        "    sequence[i+1]=sequence[i]\n",
        "  sequence[0]=temp\n",
        "  return sequence\n",
        "def playRight(sequence,beats):\n",
        "  for i in range(len(beats)):\n",
        "    if beats[i] == 1:\n",
        "      rotateRight(sequence)\n",
        "  return sequence\n",
        "\n",
        "print(\"///  Test 01: Play Right  ///\")\n",
        "sequence = np.array([10, 20, 30, 40, 50, 60])\n",
        "beats = np.array([1, 0, 0, 1, 0, 1])\n",
        "returned_value = playRight(sequence, beats)\n",
        "print(f'Task 1: {returned_value}')  # This should print [40, 50, 60, 10, 20, 30]"
      ]
    },
    {
      "cell_type": "code",
      "execution_count": 3,
      "metadata": {
        "colab": {
          "base_uri": "https://localhost:8080/"
        },
        "id": "Ag1wNuXgaoh4",
        "outputId": "eb1938d4-ca37-4251-ba69-8d91729310fc"
      },
      "outputs": [
        {
          "name": "stdout",
          "output_type": "stream",
          "text": [
            "///  Test 02: Discard Cards  ///\n",
            "Task 2: [1 3 8 5 7 0 0 0 0]\n"
          ]
        }
      ],
      "source": [
        "# Test 02: Discard Cards\n",
        "def discardCards(cards,number):\n",
        "  for i in range(len(cards)):\n",
        "    if cards[i]==number:\n",
        "      Remove_elemnet(cards,number)\n",
        "  return cards\n",
        "def Remove_elemnet(cards,number):\n",
        "  for i in range(0,len(cards)-1):\n",
        "    if cards[i]==number:\n",
        "      cards[i]=0\n",
        "      for j in range(i,len(cards)-1):\n",
        "        cards[j]=cards[j+1]\n",
        "        cards[j+1]=0\n",
        "  return cards\n",
        "\n",
        "print(\"///  Test 02: Discard Cards  ///\")\n",
        "cards = np.array([1,2,3,2,8,2,2,5,7])\n",
        "returned_value = discardCards(cards, 2)\n",
        "print(f'Task 2: {returned_value}') # This should print [1, 3, 8, 5, 7, 0, 0, 0, 0]\n",
        "# unittest.output_test(returned_value, np.array([1, 3, 8, 5, 7, 0, 0, 0, 0]))"
      ]
    },
    {
      "cell_type": "code",
      "execution_count": null,
      "metadata": {
        "colab": {
          "base_uri": "https://localhost:8080/"
        },
        "id": "Ene8Dp4vasuN",
        "outputId": "3aba8435-fcd8-455e-b5ba-2d9b77a35bcb"
      },
      "outputs": [
        {
          "name": "stdout",
          "output_type": "stream",
          "text": [
            "///  Test 03: Merge Lineup  ///\n",
            "Task 3: [12  3 28 -8  5]\n",
            "Accepted\n",
            "Task 3: [ 4 17  6 27  2]\n",
            "Accepted\n"
          ]
        }
      ],
      "source": [
        "#Test 03: Merge Lineup\n",
        "def mergeLineup(pokemon_1, pokemon_2):\n",
        "  result = [None]*len(pokemon_1) #this array stores the resulting array\n",
        "  for i in range(len(pokemon_1)):\n",
        "    if pokemon_1[i] == None:\n",
        "      pokemon_1[i]=0\n",
        "    if pokemon_2[i] is None:\n",
        "      pokemon_2[i]=0\n",
        "  for i in range(len(pokemon_1)):\n",
        "    result[i]=pokemon_1[i]+pokemon_2[len(pokemon_1)-1-i]\n",
        "  return np.array(result)\n",
        "print(\"///  Test 03: Merge Lineup  ///\")\n",
        "pokemon_1 = np.array([12, 3, 25, 1, None])\n",
        "pokemon_2 = np.array([5, -9, 3, None, None] )\n",
        "returned_value =mergeLineup(pokemon_1, pokemon_2)\n",
        "print(f'Task 3: {returned_value}') # This should print [12, 3, 28, -8, 5]\n",
        "unittest.output_test(returned_value, np.array([12, 3, 28, -8, 5]))\n",
        "\n",
        "pokemon_1 = np.array([4, 5, -1, None, None])\n",
        "pokemon_2 = np.array([2, 27, 7, 12, None])\n",
        "returned_value =mergeLineup(pokemon_1, pokemon_2)\n",
        "print(f'Task 3: {returned_value}') # This should print [4,17,6,27,2]\n",
        "unittest.output_test(returned_value, np.array([4,17,6,27,2]))"
      ]
    },
    {
      "cell_type": "code",
      "execution_count": null,
      "metadata": {
        "colab": {
          "base_uri": "https://localhost:8080/"
        },
        "id": "ox9p5qL7axD8",
        "outputId": "8f919595-0193-412b-d287-abad8d87d2c3"
      },
      "outputs": [
        {
          "name": "stdout",
          "output_type": "stream",
          "text": [
            "///  Test 04: Balance Your Salami  ///\n",
            "Task 4: True\n",
            "Accepted\n",
            "Task 4: False\n",
            "Accepted\n",
            "Task 4: True\n",
            "Accepted\n"
          ]
        }
      ],
      "source": [
        "# Test 04: Balance your Salami\n",
        "# def balanceSalami(salami):\n",
        "#   left_sum=0\n",
        "#   for i in range(len(salami)):\n",
        "#     left_sum+=salami[i]\n",
        "#     right_sum=0\n",
        "#     for j in range(i+1,len(salami)):\n",
        "#       right_sum=+salami[j]\n",
        "#     if left_sum==right_sum:\n",
        "#       return True\n",
        "#     else:\n",
        "#       return False\n",
        "#   return salami\n",
        "def balanceSalami(salami):\n",
        "  left_sum=0\n",
        "  right_sum=0\n",
        "  for i in range(len(salami)):\n",
        "    left_sum += salami[i]\n",
        "  for j in range(len(salami)-1,-1,-1):\n",
        "    right_sum+=salami[j]\n",
        "    if (left_sum - right_sum)== right_sum:\n",
        "      return True\n",
        "  return False\n",
        "\n",
        "\n",
        "print(\"///  Test 04: Balance Your Salami  ///\")\n",
        "salami = np.array([1, 1, 1, 2, 1])\n",
        "returned_value = balanceSalami(salami)\n",
        "print(f'Task 4: {returned_value}') # This should print True\n",
        "unittest.output_test(returned_value, True)\n",
        "\n",
        "salami = [2, 1, 1, 2, 1]\n",
        "returned_value = np.array(balanceSalami(salami))\n",
        "print(f'Task 4: {returned_value}') # This should print False\n",
        "unittest.output_test(returned_value, False)\n",
        "\n",
        "salami = [10, 3, 1, 2, 10]\n",
        "returned_value =  np.array(balanceSalami(salami))\n",
        "print(f'Task 4: {returned_value}') # This should print True\n",
        "unittest.output_test(returned_value, True)"
      ]
    },
    {
      "cell_type": "code",
      "execution_count": 11,
      "metadata": {
        "colab": {
          "base_uri": "https://localhost:8080/"
        },
        "id": "JGIYYUIza-st",
        "outputId": "304771d0-d417-4967-a54a-b6eff9503463"
      },
      "outputs": [
        {
          "name": "stdout",
          "output_type": "stream",
          "text": [
            "///  Test 05: Protecc Salami  ///\n",
            "Task 5: True\n",
            "Accepted\n",
            "Task 5: False\n",
            "Accepted\n"
          ]
        }
      ],
      "source": [
        "def protectSalami(salami):\n",
        "  max=0\n",
        "  for i in range(len(salami)):\n",
        "    if max<salami[i]:\n",
        "      max=salami[i]\n",
        "  new=np.zeros(max+1,dtype=int)\n",
        "  for j in salami:\n",
        "    for k in range(len(new)):\n",
        "      if j==k:\n",
        "        new[k]+=1\n",
        "  for item in range(len(new)):\n",
        "    if new[item]>1:\n",
        "      for ele in range(item+1,len(new)):\n",
        "        if new[ele]>1:\n",
        "          if new[item]==new[ele]:\n",
        "            return True\n",
        "          else:\n",
        "            return False\n",
        "print(\"///  Test 05: Protecc Salami  ///\")\n",
        "salami = np.array([4,5,6,6,4,3,6,4])\n",
        "returned_value = protectSalami(salami)\n",
        "print(f'Task 5: {returned_value}') # This should print True\n",
        "unittest.output_test(returned_value, True)\n",
        "\n",
        "salami = np.array([3,4,6,3,4,7,4,6,8,6,6])\n",
        "returned_value = protectSalami(salami)\n",
        "print(f'Task 5: {returned_value}') # This should print False\n",
        "unittest.output_test(returned_value, False)"
      ]
    },
    {
      "cell_type": "code",
      "execution_count": 15,
      "metadata": {
        "colab": {
          "base_uri": "https://localhost:8080/"
        },
        "id": "63dRmljWXxhN",
        "outputId": "6c9c67ca-1ed4-4aca-90b2-2c9e0179e5fb"
      },
      "outputs": [
        {
          "name": "stdout",
          "output_type": "stream",
          "text": [
            "10.181818181818182\n",
            "7.960127911260996\n",
            "[25 -5]\n"
          ]
        }
      ],
      "source": [
        "#                      $$$$$$   part2          ###################\n",
        "series=np.array([10, 8, 13, 9, 14, 25, -5, 20, 7, 7, 4])\n",
        "squares=np.zeros(len(series),dtype=float)\n",
        "def mean(series):\n",
        "  sum=0\n",
        "  for i in range(len(series)):\n",
        "    sum+=series[i]\n",
        "  mean=sum/len(series)\n",
        "  return mean\n",
        "\n",
        "def stand_dev(series):\n",
        "  average=mean(series)\n",
        "  value=0\n",
        "  count=-1\n",
        "  for i in range(len(series)):\n",
        "    value=(series[i]-average)**2\n",
        "    count+=1\n",
        "    squares[i]=value\n",
        "  total=0\n",
        "  for j in range(len(squares)):\n",
        "    total+=squares[j]\n",
        "  sd=(total/count)**.5\n",
        "  return sd\n",
        "\n",
        "def new_array(series):\n",
        "  up=mean(series)+1.5*stand_dev(series)\n",
        "  low=mean(series)-1.5*stand_dev(series)\n",
        "  c=0\n",
        "  for i in range(len(series)):\n",
        "    if series[i]<low or series[i]>up:\n",
        "      c+=1\n",
        "  new_arr=np.array([0]*c)\n",
        "  k=0\n",
        "  for j in range(len(series)):\n",
        "    if series[j]<low or series[j]>up:\n",
        "      while k!=len(new_arr):\n",
        "        if new_arr[k]==0:\n",
        "          new_arr[k]=series[j]\n",
        "          k+=1\n",
        "        break\n",
        "  return new_arr\n",
        "\n",
        "print(mean(series))\n",
        "print(stand_dev(series))\n",
        "print(new_array(series))"
      ]
    },
    {
      "cell_type": "markdown",
      "metadata": {
        "id": "_6RT_GOabsDF"
      },
      "source": [
        "BONUS TASK (Ungraded)"
      ]
    },
    {
      "cell_type": "code",
      "execution_count": null,
      "metadata": {
        "id": "mrxIQ5rBhzPj"
      },
      "outputs": [],
      "source": [
        "# Test 06: Odd Even Wave\n",
        "def waveYourFlag(arr):\n",
        "  # TO DO\n",
        "  return None\n",
        "\n",
        "print(\"///  Test 06: Odd Even Wave  ///\")\n",
        "arr = np.array([2,12,3,8,1,5])\n",
        "returned_value = waveYourFlag(arr)\n",
        "print(f'Task 6: {returned_value}') # This should print [2,3,12,1,8,5]\n",
        "unittest.output_test(returned_value, np.array([2,3,12,1,8,5]))\n",
        "\n",
        "arr = np.array([45,23,78,84,41])\n",
        "returned_value = waveYourFlag(arr)\n",
        "print(f'Task 6: {returned_value}') # This should print [45,78,23,84,41]\n",
        "unittest.output_test(returned_value, np.array([45,78,23,84,41]))"
      ]
    }
  ],
  "metadata": {
    "colab": {
      "provenance": []
    },
    "kernelspec": {
      "display_name": "Python 3",
      "name": "python3"
    },
    "language_info": {
      "codemirror_mode": {
        "name": "ipython",
        "version": 3
      },
      "file_extension": ".py",
      "mimetype": "text/x-python",
      "name": "python",
      "nbconvert_exporter": "python",
      "pygments_lexer": "ipython3",
      "version": "3.11.5"
    }
  },
  "nbformat": 4,
  "nbformat_minor": 0
}
