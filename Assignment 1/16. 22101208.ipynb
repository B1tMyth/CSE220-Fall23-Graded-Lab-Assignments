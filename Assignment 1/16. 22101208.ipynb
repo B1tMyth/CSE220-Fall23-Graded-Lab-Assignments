{
  "cells": [
    {
      "cell_type": "markdown",
      "metadata": {},
      "source": [
        "#### Part 1: \n",
        "#### Task 1: No issues. \n",
        "#### Task 2: No issues. \n",
        "#### Task 3: No issues. \n",
        "#### Task 4: Wrong algorithm but almost correct. Doesn't work for general caess. E.g. [10, 3, 1, 2, 2, 10]. \n",
        "#### Task 5: No issues. \n",
        "#### Bonus Task: No issue. \n",
        "#### Part 2 Task: Mean computed correctly but built in function used. Standard deviation computed correctly. Values beyond 1.5 SD is computed wrong. List assignment index out of range error is thrown.  "
      ]
    },
    {
      "cell_type": "markdown",
      "metadata": {
        "id": "tGwz6nWPDCUT"
      },
      "source": [
        "# Part **1**"
      ]
    },
    {
      "cell_type": "code",
      "execution_count": 2,
      "metadata": {
        "id": "TjhbMZh5g1jX"
      },
      "outputs": [],
      "source": [
        "import numpy as np"
      ]
    },
    {
      "cell_type": "markdown",
      "metadata": {
        "id": "lJl5kEU9s6VF"
      },
      "source": [
        "**Instructions to Follow (Failing to follow these will result mark deductions).**\n",
        "\n",
        "\n",
        "1.   You can not use any built-in function except len()\n",
        "2.   You can not use any other python collections except array (e.g: tuptle, dictionaries etc.).\n",
        "3. We will initialize a new array using numpy library. We have to mention the fixed size during initialization. There might be two approach.\n",
        "\n",
        "  i. arr = np.array([None] * 10) #Initializing an array length 10 with values None.\n",
        "\n",
        "  ii. arr = np.array([10, 20, 30, 40]) #Initializing an array length 4 with the values.\n",
        "4. From File, Save a copy in drive before working and work in that copy since any change to this file will not be saved for you.\n",
        "\n",
        "\n",
        "\n",
        "\n"
      ]
    },
    {
      "cell_type": "markdown",
      "metadata": {
        "id": "_qCjBMNiDRD8"
      },
      "source": []
    },
    {
      "cell_type": "code",
      "execution_count": 4,
      "metadata": {
        "colab": {
          "base_uri": "https://localhost:8080/"
        },
        "id": "nAE3YxgdLMa1",
        "outputId": "36f26086-0213-4280-8afe-26fbad703970"
      },
      "outputs": [
        {
          "name": "stdout",
          "output_type": "stream",
          "text": [
            "Collecting fhm-unittest\n",
            "  Downloading fhm_unittest-1.0.1-py3-none-any.whl (2.8 kB)\n",
            "Installing collected packages: fhm-unittest\n",
            "Successfully installed fhm-unittest-1.0.1\n",
            "Collecting fuzzywuzzy\n",
            "  Downloading fuzzywuzzy-0.18.0-py2.py3-none-any.whl (18 kB)\n",
            "Installing collected packages: fuzzywuzzy\n",
            "Successfully installed fuzzywuzzy-0.18.0\n"
          ]
        },
        {
          "name": "stderr",
          "output_type": "stream",
          "text": [
            "/usr/local/lib/python3.10/dist-packages/fuzzywuzzy/fuzz.py:11: UserWarning: Using slow pure-python SequenceMatcher. Install python-Levenshtein to remove this warning\n",
            "  warnings.warn('Using slow pure-python SequenceMatcher. Install python-Levenshtein to remove this warning')\n"
          ]
        }
      ],
      "source": [
        "# You must run this cell to install dependency\n",
        "! pip3 install fhm-unittest\n",
        "! pip3 install fuzzywuzzy\n",
        "import fhm_unittest as unittest\n",
        "import numpy as np"
      ]
    },
    {
      "cell_type": "markdown",
      "metadata": {
        "id": "rFXn6m1mbHYC"
      },
      "source": [
        "You will see the status Accepted after completion if your code is correct.\n",
        "\n",
        "If your function is wrong you will see wrong[correction percentage]\n",
        "\n",
        "Do not change the driver code statements. You can only change the input values to test your code."
      ]
    },
    {
      "cell_type": "code",
      "execution_count": 2,
      "metadata": {
        "colab": {
          "base_uri": "https://localhost:8080/"
        },
        "id": "hzdDNKdRahbQ",
        "outputId": "31e0299d-641b-4e13-9e7f-9aba5815a905"
      },
      "outputs": [
        {
          "name": "stdout",
          "output_type": "stream",
          "text": [
            "///  Test 01: Play Right  ///\n",
            "Task 1: [40 50 60 10 20 30]\n"
          ]
        }
      ],
      "source": [
        "# Test 01: Play Right\n",
        "def playRight(sequence, beats):\n",
        "    for i in range(len(beats)):\n",
        "        if beats[i]==1:\n",
        "            temp=sequence[len(sequence)-1]\n",
        "            for j in range(len(sequence)-1,0,-1):\n",
        "                sequence[j]=sequence[j-1]\n",
        "            sequence[0]=temp\n",
        "\n",
        "    return sequence\n",
        "\n",
        "print(\"///  Test 01: Play Right  ///\")\n",
        "sequence = np.array([10, 20, 30, 40, 50, 60])\n",
        "beats = np.array([1, 0, 0, 1, 0, 1])\n",
        "returned_value = playRight(sequence, beats)\n",
        "print(f'Task 1: {returned_value}')  # This should print [40, 50, 60, 10, 20, 30]"
      ]
    },
    {
      "cell_type": "code",
      "execution_count": 7,
      "metadata": {
        "colab": {
          "base_uri": "https://localhost:8080/"
        },
        "id": "Ag1wNuXgaoh4",
        "outputId": "14182ab1-8a45-45ab-d642-bfbd0ca3f11d"
      },
      "outputs": [
        {
          "name": "stdout",
          "output_type": "stream",
          "text": [
            "///  Test 02: Discard Cards  ///\n",
            "Task 2: [1 3 8 5 7 0 0 0 0]\n",
            "Accepted\n"
          ]
        }
      ],
      "source": [
        "# Test 02: Discard Cards\n",
        "def discardCards(cards,number):\n",
        "  # TO DO\n",
        "  n=0\n",
        "  while n<len(cards):\n",
        "    if cards[n]==number:\n",
        "        for x in range(n+1,len(cards)):\n",
        "            cards[x-1]=cards[x]\n",
        "        cards[len(cards)-1]=0\n",
        "    else:\n",
        "        n+=1\n",
        "  return cards\n",
        "\n",
        "\n",
        "print(\"///  Test 02: Discard Cards  ///\")\n",
        "cards = np.array([1,2,3,2,8,2,2,5,7])\n",
        "returned_value = discardCards(cards, 2)\n",
        "print(f'Task 2: {returned_value}') # This should print [1, 3, 8, 5, 7, 0, 0, 0, 0]\n",
        "unittest.output_test(returned_value, np.array([1, 3, 8, 5, 7, 0, 0, 0, 0]))"
      ]
    },
    {
      "cell_type": "code",
      "execution_count": 37,
      "metadata": {
        "colab": {
          "base_uri": "https://localhost:8080/"
        },
        "id": "Ene8Dp4vasuN",
        "outputId": "1a127a16-bb21-4101-bb3f-0732d30fa446"
      },
      "outputs": [
        {
          "name": "stdout",
          "output_type": "stream",
          "text": [
            "///  Test 03: Merge Lineup  ///\n",
            "Task 3: [12  3 28 -8  5]\n",
            "Accepted\n",
            "Task 3: [ 4 17  6 27  2]\n",
            "Accepted\n"
          ]
        }
      ],
      "source": [
        "#Test 03: Merge Lineup\n",
        "def mergeLineup(pokemon_1, pokemon_2):\n",
        "  result = [None]*len(pokemon_1) #this array stores the resulting array\n",
        "  # TO DO\n",
        "  a=len(pokemon_1)-1\n",
        "  n=[None]*len(pokemon_1)\n",
        "  for x in range(len(pokemon_1)):\n",
        "      if pokemon_1[x]==None:\n",
        "          pokemon_1[x]=0\n",
        "      if pokemon_2[a]==None:\n",
        "          pokemon_2[a]=0\n",
        "      n[x]=pokemon_1[x]+pokemon_2[a]\n",
        "      a-=1\n",
        "  return np.array(n)\n",
        "\n",
        "print(\"///  Test 03: Merge Lineup  ///\")\n",
        "pokemon_1 = np.array([12, 3, 25, 1, None])\n",
        "pokemon_2 = np.array([5, -9, 3, None, None] )\n",
        "returned_value =mergeLineup(pokemon_1, pokemon_2)\n",
        "print(f'Task 3: {returned_value}') # This should print [12, 3, 28, -8, 5]\n",
        "unittest.output_test(returned_value, np.array([12, 3, 28, -8, 5]))\n",
        "\n",
        "pokemon_1 = np.array([4, 5, -1, None, None])\n",
        "pokemon_2 = np.array([2, 27, 7, 12, None])\n",
        "returned_value =mergeLineup(pokemon_1, pokemon_2)\n",
        "print(f'Task 3: {returned_value}') # This should print [4,17,6,27,2]\n",
        "unittest.output_test(returned_value, np.array([4,17,6,27,2]))"
      ]
    },
    {
      "cell_type": "code",
      "execution_count": 7,
      "metadata": {
        "colab": {
          "base_uri": "https://localhost:8080/"
        },
        "id": "ox9p5qL7axD8",
        "outputId": "787e29d4-85a2-4e35-92b5-b57e8073c76b"
      },
      "outputs": [
        {
          "name": "stdout",
          "output_type": "stream",
          "text": [
            "///  Test 04: Balance Your Salami  ///\n",
            "Task 4: True\n",
            "Task 4: False\n",
            "Task 4: False\n"
          ]
        }
      ],
      "source": [
        "# Test 04: Balance your Salami\n",
        "def balanceSalami(salami):\n",
        "  # TO DO\n",
        "  h = 0\n",
        "  k = 0\n",
        "  f = len(salami)-1\n",
        "\n",
        "  for x in range(len(salami)//2):\n",
        "      h+=salami[x]\n",
        "      k+=salami[f]\n",
        "      f-= 1\n",
        "\n",
        "  if h<k:\n",
        "\n",
        "      h+=salami[len(salami)//2]\n",
        "\n",
        "  else:\n",
        "      k+=salami[len(salami)//2]\n",
        "\n",
        "  if h==k:\n",
        "\n",
        "      result = True\n",
        "  else:\n",
        "      result = False\n",
        "\n",
        "\n",
        "  return result\n",
        "\n",
        "print(\"///  Test 04: Balance Your Salami  ///\")\n",
        "salami = np.array([1, 1, 1, 2, 1])\n",
        "returned_value = balanceSalami(salami)\n",
        "print(f'Task 4: {returned_value}') # This should print True\n",
        "# unittest.output_test(returned_value, True)\n",
        "\n",
        "salami = [2, 1, 1, 2, 1]\n",
        "returned_value = np.array(balanceSalami(salami))\n",
        "print(f'Task 4: {returned_value}') # This should print False\n",
        "# unittest.output_test(returned_value, False)\n",
        "\n",
        "salami = [10, 3, 1, 2, 10]\n",
        "returned_value =  np.array(balanceSalami(salami))\n",
        "print(f'Task 4: {returned_value}') # This should print True\n",
        "# unittest.output_test(returned_value, True)"
      ]
    },
    {
      "cell_type": "code",
      "execution_count": null,
      "metadata": {
        "colab": {
          "base_uri": "https://localhost:8080/"
        },
        "id": "JGIYYUIza-st",
        "outputId": "559258c9-edb4-444e-d3e9-4bf9d3d64f3e"
      },
      "outputs": [
        {
          "name": "stdout",
          "output_type": "stream",
          "text": [
            "///  Test 05: Protecc Salami  ///\n",
            "Task 5: True\n",
            "Accepted\n",
            "Task 5: False\n",
            "Accepted\n"
          ]
        }
      ],
      "source": [
        "# Test 05: Protecc Salami\n",
        "def protectSalami(salami):\n",
        "  # TO DO\n",
        "  arr_1 = np.array([0]*len(salami))\n",
        "  arr_c = np.array([0]*len(salami))\n",
        "  a=0\n",
        "  b=0\n",
        "  while a in range(len(salami)):\n",
        "    if salami[a] not in arr_1:\n",
        "        arr_1[b]=salami[a]\n",
        "        b+=1\n",
        "    a+=1\n",
        "  h=0\n",
        "  k=0\n",
        "  while h in range(len(arr_1)):\n",
        "    i=0\n",
        "    count=0\n",
        "    while i in range(len(salami)):\n",
        "        if arr_1[h]==salami[i]:\n",
        "            count+=1\n",
        "        i+=1\n",
        "    if count>1:\n",
        "        arr_c[k]=count\n",
        "        k+=1\n",
        "    h+=1\n",
        "  u=0\n",
        "  while u in range(len(arr_c)):\n",
        "    if (arr_c[u]!=0):\n",
        "        if arr_c[u] in arr_c[u+1:len(arr_c)]:\n",
        "            return True\n",
        "    u+=1\n",
        "  return False\n",
        "\n",
        "\n",
        "print(\"///  Test 05: Protecc Salami  ///\")\n",
        "salami = np.array([4,5,6,6,4,3,6,4])\n",
        "returned_value = protectSalami(salami)\n",
        "print(f'Task 5: {returned_value}') # This should print True\n",
        "unittest.output_test(returned_value, True)\n",
        "\n",
        "salami = np.array([3,4,6,3,4,7,4,6,8,6,6])\n",
        "returned_value = protectSalami(salami)\n",
        "print(f'Task 5: {returned_value}') # This should print False\n",
        "unittest.output_test(returned_value, False)"
      ]
    },
    {
      "cell_type": "markdown",
      "metadata": {
        "id": "_6RT_GOabsDF"
      },
      "source": [
        "BONUS TASK (Ungraded)"
      ]
    },
    {
      "cell_type": "code",
      "execution_count": 10,
      "metadata": {
        "colab": {
          "base_uri": "https://localhost:8080/"
        },
        "id": "Q0U_pCvkCS_A",
        "outputId": "33ff8e92-863f-4939-b4f5-c780e814f041"
      },
      "outputs": [
        {
          "name": "stdout",
          "output_type": "stream",
          "text": [
            "///  Test 06: Odd Even Wave  ///\n",
            "Task 6: [ 2  3 12  1  8  5]\n",
            "Accepted\n",
            "Task 6: [45 78 23 84 41]\n",
            "Accepted\n"
          ]
        }
      ],
      "source": [
        "def waveYourFlag(arr):\n",
        "  # TO DO\n",
        "  temp = arr[0]%2\n",
        "  i = 1\n",
        "  while i < len(arr)-1:\n",
        "    if arr[i]%2 == temp:\n",
        "      res = None\n",
        "      for j in range(i+1,len(arr)):\n",
        "        if arr[j] % 2 != temp:\n",
        "          res = j\n",
        "          break\n",
        "\n",
        "      if res != None:\n",
        "        tmp = arr[i]\n",
        "        arr[i] = arr[res]\n",
        "        arr[res] = tmp\n",
        "    temp = arr[i]%2\n",
        "    i +=1\n",
        "  return arr\n",
        "print(\"///  Test 06: Odd Even Wave  ///\")\n",
        "arr = np.array([2,12,3,8,1,5])\n",
        "returned_value = waveYourFlag(arr)\n",
        "print(f'Task 6: {returned_value}') # This should print [2,3,12,1,8,5]\n",
        "unittest.output_test(returned_value, np.array([2,3,12,1,8,5]))\n",
        "\n",
        "arr = np.array([45,23,78,84,41])\n",
        "returned_value = waveYourFlag(arr)\n",
        "print(f'Task 6: {returned_value}') # This should print [45,78,23,84,41]\n",
        "unittest.output_test(returned_value, np.array([45,78,23,84,41]))"
      ]
    },
    {
      "cell_type": "markdown",
      "metadata": {
        "id": "lfoHP9XrDSof"
      },
      "source": [
        "# Part **2**"
      ]
    },
    {
      "cell_type": "code",
      "execution_count": 3,
      "metadata": {
        "colab": {
          "base_uri": "https://localhost:8080/"
        },
        "id": "yi_9043KC_Ds",
        "outputId": "6c8d22f4-9d04-4113-aa7a-9af81367fa6c"
      },
      "outputs": [
        {
          "name": "stdout",
          "output_type": "stream",
          "text": [
            "10.181818181818182\n",
            "7.960127911260996\n"
          ]
        },
        {
          "ename": "IndexError",
          "evalue": "list assignment index out of range",
          "output_type": "error",
          "traceback": [
            "\u001b[1;31m---------------------------------------------------------------------------\u001b[0m",
            "\u001b[1;31mIndexError\u001b[0m                                Traceback (most recent call last)",
            "\u001b[1;32md:\\CSE220\\CSE220_Lab1\\Lab 1 Linear Array\\Lab01_22101208.ipynb Cell 16\u001b[0m line \u001b[0;36m3\n\u001b[0;32m     <a href='vscode-notebook-cell:/d%3A/CSE220/CSE220_Lab1/Lab%201%20Linear%20Array/Lab01_22101208.ipynb#X21sZmlsZQ%3D%3D?line=34'>35</a>\u001b[0m \u001b[39mprint\u001b[39m(Calc_mean(my_array))\n\u001b[0;32m     <a href='vscode-notebook-cell:/d%3A/CSE220/CSE220_Lab1/Lab%201%20Linear%20Array/Lab01_22101208.ipynb#X21sZmlsZQ%3D%3D?line=35'>36</a>\u001b[0m \u001b[39mprint\u001b[39m(Standard_deviation(my_array))\n\u001b[1;32m---> <a href='vscode-notebook-cell:/d%3A/CSE220/CSE220_Lab1/Lab%201%20Linear%20Array/Lab01_22101208.ipynb#X21sZmlsZQ%3D%3D?line=36'>37</a>\u001b[0m \u001b[39mprint\u001b[39m(New_array_making(my_array))\n",
            "\u001b[1;32md:\\CSE220\\CSE220_Lab1\\Lab 1 Linear Array\\Lab01_22101208.ipynb Cell 16\u001b[0m line \u001b[0;36m2\n\u001b[0;32m     <a href='vscode-notebook-cell:/d%3A/CSE220/CSE220_Lab1/Lab%201%20Linear%20Array/Lab01_22101208.ipynb#X21sZmlsZQ%3D%3D?line=23'>24</a>\u001b[0m \u001b[39mfor\u001b[39;00m i \u001b[39min\u001b[39;00m \u001b[39mrange\u001b[39m(\u001b[39mlen\u001b[39m(array)):\n\u001b[0;32m     <a href='vscode-notebook-cell:/d%3A/CSE220/CSE220_Lab1/Lab%201%20Linear%20Array/Lab01_22101208.ipynb#X21sZmlsZQ%3D%3D?line=24'>25</a>\u001b[0m   \u001b[39mif\u001b[39;00m array[i] \u001b[39m<\u001b[39m final_val \u001b[39mor\u001b[39;00m array[i] \u001b[39m>\u001b[39m initial_val:\n\u001b[1;32m---> <a href='vscode-notebook-cell:/d%3A/CSE220/CSE220_Lab1/Lab%201%20Linear%20Array/Lab01_22101208.ipynb#X21sZmlsZQ%3D%3D?line=25'>26</a>\u001b[0m         new[j]\u001b[39m=\u001b[39marray[i]\n\u001b[0;32m     <a href='vscode-notebook-cell:/d%3A/CSE220/CSE220_Lab1/Lab%201%20Linear%20Array/Lab01_22101208.ipynb#X21sZmlsZQ%3D%3D?line=26'>27</a>\u001b[0m   j\u001b[39m=\u001b[39mj\u001b[39m+\u001b[39m\u001b[39m1\u001b[39m\n\u001b[0;32m     <a href='vscode-notebook-cell:/d%3A/CSE220/CSE220_Lab1/Lab%201%20Linear%20Array/Lab01_22101208.ipynb#X21sZmlsZQ%3D%3D?line=27'>28</a>\u001b[0m \u001b[39mif\u001b[39;00m \u001b[39mlen\u001b[39m(new) \u001b[39m>\u001b[39m \u001b[39m0\u001b[39m:\n",
            "\u001b[1;31mIndexError\u001b[0m: list assignment index out of range"
          ]
        }
      ],
      "source": [
        "#Create a function that will take an array and return the mean of the values\n",
        "def Calc_mean(array):\n",
        "    total = sum(array)\n",
        "    length= len(array)\n",
        "    mean = total / length\n",
        "    return mean\n",
        "def Standard_deviation(array):\n",
        "    value=0\n",
        "    total_value=0\n",
        "    var=0\n",
        "    n=len(array)\n",
        "    mean=Calc_mean(array)\n",
        "    for i in range(len(array)):\n",
        "        value+=(array[i] - mean) ** 2\n",
        "    var=(value / (n - 1)) ** 0.5\n",
        "    return var\n",
        "def New_array_making(array):\n",
        "    mean = np.mean(array)\n",
        "    S= Standard_deviation(array)\n",
        "    initial_val= mean + (1.5 *S)\n",
        "    final_val = mean - (1.5 *S)\n",
        "    new = []\n",
        "    j=0\n",
        "    for i in range(len(array)):\n",
        "      if array[i] < final_val or array[i] > initial_val:\n",
        "            new[j]=array[i]\n",
        "      j=j+1\n",
        "    if len(new) > 0:\n",
        "        return new\n",
        "    else:\n",
        "        return None\n",
        "\n",
        "# my_array = [1,2,3,4,5,6,7,8]\n",
        "my_array = [10, 8, 13, 9, 14, 25, -5, 20, 7, 7, 4]\n",
        "print(Calc_mean(my_array))\n",
        "print(Standard_deviation(my_array))\n",
        "print(New_array_making(my_array))\n",
        "\n"
      ]
    }
  ],
  "metadata": {
    "colab": {
      "provenance": []
    },
    "kernelspec": {
      "display_name": "Python 3",
      "name": "python3"
    },
    "language_info": {
      "codemirror_mode": {
        "name": "ipython",
        "version": 3
      },
      "file_extension": ".py",
      "mimetype": "text/x-python",
      "name": "python",
      "nbconvert_exporter": "python",
      "pygments_lexer": "ipython3",
      "version": "3.11.5"
    }
  },
  "nbformat": 4,
  "nbformat_minor": 0
}
