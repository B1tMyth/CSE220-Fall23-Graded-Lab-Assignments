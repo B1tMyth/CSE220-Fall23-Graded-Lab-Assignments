{
  "cells": [
    {
      "cell_type": "markdown",
      "metadata": {},
      "source": [
        "#### Part 1: \n",
        "#### Task 1: No issues. \n",
        "#### Task 2: No issues. \n",
        "#### Task 3: No major issues. Should have accounted for the case where both cards were 'None'. \n",
        "#### Task 4: No issues. \n",
        "#### Task 5: No issues. \n",
        "#### Bonus Task: No issues. \n",
        "#### Part 2 Task: No issues.  "
      ]
    },
    {
      "cell_type": "code",
      "execution_count": null,
      "metadata": {
        "id": "JT3jGz5ya9wW"
      },
      "outputs": [],
      "source": [
        "# Name: Md. Nazmus Sakib Prantik\n",
        "# ID: 22101863\n",
        "# Section: 10\n",
        "# Course: CSE220\n",
        "# Lab No: 01"
      ]
    },
    {
      "cell_type": "code",
      "execution_count": 10,
      "metadata": {
        "id": "pi_n0okZ1v_O"
      },
      "outputs": [],
      "source": [
        "import numpy as np"
      ]
    },
    {
      "cell_type": "markdown",
      "metadata": {
        "id": "lJl5kEU9s6VF"
      },
      "source": [
        "**Instructions to Follow (Failing to follow these will result mark deductions).**\n",
        "\n",
        "\n",
        "1.   You can not use any built-in function except len()\n",
        "2.   You can not use any other python collections except array (e.g: tuptle, dictionaries etc.).\n",
        "3. We will initialize a new array using numpy library. We have to mention the fixed size during initialization. There might be two approach.\n",
        "\n",
        "  i. arr = np.array([None] * 10) #Initializing an array length 10 with values None.\n",
        "\n",
        "  ii. arr = np.array([10, 20, 30, 40]) #Initializing an array length 4 with the values.\n",
        "4. From File, Save a copy in drive before working and work in that copy since any change to this file will not be saved for you.\n",
        "\n",
        "\n",
        "\n",
        "\n"
      ]
    },
    {
      "cell_type": "code",
      "execution_count": 11,
      "metadata": {
        "colab": {
          "base_uri": "https://localhost:8080/"
        },
        "id": "nAE3YxgdLMa1",
        "outputId": "7a181059-def6-4dbf-9c91-0364822e5922"
      },
      "outputs": [
        {
          "name": "stdout",
          "output_type": "stream",
          "text": [
            "Collecting fhm-unittest\n",
            "  Downloading fhm_unittest-1.0.1-py3-none-any.whl (2.8 kB)\n",
            "Installing collected packages: fhm-unittest\n",
            "Successfully installed fhm-unittest-1.0.1\n",
            "Collecting fuzzywuzzy\n",
            "  Downloading fuzzywuzzy-0.18.0-py2.py3-none-any.whl (18 kB)\n",
            "Installing collected packages: fuzzywuzzy\n",
            "Successfully installed fuzzywuzzy-0.18.0\n"
          ]
        },
        {
          "name": "stderr",
          "output_type": "stream",
          "text": [
            "/usr/local/lib/python3.10/dist-packages/fuzzywuzzy/fuzz.py:11: UserWarning: Using slow pure-python SequenceMatcher. Install python-Levenshtein to remove this warning\n",
            "  warnings.warn('Using slow pure-python SequenceMatcher. Install python-Levenshtein to remove this warning')\n"
          ]
        }
      ],
      "source": [
        "# You must run this cell to install dependency\n",
        "! pip3 install fhm-unittest\n",
        "! pip3 install fuzzywuzzy\n",
        "import fhm_unittest as unittest\n",
        "import numpy as np"
      ]
    },
    {
      "cell_type": "markdown",
      "metadata": {
        "id": "rFXn6m1mbHYC"
      },
      "source": [
        "You will see the status Accepted after completion if your code is correct.\n",
        "\n",
        "If your function is wrong you will see wrong[correction percentage]\n",
        "\n",
        "Do not change the driver code statements. You can only change the input values to test your code."
      ]
    },
    {
      "cell_type": "code",
      "execution_count": null,
      "metadata": {
        "id": "UctRnnf0p-ey"
      },
      "outputs": [],
      "source": [
        "# Part-1"
      ]
    },
    {
      "cell_type": "code",
      "execution_count": 17,
      "metadata": {
        "colab": {
          "base_uri": "https://localhost:8080/"
        },
        "id": "hzdDNKdRahbQ",
        "outputId": "7f9d2d8b-2a34-4ce6-fe00-f6dc95ad491c"
      },
      "outputs": [
        {
          "name": "stdout",
          "output_type": "stream",
          "text": [
            "///  Test 01: Play Right  ///\n",
            "Task 1: [40 50 60 10 20 30]\n"
          ]
        }
      ],
      "source": [
        "# Test 01: Play Right\n",
        "def playRight(sequence, beats):\n",
        "    for i in beats:\n",
        "        if i==1:\n",
        "            temp=sequence[len(sequence)-1]\n",
        "            for j in range(len(sequence)-1,0,-1):\n",
        "                sequence[j]=sequence[j-1]\n",
        "            sequence[0]=temp\n",
        "    return np.array(sequence)\n",
        "\n",
        "print(\"///  Test 01: Play Right  ///\")\n",
        "sequence = np.array([10, 20, 30, 40, 50, 60])\n",
        "beats = np.array([1, 0, 0, 1, 0, 1])\n",
        "returned_value = playRight(sequence, beats)\n",
        "print(f'Task 1: {returned_value}')  # This should print [40, 50, 60, 10, 20, 30]"
      ]
    },
    {
      "cell_type": "code",
      "execution_count": 18,
      "metadata": {
        "colab": {
          "base_uri": "https://localhost:8080/"
        },
        "id": "Ag1wNuXgaoh4",
        "outputId": "edb2fafe-f318-447a-8271-a992c5338e8c"
      },
      "outputs": [
        {
          "name": "stdout",
          "output_type": "stream",
          "text": [
            "///  Test 02: Discard Cards  ///\n",
            "Task 2: [1 3 8 5 7 0 0 0 0]\n",
            "Accepted\n"
          ]
        }
      ],
      "source": [
        "# Test 02: Discard Cards\n",
        "def discardCards(cards,number):\n",
        "    i=0\n",
        "    while i<len(cards):\n",
        "        if cards[i]==number:\n",
        "            for j in range(i,len(cards)-1,1):\n",
        "                cards[j]=cards[j+1]\n",
        "            cards[len(cards)-1]=0\n",
        "        else:\n",
        "            i+=1\n",
        "    return np.array(cards)\n",
        "\n",
        "print(\"///  Test 02: Discard Cards  ///\")\n",
        "cards = np.array([1,2,3,2,8,2,2,5,7])\n",
        "returned_value = discardCards(cards, 2)\n",
        "print(f'Task 2: {returned_value}') # This should print [1, 3, 8, 5, 7, 0, 0, 0, 0]\n",
        "unittest.output_test(returned_value, np.array([1, 3, 8, 5, 7, 0, 0, 0, 0]))"
      ]
    },
    {
      "cell_type": "code",
      "execution_count": 6,
      "metadata": {
        "colab": {
          "base_uri": "https://localhost:8080/"
        },
        "id": "Ene8Dp4vasuN",
        "outputId": "1631fb74-f88e-4de2-9d22-a97540b49ed9"
      },
      "outputs": [
        {
          "name": "stdout",
          "output_type": "stream",
          "text": [
            "///  Test 03: Merge Lineup  ///\n",
            "Task 3: [12  3 28 -8  5]\n",
            "Accepted\n",
            "Task 3: [ 4 17  6 27  2]\n",
            "Accepted\n"
          ]
        }
      ],
      "source": [
        "#Test 03: Merge Lineup\n",
        "def mergeLineup(pokemon_1, pokemon_2):\n",
        "    result = [None]*len(pokemon_1) #this array stores the resulting array\n",
        "    i=0\n",
        "    j=len(pokemon_2)-1\n",
        "    while i!=len(pokemon_1):\n",
        "        new=0\n",
        "        while j>=0:\n",
        "            if pokemon_1[i]==None:\n",
        "                new+=(0+pokemon_2[j])\n",
        "            elif pokemon_2[j]==None:\n",
        "                new+=(pokemon_1[i]+0)\n",
        "            else:\n",
        "                new+=(pokemon_1[i]+pokemon_2[j])\n",
        "            result[i]=new\n",
        "            j-=1\n",
        "            break\n",
        "        i+=1\n",
        "    return np.array(result)\n",
        "\n",
        "print(\"///  Test 03: Merge Lineup  ///\")\n",
        "pokemon_1 = np.array([12, 3, 25, 1, None])\n",
        "pokemon_2 = np.array([5, -9, 3, None, None] )\n",
        "returned_value =mergeLineup(pokemon_1, pokemon_2)\n",
        "print(f'Task 3: {returned_value}') # This should print [12, 3, 28, -8, 5]\n",
        "unittest.output_test(returned_value, np.array([12, 3, 28, -8, 5]))\n",
        "\n",
        "pokemon_1 = np.array([4, 5, -1, None, None])\n",
        "pokemon_2 = np.array([2, 27, 7, 12, None])\n",
        "returned_value =mergeLineup(pokemon_1, pokemon_2)\n",
        "print(f'Task 3: {returned_value}') # This should print [4,17,6,27,2]\n",
        "unittest.output_test(returned_value, np.array([4,17,6,27,2]))"
      ]
    },
    {
      "cell_type": "code",
      "execution_count": 10,
      "metadata": {
        "colab": {
          "base_uri": "https://localhost:8080/"
        },
        "id": "ox9p5qL7axD8",
        "outputId": "045bd878-57c4-45fd-9091-3671e12fa124"
      },
      "outputs": [
        {
          "name": "stdout",
          "output_type": "stream",
          "text": [
            "///  Test 04: Balance Your Salami  ///\n",
            "Task 4: True\n",
            "Accepted\n",
            "Task 4: False\n",
            "Accepted\n",
            "Task 4: True\n",
            "Accepted\n"
          ]
        }
      ],
      "source": [
        "# Test 04: Balance your Salami\n",
        "def balanceSalami(salami):\n",
        "    left=0\n",
        "    right=0\n",
        "    for i in range(len(salami)):\n",
        "      for l in range(0,i+1):\n",
        "          left+=salami[l]\n",
        "      for r in range(i+1,len(salami)):\n",
        "          right+=salami[r]\n",
        "\n",
        "      if left==right:\n",
        "          return True\n",
        "      left=0\n",
        "      right=0\n",
        "    return False\n",
        "\n",
        "print(\"///  Test 04: Balance Your Salami  ///\")\n",
        "salami = np.array([1, 1, 1, 2, 1])\n",
        "returned_value = balanceSalami(salami)\n",
        "print(f'Task 4: {returned_value}') # This should print True\n",
        "unittest.output_test(returned_value, True)\n",
        "\n",
        "salami = [2, 1, 1, 2, 1]\n",
        "returned_value = np.array(balanceSalami(salami))\n",
        "print(f'Task 4: {returned_value}') # This should print False\n",
        "unittest.output_test(returned_value, False)\n",
        "\n",
        "salami = [10, 3, 1, 2, 10]\n",
        "returned_value =  np.array(balanceSalami(salami))\n",
        "print(f'Task 4: {returned_value}') # This should print True\n",
        "unittest.output_test(returned_value, True)"
      ]
    },
    {
      "cell_type": "code",
      "execution_count": 45,
      "metadata": {
        "colab": {
          "base_uri": "https://localhost:8080/"
        },
        "id": "JGIYYUIza-st",
        "outputId": "1656bcae-604d-4448-b5c6-9a30d56a1cac"
      },
      "outputs": [
        {
          "name": "stdout",
          "output_type": "stream",
          "text": [
            "///  Test 05: Protect Salami  ///\n",
            "Task 5: True\n",
            "Accepted\n",
            "Task 5: False\n",
            "Accepted\n"
          ]
        }
      ],
      "source": [
        "# Test 05: Protect Salami\n",
        "def protectSalami(salami):\n",
        "    unq=np.zeros(len(salami),dtype=int)\n",
        "    repeat=np.zeros(len(salami),dtype=int)\n",
        "\n",
        "    for i in range(len(salami)):\n",
        "      if salami[i] not in unq:\n",
        "        unq[i]=salami[i]\n",
        "\n",
        "    for i in range(len(unq)):\n",
        "        if unq[i]!=0:\n",
        "            c=0\n",
        "            for j in salami:\n",
        "                if unq[i]==j:\n",
        "                    c+=1\n",
        "            repeat[i]=c\n",
        "\n",
        "    for i in repeat:\n",
        "        test=0\n",
        "        for j in repeat:\n",
        "            if i!=0 and i!=1 and i==j:\n",
        "                test+=1\n",
        "            if test>1:\n",
        "                return True\n",
        "    return False\n",
        "\n",
        "print(\"///  Test 05: Protect Salami  ///\")\n",
        "salami = np.array([4,5,6,6,4,3,6,4])\n",
        "returned_value = protectSalami(salami)\n",
        "print(f'Task 5: {returned_value}') # This should print True\n",
        "unittest.output_test(returned_value, True)\n",
        "\n",
        "salami = np.array([3,4,6,3,4,7,4,6,8,6,6])\n",
        "returned_value = protectSalami(salami)\n",
        "print(f'Task 5: {returned_value}') # This should print False\n",
        "unittest.output_test(returned_value, False)"
      ]
    },
    {
      "cell_type": "markdown",
      "metadata": {
        "id": "_6RT_GOabsDF"
      },
      "source": [
        "BONUS TASK (Ungraded)"
      ]
    },
    {
      "cell_type": "code",
      "execution_count": 23,
      "metadata": {
        "colab": {
          "base_uri": "https://localhost:8080/"
        },
        "id": "mrxIQ5rBhzPj",
        "outputId": "e212d094-0314-4123-8b9c-ca187da2c571"
      },
      "outputs": [
        {
          "name": "stdout",
          "output_type": "stream",
          "text": [
            "///  Test 06: Odd Even Wave  ///\n",
            "Task 6: [ 2  3 12  1  8  5]\n",
            "Accepted\n",
            "Task 6: [45 78 23 84 41]\n",
            "Accepted\n"
          ]
        }
      ],
      "source": [
        "# Test 06: Odd Even Wave\n",
        "def waveYourFlag(arr):\n",
        "    waveArr=np.zeros(len(arr),dtype=int)\n",
        "    if len(arr)%2==0:\n",
        "        evenArr=np.zeros(len(arr)//2,dtype=int)\n",
        "        oddArr=np.zeros(len(arr)//2,dtype=int)\n",
        "    else:\n",
        "        evenArr=np.zeros((len(arr)//2)+1,dtype=int)\n",
        "        oddArr=np.zeros((len(arr)//2)+1,dtype=int)\n",
        "    waveArr[0]=arr[0]\n",
        "\n",
        "    e=0\n",
        "    o=0\n",
        "    for i in range(1,len(arr)):\n",
        "        if arr[i]%2==0:\n",
        "            evenArr[e]=arr[i]\n",
        "            e+=1\n",
        "        else:\n",
        "            oddArr[o]=arr[i]\n",
        "            o+=1\n",
        "    e=0\n",
        "    o=0\n",
        "    for i in range(1,len(waveArr)):\n",
        "        if waveArr[i-1]%2==0:\n",
        "            waveArr[i]=oddArr[o]\n",
        "            o+=1\n",
        "        else:\n",
        "            waveArr[i]=evenArr[e]\n",
        "            e+=1\n",
        "    return waveArr\n",
        "\n",
        "print(\"///  Test 06: Odd Even Wave  ///\")\n",
        "arr = np.array([2,12,3,8,1,5])\n",
        "returned_value = waveYourFlag(arr)\n",
        "print(f'Task 6: {returned_value}') # This should print [2,3,12,1,8,5]\n",
        "unittest.output_test(returned_value, np.array([2,3,12,1,8,5]))\n",
        "\n",
        "arr = np.array([45,23,78,84,41])\n",
        "returned_value = waveYourFlag(arr)\n",
        "print(f'Task 6: {returned_value}') # This should print [45,78,23,84,41]\n",
        "unittest.output_test(returned_value, np.array([45,78,23,84,41]))"
      ]
    },
    {
      "cell_type": "code",
      "execution_count": null,
      "metadata": {
        "id": "nPA1z9VHpcM4"
      },
      "outputs": [],
      "source": [
        "# Part-2"
      ]
    },
    {
      "cell_type": "code",
      "execution_count": 15,
      "metadata": {
        "colab": {
          "base_uri": "https://localhost:8080/"
        },
        "id": "jZlyiLCvpcU5",
        "outputId": "5fcae1ce-ce8e-4837-9f8a-6038400b67f6"
      },
      "outputs": [
        {
          "name": "stdout",
          "output_type": "stream",
          "text": [
            "Input Array: [10, 8, 13, 9, 14, 25, -5, 20, 7, 7, 4]\n",
            "The mean of the numbers is: 10.181818181818182\n",
            "The standard deviation is: 7.96\n",
            "New array: [25 -5]\n"
          ]
        }
      ],
      "source": [
        "#Playing With Array and Probability Theory:\n",
        "\n",
        "inp=[10,8,13,9,14,25,-5,20,7,7,4]\n",
        "print(\"Input Array:\",inp)\n",
        "\n",
        "def average(arr1):\n",
        "    store=0\n",
        "    for i in arr1:\n",
        "        store+=i\n",
        "    avg=store/len(arr1)\n",
        "    return avg\n",
        "\n",
        "print(\"The mean of the numbers is:\",average(inp))\n",
        "\n",
        "def SD(arr1,avg):\n",
        "    total=0\n",
        "    for i in arr1:\n",
        "        total+=(avg-i)**2\n",
        "    sd=total/(len(arr1)-1)\n",
        "    sdFinal=sd**(1/2)\n",
        "\n",
        "    sdFinal=round(sdFinal,2)\n",
        "    return sdFinal\n",
        "\n",
        "print(\"The standard deviation is:\",SD(inp,average(inp)))\n",
        "\n",
        "def newArray(avg,sdFinal,arr1):\n",
        "    away=sdFinal*1.5\n",
        "    range1=avg+away\n",
        "    range2=avg-away\n",
        "    counter=0\n",
        "    for i in arr1:\n",
        "        if i<range2 or i>range1:\n",
        "            counter+=1\n",
        "\n",
        "    newArr=np.zeros(counter,dtype=int)\n",
        "    a=0\n",
        "    for i in arr1:\n",
        "        if i<range2 or i>range1:\n",
        "            newArr[a]=i\n",
        "            a+=1\n",
        "\n",
        "    if len(newArr)!=0:\n",
        "        return newArr\n",
        "    else:\n",
        "        return None\n",
        "\n",
        "print(\"New array:\",newArray(average(inp),SD(inp,average(inp)),inp))"
      ]
    }
  ],
  "metadata": {
    "colab": {
      "provenance": []
    },
    "kernelspec": {
      "display_name": "Python 3",
      "name": "python3"
    },
    "language_info": {
      "name": "python"
    }
  },
  "nbformat": 4,
  "nbformat_minor": 0
}
