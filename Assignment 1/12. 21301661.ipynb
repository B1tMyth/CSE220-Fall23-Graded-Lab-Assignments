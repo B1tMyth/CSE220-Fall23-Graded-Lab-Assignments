{
  "cells": [
    {
      "cell_type": "markdown",
      "metadata": {},
      "source": [
        "#### Part 1: \n",
        "#### Task 1: No issues apart from the usage of negative indexing in one iteration. \n",
        "#### Task 2: No issues. \n",
        "#### Task 3: No issues. \n",
        "#### Task 4: No issues. \n",
        "#### Task 5: No issues. \n",
        "#### Bonus Task: Almost correct algorithm. Used list concatenation. \n",
        "#### Part 2 Task: No major issues. Used list concatenation. "
      ]
    },
    {
      "cell_type": "code",
      "execution_count": 2,
      "metadata": {
        "id": "pi_n0okZ1v_O"
      },
      "outputs": [],
      "source": [
        "import numpy as np"
      ]
    },
    {
      "cell_type": "markdown",
      "metadata": {
        "id": "lJl5kEU9s6VF"
      },
      "source": [
        "**Instructions to Follow (Failing to follow these will result mark deductions).**\n",
        "\n",
        "\n",
        "1.   You can not use any built-in function except len()\n",
        "2.   You can not use any other python collections except array (e.g: tuptle, dictionaries etc.).\n",
        "3. We will initialize a new array using numpy library. We have to mention the fixed size during initialization. There might be two approach.\n",
        "\n",
        "  i. arr = np.array([None] * 10) #Initializing an array length 10 with values None.\n",
        "\n",
        "  ii. arr = np.array([10, 20, 30, 40]) #Initializing an array length 4 with the values.\n",
        "4. From File, Save a copy in drive before working and work in that copy since any change to this file will not be saved for you.\n",
        "\n",
        "\n",
        "\n",
        "\n"
      ]
    },
    {
      "cell_type": "code",
      "execution_count": 1,
      "metadata": {
        "colab": {
          "base_uri": "https://localhost:8080/"
        },
        "id": "nAE3YxgdLMa1",
        "outputId": "0bbb9bd6-a244-4d71-decf-e5201b70b59d"
      },
      "outputs": [
        {
          "name": "stdout",
          "output_type": "stream",
          "text": [
            "Collecting fhm-unittest\n",
            "  Downloading fhm_unittest-1.0.1-py3-none-any.whl (2.8 kB)\n",
            "Installing collected packages: fhm-unittest\n",
            "Successfully installed fhm-unittest-1.0.1\n",
            "Collecting fuzzywuzzy\n",
            "  Downloading fuzzywuzzy-0.18.0-py2.py3-none-any.whl (18 kB)\n",
            "Installing collected packages: fuzzywuzzy\n",
            "Successfully installed fuzzywuzzy-0.18.0\n"
          ]
        },
        {
          "name": "stderr",
          "output_type": "stream",
          "text": [
            "/usr/local/lib/python3.10/dist-packages/fuzzywuzzy/fuzz.py:11: UserWarning: Using slow pure-python SequenceMatcher. Install python-Levenshtein to remove this warning\n",
            "  warnings.warn('Using slow pure-python SequenceMatcher. Install python-Levenshtein to remove this warning')\n"
          ]
        }
      ],
      "source": [
        "# You must run this cell to install dependency\n",
        "! pip3 install fhm-unittest\n",
        "! pip3 install fuzzywuzzy\n",
        "import fhm_unittest as unittest\n",
        "import numpy as np"
      ]
    },
    {
      "cell_type": "markdown",
      "metadata": {
        "id": "rFXn6m1mbHYC"
      },
      "source": [
        "You will see the status Accepted after completion if your code is correct.\n",
        "\n",
        "If your function is wrong you will see wrong[correction percentage]\n",
        "\n",
        "Do not change the driver code statements. You can only change the input values to test your code."
      ]
    },
    {
      "cell_type": "code",
      "execution_count": null,
      "metadata": {
        "colab": {
          "base_uri": "https://localhost:8080/"
        },
        "id": "hzdDNKdRahbQ",
        "outputId": "bcf79156-e16f-482f-a3af-761566074ea9"
      },
      "outputs": [
        {
          "name": "stdout",
          "output_type": "stream",
          "text": [
            "///  Test 01: Play Right  ///\n",
            "Task 1: [40 50 60 10 20 30]\n"
          ]
        }
      ],
      "source": [
        "# Test 01: Play Right\n",
        "def playRight(sequence, beats):\n",
        "  for i in range(len(beats)):\n",
        "    if beats[i] == 1:\n",
        "      value=sequence[len(sequence)-1]\n",
        "      for j in range(len(sequence)-1,-1,-1):\n",
        "        sequence[j]=sequence[j-1]\n",
        "      sequence[0]=value\n",
        "  return sequence\n",
        "\n",
        "\n",
        "\n",
        "print(\"///  Test 01: Play Right  ///\")\n",
        "sequence = np.array([10, 20, 30, 40, 50, 60])\n",
        "beats = np.array([1, 0, 0, 1, 0, 1])\n",
        "returned_value = playRight(sequence, beats)\n",
        "print(f'Task 1: {returned_value}')  # This should print [40, 50, 60, 10, 20, 30]"
      ]
    },
    {
      "cell_type": "code",
      "execution_count": 7,
      "metadata": {
        "colab": {
          "base_uri": "https://localhost:8080/"
        },
        "id": "Ag1wNuXgaoh4",
        "outputId": "52451273-ddf4-492f-cc0a-a71796d62c6d"
      },
      "outputs": [
        {
          "name": "stdout",
          "output_type": "stream",
          "text": [
            "///  Test 02: Discard Cards  ///\n",
            "Task 2: [1 3 8 5 7 0 0 0 0]\n"
          ]
        }
      ],
      "source": [
        "# Test 02: Discard Cards\n",
        "def discardCards(cards,number):\n",
        "  idx = 0\n",
        "  size = 0\n",
        "  for i in cards:\n",
        "    if i != 0:\n",
        "      size+=1\n",
        "  temp = size\n",
        "  while True:\n",
        "    if idx == size:\n",
        "      break\n",
        "    if cards[idx] == number:\n",
        "      temp-=1\n",
        "      for i in range(idx,temp):\n",
        "        cards[i] = cards[i+1]\n",
        "      cards[temp] = 0\n",
        "    else:\n",
        "      idx+=1\n",
        "\n",
        "  return cards\n",
        "\n",
        "print(\"///  Test 02: Discard Cards  ///\")\n",
        "cards = np.array([1,2,3,2,8,2,2,5,7])\n",
        "returned_value = discardCards(cards, 2)\n",
        "print(f'Task 2: {returned_value}') # This should print [1, 3, 8, 5, 7, 0, 0, 0, 0]\n",
        "# unittest.output_test(returned_value, np.array([1, 3, 8, 5, 7, 0, 0, 0, 0]))"
      ]
    },
    {
      "cell_type": "code",
      "execution_count": null,
      "metadata": {
        "colab": {
          "base_uri": "https://localhost:8080/"
        },
        "id": "Ene8Dp4vasuN",
        "outputId": "8a75be5a-e45f-4d50-90fc-054c227c385f"
      },
      "outputs": [
        {
          "name": "stdout",
          "output_type": "stream",
          "text": [
            "///  Test 03: Merge Lineup  ///\n",
            "Task 3: [12  3 28 -8  5]\n",
            "Accepted\n",
            "Task 3: [ 4 17  6 27  2]\n",
            "Accepted\n"
          ]
        }
      ],
      "source": [
        "#Test 03: Merge Lineup\n",
        "def mergeLineup(pokemon_1, pokemon_2):\n",
        "  result = [None]*len(pokemon_1) #this array stores the resulting array\n",
        "  i=0\n",
        "  j=len(pokemon_2)-1\n",
        "  for a in range(len(pokemon_1)):\n",
        "    if pokemon_1[i] == None:\n",
        "      pokemon_1[i]=0\n",
        "    if pokemon_2[j] == None:\n",
        "      pokemon_2[j]=0\n",
        "    v=pokemon_1[i]+pokemon_2[j]\n",
        "    result[i]=v\n",
        "    i+=1\n",
        "    j-=1\n",
        "  result=np.array(result)\n",
        "  return result\n",
        "\n",
        "\n",
        "print(\"///  Test 03: Merge Lineup  ///\")\n",
        "pokemon_1 = np.array([12, 3, 25, 1, None])\n",
        "pokemon_2 = np.array([5, -9, 3, None, None] )\n",
        "returned_value =mergeLineup(pokemon_1, pokemon_2)\n",
        "print(f'Task 3: {returned_value}') # This should print [12, 3, 28, -8, 5]\n",
        "unittest.output_test(returned_value, np.array([12, 3, 28, -8, 5]))\n",
        "\n",
        "pokemon_1 = np.array([4, 5, -1, None, None])\n",
        "pokemon_2 = np.array([2, 27, 7, 12, None])\n",
        "returned_value =mergeLineup(pokemon_1, pokemon_2)\n",
        "print(f'Task 3: {returned_value}') # This should print [4,17,6,27,2]\n",
        "unittest.output_test(returned_value, np.array([4,17,6,27,2]))"
      ]
    },
    {
      "cell_type": "code",
      "execution_count": 2,
      "metadata": {
        "colab": {
          "base_uri": "https://localhost:8080/"
        },
        "id": "ox9p5qL7axD8",
        "outputId": "e17d7e7b-a54c-4e34-fe70-3f8753c5783d"
      },
      "outputs": [
        {
          "name": "stdout",
          "output_type": "stream",
          "text": [
            "///  Test 04: Balance Your Salami  ///\n",
            "Task 4: True\n",
            "Accepted\n",
            "Task 4: False\n",
            "Accepted\n",
            "Task 4: True\n",
            "Accepted\n"
          ]
        }
      ],
      "source": [
        "# Test 04: Balance your Salami\n",
        "def balanceSalami(salami):\n",
        "  for i in range(0,len(salami)):\n",
        "    sum1 = 0\n",
        "    sum2 = 0\n",
        "    if i != len(salami)-1:\n",
        "      for j in range(0,i+1):\n",
        "        sum1 = sum1 + salami[j]\n",
        "      for k in range(i+1,len(salami)):\n",
        "        sum2 = sum2 + salami[k]\n",
        "      if sum1 == sum2:\n",
        "        return True\n",
        "    else:\n",
        "      return False\n",
        "\n",
        "\n",
        "print(\"///  Test 04: Balance Your Salami  ///\")\n",
        "salami = np.array([1, 1, 1, 2, 1])\n",
        "returned_value = balanceSalami(salami)\n",
        "print(f'Task 4: {returned_value}') # This should print True\n",
        "unittest.output_test(returned_value, True)\n",
        "\n",
        "salami = [2, 1, 1, 2, 1]\n",
        "returned_value = np.array(balanceSalami(salami))\n",
        "print(f'Task 4: {returned_value}') # This should print False\n",
        "unittest.output_test(returned_value, False)\n",
        "\n",
        "salami = [10, 3, 1, 2, 10]\n",
        "returned_value =  np.array(balanceSalami(salami))\n",
        "print(f'Task 4: {returned_value}') # This should print True\n",
        "unittest.output_test(returned_value, True)"
      ]
    },
    {
      "cell_type": "code",
      "execution_count": 9,
      "metadata": {
        "colab": {
          "base_uri": "https://localhost:8080/"
        },
        "id": "JGIYYUIza-st",
        "outputId": "077e84c3-e519-4d95-d01b-a75f2451a4bf"
      },
      "outputs": [
        {
          "name": "stdout",
          "output_type": "stream",
          "text": [
            "///  Test 05: Protecc Salami  ///\n",
            "Task 5: True\n",
            "Task 5: False\n"
          ]
        }
      ],
      "source": [
        "# Test 05: Protecc Salami\n",
        "def protectSalami(salami):\n",
        "\n",
        "  copy_array=[1]*len(salami)\n",
        "  for i in range(len(salami)):\n",
        "    for k in range(i+1,len(salami)):\n",
        "      if copy_array[k]==0:\n",
        "        pass\n",
        "\n",
        "      elif salami[i]==salami[k]:\n",
        "        copy_array[i]+=1\n",
        "        copy_array[k]=0\n",
        "\n",
        "  for i in range(len(copy_array)):\n",
        "    if copy_array[i]<=1:\n",
        "      pass\n",
        "\n",
        "    else:\n",
        "      for j in range(i+1,len(copy_array)):\n",
        "        if copy_array[i]==copy_array[j]:\n",
        "          return True\n",
        "  return False\n",
        "\n",
        "\n",
        "print(\"///  Test 05: Protecc Salami  ///\")\n",
        "salami = np.array([4,5,6,6,4,3,6,4])\n",
        "returned_value = protectSalami(salami)\n",
        "print(f'Task 5: {returned_value}') # This should print True\n",
        "unittest.output_test(returned_value, True)\n",
        "\n",
        "salami = np.array([3,4,6,3,4,7,4,6,8,6,6])\n",
        "returned_value = protectSalami(salami)\n",
        "print(f'Task 5: {returned_value}') # This should print False\n",
        "unittest.output_test(returned_value, False)"
      ]
    },
    {
      "cell_type": "markdown",
      "metadata": {
        "id": "_6RT_GOabsDF"
      },
      "source": [
        "BONUS TASK (Ungraded)"
      ]
    },
    {
      "cell_type": "code",
      "execution_count": 5,
      "metadata": {
        "colab": {
          "base_uri": "https://localhost:8080/"
        },
        "id": "mrxIQ5rBhzPj",
        "outputId": "bf721b7b-7b74-442a-df99-54b7ff94e434"
      },
      "outputs": [
        {
          "name": "stdout",
          "output_type": "stream",
          "text": [
            "///  Test 06: Odd Even Wave  ///\n",
            "Task 6: [ 2  3 12  1  8  5]\n",
            "Accepted\n",
            "Task 6: [78 45 84 23 41]\n",
            "Not Accepted [Your output: [78 45 84 23 41]  |  Expected Output: [45 78 23 84 41]]\n"
          ]
        }
      ],
      "source": [
        "# Test 06: Odd Even Wave\n",
        "def waveYourFlag(arr):\n",
        "    even_numbers = [num for num in arr if num % 2 == 0]\n",
        "    odd_numbers = [num for num in arr if num % 2 != 0]\n",
        "\n",
        "\n",
        "    result_array = []\n",
        "\n",
        "    i = 0\n",
        "    j = 0\n",
        "    len1 = len(even_numbers)\n",
        "    len2 = len(odd_numbers)\n",
        "\n",
        "    while i < len1 or j < len2:\n",
        "        if i < len1:\n",
        "            result_array += [even_numbers[i]]\n",
        "            i += 1\n",
        "        if j < len2:\n",
        "            result_array += [odd_numbers[j]]\n",
        "            j += 1\n",
        "    result_array=np.array(result_array)\n",
        "    return result_array\n",
        "\n",
        "\n",
        "print(\"///  Test 06: Odd Even Wave  ///\")\n",
        "arr = np.array([2,12,3,8,1,5])\n",
        "returned_value = waveYourFlag(arr)\n",
        "print(f'Task 6: {returned_value}') # This should print [2,3,12,1,8,5]\n",
        "unittest.output_test(returned_value, np.array([2,3,12,1,8,5]))\n",
        "\n",
        "arr = np.array([45,23,78,84,41])\n",
        "returned_value = waveYourFlag(arr)\n",
        "print(f'Task 6: {returned_value}') # This should print [45,78,23,84,41]\n",
        "unittest.output_test(returned_value, np.array([45,78,23,84,41]))"
      ]
    },
    {
      "cell_type": "code",
      "execution_count": null,
      "metadata": {
        "id": "s8WR3t3HUKbu"
      },
      "outputs": [],
      "source": [
        "# part 2"
      ]
    },
    {
      "cell_type": "code",
      "execution_count": 11,
      "metadata": {
        "colab": {
          "base_uri": "https://localhost:8080/"
        },
        "id": "F8PJ_2MxUP9U",
        "outputId": "25840355-4f47-41ff-8012-bd8631be77e3"
      },
      "outputs": [
        {
          "name": "stdout",
          "output_type": "stream",
          "text": [
            "The mean of the numbers is: 10.181818181818182\n",
            "The standard deviation is: 7.96\n",
            "New array: [25, -5]\n"
          ]
        }
      ],
      "source": [
        "def mean(arr):\n",
        "  sum = 0\n",
        "  n = 0\n",
        "  for i in arr:\n",
        "    sum = sum + i\n",
        "    n += 1\n",
        "  mean = sum/n\n",
        "  return mean\n",
        "\n",
        "def Standard_Deviation(arr,mean):\n",
        "  n = len(arr)\n",
        "  sd_sum = 0\n",
        "  for i in arr:\n",
        "    temp = (i-mean)**2\n",
        "    sd_sum = sd_sum + temp\n",
        "  sd = (sd_sum/(n-1))**0.5\n",
        "  return sd\n",
        "\n",
        "def new_array(arr,sd):\n",
        "  arr2 = [0]*len(arr)\n",
        "  idx = 0\n",
        "  for i in arr:\n",
        "    if (i-mean)/sd >= 1.5:\n",
        "      arr2[idx] = i\n",
        "      idx+=1\n",
        "    if (mean-i)/sd >= 1.5:\n",
        "      arr2[idx] = i\n",
        "      idx+=1\n",
        "  non_zero_elements = []\n",
        "  for elem in arr2:\n",
        "    if elem != 0:\n",
        "        non_zero_elements += [elem]\n",
        "\n",
        "  if len(non_zero_elements) > 0:\n",
        "    arr3 = []\n",
        "    for i in range(len(non_zero_elements)):\n",
        "        arr3 += [non_zero_elements[i]]\n",
        "\n",
        "    return arr3\n",
        "  else:\n",
        "    return None\n",
        "arr = [10, 8, 13, 9, 14, 25, -5, 20, 7, 7, 4]\n",
        "mean = mean(arr)\n",
        "sd = Standard_Deviation(arr,mean)\n",
        "new = new_array(arr,sd)\n",
        "\n",
        "print(f'The mean of the numbers is: {mean}')\n",
        "print(f'The standard deviation is: {\"%.2f\"%sd}')\n",
        "print(f'New array: {new}')"
      ]
    }
  ],
  "metadata": {
    "colab": {
      "provenance": []
    },
    "kernelspec": {
      "display_name": "Python 3",
      "name": "python3"
    },
    "language_info": {
      "codemirror_mode": {
        "name": "ipython",
        "version": 3
      },
      "file_extension": ".py",
      "mimetype": "text/x-python",
      "name": "python",
      "nbconvert_exporter": "python",
      "pygments_lexer": "ipython3",
      "version": "3.11.5"
    }
  },
  "nbformat": 4,
  "nbformat_minor": 0
}
