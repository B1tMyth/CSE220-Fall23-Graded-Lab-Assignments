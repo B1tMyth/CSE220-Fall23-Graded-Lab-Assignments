{
  "cells": [
    {
      "cell_type": "markdown",
      "metadata": {},
      "source": [
        "#### Part 1: \n",
        "#### Task 1: No issues apart from a single instance of negative indexing in the iteration. \n",
        "#### Task 2: No issues.  \n",
        "#### Task 3: No issues. \n",
        "#### Task 4: No issues. \n",
        "#### Task 5: No issues. \n",
        "#### Bonus Task: Not attempted. \n",
        "#### Part 2 Task: The question was to compute the elements beyond the standard deviation but elements within the standard deviation was computed instead. Population standard deviation was used instead of sample standard deviation. All other implementations were correct.  "
      ]
    },
    {
      "cell_type": "code",
      "execution_count": null,
      "metadata": {
        "id": "P9qMDuWjcsXp"
      },
      "outputs": [],
      "source": [
        "https://drive.google.com/drive/folders/1tMzcDZxXMAry2mgSmgyWO1DL-kD7pE3z"
      ]
    },
    {
      "cell_type": "markdown",
      "metadata": {
        "id": "lJl5kEU9s6VF"
      },
      "source": [
        "**Instructions to Follow (Failing to follow these will result mark deductions).**\n",
        "\n",
        "\n",
        "1.   You can not use any built-in function except len()\n",
        "2.   You can not use any other python collections except array (e.g: tuptle, dictionaries etc.).\n",
        "3. We will initialize a new array using numpy library. We have to mention the fixed size during initialization. There might be two approach.\n",
        "\n",
        "  i. arr = np.array([None] * 10) #Initializing an array length 10 with values None.\n",
        "\n",
        "  ii. arr = np.array([10, 20, 30, 40]) #Initializing an array length 4 with the values.\n",
        "4. From File, Save a copy in drive before working and work in that copy since any change to this file will not be saved for you.\n",
        "\n",
        "\n",
        "\n",
        "\n"
      ]
    },
    {
      "cell_type": "code",
      "execution_count": 2,
      "metadata": {
        "colab": {
          "base_uri": "https://localhost:8080/"
        },
        "id": "nAE3YxgdLMa1",
        "outputId": "5aa131dc-7615-426d-b44f-fd564c1c66b0"
      },
      "outputs": [
        {
          "name": "stdout",
          "output_type": "stream",
          "text": [
            "Collecting fhm-unittest\n",
            "  Downloading fhm_unittest-1.0.1-py3-none-any.whl (2.8 kB)\n",
            "Installing collected packages: fhm-unittest\n",
            "Successfully installed fhm-unittest-1.0.1\n",
            "Collecting fuzzywuzzy\n",
            "  Downloading fuzzywuzzy-0.18.0-py2.py3-none-any.whl (18 kB)\n",
            "Installing collected packages: fuzzywuzzy\n",
            "Successfully installed fuzzywuzzy-0.18.0\n"
          ]
        },
        {
          "name": "stderr",
          "output_type": "stream",
          "text": [
            "/usr/local/lib/python3.10/dist-packages/fuzzywuzzy/fuzz.py:11: UserWarning: Using slow pure-python SequenceMatcher. Install python-Levenshtein to remove this warning\n",
            "  warnings.warn('Using slow pure-python SequenceMatcher. Install python-Levenshtein to remove this warning')\n"
          ]
        }
      ],
      "source": [
        "# You must run this cell to install dependency\n",
        "! pip3 install fhm-unittest\n",
        "! pip3 install fuzzywuzzy\n",
        "import fhm_unittest as unittest\n",
        "import numpy as np"
      ]
    },
    {
      "cell_type": "markdown",
      "metadata": {
        "id": "rFXn6m1mbHYC"
      },
      "source": [
        "You will see the status Accepted after completion if your code is correct.\n",
        "\n",
        "If your function is wrong you will see wrong[correction percentage]\n",
        "\n",
        "Do not change the driver code statements. You can only change the input values to test your code."
      ]
    },
    {
      "cell_type": "code",
      "execution_count": null,
      "metadata": {
        "colab": {
          "base_uri": "https://localhost:8080/"
        },
        "id": "hzdDNKdRahbQ",
        "outputId": "6e436a5b-e80c-4501-c4fb-25598a6dbbaa"
      },
      "outputs": [
        {
          "name": "stdout",
          "output_type": "stream",
          "text": [
            "///  Test 01: Play Right  ///\n",
            "Task 1: [40 50 60 10 20 30]\n"
          ]
        }
      ],
      "source": [
        "# Test 01: Play Right\n",
        "def playRight(sequence, beats):\n",
        "    def rightrotate():\n",
        "      last=sequence[len(sequence)-1] # did not work in line before sequence[j]=sequence[j-1]\n",
        "      for j in range(len(sequence)-1, -1, -1): # not [0,1,2,3,4,5] but [5,4,3,2,1,0]\n",
        "        # last=sequence[len(sequence)-1] does not work here\n",
        "        sequence[j]=sequence[j-1]\n",
        "      sequence[0]=last\n",
        "    for i in beats:\n",
        "      if i==1:\n",
        "        rightrotate()\n",
        "    return sequence\n",
        "\n",
        "print(\"///  Test 01: Play Right  ///\")\n",
        "\n",
        "import numpy as np\n",
        "sequence = np.array([10, 20, 30, 40, 50, 60])\n",
        "beats = np.array([1, 0, 0, 1, 0, 1])\n",
        "returned_value = playRight(sequence, beats)\n",
        "print(f'Task 1: {returned_value}')  # This should print [40, 50, 60, 10, 20, 30]"
      ]
    },
    {
      "cell_type": "code",
      "execution_count": 2,
      "metadata": {
        "colab": {
          "base_uri": "https://localhost:8080/"
        },
        "id": "Ag1wNuXgaoh4",
        "outputId": "5fe1b4e5-8f07-447f-8ed0-b85d33381219"
      },
      "outputs": [
        {
          "name": "stdout",
          "output_type": "stream",
          "text": [
            "///  Test 02: Discard Cards  ///\n",
            "Task 2: [1 1 3 3 4 5 6 6 7 8 5 4 7 0 0 0 0 0 0 0 0 0 0 0]\n"
          ]
        },
        {
          "ename": "NameError",
          "evalue": "name 'unittest' is not defined",
          "output_type": "error",
          "traceback": [
            "\u001b[1;31m---------------------------------------------------------------------------\u001b[0m",
            "\u001b[1;31mNameError\u001b[0m                                 Traceback (most recent call last)",
            "\u001b[1;32md:\\CSE220\\CSE220_Lab1\\Lab 1 Linear Array\\Lab01_22101014.ipynb Cell 7\u001b[0m line \u001b[0;36m2\n\u001b[0;32m     <a href='vscode-notebook-cell:/d%3A/CSE220/CSE220_Lab1/Lab%201%20Linear%20Array/Lab01_22101014.ipynb#W5sZmlsZQ%3D%3D?line=25'>26</a>\u001b[0m returned_value \u001b[39m=\u001b[39m discardCards(cards, \u001b[39m2\u001b[39m)\n\u001b[0;32m     <a href='vscode-notebook-cell:/d%3A/CSE220/CSE220_Lab1/Lab%201%20Linear%20Array/Lab01_22101014.ipynb#W5sZmlsZQ%3D%3D?line=26'>27</a>\u001b[0m \u001b[39mprint\u001b[39m(\u001b[39mf\u001b[39m\u001b[39m'\u001b[39m\u001b[39mTask 2: \u001b[39m\u001b[39m{\u001b[39;00mreturned_value\u001b[39m}\u001b[39;00m\u001b[39m'\u001b[39m) \u001b[39m# This should print [1, 3, 8, 5, 7, 0, 0, 0, 0]\u001b[39;00m\n\u001b[1;32m---> <a href='vscode-notebook-cell:/d%3A/CSE220/CSE220_Lab1/Lab%201%20Linear%20Array/Lab01_22101014.ipynb#W5sZmlsZQ%3D%3D?line=27'>28</a>\u001b[0m unittest\u001b[39m.\u001b[39moutput_test(returned_value, np\u001b[39m.\u001b[39marray([\u001b[39m1\u001b[39m, \u001b[39m3\u001b[39m, \u001b[39m8\u001b[39m, \u001b[39m5\u001b[39m, \u001b[39m7\u001b[39m, \u001b[39m0\u001b[39m, \u001b[39m0\u001b[39m, \u001b[39m0\u001b[39m, \u001b[39m0\u001b[39m]))\n",
            "\u001b[1;31mNameError\u001b[0m: name 'unittest' is not defined"
          ]
        }
      ],
      "source": [
        "# Test 02: Discard Cards\n",
        "def discardCards(cards,number):\n",
        "  size=0\n",
        "  for i in cards:\n",
        "    if i!=0:\n",
        "      size+=1\n",
        "  tb_zero_idx=size-1\n",
        "\n",
        "  # tb_zero_idx pass na korle keno kaaj hocchena ?\n",
        "  def edited(start,stop,tb_zero_idx):\n",
        "    for current_idx in range(start,stop):\n",
        "      if cards[current_idx]==number:\n",
        "        for x in range(current_idx+1,stop): # eikhane index niya ja korsi : loop current_idx er por theke start disi\n",
        "          cards[x-1]=cards[x] # ar replace korte start korsi loop er first er agerta theke, emne last e giya pech lagbe na\n",
        "        cards[tb_zero_idx]=0\n",
        "        tb_zero_idx-=1\n",
        "        while cards[current_idx]==number:\n",
        "          edited(current_idx,stop,tb_zero_idx)\n",
        "\n",
        "  edited(0,len(cards),tb_zero_idx)\n",
        "\n",
        "  return cards\n",
        "print(\"///  Test 02: Discard Cards  ///\")\n",
        "cards = np.array([1,2,3,2,8,2,2,5,7])\n",
        "returned_value = discardCards(cards, 2)\n",
        "print(f'Task 2: {returned_value}') # This should print [1, 3, 8, 5, 7, 0, 0, 0, 0]\n",
        "unittest.output_test(returned_value, np.array([1, 3, 8, 5, 7, 0, 0, 0, 0]))"
      ]
    },
    {
      "cell_type": "code",
      "execution_count": 28,
      "metadata": {
        "colab": {
          "base_uri": "https://localhost:8080/"
        },
        "id": "Ene8Dp4vasuN",
        "outputId": "17f04e6f-c2e9-4d89-ed14-07624b1d57e2"
      },
      "outputs": [
        {
          "name": "stdout",
          "output_type": "stream",
          "text": [
            "///  Test 03: Merge Lineup  ///\n",
            "[12, 3, 28, -8, 5]\n",
            "Task 3: [12  3 28 -8  5]\n",
            "Accepted\n",
            "[4, 17, 6, 27, 2]\n",
            "Task 3: [ 4 17  6 27  2]\n",
            "Accepted\n"
          ]
        }
      ],
      "source": [
        "#Test 03: Merge Lineup\n",
        "def mergeLineup(pokemon_1, pokemon_2):\n",
        "  newhps = [None]*len(pokemon_1) #this array stores the resulting array\n",
        "\n",
        "  for i in range(0,len(newhps)):\n",
        "    if pokemon_1[i]==None:\n",
        "      pokemon_1[i]=0\n",
        "    if pokemon_2[len(pokemon_2)-1-i]==None:\n",
        "      pokemon_2[len(pokemon_2)-1-i]=0\n",
        "\n",
        "    newhps[i]=pokemon_1[i]+pokemon_2[len(pokemon_2)-1-i]\n",
        "\n",
        "  print(f'{newhps}')\n",
        "  return np.array(newhps)\n",
        "\n",
        "print(\"///  Test 03: Merge Lineup  ///\")\n",
        "pokemon_1 = np.array([12, 3, 25, 1, None])\n",
        "pokemon_2 = np.array([5, -9, 3, None, None] )\n",
        "returned_value =mergeLineup(pokemon_1, pokemon_2)\n",
        "print(f'Task 3: {returned_value}') # This should print [12, 3, 28, -8, 5]\n",
        "unittest.output_test(returned_value, np.array([12, 3, 28, -8, 5]))\n",
        "\n",
        "pokemon_1 = np.array([4, 5, -1, None, None])\n",
        "pokemon_2 = np.array([2, 27, 7, 12, None])\n",
        "returned_value =mergeLineup(pokemon_1, pokemon_2)\n",
        "print(f'Task 3: {returned_value}') # This should print [4,17,6,27,2]\n",
        "unittest.output_test(returned_value, np.array([4,17,6,27,2]))"
      ]
    },
    {
      "cell_type": "code",
      "execution_count": null,
      "metadata": {
        "colab": {
          "base_uri": "https://localhost:8080/"
        },
        "id": "ox9p5qL7axD8",
        "outputId": "038f6d56-1c6b-4d50-e228-6c7490d8cf0e"
      },
      "outputs": [
        {
          "name": "stdout",
          "output_type": "stream",
          "text": [
            "///  Test 04: Balance Your Salami  ///\n",
            "Task 4: True\n",
            "Accepted\n",
            "Task 4: False\n",
            "Accepted\n",
            "Task 4: True\n",
            "Accepted\n"
          ]
        }
      ],
      "source": [
        "# Test 04: Balance your Salami\n",
        "def balanceSalami(salami):\n",
        "  def sum_array(arr):\n",
        "    sum=0\n",
        "    for i in arr:\n",
        "      sum+=i\n",
        "    return sum\n",
        "  for i in range(1,len(salami)):\n",
        "    sum1=sum_array(salami[0:i]) # Check next cell to understand this\n",
        "    sum2=sum_array(salami[i:len(salami)])\n",
        "    if sum1==sum2:\n",
        "      return True\n",
        "  return False\n",
        "\n",
        "  # by using total sum\n",
        "  # ttl=sum(salami)\n",
        "  # for i in range(1,len(salami)):\n",
        "  #   sum1=sum(salami[0:i])\n",
        "  #   sum2=ttl-sum1 # salami[i:len(salami)]\n",
        "  #   if sum1==sum2:\n",
        "  #     return True\n",
        "  # return False\n",
        "\n",
        "#  return np.array(salami)\n",
        "\n",
        "print(\"///  Test 04: Balance Your Salami  ///\")\n",
        "salami = np.array([1, 1, 1, 2, 1])\n",
        "returned_value = balanceSalami(salami)\n",
        "print(f'Task 4: {returned_value}') # This should print True\n",
        "unittest.output_test(returned_value, True)\n",
        "\n",
        "salami = [2, 1, 1, 2, 1]\n",
        "returned_value = np.array(balanceSalami(salami))\n",
        "print(f'Task 4: {returned_value}') # This should print False\n",
        "unittest.output_test(returned_value, False)\n",
        "\n",
        "salami = [10, 3, 1, 2, 10]\n",
        "returned_value =  np.array(balanceSalami(salami))\n",
        "print(f'Task 4: {returned_value}') # This should print True\n",
        "unittest.output_test(returned_value, True)"
      ]
    },
    {
      "cell_type": "code",
      "execution_count": null,
      "metadata": {
        "colab": {
          "base_uri": "https://localhost:8080/"
        },
        "id": "JGIYYUIza-st",
        "outputId": "bd8f44bb-153f-4c37-9371-821c0ffac5f5"
      },
      "outputs": [
        {
          "name": "stdout",
          "output_type": "stream",
          "text": [
            "///  Test 05: Protecc Salami  ///\n",
            "unique_notes [4, 5, 6, 0, 0, 3, 0, 0]\n",
            "unique_compact [4, 5, 6, 3]\n",
            "frequencies [3, 1, 3, 1]\n",
            "Task 5: True\n",
            "Accepted\n",
            "unique_notes [3, 4, 6, 0, 0, 7, 0, 0, 8, 0, 0]\n",
            "unique_compact [3, 4, 6, 7, 8]\n",
            "frequencies [2, 3, 4, 1, 1]\n",
            "Task 5: False\n",
            "Accepted\n"
          ]
        }
      ],
      "source": [
        "# Test 05: Protecc Salami\n",
        "def protectSalami(salami): # [4,5,6,6,4,3,6,4]\n",
        "  unique_notes=[0]*len(salami) # [4,5,6,0,0,3,0,0]\n",
        "\n",
        "  for i in range(0,len(salami)):\n",
        "    if salami[i] not in unique_notes:\n",
        "      unique_notes[i]=salami[i] # [4,5,6,0,0,3,0,0]\n",
        "  print(f'unique_notes {unique_notes}')\n",
        "\n",
        "  size_unique=0\n",
        "  for i in unique_notes:\n",
        "    if i!=0:\n",
        "      size_unique+=1  # 4\n",
        "\n",
        "  unique_compact=[0]*size_unique # [0,0,0,0]\n",
        "  i=0 # [0,0,0,0]\n",
        "  for j in unique_notes: # [4,5,6,0,0,3,0,0]\n",
        "    if  j!=0 and j not in unique_compact:\n",
        "      unique_compact[i]=j\n",
        "      i+=1\n",
        "  # unique_compact = [4,5,6,3]\n",
        "  print(f'unique_compact {unique_compact}')\n",
        "\n",
        "  frequencies=[0]*size_unique # [3,1,3,1]\n",
        "  for i in range(0,len(unique_compact)):\n",
        "    for j in range(0,len(salami)):\n",
        "      if unique_compact[i]==salami[j]:\n",
        "        frequencies[i]+=1\n",
        "  print(f'frequencies {frequencies}')\n",
        "\n",
        "  for i in range(0,len(frequencies)):\n",
        "    for j in range(0,len(frequencies)):\n",
        "      if i!=j:\n",
        "        if frequencies[i]==frequencies[j] and frequencies[i]>1:\n",
        "          return True\n",
        "  return False\n",
        "\n",
        "  return np.array(salami)\n",
        "\n",
        "print(\"///  Test 05: Protecc Salami  ///\")\n",
        "salami = np.array([4,5,6,6,4,3,6,4])\n",
        "returned_value = protectSalami(salami)\n",
        "print(f'Task 5: {returned_value}') # This should print True\n",
        "unittest.output_test(returned_value, True)\n",
        "\n",
        "salami = np.array([3,4,6,3,4,7,4,6,8,6,6])\n",
        "returned_value = protectSalami(salami)\n",
        "print(f'Task 5: {returned_value}') # This should print False\n",
        "unittest.output_test(returned_value, False)"
      ]
    },
    {
      "cell_type": "markdown",
      "metadata": {
        "id": "_6RT_GOabsDF"
      },
      "source": [
        "BONUS TASK (Ungraded)"
      ]
    },
    {
      "cell_type": "code",
      "execution_count": null,
      "metadata": {
        "id": "mrxIQ5rBhzPj"
      },
      "outputs": [],
      "source": [
        "# Test 06: Odd Even Wave\n",
        "def waveYourFlag(arr):\n",
        "  # TO DO\n",
        "  return None\n",
        "\n",
        "print(\"///  Test 06: Odd Even Wave  ///\")\n",
        "arr = np.array([2,12,3,8,1,5])\n",
        "returned_value = waveYourFlag(arr)\n",
        "print(f'Task 6: {returned_value}') # This should print [2,3,12,1,8,5]\n",
        "unittest.output_test(returned_value, np.array([2,3,12,1,8,5]))\n",
        "\n",
        "arr = np.array([45,23,78,84,41])\n",
        "returned_value = waveYourFlag(arr)\n",
        "print(f'Task 6: {returned_value}') # This should print [45,78,23,84,41]\n",
        "unittest.output_test(returned_value, np.array([45,78,23,84,41]))"
      ]
    },
    {
      "cell_type": "markdown",
      "metadata": {
        "id": "woVAXHZHUz6C"
      },
      "source": [
        "Part 2"
      ]
    },
    {
      "cell_type": "code",
      "execution_count": 1,
      "metadata": {
        "colab": {
          "base_uri": "https://localhost:8080/"
        },
        "id": "At9AtZ7xUzTa",
        "outputId": "8ae962ae-4b2b-4c0f-a1ac-a2181a162345"
      },
      "outputs": [
        {
          "name": "stdout",
          "output_type": "stream",
          "text": [
            "prereqarr: [10, 8, 13, 9, 14, 0, 0, 20, 7, 7, 4]\n",
            "Mean: 10.181818181818182\n",
            "Standard Deviation: 7.589684168997018\n",
            "Deviated Values: [10, 8, 13, 9, 14, 20, 7, 7, 4]\n"
          ]
        }
      ],
      "source": [
        "import numpy as np\n",
        "def calculate_mean (arr):\n",
        "  sum=0\n",
        "  for i in arr:\n",
        "    sum+=i\n",
        "  return sum/len(arr)\n",
        "\n",
        "\n",
        "def calculate_sd (arr):\n",
        "  import math\n",
        "\n",
        "  nume=0\n",
        "  for i in arr:\n",
        "    nume+=(i-mean_value)**2\n",
        "\n",
        "  return math.sqrt(nume/(len(arr)))\n",
        "\n",
        "\n",
        "def deviated_values(arr, deviation):\n",
        "  prereqarr=[0]*(len(arr))\n",
        "  for i in range(0,len(arr)):\n",
        "    if mean_value-deviation*sd_value <= arr[i] <= mean_value+deviation*sd_value:\n",
        "      prereqarr[i]=arr[i]\n",
        "  print(f'prereqarr: {prereqarr}')\n",
        "\n",
        "  size=0\n",
        "  for i in prereqarr:\n",
        "    if i!=0:\n",
        "      size+=1\n",
        "\n",
        "  if size==0:\n",
        "    return None\n",
        "\n",
        "  reqarr=[0]*size\n",
        "  i=0\n",
        "  for j in prereqarr:\n",
        "    if j!=0:\n",
        "      reqarr[i]=j\n",
        "      i+=1\n",
        "\n",
        "  #print(f'Required Array: {reqarr}')\n",
        "  return reqarr\n",
        "\n",
        "# sample=[-11,-22,-33,-55,-66,44,77,88,99,101,78,58,1,6,9,45,8,4,7]\n",
        "sample=[10, 8, 13, 9, 14, 25, -5, 20, 7, 7, 4]\n",
        "deviation = 1.5\n",
        "\n",
        "mean_value=calculate_mean(sample)\n",
        "sd_value=calculate_sd(sample)\n",
        "\n",
        "deviated = deviated_values(sample,deviation)\n",
        "\n",
        "print(f'Mean: {mean_value}')\n",
        "print(f'Standard Deviation: {sd_value}')\n",
        "print(f'Deviated Values: {deviated}')"
      ]
    }
  ],
  "metadata": {
    "colab": {
      "provenance": []
    },
    "kernelspec": {
      "display_name": "Python 3",
      "name": "python3"
    },
    "language_info": {
      "codemirror_mode": {
        "name": "ipython",
        "version": 3
      },
      "file_extension": ".py",
      "mimetype": "text/x-python",
      "name": "python",
      "nbconvert_exporter": "python",
      "pygments_lexer": "ipython3",
      "version": "3.11.5"
    }
  },
  "nbformat": 4,
  "nbformat_minor": 0
}
