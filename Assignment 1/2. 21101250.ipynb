{
  "cells": [
    {
      "cell_type": "markdown",
      "metadata": {},
      "source": [
        "#### Part 1: \n",
        "#### Task 1: No issues.\n",
        "#### Task 2: No major issues. Some redundant operations were observed. \n",
        "#### Task 3: No issues. \n",
        "#### Task 4: No major issues. Could have iterated till the first element. \n",
        "#### Task 5: Almost correct logic. The last code block where two nested for loops were used is where the problem is. The outer for loop goes from 0 to 4 and the inner for loop iterates over the freq array. Now the truth value is returned based on the equality of the last element of the outer for loop and and last element of the inner for loop. This is not correct logic. Should have maintained a count instead. For example, the current implementation fails on [3,4,6,3,4,7,7,7,7,4,6,8,6,6] which should have reuturned True as there are one matching count pairs i.e. 4 instances of 6 and 7. Append was used which is a restriction for the assignment. \n",
        "#### Bonus Task: No issues. \n",
        "#### Part 2 Task: Apart from the usage of append the implementaiton is correct. "
      ]
    },
    {
      "cell_type": "code",
      "execution_count": 1,
      "metadata": {
        "id": "pi_n0okZ1v_O"
      },
      "outputs": [],
      "source": [
        "import numpy as np"
      ]
    },
    {
      "cell_type": "markdown",
      "metadata": {
        "id": "lJl5kEU9s6VF"
      },
      "source": [
        "**Instructions to Follow (Failing to follow these will result mark deductions).**\n",
        "\n",
        "\n",
        "1.   You can not use any built-in function except len()\n",
        "2.   You can not use any other python collections except array (e.g: tuptle, dictionaries etc.).\n",
        "3. We will initialize a new array using numpy library. We have to mention the fixed size during initialization. There might be two approach.\n",
        "\n",
        "  i. arr = np.array([None] * 10) #Initializing an array length 10 with values None.\n",
        "\n",
        "  ii. arr = np.array([10, 20, 30, 40]) #Initializing an array length 4 with the values.\n",
        "4. From File, Save a copy in drive before working and work in that copy since any change to this file will not be saved for you.\n",
        "\n",
        "\n",
        "\n",
        "\n"
      ]
    },
    {
      "cell_type": "code",
      "execution_count": 17,
      "metadata": {
        "colab": {
          "base_uri": "https://localhost:8080/"
        },
        "id": "nAE3YxgdLMa1",
        "outputId": "d1a1ffd8-02cb-4f0b-91e7-514c6ea16b93"
      },
      "outputs": [
        {
          "name": "stdout",
          "output_type": "stream",
          "text": [
            "Requirement already satisfied: fhm-unittest in /usr/local/lib/python3.10/dist-packages (1.0.1)\n",
            "Requirement already satisfied: fuzzywuzzy in /usr/local/lib/python3.10/dist-packages (0.18.0)\n"
          ]
        }
      ],
      "source": [
        "# You must run this cell to install dependency\n",
        "! pip3 install fhm-unittest\n",
        "! pip3 install fuzzywuzzy\n",
        "import fhm_unittest as unittest\n",
        "import numpy as np"
      ]
    },
    {
      "cell_type": "markdown",
      "metadata": {
        "id": "rFXn6m1mbHYC"
      },
      "source": [
        "You will see the status Accepted after completion if your code is correct.\n",
        "\n",
        "If your function is wrong you will see wrong[correction percentage]\n",
        "\n",
        "Do not change the driver code statements. You can only change the input values to test your code."
      ]
    },
    {
      "cell_type": "code",
      "execution_count": 18,
      "metadata": {
        "colab": {
          "base_uri": "https://localhost:8080/"
        },
        "id": "hzdDNKdRahbQ",
        "outputId": "69398507-27a0-43ab-a323-26c7d274d3bb"
      },
      "outputs": [
        {
          "name": "stdout",
          "output_type": "stream",
          "text": [
            "///  Test 01: Play Right  ///\n",
            "Task 1: [40 50 60 10 20 30]\n"
          ]
        }
      ],
      "source": [
        "# Test 01: Play Right\n",
        "def playRight(sequence, beats):\n",
        "    # TO DO\n",
        "    for i in beats:\n",
        "     if beats[i]==1:\n",
        "      tmp=sequence[len(sequence)-1]\n",
        "      for i in range(len(sequence)-1, 0, -1):\n",
        "        sequence[i]=sequence[i-1]\n",
        "      sequence[0]=tmp\n",
        "    return sequence\n",
        "\n",
        "\n",
        "print(\"///  Test 01: Play Right  ///\")\n",
        "sequence = np.array([10, 20, 30, 40, 50, 60])\n",
        "beats = np.array([1, 0, 0, 1, 0, 1])\n",
        "returned_value = playRight(sequence, beats)\n",
        "print(f'Task 1: {returned_value}')  # This should print [40, 50, 60, 10, 20, 30]"
      ]
    },
    {
      "cell_type": "code",
      "execution_count": 8,
      "metadata": {
        "colab": {
          "base_uri": "https://localhost:8080/"
        },
        "id": "Ag1wNuXgaoh4",
        "outputId": "916d1c56-00c9-43ba-8303-21e0cd036ff5"
      },
      "outputs": [
        {
          "name": "stdout",
          "output_type": "stream",
          "text": [
            "///  Test 02: Discard Cards  ///\n",
            "0\n",
            "0\n",
            "0\n",
            "0\n",
            "Task 2: [1 3 8 5 7 0 0 0 0]\n"
          ]
        }
      ],
      "source": [
        "# Test 02: Discard Cards\n",
        "def discardCards(cards,number):\n",
        "  # TO DO\n",
        "  i = 0\n",
        "  while (i < len(cards)-1):\n",
        "    if cards[i] == number:\n",
        "      for j in range(i+1,len(cards)):\n",
        "        cards[j-1] = cards[j]\n",
        "      cards[len(cards)-1] = 0\n",
        "      i = 0\n",
        "    else:\n",
        "      i += 1\n",
        "  return cards\n",
        "\n",
        "\n",
        "print(\"///  Test 02: Discard Cards  ///\")\n",
        "cards = np.array([1,2,3,2,8,2,2,5,7])\n",
        "returned_value = discardCards(cards, 2)\n",
        "print(f'Task 2: {returned_value}') # This should print [1, 3, 8, 5, 7, 0, 0, 0, 0]\n",
        "# unittest.output_test(returned_value, np.array([1, 3, 8, 5, 7, 0, 0, 0, 0]))"
      ]
    },
    {
      "cell_type": "code",
      "execution_count": 20,
      "metadata": {
        "colab": {
          "base_uri": "https://localhost:8080/"
        },
        "id": "Ene8Dp4vasuN",
        "outputId": "963588d5-4a05-496d-d8b5-4cf8e64eb0f7"
      },
      "outputs": [
        {
          "name": "stdout",
          "output_type": "stream",
          "text": [
            "///  Test 03: Merge Lineup  ///\n",
            "Task 3: [12  3 28 -8  5]\n",
            "Accepted\n",
            "Task 3: [ 4 17  6 27  2]\n",
            "Accepted\n"
          ]
        }
      ],
      "source": [
        "#Test 03: Merge Lineup\n",
        "def mergeLineup(pokemon_1, pokemon_2):\n",
        "  result = [None]*len(pokemon_1) #this array stores the resulting array\n",
        "  # TO DO\n",
        "  result_array = np.array([0]*len(pokemon_1))\n",
        "\n",
        "\n",
        "  for i in range(len(pokemon_1)):\n",
        "    if pokemon_1[i] is None:\n",
        "      pokemon_1[i]=0\n",
        "  for i in range(len(pokemon_2)):\n",
        "    if pokemon_2[i] is None:\n",
        "      pokemon_2[i]=0\n",
        "  # print(pokemon_1)\n",
        "  # print(pokemon_2)\n",
        "  for i in range(len(pokemon_2)):\n",
        "    result_array[i]=pokemon_1[i]+pokemon_2[len(pokemon_2)-(i+1)]\n",
        "\n",
        "  return result_array\n",
        "\n",
        "print(\"///  Test 03: Merge Lineup  ///\")\n",
        "pokemon_1 = np.array([12, 3, 25, 1, None])\n",
        "pokemon_2 = np.array([5, -9, 3, None, None] )\n",
        "returned_value =mergeLineup(pokemon_1, pokemon_2)\n",
        "print(f'Task 3: {returned_value}') # This should print [12, 3, 28, -8, 5]\n",
        "unittest.output_test(returned_value, np.array([12, 3, 28, -8, 5]))\n",
        "\n",
        "pokemon_1 = np.array([4, 5, -1, None, None])\n",
        "pokemon_2 = np.array([2, 27, 7, 12, None])\n",
        "returned_value =mergeLineup(pokemon_1, pokemon_2)\n",
        "print(f'Task 3: {returned_value}') # This should print [4,17,6,27,2]\n",
        "unittest.output_test(returned_value, np.array([4,17,6,27,2]))"
      ]
    },
    {
      "cell_type": "code",
      "execution_count": 21,
      "metadata": {
        "colab": {
          "base_uri": "https://localhost:8080/"
        },
        "id": "ox9p5qL7axD8",
        "outputId": "15f94b60-0c0a-49fd-c495-c9faf0ca94c6"
      },
      "outputs": [
        {
          "name": "stdout",
          "output_type": "stream",
          "text": [
            "///  Test 04: Balance Your Salami  ///\n",
            "Task 4: True\n",
            "Accepted\n",
            "Task 4: False\n",
            "Accepted\n",
            "Task 4: True\n",
            "Accepted\n"
          ]
        }
      ],
      "source": [
        "# Test 04: Balance your Salami\n",
        "def balanceSalami(salami):\n",
        "  # TO DO\n",
        "  sum0 = 0\n",
        "  sum1 = 0\n",
        "  balancedSalami = None\n",
        "\n",
        "  for i in salami:\n",
        "      sum0 += i\n",
        "\n",
        "  i = len(salami)-1\n",
        "  while (i > 0):\n",
        "      sum0 -= salami[i]\n",
        "      sum1 += salami[i]\n",
        "      i -= 1\n",
        "      if sum0 == sum1:\n",
        "          balancedSalami = True\n",
        "          break\n",
        "      if sum0 != sum1:\n",
        "          balancedSalami = False\n",
        "  return balancedSalami\n",
        "\n",
        "print(\"///  Test 04: Balance Your Salami  ///\")\n",
        "salami = np.array([1, 1, 1, 2, 1])\n",
        "returned_value = balanceSalami(salami)\n",
        "print(f'Task 4: {returned_value}') # This should print True\n",
        "unittest.output_test(returned_value, True)\n",
        "\n",
        "salami = [2, 1, 1, 2, 1]\n",
        "returned_value = np.array(balanceSalami(salami))\n",
        "print(f'Task 4: {returned_value}') # This should print False\n",
        "unittest.output_test(returned_value, False)\n",
        "\n",
        "salami = [10, 3, 1, 2, 10]\n",
        "returned_value =  np.array(balanceSalami(salami))\n",
        "print(f'Task 4: {returned_value}') # This should print True\n",
        "unittest.output_test(returned_value, True)"
      ]
    },
    {
      "cell_type": "code",
      "execution_count": 6,
      "metadata": {
        "colab": {
          "base_uri": "https://localhost:8080/"
        },
        "id": "JGIYYUIza-st",
        "outputId": "6fe27955-9c65-4252-ac1d-0feca3b9df69"
      },
      "outputs": [
        {
          "name": "stdout",
          "output_type": "stream",
          "text": [
            "False\n",
            "False\n",
            "False\n",
            "False\n",
            "False\n",
            "Task 5: False\n"
          ]
        }
      ],
      "source": [
        "# Test 05: Protecc Salami\n",
        "def protectSalami(salami):\n",
        "  # TO DO\n",
        "  def max_int(salami):\n",
        "    mx = 0\n",
        "    for i in range(len(salami)):\n",
        "      if salami[i] > mx:\n",
        "        mx = salami[i]\n",
        "    return mx\n",
        "\n",
        "  def min_int(salami):\n",
        "    mn = -999999\n",
        "    mx1 = 0\n",
        "    for i in range(len(salami)):\n",
        "      if salami[i] > mn:\n",
        "        mn = salami[i]\n",
        "        break\n",
        "    return mn\n",
        "\n",
        "  freq_arr = []\n",
        "  # print(list(range(min_int(salami)-1, max_int(salami)+1)))\n",
        "  for i in range(min_int(salami)-1, max_int(salami)+1):\n",
        "    count = 0\n",
        "    for j in salami:\n",
        "      if i == j:\n",
        "        count += 1\n",
        "    freq_arr.append((count))\n",
        "  truth_value = False\n",
        "  for i in range(min_int(freq_arr),max_int(freq_arr)+1):\n",
        "    for j in freq_arr:\n",
        "      if i == 1 or i == 0:\n",
        "        continue\n",
        "      if i == j:\n",
        "        truth_value = True\n",
        "      elif i != j:\n",
        "        truth_value = False\n",
        "    print(truth_value)\n",
        "\n",
        "  return truth_value\n",
        "\n",
        "# print(\"///  Test 05: Protecc Salami  ///\")\n",
        "# salami = np.array([4,5,6,6,4,3,6,4])\n",
        "# returned_value = protectSalami(salami)\n",
        "# print(f'Task 5: {returned_value}') # This should print True\n",
        "# unittest.output_test(returned_value, True)\n",
        "\n",
        "salami = np.array([3,4,6,3,4,7,7,7,7,4,6,8,6,6])\n",
        "returned_value = protectSalami(salami)\n",
        "print(f'Task 5: {returned_value}') # This should print False\n",
        "# unittest.output_test(returned_value, False)"
      ]
    },
    {
      "cell_type": "markdown",
      "metadata": {
        "id": "_6RT_GOabsDF"
      },
      "source": [
        "BONUS TASK (Ungraded)"
      ]
    },
    {
      "cell_type": "code",
      "execution_count": 23,
      "metadata": {
        "colab": {
          "base_uri": "https://localhost:8080/"
        },
        "id": "mrxIQ5rBhzPj",
        "outputId": "5501fb50-9176-49d7-930d-c7a76ffa4517"
      },
      "outputs": [
        {
          "name": "stdout",
          "output_type": "stream",
          "text": [
            "///  Test 06: Odd Even Wave  ///\n",
            "Task 6: [ 2  3 12  1  8  5]\n",
            "Accepted\n",
            "Task 6: [45 78 23 84 41]\n",
            "Accepted\n"
          ]
        }
      ],
      "source": [
        "# Test 06: Odd Even Wave\n",
        "def waveYourFlag(arr):\n",
        "  # TO DO\n",
        "  waved_array = np.zeros(len(arr),dtype=int)\n",
        "  odd_int, even_int = 0, 0\n",
        "  if arr[0]%2 == 1:\n",
        "    odd_int, even_int = 0, 1\n",
        "  elif arr[0]%2 == 0:\n",
        "    odd_int, even_int = 1, 0\n",
        "\n",
        "  for i in range(0,len(arr)):\n",
        "    if arr[i]%2 == 1:\n",
        "      waved_array[odd_int] = arr[i]\n",
        "      odd_int += 2\n",
        "    elif arr[i]%2 == 0:\n",
        "      waved_array[even_int] = arr[i]\n",
        "      even_int += 2\n",
        "\n",
        "  return waved_array\n",
        "\n",
        "print(\"///  Test 06: Odd Even Wave  ///\")\n",
        "arr = np.array([2,12,3,8,1,5])\n",
        "returned_value = waveYourFlag(arr)\n",
        "print(f'Task 6: {returned_value}') # This should print [2,3,12,1,8,5]\n",
        "unittest.output_test(returned_value, np.array([2,3,12,1,8,5]))\n",
        "\n",
        "arr = np.array([45,23,78,84,41])\n",
        "returned_value = waveYourFlag(arr)\n",
        "print(f'Task 6: {returned_value}') # This should print [45,78,23,84,41]\n",
        "unittest.output_test(returned_value, np.array([45,78,23,84,41]))"
      ]
    },
    {
      "cell_type": "markdown",
      "metadata": {
        "id": "JgpZhfkIErHE"
      },
      "source": [
        "Part 2"
      ]
    },
    {
      "cell_type": "code",
      "execution_count": 24,
      "metadata": {
        "colab": {
          "base_uri": "https://localhost:8080/"
        },
        "id": "aMRYnWlEEMUf",
        "outputId": "830730d6-00b6-467b-d34c-8b9b73a94707"
      },
      "outputs": [
        {
          "name": "stdout",
          "output_type": "stream",
          "text": [
            "The mean of the numbers is: 10.181818181818182\n",
            "The standard deviation is: 7.96\n",
            "New array: [25 -5]\n"
          ]
        }
      ],
      "source": [
        "import numpy as np\n",
        "import math\n",
        "\n",
        "def mean(arr):\n",
        "    sum0 = 0\n",
        "    mean = 0\n",
        "    for i in range(len(arr)):\n",
        "        sum0 += arr[i]\n",
        "    mean = sum0/len(arr)\n",
        "    return mean\n",
        "\n",
        "def standard_deviation(arr):\n",
        "    mean_value = (mean(arr))\n",
        "    final_sum = 0\n",
        "    s_d = 0\n",
        "    for i in range(len(arr)):\n",
        "        sum1 = (arr[i]-mean_value)**2\n",
        "        final_sum += (sum1)\n",
        "        s_d = round(math.sqrt(final_sum/(len(arr)-1)),2)\n",
        "    return s_d\n",
        "\n",
        "def new_arr(arr):\n",
        "    new = []\n",
        "    mean_value = (mean(arr))\n",
        "    stndrd_dvtn = standard_deviation(arr)\n",
        "    for i in range(len(arr)):\n",
        "        if abs((arr[i]-mean_value)) >= (1.5*stndrd_dvtn):\n",
        "            new.append(arr[i])\n",
        "    new_array = np.array([0]*len(new))\n",
        "    for i in range(len(new)):\n",
        "        new_array[i] = new[i]\n",
        "    return new_array\n",
        "\n",
        "\n",
        "arr = [10, 8, 13, 9, 14, 25, -5, 20, 7, 7, 4]\n",
        "print(f\"The mean of the numbers is: {mean(arr)}\")\n",
        "print(f\"The standard deviation is: {standard_deviation(arr)}\")\n",
        "print(f\"New array: {new_arr(arr)}\")"
      ]
    }
  ],
  "metadata": {
    "colab": {
      "provenance": []
    },
    "kernelspec": {
      "display_name": "Python 3",
      "name": "python3"
    },
    "language_info": {
      "codemirror_mode": {
        "name": "ipython",
        "version": 3
      },
      "file_extension": ".py",
      "mimetype": "text/x-python",
      "name": "python",
      "nbconvert_exporter": "python",
      "pygments_lexer": "ipython3",
      "version": "3.11.5"
    }
  },
  "nbformat": 4,
  "nbformat_minor": 0
}
