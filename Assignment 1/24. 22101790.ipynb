{
  "cells": [
    {
      "cell_type": "markdown",
      "metadata": {},
      "source": [
        "#### Part 1: \n",
        "#### Task 1: No issues. \n",
        "#### Task 2: No issues. \n",
        "#### Task 3: No issues. \n",
        "#### Task 4: No issues. \n",
        "#### Task 5: No issues apart from builtin functions and append being used. \n",
        "#### Bonus Task: No issues. \n",
        "#### Part 2 Task: No issues apart from append being used. "
      ]
    },
    {
      "cell_type": "code",
      "execution_count": null,
      "metadata": {
        "id": "pi_n0okZ1v_O"
      },
      "outputs": [],
      "source": [
        "import numpy as np"
      ]
    },
    {
      "cell_type": "markdown",
      "metadata": {
        "id": "lJl5kEU9s6VF"
      },
      "source": [
        "**Instructions to Follow (Failing to follow these will result mark deductions).**\n",
        "\n",
        "\n",
        "1.   You can not use any built-in function except len()\n",
        "2.   You can not use any other python collections except array (e.g: tuptle, dictionaries etc.).\n",
        "3. We will initialize a new array using numpy library. We have to mention the fixed size during initialization. There might be two approach.\n",
        "\n",
        "  i. arr = np.array([None] * 10) #Initializing an array length 10 with values None.\n",
        "\n",
        "  ii. arr = np.array([10, 20, 30, 40]) #Initializing an array length 4 with the values.\n",
        "4. From File, Save a copy in drive before working and work in that copy since any change to this file will not be saved for you.\n",
        "\n",
        "\n",
        "\n",
        "\n"
      ]
    },
    {
      "cell_type": "code",
      "execution_count": null,
      "metadata": {
        "colab": {
          "base_uri": "https://localhost:8080/"
        },
        "id": "nAE3YxgdLMa1",
        "outputId": "cf3008af-63b6-4c12-9d99-80e968424769"
      },
      "outputs": [
        {
          "name": "stdout",
          "output_type": "stream",
          "text": [
            "Collecting fhm-unittest\n",
            "  Downloading fhm_unittest-1.0.1-py3-none-any.whl (2.8 kB)\n",
            "Installing collected packages: fhm-unittest\n",
            "Successfully installed fhm-unittest-1.0.1\n",
            "Collecting fuzzywuzzy\n",
            "  Downloading fuzzywuzzy-0.18.0-py2.py3-none-any.whl (18 kB)\n",
            "Installing collected packages: fuzzywuzzy\n",
            "Successfully installed fuzzywuzzy-0.18.0\n"
          ]
        },
        {
          "name": "stderr",
          "output_type": "stream",
          "text": [
            "/usr/local/lib/python3.10/dist-packages/fuzzywuzzy/fuzz.py:11: UserWarning: Using slow pure-python SequenceMatcher. Install python-Levenshtein to remove this warning\n",
            "  warnings.warn('Using slow pure-python SequenceMatcher. Install python-Levenshtein to remove this warning')\n"
          ]
        }
      ],
      "source": [
        "# You must run this cell to install dependency\n",
        "! pip3 install fhm-unittest\n",
        "! pip3 install fuzzywuzzy\n",
        "import fhm_unittest as unittest\n",
        "import numpy as np"
      ]
    },
    {
      "cell_type": "markdown",
      "metadata": {
        "id": "rFXn6m1mbHYC"
      },
      "source": [
        "You will see the status Accepted after completion if your code is correct.\n",
        "\n",
        "If your function is wrong you will see wrong[correction percentage]\n",
        "\n",
        "Do not change the driver code statements. You can only change the input values to test your code."
      ]
    },
    {
      "cell_type": "code",
      "execution_count": null,
      "metadata": {
        "colab": {
          "base_uri": "https://localhost:8080/"
        },
        "id": "hzdDNKdRahbQ",
        "outputId": "8d65f7f7-05d5-41d0-8d1d-e491daf57a24"
      },
      "outputs": [
        {
          "name": "stdout",
          "output_type": "stream",
          "text": [
            "///  Test 01: Play Right  ///\n",
            "Task 1: [40 50 60 10 20 30]\n"
          ]
        }
      ],
      "source": [
        "# Test 01: Play Right\n",
        "def playRight(sequence, beats):\n",
        "    # TO DO\n",
        "    i=0\n",
        "    while i<len(beats):\n",
        "      if beats[i]==1:\n",
        "        temp= sequence[len(sequence)-1]\n",
        "        for j in range(len(sequence)-1,0,-1):\n",
        "          sequence[j]=sequence[j-1]\n",
        "        sequence[0]=temp\n",
        "      i+=1\n",
        "\n",
        "\n",
        "\n",
        "    return sequence\n",
        "\n",
        "print(\"///  Test 01: Play Right  ///\")\n",
        "sequence = np.array([10, 20, 30, 40, 50, 60])\n",
        "beats = np.array([1, 0, 0, 1, 0, 1])\n",
        "returned_value = playRight(sequence, beats)\n",
        "print(f'Task 1: {returned_value}')  # This should print [40, 50, 60, 10, 20, 30]"
      ]
    },
    {
      "cell_type": "code",
      "execution_count": null,
      "metadata": {
        "colab": {
          "base_uri": "https://localhost:8080/"
        },
        "id": "Ag1wNuXgaoh4",
        "outputId": "d5814d47-cb73-4102-cbcc-90cc72f70bb4"
      },
      "outputs": [
        {
          "name": "stdout",
          "output_type": "stream",
          "text": [
            "///  Test 02: Discard Cards  ///\n",
            "Task 2: [1 3 8 5 7 0 0 0 0]\n",
            "Accepted\n"
          ]
        }
      ],
      "source": [
        "# Test 02: Discard Cards\n",
        "#def discardCards(cards,number):\n",
        "  # TO DO\n",
        "def discardCards(cards,number):\n",
        "\n",
        "  j=0\n",
        "  while j<len(cards):\n",
        "    if cards[j]==number:\n",
        "      cards=removeelem(cards,j,len(cards))\n",
        "      if cards[j]==number:\n",
        "        continue\n",
        "    j+=1\n",
        "  return cards\n",
        "def removeelem(cards,index,size):\n",
        "  for i in range (index+1,size):\n",
        "    cards[i-1] = cards[i]\n",
        "  cards[size-1] = 0\n",
        "  return cards\n",
        "\n",
        "\n",
        "print(\"///  Test 02: Discard Cards  ///\")\n",
        "cards = np.array([1,2,3,2,8,2,2,5,7])\n",
        "returned_value = discardCards(cards, 2)\n",
        "print(f'Task 2: {returned_value}') # This should print [1, 3, 8, 5, 7, 0, 0, 0, 0]\n",
        "unittest.output_test(returned_value, np.array([1, 3, 8, 5, 7, 0, 0, 0, 0]))"
      ]
    },
    {
      "cell_type": "code",
      "execution_count": null,
      "metadata": {
        "colab": {
          "base_uri": "https://localhost:8080/"
        },
        "id": "Ene8Dp4vasuN",
        "outputId": "f6eab13c-271b-4123-e663-2f0113aa26f5"
      },
      "outputs": [
        {
          "name": "stdout",
          "output_type": "stream",
          "text": [
            "///  Test 03: Merge Lineup  ///\n",
            "Task 3: [12, 3, 28, -8, 5]\n",
            "Not Accepted [Your output: [12, 3, 28, -8, 5]  |  Expected Output: [12  3 28 -8  5]]\n",
            "Task 3: [4, 17, 6, 27, 2]\n",
            "Not Accepted [Your output: [4, 17, 6, 27, 2]  |  Expected Output: [ 4 17  6 27  2]]\n"
          ]
        }
      ],
      "source": [
        "#Test 03: Merge Lineup\n",
        "def mergeLineup(pokemon_1, pokemon_2):\n",
        "  result = [None]*len(pokemon_1) #this array stores the resulting array\n",
        "  # TO DO\n",
        "  poke1_idx=0\n",
        "  poke2_idx=len(pokemon_2)-1\n",
        "  while poke1_idx<len(pokemon_1):\n",
        "    if pokemon_1[poke1_idx]==None:\n",
        "      pokemon_1[poke1_idx]=0\n",
        "    if pokemon_2[poke2_idx]==None:\n",
        "      pokemon_2[poke2_idx]=0\n",
        "    result[poke1_idx]=pokemon_1[poke1_idx]+pokemon_2[poke2_idx]\n",
        "    poke1_idx+=1\n",
        "    poke2_idx-=1\n",
        "  return result\n",
        "\n",
        "\n",
        "print(\"///  Test 03: Merge Lineup  ///\")\n",
        "pokemon_1 = np.array([12, 3, 25, 1, None])\n",
        "pokemon_2 = np.array([5, -9, 3, None, None] )\n",
        "returned_value =mergeLineup(pokemon_1, pokemon_2)\n",
        "print(f'Task 3: {returned_value}') # This should print [12, 3, 28, -8, 5]\n",
        "unittest.output_test(returned_value, np.array([12, 3, 28, -8, 5]))\n",
        "\n",
        "pokemon_1 = np.array([4, 5, -1, None, None])\n",
        "pokemon_2 = np.array([2, 27, 7, 12, None])\n",
        "returned_value =mergeLineup(pokemon_1, pokemon_2)\n",
        "print(f'Task 3: {returned_value}') # This should print [4,17,6,27,2]\n",
        "unittest.output_test(returned_value, np.array([4,17,6,27,2]))"
      ]
    },
    {
      "cell_type": "code",
      "execution_count": null,
      "metadata": {
        "colab": {
          "base_uri": "https://localhost:8080/"
        },
        "id": "ox9p5qL7axD8",
        "outputId": "e11c251e-e407-4990-a1cb-bd0339aac8b9"
      },
      "outputs": [
        {
          "name": "stdout",
          "output_type": "stream",
          "text": [
            "///  Test 04: Balance Your Salami  ///\n",
            "Task 4: True\n",
            "Accepted\n",
            "Task 4: False\n",
            "Accepted\n",
            "Task 4: True\n",
            "Accepted\n"
          ]
        }
      ],
      "source": [
        "# Test 04: Balance your Salami\n",
        "def balanceSalami(salami):\n",
        "  # TO DO\n",
        "  i=0\n",
        "  sum1=0\n",
        "  while i <len(salami):\n",
        "    sum1+=salami[i]\n",
        "    sum2=0\n",
        "    # for j in range(i+1,len(salami)-1):\n",
        "    #   sum2+=salami[j]\n",
        "    j=i+1\n",
        "    while j<len(salami):\n",
        "      sum2+=salami[j]\n",
        "      j+=1\n",
        "    if sum1==sum2:\n",
        "        return True\n",
        "        break\n",
        "\n",
        "    i+=1\n",
        "\n",
        "  return False\n",
        "      #j+=1\n",
        " #   i+=1\n",
        " # return None\n",
        "print(\"///  Test 04: Balance Your Salami  ///\")\n",
        "salami = np.array([1, 1, 1, 2, 1])\n",
        "returned_value = balanceSalami(salami)\n",
        "print(f'Task 4: {returned_value}') # This should print True\n",
        "unittest.output_test(returned_value, True)\n",
        "\n",
        "salami = [2, 1, 1, 2, 1]\n",
        "returned_value = np.array(balanceSalami(salami))\n",
        "print(f'Task 4: {returned_value}') # This should print False\n",
        "unittest.output_test(returned_value, False)\n",
        "\n",
        "salami = [10, 3, 1, 2, 10]\n",
        "returned_value =  np.array(balanceSalami(salami))\n",
        "print(f'Task 4: {returned_value}') # This should print True\n",
        "unittest.output_test(returned_value, True)"
      ]
    },
    {
      "cell_type": "code",
      "execution_count": 30,
      "metadata": {
        "colab": {
          "base_uri": "https://localhost:8080/"
        },
        "id": "JGIYYUIza-st",
        "outputId": "981bd2f6-009b-49de-e787-761d372a66a4"
      },
      "outputs": [
        {
          "name": "stdout",
          "output_type": "stream",
          "text": [
            "///  Test 05: Protecc Salami  ///\n",
            "Task 5: True\n",
            "Accepted\n",
            "Task 5: False\n",
            "Accepted\n"
          ]
        }
      ],
      "source": [
        "# Test 05: Protecc Salami\n",
        "def protectSalami(salami):\n",
        "  #TO DO\n",
        "  #return None\n",
        "  max=salami[0]\n",
        "  for i in range(0,len(salami)):\n",
        "    if salami[i]>max:\n",
        "      max=salami[i]\n",
        "      new_arr=[0]*(max+1)\n",
        "  for i in range(0,len(salami)):\n",
        "    a=salami[i]\n",
        "    new_arr[a]+=1\n",
        "  list1=[]\n",
        "  for i in new_arr:\n",
        "    if i>=2:\n",
        "      list1.append(i)\n",
        "  list1=sorted(list1)\n",
        "  for i in range(len(list1)):\n",
        "    if list1[i]==list1[i+1]:\n",
        "      return True\n",
        "    else:\n",
        "      return False\n",
        "\n",
        "\n",
        "print(\"///  Test 05: Protecc Salami  ///\")\n",
        "salami = np.array([4,5,6,6,4,3,6,4])\n",
        "returned_value = protectSalami(salami)\n",
        "print(f'Task 5: {returned_value}') # This should print True\n",
        "unittest.output_test(returned_value, True)\n",
        "\n",
        "salami = np.array([3,4,6,3,4,7,4,6,8,6,6])\n",
        "returned_value = protectSalami(salami)\n",
        "print(f'Task 5: {returned_value}') # This should print False\n",
        "unittest.output_test(returned_value, False)"
      ]
    },
    {
      "cell_type": "markdown",
      "metadata": {
        "id": "_6RT_GOabsDF"
      },
      "source": [
        "BONUS TASK (Ungraded)"
      ]
    },
    {
      "cell_type": "code",
      "execution_count": null,
      "metadata": {
        "colab": {
          "base_uri": "https://localhost:8080/"
        },
        "id": "mrxIQ5rBhzPj",
        "outputId": "d1e9d2b6-95df-47a8-cb60-5bf9277fb791"
      },
      "outputs": [
        {
          "name": "stdout",
          "output_type": "stream",
          "text": [
            "///  Test 06: Odd Even Wave  ///\n",
            "Task 6: [2, 3, 12, 1, 8, 0]\n",
            "Not Accepted [Your output: [2, 3, 12, 1, 8, 0]  |  Expected Output: [ 2  3 12  1  8  5]]\n",
            "Task 6: [78, 45, 84, 23, 0]\n",
            "Not Accepted [Your output: [78, 45, 84, 23, 0]  |  Expected Output: [45 78 23 84 41]]\n"
          ]
        }
      ],
      "source": [
        "# Test 06: Odd Even Wave\n",
        "def waveYourFlag(arr):\n",
        "  # TO DO\n",
        "  new_arr=[0]*len(arr)\n",
        "  if new_arr[0]%2==0:\n",
        "    i=0\n",
        "    j=1\n",
        "  else:\n",
        "    i=1\n",
        "    j=0\n",
        "  for x in range(0,len(arr)-1):\n",
        "    if arr[x]%2==0:\n",
        "      new_arr[i]=arr[x]\n",
        "      i+=2\n",
        "    else:\n",
        "      new_arr[j]=arr[x]\n",
        "      j+=2\n",
        "\n",
        "  return new_arr\n",
        "\n",
        "  #return None\n",
        "\n",
        "print(\"///  Test 06: Odd Even Wave  ///\")\n",
        "arr = np.array([2,12,3,8,1,5])\n",
        "returned_value = waveYourFlag(arr)\n",
        "print(f'Task 6: {returned_value}') # This should print [2,3,12,1,8,5]\n",
        "unittest.output_test(returned_value, np.array([2,3,12,1,8,5]))\n",
        "\n",
        "arr = np.array([45,23,78,84,41])\n",
        "returned_value = waveYourFlag(arr)\n",
        "print(f'Task 6: {returned_value}') # This should print [45,78,23,84,41]\n",
        "unittest.output_test(returned_value, np.array([45,78,23,84,41]))"
      ]
    },
    {
      "cell_type": "code",
      "execution_count": 35,
      "metadata": {
        "colab": {
          "base_uri": "https://localhost:8080/"
        },
        "id": "fHAppVVjHZWk",
        "outputId": "0b70adc0-b02c-48ba-e39c-2613b7851f48"
      },
      "outputs": [
        {
          "name": "stdout",
          "output_type": "stream",
          "text": [
            "the mean 10.181818181818182\n",
            "the standard deviation 7.960127911260996\n",
            "new array [25, -5]\n"
          ]
        }
      ],
      "source": [
        "#PART2\n",
        "ar=[10,8,13,9,14,25,-5,20,7,7,4]\n",
        "def mean(ar):\n",
        "  sum=0\n",
        "  for i in range(len(ar)):\n",
        "    sum+=ar[i]\n",
        "  return sum/len(ar)\n",
        "def standard_dev(ar):\n",
        "  me=mean(ar)\n",
        "  var=0\n",
        "  for i in range(len(ar)):\n",
        "    var+=(ar[i]-me)**2\n",
        "  var=var/(len(ar)-1)\n",
        "  return var**0.5\n",
        "def new_ar(ar):\n",
        "  me=mean(ar)\n",
        "  sd=standard_dev(ar)\n",
        "  new_ar=[]\n",
        "  for i in range(len(ar)):\n",
        "    if abs(ar[i]-me)>=(1.5*sd):\n",
        "      new_ar.append(ar[i])\n",
        "  if new_ar!=None:\n",
        "    return new_ar\n",
        "  else:\n",
        "    return f'No numbers'\n",
        "print(\"the mean\",mean(ar))\n",
        "print(\"the standard deviation\",standard_dev(ar))\n",
        "print(\"new array\",new_ar(ar))"
      ]
    }
  ],
  "metadata": {
    "colab": {
      "provenance": []
    },
    "kernelspec": {
      "display_name": "Python 3",
      "name": "python3"
    },
    "language_info": {
      "name": "python"
    }
  },
  "nbformat": 4,
  "nbformat_minor": 0
}
