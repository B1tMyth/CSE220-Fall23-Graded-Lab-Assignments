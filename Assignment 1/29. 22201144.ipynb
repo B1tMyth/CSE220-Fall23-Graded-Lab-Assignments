{
  "cells": [
    {
      "cell_type": "markdown",
      "metadata": {},
      "source": [
        "#### Part 1: \n",
        "#### Task 1: No issues. \n",
        "#### Task 2: No issues. \n",
        "#### Task 3: No issues. \n",
        "#### Task 4: No issues. \n",
        "#### Task 5: No issues. \n",
        "#### Bonus Task: No issues. \n",
        "#### Part 2 Task: Formula for sample standard deviation is wrong. All implementations are correct. "
      ]
    },
    {
      "cell_type": "code",
      "execution_count": 1,
      "metadata": {
        "id": "pi_n0okZ1v_O"
      },
      "outputs": [],
      "source": [
        "import numpy as np"
      ]
    },
    {
      "cell_type": "markdown",
      "metadata": {
        "id": "lJl5kEU9s6VF"
      },
      "source": [
        "**Instructions to Follow (Failing to follow these will result mark deductions).**\n",
        "\n",
        "\n",
        "1.   You can not use any built-in function except len()\n",
        "2.   You can not use any other python collections except array (e.g: tuptle, dictionaries etc.).\n",
        "3. We will initialize a new array using numpy library. We have to mention the fixed size during initialization. There might be two approach.\n",
        "\n",
        "  i. arr = np.array([None] * 10) #Initializing an array length 10 with values None.\n",
        "\n",
        "  ii. arr = np.array([10, 20, 30, 40]) #Initializing an array length 4 with the values.\n",
        "4. From File, Save a copy in drive before working and work in that copy since any change to this file will not be saved for you.\n",
        "\n",
        "\n",
        "\n",
        "\n"
      ]
    },
    {
      "cell_type": "code",
      "execution_count": 22,
      "metadata": {
        "colab": {
          "base_uri": "https://localhost:8080/"
        },
        "id": "nAE3YxgdLMa1",
        "outputId": "bc21ddba-da30-41af-abd1-bb4826ad1d3e"
      },
      "outputs": [
        {
          "name": "stdout",
          "output_type": "stream",
          "text": [
            "Requirement already satisfied: fhm-unittest in /usr/local/lib/python3.10/dist-packages (1.0.1)\n",
            "Requirement already satisfied: fuzzywuzzy in /usr/local/lib/python3.10/dist-packages (0.18.0)\n"
          ]
        }
      ],
      "source": [
        "# You must run this cell to install dependency\n",
        "! pip3 install fhm-unittest\n",
        "! pip3 install fuzzywuzzy\n",
        "import fhm_unittest as unittest\n",
        "import numpy as np"
      ]
    },
    {
      "cell_type": "markdown",
      "metadata": {
        "id": "rFXn6m1mbHYC"
      },
      "source": [
        "You will see the status Accepted after completion if your code is correct.\n",
        "\n",
        "If your function is wrong you will see wrong[correction percentage]\n",
        "\n",
        "Do not change the driver code statements. You can only change the input values to test your code."
      ]
    },
    {
      "cell_type": "code",
      "execution_count": 39,
      "metadata": {
        "colab": {
          "base_uri": "https://localhost:8080/"
        },
        "id": "hzdDNKdRahbQ",
        "outputId": "5734c495-63c1-4d9f-ce97-a7d26e317cea"
      },
      "outputs": [
        {
          "name": "stdout",
          "output_type": "stream",
          "text": [
            "///  Test 01: Play Right  ///\n",
            "Task 1: [40 50 60 10 20 30]\n"
          ]
        }
      ],
      "source": [
        "# Test 01: Play Right\n",
        "def playRight(sequence, beats):\n",
        "    # TO DO\n",
        "    for i in beats:\n",
        "      if i == 1:\n",
        "        temp = sequence[len(sequence)-1]\n",
        "        for j in range (len(sequence)-1,0,-1):\n",
        "          sequence[j]= sequence[j-1]\n",
        "\n",
        "        sequence[0]= temp\n",
        "\n",
        "\n",
        "    return sequence\n",
        "\n",
        "print(\"///  Test 01: Play Right  ///\")\n",
        "sequence = np.array([10, 20, 30, 40, 50, 60])\n",
        "beats = np.array([1, 0, 0, 1, 0, 1])\n",
        "returned_value = playRight(sequence, beats)\n",
        "print(f'Task 1: {returned_value}')  # This should print [40, 50, 60, 10, 20, 30]"
      ]
    },
    {
      "cell_type": "code",
      "execution_count": 40,
      "metadata": {
        "colab": {
          "base_uri": "https://localhost:8080/"
        },
        "id": "Ag1wNuXgaoh4",
        "outputId": "fbd0bc20-9da4-4fcd-e0e8-ea19574de01a"
      },
      "outputs": [
        {
          "name": "stdout",
          "output_type": "stream",
          "text": [
            "///  Test 02: Discard Cards  ///\n",
            "Task 2: [10 30 50  0  0  0  0  0  0]\n",
            "Accepted\n"
          ]
        }
      ],
      "source": [
        "# Test 02: Discard Cards\n",
        "import numpy as np\n",
        "def discardCards(cards,number):\n",
        "  # TO DO\n",
        "  i = 0\n",
        "  while i < len(cards):\n",
        "    if cards[i] == number:\n",
        "      j = i\n",
        "      while j < len(cards) - 1:\n",
        "        cards[j] = cards[j+1]\n",
        "        j += 1\n",
        "      cards[j] = 0\n",
        "\n",
        "    else:\n",
        "      i += 1\n",
        "\n",
        "  return cards\n",
        "\n",
        "print(\"///  Test 02: Discard Cards  ///\")\n",
        "cards = np.array([10,2,30,2,50,2,2,0,0])\n",
        "returned_value = discardCards(cards, 2)\n",
        "print(f'Task 2: {returned_value}') # This should print [10,30,50,0,0,0,0,0,0]\n",
        "unittest.output_test(returned_value, np.array([10,30,50,0,0,0,0,0,0]))"
      ]
    },
    {
      "cell_type": "code",
      "execution_count": 41,
      "metadata": {
        "colab": {
          "base_uri": "https://localhost:8080/"
        },
        "id": "Ene8Dp4vasuN",
        "outputId": "a2ea5a0d-b9ca-45bd-be62-5de74377d0df"
      },
      "outputs": [
        {
          "name": "stdout",
          "output_type": "stream",
          "text": [
            "///  Test 03: Merge Lineup  ///\n",
            "Task 3: [12  3 28 -8  5]\n",
            "Accepted\n",
            "Task 3: [ 4 17  6 27  2]\n",
            "Accepted\n"
          ]
        }
      ],
      "source": [
        "#Test 03: Merge Lineup\n",
        "def mergeLineup(pokemon_1, pokemon_2):\n",
        "  result = [None]*len(pokemon_1) #this array stores the resulting array\n",
        "  # TO DO\n",
        "  for i in range (len(pokemon_1)):\n",
        "    if pokemon_1[i] == None:\n",
        "      pokemon_1[i] = 0\n",
        "  for j in range (len(pokemon_2)):\n",
        "    if pokemon_2[j] == None:\n",
        "      pokemon_2[j] = 0\n",
        "\n",
        "\n",
        "  for k in range(len(result)):\n",
        "    result[k] = pokemon_1[k] + pokemon_2[(len(result)-(k+1))]\n",
        "\n",
        "\n",
        "  return np.array(result)\n",
        "\n",
        "print(\"///  Test 03: Merge Lineup  ///\")\n",
        "pokemon_1 = np.array([12, 3, 25, 1, None])\n",
        "pokemon_2 = np.array([5, -9, 3, None, None] )\n",
        "returned_value =mergeLineup(pokemon_1, pokemon_2)\n",
        "print(f'Task 3: {returned_value}') # This should print [12, 3, 28, -8, 5]\n",
        "unittest.output_test(returned_value, np.array([12, 3, 28, -8, 5]))\n",
        "\n",
        "pokemon_1 = np.array([4, 5, -1, None, None])\n",
        "pokemon_2 = np.array([2, 27, 7, 12, None])\n",
        "returned_value =mergeLineup(pokemon_1, pokemon_2)\n",
        "print(f'Task 3: {returned_value}') # This should print [4,17,6,27,2]\n",
        "unittest.output_test(returned_value, np.array([4,17,6,27,2]))"
      ]
    },
    {
      "cell_type": "code",
      "execution_count": 42,
      "metadata": {
        "colab": {
          "base_uri": "https://localhost:8080/"
        },
        "id": "ox9p5qL7axD8",
        "outputId": "6f6a8fb6-91e7-4521-e1ac-e134957c889f"
      },
      "outputs": [
        {
          "name": "stdout",
          "output_type": "stream",
          "text": [
            "///  Test 04: Balance Your Salami  ///\n",
            "Task 4: True\n",
            "Accepted\n",
            "Task 4: False\n",
            "Accepted\n",
            "Task 4: True\n",
            "Accepted\n"
          ]
        }
      ],
      "source": [
        "# Test 04: Balance your Salami\n",
        "def balanceSalami(salami):\n",
        "  # TO DO\n",
        "  total = 0\n",
        "  y = 0\n",
        "  flag = False\n",
        "  for i in salami:\n",
        "    total += i\n",
        "  for j in salami:\n",
        "    y+= j\n",
        "    temp = total - y\n",
        "    if temp == y:\n",
        "      flag = True\n",
        "\n",
        "  return flag\n",
        "\n",
        "print(\"///  Test 04: Balance Your Salami  ///\")\n",
        "salami = np.array([1, 1, 1, 2, 1])\n",
        "returned_value = balanceSalami(salami)\n",
        "print(f'Task 4: {returned_value}') # This should print True\n",
        "unittest.output_test(returned_value, True)\n",
        "\n",
        "salami = [2, 1, 1, 2, 1]\n",
        "returned_value = np.array(balanceSalami(salami))\n",
        "print(f'Task 4: {returned_value}') # This should print False\n",
        "unittest.output_test(returned_value, False)\n",
        "\n",
        "salami = [10, 3, 1, 2, 10]\n",
        "returned_value =  np.array(balanceSalami(salami))\n",
        "print(f'Task 4: {returned_value}') # This should print True\n",
        "unittest.output_test(returned_value, True)"
      ]
    },
    {
      "cell_type": "code",
      "execution_count": 8,
      "metadata": {
        "colab": {
          "base_uri": "https://localhost:8080/"
        },
        "id": "JGIYYUIza-st",
        "outputId": "1fcd9e75-764e-4949-f4d1-6546a04d803e"
      },
      "outputs": [
        {
          "name": "stdout",
          "output_type": "stream",
          "text": [
            "///  Test 05: Protecc Salami  ///\n",
            "3\n",
            "3\n",
            "3\n",
            "3\n",
            "[4 5 6 3 None None None None]\n",
            "[3 1 3 1 None None None None]\n",
            "2\n",
            "Task 5: True\n"
          ]
        }
      ],
      "source": [
        "# Test 05: Protecc Salami\n",
        "def protectSalami(salami):\n",
        "  # TO DO\n",
        "  uniq = np.array([None]*len(salami))\n",
        "  repeated = np.array([None]*len(salami))\n",
        "\n",
        "  j = 0\n",
        "  for i in salami:\n",
        "    if i not in uniq:\n",
        "      uniq[j] = i\n",
        "      j+=1\n",
        "\n",
        "  a = 0\n",
        "  for k in uniq:\n",
        "    if k != None:\n",
        "      t = 0\n",
        "      for x in range(len(salami)):\n",
        "        if k == salami[x]:\n",
        "          t+=1\n",
        "      repeated[a] = t\n",
        "      a += 1\n",
        "\n",
        "  for x in repeated:\n",
        "    if x != None and x!= 1:\n",
        "      count =0\n",
        "      for c in range(len(repeated)):\n",
        "        if repeated[c] == x:\n",
        "          count += 1\n",
        "  if count >= 2:\n",
        "    return True\n",
        "  else:\n",
        "    return False\n",
        "\n",
        "\n",
        "print(\"///  Test 05: Protecc Salami  ///\")\n",
        "salami = np.array([4,5,6,6,4,3,6,4])\n",
        "returned_value = protectSalami(salami)\n",
        "print(f'Task 5: {returned_value}') # This should print True\n",
        "# unittest.output_test(returned_value, True)\n",
        "# salami = np.array([3,4,6,3,4,7,4,6,8,8,8,8,8,6,6])\n",
        "# returned_value = protectSalami(salami)\n",
        "# print(f'Task 5: {returned_value}') # This should print False\n",
        "# # unittest.output_test(returned_value, False)"
      ]
    },
    {
      "cell_type": "markdown",
      "metadata": {
        "id": "_6RT_GOabsDF"
      },
      "source": [
        "BONUS TASK (Ungraded)"
      ]
    },
    {
      "cell_type": "code",
      "execution_count": 44,
      "metadata": {
        "colab": {
          "base_uri": "https://localhost:8080/"
        },
        "id": "zmcpLGSLO8_R",
        "outputId": "0e996943-cfe1-4e4b-bb18-07d618a4d0d1"
      },
      "outputs": [
        {
          "name": "stdout",
          "output_type": "stream",
          "text": [
            "///  Test 06: Odd Even Wave  ///\n",
            "Task 6: [2 3 12 1 8 5]\n",
            "Not Accepted [Your output: [2 3 12 1 8 5]  |  Expected Output: [ 2  3 12  1  8  5]]\n",
            "Task 6: [45 78 23 84 41]\n",
            "Accepted\n"
          ]
        }
      ],
      "source": [
        "# Test 06: Odd Even Wave\n",
        "def waveYourFlag(arr):\n",
        "  # TO DO\n",
        "  new = np.array([None]*len(arr))\n",
        "  even = np.array([None]*len(arr))\n",
        "  odd = np.array([None]*len(arr))\n",
        "  i,e,o = 0,0,0\n",
        "\n",
        "  while i < len(arr):\n",
        "    if arr[i] % 2 == 0:\n",
        "      even[e] = arr[i]\n",
        "      e += 1\n",
        "    else:\n",
        "      odd[o] = arr[i]\n",
        "      o += 1\n",
        "    i += 1\n",
        "\n",
        "  new[0] = arr[0]\n",
        "  if new[0] % 2 ==0:\n",
        "    flag = 0\n",
        "    a = 1\n",
        "    b = 0\n",
        "  else:\n",
        "    flag = 1\n",
        "    b = 1\n",
        "    a = 0\n",
        "\n",
        "  for j in range(1,len(arr)):\n",
        "    if flag == 0:\n",
        "      if j % 2 != 0:\n",
        "        new[j] = odd[b]\n",
        "        b += 1\n",
        "      else:\n",
        "        new[j] = even[a]\n",
        "        a+=1\n",
        "    else:\n",
        "      if j % 2 == 0:\n",
        "        new[j] = odd[b]\n",
        "        b+=1\n",
        "      else:\n",
        "        new[j] = even[a]\n",
        "        a += 1\n",
        "\n",
        "  return new\n",
        "\n",
        "print(\"///  Test 06: Odd Even Wave  ///\")\n",
        "arr = np.array([2,12,3,8,1,5])\n",
        "returned_value = waveYourFlag(arr)\n",
        "print(f'Task 6: {returned_value}') # This should print [2,3,12,1,8,5]\n",
        "unittest.output_test(returned_value, np.array([2,3,12,1,8,5]))\n",
        "\n",
        "arr = np.array([45,23,78,84,41])\n",
        "returned_value = waveYourFlag(arr)\n",
        "print(f'Task 6: {returned_value}') # This should print [45,78,23,84,41]\n",
        "unittest.output_test(returned_value, np.array([45,78,23,84,41]))"
      ]
    },
    {
      "cell_type": "code",
      "execution_count": 45,
      "metadata": {
        "colab": {
          "base_uri": "https://localhost:8080/"
        },
        "id": "lVKhgS53Zbaj",
        "outputId": "80fa4c89-acdc-4d0f-ca4e-233ae08dea98"
      },
      "outputs": [
        {
          "name": "stdout",
          "output_type": "stream",
          "text": [
            "10.181818181818182\n",
            "7.88873518741394\n",
            "[25 -5]\n"
          ]
        }
      ],
      "source": [
        "#part2Task\n",
        "import numpy as np\n",
        "def meanvalue(arr):\n",
        "  count=0\n",
        "  sum=0\n",
        "  for i in range(len(arr)):\n",
        "    count+=1\n",
        "    sum += arr[i]\n",
        "    mean=sum/count\n",
        "  return mean\n",
        "\n",
        "def deviation(arr):\n",
        "  mean= meanvalue(arr)\n",
        "  val=0\n",
        "\n",
        "  for i in range(len(arr)):\n",
        "    val+= (arr[i]-mean)**2\n",
        "    deviation= (val/(mean))**(1/2)\n",
        "  return deviation\n",
        "\n",
        "def newarr(arr):\n",
        "  mean= meanvalue(arr)\n",
        "  dev= deviation(arr)\n",
        "  x1=0\n",
        "  x2=0\n",
        "  for i in range(len(arr)):\n",
        "    x1= mean+(1.5*dev)\n",
        "    x2= mean-(1.5*dev)\n",
        "\n",
        "  arr2= np.array([0]*len(arr))\n",
        "  j=0\n",
        "  count2=0\n",
        "  k=0\n",
        "  for i in range(len(arr)):\n",
        "    if x2> arr[i] or arr[i]> x1:\n",
        "      arr2[j]=arr[i]\n",
        "      j+=1\n",
        "      count2+=1\n",
        "\n",
        "  arr3= np.array([0]*count2)\n",
        "\n",
        "  for i in range(0,count2):\n",
        "    arr3[k]=arr2[i]\n",
        "    k+=1\n",
        "\n",
        "  return arr3\n",
        "\n",
        "arr= [10, 8, 13, 9, 14, 25, -5, 20, 7, 7, 4]\n",
        "print(meanvalue(arr))\n",
        "print(deviation(arr))\n",
        "print((newarr(arr)))"
      ]
    }
  ],
  "metadata": {
    "colab": {
      "provenance": []
    },
    "kernelspec": {
      "display_name": "Python 3",
      "name": "python3"
    },
    "language_info": {
      "codemirror_mode": {
        "name": "ipython",
        "version": 3
      },
      "file_extension": ".py",
      "mimetype": "text/x-python",
      "name": "python",
      "nbconvert_exporter": "python",
      "pygments_lexer": "ipython3",
      "version": "3.11.5"
    }
  },
  "nbformat": 4,
  "nbformat_minor": 0
}
