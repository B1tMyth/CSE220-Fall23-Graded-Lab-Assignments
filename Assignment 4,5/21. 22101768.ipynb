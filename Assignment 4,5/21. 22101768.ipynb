{
  "cells": [
    {
      "cell_type": "markdown",
      "metadata": {},
      "source": [
        "#### Plagiarized with ID: 22101733"
      ]
    },
    {
      "cell_type": "code",
      "execution_count": null,
      "metadata": {
        "id": "ysXTF9OXbbvD"
      },
      "outputs": [],
      "source": [
        "import numpy as np"
      ]
    },
    {
      "cell_type": "code",
      "execution_count": 1,
      "metadata": {
        "colab": {
          "base_uri": "https://localhost:8080/",
          "height": 570
        },
        "id": "2b-Yn61hbhB6",
        "outputId": "d47d4b74-91c0-4166-bc8d-22f483b2900e"
      },
      "outputs": [
        {
          "name": "stdout",
          "output_type": "stream",
          "text": [
            "Choose an Option: \n",
            "1. RegisterPatient \n",
            "2. ServePatient \n",
            "3. CancelAll \n",
            "4. CanDoctorGoHome \n",
            "5. ShowAllPatient \n",
            "6.Reverse The Line \n",
            "7. Exit \n",
            "------------------\n"
          ]
        },
        {
          "ename": "KeyboardInterrupt",
          "evalue": "ignored",
          "output_type": "error",
          "traceback": [
            "\u001b[0;31m---------------------------------------------------------------------------\u001b[0m",
            "\u001b[0;31mKeyboardInterrupt\u001b[0m                         Traceback (most recent call last)",
            "\u001b[0;32m<ipython-input-1-d45aff8bd5de>\u001b[0m in \u001b[0;36m<cell line: 69>\u001b[0;34m()\u001b[0m\n\u001b[1;32m     69\u001b[0m \u001b[0;32mwhile\u001b[0m  \u001b[0mflag\u001b[0m \u001b[0;34m!=\u001b[0m \u001b[0;32mFalse\u001b[0m\u001b[0;34m:\u001b[0m\u001b[0;34m\u001b[0m\u001b[0;34m\u001b[0m\u001b[0m\n\u001b[1;32m     70\u001b[0m   \u001b[0mprint\u001b[0m\u001b[0;34m(\u001b[0m\u001b[0;34mf\"Choose an Option: \\n1. RegisterPatient \\n2. ServePatient \\n3. CancelAll \\n4. CanDoctorGoHome \\n5. ShowAllPatient \\n6.Reverse The Line \\n7. Exit \\n------------------\"\u001b[0m\u001b[0;34m)\u001b[0m\u001b[0;34m\u001b[0m\u001b[0;34m\u001b[0m\u001b[0m\n\u001b[0;32m---> 71\u001b[0;31m   \u001b[0minp\u001b[0m \u001b[0;34m=\u001b[0m \u001b[0mint\u001b[0m\u001b[0;34m(\u001b[0m\u001b[0minput\u001b[0m\u001b[0;34m(\u001b[0m\u001b[0;34m\"Enter your choice: \"\u001b[0m\u001b[0;34m)\u001b[0m\u001b[0;34m)\u001b[0m\u001b[0;34m\u001b[0m\u001b[0;34m\u001b[0m\u001b[0m\n\u001b[0m\u001b[1;32m     72\u001b[0m   \u001b[0;32mif\u001b[0m \u001b[0minp\u001b[0m \u001b[0;34m==\u001b[0m \u001b[0;36m6\u001b[0m\u001b[0;34m:\u001b[0m\u001b[0;34m\u001b[0m\u001b[0;34m\u001b[0m\u001b[0m\n\u001b[1;32m     73\u001b[0m     \u001b[0mprogram\u001b[0m\u001b[0;34m.\u001b[0m\u001b[0mexit\u001b[0m\u001b[0;34m(\u001b[0m\u001b[0;34m)\u001b[0m\u001b[0;34m\u001b[0m\u001b[0;34m\u001b[0m\u001b[0m\n",
            "\u001b[0;32m/usr/local/lib/python3.10/dist-packages/ipykernel/kernelbase.py\u001b[0m in \u001b[0;36mraw_input\u001b[0;34m(self, prompt)\u001b[0m\n\u001b[1;32m    849\u001b[0m                 \u001b[0;34m\"raw_input was called, but this frontend does not support input requests.\"\u001b[0m\u001b[0;34m\u001b[0m\u001b[0;34m\u001b[0m\u001b[0m\n\u001b[1;32m    850\u001b[0m             )\n\u001b[0;32m--> 851\u001b[0;31m         return self._input_request(str(prompt),\n\u001b[0m\u001b[1;32m    852\u001b[0m             \u001b[0mself\u001b[0m\u001b[0;34m.\u001b[0m\u001b[0m_parent_ident\u001b[0m\u001b[0;34m,\u001b[0m\u001b[0;34m\u001b[0m\u001b[0;34m\u001b[0m\u001b[0m\n\u001b[1;32m    853\u001b[0m             \u001b[0mself\u001b[0m\u001b[0;34m.\u001b[0m\u001b[0m_parent_header\u001b[0m\u001b[0;34m,\u001b[0m\u001b[0;34m\u001b[0m\u001b[0;34m\u001b[0m\u001b[0m\n",
            "\u001b[0;32m/usr/local/lib/python3.10/dist-packages/ipykernel/kernelbase.py\u001b[0m in \u001b[0;36m_input_request\u001b[0;34m(self, prompt, ident, parent, password)\u001b[0m\n\u001b[1;32m    893\u001b[0m             \u001b[0;32mexcept\u001b[0m \u001b[0mKeyboardInterrupt\u001b[0m\u001b[0;34m:\u001b[0m\u001b[0;34m\u001b[0m\u001b[0;34m\u001b[0m\u001b[0m\n\u001b[1;32m    894\u001b[0m                 \u001b[0;31m# re-raise KeyboardInterrupt, to truncate traceback\u001b[0m\u001b[0;34m\u001b[0m\u001b[0;34m\u001b[0m\u001b[0m\n\u001b[0;32m--> 895\u001b[0;31m                 \u001b[0;32mraise\u001b[0m \u001b[0mKeyboardInterrupt\u001b[0m\u001b[0;34m(\u001b[0m\u001b[0;34m\"Interrupted by user\"\u001b[0m\u001b[0;34m)\u001b[0m \u001b[0;32mfrom\u001b[0m \u001b[0;32mNone\u001b[0m\u001b[0;34m\u001b[0m\u001b[0;34m\u001b[0m\u001b[0m\n\u001b[0m\u001b[1;32m    896\u001b[0m             \u001b[0;32mexcept\u001b[0m \u001b[0mException\u001b[0m \u001b[0;32mas\u001b[0m \u001b[0me\u001b[0m\u001b[0;34m:\u001b[0m\u001b[0;34m\u001b[0m\u001b[0;34m\u001b[0m\u001b[0m\n\u001b[1;32m    897\u001b[0m                 \u001b[0mself\u001b[0m\u001b[0;34m.\u001b[0m\u001b[0mlog\u001b[0m\u001b[0;34m.\u001b[0m\u001b[0mwarning\u001b[0m\u001b[0;34m(\u001b[0m\u001b[0;34m\"Invalid Message:\"\u001b[0m\u001b[0;34m,\u001b[0m \u001b[0mexc_info\u001b[0m\u001b[0;34m=\u001b[0m\u001b[0;32mTrue\u001b[0m\u001b[0;34m)\u001b[0m\u001b[0;34m\u001b[0m\u001b[0;34m\u001b[0m\u001b[0m\n",
            "\u001b[0;31mKeyboardInterrupt\u001b[0m: Interrupted by user"
          ]
        }
      ],
      "source": [
        "class Patient:\n",
        "  def __init__(self, id,name, age,bloodgroup, next, prev):\n",
        "    self.id = id\n",
        "    self.name = name\n",
        "    self.age = age\n",
        "    self.bloodgroup = bloodgroup\n",
        "    self.next = next\n",
        "    self.prev = prev\n",
        "\n",
        "class WRM:\n",
        "  def __init__(self):\n",
        "    self.head = Patient(None,None,None,None,None,None)\n",
        "    self.head.next = self.head.prev = self.head\n",
        "    self.tail = self.head\n",
        "  def RegisterPatient(self,id, name, age, bloodgroup):\n",
        "    n1= Patient(id, name, age, bloodgroup,None,None)\n",
        "    self.tail.next = n1\n",
        "    n1.prev = self.tail\n",
        "    self.tail = n1\n",
        "    self.tail.next = self.head\n",
        "    self.head.prev = self.tail\n",
        "    print(\"Success registering patient\")\n",
        "\n",
        "  def ServePatient(self):\n",
        "    x = self.head.next\n",
        "    if x == self.head:\n",
        "      print(\"No patient available\")\n",
        "    else:\n",
        "      print(f\"{x.name} is served.\")\n",
        "      x2 = x.next\n",
        "      self.head.next = x2\n",
        "      x2.prev = self.head\n",
        "\n",
        "  def CancelAll(self):\n",
        "    self.head.next= self.head.prev = self.head\n",
        "    n3 = self.head.next\n",
        "    if n3 == self.head:\n",
        "      print(f\"Success cancelling all appointments.\")\n",
        "\n",
        "  def CanDoctorGoHome(self):\n",
        "    flag = True\n",
        "    n3 = self.head.next\n",
        "    if n3 == self.head:\n",
        "     flag = True\n",
        "     print(\"Yes\")\n",
        "    else:\n",
        "      flag = False\n",
        "      print(\"No\")\n",
        "\n",
        "  def ShowAllPatient(self):\n",
        "    temp = self.head.next\n",
        "    if temp == self.head:\n",
        "      print(\"No patient available\")\n",
        "    else:\n",
        "      while temp != self.head:\n",
        "        print(temp.nextm, end =\" \")\n",
        "        temp= temp.next\n",
        "      print()\n",
        "\n",
        "  def exit(self):\n",
        "    self.head = self.head.next = self.head.prev\n",
        "    print(\"Thanks for using waiting room management system\")\n",
        "    \n",
        "  def ReverseTheLine(self):\n",
        "    current = self.tail\n",
        "    while current != self.head:\n",
        "        temp = current.next\n",
        "        current.next = current.prev\n",
        "        current.prev = temp\n",
        "        current = current.next\n",
        "    self.head.next, self.head.prev, self.tail = self.tail, self.head.next, self.head\n",
        "\n",
        "program = WRM()\n",
        "flag = True\n",
        "while  flag != False:\n",
        "  print(f\"Choose an Option: \\n1. RegisterPatient \\n2. ServePatient \\n3. CancelAll \\n4. CanDoctorGoHome \\n5. ShowAllPatient \\n6.Reverse The Line \\n7. Exit \\n------------------\")\n",
        "  inp = int(input(\"Enter your choice: \"))\n",
        "  if inp == 6:\n",
        "    program.exit()\n",
        "    flag = False\n",
        "  else:\n",
        "    if inp == 1:\n",
        "      id = int(input(\"Enter ID: \"))\n",
        "      name = input(\"Enter Name: \")\n",
        "      age= int(input(\"Enter Age: \"))\n",
        "      blood = input(\"Enter Bloodgroup: \")\n",
        "      program.RegisterPatient(id,name,age,blood)\n",
        "    if inp == 2:\n",
        "      program.ServePatient()\n",
        "    if inp==3:\n",
        "      program.CancelAll()\n",
        "    if inp == 4:\n",
        "      program.CanDoctorGoHome()\n",
        "    if inp == 5:\n",
        "      program.ShowAllPatient()\n"
      ]
    },
    {
      "cell_type": "code",
      "execution_count": null,
      "metadata": {
        "id": "UZAOR1tybp7G"
      },
      "outputs": [],
      "source": []
    }
  ],
  "metadata": {
    "colab": {
      "provenance": []
    },
    "kernelspec": {
      "display_name": "Python 3",
      "name": "python3"
    },
    "language_info": {
      "name": "python"
    }
  },
  "nbformat": 4,
  "nbformat_minor": 0
}
